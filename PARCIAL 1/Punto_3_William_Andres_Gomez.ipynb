{
  "nbformat": 4,
  "nbformat_minor": 0,
  "metadata": {
    "colab": {
      "provenance": []
    },
    "kernelspec": {
      "name": "ir",
      "display_name": "R"
    },
    "language_info": {
      "name": "R"
    }
  },
  "cells": [
    {
      "cell_type": "markdown",
      "source": [
        "Parcial 1: Fundamentos de Aprendizaje de Maquina\n",
        "\n",
        "Autor: William Andrés Gómez Roa\n",
        "\n",
        "06/09/2024"
      ],
      "metadata": {
        "id": "5OUwQdrU19Xo"
      }
    },
    {
      "cell_type": "markdown",
      "source": [
        "# **ANÁLISIS DE REGRESIÓN / REGULARIZACIÓN**\n",
        "\n",
        "**Precios de diamantes**\n",
        "\n",
        "**Objetivo:** Predicción del precio de un diamante con base en atributos físicos del mismo.\n",
        "\n",
        "Dataset: Diamantes.csv (seleccione 10.000 registros aleatoriamente)\n",
        "\n",
        "Descripción de los campos:\n",
        "1. **Indice**: número consecutivo\n",
        "2. **Precio**: precio en dólares estadounidenses\n",
        "3. **Quilates**: peso del diamante\n",
        "4. **Talla**: calidad de la talla (0: regular, 1: buena, 2: ideal, 3: superior, 4: muy buena)\n",
        "5. **Color**: color del diamante (0: D, 1: E, 2: F, 3: G, 4: H, 5: I, 6: J)\n",
        "6. **Claridad**: medida de la claridad del diamante (0: I1, 1: IF, 2: SI1, 3: SI2, 4: VS1, 5: VS2, 6: VVS1, 7: VVS2)\n",
        "7. **Profundidad**: porcentaje de profundidad total\n",
        "8. **Tabla**: anchura de la parte superior del diamante en relación con el punto más ancho\n",
        "9. **X**: longitud en mm\n",
        "10. **Y**: anchura en mm\n",
        "11. **Z**: profundidad en mm\n",
        "\n",
        "**Preguntas:**\n",
        "\n",
        "1. (6) Desarrolle un modelo de regresión lineal múltiple – utilizando el método de stepwise – para estimar el precio de un diamante. Evalúe su desempeño.\n",
        "2. (12) Desarrolle un modelo de regresión lineal múltiple usando regularización ELASTIC NET. Optimice los parámetros correspondientes. Evalúe su desempeño. Escriba la ecuación final de la función objetivo a minimizar (con los parámetros optimizados). ¿Tiene un mejor desempeño que el modelo sin regularización?"
      ],
      "metadata": {
        "id": "0JKuhws-m5_x"
      }
    },
    {
      "cell_type": "markdown",
      "source": [
        "# **SOLUCION**"
      ],
      "metadata": {
        "id": "0hRoEwdPm6GS"
      }
    },
    {
      "cell_type": "code",
      "execution_count": 8,
      "metadata": {
        "id": "YGWjP_XzmzrR"
      },
      "outputs": [],
      "source": [
        "SEED <- 837"
      ]
    },
    {
      "cell_type": "code",
      "source": [
        "diamante<-read.csv(\"/content/Diamantes.csv\")\n",
        "str(diamante)"
      ],
      "metadata": {
        "colab": {
          "base_uri": "https://localhost:8080/"
        },
        "id": "eYsMUqlRnoEt",
        "outputId": "03a6c8ac-471d-49d7-c3c2-92bc75b9123b"
      },
      "execution_count": 5,
      "outputs": [
        {
          "output_type": "stream",
          "name": "stdout",
          "text": [
            "'data.frame':\t53940 obs. of  11 variables:\n",
            " $ indice     : int  0 1 2 3 4 5 6 7 8 9 ...\n",
            " $ quilates   : num  0.23 0.21 0.23 0.29 0.31 0.24 0.24 0.26 0.22 0.23 ...\n",
            " $ talla      : int  2 3 1 3 1 4 4 4 0 4 ...\n",
            " $ color      : int  1 1 1 5 6 6 5 4 1 4 ...\n",
            " $ claridad   : int  3 2 4 5 3 7 6 2 5 4 ...\n",
            " $ profundidad: num  61.5 59.8 56.9 62.4 63.3 62.8 62.3 61.9 65.1 59.4 ...\n",
            " $ tabla      : num  55 61 65 58 58 57 57 55 61 61 ...\n",
            " $ precio     : int  326 326 327 334 335 336 336 337 337 338 ...\n",
            " $ x          : num  3.95 3.89 4.05 4.2 4.34 3.94 3.95 4.07 3.87 4 ...\n",
            " $ y          : num  3.98 3.84 4.07 4.23 4.35 3.96 3.98 4.11 3.78 4.05 ...\n",
            " $ z          : num  2.43 2.31 2.31 2.63 2.75 2.48 2.47 2.53 2.49 2.39 ...\n"
          ]
        }
      ]
    },
    {
      "cell_type": "code",
      "source": [
        "diamante <-diamante[,-1]\n",
        "str(diamante)"
      ],
      "metadata": {
        "colab": {
          "base_uri": "https://localhost:8080/"
        },
        "id": "G8I-o8fcoOA0",
        "outputId": "beb02f35-62a8-4a17-a76f-9584c773ad1a"
      },
      "execution_count": 6,
      "outputs": [
        {
          "output_type": "stream",
          "name": "stdout",
          "text": [
            "'data.frame':\t53940 obs. of  10 variables:\n",
            " $ quilates   : num  0.23 0.21 0.23 0.29 0.31 0.24 0.24 0.26 0.22 0.23 ...\n",
            " $ talla      : int  2 3 1 3 1 4 4 4 0 4 ...\n",
            " $ color      : int  1 1 1 5 6 6 5 4 1 4 ...\n",
            " $ claridad   : int  3 2 4 5 3 7 6 2 5 4 ...\n",
            " $ profundidad: num  61.5 59.8 56.9 62.4 63.3 62.8 62.3 61.9 65.1 59.4 ...\n",
            " $ tabla      : num  55 61 65 58 58 57 57 55 61 61 ...\n",
            " $ precio     : int  326 326 327 334 335 336 336 337 337 338 ...\n",
            " $ x          : num  3.95 3.89 4.05 4.2 4.34 3.94 3.95 4.07 3.87 4 ...\n",
            " $ y          : num  3.98 3.84 4.07 4.23 4.35 3.96 3.98 4.11 3.78 4.05 ...\n",
            " $ z          : num  2.43 2.31 2.31 2.63 2.75 2.48 2.47 2.53 2.49 2.39 ...\n"
          ]
        }
      ]
    },
    {
      "cell_type": "code",
      "source": [
        "set.seed(SEED)\n",
        "sample <- sample.int(nrow(diamante), floor(.75*nrow(diamante)))\n",
        "diamante.train <- diamante[sample, ]\n",
        "diamante.test <- diamante[-sample, ]"
      ],
      "metadata": {
        "id": "J-EODGH6oN-2"
      },
      "execution_count": 9,
      "outputs": []
    },
    {
      "cell_type": "markdown",
      "source": [
        "### **MODELO : REGRESION LINEAL MULTIPLE**"
      ],
      "metadata": {
        "id": "3i0k104Qo-L0"
      }
    },
    {
      "cell_type": "code",
      "source": [
        "modelo_simple<-lm(precio~.,data=diamante.train)\n",
        "summary(modelo_simple)"
      ],
      "metadata": {
        "colab": {
          "base_uri": "https://localhost:8080/",
          "height": 468
        },
        "id": "Lq7LKGNIo94T",
        "outputId": "9cf324b4-3241-4aed-b7c8-87d4cef17acd"
      },
      "execution_count": 11,
      "outputs": [
        {
          "output_type": "display_data",
          "data": {
            "text/plain": [
              "\n",
              "Call:\n",
              "lm(formula = precio ~ ., data = diamante.train)\n",
              "\n",
              "Residuals:\n",
              "     Min       1Q   Median       3Q      Max \n",
              "-17852.6   -651.8   -147.2    429.2  12563.2 \n",
              "\n",
              "Coefficients:\n",
              "             Estimate Std. Error t value Pr(>|t|)    \n",
              "(Intercept) 15095.492    470.576  32.079   <2e-16 ***\n",
              "quilates    10875.145     65.724 165.467   <2e-16 ***\n",
              "talla          56.543      6.730   8.402   <2e-16 ***\n",
              "color        -262.839      4.116 -63.855   <2e-16 ***\n",
              "claridad      289.123      4.002  72.246   <2e-16 ***\n",
              "profundidad  -147.445      5.684 -25.939   <2e-16 ***\n",
              "tabla         -88.087      3.246 -27.136   <2e-16 ***\n",
              "x           -2197.414    105.230 -20.882   <2e-16 ***\n",
              "y            1138.733    104.789  10.867   <2e-16 ***\n",
              "z             -52.381     41.370  -1.266    0.205    \n",
              "---\n",
              "Signif. codes:  0 ‘***’ 0.001 ‘**’ 0.01 ‘*’ 0.05 ‘.’ 0.1 ‘ ’ 1\n",
              "\n",
              "Residual standard error: 1344 on 40445 degrees of freedom\n",
              "Multiple R-squared:  0.8865,\tAdjusted R-squared:  0.8864 \n",
              "F-statistic: 3.509e+04 on 9 and 40445 DF,  p-value: < 2.2e-16\n"
            ]
          },
          "metadata": {}
        }
      ]
    },
    {
      "cell_type": "markdown",
      "source": [
        "Podemos interpretar este resultado como que todos los parametros del modelo de regresion multiple, incluyendo el intercepto, son altamente significativos en el modelo, a excepción de la variable 'z' que no es significativa o no aporta ninguna información que permita decidir sobre la variable 'income'.\n",
        "\n",
        "**R^2 ajustado : 0.8864**"
      ],
      "metadata": {
        "id": "9R0kPsWrpXkQ"
      }
    },
    {
      "cell_type": "code",
      "source": [
        "modelo_step<-step(modelo_simple,direction=\"both\",trace=0)\n",
        "summary(modelo_step)"
      ],
      "metadata": {
        "colab": {
          "base_uri": "https://localhost:8080/",
          "height": 468
        },
        "id": "b21mnRibprfk",
        "outputId": "65faa0ac-08aa-4a4d-a763-a18ab03a1952"
      },
      "execution_count": 12,
      "outputs": [
        {
          "output_type": "display_data",
          "data": {
            "text/plain": [
              "\n",
              "Call:\n",
              "lm(formula = precio ~ quilates + talla + color + claridad + profundidad + \n",
              "    tabla + x + y, data = diamante.train)\n",
              "\n",
              "Residuals:\n",
              "     Min       1Q   Median       3Q      Max \n",
              "-17863.6   -651.8   -147.1    429.2  12563.8 \n",
              "\n",
              "Coefficients:\n",
              "             Estimate Std. Error t value Pr(>|t|)    \n",
              "(Intercept) 15285.296    446.065  34.267   <2e-16 ***\n",
              "quilates    10875.474     65.724 165.472   <2e-16 ***\n",
              "talla          56.486      6.730   8.394   <2e-16 ***\n",
              "color        -262.816      4.116 -63.849   <2e-16 ***\n",
              "claridad      289.102      4.002  72.241   <2e-16 ***\n",
              "profundidad  -150.547      5.129 -29.351   <2e-16 ***\n",
              "tabla         -88.056      3.246 -27.127   <2e-16 ***\n",
              "x           -2216.308    104.167 -21.276   <2e-16 ***\n",
              "y            1125.262    104.248  10.794   <2e-16 ***\n",
              "---\n",
              "Signif. codes:  0 ‘***’ 0.001 ‘**’ 0.01 ‘*’ 0.05 ‘.’ 0.1 ‘ ’ 1\n",
              "\n",
              "Residual standard error: 1344 on 40446 degrees of freedom\n",
              "Multiple R-squared:  0.8865,\tAdjusted R-squared:  0.8864 \n",
              "F-statistic: 3.947e+04 on 8 and 40446 DF,  p-value: < 2.2e-16\n"
            ]
          },
          "metadata": {}
        }
      ]
    },
    {
      "cell_type": "markdown",
      "source": [
        "**R^2 ajustado : 0.8864**"
      ],
      "metadata": {
        "id": "_Ql6QQk-23MR"
      }
    },
    {
      "cell_type": "markdown",
      "source": [
        "### EVALUANDO EL MODELO STEP"
      ],
      "metadata": {
        "id": "cSeLmfe5qlXm"
      }
    },
    {
      "cell_type": "code",
      "source": [
        "predicciones <- predict(modelo_step, newdata = diamante.test)\n",
        "comparacion <- data.frame(Real = diamante.test$precio, Predicción = predicciones)\n",
        "#head(comparacion,10)"
      ],
      "metadata": {
        "id": "0DfTLQoXqspI"
      },
      "execution_count": 60,
      "outputs": []
    },
    {
      "cell_type": "code",
      "source": [
        "if (!require(Metrics)) install.packages(\"Metrics\")\n",
        "library(Metrics)"
      ],
      "metadata": {
        "colab": {
          "base_uri": "https://localhost:8080/"
        },
        "id": "fVu42kWjprdT",
        "outputId": "012c279e-80d5-4022-d283-c64a377b377e"
      },
      "execution_count": 13,
      "outputs": [
        {
          "output_type": "stream",
          "name": "stderr",
          "text": [
            "Loading required package: Metrics\n",
            "\n",
            "Warning message in library(package, lib.loc = lib.loc, character.only = TRUE, logical.return = TRUE, :\n",
            "“there is no package called ‘Metrics’”\n",
            "Installing package into ‘/usr/local/lib/R/site-library’\n",
            "(as ‘lib’ is unspecified)\n",
            "\n"
          ]
        }
      ]
    },
    {
      "cell_type": "code",
      "source": [
        "# Calcular el MSE, RMSE y MAE\n",
        "mse <- mse(comparacion$Real, comparacion$Predicción)\n",
        "rmse <- rmse(comparacion$Real, comparacion$Predicción)\n",
        "mae <- mae(comparacion$Real, comparacion$Predicción)\n",
        "\n",
        "print(paste(\"MSE:\", mse))\n",
        "print(paste(\"RMSE:\", rmse))\n",
        "print(paste(\"MAE:\", mae))"
      ],
      "metadata": {
        "colab": {
          "base_uri": "https://localhost:8080/"
        },
        "id": "uooGL_Elqo1H",
        "outputId": "d95a032f-5e2a-493e-fe35-9da810fe1c42"
      },
      "execution_count": 61,
      "outputs": [
        {
          "output_type": "stream",
          "name": "stdout",
          "text": [
            "[1] \"MSE: 2199723.88673233\"\n",
            "[1] \"RMSE: 1483.14661673495\"\n",
            "[1] \"MAE: 877.150890761825\"\n"
          ]
        }
      ]
    },
    {
      "cell_type": "markdown",
      "source": [
        "Podemos ver que el error RMSE el cuál tiene las mismas unidades del precio del diamante es un error MUY grande de 1483.14 . Por lo que el modelo no esta haciendo un buen trabajo en predecir el precio aproximado de los diamantes.\n",
        "\n",
        "- El modelo de regresion lineal tienen los supuestos de independencia entre las variables explicativas.\n",
        "- El modelo de regresion lineal tiene el supuesto de normalidad de los residuales\n",
        "- El modelo de regresion lineal tiene el supuesto de Homocedasticidad\n",
        "\n",
        "Seguramente los supuestos no estan cumpliendose y esto afecta los resultados de este modelo. Por lo que es necesario regularización.\n",
        "\n",
        "**\"RMSE: 1483.14661673495\"** y **R^2 ajustado : 0.8864**"
      ],
      "metadata": {
        "id": "wLWAhuE4rewu"
      }
    },
    {
      "cell_type": "markdown",
      "source": [
        "### **MODELO ELASTIC-NET**"
      ],
      "metadata": {
        "id": "j2YmMuRFrs0i"
      }
    },
    {
      "cell_type": "code",
      "source": [
        "if (!require(glmnet)) install.packages(\"glmnet\")\n",
        "library(glmnet)"
      ],
      "metadata": {
        "colab": {
          "base_uri": "https://localhost:8080/"
        },
        "id": "O0ST3zVirzqj",
        "outputId": "a1c1f9df-c90c-46bf-c6a6-f307b736aafb"
      },
      "execution_count": 21,
      "outputs": [
        {
          "output_type": "stream",
          "name": "stderr",
          "text": [
            "Loading required package: glmnet\n",
            "\n",
            "Warning message in library(package, lib.loc = lib.loc, character.only = TRUE, logical.return = TRUE, :\n",
            "“there is no package called ‘glmnet’”\n",
            "Installing package into ‘/usr/local/lib/R/site-library’\n",
            "(as ‘lib’ is unspecified)\n",
            "\n",
            "also installing the dependencies ‘iterators’, ‘foreach’, ‘shape’, ‘RcppEigen’\n",
            "\n",
            "\n",
            "Loading required package: Matrix\n",
            "\n",
            "Loaded glmnet 4.1-8\n",
            "\n"
          ]
        }
      ]
    },
    {
      "cell_type": "code",
      "source": [
        "# Para usar la librería glmnet es necesario crear matrices separadas para los predictores y la variable pendiente\n",
        "predic.train <- as.matrix(diamante.train[, -which(names(diamante.train) == \"precio\")])\n",
        "precio.train <- as.matrix(diamante.train$precio)\n",
        "\n",
        "predic.test <- as.matrix(diamante.test[, -which(names(diamante.test) == \"precio\")])\n",
        "precio.test <- as.matrix(diamante.test$precio)"
      ],
      "metadata": {
        "id": "UpYhp38dr0A-"
      },
      "execution_count": 31,
      "outputs": []
    },
    {
      "cell_type": "markdown",
      "source": [
        "### VALIDACION CRUZADA : λ : ELASTIC-NET"
      ],
      "metadata": {
        "id": "gEZqmX4j1Ieg"
      }
    },
    {
      "cell_type": "code",
      "source": [
        "# aqui hago redes elasticas de 0.1 a 0.9\n",
        "for (i in 1:10){\n",
        "  assign(paste(\"found\", i, sep=\"\"), cv.glmnet(predic.train, precio.train, nfolds=5,\n",
        "                                              alpha=i/10,))}"
      ],
      "metadata": {
        "id": "NXpaRpktrz-d"
      },
      "execution_count": 23,
      "outputs": []
    },
    {
      "cell_type": "code",
      "source": [
        "# Extraer los valores mínimos de cvm para cada modelo\n",
        "min_cvm_values <- sapply(1:10, function(i) min(get(paste(\"found\", i, sep=\"\"))$cvm))\n",
        "# Crear una tabla con los resultados\n",
        "results_table <- data.frame(\n",
        "  Model = paste(\"found\", 1:10, sep=\"\"),\n",
        "  Alpha = seq(0.1, 1.0, by=0.1),\n",
        "  Min_CVM = min_cvm_values\n",
        ")\n",
        "\n",
        "# Mostrar la tabla\n",
        "print(results_table)"
      ],
      "metadata": {
        "colab": {
          "base_uri": "https://localhost:8080/"
        },
        "id": "mSt5l9ketgRs",
        "outputId": "8fe2e59e-090d-47d6-8b83-da54d43161cf"
      },
      "execution_count": 24,
      "outputs": [
        {
          "output_type": "stream",
          "name": "stdout",
          "text": [
            "     Model Alpha Min_CVM\n",
            "1   found1   0.1 1815574\n",
            "2   found2   0.2 1814493\n",
            "3   found3   0.3 1814710\n",
            "4   found4   0.4 1815076\n",
            "5   found5   0.5 1814774\n",
            "6   found6   0.6 1813743\n",
            "7   found7   0.7 1814574\n",
            "8   found8   0.8 1814901\n",
            "9   found9   0.9 1815322\n",
            "10 found10   1.0 1814474\n"
          ]
        }
      ]
    },
    {
      "cell_type": "markdown",
      "source": [
        "Podemos observar como $λ=0.6$ arroja el valor minimo de 1'813.743"
      ],
      "metadata": {
        "id": "WJT2zEs2toer"
      }
    },
    {
      "cell_type": "markdown",
      "source": [
        "### MODELO : ELASTIC NET"
      ],
      "metadata": {
        "id": "DnCZc3lbuOX5"
      }
    },
    {
      "cell_type": "code",
      "source": [
        "elastic6<-glmnet(predic.train,precio.train,alpha = 0.6)\n",
        "coef(elastic6,s=found6$lambda.min)"
      ],
      "metadata": {
        "colab": {
          "base_uri": "https://localhost:8080/",
          "height": 225
        },
        "id": "alwdFto1ueZC",
        "outputId": "c7abe92f-d1d7-453f-bcaf-7ddec5837f48"
      },
      "execution_count": 68,
      "outputs": [
        {
          "output_type": "display_data",
          "data": {
            "text/plain": [
              "10 x 1 sparse Matrix of class \"dgCMatrix\"\n",
              "                     s1\n",
              "(Intercept) 15056.60222\n",
              "quilates    10792.28971\n",
              "talla          60.38648\n",
              "color        -262.05063\n",
              "claridad      289.95333\n",
              "profundidad  -146.80484\n",
              "tabla         -90.24704\n",
              "x           -1549.71204\n",
              "y             528.53067\n",
              "z             -63.46576"
            ]
          },
          "metadata": {}
        }
      ]
    },
    {
      "cell_type": "markdown",
      "source": [
        "## EVALUACION"
      ],
      "metadata": {
        "id": "qk3f-9dRuvUj"
      }
    },
    {
      "cell_type": "code",
      "source": [
        "predicciones <-predict.glmnet(elastic6, predic.test, s=elastic6$lambda.min)"
      ],
      "metadata": {
        "id": "XFK3BobMuw8L"
      },
      "execution_count": 74,
      "outputs": []
    },
    {
      "cell_type": "code",
      "source": [
        "#calcular el RMSE\n",
        "erroreselastic <- sqrt(mean((predicciones - precio.test)^2))\n",
        "erroreselastic"
      ],
      "metadata": {
        "colab": {
          "base_uri": "https://localhost:8080/",
          "height": 34
        },
        "id": "wFQNtZnNvSnT",
        "outputId": "8ce6914f-033f-4c1d-ce8d-a6aa90e7b3c5"
      },
      "execution_count": 75,
      "outputs": [
        {
          "output_type": "display_data",
          "data": {
            "text/html": [
              "1766.85664957089"
            ],
            "text/markdown": "1766.85664957089",
            "text/latex": "1766.85664957089",
            "text/plain": [
              "[1] 1766.857"
            ]
          },
          "metadata": {}
        }
      ]
    },
    {
      "cell_type": "markdown",
      "source": [
        "### ECUACION FINAL CON LOS PARAMETROS OPTIMIZADOS:\n",
        "\n",
        "Precio= 15056.60222 + 10792.28971⋅**quilates** + 60.38648⋅**talla** − 262.05063⋅**color** + 289.95333⋅**claridad** − 146.80484⋅**profundidad** − 90.24704⋅**tabla** − 1549.71204⋅**x** + 528.53067⋅**y** − 63.46576⋅**z**"
      ],
      "metadata": {
        "id": "6Wz20IJtv5iX"
      }
    },
    {
      "cell_type": "markdown",
      "source": [
        "# ¿Tiene un mejor desempeño que el modelo sin regularización?\n",
        "No.\n",
        "\n",
        "Segun el modelo step el RMSE era de 1483.14661673495. Por otro lado, despues de hacer regularizacion el nuevo modelo tiene un RMSE de 1766.856, el cual es mucho mayor que el obtenido inicialmente.\n",
        "\n",
        "\n",
        "Indicando que la regularizacion ELASTIC NET con el $λ$ más optimo no está ayudando a disminuir el RMSE en la prediccion de los precios de los diamantes en el dataset de prueba."
      ],
      "metadata": {
        "id": "OHB12kXczdJI"
      }
    }
  ]
}