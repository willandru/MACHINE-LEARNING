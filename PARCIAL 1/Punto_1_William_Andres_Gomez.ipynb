{
  "nbformat": 4,
  "nbformat_minor": 0,
  "metadata": {
    "colab": {
      "provenance": []
    },
    "kernelspec": {
      "name": "ir",
      "display_name": "R"
    },
    "language_info": {
      "name": "R"
    }
  },
  "cells": [
    {
      "cell_type": "markdown",
      "source": [
        "Parcial 1: Fundamentos de Aprendizaje de Maquina\n",
        "\n",
        "Autor: William Andrés Gómez Roa\n",
        "\n",
        "06/09/2024"
      ],
      "metadata": {
        "id": "5zrQrnfJ2WpU"
      }
    },
    {
      "cell_type": "markdown",
      "source": [
        "# **K-NEIREST NEIGHBOR**\n",
        "\n",
        "**Objetivo:** Clasificación de los pacientes como pertenecientes a una de dos categorías: **Normal o Anormal (Hernia discal o Espondilolistesis)**.\n",
        "\n",
        "Dataset: Biomecánica-Ortopedia.csv\n",
        "\n",
        "Descripciones de los campos:\n",
        "\n",
        "Cada paciente está representado en el conjunto de datos por seis atributos biomecánicos derivados de la forma y orientación de la pelvis y la columna lumbar (cada uno es una columna):\n",
        "1. **pelvic_incidence**: incidencia pélvica\n",
        "2. **pelvic_tilt_numeric**: inclinación pélvica\n",
        "3. **lumbar_lordosis_angle**: ángulo de lordosis lumbar\n",
        "4. **sacral_slope**: inclinación sacra\n",
        "5. **pelvic_radius**: radio pélvico\n",
        "6. **degree_spondylolisthesis**: grado de espondilolistesis\n",
        "7. ***class***: clasificación del paciente"
      ],
      "metadata": {
        "id": "HdHCnF85RKf2"
      }
    },
    {
      "cell_type": "markdown",
      "source": [
        "**Preguntas:**\n",
        "1. (6) Encuentre el mejor valor de K desde el punto de vista de ACCURACY. Evalúe el desempeño del modelo con dicho valor.\n",
        "2. (7) Plantee un valor de K que lleve a un overfitting. Explique porqué se da el overfitting.\n",
        "3. (7) Plantee un valor de K que lleve a un underfitting. Explique porqué se da el underfitting."
      ],
      "metadata": {
        "id": "4VKoxpYRSDBO"
      }
    },
    {
      "cell_type": "markdown",
      "source": [
        "# **SOLUCION**"
      ],
      "metadata": {
        "id": "cN2ieFmhSK6l"
      }
    },
    {
      "cell_type": "code",
      "source": [
        "SEED <- 837"
      ],
      "metadata": {
        "id": "-FQq5UDsUNcd"
      },
      "execution_count": 44,
      "outputs": []
    },
    {
      "cell_type": "code",
      "execution_count": 43,
      "metadata": {
        "colab": {
          "base_uri": "https://localhost:8080/"
        },
        "id": "xvmKfrJ-Qmrv",
        "outputId": "682e256a-7be8-4556-d91d-926b6fe63a83"
      },
      "outputs": [
        {
          "output_type": "stream",
          "name": "stdout",
          "text": [
            "'data.frame':\t310 obs. of  7 variables:\n",
            " $ pelvic_incidence        : num  63 39.1 68.8 69.3 49.7 ...\n",
            " $ pelvic_tilt.numeric     : num  22.55 10.06 22.22 24.65 9.65 ...\n",
            " $ lumbar_lordosis_angle   : num  39.6 25 50.1 44.3 28.3 ...\n",
            " $ sacral_slope            : num  40.5 29 46.6 44.6 40.1 ...\n",
            " $ pelvic_radius           : num  98.7 114.4 106 101.9 108.2 ...\n",
            " $ degree_spondylolisthesis: num  -0.254 4.564 -3.53 11.212 7.919 ...\n",
            " $ class                   : chr  \"Abnormal\" \"Abnormal\" \"Abnormal\" \"Abnormal\" ...\n"
          ]
        }
      ],
      "source": [
        "biomecanica <- read.csv(\"/content/Biomecánica-Ortopedia.csv\")\n",
        "str(biomecanica)"
      ]
    },
    {
      "cell_type": "code",
      "source": [
        "biomecanica$class<- as.factor(biomecanica$class)"
      ],
      "metadata": {
        "id": "N6SaYk9LS19W"
      },
      "execution_count": 3,
      "outputs": []
    },
    {
      "cell_type": "markdown",
      "source": [
        "1.\n",
        "- Encuentre el mejor valor de K desde el punto de vista de ACCURACY. (encontrar el \"mejor\" valor de K implica hacer validacion cruzada)\n",
        "- Evalúe el desempeño del modelo con dicho valor."
      ],
      "metadata": {
        "id": "yosSSbBNTEtz"
      }
    },
    {
      "cell_type": "code",
      "source": [
        "str(biomecanica)"
      ],
      "metadata": {
        "colab": {
          "base_uri": "https://localhost:8080/"
        },
        "id": "rA_SgBcJTAQC",
        "outputId": "1c8b60a2-59f9-4b5e-a862-9bc116bb9690"
      },
      "execution_count": 4,
      "outputs": [
        {
          "output_type": "stream",
          "name": "stdout",
          "text": [
            "'data.frame':\t310 obs. of  7 variables:\n",
            " $ pelvic_incidence        : num  63 39.1 68.8 69.3 49.7 ...\n",
            " $ pelvic_tilt.numeric     : num  22.55 10.06 22.22 24.65 9.65 ...\n",
            " $ lumbar_lordosis_angle   : num  39.6 25 50.1 44.3 28.3 ...\n",
            " $ sacral_slope            : num  40.5 29 46.6 44.6 40.1 ...\n",
            " $ pelvic_radius           : num  98.7 114.4 106 101.9 108.2 ...\n",
            " $ degree_spondylolisthesis: num  -0.254 4.564 -3.53 11.212 7.919 ...\n",
            " $ class                   : Factor w/ 2 levels \"Abnormal\",\"Normal\": 1 1 1 1 1 1 1 1 1 1 ...\n"
          ]
        }
      ]
    },
    {
      "cell_type": "code",
      "source": [
        "# PREPROCESAMIENTO DEL DATASET\n",
        "\n",
        "  # - No se requieren variables dummies\n",
        "  # - Estandarizar?\n",
        "  # - Equilibrio en clases a predecir?\n"
      ],
      "metadata": {
        "id": "qWyYS75oTk-k"
      },
      "execution_count": null,
      "outputs": []
    },
    {
      "cell_type": "code",
      "source": [
        "# DATASET DE ENTRENAMIENTO & DATASET DE PRUEBA\n",
        "#Dataset de entrenamiento y prueba\n",
        "set.seed(SEED)\n",
        "#aquí se define el tamaño de la muestra, en este caso entrenamiento tendrá el 75% de los casos\n",
        "sample <- sample.int(nrow(biomecanica), floor(.75*nrow(biomecanica)))\n",
        "biomecanica.train <- biomecanica[sample, ]\n",
        "biomecanica.test <- biomecanica[-sample, ]\n",
        "\n",
        "biomecanica.train1 <- biomecanica.train\n",
        "biomecanica.test1 <- biomecanica.test"
      ],
      "metadata": {
        "id": "0PlILxq9Tk6t"
      },
      "execution_count": 6,
      "outputs": []
    },
    {
      "cell_type": "code",
      "source": [
        "str(biomecanica.train)"
      ],
      "metadata": {
        "colab": {
          "base_uri": "https://localhost:8080/"
        },
        "id": "XXd3gLubTkv0",
        "outputId": "989744f9-d478-43c8-cc01-f08e36c26872"
      },
      "execution_count": 7,
      "outputs": [
        {
          "output_type": "stream",
          "name": "stdout",
          "text": [
            "'data.frame':\t232 obs. of  7 variables:\n",
            " $ pelvic_incidence        : num  46.2 48 61.4 44.3 48.8 ...\n",
            " $ pelvic_tilt.numeric     : num  10.06 3.97 25.38 1.1 18.02 ...\n",
            " $ lumbar_lordosis_angle   : num  37 58.3 39.1 38 52 ...\n",
            " $ sacral_slope            : num  36.2 44.1 36 43.2 30.8 ...\n",
            " $ pelvic_radius           : num  128.1 125.4 103.4 98.3 139.2 ...\n",
            " $ degree_spondylolisthesis: num  -5.1 35 21.8 23.9 10.4 ...\n",
            " $ class                   : Factor w/ 2 levels \"Abnormal\",\"Normal\": 2 1 1 1 2 2 2 1 1 1 ...\n"
          ]
        }
      ]
    },
    {
      "cell_type": "markdown",
      "source": [
        "### **VALIDACION CRUZADA** : Encontrar el mejor valor de K segun el \"Accuracy\""
      ],
      "metadata": {
        "id": "PwS__h-aUuHA"
      }
    },
    {
      "cell_type": "code",
      "source": [
        "install.packages(\"caret\")\n",
        "library(caret)"
      ],
      "metadata": {
        "colab": {
          "base_uri": "https://localhost:8080/"
        },
        "id": "vtGIU5YfVWRO",
        "outputId": "154a9b90-627f-4d2a-b2bf-2942a942a157"
      },
      "execution_count": 9,
      "outputs": [
        {
          "output_type": "stream",
          "name": "stderr",
          "text": [
            "Installing package into ‘/usr/local/lib/R/site-library’\n",
            "(as ‘lib’ is unspecified)\n",
            "\n",
            "also installing the dependencies ‘listenv’, ‘parallelly’, ‘future’, ‘globals’, ‘shape’, ‘future.apply’, ‘numDeriv’, ‘progressr’, ‘SQUAREM’, ‘diagram’, ‘lava’, ‘prodlim’, ‘proxy’, ‘iterators’, ‘clock’, ‘gower’, ‘hardhat’, ‘ipred’, ‘timeDate’, ‘e1071’, ‘foreach’, ‘ModelMetrics’, ‘plyr’, ‘pROC’, ‘recipes’, ‘reshape2’\n",
            "\n",
            "\n",
            "Loading required package: ggplot2\n",
            "\n",
            "Loading required package: lattice\n",
            "\n"
          ]
        }
      ]
    },
    {
      "cell_type": "code",
      "source": [
        "# creo parámetros de validación cruzada\n",
        "set.seed(SEED)\n",
        "\n",
        "cross<-trainControl(method=\"cv\",number=10)\n",
        "modeloknn1<-train(class~.,method=\"knn\",\n",
        "                  tuneGrid=expand.grid(k=1:100),\n",
        "                  trControl=cross,\n",
        "                  metric=\"Accuracy\",\n",
        "                  data=biomecanica.train)"
      ],
      "metadata": {
        "id": "YYxjtILtU-5M"
      },
      "execution_count": 10,
      "outputs": []
    },
    {
      "cell_type": "code",
      "source": [
        "modeloknn1"
      ],
      "metadata": {
        "colab": {
          "base_uri": "https://localhost:8080/",
          "height": 1000
        },
        "id": "ZstW_R6aU-2z",
        "outputId": "9d92e832-24e3-4963-fd4c-0951cb56b97a"
      },
      "execution_count": 11,
      "outputs": [
        {
          "output_type": "display_data",
          "data": {
            "text/plain": [
              "k-Nearest Neighbors \n",
              "\n",
              "232 samples\n",
              "  6 predictor\n",
              "  2 classes: 'Abnormal', 'Normal' \n",
              "\n",
              "No pre-processing\n",
              "Resampling: Cross-Validated (10 fold) \n",
              "Summary of sample sizes: 209, 210, 209, 209, 209, 208, ... \n",
              "Resampling results across tuning parameters:\n",
              "\n",
              "  k    Accuracy   Kappa    \n",
              "    1  0.8182148  0.5855310\n",
              "    2  0.7975791  0.5411736\n",
              "    3  0.8321805  0.6161223\n",
              "    4  0.8367424  0.6370227\n",
              "    5  0.8233037  0.5951321\n",
              "    6  0.8234848  0.5876909\n",
              "    7  0.8229249  0.5978148\n",
              "    8  0.8274704  0.6103773\n",
              "    9  0.8060935  0.5618545\n",
              "   10  0.8359848  0.6280360\n",
              "   11  0.8102602  0.5827210\n",
              "   12  0.7926713  0.5338365\n",
              "   13  0.8316370  0.6233186\n",
              "   14  0.8231225  0.5997681\n",
              "   15  0.8407279  0.6417597\n",
              "   16  0.8191535  0.5989044\n",
              "   17  0.8233202  0.6058587\n",
              "   18  0.8276680  0.6165474\n",
              "   19  0.8318347  0.6258908\n",
              "   20  0.8321970  0.6233968\n",
              "   21  0.8149868  0.5874659\n",
              "   22  0.8233202  0.6043169\n",
              "   23  0.8023057  0.5545739\n",
              "   24  0.8023057  0.5590232\n",
              "   25  0.8064723  0.5665617\n",
              "   26  0.8064723  0.5640589\n",
              "   27  0.8064723  0.5587464\n",
              "   28  0.8191535  0.5969016\n",
              "   29  0.8233202  0.6124543\n",
              "   30  0.8062912  0.5683262\n",
              "   31  0.8060935  0.5695151\n",
              "   32  0.7848979  0.5233748\n",
              "   33  0.7977602  0.5579563\n",
              "   34  0.7975791  0.5574291\n",
              "   35  0.7973979  0.5623084\n",
              "   36  0.8015646  0.5730633\n",
              "   37  0.7973979  0.5609482\n",
              "   38  0.7970356  0.5616399\n",
              "   39  0.8055501  0.5809557\n",
              "   40  0.7970356  0.5647591\n",
              "   41  0.7930501  0.5566105\n",
              "   42  0.8015646  0.5741592\n",
              "   43  0.7890646  0.5462364\n",
              "   44  0.7932312  0.5578493\n",
              "   45  0.8015646  0.5769996\n",
              "   46  0.8015646  0.5855267\n",
              "   47  0.7885046  0.5554719\n",
              "   48  0.8015646  0.5813564\n",
              "   49  0.7885211  0.5623341\n",
              "   50  0.7887187  0.5631060\n",
              "   51  0.7711298  0.5243410\n",
              "   52  0.7671443  0.5178433\n",
              "   53  0.7671443  0.5226226\n",
              "   54  0.7802042  0.5442348\n",
              "   55  0.7714921  0.5252808\n",
              "   56  0.7754776  0.5374050\n",
              "   57  0.7671443  0.5186550\n",
              "   58  0.7671443  0.5198485\n",
              "   59  0.7713109  0.5306440\n",
              "   60  0.7711298  0.5302117\n",
              "   61  0.7754776  0.5374719\n",
              "   62  0.7754776  0.5374719\n",
              "   63  0.7665843  0.5225753\n",
              "   64  0.7539032  0.5000575\n",
              "   65  0.7580698  0.5080789\n",
              "   66  0.7665843  0.5259078\n",
              "   67  0.7580698  0.5102179\n",
              "   68  0.7664032  0.5250672\n",
              "   69  0.7622365  0.5182393\n",
              "   70  0.7622365  0.5182393\n",
              "   71  0.7580698  0.5102179\n",
              "   72  0.7622365  0.5182393\n",
              "   73  0.7622365  0.5182393\n",
              "   74  0.7580698  0.5102179\n",
              "   75  0.7622365  0.5182393\n",
              "   76  0.7664032  0.5250672\n",
              "   77  0.7664032  0.5250672\n",
              "   78  0.7665843  0.5247143\n",
              "   79  0.7705698  0.5335899\n",
              "   80  0.7705698  0.5335899\n",
              "   81  0.7705698  0.5335899\n",
              "   82  0.7662220  0.5232639\n",
              "   83  0.7622365  0.5182393\n",
              "   84  0.7664032  0.5267620\n",
              "   85  0.7705698  0.5335899\n",
              "   86  0.7662220  0.5232639\n",
              "   87  0.7664032  0.5250672\n",
              "   88  0.7705698  0.5305241\n",
              "   89  0.7662220  0.5232639\n",
              "   90  0.7705698  0.5335899\n",
              "   91  0.7664032  0.5250672\n",
              "   92  0.7665843  0.5214657\n",
              "   93  0.7752800  0.5365006\n",
              "   94  0.7707345  0.5226416\n",
              "   95  0.7883235  0.5597986\n",
              "   96  0.7883235  0.5597986\n",
              "   97  0.7839756  0.5519040\n",
              "   98  0.7924901  0.5682663\n",
              "   99  0.7879447  0.5577209\n",
              "  100  0.7794302  0.5387266\n",
              "\n",
              "Accuracy was used to select the optimal model using the largest value.\n",
              "The final value used for the model was k = 15."
            ]
          },
          "metadata": {}
        }
      ]
    },
    {
      "cell_type": "code",
      "source": [
        "plot(modeloknn1)"
      ],
      "metadata": {
        "colab": {
          "base_uri": "https://localhost:8080/",
          "height": 437
        },
        "id": "yoYdbyT4U-w6",
        "outputId": "8fe21c8c-a5bb-4266-af36-e7bacc56428b"
      },
      "execution_count": 12,
      "outputs": [
        {
          "output_type": "display_data",
          "data": {
            "text/plain": [
              "plot without title"
            ],
            "image/png": "[encoded data removed]"
          },
          "metadata": {
            "image/png": {
              "width": 420,
              "height": 420
            }
          }
        }
      ]
    },
    {
      "cell_type": "code",
      "source": [
        "# Recode the 'class' factor to 0 = \"Abnormal\", 1 = \"Normal\"\n",
        "biomecanica.train1$class <- factor(biomecanica.train1$class, levels = c(\"Abnormal\", \"Normal\"), labels = c(0, 1))\n",
        "biomecanica.test1$class <- factor(biomecanica.test1$class, levels = c(\"Abnormal\", \"Normal\"), labels = c(0, 1))"
      ],
      "metadata": {
        "id": "S3WhXpslZC3j"
      },
      "execution_count": 41,
      "outputs": []
    },
    {
      "cell_type": "code",
      "source": [
        "str(biomecanica.train1)"
      ],
      "metadata": {
        "colab": {
          "base_uri": "https://localhost:8080/"
        },
        "id": "74P_eXItbKRQ",
        "outputId": "83bad6db-17af-43e8-9a31-58a2e535b63d"
      },
      "execution_count": 38,
      "outputs": [
        {
          "output_type": "stream",
          "name": "stdout",
          "text": [
            "'data.frame':\t232 obs. of  7 variables:\n",
            " $ pelvic_incidence        : num  46.2 48 61.4 44.3 48.8 ...\n",
            " $ pelvic_tilt.numeric     : num  10.06 3.97 25.38 1.1 18.02 ...\n",
            " $ lumbar_lordosis_angle   : num  37 58.3 39.1 38 52 ...\n",
            " $ sacral_slope            : num  36.2 44.1 36 43.2 30.8 ...\n",
            " $ pelvic_radius           : num  128.1 125.4 103.4 98.3 139.2 ...\n",
            " $ degree_spondylolisthesis: num  -5.1 35 21.8 23.9 10.4 ...\n",
            " $ class                   : Factor w/ 2 levels \"0\",\"1\": 2 1 1 1 2 2 2 1 1 1 ...\n"
          ]
        }
      ]
    },
    {
      "cell_type": "code",
      "source": [
        "# MODELO CON K = 15\n",
        "set.seed(SEED)\n",
        "\n",
        "test_pred = knn3(class~., data=biomecanica.train1, k = 15)"
      ],
      "metadata": {
        "id": "Iysr8W_8YpW7"
      },
      "execution_count": 36,
      "outputs": []
    },
    {
      "cell_type": "code",
      "source": [
        "predmod <- predict(test_pred, biomecanica.test1, type = \"prob\")\n",
        "pronknn<-ifelse(predmod[,2] > 0.5 ,1, 0)\n",
        "confknn<-confusionMatrix(as.factor(pronknn),\n",
        "                          biomecanica.test1$class, positive = \"1\")\n",
        "confknn$table"
      ],
      "metadata": {
        "colab": {
          "base_uri": "https://localhost:8080/",
          "height": 86
        },
        "id": "2VTyQBfBbweo",
        "outputId": "1da15251-551b-4b00-dadc-064ade1eeed1"
      },
      "execution_count": 42,
      "outputs": [
        {
          "output_type": "display_data",
          "data": {
            "text/plain": [
              "          Reference\n",
              "Prediction  0  1\n",
              "         0 47  5\n",
              "         1  4 22"
            ]
          },
          "metadata": {}
        }
      ]
    },
    {
      "cell_type": "code",
      "source": [
        "conf_matrix <- confknn$table\n",
        "# Extraer valores\n",
        "TP <- conf_matrix[2, 2]  # Verdaderos positivos\n",
        "FP <- conf_matrix[1, 2]  # Falsos positivos\n",
        "TN <- conf_matrix[1, 1]  # Verdaderos negativos\n",
        "FN <- conf_matrix[2, 1]  # Falsos negativos\n",
        "\n",
        "# Calcular precisión y exhaustividad\n",
        "precision <- TP / (TP + FP)\n",
        "recall <- TP / (TP + FN)\n",
        "\n",
        "# Calcular el F1-score\n",
        "f1_score <- 2 * (precision * recall) / (precision + recall)\n",
        "print(paste(\"F1-Score:\", f1_score))"
      ],
      "metadata": {
        "colab": {
          "base_uri": "https://localhost:8080/"
        },
        "id": "B1ppnAwx4zJg",
        "outputId": "8e9b4a4a-4230-4bd7-f519-252f88684e98"
      },
      "execution_count": 46,
      "outputs": [
        {
          "output_type": "stream",
          "name": "stdout",
          "text": [
            "[1] \"F1-Score: 0.830188679245283\"\n"
          ]
        }
      ]
    },
    {
      "cell_type": "markdown",
      "source": [
        "# **RESPUESTA**"
      ],
      "metadata": {
        "id": "FYmmVsIIYXYc"
      }
    },
    {
      "cell_type": "markdown",
      "source": [
        "1. El mejor valor de K segun la medida de 'Accuracy' es K=15. El desempeño de este modelo nos da un F1= 0.83\n",
        "\n",
        "2. (7) Plantee un valor de K que lleve a un overfitting. Explique porqué se da el overfitting.\n",
        "\n",
        "El sobreajuste suele ocurrir con valores bajos de k, como **k=1**, porque el modelo se basa en un solo vecino, reaccionando excesivamente a variaciones menores o ruido en los datos.\n",
        "\n",
        "3. (7) Plantee un valor de K que lleve a un underfitting. Explique porqué se da el underfitting.\n",
        "\n",
        "El underfitting ocurre cuando k es muy alto, ya que el modelo se vuelve demasiado general y no captura las relaciones complejas en los datos. Esto sucede porque al promediar demasiadas observaciones, el modelo no se ajusta bien ni al conjunto de entrenamiento ni al de prueba.\n",
        "K=40\n"
      ],
      "metadata": {
        "id": "V1lxuAvFYXWE"
      }
    },
    {
      "cell_type": "markdown",
      "source": [],
      "metadata": {
        "id": "4kc4dyXrYXTw"
      }
    }
  ]
}