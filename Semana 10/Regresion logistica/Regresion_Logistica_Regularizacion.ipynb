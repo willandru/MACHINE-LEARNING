{
  "nbformat": 4,
  "nbformat_minor": 0,
  "metadata": {
    "colab": {
      "provenance": []
    },
    "kernelspec": {
      "name": "ir",
      "display_name": "R"
    },
    "language_info": {
      "name": "R"
    }
  },
  "cells": [
    {
      "cell_type": "markdown",
      "source": [
        "# **Regularización en Regresión Logística**\n",
        "\n",
        "Cuando se tienen múltiples variables en un modelo de regresión logística, puede ser útil encontrar un conjunto reducido de variables que dé como resultado un modelo de rendimiento óptimo.\n",
        "\n",
        "La regresión logística penalizada impone una penalización al modelo logístico por tener demasiadas variables. El resultado es que los coeficientes de las variables menos contributivas se reducen a cero. Esto también se conoce como regularización.\n",
        "\n",
        "Entre las regresiones penalizadas más utilizadas se incluyen:\n",
        "\n",
        "*   **regresión ridge**: las variables con menor contribución tienen sus coeficientes próximos a cero. Sin embargo, todas las variables se incorporan al modelo. Esto es útil cuando todas las variables deben incorporarse al modelo de acuerdo con el conocimiento del dominio.\n",
        "*   **regresión lasso**: se fuerza a que los coeficientes de algunas variables menos contributivas sean exactamente cero. Sólo se mantienen en el modelo final las variables más significativas.\n",
        "*   **regresión elástic net**: combinación de la regresión ridge y la regresión lasso. Reduce algunos coeficientes hacia cero (como la regresión ridge) y fija algunos coeficientes exactamente en cero (como la regresión lasso).\n",
        "\n",
        "Este notebook describe cómo calcular la regresión logística penalizada, tal como la regresión lasso, para seleccionar automáticamente un modelo óptimo que contenga las variables predictoras más contributivas."
      ],
      "metadata": {
        "id": "xJkV0JzH_4Ll"
      }
    },
    {
      "cell_type": "code",
      "execution_count": 1,
      "metadata": {
        "colab": {
          "base_uri": "https://localhost:8080/"
        },
        "id": "lTolY3XhYlfJ",
        "outputId": "6397e6e9-6524-469b-a27c-6a2074d2bff4"
      },
      "outputs": [
        {
          "output_type": "stream",
          "name": "stderr",
          "text": [
            "Installing package into ‘/usr/local/lib/R/site-library’\n",
            "(as ‘lib’ is unspecified)\n",
            "\n",
            "also installing the dependencies ‘listenv’, ‘parallelly’, ‘future’, ‘globals’, ‘shape’, ‘future.apply’, ‘numDeriv’, ‘progressr’, ‘SQUAREM’, ‘diagram’, ‘lava’, ‘prodlim’, ‘proxy’, ‘iterators’, ‘clock’, ‘gower’, ‘hardhat’, ‘ipred’, ‘timeDate’, ‘e1071’, ‘foreach’, ‘ModelMetrics’, ‘plyr’, ‘pROC’, ‘recipes’, ‘reshape2’\n",
            "\n",
            "\n",
            "Installing package into ‘/usr/local/lib/R/site-library’\n",
            "(as ‘lib’ is unspecified)\n",
            "\n",
            "also installing the dependency ‘RcppEigen’\n",
            "\n",
            "\n",
            "Installing package into ‘/usr/local/lib/R/site-library’\n",
            "(as ‘lib’ is unspecified)\n",
            "\n",
            "── \u001b[1mAttaching core tidyverse packages\u001b[22m ──────────────────────── tidyverse 2.0.0 ──\n",
            "\u001b[32m✔\u001b[39m \u001b[34mdplyr    \u001b[39m 1.1.4     \u001b[32m✔\u001b[39m \u001b[34mreadr    \u001b[39m 2.1.5\n",
            "\u001b[32m✔\u001b[39m \u001b[34mforcats  \u001b[39m 1.0.0     \u001b[32m✔\u001b[39m \u001b[34mstringr  \u001b[39m 1.5.1\n",
            "\u001b[32m✔\u001b[39m \u001b[34mggplot2  \u001b[39m 3.5.1     \u001b[32m✔\u001b[39m \u001b[34mtibble   \u001b[39m 3.2.1\n",
            "\u001b[32m✔\u001b[39m \u001b[34mlubridate\u001b[39m 1.9.3     \u001b[32m✔\u001b[39m \u001b[34mtidyr    \u001b[39m 1.3.1\n",
            "\u001b[32m✔\u001b[39m \u001b[34mpurrr    \u001b[39m 1.0.2     \n",
            "── \u001b[1mConflicts\u001b[22m ────────────────────────────────────────── tidyverse_conflicts() ──\n",
            "\u001b[31m✖\u001b[39m \u001b[34mdplyr\u001b[39m::\u001b[32mfilter()\u001b[39m masks \u001b[34mstats\u001b[39m::filter()\n",
            "\u001b[31m✖\u001b[39m \u001b[34mdplyr\u001b[39m::\u001b[32mlag()\u001b[39m    masks \u001b[34mstats\u001b[39m::lag()\n",
            "\u001b[36mℹ\u001b[39m Use the conflicted package (\u001b[3m\u001b[34m<http://conflicted.r-lib.org/>\u001b[39m\u001b[23m) to force all conflicts to become errors\n",
            "Loading required package: lattice\n",
            "\n",
            "\n",
            "Attaching package: ‘caret’\n",
            "\n",
            "\n",
            "The following object is masked from ‘package:purrr’:\n",
            "\n",
            "    lift\n",
            "\n",
            "\n",
            "Loading required package: Matrix\n",
            "\n",
            "\n",
            "Attaching package: ‘Matrix’\n",
            "\n",
            "\n",
            "The following objects are masked from ‘package:tidyr’:\n",
            "\n",
            "    expand, pack, unpack\n",
            "\n",
            "\n",
            "Loaded glmnet 4.1-8\n",
            "\n"
          ]
        }
      ],
      "source": [
        "install.packages(\"caret\")\n",
        "install.packages(\"glmnet\")\n",
        "install.packages(\"mlbench\")\n",
        "\n",
        "library(tidyverse)\n",
        "library(caret)\n",
        "library(glmnet)\n",
        "library(\"mlbench\")"
      ]
    },
    {
      "cell_type": "markdown",
      "source": [
        "Conjunto de datos: PimaIndiansDiabetes2 [en el paquete mlbench], para predecir la probabilidad de ser diabético positivo en función de múltiples variables clínicas:\n",
        "\n",
        "1.   pregnant: Número de veces embarazada\n",
        "2.   glucose:  Concentración de glucosa en plasma (prueba de tolerancia a la glucosa)\n",
        "3.   pressure: Presión arterial diastólica (mm Hg)\n",
        "4.   triceps: Grosor del pliegue cutáneo del tríceps (mm)\n",
        "5.   insulin: Insulina sérica de 2 horas (mu U/ml)\n",
        "6.   mass: Índice de masa corporal\n",
        "7.   pedrigree: función de pedigree de Diabetes\n",
        "8.   age: Edad (años)\n",
        "9.   diabetes: Variable de clase (prueba de diabetes)\n",
        "\n",
        "Dividiremos aleatoriamente los datos en un conjunto de entrenamiento (80% para construir un modelo predictivo) y un conjunto de prueba (20% para evaluar el modelo). Asegúrese de establecer la semilla para la reproductibilidad."
      ],
      "metadata": {
        "id": "6HIZychw4-c0"
      }
    },
    {
      "cell_type": "code",
      "source": [
        "# Load the data and remove NAs\n",
        "data(\"PimaIndiansDiabetes2\", package = \"mlbench\")\n",
        "PimaIndiansDiabetes2 <- na.omit(PimaIndiansDiabetes2)\n",
        "# Inspect the data\n",
        "sample_n(PimaIndiansDiabetes2, 3)\n",
        "# Split the data into training and test set\n",
        "set.seed(123)\n",
        "training.samples <- PimaIndiansDiabetes2$diabetes %>%\n",
        "  createDataPartition(p = 0.8, list = FALSE)\n",
        "train.data  <- PimaIndiansDiabetes2[training.samples, ]\n",
        "test.data <- PimaIndiansDiabetes2[-training.samples, ]"
      ],
      "metadata": {
        "colab": {
          "base_uri": "https://localhost:8080/",
          "height": 192
        },
        "id": "fyOha_36ZTYK",
        "outputId": "3cf95756-68f8-4cc0-c5ba-eadcd4e401df"
      },
      "execution_count": 2,
      "outputs": [
        {
          "output_type": "display_data",
          "data": {
            "text/html": [
              "<table class=\"dataframe\">\n",
              "<caption>A data.frame: 3 × 9</caption>\n",
              "<thead>\n",
              "\t<tr><th></th><th scope=col>pregnant</th><th scope=col>glucose</th><th scope=col>pressure</th><th scope=col>triceps</th><th scope=col>insulin</th><th scope=col>mass</th><th scope=col>pedigree</th><th scope=col>age</th><th scope=col>diabetes</th></tr>\n",
              "\t<tr><th></th><th scope=col>&lt;dbl&gt;</th><th scope=col>&lt;dbl&gt;</th><th scope=col>&lt;dbl&gt;</th><th scope=col>&lt;dbl&gt;</th><th scope=col>&lt;dbl&gt;</th><th scope=col>&lt;dbl&gt;</th><th scope=col>&lt;dbl&gt;</th><th scope=col>&lt;dbl&gt;</th><th scope=col>&lt;fct&gt;</th></tr>\n",
              "</thead>\n",
              "<tbody>\n",
              "\t<tr><th scope=row>190</th><td>5</td><td>139</td><td>80</td><td>35</td><td>160</td><td>31.6</td><td>0.361</td><td>25</td><td>pos</td></tr>\n",
              "\t<tr><th scope=row>670</th><td>9</td><td>154</td><td>78</td><td>30</td><td>100</td><td>30.9</td><td>0.164</td><td>45</td><td>neg</td></tr>\n",
              "\t<tr><th scope=row>451</th><td>1</td><td> 82</td><td>64</td><td>13</td><td> 95</td><td>21.2</td><td>0.415</td><td>23</td><td>neg</td></tr>\n",
              "</tbody>\n",
              "</table>\n"
            ],
            "text/markdown": "\nA data.frame: 3 × 9\n\n| <!--/--> | pregnant &lt;dbl&gt; | glucose &lt;dbl&gt; | pressure &lt;dbl&gt; | triceps &lt;dbl&gt; | insulin &lt;dbl&gt; | mass &lt;dbl&gt; | pedigree &lt;dbl&gt; | age &lt;dbl&gt; | diabetes &lt;fct&gt; |\n|---|---|---|---|---|---|---|---|---|---|\n| 190 | 5 | 139 | 80 | 35 | 160 | 31.6 | 0.361 | 25 | pos |\n| 670 | 9 | 154 | 78 | 30 | 100 | 30.9 | 0.164 | 45 | neg |\n| 451 | 1 |  82 | 64 | 13 |  95 | 21.2 | 0.415 | 23 | neg |\n\n",
            "text/latex": "A data.frame: 3 × 9\n\\begin{tabular}{r|lllllllll}\n  & pregnant & glucose & pressure & triceps & insulin & mass & pedigree & age & diabetes\\\\\n  & <dbl> & <dbl> & <dbl> & <dbl> & <dbl> & <dbl> & <dbl> & <dbl> & <fct>\\\\\n\\hline\n\t190 & 5 & 139 & 80 & 35 & 160 & 31.6 & 0.361 & 25 & pos\\\\\n\t670 & 9 & 154 & 78 & 30 & 100 & 30.9 & 0.164 & 45 & neg\\\\\n\t451 & 1 &  82 & 64 & 13 &  95 & 21.2 & 0.415 & 23 & neg\\\\\n\\end{tabular}\n",
            "text/plain": [
              "    pregnant glucose pressure triceps insulin mass pedigree age diabetes\n",
              "190 5        139     80       35      160     31.6 0.361    25  pos     \n",
              "670 9        154     78       30      100     30.9 0.164    45  neg     \n",
              "451 1         82     64       13       95     21.2 0.415    23  neg     "
            ]
          },
          "metadata": {}
        }
      ]
    },
    {
      "cell_type": "code",
      "source": [
        "table(train.data$diabetes)"
      ],
      "metadata": {
        "colab": {
          "base_uri": "https://localhost:8080/",
          "height": 69
        },
        "id": "sSw-waNgAx1G",
        "outputId": "498625c9-f3a7-4c3b-f4f7-9b04206753e4"
      },
      "execution_count": 46,
      "outputs": [
        {
          "output_type": "display_data",
          "data": {
            "text/plain": [
              "\n",
              "neg pos \n",
              "210 104 "
            ]
          },
          "metadata": {}
        }
      ]
    },
    {
      "cell_type": "code",
      "source": [
        "table(test.data$diabetes)"
      ],
      "metadata": {
        "colab": {
          "base_uri": "https://localhost:8080/",
          "height": 69
        },
        "id": "GcJkVpbgA-k5",
        "outputId": "fbb4ed27-2faf-4b86-89f7-2e4655f6750d"
      },
      "execution_count": 48,
      "outputs": [
        {
          "output_type": "display_data",
          "data": {
            "text/plain": [
              "\n",
              "neg pos \n",
              " 52  26 "
            ]
          },
          "metadata": {}
        }
      ]
    },
    {
      "cell_type": "markdown",
      "source": [
        "La función de R model.matrix() ayuda a crear la matriz de predictores y también convierte automáticamente los predictores categóricos en variables ficticias adecuadas, lo que es necesario para la función glmnet()."
      ],
      "metadata": {
        "id": "8iZ8TZ9V68v-"
      }
    },
    {
      "cell_type": "code",
      "source": [
        "# Dumy code categorical predictor variables\n",
        "x <- model.matrix(diabetes~., train.data)[,-1]\n",
        "# Convert the outcome (class) to a numerical variable\n",
        "y <- ifelse(train.data$diabetes == \"pos\", 1, 0)"
      ],
      "metadata": {
        "id": "7UgOEP7KbfEG"
      },
      "execution_count": 3,
      "outputs": []
    },
    {
      "cell_type": "markdown",
      "source": [
        "Utilizaremos la función de R glmnet() [paquete glmnet] para calcular la regresión logística penalizada.\n",
        "\n",
        "Ajustaremos un primero modelo de regresion logística:"
      ],
      "metadata": {
        "id": "FoxE4-fn7LJp"
      }
    },
    {
      "cell_type": "code",
      "source": [
        "# Fit the model\n",
        "full.model <- glm(diabetes ~., data = train.data, family = binomial)\n",
        "\n",
        "# Make predictions - TRAIN\n",
        "probabilities <- full.model %>% predict(train.data, type = \"response\")\n",
        "predicted.classes <- ifelse(probabilities > 0.3, \"pos\", \"neg\")\n",
        "# Model accuracy - TRAIN\n",
        "observed.classes <- train.data$diabetes\n",
        "print(\"ENTRENAMIENTO\")\n",
        "print(confusionMatrix(as.factor(predicted.classes),observed.classes))\n",
        "\n",
        "# Make predictions - TEST\n",
        "probabilities <- full.model %>% predict(test.data, type = \"response\")\n",
        "predicted.classes <- ifelse(probabilities > 0.3, \"pos\", \"neg\")\n",
        "# Model accuracy - TEST\n",
        "observed.classes <- test.data$diabetes\n",
        "print(\"PRUEBA\")\n",
        "print(confusionMatrix(as.factor(predicted.classes),observed.classes))"
      ],
      "metadata": {
        "colab": {
          "base_uri": "https://localhost:8080/"
        },
        "id": "U4-TZQ0xblOM",
        "outputId": "99de3b4e-a8b0-4c9c-bf59-ff0ed138e8ef"
      },
      "execution_count": 86,
      "outputs": [
        {
          "output_type": "stream",
          "name": "stdout",
          "text": [
            "[1] \"ENTRENAMIENTO\"\n",
            "Confusion Matrix and Statistics\n",
            "\n",
            "          Reference\n",
            "Prediction neg pos\n",
            "       neg 164  17\n",
            "       pos  46  87\n",
            "                                          \n",
            "               Accuracy : 0.7994          \n",
            "                 95% CI : (0.7507, 0.8422)\n",
            "    No Information Rate : 0.6688          \n",
            "    P-Value [Acc > NIR] : 2.089e-07       \n",
            "                                          \n",
            "                  Kappa : 0.5769          \n",
            "                                          \n",
            " Mcnemar's Test P-Value : 0.0004192       \n",
            "                                          \n",
            "            Sensitivity : 0.7810          \n",
            "            Specificity : 0.8365          \n",
            "         Pos Pred Value : 0.9061          \n",
            "         Neg Pred Value : 0.6541          \n",
            "             Prevalence : 0.6688          \n",
            "         Detection Rate : 0.5223          \n",
            "   Detection Prevalence : 0.5764          \n",
            "      Balanced Accuracy : 0.8087          \n",
            "                                          \n",
            "       'Positive' Class : neg             \n",
            "                                          \n",
            "[1] \"PRUEBA\"\n",
            "Confusion Matrix and Statistics\n",
            "\n",
            "          Reference\n",
            "Prediction neg pos\n",
            "       neg  38   7\n",
            "       pos  14  19\n",
            "                                         \n",
            "               Accuracy : 0.7308         \n",
            "                 95% CI : (0.6184, 0.825)\n",
            "    No Information Rate : 0.6667         \n",
            "    P-Value [Acc > NIR] : 0.1393         \n",
            "                                         \n",
            "                  Kappa : 0.4324         \n",
            "                                         \n",
            " Mcnemar's Test P-Value : 0.1904         \n",
            "                                         \n",
            "            Sensitivity : 0.7308         \n",
            "            Specificity : 0.7308         \n",
            "         Pos Pred Value : 0.8444         \n",
            "         Neg Pred Value : 0.5758         \n",
            "             Prevalence : 0.6667         \n",
            "         Detection Rate : 0.4872         \n",
            "   Detection Prevalence : 0.5769         \n",
            "      Balanced Accuracy : 0.7308         \n",
            "                                         \n",
            "       'Positive' Class : neg            \n",
            "                                         \n"
          ]
        }
      ]
    },
    {
      "cell_type": "markdown",
      "source": [
        "**x**: matriz de variables predictoras\n",
        "\n",
        "**y**: la variable de respuesta o resultado, que es una variable binaria.\n",
        "\n",
        "**familia**: el tipo de respuesta. Utilice «binomial» para una variable de resultado binaria\n",
        "\n",
        "**alfa**: el parámetro de mezcla de la red elástica. Los valores permitidos son:\n",
        "\n",
        "\n",
        "*   1: para regresión lasso\n",
        "*   0: para la regresión ridge\n",
        "*   un valor entre 0 y 1 (por ejemplo, 0,3) para la regresión elasticnet.\n",
        "\n",
        "**lambda**: valor numérico que define la cantidad de contracción. Debe ser especificado por el analista.\n",
        "\n",
        "En la regresión penalizada, debe especificar una lambda constante para ajustar la cantidad de contracción del coeficiente. La mejor lambda para sus datos puede definirse como la lambda que minimiza la tasa de error de predicción de validación cruzada. Esto puede determinarse automáticamente utilizando la función cv.glmnet()."
      ],
      "metadata": {
        "id": "rIuABuPr7oU5"
      }
    },
    {
      "cell_type": "markdown",
      "source": [
        "## Regresión LASSO\n",
        "\n",
        "Hallar el valor óptimo de lambda que minimice el error de validación cruzada"
      ],
      "metadata": {
        "id": "qAfpFBTK8mq5"
      }
    },
    {
      "cell_type": "code",
      "source": [
        "set.seed(123)\n",
        "cv.lasso <- cv.glmnet(x, y, alpha = 1, family = \"binomial\", nfolds = 5)\n",
        "plot(cv.lasso)"
      ],
      "metadata": {
        "colab": {
          "base_uri": "https://localhost:8080/",
          "height": 437
        },
        "id": "cLuU2RPQccii",
        "outputId": "e5826eec-3573-4ed0-b6fc-453f52462362"
      },
      "execution_count": 50,
      "outputs": [
        {
          "output_type": "display_data",
          "data": {
            "text/plain": [
              "plot without title"
            ],
            "image/png": "[encoded data removed]"
          },
          "metadata": {
            "image/png": {
              "width": 420,
              "height": 420
            }
          }
        }
      ]
    },
    {
      "cell_type": "markdown",
      "source": [
        "El gráfico muestra el error de validación cruzada en función del logaritmo de lambda. La línea vertical discontinua de la izquierda indica que el logaritmo del valor óptimo de lambda es aproximadamente -5, que es el que minimiza el error de predicción. Este valor de lambda dará el modelo más preciso. El valor exacto de lambda puede verse como sigue:"
      ],
      "metadata": {
        "id": "inKmOMvC84Qk"
      }
    },
    {
      "cell_type": "code",
      "source": [
        "cv.lasso$lambda.min"
      ],
      "metadata": {
        "colab": {
          "base_uri": "https://localhost:8080/",
          "height": 34
        },
        "id": "5zHWyg53dwXm",
        "outputId": "0a148075-caa8-4875-812d-b479fcaf6d37"
      },
      "execution_count": 51,
      "outputs": [
        {
          "output_type": "display_data",
          "data": {
            "text/html": [
              "0.0105042369702822"
            ],
            "text/markdown": "0.0105042369702822",
            "text/latex": "0.0105042369702822",
            "text/plain": [
              "[1] 0.01050424"
            ]
          },
          "metadata": {}
        }
      ]
    },
    {
      "cell_type": "markdown",
      "source": [
        "En general, el objetivo de la regularización es equilibrar la precisión y la simplicidad. Es decir, un modelo con el menor número de predictores que también dé una buena precisión. Con este fin, la función cv.glmnet() encuentra también el valor de lambda que da el modelo más simple pero también se encuentra dentro de un error estándar del valor óptimo de lambda. Este valor se denomina lambda.1se."
      ],
      "metadata": {
        "id": "lxrgw8hJ9wqf"
      }
    },
    {
      "cell_type": "code",
      "source": [
        "cv.lasso$lambda.1se"
      ],
      "metadata": {
        "colab": {
          "base_uri": "https://localhost:8080/",
          "height": 34
        },
        "id": "1DKhI1yU93AU",
        "outputId": "b70e959a-4dde-41af-e40e-7ac4a48d9aa4"
      },
      "execution_count": 52,
      "outputs": [
        {
          "output_type": "display_data",
          "data": {
            "text/html": [
              "0.0560579533637141"
            ],
            "text/markdown": "0.0560579533637141",
            "text/latex": "0.0560579533637141",
            "text/plain": [
              "[1] 0.05605795"
            ]
          },
          "metadata": {}
        }
      ]
    },
    {
      "cell_type": "markdown",
      "source": [
        "Utilizando lambda.min como mejor lambda, se obtienen los siguientes coeficientes de regresión:"
      ],
      "metadata": {
        "id": "qmWyUKd2-F-N"
      }
    },
    {
      "cell_type": "code",
      "source": [
        "coef(cv.lasso, cv.lasso$lambda.min)"
      ],
      "metadata": {
        "colab": {
          "base_uri": "https://localhost:8080/",
          "height": 208
        },
        "id": "PWGiU2glkHr5",
        "outputId": "1f72233b-a92a-4159-9c48-0da82106e917"
      },
      "execution_count": 53,
      "outputs": [
        {
          "output_type": "display_data",
          "data": {
            "text/plain": [
              "9 x 1 sparse Matrix of class \"dgCMatrix\"\n",
              "                       s1\n",
              "(Intercept) -9.3087021943\n",
              "pregnant     0.0740061001\n",
              "glucose      0.0342524179\n",
              "pressure     .           \n",
              "triceps      0.0111958547\n",
              "insulin      0.0003163863\n",
              "mass         0.0669046281\n",
              "pedigree     1.0120379018\n",
              "age          0.0261595958"
            ]
          },
          "metadata": {}
        }
      ]
    },
    {
      "cell_type": "markdown",
      "source": [
        "Utilizando lambda.1se como mejor lambda, se obtienen los siguientes coeficientes de regresión:"
      ],
      "metadata": {
        "id": "8KItgia4-WK4"
      }
    },
    {
      "cell_type": "code",
      "source": [
        "coef(cv.lasso, cv.lasso$lambda.1se)"
      ],
      "metadata": {
        "colab": {
          "base_uri": "https://localhost:8080/",
          "height": 208
        },
        "id": "EfofkT6akRjh",
        "outputId": "2316a5bc-4688-433e-c836-1f425d139b57"
      },
      "execution_count": 54,
      "outputs": [
        {
          "output_type": "display_data",
          "data": {
            "text/plain": [
              "9 x 1 sparse Matrix of class \"dgCMatrix\"\n",
              "                      s1\n",
              "(Intercept) -5.863908146\n",
              "pregnant     .          \n",
              "glucose      0.026216289\n",
              "pressure     .          \n",
              "triceps      0.002763246\n",
              "insulin      .          \n",
              "mass         0.030660538\n",
              "pedigree     0.149465488\n",
              "age          0.021699005"
            ]
          },
          "metadata": {}
        }
      ]
    },
    {
      "cell_type": "markdown",
      "source": [
        "En las secciones siguientes, calcularemos el modelo final utilizando lambda.min y, a continuación, evaluaremos la exactitud (accuracy) del modelo con los datos de prueba. También discutiremos los resultados obtenidos ajustando el modelo utilizando lambda = lambda.1se.\n",
        "\n",
        "## Modelo LASSO final\n",
        "\n",
        "Calculamos el modelo final utilizando lambda.min:"
      ],
      "metadata": {
        "id": "X3QFNdxt-YSR"
      }
    },
    {
      "cell_type": "code",
      "source": [
        "# Final model lasso with lambda.min\n",
        "lasso.model <- glmnet(x, y, alpha = 1, family = \"binomial\",\n",
        "                      lambda = cv.lasso$lambda.min)\n",
        "\n",
        "# Make prediction on TRAIN\n",
        "x.train <- model.matrix(diabetes ~., train.data)[,-1]\n",
        "probabilities <- lasso.model %>% predict(newx = x.train)\n",
        "predicted.classes <- ifelse(probabilities > 0.3, \"pos\", \"neg\")\n",
        "# Model accuracy\n",
        "observed.classes <- train.data$diabetes\n",
        "print('ENTRENAMIENTO')\n",
        "print(confusionMatrix(as.factor(predicted.classes),observed.classes))\n",
        "\n",
        "# Make prediction on TEST\n",
        "x.test <- model.matrix(diabetes ~., test.data)[,-1]\n",
        "probabilities <- lasso.model %>% predict(newx = x.test)\n",
        "predicted.classes <- ifelse(probabilities > 0.3, \"pos\", \"neg\")\n",
        "# Model accuracy\n",
        "observed.classes <- test.data$diabetes\n",
        "print('PRUEBA')\n",
        "print(confusionMatrix(as.factor(predicted.classes),observed.classes))"
      ],
      "metadata": {
        "colab": {
          "base_uri": "https://localhost:8080/"
        },
        "id": "hv4wblv6kZN_",
        "outputId": "a6a6387b-54bc-4d1d-a12f-614ef25f164f"
      },
      "execution_count": 88,
      "outputs": [
        {
          "output_type": "stream",
          "name": "stdout",
          "text": [
            "[1] \"ENTRENAMIENTO\"\n",
            "Confusion Matrix and Statistics\n",
            "\n",
            "          Reference\n",
            "Prediction neg pos\n",
            "       neg 193  49\n",
            "       pos  17  55\n",
            "                                          \n",
            "               Accuracy : 0.7898          \n",
            "                 95% CI : (0.7405, 0.8335)\n",
            "    No Information Rate : 0.6688          \n",
            "    P-Value [Acc > NIR] : 1.532e-06       \n",
            "                                          \n",
            "                  Kappa : 0.4856          \n",
            "                                          \n",
            " Mcnemar's Test P-Value : 0.0001357       \n",
            "                                          \n",
            "            Sensitivity : 0.9190          \n",
            "            Specificity : 0.5288          \n",
            "         Pos Pred Value : 0.7975          \n",
            "         Neg Pred Value : 0.7639          \n",
            "             Prevalence : 0.6688          \n",
            "         Detection Rate : 0.6146          \n",
            "   Detection Prevalence : 0.7707          \n",
            "      Balanced Accuracy : 0.7239          \n",
            "                                          \n",
            "       'Positive' Class : neg             \n",
            "                                          \n",
            "[1] \"PRUEBA\"\n",
            "Confusion Matrix and Statistics\n",
            "\n",
            "          Reference\n",
            "Prediction neg pos\n",
            "       neg  46  12\n",
            "       pos   6  14\n",
            "                                        \n",
            "               Accuracy : 0.7692        \n",
            "                 95% CI : (0.66, 0.8571)\n",
            "    No Information Rate : 0.6667        \n",
            "    P-Value [Acc > NIR] : 0.03295       \n",
            "                                        \n",
            "                  Kappa : 0.449         \n",
            "                                        \n",
            " Mcnemar's Test P-Value : 0.23859       \n",
            "                                        \n",
            "            Sensitivity : 0.8846        \n",
            "            Specificity : 0.5385        \n",
            "         Pos Pred Value : 0.7931        \n",
            "         Neg Pred Value : 0.7000        \n",
            "             Prevalence : 0.6667        \n",
            "         Detection Rate : 0.5897        \n",
            "   Detection Prevalence : 0.7436        \n",
            "      Balanced Accuracy : 0.7115        \n",
            "                                        \n",
            "       'Positive' Class : neg           \n",
            "                                        \n"
          ]
        }
      ]
    },
    {
      "cell_type": "markdown",
      "source": [
        "Calculamos el modelo final usando lambda.1se:"
      ],
      "metadata": {
        "id": "c6uad8WC-89f"
      }
    },
    {
      "cell_type": "code",
      "source": [
        "# Final lasso model with lambda.1se\n",
        "lasso.model <- glmnet(x, y, alpha = 1, family = \"binomial\",\n",
        "                      lambda = cv.lasso$lambda.1se)\n",
        "\n",
        "# Make prediction on TRAIN\n",
        "x.train <- model.matrix(diabetes ~., train.data)[,-1]\n",
        "probabilities <- lasso.model %>% predict(newx = x.train)\n",
        "predicted.classes <- ifelse(probabilities > 0.3, \"pos\", \"neg\")\n",
        "# Model accuracy rate\n",
        "observed.classes <- train.data$diabetes\n",
        "print(\"ENTRENAMIENTO\")\n",
        "print(confusionMatrix(as.factor(predicted.classes),observed.classes))\n",
        "\n",
        "# Make prediction on TEST\n",
        "x.test <- model.matrix(diabetes ~., test.data)[,-1]\n",
        "probabilities <- lasso.model %>% predict(newx = x.test)\n",
        "predicted.classes <- ifelse(probabilities > 0.3, \"pos\", \"neg\")\n",
        "# Model accuracy rate\n",
        "observed.classes <- test.data$diabetes\n",
        "print(\"PRUEBA\")\n",
        "print(confusionMatrix(as.factor(predicted.classes),observed.classes))"
      ],
      "metadata": {
        "colab": {
          "base_uri": "https://localhost:8080/"
        },
        "id": "6FE7bLglkfk4",
        "outputId": "c9e317e6-b39e-4deb-bb10-2414ced6ca8f"
      },
      "execution_count": 89,
      "outputs": [
        {
          "output_type": "stream",
          "name": "stdout",
          "text": [
            "[1] \"ENTRENAMIENTO\"\n",
            "Confusion Matrix and Statistics\n",
            "\n",
            "          Reference\n",
            "Prediction neg pos\n",
            "       neg 199  64\n",
            "       pos  11  40\n",
            "                                          \n",
            "               Accuracy : 0.7611          \n",
            "                 95% CI : (0.7101, 0.8072)\n",
            "    No Information Rate : 0.6688          \n",
            "    P-Value [Acc > NIR] : 0.0002278       \n",
            "                                          \n",
            "                  Kappa : 0.3813          \n",
            "                                          \n",
            " Mcnemar's Test P-Value : 1.92e-09        \n",
            "                                          \n",
            "            Sensitivity : 0.9476          \n",
            "            Specificity : 0.3846          \n",
            "         Pos Pred Value : 0.7567          \n",
            "         Neg Pred Value : 0.7843          \n",
            "             Prevalence : 0.6688          \n",
            "         Detection Rate : 0.6338          \n",
            "   Detection Prevalence : 0.8376          \n",
            "      Balanced Accuracy : 0.6661          \n",
            "                                          \n",
            "       'Positive' Class : neg             \n",
            "                                          \n",
            "[1] \"PRUEBA\"\n",
            "Confusion Matrix and Statistics\n",
            "\n",
            "          Reference\n",
            "Prediction neg pos\n",
            "       neg  50  16\n",
            "       pos   2  10\n",
            "                                        \n",
            "               Accuracy : 0.7692        \n",
            "                 95% CI : (0.66, 0.8571)\n",
            "    No Information Rate : 0.6667        \n",
            "    P-Value [Acc > NIR] : 0.032953      \n",
            "                                        \n",
            "                  Kappa : 0.4           \n",
            "                                        \n",
            " Mcnemar's Test P-Value : 0.002183      \n",
            "                                        \n",
            "            Sensitivity : 0.9615        \n",
            "            Specificity : 0.3846        \n",
            "         Pos Pred Value : 0.7576        \n",
            "         Neg Pred Value : 0.8333        \n",
            "             Prevalence : 0.6667        \n",
            "         Detection Rate : 0.6410        \n",
            "   Detection Prevalence : 0.8462        \n",
            "      Balanced Accuracy : 0.6731        \n",
            "                                        \n",
            "       'Positive' Class : neg           \n",
            "                                        \n"
          ]
        }
      ]
    },
    {
      "cell_type": "markdown",
      "source": [
        "## Regresión RIDGE\n",
        "\n",
        "Hallar el valor óptimo de lambda que minimice el error de validación cruzada"
      ],
      "metadata": {
        "id": "5faO2nn7LZxb"
      }
    },
    {
      "cell_type": "code",
      "source": [
        "set.seed(123)\n",
        "cv.ridge <- cv.glmnet(x, y, alpha = 0, family = \"binomial\", nfolds = 5)\n",
        "plot(cv.ridge)"
      ],
      "metadata": {
        "colab": {
          "base_uri": "https://localhost:8080/",
          "height": 437
        },
        "id": "a34Q7kcKLgig",
        "outputId": "c6b3a8c0-b36e-4636-c54f-c2e19fb14437"
      },
      "execution_count": 90,
      "outputs": [
        {
          "output_type": "display_data",
          "data": {
            "text/plain": [
              "plot without title"
            ],
            "image/png": "[encoded data removed]"
          },
          "metadata": {
            "image/png": {
              "width": 420,
              "height": 420
            }
          }
        }
      ]
    },
    {
      "cell_type": "code",
      "source": [
        "cv.ridge$lambda.min"
      ],
      "metadata": {
        "colab": {
          "base_uri": "https://localhost:8080/",
          "height": 34
        },
        "id": "-iin7YtDLpYe",
        "outputId": "16209448-f455-40dd-c7b3-f02855ac3565"
      },
      "execution_count": 91,
      "outputs": [
        {
          "output_type": "display_data",
          "data": {
            "text/html": [
              "0.0248371571041508"
            ],
            "text/markdown": "0.0248371571041508",
            "text/latex": "0.0248371571041508",
            "text/plain": [
              "[1] 0.02483716"
            ]
          },
          "metadata": {}
        }
      ]
    },
    {
      "cell_type": "code",
      "source": [
        "cv.ridge$lambda.1se"
      ],
      "metadata": {
        "colab": {
          "base_uri": "https://localhost:8080/",
          "height": 34
        },
        "id": "J1VTvPCCLvnQ",
        "outputId": "3bf75e1a-c8ea-4bd9-a5a8-aee7250837b7"
      },
      "execution_count": 18,
      "outputs": [
        {
          "output_type": "display_data",
          "data": {
            "text/html": [
              "0.231632158423954"
            ],
            "text/markdown": "0.231632158423954",
            "text/latex": "0.231632158423954",
            "text/plain": [
              "[1] 0.2316322"
            ]
          },
          "metadata": {}
        }
      ]
    },
    {
      "cell_type": "code",
      "source": [
        "coef(cv.ridge, cv.ridge$lambda.min)"
      ],
      "metadata": {
        "colab": {
          "base_uri": "https://localhost:8080/",
          "height": 208
        },
        "id": "qgqFsgKAL1Mg",
        "outputId": "36403de9-d548-4012-d40d-eb42c902a99d"
      },
      "execution_count": 19,
      "outputs": [
        {
          "output_type": "display_data",
          "data": {
            "text/plain": [
              "9 x 1 sparse Matrix of class \"dgCMatrix\"\n",
              "                      s1\n",
              "(Intercept) -8.972141064\n",
              "pregnant     0.080224115\n",
              "glucose      0.028902902\n",
              "pressure     0.003516291\n",
              "triceps      0.017703983\n",
              "insulin      0.001371375\n",
              "mass         0.057840044\n",
              "pedigree     1.016689886\n",
              "age          0.026320355"
            ]
          },
          "metadata": {}
        }
      ]
    },
    {
      "cell_type": "code",
      "source": [
        "coef(cv.ridge, cv.ridge$lambda.1se)"
      ],
      "metadata": {
        "colab": {
          "base_uri": "https://localhost:8080/",
          "height": 208
        },
        "id": "Zu7QzgFcMITW",
        "outputId": "031440ee-7f63-4a8a-ad8f-1d508c5f29e0"
      },
      "execution_count": 20,
      "outputs": [
        {
          "output_type": "display_data",
          "data": {
            "text/plain": [
              "9 x 1 sparse Matrix of class \"dgCMatrix\"\n",
              "                      s1\n",
              "(Intercept) -5.525059819\n",
              "pregnant     0.046849162\n",
              "glucose      0.013612714\n",
              "pressure     0.006989902\n",
              "triceps      0.014214120\n",
              "insulin      0.001607987\n",
              "mass         0.027760209\n",
              "pedigree     0.463049257\n",
              "age          0.019198955"
            ]
          },
          "metadata": {}
        }
      ]
    },
    {
      "cell_type": "code",
      "source": [
        "# Final ridge model with lambda.min\n",
        "ridge.model <- glmnet(x, y, alpha = 0, family = \"binomial\",\n",
        "                      lambda = cv.ridge$lambda.min)\n",
        "\n",
        "# Make prediction on TRAIN\n",
        "x.train <- model.matrix(diabetes ~., train.data)[,-1]\n",
        "probabilities <- ridge.model %>% predict(newx = x.train)\n",
        "predicted.classes <- ifelse(probabilities > 0.3, \"pos\", \"neg\")\n",
        "# Model accuracy\n",
        "observed.classes <- train.data$diabetes\n",
        "print(\"ENTRENAMIENTO\")\n",
        "print(confusionMatrix(as.factor(predicted.classes),observed.classes))\n",
        "\n",
        "# Make prediction on TEST\n",
        "x.test <- model.matrix(diabetes ~., test.data)[,-1]\n",
        "probabilities <- ridge.model %>% predict(newx = x.test)\n",
        "predicted.classes <- ifelse(probabilities > 0.3, \"pos\", \"neg\")\n",
        "# Model accuracy\n",
        "observed.classes <- test.data$diabetes\n",
        "print(\"PRUEBA\")\n",
        "print(confusionMatrix(as.factor(predicted.classes),observed.classes))"
      ],
      "metadata": {
        "colab": {
          "base_uri": "https://localhost:8080/"
        },
        "id": "fqwKkD6bMSTq",
        "outputId": "b0d3a085-3a82-4485-8fbd-96649ba57180"
      },
      "execution_count": 94,
      "outputs": [
        {
          "output_type": "stream",
          "name": "stdout",
          "text": [
            "[1] \"ENTRENAMIENTO\"\n",
            "Confusion Matrix and Statistics\n",
            "\n",
            "          Reference\n",
            "Prediction neg pos\n",
            "       neg 196  48\n",
            "       pos  14  56\n",
            "                                          \n",
            "               Accuracy : 0.8025          \n",
            "                 95% CI : (0.7542, 0.8451)\n",
            "    No Information Rate : 0.6688          \n",
            "    P-Value [Acc > NIR] : 1.035e-07       \n",
            "                                          \n",
            "                  Kappa : 0.5142          \n",
            "                                          \n",
            " Mcnemar's Test P-Value : 2.777e-05       \n",
            "                                          \n",
            "            Sensitivity : 0.9333          \n",
            "            Specificity : 0.5385          \n",
            "         Pos Pred Value : 0.8033          \n",
            "         Neg Pred Value : 0.8000          \n",
            "             Prevalence : 0.6688          \n",
            "         Detection Rate : 0.6242          \n",
            "   Detection Prevalence : 0.7771          \n",
            "      Balanced Accuracy : 0.7359          \n",
            "                                          \n",
            "       'Positive' Class : neg             \n",
            "                                          \n",
            "[1] \"PRUEBA\"\n",
            "Confusion Matrix and Statistics\n",
            "\n",
            "          Reference\n",
            "Prediction neg pos\n",
            "       neg  46  12\n",
            "       pos   6  14\n",
            "                                        \n",
            "               Accuracy : 0.7692        \n",
            "                 95% CI : (0.66, 0.8571)\n",
            "    No Information Rate : 0.6667        \n",
            "    P-Value [Acc > NIR] : 0.03295       \n",
            "                                        \n",
            "                  Kappa : 0.449         \n",
            "                                        \n",
            " Mcnemar's Test P-Value : 0.23859       \n",
            "                                        \n",
            "            Sensitivity : 0.8846        \n",
            "            Specificity : 0.5385        \n",
            "         Pos Pred Value : 0.7931        \n",
            "         Neg Pred Value : 0.7000        \n",
            "             Prevalence : 0.6667        \n",
            "         Detection Rate : 0.5897        \n",
            "   Detection Prevalence : 0.7436        \n",
            "      Balanced Accuracy : 0.7115        \n",
            "                                        \n",
            "       'Positive' Class : neg           \n",
            "                                        \n"
          ]
        }
      ]
    },
    {
      "cell_type": "code",
      "source": [
        "# Final ridge model with lambda.1se\n",
        "ridge.model <- glmnet(x, y, alpha = 0, family = \"binomial\",\n",
        "                      lambda = cv.lasso$lambda.1se)\n",
        "\n",
        "# Make prediction on TRAIN\n",
        "x.train <- model.matrix(diabetes ~., train.data)[,-1]\n",
        "probabilities <- ridge.model %>% predict(newx = x.train)\n",
        "predicted.classes <- ifelse(probabilities > 0.3, \"pos\", \"neg\")\n",
        "# Model accuracy rate\n",
        "observed.classes <- train.data$diabetes\n",
        "print(\"ENTRENAMIENTO\")\n",
        "print(confusionMatrix(as.factor(predicted.classes),observed.classes))\n",
        "\n",
        "# Make prediction on TEST\n",
        "x.test <- model.matrix(diabetes ~., test.data)[,-1]\n",
        "probabilities <- ridge.model %>% predict(newx = x.test)\n",
        "predicted.classes <- ifelse(probabilities > 0.3, \"pos\", \"neg\")\n",
        "# Model accuracy rate\n",
        "observed.classes <- test.data$diabetes\n",
        "print(\"PRUEBA\")\n",
        "print(confusionMatrix(as.factor(predicted.classes),observed.classes))"
      ],
      "metadata": {
        "colab": {
          "base_uri": "https://localhost:8080/"
        },
        "id": "HMKSCpmEMote",
        "outputId": "be0770aa-e580-41e2-ed82-8d72f601702b"
      },
      "execution_count": 95,
      "outputs": [
        {
          "output_type": "stream",
          "name": "stdout",
          "text": [
            "[1] \"ENTRENAMIENTO\"\n",
            "Confusion Matrix and Statistics\n",
            "\n",
            "          Reference\n",
            "Prediction neg pos\n",
            "       neg 198  53\n",
            "       pos  12  51\n",
            "                                          \n",
            "               Accuracy : 0.793           \n",
            "                 95% CI : (0.7439, 0.8364)\n",
            "    No Information Rate : 0.6688          \n",
            "    P-Value [Acc > NIR] : 8.035e-07       \n",
            "                                          \n",
            "                  Kappa : 0.4811          \n",
            "                                          \n",
            " Mcnemar's Test P-Value : 6.999e-07       \n",
            "                                          \n",
            "            Sensitivity : 0.9429          \n",
            "            Specificity : 0.4904          \n",
            "         Pos Pred Value : 0.7888          \n",
            "         Neg Pred Value : 0.8095          \n",
            "             Prevalence : 0.6688          \n",
            "         Detection Rate : 0.6306          \n",
            "   Detection Prevalence : 0.7994          \n",
            "      Balanced Accuracy : 0.7166          \n",
            "                                          \n",
            "       'Positive' Class : neg             \n",
            "                                          \n",
            "[1] \"PRUEBA\"\n",
            "Confusion Matrix and Statistics\n",
            "\n",
            "          Reference\n",
            "Prediction neg pos\n",
            "       neg  46  13\n",
            "       pos   6  13\n",
            "                                         \n",
            "               Accuracy : 0.7564         \n",
            "                 95% CI : (0.646, 0.8465)\n",
            "    No Information Rate : 0.6667         \n",
            "    P-Value [Acc > NIR] : 0.05651        \n",
            "                                         \n",
            "                  Kappa : 0.4124         \n",
            "                                         \n",
            " Mcnemar's Test P-Value : 0.16867        \n",
            "                                         \n",
            "            Sensitivity : 0.8846         \n",
            "            Specificity : 0.5000         \n",
            "         Pos Pred Value : 0.7797         \n",
            "         Neg Pred Value : 0.6842         \n",
            "             Prevalence : 0.6667         \n",
            "         Detection Rate : 0.5897         \n",
            "   Detection Prevalence : 0.7564         \n",
            "      Balanced Accuracy : 0.6923         \n",
            "                                         \n",
            "       'Positive' Class : neg            \n",
            "                                         \n"
          ]
        }
      ]
    },
    {
      "cell_type": "markdown",
      "source": [
        "## Redes ELASTIC NET"
      ],
      "metadata": {
        "id": "PUFc1AAhNbxF"
      }
    },
    {
      "cell_type": "code",
      "source": [
        "# aqui hago redes elasticas de 0.1 a 0.9\n",
        "for (i in 1:9){\n",
        "  assign(paste(\"found\", i, sep=\"\"), cv.glmnet(x, y, nfolds=5, alpha=i/10, family = \"binomial\"))}"
      ],
      "metadata": {
        "id": "ssWV495SNfTW"
      },
      "execution_count": 66,
      "outputs": []
    },
    {
      "cell_type": "code",
      "source": [
        "min(cv.ridge$cvm)"
      ],
      "metadata": {
        "colab": {
          "base_uri": "https://localhost:8080/",
          "height": 34
        },
        "id": "M0Yl9qnXNv9h",
        "outputId": "91644853-951e-4e20-e89f-fece04927903"
      },
      "execution_count": 67,
      "outputs": [
        {
          "output_type": "display_data",
          "data": {
            "text/html": [
              "0.903789220698213"
            ],
            "text/markdown": "0.903789220698213",
            "text/latex": "0.903789220698213",
            "text/plain": [
              "[1] 0.9037892"
            ]
          },
          "metadata": {}
        }
      ]
    },
    {
      "cell_type": "code",
      "source": [
        "min(found1$cvm)"
      ],
      "metadata": {
        "colab": {
          "base_uri": "https://localhost:8080/",
          "height": 34
        },
        "id": "qxqIW188N95v",
        "outputId": "6aa2a9e1-959d-4108-92bf-368ab22b63f6"
      },
      "execution_count": 68,
      "outputs": [
        {
          "output_type": "display_data",
          "data": {
            "text/html": [
              "0.897363255812748"
            ],
            "text/markdown": "0.897363255812748",
            "text/latex": "0.897363255812748",
            "text/plain": [
              "[1] 0.8973633"
            ]
          },
          "metadata": {}
        }
      ]
    },
    {
      "cell_type": "code",
      "source": [
        "min(found2$cvm)"
      ],
      "metadata": {
        "colab": {
          "base_uri": "https://localhost:8080/",
          "height": 34
        },
        "id": "PvmFUOQkOk5K",
        "outputId": "be94a5e4-25c3-4b37-a340-4c1258ee94f5"
      },
      "execution_count": 69,
      "outputs": [
        {
          "output_type": "display_data",
          "data": {
            "text/html": [
              "0.900132512992223"
            ],
            "text/markdown": "0.900132512992223",
            "text/latex": "0.900132512992223",
            "text/plain": [
              "[1] 0.9001325"
            ]
          },
          "metadata": {}
        }
      ]
    },
    {
      "cell_type": "code",
      "source": [
        "min(found3$cvm)"
      ],
      "metadata": {
        "colab": {
          "base_uri": "https://localhost:8080/",
          "height": 34
        },
        "id": "GmsgQ2-QOk8H",
        "outputId": "d6bc5489-a9e9-4df9-b670-b569f8f02443"
      },
      "execution_count": 70,
      "outputs": [
        {
          "output_type": "display_data",
          "data": {
            "text/html": [
              "0.933891826396919"
            ],
            "text/markdown": "0.933891826396919",
            "text/latex": "0.933891826396919",
            "text/plain": [
              "[1] 0.9338918"
            ]
          },
          "metadata": {}
        }
      ]
    },
    {
      "cell_type": "code",
      "source": [
        "min(found4$cvm)"
      ],
      "metadata": {
        "colab": {
          "base_uri": "https://localhost:8080/",
          "height": 34
        },
        "id": "6yIHMJO2Ok_M",
        "outputId": "430130f1-bada-46c6-d155-4bd0cbb35cc0"
      },
      "execution_count": 28,
      "outputs": [
        {
          "output_type": "display_data",
          "data": {
            "text/html": [
              "0.906202916226719"
            ],
            "text/markdown": "0.906202916226719",
            "text/latex": "0.906202916226719",
            "text/plain": [
              "[1] 0.9062029"
            ]
          },
          "metadata": {}
        }
      ]
    },
    {
      "cell_type": "code",
      "source": [
        "min(found5$cvm)"
      ],
      "metadata": {
        "colab": {
          "base_uri": "https://localhost:8080/",
          "height": 34
        },
        "id": "IV--cVWkOlCY",
        "outputId": "336fa326-8f56-4501-8449-e5774730b8d9"
      },
      "execution_count": 29,
      "outputs": [
        {
          "output_type": "display_data",
          "data": {
            "text/html": [
              "0.903718728029645"
            ],
            "text/markdown": "0.903718728029645",
            "text/latex": "0.903718728029645",
            "text/plain": [
              "[1] 0.9037187"
            ]
          },
          "metadata": {}
        }
      ]
    },
    {
      "cell_type": "code",
      "source": [
        "min(found6$cvm)"
      ],
      "metadata": {
        "colab": {
          "base_uri": "https://localhost:8080/",
          "height": 34
        },
        "id": "iHAsSDF-OlES",
        "outputId": "62876773-c93c-47df-8fc0-f196a13a024d"
      },
      "execution_count": 30,
      "outputs": [
        {
          "output_type": "display_data",
          "data": {
            "text/html": [
              "0.949541296618046"
            ],
            "text/markdown": "0.949541296618046",
            "text/latex": "0.949541296618046",
            "text/plain": [
              "[1] 0.9495413"
            ]
          },
          "metadata": {}
        }
      ]
    },
    {
      "cell_type": "code",
      "source": [
        "min(found7$cvm)"
      ],
      "metadata": {
        "colab": {
          "base_uri": "https://localhost:8080/",
          "height": 34
        },
        "id": "3pBRnKCtOlGn",
        "outputId": "f199d2fb-f08c-4d74-be57-70c50a401b63"
      },
      "execution_count": 31,
      "outputs": [
        {
          "output_type": "display_data",
          "data": {
            "text/html": [
              "0.932353115411799"
            ],
            "text/markdown": "0.932353115411799",
            "text/latex": "0.932353115411799",
            "text/plain": [
              "[1] 0.9323531"
            ]
          },
          "metadata": {}
        }
      ]
    },
    {
      "cell_type": "code",
      "source": [
        "min(found8$cvm)"
      ],
      "metadata": {
        "colab": {
          "base_uri": "https://localhost:8080/",
          "height": 34
        },
        "id": "wBAarzEwOlJG",
        "outputId": "ffc26a06-98b1-4396-8ce5-30de7331186e"
      },
      "execution_count": 32,
      "outputs": [
        {
          "output_type": "display_data",
          "data": {
            "text/html": [
              "0.917956655362018"
            ],
            "text/markdown": "0.917956655362018",
            "text/latex": "0.917956655362018",
            "text/plain": [
              "[1] 0.9179567"
            ]
          },
          "metadata": {}
        }
      ]
    },
    {
      "cell_type": "code",
      "source": [
        "min(found9$cvm)"
      ],
      "metadata": {
        "colab": {
          "base_uri": "https://localhost:8080/",
          "height": 34
        },
        "id": "kAcQknbxOyuP",
        "outputId": "02f1db4d-89a8-49ea-f5d7-188f0d74c042"
      },
      "execution_count": 33,
      "outputs": [
        {
          "output_type": "display_data",
          "data": {
            "text/html": [
              "0.913348388208071"
            ],
            "text/markdown": "0.913348388208071",
            "text/latex": "0.913348388208071",
            "text/plain": [
              "[1] 0.9133484"
            ]
          },
          "metadata": {}
        }
      ]
    },
    {
      "cell_type": "code",
      "source": [
        "min(cv.lasso$cvm)"
      ],
      "metadata": {
        "colab": {
          "base_uri": "https://localhost:8080/",
          "height": 34
        },
        "id": "mTQ8dHX8O1jM",
        "outputId": "1b42d8e7-edc1-4249-c160-f45ccfcb169a"
      },
      "execution_count": 34,
      "outputs": [
        {
          "output_type": "display_data",
          "data": {
            "text/html": [
              "0.905993995513057"
            ],
            "text/markdown": "0.905993995513057",
            "text/latex": "0.905993995513057",
            "text/plain": [
              "[1] 0.905994"
            ]
          },
          "metadata": {}
        }
      ]
    },
    {
      "cell_type": "code",
      "source": [
        "elastic3 <- glmnet(x, y, alpha = 0.1, family = \"binomial\")\n",
        "coef(elastic3, s=found3$lambda.1se)"
      ],
      "metadata": {
        "colab": {
          "base_uri": "https://localhost:8080/",
          "height": 208
        },
        "collapsed": true,
        "id": "roottyWMT60F",
        "outputId": "7be86a11-13d5-4ed1-bde6-4e0b44bafbef"
      },
      "execution_count": 71,
      "outputs": [
        {
          "output_type": "display_data",
          "data": {
            "text/plain": [
              "9 x 1 sparse Matrix of class \"dgCMatrix\"\n",
              "                      s1\n",
              "(Intercept) -4.864679218\n",
              "pregnant     0.035819779\n",
              "glucose      0.013456006\n",
              "pressure     0.003945337\n",
              "triceps      0.011442393\n",
              "insulin      0.001307383\n",
              "mass         0.023983657\n",
              "pedigree     0.338073021\n",
              "age          0.017513388"
            ]
          },
          "metadata": {}
        }
      ]
    },
    {
      "cell_type": "code",
      "source": [
        "# Final elastic net model with lambda.min\n",
        "elastic3 <- glmnet(x, y, alpha = 0.1, family = \"binomial\",\n",
        "                      lambda = found3$lambda.min)\n",
        "\n",
        "# Make prediction on TRAIN\n",
        "x.train <- model.matrix(diabetes ~., train.data)[,-1]\n",
        "probabilities <- elastic3 %>% predict(newx = x.train)\n",
        "predicted.classes <- ifelse(probabilities > 0.3, \"pos\", \"neg\")\n",
        "# Model accuracy\n",
        "observed.classes <- train.data$diabetes\n",
        "print(\"ENTRENAMIENTO\")\n",
        "print(confusionMatrix(as.factor(predicted.classes),observed.classes))\n",
        "\n",
        "# Make prediction on TEST\n",
        "x.test <- model.matrix(diabetes ~., test.data)[,-1]\n",
        "probabilities <- elastic3 %>% predict(newx = x.test)\n",
        "predicted.classes <- ifelse(probabilities > 0.3, \"pos\", \"neg\")\n",
        "# Model accuracy\n",
        "observed.classes <- test.data$diabetes\n",
        "print(\"PRUEBA\")\n",
        "print(confusionMatrix(as.factor(predicted.classes),observed.classes))"
      ],
      "metadata": {
        "colab": {
          "base_uri": "https://localhost:8080/"
        },
        "id": "NWWykNBgUJzj",
        "outputId": "72fe7781-5e63-4c8d-c408-5c63c6d75696"
      },
      "execution_count": 96,
      "outputs": [
        {
          "output_type": "stream",
          "name": "stdout",
          "text": [
            "[1] \"ENTRENAMIENTO\"\n",
            "Confusion Matrix and Statistics\n",
            "\n",
            "          Reference\n",
            "Prediction neg pos\n",
            "       neg 196  49\n",
            "       pos  14  55\n",
            "                                          \n",
            "               Accuracy : 0.7994          \n",
            "                 95% CI : (0.7507, 0.8422)\n",
            "    No Information Rate : 0.6688          \n",
            "    P-Value [Acc > NIR] : 2.089e-07       \n",
            "                                          \n",
            "                  Kappa : 0.5051          \n",
            "                                          \n",
            " Mcnemar's Test P-Value : 1.839e-05       \n",
            "                                          \n",
            "            Sensitivity : 0.9333          \n",
            "            Specificity : 0.5288          \n",
            "         Pos Pred Value : 0.8000          \n",
            "         Neg Pred Value : 0.7971          \n",
            "             Prevalence : 0.6688          \n",
            "         Detection Rate : 0.6242          \n",
            "   Detection Prevalence : 0.7803          \n",
            "      Balanced Accuracy : 0.7311          \n",
            "                                          \n",
            "       'Positive' Class : neg             \n",
            "                                          \n",
            "[1] \"PRUEBA\"\n",
            "Confusion Matrix and Statistics\n",
            "\n",
            "          Reference\n",
            "Prediction neg pos\n",
            "       neg  46  12\n",
            "       pos   6  14\n",
            "                                        \n",
            "               Accuracy : 0.7692        \n",
            "                 95% CI : (0.66, 0.8571)\n",
            "    No Information Rate : 0.6667        \n",
            "    P-Value [Acc > NIR] : 0.03295       \n",
            "                                        \n",
            "                  Kappa : 0.449         \n",
            "                                        \n",
            " Mcnemar's Test P-Value : 0.23859       \n",
            "                                        \n",
            "            Sensitivity : 0.8846        \n",
            "            Specificity : 0.5385        \n",
            "         Pos Pred Value : 0.7931        \n",
            "         Neg Pred Value : 0.7000        \n",
            "             Prevalence : 0.6667        \n",
            "         Detection Rate : 0.5897        \n",
            "   Detection Prevalence : 0.7436        \n",
            "      Balanced Accuracy : 0.7115        \n",
            "                                        \n",
            "       'Positive' Class : neg           \n",
            "                                        \n"
          ]
        }
      ]
    },
    {
      "cell_type": "code",
      "source": [
        "# Final elastic net model with lambda.1se\n",
        "elastic3 <- glmnet(x, y, alpha = 0.1, family = \"binomial\",\n",
        "                      lambda = found3$lambda.1se)\n",
        "\n",
        "# Make prediction on TRAIN\n",
        "x.train <- model.matrix(diabetes ~., train.data)[,-1]\n",
        "probabilities <- elastic3 %>% predict(newx = x.train)\n",
        "predicted.classes <- ifelse(probabilities > 0.3, \"pos\", \"neg\")\n",
        "# Model accuracy\n",
        "observed.classes <- train.data$diabetes\n",
        "print(\"PRUEBA\")\n",
        "print(confusionMatrix(as.factor(predicted.classes),observed.classes))\n",
        "\n",
        "# Make prediction on TEST\n",
        "x.test <- model.matrix(diabetes ~., test.data)[,-1]\n",
        "probabilities <- elastic3 %>% predict(newx = x.test)\n",
        "predicted.classes <- ifelse(probabilities > 0.3, \"pos\", \"neg\")\n",
        "# Model accuracy\n",
        "observed.classes <- test.data$diabetes\n",
        "print(\"PRUEBA\")\n",
        "print(confusionMatrix(as.factor(predicted.classes),observed.classes))"
      ],
      "metadata": {
        "colab": {
          "base_uri": "https://localhost:8080/"
        },
        "id": "32Szi6X_Uq-h",
        "outputId": "5e9efe1f-5ad6-4fe2-c8fc-eddc19d623bf"
      },
      "execution_count": 97,
      "outputs": [
        {
          "output_type": "stream",
          "name": "stdout",
          "text": [
            "[1] \"PRUEBA\"\n",
            "Confusion Matrix and Statistics\n",
            "\n",
            "          Reference\n",
            "Prediction neg pos\n",
            "       neg 206  78\n",
            "       pos   4  26\n",
            "                                          \n",
            "               Accuracy : 0.7389          \n",
            "                 95% CI : (0.6866, 0.7866)\n",
            "    No Information Rate : 0.6688          \n",
            "    P-Value [Acc > NIR] : 0.004366        \n",
            "                                          \n",
            "                  Kappa : 0.2815          \n",
            "                                          \n",
            " Mcnemar's Test P-Value : 7.536e-16       \n",
            "                                          \n",
            "            Sensitivity : 0.9810          \n",
            "            Specificity : 0.2500          \n",
            "         Pos Pred Value : 0.7254          \n",
            "         Neg Pred Value : 0.8667          \n",
            "             Prevalence : 0.6688          \n",
            "         Detection Rate : 0.6561          \n",
            "   Detection Prevalence : 0.9045          \n",
            "      Balanced Accuracy : 0.6155          \n",
            "                                          \n",
            "       'Positive' Class : neg             \n",
            "                                          \n",
            "[1] \"PRUEBA\"\n",
            "Confusion Matrix and Statistics\n",
            "\n",
            "          Reference\n",
            "Prediction neg pos\n",
            "       neg  50  18\n",
            "       pos   2   8\n",
            "                                          \n",
            "               Accuracy : 0.7436          \n",
            "                 95% CI : (0.6321, 0.8358)\n",
            "    No Information Rate : 0.6667          \n",
            "    P-Value [Acc > NIR] : 0.0912679       \n",
            "                                          \n",
            "                  Kappa : 0.3182          \n",
            "                                          \n",
            " Mcnemar's Test P-Value : 0.0007962       \n",
            "                                          \n",
            "            Sensitivity : 0.9615          \n",
            "            Specificity : 0.3077          \n",
            "         Pos Pred Value : 0.7353          \n",
            "         Neg Pred Value : 0.8000          \n",
            "             Prevalence : 0.6667          \n",
            "         Detection Rate : 0.6410          \n",
            "   Detection Prevalence : 0.8718          \n",
            "      Balanced Accuracy : 0.6346          \n",
            "                                          \n",
            "       'Positive' Class : neg             \n",
            "                                          \n"
          ]
        }
      ]
    }
  ]
}