{
  "nbformat": 4,
  "nbformat_minor": 0,
  "metadata": {
    "colab": {
      "provenance": []
    },
    "kernelspec": {
      "name": "ir",
      "display_name": "R"
    },
    "language_info": {
      "name": "R"
    }
  },
  "cells": [
    {
      "cell_type": "markdown",
      "source": [
        "# Regresión logística"
      ],
      "metadata": {
        "id": "aMdYpr4uGdUR"
      }
    },
    {
      "cell_type": "markdown",
      "source": [
        "## Introducción"
      ],
      "metadata": {
        "id": "B5J9A0zsG2LK"
      }
    },
    {
      "cell_type": "markdown",
      "source": [
        "El objetivo de este archivo es mostrar el desarrollo de regresión logística en el marco de machine learning y el modelo lineal general.\n",
        "\n",
        "Cuando hablamos de regresión logística nos referimos a una tarea de predicción de una variable con múltiples categorías, lo cual es conocido como un problema de clasificación. En particular en este libro de notas nos restringiremos a la regresión logística binaria, en la que los posibles resultados de la variable predictora son solo dos, y se puede pensar en que la respuesta es una variable binomial."
      ],
      "metadata": {
        "id": "68rc1pQtHADJ"
      }
    },
    {
      "cell_type": "markdown",
      "source": [
        "##Data and business understanding"
      ],
      "metadata": {
        "id": "nmCU6GD1HCdf"
      }
    },
    {
      "cell_type": "markdown",
      "source": [
        "Trabajaremos con el contexto del archivo de cartera de empresas. Para mantener los libros de nota modulares, repetiré aquí el contexto:"
      ],
      "metadata": {
        "id": "YTOf-5GJHGSA"
      }
    },
    {
      "cell_type": "code",
      "execution_count": null,
      "metadata": {
        "id": "ltWNxM6O5IDp",
        "colab": {
          "base_uri": "https://localhost:8080/"
        },
        "outputId": "a7403510-fbd2-449c-f4f2-3a27de0b62dc"
      },
      "outputs": [
        {
          "output_type": "stream",
          "name": "stderr",
          "text": [
            "Loading required package: caret\n",
            "\n",
            "Warning message in library(package, lib.loc = lib.loc, character.only = TRUE, logical.return = TRUE, :\n",
            "“there is no package called ‘caret’”\n",
            "Installing package into ‘/usr/local/lib/R/site-library’\n",
            "(as ‘lib’ is unspecified)\n",
            "\n",
            "also installing the dependencies ‘listenv’, ‘parallelly’, ‘future’, ‘globals’, ‘shape’, ‘future.apply’, ‘numDeriv’, ‘progressr’, ‘SQUAREM’, ‘diagram’, ‘lava’, ‘prodlim’, ‘proxy’, ‘iterators’, ‘Rcpp’, ‘clock’, ‘gower’, ‘hardhat’, ‘ipred’, ‘timeDate’, ‘e1071’, ‘foreach’, ‘ModelMetrics’, ‘plyr’, ‘pROC’, ‘recipes’, ‘reshape2’\n",
            "\n",
            "\n",
            "Loading required package: ROCR\n",
            "\n",
            "Warning message in library(package, lib.loc = lib.loc, character.only = TRUE, logical.return = TRUE, :\n",
            "“there is no package called ‘ROCR’”\n",
            "Installing package into ‘/usr/local/lib/R/site-library’\n",
            "(as ‘lib’ is unspecified)\n",
            "\n",
            "also installing the dependencies ‘bitops’, ‘gtools’, ‘caTools’, ‘gplots’\n",
            "\n",
            "\n"
          ]
        }
      ],
      "source": [
        "if (!require('caret')) install.packages('caret')\n",
        "if (!require('ROCR')) install.packages('ROCR')"
      ]
    },
    {
      "cell_type": "code",
      "source": [
        "library(caret)\n",
        "library(ROCR)\n",
        "library(ggplot2)\n",
        "library(readxl)"
      ],
      "metadata": {
        "id": "fKb7FESf8Qiq",
        "colab": {
          "base_uri": "https://localhost:8080/"
        },
        "outputId": "101e6651-297f-4cb7-ae68-bbcc1b56ef59"
      },
      "execution_count": null,
      "outputs": [
        {
          "output_type": "stream",
          "name": "stderr",
          "text": [
            "Loading required package: ggplot2\n",
            "\n",
            "Loading required package: lattice\n",
            "\n"
          ]
        }
      ]
    },
    {
      "cell_type": "code",
      "source": [
        "cartera<-read_excel(\"carteraguia2017.xlsx\")\n",
        "str(cartera)"
      ],
      "metadata": {
        "id": "07pH2iJu5_gp",
        "colab": {
          "base_uri": "https://localhost:8080/"
        },
        "outputId": "ad24aeeb-9d1a-417d-d245-e74080f89ac1"
      },
      "execution_count": null,
      "outputs": [
        {
          "output_type": "stream",
          "name": "stdout",
          "text": [
            "tibble [852 × 9] (S3: tbl_df/tbl/data.frame)\n",
            " $ MESES                   : num [1:852] 41 27 40 41 24 41 39 43 24 36 ...\n",
            " $ TIPO_ips                : num [1:852] 3 1 1 1 2 2 1 1 1 1 ...\n",
            " $ IGUAL_DUENO             : num [1:852] 17 10 15 15 2 5 20 12 3 0 ...\n",
            " $ AGNOS_DIRECCION_ACTUAL  : num [1:852] 12 6 14 14 0 5 9 11 4 13 ...\n",
            " $ VENTAS_MENS_PROMEDIO    : num [1:852] 176 31 55 120 28 25 67 38 19 25 ...\n",
            " $ PORC_PASIVOS_VENTA_ANUAL: num [1:852] 9.3 17.3 5.5 2.9 17.3 10.2 30.6 3.6 24.4 19.7 ...\n",
            " $ cartera_actual_insumos_A: num [1:852] 11.359 1.362 0.856 2.659 1.787 ...\n",
            " $ cartera_actual_insumos_B: num [1:852] 5.009 4.001 2.169 0.821 3.057 ...\n",
            " $ retrasos                : num [1:852] 1 0 0 0 1 0 0 0 1 0 ...\n"
          ]
        }
      ]
    },
    {
      "cell_type": "markdown",
      "source": [
        "El archivo contiene datos de clientes de un proveedor de instituciones de salud (IPS), la cartera que presentan y si se han retrasado o no. Se trata entonces de un negocio B2B en el sector de la salud que desea predecir o averiguar indicadores de posibles aumentos y retrasos en su cartera\n",
        "\n",
        "Entre las variables predictoras se incluyen:\n",
        "\n",
        "\n",
        "*   Tipo_IPS: De 1 a5, el nivel de complejidad de la institución de salud cliente (1=bajo, 5=alto)\n",
        "\n",
        "*   MESES: Los meses que la empresa lleva siendo clientes del proveedor.\n",
        "\n",
        "*   IGUAL_DUEÑO: Número de años en que la IPS ha tenido el mismo dueño.\n",
        "\n",
        "*   AGNOS_DIRECCION_ACTUAL: Número de años en que la IPS ha estado en la misma dirección.\n",
        "\n",
        "*   VENTAS_MENS_PROMEDIO: Valor de ventas mensuales promedio de la IPS en millones de pesos.\n",
        "\n",
        "*   PORC_PASIVOS_VENTA_ANUAL: Porcentaje de pasivos/ venta anual del último balance disponible.\n",
        "\n",
        "\n",
        "*   CARTERA_ACTUAL_INSUMOS_A: Valor de la deuda con el proveedor en insumos de alta rotación (gasa, jeringas, por ejemplo) en millones de pesos.\n",
        "\n",
        "*   CARTERA_ACTUAL_INSUMOS_B: Valor de la deuda con el proveedor en insumos de baja rotación (equipos, instrumentos, por ejemplo) en millones de pesos.\n",
        "\n",
        "\n",
        "\n",
        "La variable a predecir son los RETRASOS, que indican sí el cliente se ha retrasado o no, siendo 1=sí y 0=No."
      ],
      "metadata": {
        "id": "0BqJhky2HYaj"
      }
    },
    {
      "cell_type": "markdown",
      "source": [
        "##Data preparation"
      ],
      "metadata": {
        "id": "4fZgiOm2Hcef"
      }
    },
    {
      "cell_type": "markdown",
      "source": [
        "Primero vamos a convertir a factores las dos variables que lo requieren: Tipo IPS y retrasos. También vamos a crear variables binarias para los tipos de IPS y luego retirar la variable TIPO IPS."
      ],
      "metadata": {
        "id": "gmjq_yuGHeDB"
      }
    },
    {
      "cell_type": "code",
      "source": [
        "cartera$TIPOips<-as.factor(cartera$TIPO_ips)\n",
        "cartera$retrasos<-as.factor(cartera$retrasos)"
      ],
      "metadata": {
        "id": "Gz9XZ9i6HagQ"
      },
      "execution_count": null,
      "outputs": []
    },
    {
      "cell_type": "code",
      "source": [
        "#carterawin<-dummyVars(\"~.\",data=cartera)\n",
        "#carterafin<-as.data.frame(predict(carterawin,newdata=cartera))\n",
        "#carterafin2<-within(carterafin,rm(TIPOips.5,TIPO_ips))\n",
        "#carterafin2$retrasos<-as.factor(carterafin2$retrasos)"
      ],
      "metadata": {
        "id": "7uBRkdZJ8Oki"
      },
      "execution_count": null,
      "outputs": []
    },
    {
      "cell_type": "markdown",
      "source": [
        "Si se desea se puede realizar una exploración básica de las variables independientes antes de separarlas en bases de entrenamiento y validación, lo que se deja al lector.\n",
        "\n",
        "De todos modos, es importante ver la proporción de retrasos vs. no retrasos. En caso de que una de las clases, usualmente la clase que más interesa predecir, tenga un porcentaje mucho menor que la otra (digamos, menos del 20%) es necesario un balanceo de la base de datos."
      ],
      "metadata": {
        "id": "vYZrz0wdHoWv"
      }
    },
    {
      "cell_type": "code",
      "source": [
        "balance<-table(cartera$retrasos)\n",
        "prop.table(balance)"
      ],
      "metadata": {
        "id": "HosRaryq8ZZL",
        "colab": {
          "base_uri": "https://localhost:8080/",
          "height": 69
        },
        "outputId": "a223f24d-f95f-4581-980b-c7332131019f"
      },
      "execution_count": null,
      "outputs": [
        {
          "output_type": "display_data",
          "data": {
            "text/plain": [
              "\n",
              "        0         1 \n",
              "0.7734742 0.2265258 "
            ]
          },
          "metadata": {}
        }
      ]
    },
    {
      "cell_type": "markdown",
      "source": [
        "Incialmente no es necesario un balanceo, pero podemos considerarlo más adelante si queremos que el algoritmo “aprenda” más sobre los retrasos.\n",
        "\n",
        "Creemos bases de entrenamiento y validación"
      ],
      "metadata": {
        "id": "QXBN_kV7IVFf"
      }
    },
    {
      "cell_type": "code",
      "source": [
        "set.seed(1)\n",
        "#aquí se define el tamaño de la muestra, en este caso entrenamiento tendrá el 75% de los casos"
      ],
      "metadata": {
        "id": "MuMctzvi8dL0"
      },
      "execution_count": null,
      "outputs": []
    },
    {
      "cell_type": "code",
      "source": [
        "sample <- sample.int(nrow(cartera), floor(.75*nrow(cartera)))\n",
        "cartera.train <- cartera[sample, ]\n",
        "cartera.test <- cartera[-sample, ]"
      ],
      "metadata": {
        "id": "0hTZmfM684tL"
      },
      "execution_count": null,
      "outputs": []
    },
    {
      "cell_type": "markdown",
      "source": [
        "## Modelling"
      ],
      "metadata": {
        "id": "2LyxkToDIZH_"
      }
    },
    {
      "cell_type": "markdown",
      "source": [
        "Ahora podemos hacer un modelo de regresión logística basado en pasos sucesivos:"
      ],
      "metadata": {
        "id": "QGpnrWb_Ibso"
      }
    },
    {
      "cell_type": "code",
      "source": [
        "##Modelo\n",
        "modelo.logit<-glm(retrasos~.,family=binomial,cartera.train)\n",
        "#trace=0 impide ver todos los detalles de la optimización stepwise\n",
        "steplogit<-step(modelo.logit, direction=\"both\")\n",
        "summary(steplogit)"
      ],
      "metadata": {
        "id": "eof2GeZ788I9",
        "colab": {
          "base_uri": "https://localhost:8080/",
          "height": 1000
        },
        "outputId": "62a6f447-bc05-4c25-a847-c886a2656245"
      },
      "execution_count": null,
      "outputs": [
        {
          "output_type": "stream",
          "name": "stdout",
          "text": [
            "Start:  AIC=510.69\n",
            "retrasos ~ MESES + TIPO_ips + IGUAL_DUENO + AGNOS_DIRECCION_ACTUAL + \n",
            "    VENTAS_MENS_PROMEDIO + PORC_PASIVOS_VENTA_ANUAL + cartera_actual_insumos_A + \n",
            "    cartera_actual_insumos_B + TIPOips\n",
            "\n",
            "\n",
            "Step:  AIC=510.69\n",
            "retrasos ~ MESES + IGUAL_DUENO + AGNOS_DIRECCION_ACTUAL + VENTAS_MENS_PROMEDIO + \n",
            "    PORC_PASIVOS_VENTA_ANUAL + cartera_actual_insumos_A + cartera_actual_insumos_B + \n",
            "    TIPOips\n",
            "\n",
            "                           Df Deviance    AIC\n",
            "- TIPOips                   4   490.67 506.67\n",
            "- cartera_actual_insumos_B  1   486.88 508.88\n",
            "- MESES                     1   487.85 509.85\n",
            "- VENTAS_MENS_PROMEDIO      1   487.98 509.98\n",
            "<none>                          486.69 510.69\n",
            "- AGNOS_DIRECCION_ACTUAL    1   494.80 516.80\n",
            "- PORC_PASIVOS_VENTA_ANUAL  1   497.78 519.78\n",
            "- cartera_actual_insumos_A  1   519.74 541.74\n",
            "- IGUAL_DUENO               1   540.85 562.85\n",
            "\n",
            "Step:  AIC=506.67\n",
            "retrasos ~ MESES + IGUAL_DUENO + AGNOS_DIRECCION_ACTUAL + VENTAS_MENS_PROMEDIO + \n",
            "    PORC_PASIVOS_VENTA_ANUAL + cartera_actual_insumos_A + cartera_actual_insumos_B\n",
            "\n",
            "                           Df Deviance    AIC\n",
            "- cartera_actual_insumos_B  1   490.95 504.95\n",
            "- MESES                     1   491.84 505.84\n",
            "- VENTAS_MENS_PROMEDIO      1   491.90 505.90\n",
            "<none>                          490.67 506.67\n",
            "+ TIPO_ips                  1   490.64 508.64\n",
            "+ TIPOips                   4   486.69 510.69\n",
            "- AGNOS_DIRECCION_ACTUAL    1   498.63 512.63\n",
            "- PORC_PASIVOS_VENTA_ANUAL  1   501.67 515.67\n",
            "- cartera_actual_insumos_A  1   522.32 536.32\n",
            "- IGUAL_DUENO               1   553.53 567.53\n",
            "\n",
            "Step:  AIC=504.95\n",
            "retrasos ~ MESES + IGUAL_DUENO + AGNOS_DIRECCION_ACTUAL + VENTAS_MENS_PROMEDIO + \n",
            "    PORC_PASIVOS_VENTA_ANUAL + cartera_actual_insumos_A\n",
            "\n",
            "                           Df Deviance    AIC\n",
            "- VENTAS_MENS_PROMEDIO      1   491.92 503.92\n",
            "- MESES                     1   492.22 504.22\n",
            "<none>                          490.95 504.95\n",
            "+ cartera_actual_insumos_B  1   490.67 506.67\n",
            "+ TIPO_ips                  1   490.90 506.90\n",
            "+ TIPOips                   4   486.88 508.88\n",
            "- AGNOS_DIRECCION_ACTUAL    1   498.97 510.97\n",
            "- PORC_PASIVOS_VENTA_ANUAL  1   519.59 531.59\n",
            "- cartera_actual_insumos_A  1   522.53 534.53\n",
            "- IGUAL_DUENO               1   554.59 566.59\n",
            "\n",
            "Step:  AIC=503.92\n",
            "retrasos ~ MESES + IGUAL_DUENO + AGNOS_DIRECCION_ACTUAL + PORC_PASIVOS_VENTA_ANUAL + \n",
            "    cartera_actual_insumos_A\n",
            "\n",
            "                           Df Deviance    AIC\n",
            "- MESES                     1   492.90 502.90\n",
            "<none>                          491.92 503.92\n",
            "+ VENTAS_MENS_PROMEDIO      1   490.95 504.95\n",
            "+ cartera_actual_insumos_B  1   491.90 505.90\n",
            "+ TIPO_ips                  1   491.90 505.90\n",
            "+ TIPOips                   4   488.02 508.02\n",
            "- AGNOS_DIRECCION_ACTUAL    1   500.28 510.28\n",
            "- cartera_actual_insumos_A  1   531.43 541.43\n",
            "- PORC_PASIVOS_VENTA_ANUAL  1   531.54 541.54\n",
            "- IGUAL_DUENO               1   562.23 572.23\n",
            "\n",
            "Step:  AIC=502.9\n",
            "retrasos ~ IGUAL_DUENO + AGNOS_DIRECCION_ACTUAL + PORC_PASIVOS_VENTA_ANUAL + \n",
            "    cartera_actual_insumos_A\n",
            "\n",
            "                           Df Deviance    AIC\n",
            "<none>                          492.90 502.90\n",
            "+ MESES                     1   491.92 503.92\n",
            "+ VENTAS_MENS_PROMEDIO      1   492.22 504.22\n",
            "+ TIPO_ips                  1   492.87 504.87\n",
            "+ cartera_actual_insumos_B  1   492.90 504.90\n",
            "+ TIPOips                   4   489.01 507.01\n",
            "- AGNOS_DIRECCION_ACTUAL    1   500.53 508.53\n",
            "- cartera_actual_insumos_A  1   532.31 540.31\n",
            "- PORC_PASIVOS_VENTA_ANUAL  1   532.37 540.37\n",
            "- IGUAL_DUENO               1   569.68 577.68\n"
          ]
        },
        {
          "output_type": "display_data",
          "data": {
            "text/plain": [
              "\n",
              "Call:\n",
              "glm(formula = retrasos ~ IGUAL_DUENO + AGNOS_DIRECCION_ACTUAL + \n",
              "    PORC_PASIVOS_VENTA_ANUAL + cartera_actual_insumos_A, family = binomial, \n",
              "    data = cartera.train)\n",
              "\n",
              "Coefficients:\n",
              "                         Estimate Std. Error z value Pr(>|z|)    \n",
              "(Intercept)              -1.44532    0.27222  -5.309 1.10e-07 ***\n",
              "IGUAL_DUENO              -0.21267    0.02871  -7.407 1.29e-13 ***\n",
              "AGNOS_DIRECCION_ACTUAL   -0.05538    0.02068  -2.678   0.0074 ** \n",
              "PORC_PASIVOS_VENTA_ANUAL  0.11975    0.01965   6.094 1.10e-09 ***\n",
              "cartera_actual_insumos_A  0.43225    0.07739   5.586 2.33e-08 ***\n",
              "---\n",
              "Signif. codes:  0 ‘***’ 0.001 ‘**’ 0.01 ‘*’ 0.05 ‘.’ 0.1 ‘ ’ 1\n",
              "\n",
              "(Dispersion parameter for binomial family taken to be 1)\n",
              "\n",
              "    Null deviance: 701.13  on 638  degrees of freedom\n",
              "Residual deviance: 492.90  on 634  degrees of freedom\n",
              "AIC: 502.9\n",
              "\n",
              "Number of Fisher Scoring iterations: 6\n"
            ]
          },
          "metadata": {}
        }
      ]
    },
    {
      "cell_type": "markdown",
      "source": [
        "Los coeficientes de la regresión logística pueden ser sujeto de interpretación en términos de odd ratios."
      ],
      "metadata": {
        "id": "bpuxlP8NI9p-"
      }
    },
    {
      "cell_type": "code",
      "source": [
        "coeficientes<-steplogit$coefficients\n",
        "odd_change<-exp(coeficientes)\n",
        "odd_change_ver<-as.data.frame(odd_change)\n",
        "odd_change_ver"
      ],
      "metadata": {
        "id": "3IW3pXpf8-0z",
        "colab": {
          "base_uri": "https://localhost:8080/",
          "height": 255
        },
        "outputId": "6e323292-adc7-4ae9-bc22-8e8595c396bb"
      },
      "execution_count": null,
      "outputs": [
        {
          "output_type": "display_data",
          "data": {
            "text/html": [
              "<table class=\"dataframe\">\n",
              "<caption>A data.frame: 5 × 1</caption>\n",
              "<thead>\n",
              "\t<tr><th></th><th scope=col>odd_change</th></tr>\n",
              "\t<tr><th></th><th scope=col>&lt;dbl&gt;</th></tr>\n",
              "</thead>\n",
              "<tbody>\n",
              "\t<tr><th scope=row>(Intercept)</th><td>0.2356699</td></tr>\n",
              "\t<tr><th scope=row>IGUAL_DUENO</th><td>0.8084225</td></tr>\n",
              "\t<tr><th scope=row>AGNOS_DIRECCION_ACTUAL</th><td>0.9461228</td></tr>\n",
              "\t<tr><th scope=row>PORC_PASIVOS_VENTA_ANUAL</th><td>1.1272117</td></tr>\n",
              "\t<tr><th scope=row>cartera_actual_insumos_A</th><td>1.5407145</td></tr>\n",
              "</tbody>\n",
              "</table>\n"
            ],
            "text/markdown": "\nA data.frame: 5 × 1\n\n| <!--/--> | odd_change &lt;dbl&gt; |\n|---|---|\n| (Intercept) | 0.2356699 |\n| IGUAL_DUENO | 0.8084225 |\n| AGNOS_DIRECCION_ACTUAL | 0.9461228 |\n| PORC_PASIVOS_VENTA_ANUAL | 1.1272117 |\n| cartera_actual_insumos_A | 1.5407145 |\n\n",
            "text/latex": "A data.frame: 5 × 1\n\\begin{tabular}{r|l}\n  & odd\\_change\\\\\n  & <dbl>\\\\\n\\hline\n\t(Intercept) & 0.2356699\\\\\n\tIGUAL\\_DUENO & 0.8084225\\\\\n\tAGNOS\\_DIRECCION\\_ACTUAL & 0.9461228\\\\\n\tPORC\\_PASIVOS\\_VENTA\\_ANUAL & 1.1272117\\\\\n\tcartera\\_actual\\_insumos\\_A & 1.5407145\\\\\n\\end{tabular}\n",
            "text/plain": [
              "                         odd_change\n",
              "(Intercept)              0.2356699 \n",
              "IGUAL_DUENO              0.8084225 \n",
              "AGNOS_DIRECCION_ACTUAL   0.9461228 \n",
              "PORC_PASIVOS_VENTA_ANUAL 1.1272117 \n",
              "cartera_actual_insumos_A 1.5407145 "
            ]
          },
          "metadata": {}
        }
      ]
    },
    {
      "cell_type": "markdown",
      "source": [
        "### odd ratios"
      ],
      "metadata": {
        "id": "MTTCK0tEJDmV"
      }
    },
    {
      "cell_type": "markdown",
      "source": [
        "Los coeficientes, denominados odd ratios indican que:\n",
        "\n",
        "Cada mes con el mismo dueño, dejando todas las demás variables constantes, reduce al 80.8% el odd base de que el cliente incumpla, es decir, reduce la probabilidad de incumplimiento (la reducción exacta en probabilidad la veremos más adelante).\n",
        "\n",
        "Cada año en la dirección actual reduce el odd base al 94.6%.\n",
        "\n",
        "En la otra dirección están las variables que aumentan el incumplimiento: Por cada punto porcentual de pasivo/venta anual aumenta el odd base en 12.7%, mientras que cada millon que le adeudan al proveedor en cartera de baja rotación (A) aumenta el odd base de incumplimiento en 54.07%.\n",
        "\n",
        "Para entender mejor los odd ratios es necesario primero tener clara la tasa base. Ese valor es la proporción de éxitos en la base de datos (en este caso siendo éxito un retraso). Esto ya lo obtuvimos en la tabla vista previamente y que aquí repetimos. De allí, podemos calcular un odd base."
      ],
      "metadata": {
        "id": "8uSX-Fg7JFkH"
      }
    },
    {
      "cell_type": "code",
      "source": [
        "#Odd ratios\n",
        "balance<-table(cartera$retrasos)\n",
        "prop.table(balance)\n",
        "oddbase<-prop.table(balance)[2]/prop.table(balance)[1]\n",
        "oddbase"
      ],
      "metadata": {
        "id": "t-yi26O09DBr",
        "colab": {
          "base_uri": "https://localhost:8080/",
          "height": 86
        },
        "outputId": "797831ee-4103-45ab-a050-458c2fc20932"
      },
      "execution_count": null,
      "outputs": [
        {
          "output_type": "display_data",
          "data": {
            "text/plain": [
              "\n",
              "        0         1 \n",
              "0.7734742 0.2265258 "
            ]
          },
          "metadata": {}
        },
        {
          "output_type": "display_data",
          "data": {
            "text/html": [
              "<strong>1:</strong> 0.292867981790592"
            ],
            "text/markdown": "**1:** 0.292867981790592",
            "text/latex": "\\textbf{1:} 0.292867981790592",
            "text/plain": [
              "       1 \n",
              "0.292868 "
            ]
          },
          "metadata": {}
        }
      ]
    },
    {
      "cell_type": "markdown",
      "source": [
        "Si el odd base es de 0.29 (y la probabilidad inicial de incumplimiento de 22.65%), podemos multiplicar los odd ratios por esa tase base y luego convertirla a probabilidad:"
      ],
      "metadata": {
        "id": "B__avHh4JKgF"
      }
    },
    {
      "cell_type": "code",
      "source": [
        "oddfin<-oddbase*odd_change\n",
        "prob1step<-as.data.frame(oddfin/(1+oddfin))\n",
        "View(prob1step)"
      ],
      "metadata": {
        "id": "gZDgzBnb9ElR",
        "colab": {
          "base_uri": "https://localhost:8080/",
          "height": 255
        },
        "outputId": "63222064-acc8-49b9-d744-0f0e58c4269c"
      },
      "execution_count": null,
      "outputs": [
        {
          "output_type": "display_data",
          "data": {
            "text/plain": [
              "                         oddfin/(1 + oddfin)\n",
              "(Intercept)              0.06456396         \n",
              "IGUAL_DUENO              0.19143639         \n",
              "AGNOS_DIRECCION_ACTUAL   0.21696926         \n",
              "PORC_PASIVOS_VENTA_ANUAL 0.24819051         \n",
              "cartera_actual_insumos_A 0.31092742         "
            ],
            "text/html": [
              "<table class=\"dataframe\">\n",
              "<caption>A data.frame: 5 × 1</caption>\n",
              "<thead>\n",
              "\t<tr><th></th><th scope=col>oddfin/(1 + oddfin)</th></tr>\n",
              "\t<tr><th></th><th scope=col>&lt;dbl&gt;</th></tr>\n",
              "</thead>\n",
              "<tbody>\n",
              "\t<tr><th scope=row>(Intercept)</th><td>0.06456396</td></tr>\n",
              "\t<tr><th scope=row>IGUAL_DUENO</th><td>0.19143639</td></tr>\n",
              "\t<tr><th scope=row>AGNOS_DIRECCION_ACTUAL</th><td>0.21696926</td></tr>\n",
              "\t<tr><th scope=row>PORC_PASIVOS_VENTA_ANUAL</th><td>0.24819051</td></tr>\n",
              "\t<tr><th scope=row>cartera_actual_insumos_A</th><td>0.31092742</td></tr>\n",
              "</tbody>\n",
              "</table>\n"
            ],
            "text/markdown": "\nA data.frame: 5 × 1\n\n| <!--/--> | oddfin/(1 + oddfin) &lt;dbl&gt; |\n|---|---|\n| (Intercept) | 0.06456396 |\n| IGUAL_DUENO | 0.19143639 |\n| AGNOS_DIRECCION_ACTUAL | 0.21696926 |\n| PORC_PASIVOS_VENTA_ANUAL | 0.24819051 |\n| cartera_actual_insumos_A | 0.31092742 |\n\n",
            "text/latex": "A data.frame: 5 × 1\n\\begin{tabular}{r|l}\n  & oddfin/(1 + oddfin)\\\\\n  & <dbl>\\\\\n\\hline\n\t(Intercept) & 0.06456396\\\\\n\tIGUAL\\_DUENO & 0.19143639\\\\\n\tAGNOS\\_DIRECCION\\_ACTUAL & 0.21696926\\\\\n\tPORC\\_PASIVOS\\_VENTA\\_ANUAL & 0.24819051\\\\\n\tcartera\\_actual\\_insumos\\_A & 0.31092742\\\\\n\\end{tabular}\n"
          },
          "metadata": {}
        }
      ]
    },
    {
      "cell_type": "markdown",
      "source": [
        "De ese modo vemos que aumentar un año el cliente en la dirección actual (con todo lo demás constante) reduce la probabilidad de incumplimiento al 19.1%, mientras que el primer millón adicional de cartera en insumos A la aumenta al 31.09%."
      ],
      "metadata": {
        "id": "2rDxMxyOJOhY"
      }
    },
    {
      "cell_type": "markdown",
      "source": [
        "## Evaluación"
      ],
      "metadata": {
        "id": "rtgq4ov2JS9e"
      }
    },
    {
      "cell_type": "markdown",
      "source": [
        "Para la evaluación de un problema de clasificación se utilizan con mucha frecuencia las matrices de confusión, que permiten ver la precision y la exhaustividad (precision and recall)\n",
        "\n",
        "Las haremos suponiendo que una predicción superior a 0.5 indica incumplimiento, y una predicción inferior o igual a 0.5 indica cumplimiento"
      ],
      "metadata": {
        "id": "EuwkVVV3JiC1"
      }
    },
    {
      "cell_type": "code",
      "source": [
        "steplogit$fitted.values"
      ],
      "metadata": {
        "colab": {
          "base_uri": "https://localhost:8080/",
          "height": 1000
        },
        "id": "db-AsPMXKvKo",
        "outputId": "5bb842e5-958c-4caa-d44b-de9167507ebb"
      },
      "execution_count": null,
      "outputs": [
        {
          "output_type": "display_data",
          "data": {
            "text/html": [
              "<style>\n",
              ".dl-inline {width: auto; margin:0; padding: 0}\n",
              ".dl-inline>dt, .dl-inline>dd {float: none; width: auto; display: inline-block}\n",
              ".dl-inline>dt::after {content: \":\\0020\"; padding-right: .5ex}\n",
              ".dl-inline>dt:not(:first-of-type) {padding-left: .5ex}\n",
              "</style><dl class=dl-inline><dt>1</dt><dd>0.104816607016014</dd><dt>2</dt><dd>0.0573577531677397</dd><dt>3</dt><dd>0.20952211397443</dd><dt>4</dt><dd>0.0471725243619109</dd><dt>5</dt><dd>0.230383292616627</dd><dt>6</dt><dd>0.14973430812156</dd><dt>7</dt><dd>0.00393738068024131</dd><dt>8</dt><dd>0.0702832905859063</dd><dt>9</dt><dd>0.0761318084069707</dd><dt>10</dt><dd>0.0245681507974698</dd><dt>11</dt><dd>0.52673442497626</dd><dt>12</dt><dd>0.968290087582958</dd><dt>13</dt><dd>0.152807163873621</dd><dt>14</dt><dd>0.591914985158905</dd><dt>15</dt><dd>0.189574711708266</dd><dt>16</dt><dd>0.000310356894548449</dd><dt>17</dt><dd>0.221613697748385</dd><dt>18</dt><dd>0.507392295917121</dd><dt>19</dt><dd>0.0402194464910811</dd><dt>20</dt><dd>0.0942420128053152</dd><dt>21</dt><dd>0.00123945070356761</dd><dt>22</dt><dd>0.320153672122106</dd><dt>23</dt><dd>0.733641821808862</dd><dt>24</dt><dd>0.962659809587755</dd><dt>25</dt><dd>0.434071817445045</dd><dt>26</dt><dd>0.886529396555761</dd><dt>27</dt><dd>0.00917034504676924</dd><dt>28</dt><dd>0.602202050947934</dd><dt>29</dt><dd>0.469700825425106</dd><dt>30</dt><dd>0.203822512603339</dd><dt>31</dt><dd>0.242375110744466</dd><dt>32</dt><dd>0.242530404430824</dd><dt>33</dt><dd>0.689498750275971</dd><dt>34</dt><dd>0.00269380265510053</dd><dt>35</dt><dd>0.00725648703230968</dd><dt>36</dt><dd>0.18699068100569</dd><dt>37</dt><dd>0.0365519763151215</dd><dt>38</dt><dd>0.00281698477261742</dd><dt>39</dt><dd>0.253083360191465</dd><dt>40</dt><dd>0.191904853268957</dd><dt>41</dt><dd>0.0017872341257913</dd><dt>42</dt><dd>0.382846062791732</dd><dt>43</dt><dd>0.0378557691053713</dd><dt>44</dt><dd>0.308238559661881</dd><dt>45</dt><dd>0.628297881778655</dd><dt>46</dt><dd>0.526307710732193</dd><dt>47</dt><dd>0.0279476351028693</dd><dt>48</dt><dd>0.0847438189757162</dd><dt>49</dt><dd>0.212167146023744</dd><dt>50</dt><dd>0.23132967063659</dd><dt>51</dt><dd>0.12866652484505</dd><dt>52</dt><dd>0.397352436291603</dd><dt>53</dt><dd>0.394504481627632</dd><dt>54</dt><dd>0.00497070180106618</dd><dt>55</dt><dd>0.919391012290706</dd><dt>56</dt><dd>0.493574655866558</dd><dt>57</dt><dd>0.132569984342754</dd><dt>58</dt><dd>0.0542105300136094</dd><dt>59</dt><dd>0.111087609256193</dd><dt>60</dt><dd>0.00383698145297459</dd><dt>61</dt><dd>0.416252306037958</dd><dt>62</dt><dd>0.0415923142892405</dd><dt>63</dt><dd>0.0121255566203679</dd><dt>64</dt><dd>0.0783563559596116</dd><dt>65</dt><dd>0.0107400248883371</dd><dt>66</dt><dd>0.0787119729396804</dd><dt>67</dt><dd>0.005160819121377</dd><dt>68</dt><dd>0.00929968176860932</dd><dt>69</dt><dd>0.23568576450208</dd><dt>70</dt><dd>0.126107135359387</dd><dt>71</dt><dd>0.0841996058457417</dd><dt>72</dt><dd>0.255796989795891</dd><dt>73</dt><dd>0.288239728361228</dd><dt>74</dt><dd>0.689084921581842</dd><dt>75</dt><dd>0.342398626454873</dd><dt>76</dt><dd>0.0106616641097773</dd><dt>77</dt><dd>0.417350990366046</dd><dt>78</dt><dd>0.103150632400559</dd><dt>79</dt><dd>0.791989841702443</dd><dt>80</dt><dd>0.0962290794432651</dd><dt>81</dt><dd>0.167306640662463</dd><dt>82</dt><dd>0.0450860612870327</dd><dt>83</dt><dd>0.454827651111198</dd><dt>84</dt><dd>0.0070385743419577</dd><dt>85</dt><dd>0.254349758976071</dd><dt>86</dt><dd>0.12909485888489</dd><dt>87</dt><dd>0.647977507725249</dd><dt>88</dt><dd>0.0858914450181962</dd><dt>89</dt><dd>0.0908018717003361</dd><dt>90</dt><dd>0.903906861145709</dd><dt>91</dt><dd>0.578428176860341</dd><dt>92</dt><dd>0.0243948794886562</dd><dt>93</dt><dd>0.0755717533815923</dd><dt>94</dt><dd>0.303620562214951</dd><dt>95</dt><dd>0.326676283473261</dd><dt>96</dt><dd>0.237055067911509</dd><dt>97</dt><dd>0.0463285996973414</dd><dt>98</dt><dd>0.0110656986263114</dd><dt>99</dt><dd>0.239989904208678</dd><dt>100</dt><dd>0.525474076357896</dd><dt>101</dt><dd>0.0067760249712479</dd><dt>102</dt><dd>0.109471158475469</dd><dt>103</dt><dd>0.225789642660228</dd><dt>104</dt><dd>0.622553861636623</dd><dt>105</dt><dd>0.248093627068093</dd><dt>106</dt><dd>0.827044019260955</dd><dt>107</dt><dd>0.173351895102679</dd><dt>108</dt><dd>0.00769766530333369</dd><dt>109</dt><dd>0.159210294241804</dd><dt>110</dt><dd>0.27712272621441</dd><dt>111</dt><dd>0.0267142531432308</dd><dt>112</dt><dd>0.144689541690476</dd><dt>113</dt><dd>0.1505547399674</dd><dt>114</dt><dd>0.834249677911422</dd><dt>115</dt><dd>0.591301630892481</dd><dt>116</dt><dd>0.549615058902255</dd><dt>117</dt><dd>0.0373199219159445</dd><dt>118</dt><dd>0.574048076776995</dd><dt>119</dt><dd>0.155638639995607</dd><dt>120</dt><dd>0.0719538372445248</dd><dt>121</dt><dd>0.129408157451621</dd><dt>122</dt><dd>0.0189233908588105</dd><dt>123</dt><dd>0.00229781511592862</dd><dt>124</dt><dd>0.188262060194377</dd><dt>125</dt><dd>0.103084678513905</dd><dt>126</dt><dd>0.675709215175424</dd><dt>127</dt><dd>0.21734473841303</dd><dt>128</dt><dd>0.379530307267019</dd><dt>129</dt><dd>0.259631798697781</dd><dt>130</dt><dd>0.308966826898154</dd><dt>131</dt><dd>0.291582398936806</dd><dt>132</dt><dd>0.536012989863325</dd><dt>133</dt><dd>0.0134862618164618</dd><dt>134</dt><dd>0.345119266693499</dd><dt>135</dt><dd>0.103881166807447</dd><dt>136</dt><dd>0.0839560302250031</dd><dt>137</dt><dd>0.00524314074958069</dd><dt>138</dt><dd>0.062701418077994</dd><dt>139</dt><dd>0.112482176370665</dd><dt>140</dt><dd>0.149704529485424</dd><dt>141</dt><dd>0.217728643030749</dd><dt>142</dt><dd>0.0699245700959423</dd><dt>143</dt><dd>0.0691158271856679</dd><dt>144</dt><dd>0.459912610806653</dd><dt>145</dt><dd>0.0188124616783432</dd><dt>146</dt><dd>0.724660859479057</dd><dt>147</dt><dd>0.202857641624154</dd><dt>148</dt><dd>0.0140488181854147</dd><dt>149</dt><dd>0.179523288476757</dd><dt>150</dt><dd>0.500520696943876</dd><dt>151</dt><dd>0.132927256920757</dd><dt>152</dt><dd>0.475220575143613</dd><dt>153</dt><dd>0.136654344601907</dd><dt>154</dt><dd>0.0137942299703597</dd><dt>155</dt><dd>0.135529658558673</dd><dt>156</dt><dd>0.172058963439557</dd><dt>157</dt><dd>0.091641018157542</dd><dt>158</dt><dd>0.214932959213377</dd><dt>159</dt><dd>0.253376852166641</dd><dt>160</dt><dd>0.0445583632843049</dd><dt>161</dt><dd>0.137896785537885</dd><dt>162</dt><dd>0.0146775033827554</dd><dt>163</dt><dd>0.0670162788795825</dd><dt>164</dt><dd>0.0694319576823799</dd><dt>165</dt><dd>0.0904245921189001</dd><dt>166</dt><dd>0.259910176105141</dd><dt>167</dt><dd>0.118455825480236</dd><dt>168</dt><dd>0.594136940288482</dd><dt>169</dt><dd>0.0656648591828862</dd><dt>170</dt><dd>0.0392682257156827</dd><dt>171</dt><dd>0.716908090879432</dd><dt>172</dt><dd>0.33585630600266</dd><dt>173</dt><dd>0.299154581437541</dd><dt>174</dt><dd>0.0081696557506309</dd><dt>175</dt><dd>0.289721693861096</dd><dt>176</dt><dd>0.236775645002425</dd><dt>177</dt><dd>0.0620238833398762</dd><dt>178</dt><dd>0.676369840322334</dd><dt>179</dt><dd>0.0021587711820468</dd><dt>180</dt><dd>0.140486715408939</dd><dt>181</dt><dd>0.362453508417094</dd><dt>182</dt><dd>0.00903032782765638</dd><dt>183</dt><dd>0.0667961501662663</dd><dt>184</dt><dd>0.480654884714113</dd><dt>185</dt><dd>0.747937599429582</dd><dt>186</dt><dd>0.113325004919155</dd><dt>187</dt><dd>0.15490049490964</dd><dt>188</dt><dd>0.380792680037059</dd><dt>189</dt><dd>0.624964435004887</dd><dt>190</dt><dd>0.259484656935443</dd><dt>191</dt><dd>0.0872759612490359</dd><dt>192</dt><dd>0.108270569951184</dd><dt>193</dt><dd>0.158510775506128</dd><dt>194</dt><dd>0.298203370911403</dd><dt>195</dt><dd>0.0040331293431853</dd><dt>196</dt><dd>0.182626260580574</dd><dt>197</dt><dd>0.0818596326663297</dd><dt>198</dt><dd>0.0986318317457215</dd><dt>199</dt><dd>0.00841308653051983</dd><dt>200</dt><dd>0.0993622878086701</dd><dt>201</dt><dd>⋯</dd><dt>202</dt><dd>0.0461938841222338</dd><dt>203</dt><dd>0.309567304374696</dd><dt>204</dt><dd>0.29406117430863</dd><dt>205</dt><dd>0.176468928840679</dd><dt>206</dt><dd>0.024333384002741</dd><dt>207</dt><dd>0.0358582436960846</dd><dt>208</dt><dd>0.122530512290828</dd><dt>209</dt><dd>0.123846678290574</dd><dt>210</dt><dd>0.114272928393737</dd><dt>211</dt><dd>0.065994724082957</dd><dt>212</dt><dd>0.0144070163387078</dd><dt>213</dt><dd>0.6697082880499</dd><dt>214</dt><dd>0.0289830290434335</dd><dt>215</dt><dd>0.0581083889852984</dd><dt>216</dt><dd>0.0151692898610671</dd><dt>217</dt><dd>0.262515394565349</dd><dt>218</dt><dd>0.217518129309304</dd><dt>219</dt><dd>0.13067758797306</dd><dt>220</dt><dd>0.264178101572235</dd><dt>221</dt><dd>0.632590102374137</dd><dt>222</dt><dd>0.130086754906292</dd><dt>223</dt><dd>0.0408833206970926</dd><dt>224</dt><dd>0.0165866688395632</dd><dt>225</dt><dd>0.183350944236348</dd><dt>226</dt><dd>0.614107825402742</dd><dt>227</dt><dd>0.0867863848829174</dd><dt>228</dt><dd>0.66557707507911</dd><dt>229</dt><dd>0.00407105580215272</dd><dt>230</dt><dd>0.30988010963381</dd><dt>231</dt><dd>0.533817467822076</dd><dt>232</dt><dd>0.213765339697734</dd><dt>233</dt><dd>0.0492028052785961</dd><dt>234</dt><dd>0.840123446148984</dd><dt>235</dt><dd>0.0250034253483934</dd><dt>236</dt><dd>0.148597361682613</dd><dt>237</dt><dd>0.0195650355913358</dd><dt>238</dt><dd>0.063585179778547</dd><dt>239</dt><dd>0.0354697463459961</dd><dt>240</dt><dd>0.0812288057201224</dd><dt>241</dt><dd>0.302065354072311</dd><dt>242</dt><dd>0.173115667961703</dd><dt>243</dt><dd>0.00242798404622464</dd><dt>244</dt><dd>0.0684260716776475</dd><dt>245</dt><dd>0.864979690079914</dd><dt>246</dt><dd>0.427418891295013</dd><dt>247</dt><dd>0.872514151765306</dd><dt>248</dt><dd>0.408065929273062</dd><dt>249</dt><dd>0.15738623322388</dd><dt>250</dt><dd>0.174773108446178</dd><dt>251</dt><dd>0.177388170501488</dd><dt>252</dt><dd>0.745556288448471</dd><dt>253</dt><dd>0.053566222297461</dd><dt>254</dt><dd>0.122548728938219</dd><dt>255</dt><dd>0.044109248665493</dd><dt>256</dt><dd>0.347196355953618</dd><dt>257</dt><dd>0.0101533644336577</dd><dt>258</dt><dd>0.40460024945604</dd><dt>259</dt><dd>0.565511814865447</dd><dt>260</dt><dd>0.0253223503618909</dd><dt>261</dt><dd>0.385430178772482</dd><dt>262</dt><dd>0.753945788580552</dd><dt>263</dt><dd>0.323777782779754</dd><dt>264</dt><dd>0.0319554679011102</dd><dt>265</dt><dd>0.143105385311688</dd><dt>266</dt><dd>0.0926218544995589</dd><dt>267</dt><dd>0.944394025437512</dd><dt>268</dt><dd>0.121161061215919</dd><dt>269</dt><dd>0.659015690338773</dd><dt>270</dt><dd>0.0493284850707827</dd><dt>271</dt><dd>0.914566055035769</dd><dt>272</dt><dd>0.0216279491650641</dd><dt>273</dt><dd>0.140708801445112</dd><dt>274</dt><dd>0.0838988492321198</dd><dt>275</dt><dd>0.0224472049318656</dd><dt>276</dt><dd>0.146496390683422</dd><dt>277</dt><dd>0.104609485905003</dd><dt>278</dt><dd>0.0335732952767852</dd><dt>279</dt><dd>0.111088377481186</dd><dt>280</dt><dd>0.364129295609764</dd><dt>281</dt><dd>0.214240116716889</dd><dt>282</dt><dd>0.281117315048068</dd><dt>283</dt><dd>0.526792664068195</dd><dt>284</dt><dd>0.0302063488064445</dd><dt>285</dt><dd>0.183752328267471</dd><dt>286</dt><dd>0.157037481950773</dd><dt>287</dt><dd>0.228245298439243</dd><dt>288</dt><dd>0.12007445695053</dd><dt>289</dt><dd>0.27691709975351</dd><dt>290</dt><dd>0.446957371323543</dd><dt>291</dt><dd>0.189316015495876</dd><dt>292</dt><dd>0.232587153393097</dd><dt>293</dt><dd>0.025751272954819</dd><dt>294</dt><dd>0.047774315506209</dd><dt>295</dt><dd>0.0756886407153888</dd><dt>296</dt><dd>0.107740310710362</dd><dt>297</dt><dd>0.75237857994894</dd><dt>298</dt><dd>0.0748156338218317</dd><dt>299</dt><dd>0.126962958562509</dd><dt>300</dt><dd>0.0172883547549511</dd><dt>301</dt><dd>0.198701977581216</dd><dt>302</dt><dd>0.208548886660385</dd><dt>303</dt><dd>0.318984902067066</dd><dt>304</dt><dd>0.00131875441523787</dd><dt>305</dt><dd>0.360921089114078</dd><dt>306</dt><dd>0.00205924834859029</dd><dt>307</dt><dd>0.212038590568017</dd><dt>308</dt><dd>0.61865837614545</dd><dt>309</dt><dd>0.021642823150956</dd><dt>310</dt><dd>0.111591828185871</dd><dt>311</dt><dd>0.217526658297894</dd><dt>312</dt><dd>0.00353664911517158</dd><dt>313</dt><dd>0.457582655827819</dd><dt>314</dt><dd>0.0470491215069633</dd><dt>315</dt><dd>0.055154584103815</dd><dt>316</dt><dd>0.306326463446099</dd><dt>317</dt><dd>0.041132560751706</dd><dt>318</dt><dd>0.0230589517706018</dd><dt>319</dt><dd>0.0264634742176559</dd><dt>320</dt><dd>0.0318023664899238</dd><dt>321</dt><dd>0.571398874361245</dd><dt>322</dt><dd>0.0365536988435726</dd><dt>323</dt><dd>0.487539212850367</dd><dt>324</dt><dd>0.592525480215069</dd><dt>325</dt><dd>0.883589129267496</dd><dt>326</dt><dd>0.00277458167662767</dd><dt>327</dt><dd>0.131375541575918</dd><dt>328</dt><dd>0.494983730283529</dd><dt>329</dt><dd>0.0209519997532337</dd><dt>330</dt><dd>0.0386508269948197</dd><dt>331</dt><dd>0.371768605997613</dd><dt>332</dt><dd>0.193450590998539</dd><dt>333</dt><dd>0.0571269079358576</dd><dt>334</dt><dd>0.0926519241446159</dd><dt>335</dt><dd>0.419627367245314</dd><dt>336</dt><dd>0.211301727710943</dd><dt>337</dt><dd>0.138857951342723</dd><dt>338</dt><dd>0.263619250504087</dd><dt>339</dt><dd>0.17886685228557</dd><dt>340</dt><dd>0.676971209271755</dd><dt>341</dt><dd>0.056247715315762</dd><dt>342</dt><dd>0.131448507692517</dd><dt>343</dt><dd>0.205711585186024</dd><dt>344</dt><dd>0.447378692746059</dd><dt>345</dt><dd>0.29390434788862</dd><dt>346</dt><dd>0.254197312505541</dd><dt>347</dt><dd>0.25353162465278</dd><dt>348</dt><dd>0.176124925259725</dd><dt>349</dt><dd>0.0596256400713396</dd><dt>350</dt><dd>0.932075144966068</dd><dt>351</dt><dd>0.426448472418773</dd><dt>352</dt><dd>0.163681755233597</dd><dt>353</dt><dd>0.00209807489098924</dd><dt>354</dt><dd>0.233325881677289</dd><dt>355</dt><dd>0.709594974736261</dd><dt>356</dt><dd>0.632873074416993</dd><dt>357</dt><dd>0.434957972255834</dd><dt>358</dt><dd>0.722093040116383</dd><dt>359</dt><dd>0.0160221700162854</dd><dt>360</dt><dd>0.173409999908597</dd><dt>361</dt><dd>0.152128098687053</dd><dt>362</dt><dd>0.013511600214106</dd><dt>363</dt><dd>0.104923828436157</dd><dt>364</dt><dd>0.195699712468725</dd><dt>365</dt><dd>0.102369008014633</dd><dt>366</dt><dd>0.465786318220013</dd><dt>367</dt><dd>0.121132690391542</dd><dt>368</dt><dd>0.116498762889221</dd><dt>369</dt><dd>0.0609382989168906</dd><dt>370</dt><dd>0.011788770939827</dd><dt>371</dt><dd>0.0963783335999747</dd><dt>372</dt><dd>0.767661779485116</dd><dt>373</dt><dd>0.0415261632100777</dd><dt>374</dt><dd>0.226216381617196</dd><dt>375</dt><dd>0.196854112641316</dd><dt>376</dt><dd>0.0183387932758609</dd><dt>377</dt><dd>0.171249941329125</dd><dt>378</dt><dd>0.0682002145284115</dd><dt>379</dt><dd>0.0176831350755437</dd><dt>380</dt><dd>0.125412053642347</dd><dt>381</dt><dd>0.0093030454796618</dd><dt>382</dt><dd>0.0688469471810704</dd><dt>383</dt><dd>0.0268241504210871</dd><dt>384</dt><dd>0.398425079720723</dd><dt>385</dt><dd>0.814048680038182</dd><dt>386</dt><dd>0.634714773211015</dd><dt>387</dt><dd>0.419035765748448</dd><dt>388</dt><dd>0.12873790331737</dd><dt>389</dt><dd>0.365564740152537</dd><dt>390</dt><dd>0.0441268927961118</dd><dt>391</dt><dd>0.0120167680807382</dd><dt>392</dt><dd>0.0681420796878412</dd><dt>393</dt><dd>0.008956344781663</dd><dt>394</dt><dd>0.0585106780484684</dd><dt>395</dt><dd>0.0703557789966343</dd><dt>396</dt><dd>0.0104374396444721</dd><dt>397</dt><dd>0.141841789071341</dd><dt>398</dt><dd>0.0374557633283327</dd><dt>399</dt><dd>0.143232256340361</dd><dt>400</dt><dd>0.295976151210948</dd><dt>401</dt><dd>0.173039050302182</dd></dl>\n"
            ],
            "text/markdown": "1\n:   0.1048166070160142\n:   0.05735775316773973\n:   0.209522113974434\n:   0.04717252436191095\n:   0.2303832926166276\n:   0.149734308121567\n:   0.003937380680241318\n:   0.07028329058590639\n:   0.076131808406970710\n:   0.024568150797469811\n:   0.5267344249762612\n:   0.96829008758295813\n:   0.15280716387362114\n:   0.59191498515890515\n:   0.18957471170826616\n:   0.00031035689454844917\n:   0.22161369774838518\n:   0.50739229591712119\n:   0.040219446491081120\n:   0.094242012805315221\n:   0.0012394507035676122\n:   0.32015367212210623\n:   0.73364182180886224\n:   0.96265980958775525\n:   0.43407181744504526\n:   0.88652939655576127\n:   0.0091703450467692428\n:   0.60220205094793429\n:   0.46970082542510630\n:   0.20382251260333931\n:   0.24237511074446632\n:   0.24253040443082433\n:   0.68949875027597134\n:   0.0026938026551005335\n:   0.0072564870323096836\n:   0.1869906810056937\n:   0.036551976315121538\n:   0.0028169847726174239\n:   0.25308336019146540\n:   0.19190485326895741\n:   0.001787234125791342\n:   0.38284606279173243\n:   0.037855769105371344\n:   0.30823855966188145\n:   0.62829788177865546\n:   0.52630771073219347\n:   0.027947635102869348\n:   0.084743818975716249\n:   0.21216714602374450\n:   0.2313296706365951\n:   0.1286665248450552\n:   0.39735243629160353\n:   0.39450448162763254\n:   0.0049707018010661855\n:   0.91939101229070656\n:   0.49357465586655857\n:   0.13256998434275458\n:   0.054210530013609459\n:   0.11108760925619360\n:   0.0038369814529745961\n:   0.41625230603795862\n:   0.041592314289240563\n:   0.012125556620367964\n:   0.078356355959611665\n:   0.010740024888337166\n:   0.078711972939680467\n:   0.00516081912137768\n:   0.0092996817686093269\n:   0.2356857645020870\n:   0.12610713535938771\n:   0.084199605845741772\n:   0.25579698979589173\n:   0.28823972836122874\n:   0.68908492158184275\n:   0.34239862645487376\n:   0.010661664109777377\n:   0.41735099036604678\n:   0.10315063240055979\n:   0.79198984170244380\n:   0.096229079443265181\n:   0.16730664066246382\n:   0.045086061287032783\n:   0.45482765111119884\n:   0.007038574341957785\n:   0.25434975897607186\n:   0.1290948588848987\n:   0.64797750772524988\n:   0.085891445018196289\n:   0.090801871700336190\n:   0.90390686114570991\n:   0.57842817686034192\n:   0.024394879488656293\n:   0.075571753381592394\n:   0.30362056221495195\n:   0.32667628347326196\n:   0.23705506791150997\n:   0.046328599697341498\n:   0.011065698626311499\n:   0.239989904208678100\n:   0.525474076357896101\n:   0.0067760249712479102\n:   0.109471158475469103\n:   0.225789642660228104\n:   0.622553861636623105\n:   0.248093627068093106\n:   0.827044019260955107\n:   0.173351895102679108\n:   0.00769766530333369109\n:   0.159210294241804110\n:   0.27712272621441111\n:   0.0267142531432308112\n:   0.144689541690476113\n:   0.1505547399674114\n:   0.834249677911422115\n:   0.591301630892481116\n:   0.549615058902255117\n:   0.0373199219159445118\n:   0.574048076776995119\n:   0.155638639995607120\n:   0.0719538372445248121\n:   0.129408157451621122\n:   0.0189233908588105123\n:   0.00229781511592862124\n:   0.188262060194377125\n:   0.103084678513905126\n:   0.675709215175424127\n:   0.21734473841303128\n:   0.379530307267019129\n:   0.259631798697781130\n:   0.308966826898154131\n:   0.291582398936806132\n:   0.536012989863325133\n:   0.0134862618164618134\n:   0.345119266693499135\n:   0.103881166807447136\n:   0.0839560302250031137\n:   0.00524314074958069138\n:   0.062701418077994139\n:   0.112482176370665140\n:   0.149704529485424141\n:   0.217728643030749142\n:   0.0699245700959423143\n:   0.0691158271856679144\n:   0.459912610806653145\n:   0.0188124616783432146\n:   0.724660859479057147\n:   0.202857641624154148\n:   0.0140488181854147149\n:   0.179523288476757150\n:   0.500520696943876151\n:   0.132927256920757152\n:   0.475220575143613153\n:   0.136654344601907154\n:   0.0137942299703597155\n:   0.135529658558673156\n:   0.172058963439557157\n:   0.091641018157542158\n:   0.214932959213377159\n:   0.253376852166641160\n:   0.0445583632843049161\n:   0.137896785537885162\n:   0.0146775033827554163\n:   0.0670162788795825164\n:   0.0694319576823799165\n:   0.0904245921189001166\n:   0.259910176105141167\n:   0.118455825480236168\n:   0.594136940288482169\n:   0.0656648591828862170\n:   0.0392682257156827171\n:   0.716908090879432172\n:   0.33585630600266173\n:   0.299154581437541174\n:   0.0081696557506309175\n:   0.289721693861096176\n:   0.236775645002425177\n:   0.0620238833398762178\n:   0.676369840322334179\n:   0.0021587711820468180\n:   0.140486715408939181\n:   0.362453508417094182\n:   0.00903032782765638183\n:   0.0667961501662663184\n:   0.480654884714113185\n:   0.747937599429582186\n:   0.113325004919155187\n:   0.15490049490964188\n:   0.380792680037059189\n:   0.624964435004887190\n:   0.259484656935443191\n:   0.0872759612490359192\n:   0.108270569951184193\n:   0.158510775506128194\n:   0.298203370911403195\n:   0.0040331293431853196\n:   0.182626260580574197\n:   0.0818596326663297198\n:   0.0986318317457215199\n:   0.00841308653051983200\n:   0.0993622878086701201\n:   ⋯202\n:   0.0461938841222338203\n:   0.309567304374696204\n:   0.29406117430863205\n:   0.176468928840679206\n:   0.024333384002741207\n:   0.0358582436960846208\n:   0.122530512290828209\n:   0.123846678290574210\n:   0.114272928393737211\n:   0.065994724082957212\n:   0.0144070163387078213\n:   0.6697082880499214\n:   0.0289830290434335215\n:   0.0581083889852984216\n:   0.0151692898610671217\n:   0.262515394565349218\n:   0.217518129309304219\n:   0.13067758797306220\n:   0.264178101572235221\n:   0.632590102374137222\n:   0.130086754906292223\n:   0.0408833206970926224\n:   0.0165866688395632225\n:   0.183350944236348226\n:   0.614107825402742227\n:   0.0867863848829174228\n:   0.66557707507911229\n:   0.00407105580215272230\n:   0.30988010963381231\n:   0.533817467822076232\n:   0.213765339697734233\n:   0.0492028052785961234\n:   0.840123446148984235\n:   0.0250034253483934236\n:   0.148597361682613237\n:   0.0195650355913358238\n:   0.063585179778547239\n:   0.0354697463459961240\n:   0.0812288057201224241\n:   0.302065354072311242\n:   0.173115667961703243\n:   0.00242798404622464244\n:   0.0684260716776475245\n:   0.864979690079914246\n:   0.427418891295013247\n:   0.872514151765306248\n:   0.408065929273062249\n:   0.15738623322388250\n:   0.174773108446178251\n:   0.177388170501488252\n:   0.745556288448471253\n:   0.053566222297461254\n:   0.122548728938219255\n:   0.044109248665493256\n:   0.347196355953618257\n:   0.0101533644336577258\n:   0.40460024945604259\n:   0.565511814865447260\n:   0.0253223503618909261\n:   0.385430178772482262\n:   0.753945788580552263\n:   0.323777782779754264\n:   0.0319554679011102265\n:   0.143105385311688266\n:   0.0926218544995589267\n:   0.944394025437512268\n:   0.121161061215919269\n:   0.659015690338773270\n:   0.0493284850707827271\n:   0.914566055035769272\n:   0.0216279491650641273\n:   0.140708801445112274\n:   0.0838988492321198275\n:   0.0224472049318656276\n:   0.146496390683422277\n:   0.104609485905003278\n:   0.0335732952767852279\n:   0.111088377481186280\n:   0.364129295609764281\n:   0.214240116716889282\n:   0.281117315048068283\n:   0.526792664068195284\n:   0.0302063488064445285\n:   0.183752328267471286\n:   0.157037481950773287\n:   0.228245298439243288\n:   0.12007445695053289\n:   0.27691709975351290\n:   0.446957371323543291\n:   0.189316015495876292\n:   0.232587153393097293\n:   0.025751272954819294\n:   0.047774315506209295\n:   0.0756886407153888296\n:   0.107740310710362297\n:   0.75237857994894298\n:   0.0748156338218317299\n:   0.126962958562509300\n:   0.0172883547549511301\n:   0.198701977581216302\n:   0.208548886660385303\n:   0.318984902067066304\n:   0.00131875441523787305\n:   0.360921089114078306\n:   0.00205924834859029307\n:   0.212038590568017308\n:   0.61865837614545309\n:   0.021642823150956310\n:   0.111591828185871311\n:   0.217526658297894312\n:   0.00353664911517158313\n:   0.457582655827819314\n:   0.0470491215069633315\n:   0.055154584103815316\n:   0.306326463446099317\n:   0.041132560751706318\n:   0.0230589517706018319\n:   0.0264634742176559320\n:   0.0318023664899238321\n:   0.571398874361245322\n:   0.0365536988435726323\n:   0.487539212850367324\n:   0.592525480215069325\n:   0.883589129267496326\n:   0.00277458167662767327\n:   0.131375541575918328\n:   0.494983730283529329\n:   0.0209519997532337330\n:   0.0386508269948197331\n:   0.371768605997613332\n:   0.193450590998539333\n:   0.0571269079358576334\n:   0.0926519241446159335\n:   0.419627367245314336\n:   0.211301727710943337\n:   0.138857951342723338\n:   0.263619250504087339\n:   0.17886685228557340\n:   0.676971209271755341\n:   0.056247715315762342\n:   0.131448507692517343\n:   0.205711585186024344\n:   0.447378692746059345\n:   0.29390434788862346\n:   0.254197312505541347\n:   0.25353162465278348\n:   0.176124925259725349\n:   0.0596256400713396350\n:   0.932075144966068351\n:   0.426448472418773352\n:   0.163681755233597353\n:   0.00209807489098924354\n:   0.233325881677289355\n:   0.709594974736261356\n:   0.632873074416993357\n:   0.434957972255834358\n:   0.722093040116383359\n:   0.0160221700162854360\n:   0.173409999908597361\n:   0.152128098687053362\n:   0.013511600214106363\n:   0.104923828436157364\n:   0.195699712468725365\n:   0.102369008014633366\n:   0.465786318220013367\n:   0.121132690391542368\n:   0.116498762889221369\n:   0.0609382989168906370\n:   0.011788770939827371\n:   0.0963783335999747372\n:   0.767661779485116373\n:   0.0415261632100777374\n:   0.226216381617196375\n:   0.196854112641316376\n:   0.0183387932758609377\n:   0.171249941329125378\n:   0.0682002145284115379\n:   0.0176831350755437380\n:   0.125412053642347381\n:   0.0093030454796618382\n:   0.0688469471810704383\n:   0.0268241504210871384\n:   0.398425079720723385\n:   0.814048680038182386\n:   0.634714773211015387\n:   0.419035765748448388\n:   0.12873790331737389\n:   0.365564740152537390\n:   0.0441268927961118391\n:   0.0120167680807382392\n:   0.0681420796878412393\n:   0.008956344781663394\n:   0.0585106780484684395\n:   0.0703557789966343396\n:   0.0104374396444721397\n:   0.141841789071341398\n:   0.0374557633283327399\n:   0.143232256340361400\n:   0.295976151210948401\n:   0.173039050302182\n\n",
            "text/latex": "\\begin{description*}\n\\item[1] 0.104816607016014\n\\item[2] 0.0573577531677397\n\\item[3] 0.20952211397443\n\\item[4] 0.0471725243619109\n\\item[5] 0.230383292616627\n\\item[6] 0.14973430812156\n\\item[7] 0.00393738068024131\n\\item[8] 0.0702832905859063\n\\item[9] 0.0761318084069707\n\\item[10] 0.0245681507974698\n\\item[11] 0.52673442497626\n\\item[12] 0.968290087582958\n\\item[13] 0.152807163873621\n\\item[14] 0.591914985158905\n\\item[15] 0.189574711708266\n\\item[16] 0.000310356894548449\n\\item[17] 0.221613697748385\n\\item[18] 0.507392295917121\n\\item[19] 0.0402194464910811\n\\item[20] 0.0942420128053152\n\\item[21] 0.00123945070356761\n\\item[22] 0.320153672122106\n\\item[23] 0.733641821808862\n\\item[24] 0.962659809587755\n\\item[25] 0.434071817445045\n\\item[26] 0.886529396555761\n\\item[27] 0.00917034504676924\n\\item[28] 0.602202050947934\n\\item[29] 0.469700825425106\n\\item[30] 0.203822512603339\n\\item[31] 0.242375110744466\n\\item[32] 0.242530404430824\n\\item[33] 0.689498750275971\n\\item[34] 0.00269380265510053\n\\item[35] 0.00725648703230968\n\\item[36] 0.18699068100569\n\\item[37] 0.0365519763151215\n\\item[38] 0.00281698477261742\n\\item[39] 0.253083360191465\n\\item[40] 0.191904853268957\n\\item[41] 0.0017872341257913\n\\item[42] 0.382846062791732\n\\item[43] 0.0378557691053713\n\\item[44] 0.308238559661881\n\\item[45] 0.628297881778655\n\\item[46] 0.526307710732193\n\\item[47] 0.0279476351028693\n\\item[48] 0.0847438189757162\n\\item[49] 0.212167146023744\n\\item[50] 0.23132967063659\n\\item[51] 0.12866652484505\n\\item[52] 0.397352436291603\n\\item[53] 0.394504481627632\n\\item[54] 0.00497070180106618\n\\item[55] 0.919391012290706\n\\item[56] 0.493574655866558\n\\item[57] 0.132569984342754\n\\item[58] 0.0542105300136094\n\\item[59] 0.111087609256193\n\\item[60] 0.00383698145297459\n\\item[61] 0.416252306037958\n\\item[62] 0.0415923142892405\n\\item[63] 0.0121255566203679\n\\item[64] 0.0783563559596116\n\\item[65] 0.0107400248883371\n\\item[66] 0.0787119729396804\n\\item[67] 0.005160819121377\n\\item[68] 0.00929968176860932\n\\item[69] 0.23568576450208\n\\item[70] 0.126107135359387\n\\item[71] 0.0841996058457417\n\\item[72] 0.255796989795891\n\\item[73] 0.288239728361228\n\\item[74] 0.689084921581842\n\\item[75] 0.342398626454873\n\\item[76] 0.0106616641097773\n\\item[77] 0.417350990366046\n\\item[78] 0.103150632400559\n\\item[79] 0.791989841702443\n\\item[80] 0.0962290794432651\n\\item[81] 0.167306640662463\n\\item[82] 0.0450860612870327\n\\item[83] 0.454827651111198\n\\item[84] 0.0070385743419577\n\\item[85] 0.254349758976071\n\\item[86] 0.12909485888489\n\\item[87] 0.647977507725249\n\\item[88] 0.0858914450181962\n\\item[89] 0.0908018717003361\n\\item[90] 0.903906861145709\n\\item[91] 0.578428176860341\n\\item[92] 0.0243948794886562\n\\item[93] 0.0755717533815923\n\\item[94] 0.303620562214951\n\\item[95] 0.326676283473261\n\\item[96] 0.237055067911509\n\\item[97] 0.0463285996973414\n\\item[98] 0.0110656986263114\n\\item[99] 0.239989904208678\n\\item[100] 0.525474076357896\n\\item[101] 0.0067760249712479\n\\item[102] 0.109471158475469\n\\item[103] 0.225789642660228\n\\item[104] 0.622553861636623\n\\item[105] 0.248093627068093\n\\item[106] 0.827044019260955\n\\item[107] 0.173351895102679\n\\item[108] 0.00769766530333369\n\\item[109] 0.159210294241804\n\\item[110] 0.27712272621441\n\\item[111] 0.0267142531432308\n\\item[112] 0.144689541690476\n\\item[113] 0.1505547399674\n\\item[114] 0.834249677911422\n\\item[115] 0.591301630892481\n\\item[116] 0.549615058902255\n\\item[117] 0.0373199219159445\n\\item[118] 0.574048076776995\n\\item[119] 0.155638639995607\n\\item[120] 0.0719538372445248\n\\item[121] 0.129408157451621\n\\item[122] 0.0189233908588105\n\\item[123] 0.00229781511592862\n\\item[124] 0.188262060194377\n\\item[125] 0.103084678513905\n\\item[126] 0.675709215175424\n\\item[127] 0.21734473841303\n\\item[128] 0.379530307267019\n\\item[129] 0.259631798697781\n\\item[130] 0.308966826898154\n\\item[131] 0.291582398936806\n\\item[132] 0.536012989863325\n\\item[133] 0.0134862618164618\n\\item[134] 0.345119266693499\n\\item[135] 0.103881166807447\n\\item[136] 0.0839560302250031\n\\item[137] 0.00524314074958069\n\\item[138] 0.062701418077994\n\\item[139] 0.112482176370665\n\\item[140] 0.149704529485424\n\\item[141] 0.217728643030749\n\\item[142] 0.0699245700959423\n\\item[143] 0.0691158271856679\n\\item[144] 0.459912610806653\n\\item[145] 0.0188124616783432\n\\item[146] 0.724660859479057\n\\item[147] 0.202857641624154\n\\item[148] 0.0140488181854147\n\\item[149] 0.179523288476757\n\\item[150] 0.500520696943876\n\\item[151] 0.132927256920757\n\\item[152] 0.475220575143613\n\\item[153] 0.136654344601907\n\\item[154] 0.0137942299703597\n\\item[155] 0.135529658558673\n\\item[156] 0.172058963439557\n\\item[157] 0.091641018157542\n\\item[158] 0.214932959213377\n\\item[159] 0.253376852166641\n\\item[160] 0.0445583632843049\n\\item[161] 0.137896785537885\n\\item[162] 0.0146775033827554\n\\item[163] 0.0670162788795825\n\\item[164] 0.0694319576823799\n\\item[165] 0.0904245921189001\n\\item[166] 0.259910176105141\n\\item[167] 0.118455825480236\n\\item[168] 0.594136940288482\n\\item[169] 0.0656648591828862\n\\item[170] 0.0392682257156827\n\\item[171] 0.716908090879432\n\\item[172] 0.33585630600266\n\\item[173] 0.299154581437541\n\\item[174] 0.0081696557506309\n\\item[175] 0.289721693861096\n\\item[176] 0.236775645002425\n\\item[177] 0.0620238833398762\n\\item[178] 0.676369840322334\n\\item[179] 0.0021587711820468\n\\item[180] 0.140486715408939\n\\item[181] 0.362453508417094\n\\item[182] 0.00903032782765638\n\\item[183] 0.0667961501662663\n\\item[184] 0.480654884714113\n\\item[185] 0.747937599429582\n\\item[186] 0.113325004919155\n\\item[187] 0.15490049490964\n\\item[188] 0.380792680037059\n\\item[189] 0.624964435004887\n\\item[190] 0.259484656935443\n\\item[191] 0.0872759612490359\n\\item[192] 0.108270569951184\n\\item[193] 0.158510775506128\n\\item[194] 0.298203370911403\n\\item[195] 0.0040331293431853\n\\item[196] 0.182626260580574\n\\item[197] 0.0818596326663297\n\\item[198] 0.0986318317457215\n\\item[199] 0.00841308653051983\n\\item[200] 0.0993622878086701\n\\item[201] ⋯\n\\item[202] 0.0461938841222338\n\\item[203] 0.309567304374696\n\\item[204] 0.29406117430863\n\\item[205] 0.176468928840679\n\\item[206] 0.024333384002741\n\\item[207] 0.0358582436960846\n\\item[208] 0.122530512290828\n\\item[209] 0.123846678290574\n\\item[210] 0.114272928393737\n\\item[211] 0.065994724082957\n\\item[212] 0.0144070163387078\n\\item[213] 0.6697082880499\n\\item[214] 0.0289830290434335\n\\item[215] 0.0581083889852984\n\\item[216] 0.0151692898610671\n\\item[217] 0.262515394565349\n\\item[218] 0.217518129309304\n\\item[219] 0.13067758797306\n\\item[220] 0.264178101572235\n\\item[221] 0.632590102374137\n\\item[222] 0.130086754906292\n\\item[223] 0.0408833206970926\n\\item[224] 0.0165866688395632\n\\item[225] 0.183350944236348\n\\item[226] 0.614107825402742\n\\item[227] 0.0867863848829174\n\\item[228] 0.66557707507911\n\\item[229] 0.00407105580215272\n\\item[230] 0.30988010963381\n\\item[231] 0.533817467822076\n\\item[232] 0.213765339697734\n\\item[233] 0.0492028052785961\n\\item[234] 0.840123446148984\n\\item[235] 0.0250034253483934\n\\item[236] 0.148597361682613\n\\item[237] 0.0195650355913358\n\\item[238] 0.063585179778547\n\\item[239] 0.0354697463459961\n\\item[240] 0.0812288057201224\n\\item[241] 0.302065354072311\n\\item[242] 0.173115667961703\n\\item[243] 0.00242798404622464\n\\item[244] 0.0684260716776475\n\\item[245] 0.864979690079914\n\\item[246] 0.427418891295013\n\\item[247] 0.872514151765306\n\\item[248] 0.408065929273062\n\\item[249] 0.15738623322388\n\\item[250] 0.174773108446178\n\\item[251] 0.177388170501488\n\\item[252] 0.745556288448471\n\\item[253] 0.053566222297461\n\\item[254] 0.122548728938219\n\\item[255] 0.044109248665493\n\\item[256] 0.347196355953618\n\\item[257] 0.0101533644336577\n\\item[258] 0.40460024945604\n\\item[259] 0.565511814865447\n\\item[260] 0.0253223503618909\n\\item[261] 0.385430178772482\n\\item[262] 0.753945788580552\n\\item[263] 0.323777782779754\n\\item[264] 0.0319554679011102\n\\item[265] 0.143105385311688\n\\item[266] 0.0926218544995589\n\\item[267] 0.944394025437512\n\\item[268] 0.121161061215919\n\\item[269] 0.659015690338773\n\\item[270] 0.0493284850707827\n\\item[271] 0.914566055035769\n\\item[272] 0.0216279491650641\n\\item[273] 0.140708801445112\n\\item[274] 0.0838988492321198\n\\item[275] 0.0224472049318656\n\\item[276] 0.146496390683422\n\\item[277] 0.104609485905003\n\\item[278] 0.0335732952767852\n\\item[279] 0.111088377481186\n\\item[280] 0.364129295609764\n\\item[281] 0.214240116716889\n\\item[282] 0.281117315048068\n\\item[283] 0.526792664068195\n\\item[284] 0.0302063488064445\n\\item[285] 0.183752328267471\n\\item[286] 0.157037481950773\n\\item[287] 0.228245298439243\n\\item[288] 0.12007445695053\n\\item[289] 0.27691709975351\n\\item[290] 0.446957371323543\n\\item[291] 0.189316015495876\n\\item[292] 0.232587153393097\n\\item[293] 0.025751272954819\n\\item[294] 0.047774315506209\n\\item[295] 0.0756886407153888\n\\item[296] 0.107740310710362\n\\item[297] 0.75237857994894\n\\item[298] 0.0748156338218317\n\\item[299] 0.126962958562509\n\\item[300] 0.0172883547549511\n\\item[301] 0.198701977581216\n\\item[302] 0.208548886660385\n\\item[303] 0.318984902067066\n\\item[304] 0.00131875441523787\n\\item[305] 0.360921089114078\n\\item[306] 0.00205924834859029\n\\item[307] 0.212038590568017\n\\item[308] 0.61865837614545\n\\item[309] 0.021642823150956\n\\item[310] 0.111591828185871\n\\item[311] 0.217526658297894\n\\item[312] 0.00353664911517158\n\\item[313] 0.457582655827819\n\\item[314] 0.0470491215069633\n\\item[315] 0.055154584103815\n\\item[316] 0.306326463446099\n\\item[317] 0.041132560751706\n\\item[318] 0.0230589517706018\n\\item[319] 0.0264634742176559\n\\item[320] 0.0318023664899238\n\\item[321] 0.571398874361245\n\\item[322] 0.0365536988435726\n\\item[323] 0.487539212850367\n\\item[324] 0.592525480215069\n\\item[325] 0.883589129267496\n\\item[326] 0.00277458167662767\n\\item[327] 0.131375541575918\n\\item[328] 0.494983730283529\n\\item[329] 0.0209519997532337\n\\item[330] 0.0386508269948197\n\\item[331] 0.371768605997613\n\\item[332] 0.193450590998539\n\\item[333] 0.0571269079358576\n\\item[334] 0.0926519241446159\n\\item[335] 0.419627367245314\n\\item[336] 0.211301727710943\n\\item[337] 0.138857951342723\n\\item[338] 0.263619250504087\n\\item[339] 0.17886685228557\n\\item[340] 0.676971209271755\n\\item[341] 0.056247715315762\n\\item[342] 0.131448507692517\n\\item[343] 0.205711585186024\n\\item[344] 0.447378692746059\n\\item[345] 0.29390434788862\n\\item[346] 0.254197312505541\n\\item[347] 0.25353162465278\n\\item[348] 0.176124925259725\n\\item[349] 0.0596256400713396\n\\item[350] 0.932075144966068\n\\item[351] 0.426448472418773\n\\item[352] 0.163681755233597\n\\item[353] 0.00209807489098924\n\\item[354] 0.233325881677289\n\\item[355] 0.709594974736261\n\\item[356] 0.632873074416993\n\\item[357] 0.434957972255834\n\\item[358] 0.722093040116383\n\\item[359] 0.0160221700162854\n\\item[360] 0.173409999908597\n\\item[361] 0.152128098687053\n\\item[362] 0.013511600214106\n\\item[363] 0.104923828436157\n\\item[364] 0.195699712468725\n\\item[365] 0.102369008014633\n\\item[366] 0.465786318220013\n\\item[367] 0.121132690391542\n\\item[368] 0.116498762889221\n\\item[369] 0.0609382989168906\n\\item[370] 0.011788770939827\n\\item[371] 0.0963783335999747\n\\item[372] 0.767661779485116\n\\item[373] 0.0415261632100777\n\\item[374] 0.226216381617196\n\\item[375] 0.196854112641316\n\\item[376] 0.0183387932758609\n\\item[377] 0.171249941329125\n\\item[378] 0.0682002145284115\n\\item[379] 0.0176831350755437\n\\item[380] 0.125412053642347\n\\item[381] 0.0093030454796618\n\\item[382] 0.0688469471810704\n\\item[383] 0.0268241504210871\n\\item[384] 0.398425079720723\n\\item[385] 0.814048680038182\n\\item[386] 0.634714773211015\n\\item[387] 0.419035765748448\n\\item[388] 0.12873790331737\n\\item[389] 0.365564740152537\n\\item[390] 0.0441268927961118\n\\item[391] 0.0120167680807382\n\\item[392] 0.0681420796878412\n\\item[393] 0.008956344781663\n\\item[394] 0.0585106780484684\n\\item[395] 0.0703557789966343\n\\item[396] 0.0104374396444721\n\\item[397] 0.141841789071341\n\\item[398] 0.0374557633283327\n\\item[399] 0.143232256340361\n\\item[400] 0.295976151210948\n\\item[401] 0.173039050302182\n\\end{description*}\n",
            "text/plain": [
              "           1            2            3            4            5            6 \n",
              "0.1048166070 0.0573577532 0.2095221140 0.0471725244 0.2303832926 0.1497343081 \n",
              "           7            8            9           10           11           12 \n",
              "0.0039373807 0.0702832906 0.0761318084 0.0245681508 0.5267344250 0.9682900876 \n",
              "          13           14           15           16           17           18 \n",
              "0.1528071639 0.5919149852 0.1895747117 0.0003103569 0.2216136977 0.5073922959 \n",
              "          19           20           21           22           23           24 \n",
              "0.0402194465 0.0942420128 0.0012394507 0.3201536721 0.7336418218 0.9626598096 \n",
              "          25           26           27           28           29           30 \n",
              "0.4340718174 0.8865293966 0.0091703450 0.6022020509 0.4697008254 0.2038225126 \n",
              "          31           32           33           34           35           36 \n",
              "0.2423751107 0.2425304044 0.6894987503 0.0026938027 0.0072564870 0.1869906810 \n",
              "          37           38           39           40           41           42 \n",
              "0.0365519763 0.0028169848 0.2530833602 0.1919048533 0.0017872341 0.3828460628 \n",
              "          43           44           45           46           47           48 \n",
              "0.0378557691 0.3082385597 0.6282978818 0.5263077107 0.0279476351 0.0847438190 \n",
              "          49           50           51           52           53           54 \n",
              "0.2121671460 0.2313296706 0.1286665248 0.3973524363 0.3945044816 0.0049707018 \n",
              "          55           56           57           58           59           60 \n",
              "0.9193910123 0.4935746559 0.1325699843 0.0542105300 0.1110876093 0.0038369815 \n",
              "          61           62           63           64           65           66 \n",
              "0.4162523060 0.0415923143 0.0121255566 0.0783563560 0.0107400249 0.0787119729 \n",
              "          67           68           69           70           71           72 \n",
              "0.0051608191 0.0092996818 0.2356857645 0.1261071354 0.0841996058 0.2557969898 \n",
              "          73           74           75           76           77           78 \n",
              "0.2882397284 0.6890849216 0.3423986265 0.0106616641 0.4173509904 0.1031506324 \n",
              "          79           80           81           82           83           84 \n",
              "0.7919898417 0.0962290794 0.1673066407 0.0450860613 0.4548276511 0.0070385743 \n",
              "          85           86           87           88           89           90 \n",
              "0.2543497590 0.1290948589 0.6479775077 0.0858914450 0.0908018717 0.9039068611 \n",
              "          91           92           93           94           95           96 \n",
              "0.5784281769 0.0243948795 0.0755717534 0.3036205622 0.3266762835 0.2370550679 \n",
              "          97           98           99          100          101          102 \n",
              "0.0463285997 0.0110656986 0.2399899042 0.5254740764 0.0067760250 0.1094711585 \n",
              "         103          104          105          106          107          108 \n",
              "0.2257896427 0.6225538616 0.2480936271 0.8270440193 0.1733518951 0.0076976653 \n",
              "         109          110          111          112          113          114 \n",
              "0.1592102942 0.2771227262 0.0267142531 0.1446895417 0.1505547400 0.8342496779 \n",
              "         115          116          117          118          119          120 \n",
              "0.5913016309 0.5496150589 0.0373199219 0.5740480768 0.1556386400 0.0719538372 \n",
              "         121          122          123          124          125          126 \n",
              "0.1294081575 0.0189233909 0.0022978151 0.1882620602 0.1030846785 0.6757092152 \n",
              "         127          128          129          130          131          132 \n",
              "0.2173447384 0.3795303073 0.2596317987 0.3089668269 0.2915823989 0.5360129899 \n",
              "         133          134          135          136          137          138 \n",
              "0.0134862618 0.3451192667 0.1038811668 0.0839560302 0.0052431407 0.0627014181 \n",
              "         139          140          141          142          143          144 \n",
              "0.1124821764 0.1497045295 0.2177286430 0.0699245701 0.0691158272 0.4599126108 \n",
              "         145          146          147          148          149          150 \n",
              "0.0188124617 0.7246608595 0.2028576416 0.0140488182 0.1795232885 0.5005206969 \n",
              "         151          152          153          154          155          156 \n",
              "0.1329272569 0.4752205751 0.1366543446 0.0137942300 0.1355296586 0.1720589634 \n",
              "         157          158          159          160          161          162 \n",
              "0.0916410182 0.2149329592 0.2533768522 0.0445583633 0.1378967855 0.0146775034 \n",
              "         163          164          165          166          167          168 \n",
              "0.0670162789 0.0694319577 0.0904245921 0.2599101761 0.1184558255 0.5941369403 \n",
              "         169          170          171          172          173          174 \n",
              "0.0656648592 0.0392682257 0.7169080909 0.3358563060 0.2991545814 0.0081696558 \n",
              "         175          176          177          178          179          180 \n",
              "0.2897216939 0.2367756450 0.0620238833 0.6763698403 0.0021587712 0.1404867154 \n",
              "         181          182          183          184          185          186 \n",
              "0.3624535084 0.0090303278 0.0667961502 0.4806548847 0.7479375994 0.1133250049 \n",
              "         187          188          189          190          191          192 \n",
              "0.1549004949 0.3807926800 0.6249644350 0.2594846569 0.0872759612 0.1082705700 \n",
              "         193          194          195          196          197          198 \n",
              "0.1585107755 0.2982033709 0.0040331293 0.1826262606 0.0818596327 0.0986318317 \n",
              "         199          200          201          202          203          204 \n",
              "0.0084130865 0.0993622878 0.3442804895 0.4467860899 0.0497886124 0.0320121395 \n",
              "         205          206          207          208          209          210 \n",
              "0.0304205976 0.1041751975 0.7653954515 0.0171944100 0.0548211203 0.1814095001 \n",
              "         211          212          213          214          215          216 \n",
              "0.7541193144 0.1683627791 0.3818746145 0.4879323983 0.2714389018 0.0100371512 \n",
              "         217          218          219          220          221          222 \n",
              "0.1011934245 0.1878049356 0.0222100442 0.0097151293 0.4480018328 0.4786849835 \n",
              "         223          224          225          226          227          228 \n",
              "0.0138679776 0.0304912034 0.1138025249 0.0601302181 0.0962874408 0.0561755013 \n",
              "         229          230          231          232          233          234 \n",
              "0.0652709806 0.0089837220 0.0175053584 0.0750881437 0.0680381375 0.2330420558 \n",
              "         235          236          237          238          239          240 \n",
              "0.0040130480 0.0263831494 0.4130960714 0.1185204523 0.6657264383 0.3648943202 \n",
              "         241          242          243          244          245          246 \n",
              "0.4497100737 0.0002469904 0.3419549834 0.2956630069 0.0401637122 0.0047378439 \n",
              "         247          248          249          250          251          252 \n",
              "0.2246233600 0.4716449879 0.2265913740 0.3265079249 0.3480699668 0.3275868404 \n",
              "         253          254          255          256          257          258 \n",
              "0.0179409918 0.3758362788 0.1392837906 0.1285359363 0.0323467800 0.0063882975 \n",
              "         259          260          261          262          263          264 \n",
              "0.1998489761 0.2933462596 0.0195882274 0.0795020489 0.1338601547 0.1288755389 \n",
              "         265          266          267          268          269          270 \n",
              "0.7094873696 0.3558770255 0.0784167828 0.1459433342 0.5673112873 0.0808818833 \n",
              "         271          272          273          274          275          276 \n",
              "0.3456843784 0.0214429560 0.2998104492 0.4700118187 0.0725446294 0.0121123140 \n",
              "         277          278          279          280          281          282 \n",
              "0.0156202924 0.0547431619 0.3512992587 0.2794680192 0.6017178798 0.0103630777 \n",
              "         283          284          285          286          287          288 \n",
              "0.0272402821 0.3704485759 0.8429940691 0.7338535456 0.0428510174 0.2867437587 \n",
              "         289          290          291          292          293          294 \n",
              "0.0587001347 0.5420239972 0.0274856891 0.1012426689 0.1591164393 0.0450551495 \n",
              "         295          296          297          298          299          300 \n",
              "0.8347273277 0.0291561421 0.2568997460 0.1642894385 0.6819112257 0.6204023898 \n",
              "         301          302          303          304          305          306 \n",
              "0.4659913537 0.4000711602 0.1364409675 0.2752323974 0.4423406294 0.0013335756 \n",
              "         307          308          309          310          311          312 \n",
              "0.2671104273 0.0123448276 0.0406662639 0.3506638843 0.1561351546 0.5133307644 \n",
              "         313          314          315          316          317          318 \n",
              "0.0051192875 0.0913539234 0.1045916539 0.0888841114 0.1834867849 0.0238953572 \n",
              "         319          320          321          322          323          324 \n",
              "0.5321598771 0.0178954093 0.2303459519 0.1100522529 0.1949071618 0.1685547778 \n",
              "         325          326          327          328          329          330 \n",
              "0.9845040041 0.1948541651 0.1589281352 0.2894675533 0.0143058054 0.3686532341 \n",
              "         331          332          333          334          335          336 \n",
              "0.5950519895 0.0111475298 0.1333190617 0.0548353476 0.2131216459 0.8147683841 \n",
              "         337          338          339          340          341          342 \n",
              "0.5833323075 0.1611322295 0.0753413629 0.1407468754 0.2618589796 0.0024223926 \n",
              "         343          344          345          346          347          348 \n",
              "0.5515725292 0.0138638986 0.0474417526 0.9662255472 0.0044612019 0.0157342251 \n",
              "         349          350          351          352          353          354 \n",
              "0.3280962299 0.0843678762 0.3866709635 0.6735007965 0.4661321155 0.6996731465 \n",
              "         355          356          357          358          359          360 \n",
              "0.0218945950 0.4500310680 0.0031234024 0.0066931862 0.0205219326 0.4308770786 \n",
              "         361          362          363          364          365          366 \n",
              "0.0079879004 0.2637298995 0.2686626679 0.1350027492 0.1430076692 0.2308442053 \n",
              "         367          368          369          370          371          372 \n",
              "0.9857070741 0.0356066174 0.2893368066 0.1106947393 0.0043801363 0.1638478298 \n",
              "         373          374          375          376          377          378 \n",
              "0.9646849105 0.0088848619 0.0048779397 0.2970446314 0.6467723594 0.6479916133 \n",
              "         379          380          381          382          383          384 \n",
              "0.2202267134 0.0659390377 0.0325178381 0.2754067914 0.2076998114 0.2775328264 \n",
              "         385          386          387          388          389          390 \n",
              "0.3217786078 0.7258309977 0.2314998422 0.0861167752 0.0051805935 0.1323793748 \n",
              "         391          392          393          394          395          396 \n",
              "0.2658428332 0.0289036210 0.2237588526 0.1598680375 0.0091578750 0.1563116357 \n",
              "         397          398          399          400          401          402 \n",
              "0.0353974330 0.9761031815 0.0356470812 0.5103605593 0.0308216231 0.2512025378 \n",
              "         403          404          405          406          407          408 \n",
              "0.0296701291 0.8999331471 0.3457190743 0.6643751579 0.4005231746 0.0214720089 \n",
              "         409          410          411          412          413          414 \n",
              "0.8065721446 0.5650762826 0.2398766020 0.2103438167 0.6051317999 0.0124559577 \n",
              "         415          416          417          418          419          420 \n",
              "0.8919001805 0.0028237345 0.3858522371 0.0046723543 0.0420448732 0.2737651034 \n",
              "         421          422          423          424          425          426 \n",
              "0.0671026035 0.2672108546 0.0632539094 0.0159863020 0.1130991402 0.3592291213 \n",
              "         427          428          429          430          431          432 \n",
              "0.7010544732 0.3734802097 0.0121729764 0.5224874047 0.0246239459 0.0032921644 \n",
              "         433          434          435          436          437          438 \n",
              "0.0038247420 0.1687740977 0.2066201362 0.0507369034 0.3620847955 0.0450221946 \n",
              "         439          440          441          442          443          444 \n",
              "0.8592832028 0.0461938841 0.3095673044 0.2940611743 0.1764689288 0.0243333840 \n",
              "         445          446          447          448          449          450 \n",
              "0.0358582437 0.1225305123 0.1238466783 0.1142729284 0.0659947241 0.0144070163 \n",
              "         451          452          453          454          455          456 \n",
              "0.6697082880 0.0289830290 0.0581083890 0.0151692899 0.2625153946 0.2175181293 \n",
              "         457          458          459          460          461          462 \n",
              "0.1306775880 0.2641781016 0.6325901024 0.1300867549 0.0408833207 0.0165866688 \n",
              "         463          464          465          466          467          468 \n",
              "0.1833509442 0.6141078254 0.0867863849 0.6655770751 0.0040710558 0.3098801096 \n",
              "         469          470          471          472          473          474 \n",
              "0.5338174678 0.2137653397 0.0492028053 0.8401234461 0.0250034253 0.1485973617 \n",
              "         475          476          477          478          479          480 \n",
              "0.0195650356 0.0635851798 0.0354697463 0.0812288057 0.3020653541 0.1731156680 \n",
              "         481          482          483          484          485          486 \n",
              "0.0024279840 0.0684260717 0.8649796901 0.4274188913 0.8725141518 0.4080659293 \n",
              "         487          488          489          490          491          492 \n",
              "0.1573862332 0.1747731084 0.1773881705 0.7455562884 0.0535662223 0.1225487289 \n",
              "         493          494          495          496          497          498 \n",
              "0.0441092487 0.3471963560 0.0101533644 0.4046002495 0.5655118149 0.0253223504 \n",
              "         499          500          501          502          503          504 \n",
              "0.3854301788 0.7539457886 0.3237777828 0.0319554679 0.1431053853 0.0926218545 \n",
              "         505          506          507          508          509          510 \n",
              "0.9443940254 0.1211610612 0.6590156903 0.0493284851 0.9145660550 0.0216279492 \n",
              "         511          512          513          514          515          516 \n",
              "0.1407088014 0.0838988492 0.0224472049 0.1464963907 0.1046094859 0.0335732953 \n",
              "         517          518          519          520          521          522 \n",
              "0.1110883775 0.3641292956 0.2142401167 0.2811173150 0.5267926641 0.0302063488 \n",
              "         523          524          525          526          527          528 \n",
              "0.1837523283 0.1570374820 0.2282452984 0.1200744570 0.2769170998 0.4469573713 \n",
              "         529          530          531          532          533          534 \n",
              "0.1893160155 0.2325871534 0.0257512730 0.0477743155 0.0756886407 0.1077403107 \n",
              "         535          536          537          538          539          540 \n",
              "0.7523785799 0.0748156338 0.1269629586 0.0172883548 0.1987019776 0.2085488867 \n",
              "         541          542          543          544          545          546 \n",
              "0.3189849021 0.0013187544 0.3609210891 0.0020592483 0.2120385906 0.6186583761 \n",
              "         547          548          549          550          551          552 \n",
              "0.0216428232 0.1115918282 0.2175266583 0.0035366491 0.4575826558 0.0470491215 \n",
              "         553          554          555          556          557          558 \n",
              "0.0551545841 0.3063264634 0.0411325608 0.0230589518 0.0264634742 0.0318023665 \n",
              "         559          560          561          562          563          564 \n",
              "0.5713988744 0.0365536988 0.4875392129 0.5925254802 0.8835891293 0.0027745817 \n",
              "         565          566          567          568          569          570 \n",
              "0.1313755416 0.4949837303 0.0209519998 0.0386508270 0.3717686060 0.1934505910 \n",
              "         571          572          573          574          575          576 \n",
              "0.0571269079 0.0926519241 0.4196273672 0.2113017277 0.1388579513 0.2636192505 \n",
              "         577          578          579          580          581          582 \n",
              "0.1788668523 0.6769712093 0.0562477153 0.1314485077 0.2057115852 0.4473786927 \n",
              "         583          584          585          586          587          588 \n",
              "0.2939043479 0.2541973125 0.2535316247 0.1761249253 0.0596256401 0.9320751450 \n",
              "         589          590          591          592          593          594 \n",
              "0.4264484724 0.1636817552 0.0020980749 0.2333258817 0.7095949747 0.6328730744 \n",
              "         595          596          597          598          599          600 \n",
              "0.4349579723 0.7220930401 0.0160221700 0.1734099999 0.1521280987 0.0135116002 \n",
              "         601          602          603          604          605          606 \n",
              "0.1049238284 0.1956997125 0.1023690080 0.4657863182 0.1211326904 0.1164987629 \n",
              "         607          608          609          610          611          612 \n",
              "0.0609382989 0.0117887709 0.0963783336 0.7676617795 0.0415261632 0.2262163816 \n",
              "         613          614          615          616          617          618 \n",
              "0.1968541126 0.0183387933 0.1712499413 0.0682002145 0.0176831351 0.1254120536 \n",
              "         619          620          621          622          623          624 \n",
              "0.0093030455 0.0688469472 0.0268241504 0.3984250797 0.8140486800 0.6347147732 \n",
              "         625          626          627          628          629          630 \n",
              "0.4190357657 0.1287379033 0.3655647402 0.0441268928 0.0120167681 0.0681420797 \n",
              "         631          632          633          634          635          636 \n",
              "0.0089563448 0.0585106780 0.0703557790 0.0104374396 0.1418417891 0.0374557633 \n",
              "         637          638          639 \n",
              "0.1432322563 0.2959761512 0.1730390503 "
            ]
          },
          "metadata": {}
        }
      ]
    },
    {
      "cell_type": "code",
      "source": [
        "#crea el pronostico base de entrenamiento\n",
        "prontrain<-ifelse(steplogit$fitted.values > 0.5,1,0)\n",
        "#tabla de confusión y estadisticas, base de entrenamiento\n",
        "conftrain<-confusionMatrix(as.factor(prontrain),cartera.train$retrasos, positive = \"1\")\n",
        "conftrain$table\n",
        "conftrain$byClass"
      ],
      "metadata": {
        "id": "PF_G_Zw69Xjo",
        "colab": {
          "base_uri": "https://localhost:8080/",
          "height": 139
        },
        "outputId": "a0d3415e-ada5-4903-ef06-f65b21f7d74e"
      },
      "execution_count": null,
      "outputs": [
        {
          "output_type": "display_data",
          "data": {
            "text/plain": [
              "          Reference\n",
              "Prediction   0   1\n",
              "         0 457  83\n",
              "         1  30  69"
            ]
          },
          "metadata": {}
        },
        {
          "output_type": "display_data",
          "data": {
            "text/html": [
              "<style>\n",
              ".dl-inline {width: auto; margin:0; padding: 0}\n",
              ".dl-inline>dt, .dl-inline>dd {float: none; width: auto; display: inline-block}\n",
              ".dl-inline>dt::after {content: \":\\0020\"; padding-right: .5ex}\n",
              ".dl-inline>dt:not(:first-of-type) {padding-left: .5ex}\n",
              "</style><dl class=dl-inline><dt>Sensitivity</dt><dd>0.453947368421053</dd><dt>Specificity</dt><dd>0.938398357289528</dd><dt>Pos Pred Value</dt><dd>0.696969696969697</dd><dt>Neg Pred Value</dt><dd>0.846296296296296</dd><dt>Precision</dt><dd>0.696969696969697</dd><dt>Recall</dt><dd>0.453947368421053</dd><dt>F1</dt><dd>0.549800796812749</dd><dt>Prevalence</dt><dd>0.237871674491393</dd><dt>Detection Rate</dt><dd>0.107981220657277</dd><dt>Detection Prevalence</dt><dd>0.154929577464789</dd><dt>Balanced Accuracy</dt><dd>0.69617286285529</dd></dl>\n"
            ],
            "text/markdown": "Sensitivity\n:   0.453947368421053Specificity\n:   0.938398357289528Pos Pred Value\n:   0.696969696969697Neg Pred Value\n:   0.846296296296296Precision\n:   0.696969696969697Recall\n:   0.453947368421053F1\n:   0.549800796812749Prevalence\n:   0.237871674491393Detection Rate\n:   0.107981220657277Detection Prevalence\n:   0.154929577464789Balanced Accuracy\n:   0.69617286285529\n\n",
            "text/latex": "\\begin{description*}\n\\item[Sensitivity] 0.453947368421053\n\\item[Specificity] 0.938398357289528\n\\item[Pos Pred Value] 0.696969696969697\n\\item[Neg Pred Value] 0.846296296296296\n\\item[Precision] 0.696969696969697\n\\item[Recall] 0.453947368421053\n\\item[F1] 0.549800796812749\n\\item[Prevalence] 0.237871674491393\n\\item[Detection Rate] 0.107981220657277\n\\item[Detection Prevalence] 0.154929577464789\n\\item[Balanced Accuracy] 0.69617286285529\n\\end{description*}\n",
            "text/plain": [
              "         Sensitivity          Specificity       Pos Pred Value \n",
              "           0.4539474            0.9383984            0.6969697 \n",
              "      Neg Pred Value            Precision               Recall \n",
              "           0.8462963            0.6969697            0.4539474 \n",
              "                  F1           Prevalence       Detection Rate \n",
              "           0.5498008            0.2378717            0.1079812 \n",
              "Detection Prevalence    Balanced Accuracy \n",
              "           0.1549296            0.6961729 "
            ]
          },
          "metadata": {}
        }
      ]
    },
    {
      "cell_type": "code",
      "source": [
        "#crea el pronóstico en validación\n",
        "probtest<-predict(steplogit,newdata = cartera.test,type='response')\n",
        "prontest<-ifelse(probtest > 0.5,1,0)\n",
        "conftest<-confusionMatrix(as.factor(prontest),cartera.test$retrasos, positive = \"1\")\n",
        "conftest$table\n",
        "conftest$byClass"
      ],
      "metadata": {
        "id": "X8eZiLyb9aRZ",
        "colab": {
          "base_uri": "https://localhost:8080/",
          "height": 139
        },
        "outputId": "b9202ef4-cb43-4afd-e72c-8b411bf7f05e"
      },
      "execution_count": null,
      "outputs": [
        {
          "output_type": "display_data",
          "data": {
            "text/plain": [
              "          Reference\n",
              "Prediction   0   1\n",
              "         0 163  19\n",
              "         1   9  22"
            ]
          },
          "metadata": {}
        },
        {
          "output_type": "display_data",
          "data": {
            "text/html": [
              "<style>\n",
              ".dl-inline {width: auto; margin:0; padding: 0}\n",
              ".dl-inline>dt, .dl-inline>dd {float: none; width: auto; display: inline-block}\n",
              ".dl-inline>dt::after {content: \":\\0020\"; padding-right: .5ex}\n",
              ".dl-inline>dt:not(:first-of-type) {padding-left: .5ex}\n",
              "</style><dl class=dl-inline><dt>Sensitivity</dt><dd>0.536585365853659</dd><dt>Specificity</dt><dd>0.947674418604651</dd><dt>Pos Pred Value</dt><dd>0.709677419354839</dd><dt>Neg Pred Value</dt><dd>0.895604395604396</dd><dt>Precision</dt><dd>0.709677419354839</dd><dt>Recall</dt><dd>0.536585365853659</dd><dt>F1</dt><dd>0.611111111111111</dd><dt>Prevalence</dt><dd>0.192488262910798</dd><dt>Detection Rate</dt><dd>0.103286384976526</dd><dt>Detection Prevalence</dt><dd>0.145539906103286</dd><dt>Balanced Accuracy</dt><dd>0.742129892229155</dd></dl>\n"
            ],
            "text/markdown": "Sensitivity\n:   0.536585365853659Specificity\n:   0.947674418604651Pos Pred Value\n:   0.709677419354839Neg Pred Value\n:   0.895604395604396Precision\n:   0.709677419354839Recall\n:   0.536585365853659F1\n:   0.611111111111111Prevalence\n:   0.192488262910798Detection Rate\n:   0.103286384976526Detection Prevalence\n:   0.145539906103286Balanced Accuracy\n:   0.742129892229155\n\n",
            "text/latex": "\\begin{description*}\n\\item[Sensitivity] 0.536585365853659\n\\item[Specificity] 0.947674418604651\n\\item[Pos Pred Value] 0.709677419354839\n\\item[Neg Pred Value] 0.895604395604396\n\\item[Precision] 0.709677419354839\n\\item[Recall] 0.536585365853659\n\\item[F1] 0.611111111111111\n\\item[Prevalence] 0.192488262910798\n\\item[Detection Rate] 0.103286384976526\n\\item[Detection Prevalence] 0.145539906103286\n\\item[Balanced Accuracy] 0.742129892229155\n\\end{description*}\n",
            "text/plain": [
              "         Sensitivity          Specificity       Pos Pred Value \n",
              "           0.5365854            0.9476744            0.7096774 \n",
              "      Neg Pred Value            Precision               Recall \n",
              "           0.8956044            0.7096774            0.5365854 \n",
              "                  F1           Prevalence       Detection Rate \n",
              "           0.6111111            0.1924883            0.1032864 \n",
              "Detection Prevalence    Balanced Accuracy \n",
              "           0.1455399            0.7421299 "
            ]
          },
          "metadata": {}
        }
      ]
    },
    {
      "cell_type": "markdown",
      "source": [
        "En la base de datos de validación, la precisión es del 70.96% y la exhaustividad de 53.65%. La precisión es qué tanto acierta el modelo cuando dice que una empresa generará incumplimiento. La exahustividad es cuántas de las empresas incumplidas son detectadas como tales.UNa combinación de los dos es el F1 score, que para nuestro caso es de 61.1%. Se puede aumentar la precisión disminuyendo la exhaustividad y viceversa, cambiando simplemente el punto de corte (disminuyéndolo para aumentar precisión o aumentándolo para aumentar exhaustividad)\n",
        "\n",
        "Para observar ese balance se utiliza la curva COR (o ROC por sus siglas en inglés). Al graficar la curva de todas las posibles combinaciones de falsos positivos (que hablan de la precisión) contra los verdaderos positivos (que hablan de la exhaustividad) podemos darnos una idea de cómo funcionaría el modelo en diferentes puntos de corte. El área bajo la curva dibujada es un indicador adicional de la calidad del modelo"
      ],
      "metadata": {
        "id": "yjIjcxLkJtFF"
      }
    },
    {
      "cell_type": "code",
      "source": [
        "##nuevo sobre precision\n",
        "cartllev<-cbind(cartera.test,probtest)"
      ],
      "metadata": {
        "id": "8BpP5BU29gxQ"
      },
      "execution_count": null,
      "outputs": []
    },
    {
      "cell_type": "code",
      "source": [
        "cartllev"
      ],
      "metadata": {
        "colab": {
          "base_uri": "https://localhost:8080/",
          "height": 1000
        },
        "id": "yUWpJuriNFkE",
        "outputId": "26201298-a367-45fa-bb50-115bbfe3f669"
      },
      "execution_count": null,
      "outputs": [
        {
          "output_type": "display_data",
          "data": {
            "text/html": [
              "<table class=\"dataframe\">\n",
              "<caption>A data.frame: 213 × 11</caption>\n",
              "<thead>\n",
              "\t<tr><th></th><th scope=col>MESES</th><th scope=col>TIPO_ips</th><th scope=col>IGUAL_DUENO</th><th scope=col>AGNOS_DIRECCION_ACTUAL</th><th scope=col>VENTAS_MENS_PROMEDIO</th><th scope=col>PORC_PASIVOS_VENTA_ANUAL</th><th scope=col>cartera_actual_insumos_A</th><th scope=col>cartera_actual_insumos_B</th><th scope=col>retrasos</th><th scope=col>TIPOips</th><th scope=col>probtest</th></tr>\n",
              "\t<tr><th></th><th scope=col>&lt;dbl&gt;</th><th scope=col>&lt;dbl&gt;</th><th scope=col>&lt;dbl&gt;</th><th scope=col>&lt;dbl&gt;</th><th scope=col>&lt;dbl&gt;</th><th scope=col>&lt;dbl&gt;</th><th scope=col>&lt;dbl&gt;</th><th scope=col>&lt;dbl&gt;</th><th scope=col>&lt;fct&gt;</th><th scope=col>&lt;fct&gt;</th><th scope=col>&lt;dbl&gt;</th></tr>\n",
              "</thead>\n",
              "<tbody>\n",
              "\t<tr><th scope=row>1</th><td>24</td><td>1</td><td> 3</td><td> 4</td><td> 19</td><td>24.4</td><td>1.358348</td><td>3.277652</td><td>1</td><td>1</td><td>0.769253827</td></tr>\n",
              "\t<tr><th scope=row>2</th><td>36</td><td>1</td><td> 0</td><td>13</td><td> 25</td><td>19.7</td><td>2.777700</td><td>2.147300</td><td>0</td><td>1</td><td>0.801288362</td></tr>\n",
              "\t<tr><th scope=row>3</th><td>37</td><td>1</td><td> 6</td><td> 9</td><td> 29</td><td>16.3</td><td>1.715901</td><td>3.011099</td><td>0</td><td>1</td><td>0.371398168</td></tr>\n",
              "\t<tr><th scope=row>4</th><td>43</td><td>1</td><td>23</td><td>19</td><td> 72</td><td> 7.6</td><td>1.181952</td><td>4.290048</td><td>0</td><td>1</td><td>0.002552703</td></tr>\n",
              "\t<tr><th scope=row>5</th><td>28</td><td>1</td><td> 3</td><td> 6</td><td> 26</td><td>10.0</td><td>0.431600</td><td>2.168400</td><td>0</td><td>1</td><td>0.262773268</td></tr>\n",
              "\t<tr><th scope=row>6</th><td>29</td><td>1</td><td> 8</td><td> 6</td><td> 27</td><td> 9.8</td><td>0.402192</td><td>2.243808</td><td>0</td><td>1</td><td>0.106061583</td></tr>\n",
              "\t<tr><th scope=row>7</th><td>30</td><td>1</td><td> 1</td><td>10</td><td> 22</td><td>10.5</td><td>1.138830</td><td>1.171170</td><td>0</td><td>1</td><td>0.386458430</td></tr>\n",
              "\t<tr><th scope=row>8</th><td>32</td><td>2</td><td>12</td><td> 1</td><td> 54</td><td>14.4</td><td>3.195936</td><td>4.580064</td><td>0</td><td>2</td><td>0.279496129</td></tr>\n",
              "\t<tr><th scope=row>9</th><td>21</td><td>2</td><td> 0</td><td> 1</td><td> 16</td><td> 6.8</td><td>0.150144</td><td>0.937856</td><td>0</td><td>2</td><td>0.349434271</td></tr>\n",
              "\t<tr><th scope=row>10</th><td>35</td><td>1</td><td>13</td><td>15</td><td> 35</td><td> 4.5</td><td>0.431550</td><td>1.143450</td><td>0</td><td>1</td><td>0.013185232</td></tr>\n",
              "\t<tr><th scope=row>11</th><td>46</td><td>1</td><td>16</td><td>18</td><td> 52</td><td>12.9</td><td>3.032016</td><td>3.675984</td><td>1</td><td>1</td><td>0.047896645</td></tr>\n",
              "\t<tr><th scope=row>12</th><td>35</td><td>1</td><td> 9</td><td> 1</td><td> 34</td><td> 5.0</td><td>0.397800</td><td>1.302200</td><td>0</td><td>1</td><td>0.066356246</td></tr>\n",
              "\t<tr><th scope=row>13</th><td>40</td><td>3</td><td>18</td><td> 6</td><td>100</td><td> 2.5</td><td>1.485000</td><td>1.015000</td><td>0</td><td>3</td><td>0.009336578</td></tr>\n",
              "\t<tr><th scope=row>14</th><td>37</td><td>1</td><td> 4</td><td> 0</td><td> 23</td><td>12.4</td><td>0.869860</td><td>1.982140</td><td>0</td><td>1</td><td>0.392897786</td></tr>\n",
              "\t<tr><th scope=row>15</th><td>33</td><td>2</td><td> 4</td><td> 9</td><td> 55</td><td> 7.0</td><td>2.159850</td><td>1.690150</td><td>0</td><td>2</td><td>0.264514515</td></tr>\n",
              "\t<tr><th scope=row>16</th><td>39</td><td>1</td><td>19</td><td> 8</td><td> 46</td><td> 9.1</td><td>2.515786</td><td>1.670214</td><td>0</td><td>1</td><td>0.022932795</td></tr>\n",
              "\t<tr><th scope=row>17</th><td>29</td><td>1</td><td> 1</td><td> 2</td><td> 20</td><td>18.6</td><td>0.569160</td><td>3.150840</td><td>1</td><td>1</td><td>0.669196457</td></tr>\n",
              "\t<tr><th scope=row>18</th><td>43</td><td>4</td><td> 1</td><td> 5</td><td> 26</td><td>10.6</td><td>1.518556</td><td>1.237444</td><td>0</td><td>4</td><td>0.497700202</td></tr>\n",
              "\t<tr><th scope=row>19</th><td>41</td><td>1</td><td>13</td><td>10</td><td> 44</td><td> 1.7</td><td>0.071060</td><td>0.676940</td><td>0</td><td>1</td><td>0.010670099</td></tr>\n",
              "\t<tr><th scope=row>20</th><td>47</td><td>1</td><td>13</td><td>25</td><td> 51</td><td>23.8</td><td>3.738504</td><td>8.399496</td><td>0</td><td>1</td><td>0.244405206</td></tr>\n",
              "\t<tr><th scope=row>21</th><td>29</td><td>1</td><td> 1</td><td> 9</td><td> 17</td><td> 6.7</td><td>0.157182</td><td>0.981818</td><td>0</td><td>1</td><td>0.216497844</td></tr>\n",
              "\t<tr><th scope=row>22</th><td>36</td><td>1</td><td>15</td><td>10</td><td> 39</td><td> 3.2</td><td>0.686400</td><td>0.561600</td><td>0</td><td>1</td><td>0.010886083</td></tr>\n",
              "\t<tr><th scope=row>23</th><td>37</td><td>3</td><td> 5</td><td>17</td><td> 29</td><td>24.6</td><td>1.405398</td><td>5.728602</td><td>0</td><td>3</td><td>0.525744822</td></tr>\n",
              "\t<tr><th scope=row>24</th><td>23</td><td>2</td><td> 0</td><td> 1</td><td> 17</td><td>27.7</td><td>2.043706</td><td>2.665294</td><td>1</td><td>2</td><td>0.937007253</td></tr>\n",
              "\t<tr><th scope=row>25</th><td>32</td><td>2</td><td> 0</td><td> 6</td><td> 18</td><td> 5.8</td><td>0.296496</td><td>0.747504</td><td>1</td><td>2</td><td>0.277894760</td></tr>\n",
              "\t<tr><th scope=row>26</th><td>41</td><td>3</td><td> 2</td><td> 0</td><td> 15</td><td>26.3</td><td>1.960665</td><td>1.984335</td><td>1</td><td>3</td><td>0.893421195</td></tr>\n",
              "\t<tr><th scope=row>27</th><td>36</td><td>1</td><td> 6</td><td> 9</td><td> 26</td><td> 8.3</td><td>0.030212</td><td>2.127788</td><td>0</td><td>1</td><td>0.098604037</td></tr>\n",
              "\t<tr><th scope=row>28</th><td>40</td><td>1</td><td> 8</td><td>17</td><td> 28</td><td> 3.6</td><td>0.534240</td><td>0.473760</td><td>0</td><td>1</td><td>0.031487109</td></tr>\n",
              "\t<tr><th scope=row>29</th><td>21</td><td>3</td><td> 0</td><td> 2</td><td> 24</td><td> 7.7</td><td>0.833448</td><td>1.014552</td><td>0</td><td>3</td><td>0.431978893</td></tr>\n",
              "\t<tr><th scope=row>30</th><td>25</td><td>1</td><td> 1</td><td> 0</td><td> 20</td><td> 6.7</td><td>0.471680</td><td>0.868320</td><td>1</td><td>1</td><td>0.342582598</td></tr>\n",
              "\t<tr><th scope=row>⋮</th><td>⋮</td><td>⋮</td><td>⋮</td><td>⋮</td><td>⋮</td><td>⋮</td><td>⋮</td><td>⋮</td><td>⋮</td><td>⋮</td><td>⋮</td></tr>\n",
              "\t<tr><th scope=row>184</th><td>39</td><td>1</td><td>19</td><td>16</td><td> 53</td><td> 3.7</td><td> 0.190217</td><td> 1.770783</td><td>0</td><td>1</td><td>0.002880510</td></tr>\n",
              "\t<tr><th scope=row>185</th><td>30</td><td>1</td><td> 1</td><td> 1</td><td> 27</td><td>12.3</td><td> 1.275264</td><td> 2.045736</td><td>0</td><td>1</td><td>0.577065963</td></tr>\n",
              "\t<tr><th scope=row>186</th><td>24</td><td>1</td><td> 4</td><td> 1</td><td> 23</td><td> 4.9</td><td> 0.242305</td><td> 0.884695</td><td>0</td><td>1</td><td>0.159776532</td></tr>\n",
              "\t<tr><th scope=row>187</th><td>40</td><td>3</td><td> 5</td><td>18</td><td> 28</td><td>10.0</td><td> 1.262800</td><td> 1.537200</td><td>0</td><td>3</td><td>0.146507920</td></tr>\n",
              "\t<tr><th scope=row>188</th><td>48</td><td>2</td><td>21</td><td>14</td><td> 86</td><td> 1.2</td><td> 0.145512</td><td> 0.886488</td><td>0</td><td>2</td><td>0.001531202</td></tr>\n",
              "\t<tr><th scope=row>189</th><td>53</td><td>1</td><td>33</td><td>25</td><td>324</td><td> 7.0</td><td> 7.053480</td><td>15.626520</td><td>0</td><td>1</td><td>0.002570834</td></tr>\n",
              "\t<tr><th scope=row>190</th><td>29</td><td>2</td><td> 3</td><td> 9</td><td> 32</td><td> 9.0</td><td> 1.071360</td><td> 1.808640</td><td>0</td><td>2</td><td>0.260963670</td></tr>\n",
              "\t<tr><th scope=row>191</th><td>25</td><td>3</td><td> 3</td><td> 2</td><td> 54</td><td> 7.4</td><td> 1.162836</td><td> 2.833164</td><td>0</td><td>3</td><td>0.308884288</td></tr>\n",
              "\t<tr><th scope=row>192</th><td>27</td><td>1</td><td> 6</td><td> 2</td><td> 52</td><td>13.8</td><td> 1.901640</td><td> 5.274360</td><td>0</td><td>1</td><td>0.411534489</td></tr>\n",
              "\t<tr><th scope=row>193</th><td>36</td><td>1</td><td> 4</td><td>17</td><td> 25</td><td> 4.0</td><td> 0.144000</td><td> 0.856000</td><td>0</td><td>1</td><td>0.063193057</td></tr>\n",
              "\t<tr><th scope=row>194</th><td>33</td><td>1</td><td>11</td><td> 6</td><td> 35</td><td>15.9</td><td> 0.506415</td><td> 5.058585</td><td>0</td><td>1</td><td>0.119821528</td></tr>\n",
              "\t<tr><th scope=row>195</th><td>44</td><td>1</td><td>18</td><td> 0</td><td> 61</td><td>10.8</td><td> 2.806488</td><td> 3.781512</td><td>0</td><td>1</td><td>0.059132101</td></tr>\n",
              "\t<tr><th scope=row>196</th><td>37</td><td>2</td><td>11</td><td>11</td><td> 47</td><td> 9.6</td><td> 1.597248</td><td> 2.914752</td><td>0</td><td>2</td><td>0.072162651</td></tr>\n",
              "\t<tr><th scope=row>197</th><td>23</td><td>2</td><td> 2</td><td> 2</td><td> 48</td><td> 7.5</td><td> 0.511200</td><td> 3.088800</td><td>0</td><td>2</td><td>0.296845965</td></tr>\n",
              "\t<tr><th scope=row>198</th><td>30</td><td>1</td><td> 8</td><td>11</td><td> 27</td><td>20.3</td><td> 3.743523</td><td> 1.737477</td><td>1</td><td>1</td><td>0.572752484</td></tr>\n",
              "\t<tr><th scope=row>199</th><td>25</td><td>2</td><td> 5</td><td> 3</td><td> 42</td><td>15.5</td><td> 3.365670</td><td> 3.144330</td><td>0</td><td>2</td><td>0.653860799</td></tr>\n",
              "\t<tr><th scope=row>200</th><td>38</td><td>2</td><td>12</td><td>14</td><td> 40</td><td> 5.1</td><td> 0.897600</td><td> 1.142400</td><td>0</td><td>2</td><td>0.022443941</td></tr>\n",
              "\t<tr><th scope=row>201</th><td>29</td><td>2</td><td> 2</td><td> 4</td><td> 16</td><td>10.5</td><td> 0.433440</td><td> 1.246560</td><td>0</td><td>2</td><td>0.343553400</td></tr>\n",
              "\t<tr><th scope=row>202</th><td>40</td><td>1</td><td>23</td><td>16</td><td> 81</td><td>10.9</td><td> 0.997677</td><td> 7.831323</td><td>0</td><td>1</td><td>0.004125702</td></tr>\n",
              "\t<tr><th scope=row>203</th><td>48</td><td>1</td><td>10</td><td> 0</td><td> 70</td><td>28.2</td><td>10.679340</td><td> 9.060660</td><td>1</td><td>1</td><td>0.988119955</td></tr>\n",
              "\t<tr><th scope=row>204</th><td>47</td><td>3</td><td>16</td><td> 7</td><td>266</td><td> 2.0</td><td> 2.191840</td><td> 3.128160</td><td>0</td><td>3</td><td>0.017143877</td></tr>\n",
              "\t<tr><th scope=row>205</th><td>38</td><td>1</td><td>21</td><td>17</td><td> 65</td><td>16.8</td><td> 2.533440</td><td> 8.386560</td><td>0</td><td>1</td><td>0.023065277</td></tr>\n",
              "\t<tr><th scope=row>206</th><td>45</td><td>1</td><td> 7</td><td>17</td><td> 29</td><td> 6.1</td><td> 0.739442</td><td> 1.029558</td><td>0</td><td>1</td><td>0.055964420</td></tr>\n",
              "\t<tr><th scope=row>207</th><td>26</td><td>1</td><td> 0</td><td> 2</td><td> 15</td><td> 5.4</td><td> 0.385560</td><td> 0.424440</td><td>0</td><td>1</td><td>0.322392611</td></tr>\n",
              "\t<tr><th scope=row>208</th><td>46</td><td>1</td><td> 6</td><td>19</td><td> 30</td><td>17.6</td><td> 1.415040</td><td> 3.864960</td><td>0</td><td>1</td><td>0.258375820</td></tr>\n",
              "\t<tr><th scope=row>209</th><td>31</td><td>2</td><td>12</td><td> 8</td><td> 44</td><td> 9.6</td><td> 1.867008</td><td> 2.356992</td><td>0</td><td>2</td><td>0.076997943</td></tr>\n",
              "\t<tr><th scope=row>210</th><td>35</td><td>4</td><td>10</td><td>12</td><td> 45</td><td> 8.5</td><td> 1.040400</td><td> 2.784600</td><td>0</td><td>4</td><td>0.059018999</td></tr>\n",
              "\t<tr><th scope=row>211</th><td>51</td><td>4</td><td>15</td><td>30</td><td> 26</td><td>13.6</td><td> 2.011984</td><td> 1.524016</td><td>0</td><td>4</td><td>0.021910508</td></tr>\n",
              "\t<tr><th scope=row>212</th><td>36</td><td>1</td><td> 5</td><td> 2</td><td> 27</td><td> 7.0</td><td> 0.723870</td><td> 1.166130</td><td>0</td><td>1</td><td>0.187197853</td></tr>\n",
              "\t<tr><th scope=row>213</th><td>40</td><td>1</td><td>15</td><td>14</td><td> 55</td><td> 5.5</td><td> 0.856075</td><td> 2.168925</td><td>0</td><td>1</td><td>0.012344828</td></tr>\n",
              "</tbody>\n",
              "</table>\n"
            ],
            "text/markdown": "\nA data.frame: 213 × 11\n\n| <!--/--> | MESES &lt;dbl&gt; | TIPO_ips &lt;dbl&gt; | IGUAL_DUENO &lt;dbl&gt; | AGNOS_DIRECCION_ACTUAL &lt;dbl&gt; | VENTAS_MENS_PROMEDIO &lt;dbl&gt; | PORC_PASIVOS_VENTA_ANUAL &lt;dbl&gt; | cartera_actual_insumos_A &lt;dbl&gt; | cartera_actual_insumos_B &lt;dbl&gt; | retrasos &lt;fct&gt; | TIPOips &lt;fct&gt; | probtest &lt;dbl&gt; |\n|---|---|---|---|---|---|---|---|---|---|---|---|\n| 1 | 24 | 1 |  3 |  4 |  19 | 24.4 | 1.358348 | 3.277652 | 1 | 1 | 0.769253827 |\n| 2 | 36 | 1 |  0 | 13 |  25 | 19.7 | 2.777700 | 2.147300 | 0 | 1 | 0.801288362 |\n| 3 | 37 | 1 |  6 |  9 |  29 | 16.3 | 1.715901 | 3.011099 | 0 | 1 | 0.371398168 |\n| 4 | 43 | 1 | 23 | 19 |  72 |  7.6 | 1.181952 | 4.290048 | 0 | 1 | 0.002552703 |\n| 5 | 28 | 1 |  3 |  6 |  26 | 10.0 | 0.431600 | 2.168400 | 0 | 1 | 0.262773268 |\n| 6 | 29 | 1 |  8 |  6 |  27 |  9.8 | 0.402192 | 2.243808 | 0 | 1 | 0.106061583 |\n| 7 | 30 | 1 |  1 | 10 |  22 | 10.5 | 1.138830 | 1.171170 | 0 | 1 | 0.386458430 |\n| 8 | 32 | 2 | 12 |  1 |  54 | 14.4 | 3.195936 | 4.580064 | 0 | 2 | 0.279496129 |\n| 9 | 21 | 2 |  0 |  1 |  16 |  6.8 | 0.150144 | 0.937856 | 0 | 2 | 0.349434271 |\n| 10 | 35 | 1 | 13 | 15 |  35 |  4.5 | 0.431550 | 1.143450 | 0 | 1 | 0.013185232 |\n| 11 | 46 | 1 | 16 | 18 |  52 | 12.9 | 3.032016 | 3.675984 | 1 | 1 | 0.047896645 |\n| 12 | 35 | 1 |  9 |  1 |  34 |  5.0 | 0.397800 | 1.302200 | 0 | 1 | 0.066356246 |\n| 13 | 40 | 3 | 18 |  6 | 100 |  2.5 | 1.485000 | 1.015000 | 0 | 3 | 0.009336578 |\n| 14 | 37 | 1 |  4 |  0 |  23 | 12.4 | 0.869860 | 1.982140 | 0 | 1 | 0.392897786 |\n| 15 | 33 | 2 |  4 |  9 |  55 |  7.0 | 2.159850 | 1.690150 | 0 | 2 | 0.264514515 |\n| 16 | 39 | 1 | 19 |  8 |  46 |  9.1 | 2.515786 | 1.670214 | 0 | 1 | 0.022932795 |\n| 17 | 29 | 1 |  1 |  2 |  20 | 18.6 | 0.569160 | 3.150840 | 1 | 1 | 0.669196457 |\n| 18 | 43 | 4 |  1 |  5 |  26 | 10.6 | 1.518556 | 1.237444 | 0 | 4 | 0.497700202 |\n| 19 | 41 | 1 | 13 | 10 |  44 |  1.7 | 0.071060 | 0.676940 | 0 | 1 | 0.010670099 |\n| 20 | 47 | 1 | 13 | 25 |  51 | 23.8 | 3.738504 | 8.399496 | 0 | 1 | 0.244405206 |\n| 21 | 29 | 1 |  1 |  9 |  17 |  6.7 | 0.157182 | 0.981818 | 0 | 1 | 0.216497844 |\n| 22 | 36 | 1 | 15 | 10 |  39 |  3.2 | 0.686400 | 0.561600 | 0 | 1 | 0.010886083 |\n| 23 | 37 | 3 |  5 | 17 |  29 | 24.6 | 1.405398 | 5.728602 | 0 | 3 | 0.525744822 |\n| 24 | 23 | 2 |  0 |  1 |  17 | 27.7 | 2.043706 | 2.665294 | 1 | 2 | 0.937007253 |\n| 25 | 32 | 2 |  0 |  6 |  18 |  5.8 | 0.296496 | 0.747504 | 1 | 2 | 0.277894760 |\n| 26 | 41 | 3 |  2 |  0 |  15 | 26.3 | 1.960665 | 1.984335 | 1 | 3 | 0.893421195 |\n| 27 | 36 | 1 |  6 |  9 |  26 |  8.3 | 0.030212 | 2.127788 | 0 | 1 | 0.098604037 |\n| 28 | 40 | 1 |  8 | 17 |  28 |  3.6 | 0.534240 | 0.473760 | 0 | 1 | 0.031487109 |\n| 29 | 21 | 3 |  0 |  2 |  24 |  7.7 | 0.833448 | 1.014552 | 0 | 3 | 0.431978893 |\n| 30 | 25 | 1 |  1 |  0 |  20 |  6.7 | 0.471680 | 0.868320 | 1 | 1 | 0.342582598 |\n| ⋮ | ⋮ | ⋮ | ⋮ | ⋮ | ⋮ | ⋮ | ⋮ | ⋮ | ⋮ | ⋮ | ⋮ |\n| 184 | 39 | 1 | 19 | 16 |  53 |  3.7 |  0.190217 |  1.770783 | 0 | 1 | 0.002880510 |\n| 185 | 30 | 1 |  1 |  1 |  27 | 12.3 |  1.275264 |  2.045736 | 0 | 1 | 0.577065963 |\n| 186 | 24 | 1 |  4 |  1 |  23 |  4.9 |  0.242305 |  0.884695 | 0 | 1 | 0.159776532 |\n| 187 | 40 | 3 |  5 | 18 |  28 | 10.0 |  1.262800 |  1.537200 | 0 | 3 | 0.146507920 |\n| 188 | 48 | 2 | 21 | 14 |  86 |  1.2 |  0.145512 |  0.886488 | 0 | 2 | 0.001531202 |\n| 189 | 53 | 1 | 33 | 25 | 324 |  7.0 |  7.053480 | 15.626520 | 0 | 1 | 0.002570834 |\n| 190 | 29 | 2 |  3 |  9 |  32 |  9.0 |  1.071360 |  1.808640 | 0 | 2 | 0.260963670 |\n| 191 | 25 | 3 |  3 |  2 |  54 |  7.4 |  1.162836 |  2.833164 | 0 | 3 | 0.308884288 |\n| 192 | 27 | 1 |  6 |  2 |  52 | 13.8 |  1.901640 |  5.274360 | 0 | 1 | 0.411534489 |\n| 193 | 36 | 1 |  4 | 17 |  25 |  4.0 |  0.144000 |  0.856000 | 0 | 1 | 0.063193057 |\n| 194 | 33 | 1 | 11 |  6 |  35 | 15.9 |  0.506415 |  5.058585 | 0 | 1 | 0.119821528 |\n| 195 | 44 | 1 | 18 |  0 |  61 | 10.8 |  2.806488 |  3.781512 | 0 | 1 | 0.059132101 |\n| 196 | 37 | 2 | 11 | 11 |  47 |  9.6 |  1.597248 |  2.914752 | 0 | 2 | 0.072162651 |\n| 197 | 23 | 2 |  2 |  2 |  48 |  7.5 |  0.511200 |  3.088800 | 0 | 2 | 0.296845965 |\n| 198 | 30 | 1 |  8 | 11 |  27 | 20.3 |  3.743523 |  1.737477 | 1 | 1 | 0.572752484 |\n| 199 | 25 | 2 |  5 |  3 |  42 | 15.5 |  3.365670 |  3.144330 | 0 | 2 | 0.653860799 |\n| 200 | 38 | 2 | 12 | 14 |  40 |  5.1 |  0.897600 |  1.142400 | 0 | 2 | 0.022443941 |\n| 201 | 29 | 2 |  2 |  4 |  16 | 10.5 |  0.433440 |  1.246560 | 0 | 2 | 0.343553400 |\n| 202 | 40 | 1 | 23 | 16 |  81 | 10.9 |  0.997677 |  7.831323 | 0 | 1 | 0.004125702 |\n| 203 | 48 | 1 | 10 |  0 |  70 | 28.2 | 10.679340 |  9.060660 | 1 | 1 | 0.988119955 |\n| 204 | 47 | 3 | 16 |  7 | 266 |  2.0 |  2.191840 |  3.128160 | 0 | 3 | 0.017143877 |\n| 205 | 38 | 1 | 21 | 17 |  65 | 16.8 |  2.533440 |  8.386560 | 0 | 1 | 0.023065277 |\n| 206 | 45 | 1 |  7 | 17 |  29 |  6.1 |  0.739442 |  1.029558 | 0 | 1 | 0.055964420 |\n| 207 | 26 | 1 |  0 |  2 |  15 |  5.4 |  0.385560 |  0.424440 | 0 | 1 | 0.322392611 |\n| 208 | 46 | 1 |  6 | 19 |  30 | 17.6 |  1.415040 |  3.864960 | 0 | 1 | 0.258375820 |\n| 209 | 31 | 2 | 12 |  8 |  44 |  9.6 |  1.867008 |  2.356992 | 0 | 2 | 0.076997943 |\n| 210 | 35 | 4 | 10 | 12 |  45 |  8.5 |  1.040400 |  2.784600 | 0 | 4 | 0.059018999 |\n| 211 | 51 | 4 | 15 | 30 |  26 | 13.6 |  2.011984 |  1.524016 | 0 | 4 | 0.021910508 |\n| 212 | 36 | 1 |  5 |  2 |  27 |  7.0 |  0.723870 |  1.166130 | 0 | 1 | 0.187197853 |\n| 213 | 40 | 1 | 15 | 14 |  55 |  5.5 |  0.856075 |  2.168925 | 0 | 1 | 0.012344828 |\n\n",
            "text/latex": "A data.frame: 213 × 11\n\\begin{tabular}{r|lllllllllll}\n  & MESES & TIPO\\_ips & IGUAL\\_DUENO & AGNOS\\_DIRECCION\\_ACTUAL & VENTAS\\_MENS\\_PROMEDIO & PORC\\_PASIVOS\\_VENTA\\_ANUAL & cartera\\_actual\\_insumos\\_A & cartera\\_actual\\_insumos\\_B & retrasos & TIPOips & probtest\\\\\n  & <dbl> & <dbl> & <dbl> & <dbl> & <dbl> & <dbl> & <dbl> & <dbl> & <fct> & <fct> & <dbl>\\\\\n\\hline\n\t1 & 24 & 1 &  3 &  4 &  19 & 24.4 & 1.358348 & 3.277652 & 1 & 1 & 0.769253827\\\\\n\t2 & 36 & 1 &  0 & 13 &  25 & 19.7 & 2.777700 & 2.147300 & 0 & 1 & 0.801288362\\\\\n\t3 & 37 & 1 &  6 &  9 &  29 & 16.3 & 1.715901 & 3.011099 & 0 & 1 & 0.371398168\\\\\n\t4 & 43 & 1 & 23 & 19 &  72 &  7.6 & 1.181952 & 4.290048 & 0 & 1 & 0.002552703\\\\\n\t5 & 28 & 1 &  3 &  6 &  26 & 10.0 & 0.431600 & 2.168400 & 0 & 1 & 0.262773268\\\\\n\t6 & 29 & 1 &  8 &  6 &  27 &  9.8 & 0.402192 & 2.243808 & 0 & 1 & 0.106061583\\\\\n\t7 & 30 & 1 &  1 & 10 &  22 & 10.5 & 1.138830 & 1.171170 & 0 & 1 & 0.386458430\\\\\n\t8 & 32 & 2 & 12 &  1 &  54 & 14.4 & 3.195936 & 4.580064 & 0 & 2 & 0.279496129\\\\\n\t9 & 21 & 2 &  0 &  1 &  16 &  6.8 & 0.150144 & 0.937856 & 0 & 2 & 0.349434271\\\\\n\t10 & 35 & 1 & 13 & 15 &  35 &  4.5 & 0.431550 & 1.143450 & 0 & 1 & 0.013185232\\\\\n\t11 & 46 & 1 & 16 & 18 &  52 & 12.9 & 3.032016 & 3.675984 & 1 & 1 & 0.047896645\\\\\n\t12 & 35 & 1 &  9 &  1 &  34 &  5.0 & 0.397800 & 1.302200 & 0 & 1 & 0.066356246\\\\\n\t13 & 40 & 3 & 18 &  6 & 100 &  2.5 & 1.485000 & 1.015000 & 0 & 3 & 0.009336578\\\\\n\t14 & 37 & 1 &  4 &  0 &  23 & 12.4 & 0.869860 & 1.982140 & 0 & 1 & 0.392897786\\\\\n\t15 & 33 & 2 &  4 &  9 &  55 &  7.0 & 2.159850 & 1.690150 & 0 & 2 & 0.264514515\\\\\n\t16 & 39 & 1 & 19 &  8 &  46 &  9.1 & 2.515786 & 1.670214 & 0 & 1 & 0.022932795\\\\\n\t17 & 29 & 1 &  1 &  2 &  20 & 18.6 & 0.569160 & 3.150840 & 1 & 1 & 0.669196457\\\\\n\t18 & 43 & 4 &  1 &  5 &  26 & 10.6 & 1.518556 & 1.237444 & 0 & 4 & 0.497700202\\\\\n\t19 & 41 & 1 & 13 & 10 &  44 &  1.7 & 0.071060 & 0.676940 & 0 & 1 & 0.010670099\\\\\n\t20 & 47 & 1 & 13 & 25 &  51 & 23.8 & 3.738504 & 8.399496 & 0 & 1 & 0.244405206\\\\\n\t21 & 29 & 1 &  1 &  9 &  17 &  6.7 & 0.157182 & 0.981818 & 0 & 1 & 0.216497844\\\\\n\t22 & 36 & 1 & 15 & 10 &  39 &  3.2 & 0.686400 & 0.561600 & 0 & 1 & 0.010886083\\\\\n\t23 & 37 & 3 &  5 & 17 &  29 & 24.6 & 1.405398 & 5.728602 & 0 & 3 & 0.525744822\\\\\n\t24 & 23 & 2 &  0 &  1 &  17 & 27.7 & 2.043706 & 2.665294 & 1 & 2 & 0.937007253\\\\\n\t25 & 32 & 2 &  0 &  6 &  18 &  5.8 & 0.296496 & 0.747504 & 1 & 2 & 0.277894760\\\\\n\t26 & 41 & 3 &  2 &  0 &  15 & 26.3 & 1.960665 & 1.984335 & 1 & 3 & 0.893421195\\\\\n\t27 & 36 & 1 &  6 &  9 &  26 &  8.3 & 0.030212 & 2.127788 & 0 & 1 & 0.098604037\\\\\n\t28 & 40 & 1 &  8 & 17 &  28 &  3.6 & 0.534240 & 0.473760 & 0 & 1 & 0.031487109\\\\\n\t29 & 21 & 3 &  0 &  2 &  24 &  7.7 & 0.833448 & 1.014552 & 0 & 3 & 0.431978893\\\\\n\t30 & 25 & 1 &  1 &  0 &  20 &  6.7 & 0.471680 & 0.868320 & 1 & 1 & 0.342582598\\\\\n\t⋮ & ⋮ & ⋮ & ⋮ & ⋮ & ⋮ & ⋮ & ⋮ & ⋮ & ⋮ & ⋮ & ⋮\\\\\n\t184 & 39 & 1 & 19 & 16 &  53 &  3.7 &  0.190217 &  1.770783 & 0 & 1 & 0.002880510\\\\\n\t185 & 30 & 1 &  1 &  1 &  27 & 12.3 &  1.275264 &  2.045736 & 0 & 1 & 0.577065963\\\\\n\t186 & 24 & 1 &  4 &  1 &  23 &  4.9 &  0.242305 &  0.884695 & 0 & 1 & 0.159776532\\\\\n\t187 & 40 & 3 &  5 & 18 &  28 & 10.0 &  1.262800 &  1.537200 & 0 & 3 & 0.146507920\\\\\n\t188 & 48 & 2 & 21 & 14 &  86 &  1.2 &  0.145512 &  0.886488 & 0 & 2 & 0.001531202\\\\\n\t189 & 53 & 1 & 33 & 25 & 324 &  7.0 &  7.053480 & 15.626520 & 0 & 1 & 0.002570834\\\\\n\t190 & 29 & 2 &  3 &  9 &  32 &  9.0 &  1.071360 &  1.808640 & 0 & 2 & 0.260963670\\\\\n\t191 & 25 & 3 &  3 &  2 &  54 &  7.4 &  1.162836 &  2.833164 & 0 & 3 & 0.308884288\\\\\n\t192 & 27 & 1 &  6 &  2 &  52 & 13.8 &  1.901640 &  5.274360 & 0 & 1 & 0.411534489\\\\\n\t193 & 36 & 1 &  4 & 17 &  25 &  4.0 &  0.144000 &  0.856000 & 0 & 1 & 0.063193057\\\\\n\t194 & 33 & 1 & 11 &  6 &  35 & 15.9 &  0.506415 &  5.058585 & 0 & 1 & 0.119821528\\\\\n\t195 & 44 & 1 & 18 &  0 &  61 & 10.8 &  2.806488 &  3.781512 & 0 & 1 & 0.059132101\\\\\n\t196 & 37 & 2 & 11 & 11 &  47 &  9.6 &  1.597248 &  2.914752 & 0 & 2 & 0.072162651\\\\\n\t197 & 23 & 2 &  2 &  2 &  48 &  7.5 &  0.511200 &  3.088800 & 0 & 2 & 0.296845965\\\\\n\t198 & 30 & 1 &  8 & 11 &  27 & 20.3 &  3.743523 &  1.737477 & 1 & 1 & 0.572752484\\\\\n\t199 & 25 & 2 &  5 &  3 &  42 & 15.5 &  3.365670 &  3.144330 & 0 & 2 & 0.653860799\\\\\n\t200 & 38 & 2 & 12 & 14 &  40 &  5.1 &  0.897600 &  1.142400 & 0 & 2 & 0.022443941\\\\\n\t201 & 29 & 2 &  2 &  4 &  16 & 10.5 &  0.433440 &  1.246560 & 0 & 2 & 0.343553400\\\\\n\t202 & 40 & 1 & 23 & 16 &  81 & 10.9 &  0.997677 &  7.831323 & 0 & 1 & 0.004125702\\\\\n\t203 & 48 & 1 & 10 &  0 &  70 & 28.2 & 10.679340 &  9.060660 & 1 & 1 & 0.988119955\\\\\n\t204 & 47 & 3 & 16 &  7 & 266 &  2.0 &  2.191840 &  3.128160 & 0 & 3 & 0.017143877\\\\\n\t205 & 38 & 1 & 21 & 17 &  65 & 16.8 &  2.533440 &  8.386560 & 0 & 1 & 0.023065277\\\\\n\t206 & 45 & 1 &  7 & 17 &  29 &  6.1 &  0.739442 &  1.029558 & 0 & 1 & 0.055964420\\\\\n\t207 & 26 & 1 &  0 &  2 &  15 &  5.4 &  0.385560 &  0.424440 & 0 & 1 & 0.322392611\\\\\n\t208 & 46 & 1 &  6 & 19 &  30 & 17.6 &  1.415040 &  3.864960 & 0 & 1 & 0.258375820\\\\\n\t209 & 31 & 2 & 12 &  8 &  44 &  9.6 &  1.867008 &  2.356992 & 0 & 2 & 0.076997943\\\\\n\t210 & 35 & 4 & 10 & 12 &  45 &  8.5 &  1.040400 &  2.784600 & 0 & 4 & 0.059018999\\\\\n\t211 & 51 & 4 & 15 & 30 &  26 & 13.6 &  2.011984 &  1.524016 & 0 & 4 & 0.021910508\\\\\n\t212 & 36 & 1 &  5 &  2 &  27 &  7.0 &  0.723870 &  1.166130 & 0 & 1 & 0.187197853\\\\\n\t213 & 40 & 1 & 15 & 14 &  55 &  5.5 &  0.856075 &  2.168925 & 0 & 1 & 0.012344828\\\\\n\\end{tabular}\n",
            "text/plain": [
              "    MESES TIPO_ips IGUAL_DUENO AGNOS_DIRECCION_ACTUAL VENTAS_MENS_PROMEDIO\n",
              "1   24    1         3           4                      19                 \n",
              "2   36    1         0          13                      25                 \n",
              "3   37    1         6           9                      29                 \n",
              "4   43    1        23          19                      72                 \n",
              "5   28    1         3           6                      26                 \n",
              "6   29    1         8           6                      27                 \n",
              "7   30    1         1          10                      22                 \n",
              "8   32    2        12           1                      54                 \n",
              "9   21    2         0           1                      16                 \n",
              "10  35    1        13          15                      35                 \n",
              "11  46    1        16          18                      52                 \n",
              "12  35    1         9           1                      34                 \n",
              "13  40    3        18           6                     100                 \n",
              "14  37    1         4           0                      23                 \n",
              "15  33    2         4           9                      55                 \n",
              "16  39    1        19           8                      46                 \n",
              "17  29    1         1           2                      20                 \n",
              "18  43    4         1           5                      26                 \n",
              "19  41    1        13          10                      44                 \n",
              "20  47    1        13          25                      51                 \n",
              "21  29    1         1           9                      17                 \n",
              "22  36    1        15          10                      39                 \n",
              "23  37    3         5          17                      29                 \n",
              "24  23    2         0           1                      17                 \n",
              "25  32    2         0           6                      18                 \n",
              "26  41    3         2           0                      15                 \n",
              "27  36    1         6           9                      26                 \n",
              "28  40    1         8          17                      28                 \n",
              "29  21    3         0           2                      24                 \n",
              "30  25    1         1           0                      20                 \n",
              "⋮   ⋮     ⋮        ⋮           ⋮                      ⋮                   \n",
              "184 39    1        19          16                      53                 \n",
              "185 30    1         1           1                      27                 \n",
              "186 24    1         4           1                      23                 \n",
              "187 40    3         5          18                      28                 \n",
              "188 48    2        21          14                      86                 \n",
              "189 53    1        33          25                     324                 \n",
              "190 29    2         3           9                      32                 \n",
              "191 25    3         3           2                      54                 \n",
              "192 27    1         6           2                      52                 \n",
              "193 36    1         4          17                      25                 \n",
              "194 33    1        11           6                      35                 \n",
              "195 44    1        18           0                      61                 \n",
              "196 37    2        11          11                      47                 \n",
              "197 23    2         2           2                      48                 \n",
              "198 30    1         8          11                      27                 \n",
              "199 25    2         5           3                      42                 \n",
              "200 38    2        12          14                      40                 \n",
              "201 29    2         2           4                      16                 \n",
              "202 40    1        23          16                      81                 \n",
              "203 48    1        10           0                      70                 \n",
              "204 47    3        16           7                     266                 \n",
              "205 38    1        21          17                      65                 \n",
              "206 45    1         7          17                      29                 \n",
              "207 26    1         0           2                      15                 \n",
              "208 46    1         6          19                      30                 \n",
              "209 31    2        12           8                      44                 \n",
              "210 35    4        10          12                      45                 \n",
              "211 51    4        15          30                      26                 \n",
              "212 36    1         5           2                      27                 \n",
              "213 40    1        15          14                      55                 \n",
              "    PORC_PASIVOS_VENTA_ANUAL cartera_actual_insumos_A cartera_actual_insumos_B\n",
              "1   24.4                     1.358348                 3.277652                \n",
              "2   19.7                     2.777700                 2.147300                \n",
              "3   16.3                     1.715901                 3.011099                \n",
              "4    7.6                     1.181952                 4.290048                \n",
              "5   10.0                     0.431600                 2.168400                \n",
              "6    9.8                     0.402192                 2.243808                \n",
              "7   10.5                     1.138830                 1.171170                \n",
              "8   14.4                     3.195936                 4.580064                \n",
              "9    6.8                     0.150144                 0.937856                \n",
              "10   4.5                     0.431550                 1.143450                \n",
              "11  12.9                     3.032016                 3.675984                \n",
              "12   5.0                     0.397800                 1.302200                \n",
              "13   2.5                     1.485000                 1.015000                \n",
              "14  12.4                     0.869860                 1.982140                \n",
              "15   7.0                     2.159850                 1.690150                \n",
              "16   9.1                     2.515786                 1.670214                \n",
              "17  18.6                     0.569160                 3.150840                \n",
              "18  10.6                     1.518556                 1.237444                \n",
              "19   1.7                     0.071060                 0.676940                \n",
              "20  23.8                     3.738504                 8.399496                \n",
              "21   6.7                     0.157182                 0.981818                \n",
              "22   3.2                     0.686400                 0.561600                \n",
              "23  24.6                     1.405398                 5.728602                \n",
              "24  27.7                     2.043706                 2.665294                \n",
              "25   5.8                     0.296496                 0.747504                \n",
              "26  26.3                     1.960665                 1.984335                \n",
              "27   8.3                     0.030212                 2.127788                \n",
              "28   3.6                     0.534240                 0.473760                \n",
              "29   7.7                     0.833448                 1.014552                \n",
              "30   6.7                     0.471680                 0.868320                \n",
              "⋮   ⋮                        ⋮                        ⋮                       \n",
              "184  3.7                      0.190217                 1.770783               \n",
              "185 12.3                      1.275264                 2.045736               \n",
              "186  4.9                      0.242305                 0.884695               \n",
              "187 10.0                      1.262800                 1.537200               \n",
              "188  1.2                      0.145512                 0.886488               \n",
              "189  7.0                      7.053480                15.626520               \n",
              "190  9.0                      1.071360                 1.808640               \n",
              "191  7.4                      1.162836                 2.833164               \n",
              "192 13.8                      1.901640                 5.274360               \n",
              "193  4.0                      0.144000                 0.856000               \n",
              "194 15.9                      0.506415                 5.058585               \n",
              "195 10.8                      2.806488                 3.781512               \n",
              "196  9.6                      1.597248                 2.914752               \n",
              "197  7.5                      0.511200                 3.088800               \n",
              "198 20.3                      3.743523                 1.737477               \n",
              "199 15.5                      3.365670                 3.144330               \n",
              "200  5.1                      0.897600                 1.142400               \n",
              "201 10.5                      0.433440                 1.246560               \n",
              "202 10.9                      0.997677                 7.831323               \n",
              "203 28.2                     10.679340                 9.060660               \n",
              "204  2.0                      2.191840                 3.128160               \n",
              "205 16.8                      2.533440                 8.386560               \n",
              "206  6.1                      0.739442                 1.029558               \n",
              "207  5.4                      0.385560                 0.424440               \n",
              "208 17.6                      1.415040                 3.864960               \n",
              "209  9.6                      1.867008                 2.356992               \n",
              "210  8.5                      1.040400                 2.784600               \n",
              "211 13.6                      2.011984                 1.524016               \n",
              "212  7.0                      0.723870                 1.166130               \n",
              "213  5.5                      0.856075                 2.168925               \n",
              "    retrasos TIPOips probtest   \n",
              "1   1        1       0.769253827\n",
              "2   0        1       0.801288362\n",
              "3   0        1       0.371398168\n",
              "4   0        1       0.002552703\n",
              "5   0        1       0.262773268\n",
              "6   0        1       0.106061583\n",
              "7   0        1       0.386458430\n",
              "8   0        2       0.279496129\n",
              "9   0        2       0.349434271\n",
              "10  0        1       0.013185232\n",
              "11  1        1       0.047896645\n",
              "12  0        1       0.066356246\n",
              "13  0        3       0.009336578\n",
              "14  0        1       0.392897786\n",
              "15  0        2       0.264514515\n",
              "16  0        1       0.022932795\n",
              "17  1        1       0.669196457\n",
              "18  0        4       0.497700202\n",
              "19  0        1       0.010670099\n",
              "20  0        1       0.244405206\n",
              "21  0        1       0.216497844\n",
              "22  0        1       0.010886083\n",
              "23  0        3       0.525744822\n",
              "24  1        2       0.937007253\n",
              "25  1        2       0.277894760\n",
              "26  1        3       0.893421195\n",
              "27  0        1       0.098604037\n",
              "28  0        1       0.031487109\n",
              "29  0        3       0.431978893\n",
              "30  1        1       0.342582598\n",
              "⋮   ⋮        ⋮       ⋮          \n",
              "184 0        1       0.002880510\n",
              "185 0        1       0.577065963\n",
              "186 0        1       0.159776532\n",
              "187 0        3       0.146507920\n",
              "188 0        2       0.001531202\n",
              "189 0        1       0.002570834\n",
              "190 0        2       0.260963670\n",
              "191 0        3       0.308884288\n",
              "192 0        1       0.411534489\n",
              "193 0        1       0.063193057\n",
              "194 0        1       0.119821528\n",
              "195 0        1       0.059132101\n",
              "196 0        2       0.072162651\n",
              "197 0        2       0.296845965\n",
              "198 1        1       0.572752484\n",
              "199 0        2       0.653860799\n",
              "200 0        2       0.022443941\n",
              "201 0        2       0.343553400\n",
              "202 0        1       0.004125702\n",
              "203 1        1       0.988119955\n",
              "204 0        3       0.017143877\n",
              "205 0        1       0.023065277\n",
              "206 0        1       0.055964420\n",
              "207 0        1       0.322392611\n",
              "208 0        1       0.258375820\n",
              "209 0        2       0.076997943\n",
              "210 0        4       0.059018999\n",
              "211 0        4       0.021910508\n",
              "212 0        1       0.187197853\n",
              "213 0        1       0.012344828"
            ]
          },
          "metadata": {}
        }
      ]
    },
    {
      "cell_type": "code",
      "source": [
        "corte<-0.05\n",
        "cartllev$pronostico<-as.factor(ifelse(cartllev$probtest>corte,1,0))\n",
        "cartllev$error<-as.factor(as.numeric(cartllev$retrasos)-as.numeric(cartllev$pronostico))\n",
        "ggplot(cartllev,aes(probtest,retrasos, color=error))+geom_point()+geom_vline(xintercept=corte)"
      ],
      "metadata": {
        "id": "R_O7_MIS9lOQ",
        "colab": {
          "base_uri": "https://localhost:8080/",
          "height": 437
        },
        "outputId": "e5441d4d-16ac-44b1-a8e9-175dfce96bad"
      },
      "execution_count": null,
      "outputs": [
        {
          "output_type": "display_data",
          "data": {
            "text/plain": [
              "plot without title"
            ],
            "image/png": "[encoded data removed]"
          },
          "metadata": {
            "image/png": {
              "width": 420,
              "height": 420
            }
          }
        }
      ]
    },
    {
      "cell_type": "code",
      "source": [
        "corte<-0.5\n",
        "cartllev$pronostico<-as.factor(ifelse(cartllev$probtest>corte,1,0))\n",
        "cartllev$error<-as.factor(as.numeric(cartllev$retrasos)-as.numeric(cartllev$pronostico))\n",
        "ggplot(cartllev,aes(probtest,retrasos, color=error))+geom_point()+geom_vline(xintercept=corte)"
      ],
      "metadata": {
        "id": "-ys5dLf-9xh3",
        "colab": {
          "base_uri": "https://localhost:8080/",
          "height": 437
        },
        "outputId": "942d4c13-eaa4-49ed-af69-a88dcd03cca6"
      },
      "execution_count": null,
      "outputs": [
        {
          "output_type": "display_data",
          "data": {
            "text/plain": [
              "plot without title"
            ],
            "image/png": "[encoded data removed]"
          },
          "metadata": {
            "image/png": {
              "width": 420,
              "height": 420
            }
          }
        }
      ]
    },
    {
      "cell_type": "code",
      "source": [
        "corte<-0.8\n",
        "cartllev$pronostico<-as.factor(ifelse(cartllev$probtest>corte,1,0))\n",
        "cartllev$error<-as.factor(as.numeric(cartllev$retrasos)-as.numeric(cartllev$pronostico))\n",
        "ggplot(cartllev,aes(probtest,retrasos, color=error))+geom_point()+geom_vline(xintercept=corte)"
      ],
      "metadata": {
        "id": "gpqgwOFH92Lg",
        "colab": {
          "base_uri": "https://localhost:8080/",
          "height": 437
        },
        "outputId": "95d61ce5-dbaf-48c7-e863-3aebbdb6e5e7"
      },
      "execution_count": null,
      "outputs": [
        {
          "output_type": "display_data",
          "data": {
            "text/plain": [
              "plot without title"
            ],
            "image/png": "[encoded data removed]"
          },
          "metadata": {
            "image/png": {
              "width": 420,
              "height": 420
            }
          }
        }
      ]
    },
    {
      "cell_type": "code",
      "source": [
        "corte<-0.25\n",
        "cartllev$pronostico<-as.factor(ifelse(cartllev$probtest>corte,1,0))\n",
        "cartllev$error<-as.factor(as.numeric(cartllev$retrasos)-as.numeric(cartllev$pronostico))\n",
        "ggplot(cartllev,aes(probtest,retrasos, color=error))+geom_point()+geom_vline(xintercept=corte)"
      ],
      "metadata": {
        "id": "tGGeI1jD-Jd_",
        "colab": {
          "base_uri": "https://localhost:8080/",
          "height": 437
        },
        "outputId": "9ff7ef4f-aae9-4173-8ea8-490983ff9575"
      },
      "execution_count": null,
      "outputs": [
        {
          "output_type": "display_data",
          "data": {
            "text/plain": [
              "plot without title"
            ],
            "image/png": "[encoded data removed]"
          },
          "metadata": {
            "image/png": {
              "width": 420,
              "height": 420
            }
          }
        }
      ]
    },
    {
      "cell_type": "code",
      "source": [
        "#crear objeto de predicciones\n",
        "pr<-prediction(probtest,cartera.test$retrasos)\n",
        "#creacion del objeto de la curva\n",
        "curvaROC<-performance(pr,measure=\"tpr\",x.measure=\"fpr\")"
      ],
      "metadata": {
        "id": "HqHRCZlE_XRl"
      },
      "execution_count": null,
      "outputs": []
    },
    {
      "cell_type": "code",
      "source": [
        "#grafico de la curva\n",
        "plot(curvaROC)\n",
        "#calcular el AUC\n",
        "auc<-performance(pr,measure = \"auc\")\n",
        "auc <- auc@y.values[[1]]\n",
        "#ver el AUC\n",
        "auc"
      ],
      "metadata": {
        "id": "1jmCLgO3_X6G",
        "colab": {
          "base_uri": "https://localhost:8080/",
          "height": 454
        },
        "outputId": "f463ce09-42ae-44d1-b06b-1aa05d830e50"
      },
      "execution_count": null,
      "outputs": [
        {
          "output_type": "display_data",
          "data": {
            "text/html": [
              "0.843165059557573"
            ],
            "text/markdown": "0.843165059557573",
            "text/latex": "0.843165059557573",
            "text/plain": [
              "[1] 0.8431651"
            ]
          },
          "metadata": {}
        },
        {
          "output_type": "display_data",
          "data": {
            "text/plain": [
              "plot without title"
            ],
            "image/png": "[encoded data removed]"
          },
          "metadata": {
            "image/png": {
              "width": 420,
              "height": 420
            }
          }
        }
      ]
    },
    {
      "cell_type": "markdown",
      "source": [
        "El area bajo la curva es de 84.3%, lo cual está bien por encima del 50% de una predicción al azar.\n",
        "\n",
        "•\tLa curva ROC ranquea todos las empresas desde el que tiene la probabilidad más alta de rechazo hasta la más baja (equivale a variar el umbral desde alto hasta bajo). Comenzando en el origen, mapea todos las empresas en orden descendiente de probabilidad (desde el “mejor” hasta el “peor”). Un clasificador perfecto, con exactitud 100%, primero predeciría correctamente todos los positivos, y luego predeciría correctamente todos los negativos; es decir, la curva iría recto hasta el punto (0,1), y luego cambiaría y sería horizontal hasta el punto (1,1). Esto, por supuesto, no es posible en la práctica, y los “pasos” en la curva reflejan los errores ocasionales que el modelo comete. Un buen modelo cometería pocos errores positivos para los mejores clientes y pocos eroreres negativos para los peores.\n",
        "\n",
        "•\tEs importante observar que un modelo que simplemente adivina al azar, tendrá como curva ROC una línea de 45 grados. Tal modelo tendría la misma probabilidad de hacer una predicción correcta que una incorrecta, sin importar si el cliente tiene una alta o baja probabilidad predecida.\n",
        "\n",
        "•\tEn este caso el AUC es 84.3% el cual es un buen resultado. El AUC indica la proporción de parejas concordantes en los datos; en este caso el porcentaje de parejas concordantes es aproximadamente 84.3%. Las parejas concordantes son aquellas parejas de casos positivo y negativo en el dataset para las cuales el modelo de Regresión logística puede clasificarlos correctamente.\n",
        "\n",
        "•\tEn el dataset de prueba, tenemos 41 positivos (empresas rechazadas) y 172 negativos (empresas sin rechazo); el número total de parejas (positivos y negativos) es 41 x 172 = 7052, de los cuales 84.3% (== 5945) tienen unos parámetros del modelo de Regresión Logística que pueden clasificarlos correctamente.\n"
      ],
      "metadata": {
        "id": "uU1-JmmmLscl"
      }
    },
    {
      "cell_type": "markdown",
      "source": [
        "La curva COR muestra que para lograr un 80% de exhaustividad (tomar acciones sobre el 80% de los incumplidos), tendríamos que aceptar casi un 25% de falsos positivos (en lenguaje de negocios, tendríamos que “tocar o incomodar” al 25% de clientes que van a ser cumplidos)\n",
        "\n",
        "De hecho, esos valores exactos son 23.83% y 80.48%. La tabla completa puede obtenerse de la siguiente manera:"
      ],
      "metadata": {
        "id": "znGuF1-JRoO9"
      }
    },
    {
      "cell_type": "code",
      "source": [
        "fprs<-unlist(curvaROC@x.values)\n",
        "tprs<-unlist(curvaROC@y.values)\n",
        "tablaCOR<-as.data.frame(cbind(fprs,tprs))\n",
        "tablaCOR[70:90,]"
      ],
      "metadata": {
        "id": "TsjpXqz7_boF",
        "colab": {
          "base_uri": "https://localhost:8080/",
          "height": 757
        },
        "outputId": "9c4ae220-94db-46ed-a28e-54329303bb63"
      },
      "execution_count": null,
      "outputs": [
        {
          "output_type": "display_data",
          "data": {
            "text/html": [
              "<table class=\"dataframe\">\n",
              "<caption>A data.frame: 21 × 2</caption>\n",
              "<thead>\n",
              "\t<tr><th></th><th scope=col>fprs</th><th scope=col>tprs</th></tr>\n",
              "\t<tr><th></th><th scope=col>&lt;dbl&gt;</th><th scope=col>&lt;dbl&gt;</th></tr>\n",
              "</thead>\n",
              "<tbody>\n",
              "\t<tr><th scope=row>70</th><td>0.2267442</td><td>0.7317073</td></tr>\n",
              "\t<tr><th scope=row>71</th><td>0.2325581</td><td>0.7317073</td></tr>\n",
              "\t<tr><th scope=row>72</th><td>0.2325581</td><td>0.7560976</td></tr>\n",
              "\t<tr><th scope=row>73</th><td>0.2325581</td><td>0.7804878</td></tr>\n",
              "\t<tr><th scope=row>74</th><td>0.2325581</td><td>0.8048780</td></tr>\n",
              "\t<tr><th scope=row>75</th><td>0.2383721</td><td>0.8048780</td></tr>\n",
              "\t<tr><th scope=row>76</th><td>0.2441860</td><td>0.8048780</td></tr>\n",
              "\t<tr><th scope=row>77</th><td>0.2500000</td><td>0.8048780</td></tr>\n",
              "\t<tr><th scope=row>78</th><td>0.2558140</td><td>0.8048780</td></tr>\n",
              "\t<tr><th scope=row>79</th><td>0.2616279</td><td>0.8048780</td></tr>\n",
              "\t<tr><th scope=row>80</th><td>0.2616279</td><td>0.8292683</td></tr>\n",
              "\t<tr><th scope=row>81</th><td>0.2674419</td><td>0.8292683</td></tr>\n",
              "\t<tr><th scope=row>82</th><td>0.2732558</td><td>0.8292683</td></tr>\n",
              "\t<tr><th scope=row>83</th><td>0.2790698</td><td>0.8292683</td></tr>\n",
              "\t<tr><th scope=row>84</th><td>0.2848837</td><td>0.8292683</td></tr>\n",
              "\t<tr><th scope=row>85</th><td>0.2906977</td><td>0.8292683</td></tr>\n",
              "\t<tr><th scope=row>86</th><td>0.2965116</td><td>0.8292683</td></tr>\n",
              "\t<tr><th scope=row>87</th><td>0.3023256</td><td>0.8292683</td></tr>\n",
              "\t<tr><th scope=row>88</th><td>0.3081395</td><td>0.8292683</td></tr>\n",
              "\t<tr><th scope=row>89</th><td>0.3139535</td><td>0.8292683</td></tr>\n",
              "\t<tr><th scope=row>90</th><td>0.3197674</td><td>0.8292683</td></tr>\n",
              "</tbody>\n",
              "</table>\n"
            ],
            "text/markdown": "\nA data.frame: 21 × 2\n\n| <!--/--> | fprs &lt;dbl&gt; | tprs &lt;dbl&gt; |\n|---|---|---|\n| 70 | 0.2267442 | 0.7317073 |\n| 71 | 0.2325581 | 0.7317073 |\n| 72 | 0.2325581 | 0.7560976 |\n| 73 | 0.2325581 | 0.7804878 |\n| 74 | 0.2325581 | 0.8048780 |\n| 75 | 0.2383721 | 0.8048780 |\n| 76 | 0.2441860 | 0.8048780 |\n| 77 | 0.2500000 | 0.8048780 |\n| 78 | 0.2558140 | 0.8048780 |\n| 79 | 0.2616279 | 0.8048780 |\n| 80 | 0.2616279 | 0.8292683 |\n| 81 | 0.2674419 | 0.8292683 |\n| 82 | 0.2732558 | 0.8292683 |\n| 83 | 0.2790698 | 0.8292683 |\n| 84 | 0.2848837 | 0.8292683 |\n| 85 | 0.2906977 | 0.8292683 |\n| 86 | 0.2965116 | 0.8292683 |\n| 87 | 0.3023256 | 0.8292683 |\n| 88 | 0.3081395 | 0.8292683 |\n| 89 | 0.3139535 | 0.8292683 |\n| 90 | 0.3197674 | 0.8292683 |\n\n",
            "text/latex": "A data.frame: 21 × 2\n\\begin{tabular}{r|ll}\n  & fprs & tprs\\\\\n  & <dbl> & <dbl>\\\\\n\\hline\n\t70 & 0.2267442 & 0.7317073\\\\\n\t71 & 0.2325581 & 0.7317073\\\\\n\t72 & 0.2325581 & 0.7560976\\\\\n\t73 & 0.2325581 & 0.7804878\\\\\n\t74 & 0.2325581 & 0.8048780\\\\\n\t75 & 0.2383721 & 0.8048780\\\\\n\t76 & 0.2441860 & 0.8048780\\\\\n\t77 & 0.2500000 & 0.8048780\\\\\n\t78 & 0.2558140 & 0.8048780\\\\\n\t79 & 0.2616279 & 0.8048780\\\\\n\t80 & 0.2616279 & 0.8292683\\\\\n\t81 & 0.2674419 & 0.8292683\\\\\n\t82 & 0.2732558 & 0.8292683\\\\\n\t83 & 0.2790698 & 0.8292683\\\\\n\t84 & 0.2848837 & 0.8292683\\\\\n\t85 & 0.2906977 & 0.8292683\\\\\n\t86 & 0.2965116 & 0.8292683\\\\\n\t87 & 0.3023256 & 0.8292683\\\\\n\t88 & 0.3081395 & 0.8292683\\\\\n\t89 & 0.3139535 & 0.8292683\\\\\n\t90 & 0.3197674 & 0.8292683\\\\\n\\end{tabular}\n",
            "text/plain": [
              "   fprs      tprs     \n",
              "70 0.2267442 0.7317073\n",
              "71 0.2325581 0.7317073\n",
              "72 0.2325581 0.7560976\n",
              "73 0.2325581 0.7804878\n",
              "74 0.2325581 0.8048780\n",
              "75 0.2383721 0.8048780\n",
              "76 0.2441860 0.8048780\n",
              "77 0.2500000 0.8048780\n",
              "78 0.2558140 0.8048780\n",
              "79 0.2616279 0.8048780\n",
              "80 0.2616279 0.8292683\n",
              "81 0.2674419 0.8292683\n",
              "82 0.2732558 0.8292683\n",
              "83 0.2790698 0.8292683\n",
              "84 0.2848837 0.8292683\n",
              "85 0.2906977 0.8292683\n",
              "86 0.2965116 0.8292683\n",
              "87 0.3023256 0.8292683\n",
              "88 0.3081395 0.8292683\n",
              "89 0.3139535 0.8292683\n",
              "90 0.3197674 0.8292683"
            ]
          },
          "metadata": {}
        }
      ]
    },
    {
      "cell_type": "markdown",
      "source": [
        "## Evaluación financiera"
      ],
      "metadata": {
        "id": "PYb05MgsMeAW"
      }
    },
    {
      "cell_type": "markdown",
      "source": [
        "Los valores de capacidad predictiva (y de error) deben ser vistos a la luz del negocio. Eso significa, usualmente, traducirlos en términos de costo/beneficio.\n",
        "\n",
        "Ahi suele ser clave trabajar para maximizar la ganancia.\n",
        "\n",
        "Para ello es importante definir los beneficios que nos trae un acierto y las pérdidas que nos genera un error.\n",
        "\n",
        "Supongamos que un acierto nos permite ganancias (a 1 año) de 500 (mil pesos) y en cambio un fracaso nos hace perder un primer negocio de aproximadamente 100 (mil pesos). Vamos a suponer que el porcentaje de éxitos posibles es similar al de la base de datos completa.\n",
        "\n",
        "Podemos crear una base de precisiones y exhaustividades que, basadas en la ecuación vista en clase, nos permitan calcular ganancias para diferentes puntos de corte:"
      ],
      "metadata": {
        "id": "qNB-hJ9jMgZI"
      }
    },
    {
      "cell_type": "code",
      "source": [
        "#guardar las exhaustividades y puntos de corte\n",
        "tablafinan<-performance(pr,measure=\"rec\")\n",
        "cutoffs<-unlist(tablafinan@x.values)\n",
        "recalls<-unlist(tablafinan@y.values)"
      ],
      "metadata": {
        "id": "FL6ofxqdBbhJ"
      },
      "execution_count": null,
      "outputs": []
    },
    {
      "cell_type": "code",
      "source": [
        "#guardar las precisiones\n",
        "tablafina2<-performance(pr,measure=\"prec\")\n",
        "precisions<-unlist(tablafina2@y.values)"
      ],
      "metadata": {
        "id": "1lF_qDuPBmLh"
      },
      "execution_count": null,
      "outputs": []
    },
    {
      "cell_type": "code",
      "source": [
        "#guardar f scores\n",
        "tablafina3<-performance(pr,measure=\"f\")\n",
        "fscores<-unlist(tablafina3@y.values)"
      ],
      "metadata": {
        "id": "-yP9GGaEBmz4"
      },
      "execution_count": null,
      "outputs": []
    },
    {
      "cell_type": "code",
      "source": [
        "#crear la tabla conjunta\n",
        "tablacruce<-as.data.frame(cbind(cutoffs,precisions,recalls,fscores))\n",
        "tablacruce"
      ],
      "metadata": {
        "id": "K1YL39gVBo5x",
        "colab": {
          "base_uri": "https://localhost:8080/",
          "height": 1000
        },
        "outputId": "d5976811-547d-440c-a278-62d121e18d43"
      },
      "execution_count": null,
      "outputs": [
        {
          "output_type": "display_data",
          "data": {
            "text/html": [
              "<table class=\"dataframe\">\n",
              "<caption>A data.frame: 214 × 4</caption>\n",
              "<thead>\n",
              "\t<tr><th></th><th scope=col>cutoffs</th><th scope=col>precisions</th><th scope=col>recalls</th><th scope=col>fscores</th></tr>\n",
              "\t<tr><th></th><th scope=col>&lt;dbl&gt;</th><th scope=col>&lt;dbl&gt;</th><th scope=col>&lt;dbl&gt;</th><th scope=col>&lt;dbl&gt;</th></tr>\n",
              "</thead>\n",
              "<tbody>\n",
              "\t<tr><th scope=row></th><td>      Inf</td><td>      NaN</td><td>0.00000000</td><td>       NaN</td></tr>\n",
              "\t<tr><th scope=row>96</th><td>0.9986011</td><td>1.0000000</td><td>0.02439024</td><td>0.04761905</td></tr>\n",
              "\t<tr><th scope=row>203</th><td>0.9881200</td><td>1.0000000</td><td>0.04878049</td><td>0.09302326</td></tr>\n",
              "\t<tr><th scope=row>88</th><td>0.9410898</td><td>1.0000000</td><td>0.07317073</td><td>0.13636364</td></tr>\n",
              "\t<tr><th scope=row>24</th><td>0.9370073</td><td>1.0000000</td><td>0.09756098</td><td>0.17777778</td></tr>\n",
              "\t<tr><th scope=row>120</th><td>0.9337317</td><td>1.0000000</td><td>0.12195122</td><td>0.21739130</td></tr>\n",
              "\t<tr><th scope=row>26</th><td>0.8934212</td><td>1.0000000</td><td>0.14634146</td><td>0.25531915</td></tr>\n",
              "\t<tr><th scope=row>156</th><td>0.8906942</td><td>1.0000000</td><td>0.17073171</td><td>0.29166667</td></tr>\n",
              "\t<tr><th scope=row>177</th><td>0.8539614</td><td>1.0000000</td><td>0.19512195</td><td>0.32653061</td></tr>\n",
              "\t<tr><th scope=row>144</th><td>0.8279627</td><td>1.0000000</td><td>0.21951220</td><td>0.36000000</td></tr>\n",
              "\t<tr><th scope=row>107</th><td>0.8175949</td><td>1.0000000</td><td>0.24390244</td><td>0.39215686</td></tr>\n",
              "\t<tr><th scope=row>2</th><td>0.8012884</td><td>0.9090909</td><td>0.24390244</td><td>0.38461538</td></tr>\n",
              "\t<tr><th scope=row>1</th><td>0.7692538</td><td>0.9166667</td><td>0.26829268</td><td>0.41509434</td></tr>\n",
              "\t<tr><th scope=row>51</th><td>0.7607376</td><td>0.9230769</td><td>0.29268293</td><td>0.44444444</td></tr>\n",
              "\t<tr><th scope=row>119</th><td>0.7506602</td><td>0.8571429</td><td>0.29268293</td><td>0.43636364</td></tr>\n",
              "\t<tr><th scope=row>79</th><td>0.7178888</td><td>0.8000000</td><td>0.29268293</td><td>0.42857143</td></tr>\n",
              "\t<tr><th scope=row>59</th><td>0.7139865</td><td>0.8125000</td><td>0.31707317</td><td>0.45614035</td></tr>\n",
              "\t<tr><th scope=row>109</th><td>0.7089428</td><td>0.8235294</td><td>0.34146341</td><td>0.48275862</td></tr>\n",
              "\t<tr><th scope=row>147</th><td>0.6949319</td><td>0.8333333</td><td>0.36585366</td><td>0.50847458</td></tr>\n",
              "\t<tr><th scope=row>91</th><td>0.6795441</td><td>0.7894737</td><td>0.36585366</td><td>0.50000000</td></tr>\n",
              "\t<tr><th scope=row>17</th><td>0.6691965</td><td>0.8000000</td><td>0.39024390</td><td>0.52459016</td></tr>\n",
              "\t<tr><th scope=row>199</th><td>0.6538608</td><td>0.7619048</td><td>0.39024390</td><td>0.51612903</td></tr>\n",
              "\t<tr><th scope=row>106</th><td>0.5894525</td><td>0.7727273</td><td>0.41463415</td><td>0.53968254</td></tr>\n",
              "\t<tr><th scope=row>160</th><td>0.5849158</td><td>0.7391304</td><td>0.41463415</td><td>0.53125000</td></tr>\n",
              "\t<tr><th scope=row>185</th><td>0.5770660</td><td>0.7083333</td><td>0.41463415</td><td>0.52307692</td></tr>\n",
              "\t<tr><th scope=row>198</th><td>0.5727525</td><td>0.7200000</td><td>0.43902439</td><td>0.54545455</td></tr>\n",
              "\t<tr><th scope=row>118</th><td>0.5378757</td><td>0.7307692</td><td>0.46341463</td><td>0.56716418</td></tr>\n",
              "\t<tr><th scope=row>126</th><td>0.5364981</td><td>0.7407407</td><td>0.48780488</td><td>0.58823529</td></tr>\n",
              "\t<tr><th scope=row>23</th><td>0.5257448</td><td>0.7142857</td><td>0.48780488</td><td>0.57971014</td></tr>\n",
              "\t<tr><th scope=row>154</th><td>0.5242824</td><td>0.7241379</td><td>0.51219512</td><td>0.60000000</td></tr>\n",
              "\t<tr><th scope=row>⋮</th><td>⋮</td><td>⋮</td><td>⋮</td><td>⋮</td></tr>\n",
              "\t<tr><th scope=row>204</th><td>0.017143877</td><td>0.2228261</td><td>1</td><td>0.3644444</td></tr>\n",
              "\t<tr><th scope=row>101</th><td>0.016986825</td><td>0.2216216</td><td>1</td><td>0.3628319</td></tr>\n",
              "\t<tr><th scope=row>90</th><td>0.014937582</td><td>0.2204301</td><td>1</td><td>0.3612335</td></tr>\n",
              "\t<tr><th scope=row>146</th><td>0.013680779</td><td>0.2192513</td><td>1</td><td>0.3596491</td></tr>\n",
              "\t<tr><th scope=row>68</th><td>0.013395994</td><td>0.2180851</td><td>1</td><td>0.3580786</td></tr>\n",
              "\t<tr><th scope=row>10</th><td>0.013185232</td><td>0.2169312</td><td>1</td><td>0.3565217</td></tr>\n",
              "\t<tr><th scope=row>139</th><td>0.012420252</td><td>0.2157895</td><td>1</td><td>0.3549784</td></tr>\n",
              "\t<tr><th scope=row>213</th><td>0.012344828</td><td>0.2146597</td><td>1</td><td>0.3534483</td></tr>\n",
              "\t<tr><th scope=row>22</th><td>0.010886083</td><td>0.2135417</td><td>1</td><td>0.3519313</td></tr>\n",
              "\t<tr><th scope=row>168</th><td>0.010751029</td><td>0.2124352</td><td>1</td><td>0.3504274</td></tr>\n",
              "\t<tr><th scope=row>19</th><td>0.010670099</td><td>0.2113402</td><td>1</td><td>0.3489362</td></tr>\n",
              "\t<tr><th scope=row>13</th><td>0.009336578</td><td>0.2102564</td><td>1</td><td>0.3474576</td></tr>\n",
              "\t<tr><th scope=row>137</th><td>0.009118407</td><td>0.2091837</td><td>1</td><td>0.3459916</td></tr>\n",
              "\t<tr><th scope=row>174</th><td>0.007519496</td><td>0.2081218</td><td>1</td><td>0.3445378</td></tr>\n",
              "\t<tr><th scope=row>111</th><td>0.005947060</td><td>0.2070707</td><td>1</td><td>0.3430962</td></tr>\n",
              "\t<tr><th scope=row>171</th><td>0.005827237</td><td>0.2060302</td><td>1</td><td>0.3416667</td></tr>\n",
              "\t<tr><th scope=row>76</th><td>0.005516885</td><td>0.2050000</td><td>1</td><td>0.3402490</td></tr>\n",
              "\t<tr><th scope=row>149</th><td>0.004740728</td><td>0.2039801</td><td>1</td><td>0.3388430</td></tr>\n",
              "\t<tr><th scope=row>165</th><td>0.004176171</td><td>0.2029703</td><td>1</td><td>0.3374486</td></tr>\n",
              "\t<tr><th scope=row>202</th><td>0.004125702</td><td>0.2019704</td><td>1</td><td>0.3360656</td></tr>\n",
              "\t<tr><th scope=row>71</th><td>0.003970380</td><td>0.2009804</td><td>1</td><td>0.3346939</td></tr>\n",
              "\t<tr><th scope=row>83</th><td>0.003373268</td><td>0.2000000</td><td>1</td><td>0.3333333</td></tr>\n",
              "\t<tr><th scope=row>184</th><td>0.002880510</td><td>0.1990291</td><td>1</td><td>0.3319838</td></tr>\n",
              "\t<tr><th scope=row>105</th><td>0.002769371</td><td>0.1980676</td><td>1</td><td>0.3306452</td></tr>\n",
              "\t<tr><th scope=row>189</th><td>0.002570834</td><td>0.1971154</td><td>1</td><td>0.3293173</td></tr>\n",
              "\t<tr><th scope=row>4</th><td>0.002552703</td><td>0.1961722</td><td>1</td><td>0.3280000</td></tr>\n",
              "\t<tr><th scope=row>135</th><td>0.002393693</td><td>0.1952381</td><td>1</td><td>0.3266932</td></tr>\n",
              "\t<tr><th scope=row>181</th><td>0.002157793</td><td>0.1943128</td><td>1</td><td>0.3253968</td></tr>\n",
              "\t<tr><th scope=row>143</th><td>0.002056638</td><td>0.1933962</td><td>1</td><td>0.3241107</td></tr>\n",
              "\t<tr><th scope=row>188</th><td>0.001531202</td><td>0.1924883</td><td>1</td><td>0.3228346</td></tr>\n",
              "</tbody>\n",
              "</table>\n"
            ],
            "text/markdown": "\nA data.frame: 214 × 4\n\n| <!--/--> | cutoffs &lt;dbl&gt; | precisions &lt;dbl&gt; | recalls &lt;dbl&gt; | fscores &lt;dbl&gt; |\n|---|---|---|---|---|\n| <!----> |       Inf |       NaN | 0.00000000 |        NaN |\n| 96 | 0.9986011 | 1.0000000 | 0.02439024 | 0.04761905 |\n| 203 | 0.9881200 | 1.0000000 | 0.04878049 | 0.09302326 |\n| 88 | 0.9410898 | 1.0000000 | 0.07317073 | 0.13636364 |\n| 24 | 0.9370073 | 1.0000000 | 0.09756098 | 0.17777778 |\n| 120 | 0.9337317 | 1.0000000 | 0.12195122 | 0.21739130 |\n| 26 | 0.8934212 | 1.0000000 | 0.14634146 | 0.25531915 |\n| 156 | 0.8906942 | 1.0000000 | 0.17073171 | 0.29166667 |\n| 177 | 0.8539614 | 1.0000000 | 0.19512195 | 0.32653061 |\n| 144 | 0.8279627 | 1.0000000 | 0.21951220 | 0.36000000 |\n| 107 | 0.8175949 | 1.0000000 | 0.24390244 | 0.39215686 |\n| 2 | 0.8012884 | 0.9090909 | 0.24390244 | 0.38461538 |\n| 1 | 0.7692538 | 0.9166667 | 0.26829268 | 0.41509434 |\n| 51 | 0.7607376 | 0.9230769 | 0.29268293 | 0.44444444 |\n| 119 | 0.7506602 | 0.8571429 | 0.29268293 | 0.43636364 |\n| 79 | 0.7178888 | 0.8000000 | 0.29268293 | 0.42857143 |\n| 59 | 0.7139865 | 0.8125000 | 0.31707317 | 0.45614035 |\n| 109 | 0.7089428 | 0.8235294 | 0.34146341 | 0.48275862 |\n| 147 | 0.6949319 | 0.8333333 | 0.36585366 | 0.50847458 |\n| 91 | 0.6795441 | 0.7894737 | 0.36585366 | 0.50000000 |\n| 17 | 0.6691965 | 0.8000000 | 0.39024390 | 0.52459016 |\n| 199 | 0.6538608 | 0.7619048 | 0.39024390 | 0.51612903 |\n| 106 | 0.5894525 | 0.7727273 | 0.41463415 | 0.53968254 |\n| 160 | 0.5849158 | 0.7391304 | 0.41463415 | 0.53125000 |\n| 185 | 0.5770660 | 0.7083333 | 0.41463415 | 0.52307692 |\n| 198 | 0.5727525 | 0.7200000 | 0.43902439 | 0.54545455 |\n| 118 | 0.5378757 | 0.7307692 | 0.46341463 | 0.56716418 |\n| 126 | 0.5364981 | 0.7407407 | 0.48780488 | 0.58823529 |\n| 23 | 0.5257448 | 0.7142857 | 0.48780488 | 0.57971014 |\n| 154 | 0.5242824 | 0.7241379 | 0.51219512 | 0.60000000 |\n| ⋮ | ⋮ | ⋮ | ⋮ | ⋮ |\n| 204 | 0.017143877 | 0.2228261 | 1 | 0.3644444 |\n| 101 | 0.016986825 | 0.2216216 | 1 | 0.3628319 |\n| 90 | 0.014937582 | 0.2204301 | 1 | 0.3612335 |\n| 146 | 0.013680779 | 0.2192513 | 1 | 0.3596491 |\n| 68 | 0.013395994 | 0.2180851 | 1 | 0.3580786 |\n| 10 | 0.013185232 | 0.2169312 | 1 | 0.3565217 |\n| 139 | 0.012420252 | 0.2157895 | 1 | 0.3549784 |\n| 213 | 0.012344828 | 0.2146597 | 1 | 0.3534483 |\n| 22 | 0.010886083 | 0.2135417 | 1 | 0.3519313 |\n| 168 | 0.010751029 | 0.2124352 | 1 | 0.3504274 |\n| 19 | 0.010670099 | 0.2113402 | 1 | 0.3489362 |\n| 13 | 0.009336578 | 0.2102564 | 1 | 0.3474576 |\n| 137 | 0.009118407 | 0.2091837 | 1 | 0.3459916 |\n| 174 | 0.007519496 | 0.2081218 | 1 | 0.3445378 |\n| 111 | 0.005947060 | 0.2070707 | 1 | 0.3430962 |\n| 171 | 0.005827237 | 0.2060302 | 1 | 0.3416667 |\n| 76 | 0.005516885 | 0.2050000 | 1 | 0.3402490 |\n| 149 | 0.004740728 | 0.2039801 | 1 | 0.3388430 |\n| 165 | 0.004176171 | 0.2029703 | 1 | 0.3374486 |\n| 202 | 0.004125702 | 0.2019704 | 1 | 0.3360656 |\n| 71 | 0.003970380 | 0.2009804 | 1 | 0.3346939 |\n| 83 | 0.003373268 | 0.2000000 | 1 | 0.3333333 |\n| 184 | 0.002880510 | 0.1990291 | 1 | 0.3319838 |\n| 105 | 0.002769371 | 0.1980676 | 1 | 0.3306452 |\n| 189 | 0.002570834 | 0.1971154 | 1 | 0.3293173 |\n| 4 | 0.002552703 | 0.1961722 | 1 | 0.3280000 |\n| 135 | 0.002393693 | 0.1952381 | 1 | 0.3266932 |\n| 181 | 0.002157793 | 0.1943128 | 1 | 0.3253968 |\n| 143 | 0.002056638 | 0.1933962 | 1 | 0.3241107 |\n| 188 | 0.001531202 | 0.1924883 | 1 | 0.3228346 |\n\n",
            "text/latex": "A data.frame: 214 × 4\n\\begin{tabular}{r|llll}\n  & cutoffs & precisions & recalls & fscores\\\\\n  & <dbl> & <dbl> & <dbl> & <dbl>\\\\\n\\hline\n\t &       Inf &       NaN & 0.00000000 &        NaN\\\\\n\t96 & 0.9986011 & 1.0000000 & 0.02439024 & 0.04761905\\\\\n\t203 & 0.9881200 & 1.0000000 & 0.04878049 & 0.09302326\\\\\n\t88 & 0.9410898 & 1.0000000 & 0.07317073 & 0.13636364\\\\\n\t24 & 0.9370073 & 1.0000000 & 0.09756098 & 0.17777778\\\\\n\t120 & 0.9337317 & 1.0000000 & 0.12195122 & 0.21739130\\\\\n\t26 & 0.8934212 & 1.0000000 & 0.14634146 & 0.25531915\\\\\n\t156 & 0.8906942 & 1.0000000 & 0.17073171 & 0.29166667\\\\\n\t177 & 0.8539614 & 1.0000000 & 0.19512195 & 0.32653061\\\\\n\t144 & 0.8279627 & 1.0000000 & 0.21951220 & 0.36000000\\\\\n\t107 & 0.8175949 & 1.0000000 & 0.24390244 & 0.39215686\\\\\n\t2 & 0.8012884 & 0.9090909 & 0.24390244 & 0.38461538\\\\\n\t1 & 0.7692538 & 0.9166667 & 0.26829268 & 0.41509434\\\\\n\t51 & 0.7607376 & 0.9230769 & 0.29268293 & 0.44444444\\\\\n\t119 & 0.7506602 & 0.8571429 & 0.29268293 & 0.43636364\\\\\n\t79 & 0.7178888 & 0.8000000 & 0.29268293 & 0.42857143\\\\\n\t59 & 0.7139865 & 0.8125000 & 0.31707317 & 0.45614035\\\\\n\t109 & 0.7089428 & 0.8235294 & 0.34146341 & 0.48275862\\\\\n\t147 & 0.6949319 & 0.8333333 & 0.36585366 & 0.50847458\\\\\n\t91 & 0.6795441 & 0.7894737 & 0.36585366 & 0.50000000\\\\\n\t17 & 0.6691965 & 0.8000000 & 0.39024390 & 0.52459016\\\\\n\t199 & 0.6538608 & 0.7619048 & 0.39024390 & 0.51612903\\\\\n\t106 & 0.5894525 & 0.7727273 & 0.41463415 & 0.53968254\\\\\n\t160 & 0.5849158 & 0.7391304 & 0.41463415 & 0.53125000\\\\\n\t185 & 0.5770660 & 0.7083333 & 0.41463415 & 0.52307692\\\\\n\t198 & 0.5727525 & 0.7200000 & 0.43902439 & 0.54545455\\\\\n\t118 & 0.5378757 & 0.7307692 & 0.46341463 & 0.56716418\\\\\n\t126 & 0.5364981 & 0.7407407 & 0.48780488 & 0.58823529\\\\\n\t23 & 0.5257448 & 0.7142857 & 0.48780488 & 0.57971014\\\\\n\t154 & 0.5242824 & 0.7241379 & 0.51219512 & 0.60000000\\\\\n\t⋮ & ⋮ & ⋮ & ⋮ & ⋮\\\\\n\t204 & 0.017143877 & 0.2228261 & 1 & 0.3644444\\\\\n\t101 & 0.016986825 & 0.2216216 & 1 & 0.3628319\\\\\n\t90 & 0.014937582 & 0.2204301 & 1 & 0.3612335\\\\\n\t146 & 0.013680779 & 0.2192513 & 1 & 0.3596491\\\\\n\t68 & 0.013395994 & 0.2180851 & 1 & 0.3580786\\\\\n\t10 & 0.013185232 & 0.2169312 & 1 & 0.3565217\\\\\n\t139 & 0.012420252 & 0.2157895 & 1 & 0.3549784\\\\\n\t213 & 0.012344828 & 0.2146597 & 1 & 0.3534483\\\\\n\t22 & 0.010886083 & 0.2135417 & 1 & 0.3519313\\\\\n\t168 & 0.010751029 & 0.2124352 & 1 & 0.3504274\\\\\n\t19 & 0.010670099 & 0.2113402 & 1 & 0.3489362\\\\\n\t13 & 0.009336578 & 0.2102564 & 1 & 0.3474576\\\\\n\t137 & 0.009118407 & 0.2091837 & 1 & 0.3459916\\\\\n\t174 & 0.007519496 & 0.2081218 & 1 & 0.3445378\\\\\n\t111 & 0.005947060 & 0.2070707 & 1 & 0.3430962\\\\\n\t171 & 0.005827237 & 0.2060302 & 1 & 0.3416667\\\\\n\t76 & 0.005516885 & 0.2050000 & 1 & 0.3402490\\\\\n\t149 & 0.004740728 & 0.2039801 & 1 & 0.3388430\\\\\n\t165 & 0.004176171 & 0.2029703 & 1 & 0.3374486\\\\\n\t202 & 0.004125702 & 0.2019704 & 1 & 0.3360656\\\\\n\t71 & 0.003970380 & 0.2009804 & 1 & 0.3346939\\\\\n\t83 & 0.003373268 & 0.2000000 & 1 & 0.3333333\\\\\n\t184 & 0.002880510 & 0.1990291 & 1 & 0.3319838\\\\\n\t105 & 0.002769371 & 0.1980676 & 1 & 0.3306452\\\\\n\t189 & 0.002570834 & 0.1971154 & 1 & 0.3293173\\\\\n\t4 & 0.002552703 & 0.1961722 & 1 & 0.3280000\\\\\n\t135 & 0.002393693 & 0.1952381 & 1 & 0.3266932\\\\\n\t181 & 0.002157793 & 0.1943128 & 1 & 0.3253968\\\\\n\t143 & 0.002056638 & 0.1933962 & 1 & 0.3241107\\\\\n\t188 & 0.001531202 & 0.1924883 & 1 & 0.3228346\\\\\n\\end{tabular}\n",
            "text/plain": [
              "    cutoffs     precisions recalls    fscores   \n",
              "          Inf         NaN  0.00000000        NaN\n",
              "96  0.9986011   1.0000000  0.02439024 0.04761905\n",
              "203 0.9881200   1.0000000  0.04878049 0.09302326\n",
              "88  0.9410898   1.0000000  0.07317073 0.13636364\n",
              "24  0.9370073   1.0000000  0.09756098 0.17777778\n",
              "120 0.9337317   1.0000000  0.12195122 0.21739130\n",
              "26  0.8934212   1.0000000  0.14634146 0.25531915\n",
              "156 0.8906942   1.0000000  0.17073171 0.29166667\n",
              "177 0.8539614   1.0000000  0.19512195 0.32653061\n",
              "144 0.8279627   1.0000000  0.21951220 0.36000000\n",
              "107 0.8175949   1.0000000  0.24390244 0.39215686\n",
              "2   0.8012884   0.9090909  0.24390244 0.38461538\n",
              "1   0.7692538   0.9166667  0.26829268 0.41509434\n",
              "51  0.7607376   0.9230769  0.29268293 0.44444444\n",
              "119 0.7506602   0.8571429  0.29268293 0.43636364\n",
              "79  0.7178888   0.8000000  0.29268293 0.42857143\n",
              "59  0.7139865   0.8125000  0.31707317 0.45614035\n",
              "109 0.7089428   0.8235294  0.34146341 0.48275862\n",
              "147 0.6949319   0.8333333  0.36585366 0.50847458\n",
              "91  0.6795441   0.7894737  0.36585366 0.50000000\n",
              "17  0.6691965   0.8000000  0.39024390 0.52459016\n",
              "199 0.6538608   0.7619048  0.39024390 0.51612903\n",
              "106 0.5894525   0.7727273  0.41463415 0.53968254\n",
              "160 0.5849158   0.7391304  0.41463415 0.53125000\n",
              "185 0.5770660   0.7083333  0.41463415 0.52307692\n",
              "198 0.5727525   0.7200000  0.43902439 0.54545455\n",
              "118 0.5378757   0.7307692  0.46341463 0.56716418\n",
              "126 0.5364981   0.7407407  0.48780488 0.58823529\n",
              "23  0.5257448   0.7142857  0.48780488 0.57971014\n",
              "154 0.5242824   0.7241379  0.51219512 0.60000000\n",
              "⋮   ⋮           ⋮          ⋮          ⋮         \n",
              "204 0.017143877 0.2228261  1          0.3644444 \n",
              "101 0.016986825 0.2216216  1          0.3628319 \n",
              "90  0.014937582 0.2204301  1          0.3612335 \n",
              "146 0.013680779 0.2192513  1          0.3596491 \n",
              "68  0.013395994 0.2180851  1          0.3580786 \n",
              "10  0.013185232 0.2169312  1          0.3565217 \n",
              "139 0.012420252 0.2157895  1          0.3549784 \n",
              "213 0.012344828 0.2146597  1          0.3534483 \n",
              "22  0.010886083 0.2135417  1          0.3519313 \n",
              "168 0.010751029 0.2124352  1          0.3504274 \n",
              "19  0.010670099 0.2113402  1          0.3489362 \n",
              "13  0.009336578 0.2102564  1          0.3474576 \n",
              "137 0.009118407 0.2091837  1          0.3459916 \n",
              "174 0.007519496 0.2081218  1          0.3445378 \n",
              "111 0.005947060 0.2070707  1          0.3430962 \n",
              "171 0.005827237 0.2060302  1          0.3416667 \n",
              "76  0.005516885 0.2050000  1          0.3402490 \n",
              "149 0.004740728 0.2039801  1          0.3388430 \n",
              "165 0.004176171 0.2029703  1          0.3374486 \n",
              "202 0.004125702 0.2019704  1          0.3360656 \n",
              "71  0.003970380 0.2009804  1          0.3346939 \n",
              "83  0.003373268 0.2000000  1          0.3333333 \n",
              "184 0.002880510 0.1990291  1          0.3319838 \n",
              "105 0.002769371 0.1980676  1          0.3306452 \n",
              "189 0.002570834 0.1971154  1          0.3293173 \n",
              "4   0.002552703 0.1961722  1          0.3280000 \n",
              "135 0.002393693 0.1952381  1          0.3266932 \n",
              "181 0.002157793 0.1943128  1          0.3253968 \n",
              "143 0.002056638 0.1933962  1          0.3241107 \n",
              "188 0.001531202 0.1924883  1          0.3228346 "
            ]
          },
          "metadata": {}
        }
      ]
    },
    {
      "cell_type": "code",
      "source": [
        "\n",
        "#ver precisiones versus exhaustividad\n",
        "plot(tablacruce$precisions,tablacruce$recalls)"
      ],
      "metadata": {
        "id": "FT9T1lolB1E_",
        "colab": {
          "base_uri": "https://localhost:8080/",
          "height": 437
        },
        "outputId": "da9b4cd8-69e6-403b-d823-805fe7b139d3"
      },
      "execution_count": null,
      "outputs": [
        {
          "output_type": "display_data",
          "data": {
            "text/plain": [
              "plot without title"
            ],
            "image/png": "[encoded data removed]"
          },
          "metadata": {
            "image/png": {
              "width": 420,
              "height": 420
            }
          }
        }
      ]
    },
    {
      "cell_type": "code",
      "source": [
        "#ver el cutoff que maximiza f score\n",
        "ggplot(tablacruce, aes(cutoffs,fscores))+geom_point()\n"
      ],
      "metadata": {
        "id": "EqAiZv7fB57A",
        "colab": {
          "base_uri": "https://localhost:8080/",
          "height": 472
        },
        "outputId": "ac85dd0f-78ab-40db-d0ff-0e6ac5b5aea1"
      },
      "execution_count": null,
      "outputs": [
        {
          "output_type": "stream",
          "name": "stderr",
          "text": [
            "Warning message:\n",
            "“\u001b[1m\u001b[22mRemoved 1 rows containing missing values (`geom_point()`).”\n"
          ]
        },
        {
          "output_type": "display_data",
          "data": {
            "text/plain": [
              "plot without title"
            ],
            "image/png": "[encoded data removed]"
          },
          "metadata": {
            "image/png": {
              "width": 420,
              "height": 420
            }
          }
        }
      ]
    },
    {
      "cell_type": "code",
      "source": [
        "#calcular las ganancias\n",
        "tablacruce$wins<-prop.table(balance)[2]*recalls*(500-(100/precisions))"
      ],
      "metadata": {
        "id": "CqoeihdAEGTj"
      },
      "execution_count": null,
      "outputs": []
    },
    {
      "cell_type": "code",
      "source": [
        "#pintar las ganancias versus los cutoffs\n",
        "plot(tablacruce$cutoffs,tablacruce$wins)"
      ],
      "metadata": {
        "id": "JWgP9E1LEIWL",
        "colab": {
          "base_uri": "https://localhost:8080/",
          "height": 437
        },
        "outputId": "a4a28ea4-f4e7-4528-9f07-0f208638aa47"
      },
      "execution_count": null,
      "outputs": [
        {
          "output_type": "display_data",
          "data": {
            "text/plain": [
              "plot without title"
            ],
            "image/png": "[encoded data removed]"
          },
          "metadata": {
            "image/png": {
              "width": 420,
              "height": 420
            }
          }
        }
      ]
    },
    {
      "cell_type": "code",
      "source": [
        "#ver las ganancias frente a la precisión\n",
        "plot(tablacruce$precisions,tablacruce$wins)"
      ],
      "metadata": {
        "id": "karZboK8EIbE",
        "colab": {
          "base_uri": "https://localhost:8080/",
          "height": 437
        },
        "outputId": "3d1c7cdd-7266-4ff0-d124-80922f861d9b"
      },
      "execution_count": null,
      "outputs": [
        {
          "output_type": "display_data",
          "data": {
            "text/plain": [
              "plot without title"
            ],
            "image/png": "[encoded data removed]"
          },
          "metadata": {
            "image/png": {
              "width": 420,
              "height": 420
            }
          }
        }
      ]
    },
    {
      "cell_type": "markdown",
      "source": [
        "La primera gráfica nos muestra la relación inversa entre precisiones y exhaustividades.\n",
        "\n",
        "La segunda gráfica nos presenta las ganancias (por cliente) contra los puntos de corte, de modo que podemos escoger un punto de corte ideal, el cual está cercano al 0.18, de hecho en la base de datos es 0.1614\n",
        "\n",
        "La tercera gráfica nos muestra la relación de ganancias con precisones, donde es visible que no necesariamente la mayor precisión lleva a la mejor ganancia (por su baja exhaustividad)\n",
        "\n",
        "Por supuesto, estos resultados dependen de la definición de ganancias y pérdidas. Si el costo de un cliente que incumple, por ejemplo, es del 70% frente a la ganancia que puede traer un cliente cumplido, entonces la precisión actual no es suficiente y debemos cambiar el punto de corte o buscar un balanceo de la base de datos que permita realizar mejores predicciones de incumplidos."
      ],
      "metadata": {
        "id": "vot-VW5aM7Lw"
      }
    },
    {
      "cell_type": "code",
      "source": [
        "tablaver<-subset(tablacruce, tablacruce$cutoffs>0.13 & tablacruce$cutoffs<0.22)\n",
        "View(tablaver)"
      ],
      "metadata": {
        "colab": {
          "base_uri": "https://localhost:8080/",
          "height": 882
        },
        "id": "NgAkHvk4TdiG",
        "outputId": "8bfcdb72-de31-4ac0-ab51-1c21a5f9cef0"
      },
      "execution_count": null,
      "outputs": [
        {
          "output_type": "display_data",
          "data": {
            "text/plain": [
              "    cutoffs   precisions recalls   fscores   wins    \n",
              "205 0.2191437 0.4047619  0.7234043 0.5190840 41.44941\n",
              "192 0.2153136 0.4000000  0.7234043 0.5151515 40.96744\n",
              "85  0.2091366 0.4069767  0.7446809 0.5263158 42.89532\n",
              "146 0.2064775 0.4022989  0.7446809 0.5223881 42.41335\n",
              "96  0.2025441 0.4090909  0.7659574 0.5333333 44.34122\n",
              "60  0.2003074 0.4044944  0.7659574 0.5294118 43.85925\n",
              "44  0.2001258 0.4000000  0.7659574 0.5255474 43.37728\n",
              "100 0.1958257 0.3956044  0.7659574 0.5217391 42.89532\n",
              "82  0.1826352 0.3913043  0.7659574 0.5179856 42.41335\n",
              "186 0.1744200 0.3870968  0.7659574 0.5142857 41.93138\n",
              "40  0.1695976 0.3936170  0.7872340 0.5248227 43.85925\n",
              "141 0.1674232 0.4000000  0.8085106 0.5352113 45.78713\n",
              "5   0.1614713 0.4062500  0.8297872 0.5454545 47.71501\n",
              "155 0.1606389 0.4020619  0.8297872 0.5416667 47.23304\n",
              "107 0.1573767 0.3979592  0.8297872 0.5379310 46.75107\n",
              "193 0.1544174 0.3939394  0.8297872 0.5342466 46.26910\n",
              "165 0.1523277 0.3900000  0.8297872 0.5306122 45.78713\n",
              "77  0.1486199 0.3960396  0.8510638 0.5405405 47.71501\n",
              "150 0.1482672 0.3921569  0.8510638 0.5369128 47.23304\n",
              "181 0.1461462 0.3883495  0.8510638 0.5333333 46.75107\n",
              "81  0.1431325 0.3846154  0.8510638 0.5298013 46.26910\n",
              "174 0.1404786 0.3809524  0.8510638 0.5263158 45.78713\n",
              "162 0.1365148 0.3773585  0.8510638 0.5228758 45.30516\n",
              "84  0.1344342 0.3738318  0.8510638 0.5194805 44.82319\n",
              "18  0.1316592 0.3796296  0.8723404 0.5290323 46.75107"
            ],
            "text/html": [
              "<table class=\"dataframe\">\n",
              "<caption>A data.frame: 25 × 5</caption>\n",
              "<thead>\n",
              "\t<tr><th></th><th scope=col>cutoffs</th><th scope=col>precisions</th><th scope=col>recalls</th><th scope=col>fscores</th><th scope=col>wins</th></tr>\n",
              "\t<tr><th></th><th scope=col>&lt;dbl&gt;</th><th scope=col>&lt;dbl&gt;</th><th scope=col>&lt;dbl&gt;</th><th scope=col>&lt;dbl&gt;</th><th scope=col>&lt;dbl&gt;</th></tr>\n",
              "</thead>\n",
              "<tbody>\n",
              "\t<tr><th scope=row>205</th><td>0.2191437</td><td>0.4047619</td><td>0.7234043</td><td>0.5190840</td><td>41.44941</td></tr>\n",
              "\t<tr><th scope=row>192</th><td>0.2153136</td><td>0.4000000</td><td>0.7234043</td><td>0.5151515</td><td>40.96744</td></tr>\n",
              "\t<tr><th scope=row>85</th><td>0.2091366</td><td>0.4069767</td><td>0.7446809</td><td>0.5263158</td><td>42.89532</td></tr>\n",
              "\t<tr><th scope=row>146</th><td>0.2064775</td><td>0.4022989</td><td>0.7446809</td><td>0.5223881</td><td>42.41335</td></tr>\n",
              "\t<tr><th scope=row>96</th><td>0.2025441</td><td>0.4090909</td><td>0.7659574</td><td>0.5333333</td><td>44.34122</td></tr>\n",
              "\t<tr><th scope=row>60</th><td>0.2003074</td><td>0.4044944</td><td>0.7659574</td><td>0.5294118</td><td>43.85925</td></tr>\n",
              "\t<tr><th scope=row>44</th><td>0.2001258</td><td>0.4000000</td><td>0.7659574</td><td>0.5255474</td><td>43.37728</td></tr>\n",
              "\t<tr><th scope=row>100</th><td>0.1958257</td><td>0.3956044</td><td>0.7659574</td><td>0.5217391</td><td>42.89532</td></tr>\n",
              "\t<tr><th scope=row>82</th><td>0.1826352</td><td>0.3913043</td><td>0.7659574</td><td>0.5179856</td><td>42.41335</td></tr>\n",
              "\t<tr><th scope=row>186</th><td>0.1744200</td><td>0.3870968</td><td>0.7659574</td><td>0.5142857</td><td>41.93138</td></tr>\n",
              "\t<tr><th scope=row>40</th><td>0.1695976</td><td>0.3936170</td><td>0.7872340</td><td>0.5248227</td><td>43.85925</td></tr>\n",
              "\t<tr><th scope=row>141</th><td>0.1674232</td><td>0.4000000</td><td>0.8085106</td><td>0.5352113</td><td>45.78713</td></tr>\n",
              "\t<tr><th scope=row>5</th><td>0.1614713</td><td>0.4062500</td><td>0.8297872</td><td>0.5454545</td><td>47.71501</td></tr>\n",
              "\t<tr><th scope=row>155</th><td>0.1606389</td><td>0.4020619</td><td>0.8297872</td><td>0.5416667</td><td>47.23304</td></tr>\n",
              "\t<tr><th scope=row>107</th><td>0.1573767</td><td>0.3979592</td><td>0.8297872</td><td>0.5379310</td><td>46.75107</td></tr>\n",
              "\t<tr><th scope=row>193</th><td>0.1544174</td><td>0.3939394</td><td>0.8297872</td><td>0.5342466</td><td>46.26910</td></tr>\n",
              "\t<tr><th scope=row>165</th><td>0.1523277</td><td>0.3900000</td><td>0.8297872</td><td>0.5306122</td><td>45.78713</td></tr>\n",
              "\t<tr><th scope=row>77</th><td>0.1486199</td><td>0.3960396</td><td>0.8510638</td><td>0.5405405</td><td>47.71501</td></tr>\n",
              "\t<tr><th scope=row>150</th><td>0.1482672</td><td>0.3921569</td><td>0.8510638</td><td>0.5369128</td><td>47.23304</td></tr>\n",
              "\t<tr><th scope=row>181</th><td>0.1461462</td><td>0.3883495</td><td>0.8510638</td><td>0.5333333</td><td>46.75107</td></tr>\n",
              "\t<tr><th scope=row>81</th><td>0.1431325</td><td>0.3846154</td><td>0.8510638</td><td>0.5298013</td><td>46.26910</td></tr>\n",
              "\t<tr><th scope=row>174</th><td>0.1404786</td><td>0.3809524</td><td>0.8510638</td><td>0.5263158</td><td>45.78713</td></tr>\n",
              "\t<tr><th scope=row>162</th><td>0.1365148</td><td>0.3773585</td><td>0.8510638</td><td>0.5228758</td><td>45.30516</td></tr>\n",
              "\t<tr><th scope=row>84</th><td>0.1344342</td><td>0.3738318</td><td>0.8510638</td><td>0.5194805</td><td>44.82319</td></tr>\n",
              "\t<tr><th scope=row>18</th><td>0.1316592</td><td>0.3796296</td><td>0.8723404</td><td>0.5290323</td><td>46.75107</td></tr>\n",
              "</tbody>\n",
              "</table>\n"
            ],
            "text/markdown": "\nA data.frame: 25 × 5\n\n| <!--/--> | cutoffs &lt;dbl&gt; | precisions &lt;dbl&gt; | recalls &lt;dbl&gt; | fscores &lt;dbl&gt; | wins &lt;dbl&gt; |\n|---|---|---|---|---|---|\n| 205 | 0.2191437 | 0.4047619 | 0.7234043 | 0.5190840 | 41.44941 |\n| 192 | 0.2153136 | 0.4000000 | 0.7234043 | 0.5151515 | 40.96744 |\n| 85 | 0.2091366 | 0.4069767 | 0.7446809 | 0.5263158 | 42.89532 |\n| 146 | 0.2064775 | 0.4022989 | 0.7446809 | 0.5223881 | 42.41335 |\n| 96 | 0.2025441 | 0.4090909 | 0.7659574 | 0.5333333 | 44.34122 |\n| 60 | 0.2003074 | 0.4044944 | 0.7659574 | 0.5294118 | 43.85925 |\n| 44 | 0.2001258 | 0.4000000 | 0.7659574 | 0.5255474 | 43.37728 |\n| 100 | 0.1958257 | 0.3956044 | 0.7659574 | 0.5217391 | 42.89532 |\n| 82 | 0.1826352 | 0.3913043 | 0.7659574 | 0.5179856 | 42.41335 |\n| 186 | 0.1744200 | 0.3870968 | 0.7659574 | 0.5142857 | 41.93138 |\n| 40 | 0.1695976 | 0.3936170 | 0.7872340 | 0.5248227 | 43.85925 |\n| 141 | 0.1674232 | 0.4000000 | 0.8085106 | 0.5352113 | 45.78713 |\n| 5 | 0.1614713 | 0.4062500 | 0.8297872 | 0.5454545 | 47.71501 |\n| 155 | 0.1606389 | 0.4020619 | 0.8297872 | 0.5416667 | 47.23304 |\n| 107 | 0.1573767 | 0.3979592 | 0.8297872 | 0.5379310 | 46.75107 |\n| 193 | 0.1544174 | 0.3939394 | 0.8297872 | 0.5342466 | 46.26910 |\n| 165 | 0.1523277 | 0.3900000 | 0.8297872 | 0.5306122 | 45.78713 |\n| 77 | 0.1486199 | 0.3960396 | 0.8510638 | 0.5405405 | 47.71501 |\n| 150 | 0.1482672 | 0.3921569 | 0.8510638 | 0.5369128 | 47.23304 |\n| 181 | 0.1461462 | 0.3883495 | 0.8510638 | 0.5333333 | 46.75107 |\n| 81 | 0.1431325 | 0.3846154 | 0.8510638 | 0.5298013 | 46.26910 |\n| 174 | 0.1404786 | 0.3809524 | 0.8510638 | 0.5263158 | 45.78713 |\n| 162 | 0.1365148 | 0.3773585 | 0.8510638 | 0.5228758 | 45.30516 |\n| 84 | 0.1344342 | 0.3738318 | 0.8510638 | 0.5194805 | 44.82319 |\n| 18 | 0.1316592 | 0.3796296 | 0.8723404 | 0.5290323 | 46.75107 |\n\n",
            "text/latex": "A data.frame: 25 × 5\n\\begin{tabular}{r|lllll}\n  & cutoffs & precisions & recalls & fscores & wins\\\\\n  & <dbl> & <dbl> & <dbl> & <dbl> & <dbl>\\\\\n\\hline\n\t205 & 0.2191437 & 0.4047619 & 0.7234043 & 0.5190840 & 41.44941\\\\\n\t192 & 0.2153136 & 0.4000000 & 0.7234043 & 0.5151515 & 40.96744\\\\\n\t85 & 0.2091366 & 0.4069767 & 0.7446809 & 0.5263158 & 42.89532\\\\\n\t146 & 0.2064775 & 0.4022989 & 0.7446809 & 0.5223881 & 42.41335\\\\\n\t96 & 0.2025441 & 0.4090909 & 0.7659574 & 0.5333333 & 44.34122\\\\\n\t60 & 0.2003074 & 0.4044944 & 0.7659574 & 0.5294118 & 43.85925\\\\\n\t44 & 0.2001258 & 0.4000000 & 0.7659574 & 0.5255474 & 43.37728\\\\\n\t100 & 0.1958257 & 0.3956044 & 0.7659574 & 0.5217391 & 42.89532\\\\\n\t82 & 0.1826352 & 0.3913043 & 0.7659574 & 0.5179856 & 42.41335\\\\\n\t186 & 0.1744200 & 0.3870968 & 0.7659574 & 0.5142857 & 41.93138\\\\\n\t40 & 0.1695976 & 0.3936170 & 0.7872340 & 0.5248227 & 43.85925\\\\\n\t141 & 0.1674232 & 0.4000000 & 0.8085106 & 0.5352113 & 45.78713\\\\\n\t5 & 0.1614713 & 0.4062500 & 0.8297872 & 0.5454545 & 47.71501\\\\\n\t155 & 0.1606389 & 0.4020619 & 0.8297872 & 0.5416667 & 47.23304\\\\\n\t107 & 0.1573767 & 0.3979592 & 0.8297872 & 0.5379310 & 46.75107\\\\\n\t193 & 0.1544174 & 0.3939394 & 0.8297872 & 0.5342466 & 46.26910\\\\\n\t165 & 0.1523277 & 0.3900000 & 0.8297872 & 0.5306122 & 45.78713\\\\\n\t77 & 0.1486199 & 0.3960396 & 0.8510638 & 0.5405405 & 47.71501\\\\\n\t150 & 0.1482672 & 0.3921569 & 0.8510638 & 0.5369128 & 47.23304\\\\\n\t181 & 0.1461462 & 0.3883495 & 0.8510638 & 0.5333333 & 46.75107\\\\\n\t81 & 0.1431325 & 0.3846154 & 0.8510638 & 0.5298013 & 46.26910\\\\\n\t174 & 0.1404786 & 0.3809524 & 0.8510638 & 0.5263158 & 45.78713\\\\\n\t162 & 0.1365148 & 0.3773585 & 0.8510638 & 0.5228758 & 45.30516\\\\\n\t84 & 0.1344342 & 0.3738318 & 0.8510638 & 0.5194805 & 44.82319\\\\\n\t18 & 0.1316592 & 0.3796296 & 0.8723404 & 0.5290323 & 46.75107\\\\\n\\end{tabular}\n"
          },
          "metadata": {}
        }
      ]
    },
    {
      "cell_type": "markdown",
      "source": [
        "## Balanceo"
      ],
      "metadata": {
        "id": "amTOYjr6M88u"
      }
    },
    {
      "cell_type": "markdown",
      "source": [
        "Una posibilidad para aprender más sobre los incumplimientos (1 en la base de datos) es generando muestras de tal modo que la base de entrenamiento tenga 50% de cada clase, y la base de validación el resto. Si hay bases de entrenamiento, validación y prueba, se deja la base de entrenamiento repartida por mitades entre los dos tipos de caso y la de prueba lo más similar a la original (en validación queda el resto). Vamos a crear divisiones basándonos en los incumplidos(nuestro éxito) de 20% para prueba, y 40%-40% para entrenamiento/validación.\n",
        "\n",
        "Primero creamos la base de validación"
      ],
      "metadata": {
        "id": "bv05PZuMM_Sa"
      }
    },
    {
      "cell_type": "code",
      "source": [
        "#Balanceo\n",
        "##separamos ceros y unos\n",
        "mayorcero<-subset(cartera,cartera$retrasos==0)\n",
        "menoruno<-subset(cartera,cartera$retrasos==1)"
      ],
      "metadata": {
        "id": "HGR-m-waEVLD"
      },
      "execution_count": null,
      "outputs": []
    },
    {
      "cell_type": "code",
      "source": [
        "nrow(mayorcero)\n",
        "nrow(menoruno)"
      ],
      "metadata": {
        "colab": {
          "base_uri": "https://localhost:8080/",
          "height": 52
        },
        "id": "SjsemdDRNh2t",
        "outputId": "5cf46c5e-5f85-4b73-9e45-cdf4c466c3cd"
      },
      "execution_count": null,
      "outputs": [
        {
          "output_type": "display_data",
          "data": {
            "text/html": [
              "659"
            ],
            "text/markdown": "659",
            "text/latex": "659",
            "text/plain": [
              "[1] 659"
            ]
          },
          "metadata": {}
        },
        {
          "output_type": "display_data",
          "data": {
            "text/html": [
              "193"
            ],
            "text/markdown": "193",
            "text/latex": "193",
            "text/plain": [
              "[1] 193"
            ]
          },
          "metadata": {}
        }
      ]
    },
    {
      "cell_type": "code",
      "source": [
        "#en ambas bases el 20% es prueba\n",
        "set.seed(24029114)"
      ],
      "metadata": {
        "id": "Yf6AjUIcEmlK"
      },
      "execution_count": null,
      "outputs": []
    },
    {
      "cell_type": "code",
      "source": [
        "#20% de ceros\n",
        "sample <- sample.int(nrow(mayorcero), round(.2*nrow(mayorcero)))\n",
        "mayorcero.test <- mayorcero[sample, ]\n",
        "mayorcero.rest <- mayorcero[-sample, ]"
      ],
      "metadata": {
        "id": "mpXyFYSHEpSb"
      },
      "execution_count": null,
      "outputs": []
    },
    {
      "cell_type": "code",
      "source": [
        "nrow(mayorcero.test)\n",
        "nrow(mayorcero.rest)"
      ],
      "metadata": {
        "colab": {
          "base_uri": "https://localhost:8080/",
          "height": 52
        },
        "id": "qJgm0UCWMWV9",
        "outputId": "7073831a-e5f9-42ee-93c0-1c071d374408"
      },
      "execution_count": null,
      "outputs": [
        {
          "output_type": "display_data",
          "data": {
            "text/html": [
              "132"
            ],
            "text/markdown": "132",
            "text/latex": "132",
            "text/plain": [
              "[1] 132"
            ]
          },
          "metadata": {}
        },
        {
          "output_type": "display_data",
          "data": {
            "text/html": [
              "527"
            ],
            "text/markdown": "527",
            "text/latex": "527",
            "text/plain": [
              "[1] 527"
            ]
          },
          "metadata": {}
        }
      ]
    },
    {
      "cell_type": "code",
      "source": [
        "#20% de unos\n",
        "sample <- sample.int(nrow(menoruno), round(.2*nrow(menoruno)))\n",
        "menoruno.test <- menoruno[sample, ]\n",
        "menoruno.rest <- menoruno[-sample, ]"
      ],
      "metadata": {
        "id": "yDw7ybnqEtMs"
      },
      "execution_count": null,
      "outputs": []
    },
    {
      "cell_type": "code",
      "source": [
        "nrow(menoruno.test)\n",
        "nrow(menoruno.rest)"
      ],
      "metadata": {
        "colab": {
          "base_uri": "https://localhost:8080/",
          "height": 52
        },
        "id": "j-zPXOXSMjb3",
        "outputId": "8606d27b-73fe-405e-98cb-d046c86c9933"
      },
      "execution_count": null,
      "outputs": [
        {
          "output_type": "display_data",
          "data": {
            "text/html": [
              "39"
            ],
            "text/markdown": "39",
            "text/latex": "39",
            "text/plain": [
              "[1] 39"
            ]
          },
          "metadata": {}
        },
        {
          "output_type": "display_data",
          "data": {
            "text/html": [
              "154"
            ],
            "text/markdown": "154",
            "text/latex": "154",
            "text/plain": [
              "[1] 154"
            ]
          },
          "metadata": {}
        }
      ]
    },
    {
      "cell_type": "code",
      "source": [
        "#fundo las dos\n",
        "cart.test<-rbind(mayorcero.test,menoruno.test)\n",
        "nrow(cart.test)"
      ],
      "metadata": {
        "id": "R3ES_E5GEy2y",
        "colab": {
          "base_uri": "https://localhost:8080/",
          "height": 34
        },
        "outputId": "f2cf406c-09a7-41e1-e70a-e6f7656bd87f"
      },
      "execution_count": null,
      "outputs": [
        {
          "output_type": "display_data",
          "data": {
            "text/html": [
              "171"
            ],
            "text/markdown": "171",
            "text/latex": "171",
            "text/plain": [
              "[1] 171"
            ]
          },
          "metadata": {}
        }
      ]
    },
    {
      "cell_type": "code",
      "source": [
        "table(cart.test$retrasos)"
      ],
      "metadata": {
        "colab": {
          "base_uri": "https://localhost:8080/",
          "height": 69
        },
        "id": "v83qrgEyNLeU",
        "outputId": "a8c035cd-2145-4fb2-e03a-70a57629bf67"
      },
      "execution_count": null,
      "outputs": [
        {
          "output_type": "display_data",
          "data": {
            "text/plain": [
              "\n",
              "  0   1 \n",
              "132  39 "
            ]
          },
          "metadata": {}
        }
      ]
    },
    {
      "cell_type": "markdown",
      "source": [
        "En prueba nos quedaron 171 registros. Hagamos ahora entrenamiento y validación:"
      ],
      "metadata": {
        "id": "UboV64Z5NIgX"
      }
    },
    {
      "cell_type": "code",
      "source": [
        "sample <- sample.int(nrow(menoruno.rest), round(.5*nrow(menoruno.rest)))\n",
        "menoruno.train <- menoruno.rest[sample, ]\n",
        "menoruno.valid <- menoruno.rest[-sample, ]"
      ],
      "metadata": {
        "id": "wgBa_Qb5E7y0"
      },
      "execution_count": null,
      "outputs": []
    },
    {
      "cell_type": "code",
      "source": [
        "nrow(menoruno.train)\n",
        "nrow(menoruno.valid)"
      ],
      "metadata": {
        "colab": {
          "base_uri": "https://localhost:8080/",
          "height": 52
        },
        "id": "8QGu6l8aOJEj",
        "outputId": "193ea27a-b9f7-46b8-84d2-3f58b4372f43"
      },
      "execution_count": null,
      "outputs": [
        {
          "output_type": "display_data",
          "data": {
            "text/html": [
              "77"
            ],
            "text/markdown": "77",
            "text/latex": "77",
            "text/plain": [
              "[1] 77"
            ]
          },
          "metadata": {}
        },
        {
          "output_type": "display_data",
          "data": {
            "text/html": [
              "77"
            ],
            "text/markdown": "77",
            "text/latex": "77",
            "text/plain": [
              "[1] 77"
            ]
          },
          "metadata": {}
        }
      ]
    },
    {
      "cell_type": "code",
      "source": [
        "#pongo la misma cantidad de ceros y unos en entrenamiento:\n",
        "sample <- sample.int(nrow(mayorcero.rest), nrow(menoruno.train))\n",
        "mayorcero.train <- mayorcero.rest[sample, ]\n",
        "mayorcero.valid <- mayorcero.rest[-sample, ]"
      ],
      "metadata": {
        "id": "Fy9RqMH4E9tK"
      },
      "execution_count": null,
      "outputs": []
    },
    {
      "cell_type": "code",
      "source": [
        "nrow(mayorcero.train)\n",
        "nrow(mayorcero.valid)"
      ],
      "metadata": {
        "colab": {
          "base_uri": "https://localhost:8080/",
          "height": 52
        },
        "id": "F2bN-AoKOuBg",
        "outputId": "bd1a0cdc-aafc-4b6d-b51e-3582fc116c7f"
      },
      "execution_count": null,
      "outputs": [
        {
          "output_type": "display_data",
          "data": {
            "text/html": [
              "77"
            ],
            "text/markdown": "77",
            "text/latex": "77",
            "text/plain": [
              "[1] 77"
            ]
          },
          "metadata": {}
        },
        {
          "output_type": "display_data",
          "data": {
            "text/html": [
              "450"
            ],
            "text/markdown": "450",
            "text/latex": "450",
            "text/plain": [
              "[1] 450"
            ]
          },
          "metadata": {}
        }
      ]
    },
    {
      "cell_type": "code",
      "source": [
        "#creo entrenamiento y validación\n",
        "cart.train<-rbind(mayorcero.train,menoruno.train)\n",
        "cart.valid<-rbind(mayorcero.valid,menoruno.valid)"
      ],
      "metadata": {
        "id": "BSXxm4QWE_Yq"
      },
      "execution_count": null,
      "outputs": []
    },
    {
      "cell_type": "code",
      "source": [
        "#chequeo que todo va bien\n",
        "table(cart.train$retrasos)\n",
        "table(cart.valid$retrasos)\n",
        "table(cart.test$retrasos)\n",
        "prop.table(table(cart.train$retrasos))\n"
      ],
      "metadata": {
        "id": "h91oeTlaFFES",
        "colab": {
          "base_uri": "https://localhost:8080/",
          "height": 225
        },
        "outputId": "f4e9dd17-37c5-4f7d-ce29-bd0578fa5688"
      },
      "execution_count": null,
      "outputs": [
        {
          "output_type": "display_data",
          "data": {
            "text/plain": [
              "\n",
              " 0  1 \n",
              "77 77 "
            ]
          },
          "metadata": {}
        },
        {
          "output_type": "display_data",
          "data": {
            "text/plain": [
              "\n",
              "  0   1 \n",
              "450  77 "
            ]
          },
          "metadata": {}
        },
        {
          "output_type": "display_data",
          "data": {
            "text/plain": [
              "\n",
              "  0   1 \n",
              "132  39 "
            ]
          },
          "metadata": {}
        },
        {
          "output_type": "display_data",
          "data": {
            "text/plain": [
              "\n",
              "  0   1 \n",
              "0.5 0.5 "
            ]
          },
          "metadata": {}
        }
      ]
    },
    {
      "cell_type": "code",
      "source": [
        "prop.table(table(cart.valid$retrasos))\n"
      ],
      "metadata": {
        "id": "vlqzGoeCNxIe",
        "colab": {
          "base_uri": "https://localhost:8080/",
          "height": 69
        },
        "outputId": "6694df75-c00e-41b9-af90-13a1edcc7fc9"
      },
      "execution_count": null,
      "outputs": [
        {
          "output_type": "display_data",
          "data": {
            "text/plain": [
              "\n",
              "        0         1 \n",
              "0.8538899 0.1461101 "
            ]
          },
          "metadata": {}
        }
      ]
    },
    {
      "cell_type": "code",
      "source": [
        "prop.table(table(cart.test$retrasos))\n"
      ],
      "metadata": {
        "id": "NUVVYtA6Nxs-",
        "colab": {
          "base_uri": "https://localhost:8080/",
          "height": 69
        },
        "outputId": "8e0e53f7-f67e-419e-88c7-e7e527e2a26b"
      },
      "execution_count": null,
      "outputs": [
        {
          "output_type": "display_data",
          "data": {
            "text/plain": [
              "\n",
              "        0         1 \n",
              "0.7719298 0.2280702 "
            ]
          },
          "metadata": {}
        }
      ]
    },
    {
      "cell_type": "code",
      "source": [
        "prop.table(table(cartera$retrasos))"
      ],
      "metadata": {
        "id": "vHthz6FYNxvK",
        "colab": {
          "base_uri": "https://localhost:8080/",
          "height": 69
        },
        "outputId": "e0915b7d-5eaa-4227-c7d3-f10ebac6046c"
      },
      "execution_count": null,
      "outputs": [
        {
          "output_type": "display_data",
          "data": {
            "text/plain": [
              "\n",
              "        0         1 \n",
              "0.7734742 0.2265258 "
            ]
          },
          "metadata": {}
        }
      ]
    },
    {
      "cell_type": "markdown",
      "source": [
        "Vemos que la base de entrenamiento queda 50%-50% de casos, la de validación 85%-15% y la de test 77.2% vs 22.8%, que es muy cercana a la original, 77.3% vs. 22.7%.\n",
        "\n",
        "exploremos"
      ],
      "metadata": {
        "id": "tHXN8to3NOu_"
      }
    },
    {
      "cell_type": "code",
      "source": [
        "ggplot(cart.train,aes(x=IGUAL_DUENO, y=cartera_actual_insumos_A,color=retrasos))+geom_point()"
      ],
      "metadata": {
        "id": "6dtXh5bvFInT",
        "colab": {
          "base_uri": "https://localhost:8080/",
          "height": 437
        },
        "outputId": "6536eb7f-08fa-4faf-be6e-580c24d070a6"
      },
      "execution_count": null,
      "outputs": [
        {
          "output_type": "display_data",
          "data": {
            "text/plain": [
              "plot without title"
            ],
            "image/png": "[encoded data removed]"
          },
          "metadata": {
            "image/png": {
              "width": 420,
              "height": 420
            }
          }
        }
      ]
    },
    {
      "cell_type": "markdown",
      "source": [
        "El gráfico es más visible que con la base de datos original, que tendría más puntos de cumplidos que de incumplidos.\n",
        "\n",
        "Hagamos un modelo:"
      ],
      "metadata": {
        "id": "R490i1KQNSlf"
      }
    },
    {
      "cell_type": "code",
      "source": [
        "modelo.balance<-glm(retrasos~.,family=binomial,cart.train)"
      ],
      "metadata": {
        "id": "WNlFz_FmNUIO"
      },
      "execution_count": null,
      "outputs": []
    },
    {
      "cell_type": "code",
      "source": [
        "#trace=0 impide ver todos los detalles de la optimización stepwise\n",
        "stepbalance<-step(modelo.balance, direction=\"both\", trace=0)\n",
        "summary(stepbalance)"
      ],
      "metadata": {
        "id": "GnhRIZ4hFNpc",
        "colab": {
          "base_uri": "https://localhost:8080/",
          "height": 382
        },
        "outputId": "0a162249-aece-4df7-f20e-c285e1b5abf3"
      },
      "execution_count": null,
      "outputs": [
        {
          "output_type": "display_data",
          "data": {
            "text/plain": [
              "\n",
              "Call:\n",
              "glm(formula = retrasos ~ IGUAL_DUENO + PORC_PASIVOS_VENTA_ANUAL + \n",
              "    cartera_actual_insumos_A, family = binomial, data = cart.train)\n",
              "\n",
              "Coefficients:\n",
              "                         Estimate Std. Error z value Pr(>|z|)    \n",
              "(Intercept)              -0.18637    0.48142  -0.387  0.69867    \n",
              "IGUAL_DUENO              -0.25190    0.04963  -5.075 3.87e-07 ***\n",
              "PORC_PASIVOS_VENTA_ANUAL  0.12025    0.03967   3.031  0.00244 ** \n",
              "cartera_actual_insumos_A  0.44227    0.16715   2.646  0.00815 ** \n",
              "---\n",
              "Signif. codes:  0 ‘***’ 0.001 ‘**’ 0.01 ‘*’ 0.05 ‘.’ 0.1 ‘ ’ 1\n",
              "\n",
              "(Dispersion parameter for binomial family taken to be 1)\n",
              "\n",
              "    Null deviance: 213.49  on 153  degrees of freedom\n",
              "Residual deviance: 128.12  on 150  degrees of freedom\n",
              "AIC: 136.12\n",
              "\n",
              "Number of Fisher Scoring iterations: 5\n"
            ]
          },
          "metadata": {}
        }
      ]
    },
    {
      "cell_type": "markdown",
      "source": [
        "Note que las variables predictoras cambiaron. Tres se mantuvieron (pasivos, igual dueño y cartera A) pero 1 ya no quedó en el modelo (años dirección actual). Miremos los odds"
      ],
      "metadata": {
        "id": "shHxBrjfNbWn"
      }
    },
    {
      "cell_type": "code",
      "source": [
        "coeficientes2<-stepbalance$coefficients\n",
        "odd_changeb<-exp(coeficientes2)\n",
        "odd_changeb"
      ],
      "metadata": {
        "id": "GBLHY5ttFsih",
        "colab": {
          "base_uri": "https://localhost:8080/",
          "height": 34
        },
        "outputId": "a31446a4-5e0c-4445-e51d-5493b6383e05"
      },
      "execution_count": null,
      "outputs": [
        {
          "output_type": "display_data",
          "data": {
            "text/html": [
              "<style>\n",
              ".dl-inline {width: auto; margin:0; padding: 0}\n",
              ".dl-inline>dt, .dl-inline>dd {float: none; width: auto; display: inline-block}\n",
              ".dl-inline>dt::after {content: \":\\0020\"; padding-right: .5ex}\n",
              ".dl-inline>dt:not(:first-of-type) {padding-left: .5ex}\n",
              "</style><dl class=dl-inline><dt>(Intercept)</dt><dd>0.829968847471816</dd><dt>IGUAL_DUENO</dt><dd>0.777325098824082</dd><dt>PORC_PASIVOS_VENTA_ANUAL</dt><dd>1.12777459474342</dd><dt>cartera_actual_insumos_A</dt><dd>1.55623009217193</dd></dl>\n"
            ],
            "text/markdown": "(Intercept)\n:   0.829968847471816IGUAL_DUENO\n:   0.777325098824082PORC_PASIVOS_VENTA_ANUAL\n:   1.12777459474342cartera_actual_insumos_A\n:   1.55623009217193\n\n",
            "text/latex": "\\begin{description*}\n\\item[(Intercept)] 0.829968847471816\n\\item[IGUAL\\textbackslash{}\\_DUENO] 0.777325098824082\n\\item[PORC\\textbackslash{}\\_PASIVOS\\textbackslash{}\\_VENTA\\textbackslash{}\\_ANUAL] 1.12777459474342\n\\item[cartera\\textbackslash{}\\_actual\\textbackslash{}\\_insumos\\textbackslash{}\\_A] 1.55623009217193\n\\end{description*}\n",
            "text/plain": [
              "             (Intercept)              IGUAL_DUENO PORC_PASIVOS_VENTA_ANUAL \n",
              "               0.8299688                0.7773251                1.1277746 \n",
              "cartera_actual_insumos_A \n",
              "               1.5562301 "
            ]
          },
          "metadata": {}
        }
      ]
    },
    {
      "cell_type": "markdown",
      "source": [
        "Cada año con el mismo dueño disminuyen el odd de ser incumplido al 82.9% , cada millón de cartera A aumenta ese odd en 55.6% y cada punto porcentual de pasivo aumenta el odd en 12.7%. Miremos sus métricas de desempeño en prueba:"
      ],
      "metadata": {
        "id": "Erh7upTzNdZJ"
      }
    },
    {
      "cell_type": "code",
      "source": [
        "#crea el pronóstico en validación\n",
        "probtest2<-predict(stepbalance,newdata = cart.test,type='response')\n",
        "prontest2<-ifelse(probtest2 > 0.5,1,0)"
      ],
      "metadata": {
        "id": "-IQICZOPweiX"
      },
      "execution_count": null,
      "outputs": []
    },
    {
      "cell_type": "code",
      "source": [
        "conftest2<-confusionMatrix(as.factor(prontest2),as.factor(cart.test$retrasos), positive = \"1\")\n",
        "conftest2$table"
      ],
      "metadata": {
        "id": "fIiNyF5vF0_B",
        "colab": {
          "base_uri": "https://localhost:8080/",
          "height": 86
        },
        "outputId": "3c662ec6-9ba8-457f-eb5c-ebc41711600e"
      },
      "execution_count": null,
      "outputs": [
        {
          "output_type": "display_data",
          "data": {
            "text/plain": [
              "          Reference\n",
              "Prediction  0  1\n",
              "         0 84  3\n",
              "         1 48 36"
            ]
          },
          "metadata": {}
        }
      ]
    },
    {
      "cell_type": "code",
      "source": [
        "conftest2$byClass\n"
      ],
      "metadata": {
        "id": "4lBylMjUN5T9",
        "colab": {
          "base_uri": "https://localhost:8080/",
          "height": 52
        },
        "outputId": "336720d9-be69-439b-dbdc-f34282e3ebd3"
      },
      "execution_count": null,
      "outputs": [
        {
          "output_type": "display_data",
          "data": {
            "text/html": [
              "<style>\n",
              ".dl-inline {width: auto; margin:0; padding: 0}\n",
              ".dl-inline>dt, .dl-inline>dd {float: none; width: auto; display: inline-block}\n",
              ".dl-inline>dt::after {content: \":\\0020\"; padding-right: .5ex}\n",
              ".dl-inline>dt:not(:first-of-type) {padding-left: .5ex}\n",
              "</style><dl class=dl-inline><dt>Sensitivity</dt><dd>0.923076923076923</dd><dt>Specificity</dt><dd>0.636363636363636</dd><dt>Pos Pred Value</dt><dd>0.428571428571429</dd><dt>Neg Pred Value</dt><dd>0.96551724137931</dd><dt>Precision</dt><dd>0.428571428571429</dd><dt>Recall</dt><dd>0.923076923076923</dd><dt>F1</dt><dd>0.585365853658537</dd><dt>Prevalence</dt><dd>0.228070175438596</dd><dt>Detection Rate</dt><dd>0.210526315789474</dd><dt>Detection Prevalence</dt><dd>0.491228070175439</dd><dt>Balanced Accuracy</dt><dd>0.77972027972028</dd></dl>\n"
            ],
            "text/markdown": "Sensitivity\n:   0.923076923076923Specificity\n:   0.636363636363636Pos Pred Value\n:   0.428571428571429Neg Pred Value\n:   0.96551724137931Precision\n:   0.428571428571429Recall\n:   0.923076923076923F1\n:   0.585365853658537Prevalence\n:   0.228070175438596Detection Rate\n:   0.210526315789474Detection Prevalence\n:   0.491228070175439Balanced Accuracy\n:   0.77972027972028\n\n",
            "text/latex": "\\begin{description*}\n\\item[Sensitivity] 0.923076923076923\n\\item[Specificity] 0.636363636363636\n\\item[Pos Pred Value] 0.428571428571429\n\\item[Neg Pred Value] 0.96551724137931\n\\item[Precision] 0.428571428571429\n\\item[Recall] 0.923076923076923\n\\item[F1] 0.585365853658537\n\\item[Prevalence] 0.228070175438596\n\\item[Detection Rate] 0.210526315789474\n\\item[Detection Prevalence] 0.491228070175439\n\\item[Balanced Accuracy] 0.77972027972028\n\\end{description*}\n",
            "text/plain": [
              "         Sensitivity          Specificity       Pos Pred Value \n",
              "           0.9230769            0.6363636            0.4285714 \n",
              "      Neg Pred Value            Precision               Recall \n",
              "           0.9655172            0.4285714            0.9230769 \n",
              "                  F1           Prevalence       Detection Rate \n",
              "           0.5853659            0.2280702            0.2105263 \n",
              "Detection Prevalence    Balanced Accuracy \n",
              "           0.4912281            0.7797203 "
            ]
          },
          "metadata": {}
        }
      ]
    },
    {
      "cell_type": "markdown",
      "source": [
        "Nótese que la precisión baja (al 42.8%) pero la exhaustividad sube (al 92.3%). El F score, con punto de corte en 0.5 es de 58.5%.\n",
        "\n",
        "Sin embargo las comparaciones no son muy viables dado que estamos usando bases de test diferentes. Y en cuanto a AUC?"
      ],
      "metadata": {
        "id": "S1_gZNIuNgXl"
      }
    },
    {
      "cell_type": "code",
      "source": [
        "#crear objeto de predicciones\n",
        "pr2<-prediction(probtest2,cart.test$retrasos)\n",
        "#creacion del objeto de la curva\n",
        "curvaROC2<-performance(pr2,measure=\"tpr\",x.measure=\"fpr\")\n",
        "#grafico de la curva\n",
        "plot(curvaROC2)"
      ],
      "metadata": {
        "id": "9mv6t5f_F8Aa",
        "colab": {
          "base_uri": "https://localhost:8080/",
          "height": 437
        },
        "outputId": "59b304d8-272c-4ed3-e991-a73b87168705"
      },
      "execution_count": null,
      "outputs": [
        {
          "output_type": "display_data",
          "data": {
            "text/plain": [
              "plot without title"
            ],
            "image/png": "[encoded data removed]"
          },
          "metadata": {
            "image/png": {
              "width": 420,
              "height": 420
            }
          }
        }
      ]
    },
    {
      "cell_type": "code",
      "source": [
        "#calcular el AUC\n",
        "auc2<-performance(pr2,measure = \"auc\")\n",
        "auc2f <- auc2@y.values[[1]]\n",
        "#ver el AUC\n",
        "auc2f"
      ],
      "metadata": {
        "id": "qITKS82SGTk6",
        "colab": {
          "base_uri": "https://localhost:8080/",
          "height": 34
        },
        "outputId": "cc61b3f4-7056-48ea-8e04-c1986807a482"
      },
      "execution_count": null,
      "outputs": [
        {
          "output_type": "display_data",
          "data": {
            "text/html": [
              "0.885003885003885"
            ],
            "text/markdown": "0.885003885003885",
            "text/latex": "0.885003885003885",
            "text/plain": [
              "[1] 0.8850039"
            ]
          },
          "metadata": {}
        }
      ]
    },
    {
      "cell_type": "markdown",
      "source": [
        "Nuestro AUC ahora es del 88%, y ahora el modelo está sesgado en la búsqueda de incumplidos."
      ],
      "metadata": {
        "id": "y_BTGMejYPmn"
      }
    },
    {
      "cell_type": "markdown",
      "source": [
        "## Uso de **SMOTE**"
      ],
      "metadata": {
        "id": "eq8U3wjhqzoA"
      }
    },
    {
      "cell_type": "code",
      "source": [
        "remotes::install_github(\"cran/DMwR\")"
      ],
      "metadata": {
        "colab": {
          "base_uri": "https://localhost:8080/"
        },
        "id": "PFMxAj2PS79j",
        "outputId": "d9b2ca25-a1dd-4904-a113-20e195baf152"
      },
      "execution_count": null,
      "outputs": [
        {
          "output_type": "stream",
          "name": "stderr",
          "text": [
            "Downloading GitHub repo cran/DMwR@HEAD\n",
            "\n"
          ]
        },
        {
          "output_type": "stream",
          "name": "stdout",
          "text": [
            "curl     (5.0.2 -> 5.2.1 ) [CRAN]\n",
            "zoo      (NA    -> 1.8-12) [CRAN]\n",
            "xts      (NA    -> 0.13.2) [CRAN]\n",
            "TTR      (NA    -> 0.24.4) [CRAN]\n",
            "abind    (NA    -> 1.4-5 ) [CRAN]\n",
            "quantmod (NA    -> 0.4.26) [CRAN]\n"
          ]
        },
        {
          "output_type": "stream",
          "name": "stderr",
          "text": [
            "Installing 6 packages: curl, zoo, xts, TTR, abind, quantmod\n",
            "\n",
            "Installing packages into ‘/usr/local/lib/R/site-library’\n",
            "(as ‘lib’ is unspecified)\n",
            "\n"
          ]
        },
        {
          "output_type": "stream",
          "name": "stdout",
          "text": [
            "\u001b[36m──\u001b[39m \u001b[36mR CMD build\u001b[39m \u001b[36m─────────────────────────────────────────────────────────────────\u001b[39m\n",
            "* checking for file ‘/tmp/RtmporV9Mc/remotes4051b0bbd69/cran-DMwR-6fd4f0c/DESCRIPTION’ ... OK\n",
            "* preparing ‘DMwR’:\n",
            "* checking DESCRIPTION meta-information ... OK\n",
            "* checking for LF line-endings in source and make files and shell scripts\n",
            "* checking for empty or unneeded directories\n",
            "* building ‘DMwR_0.4.1.tar.gz’\n",
            "\n"
          ]
        },
        {
          "output_type": "stream",
          "name": "stderr",
          "text": [
            "Installing package into ‘/usr/local/lib/R/site-library’\n",
            "(as ‘lib’ is unspecified)\n",
            "\n"
          ]
        }
      ]
    },
    {
      "cell_type": "code",
      "source": [
        "table(cartera.train$retrasos)"
      ],
      "metadata": {
        "colab": {
          "base_uri": "https://localhost:8080/",
          "height": 69
        },
        "id": "HUviNNGrTgWG",
        "outputId": "d1968d1e-e98a-4a6e-f358-9a92978931fd"
      },
      "execution_count": null,
      "outputs": [
        {
          "output_type": "display_data",
          "data": {
            "text/plain": [
              "\n",
              "  0   1 \n",
              "487 152 "
            ]
          },
          "metadata": {}
        }
      ]
    },
    {
      "cell_type": "code",
      "source": [
        "library(DMwR)\n",
        "\n",
        "#utilizar SMOTE para crear un nuevo conjunto de datos más equilibrado\n",
        "new_df <- SMOTE(retrasos~., as.data.frame(cartera.train), perc.over = 200, perc.under = 200)\n",
        "\n",
        "#ver la distribución de la variable de respuesta en el nuevo conjunto de datos\n",
        "table(new_df$retrasos)"
      ],
      "metadata": {
        "colab": {
          "base_uri": "https://localhost:8080/",
          "height": 69
        },
        "id": "E81xteIYR1CC",
        "outputId": "7557d625-73c8-475b-abb2-662e3bc0c987"
      },
      "execution_count": null,
      "outputs": [
        {
          "output_type": "display_data",
          "data": {
            "text/plain": [
              "\n",
              "  0   1 \n",
              "608 456 "
            ]
          },
          "metadata": {}
        }
      ]
    },
    {
      "cell_type": "code",
      "source": [
        "##Modelo\n",
        "modelo.SMOTE<-glm(retrasos~.,family=binomial,new_df)\n",
        "#trace=0 impide ver todos los detalles de la optimización stepwise\n",
        "steplogit<-step(modelo.SMOTE, direction=\"both\")\n",
        "summary(steplogit)"
      ],
      "metadata": {
        "colab": {
          "base_uri": "https://localhost:8080/",
          "height": 1000
        },
        "id": "Iz3BA4jaXdGZ",
        "outputId": "945785f2-a298-4bf5-bd75-11bab9afaf3e"
      },
      "execution_count": null,
      "outputs": [
        {
          "output_type": "stream",
          "name": "stdout",
          "text": [
            "Start:  AIC=981.23\n",
            "retrasos ~ MESES + TIPO_ips + IGUAL_DUENO + AGNOS_DIRECCION_ACTUAL + \n",
            "    VENTAS_MENS_PROMEDIO + PORC_PASIVOS_VENTA_ANUAL + cartera_actual_insumos_A + \n",
            "    cartera_actual_insumos_B + TIPOips\n",
            "\n",
            "                           Df Deviance     AIC\n",
            "- cartera_actual_insumos_B  1   955.45  979.45\n",
            "<none>                          955.23  981.23\n",
            "- TIPO_ips                  1   957.82  981.82\n",
            "- MESES                     1   957.87  981.87\n",
            "- VENTAS_MENS_PROMEDIO      1   958.82  982.82\n",
            "- TIPOips                   4   968.36  986.36\n",
            "- AGNOS_DIRECCION_ACTUAL    1   975.00  999.00\n",
            "- PORC_PASIVOS_VENTA_ANUAL  1   978.94 1002.94\n",
            "- cartera_actual_insumos_A  1  1013.01 1037.01\n",
            "- IGUAL_DUENO               1  1064.85 1088.85\n",
            "\n",
            "Step:  AIC=979.45\n",
            "retrasos ~ MESES + TIPO_ips + IGUAL_DUENO + AGNOS_DIRECCION_ACTUAL + \n",
            "    VENTAS_MENS_PROMEDIO + PORC_PASIVOS_VENTA_ANUAL + cartera_actual_insumos_A + \n",
            "    TIPOips\n",
            "\n",
            "                           Df Deviance     AIC\n",
            "<none>                          955.45  979.45\n",
            "- TIPO_ips                  1   958.14  980.14\n",
            "- MESES                     1   958.24  980.24\n",
            "- VENTAS_MENS_PROMEDIO      1   959.14  981.14\n",
            "+ cartera_actual_insumos_B  1   955.23  981.23\n",
            "- TIPOips                   4   968.75  984.75\n",
            "- AGNOS_DIRECCION_ACTUAL    1   975.33  997.33\n",
            "- cartera_actual_insumos_A  1  1013.45 1035.45\n",
            "- PORC_PASIVOS_VENTA_ANUAL  1  1015.35 1037.35\n",
            "- IGUAL_DUENO               1  1067.30 1089.30\n"
          ]
        },
        {
          "output_type": "display_data",
          "data": {
            "text/plain": [
              "\n",
              "Call:\n",
              "glm(formula = retrasos ~ MESES + TIPO_ips + IGUAL_DUENO + AGNOS_DIRECCION_ACTUAL + \n",
              "    VENTAS_MENS_PROMEDIO + PORC_PASIVOS_VENTA_ANUAL + cartera_actual_insumos_A + \n",
              "    TIPOips, family = binomial, data = new_df)\n",
              "\n",
              "Coefficients:\n",
              "                          Estimate Std. Error z value Pr(>|z|)    \n",
              "(Intercept)              -1.767114   0.515284  -3.429 0.000605 ***\n",
              "MESES                     0.023515   0.014065   1.672 0.094559 .  \n",
              "TIPO_ips                  0.442425   0.270819   1.634 0.102332    \n",
              "IGUAL_DUENO              -0.239837   0.024857  -9.649  < 2e-16 ***\n",
              "AGNOS_DIRECCION_ACTUAL   -0.080455   0.018478  -4.354 1.34e-05 ***\n",
              "VENTAS_MENS_PROMEDIO     -0.008717   0.004534  -1.922 0.054559 .  \n",
              "PORC_PASIVOS_VENTA_ANUAL  0.125860   0.016898   7.448 9.47e-14 ***\n",
              "cartera_actual_insumos_A  0.553016   0.086523   6.392 1.64e-10 ***\n",
              "TIPOips2                  0.266725   0.267683   0.996 0.319045    \n",
              "TIPOips3                 -0.188319   0.527892  -0.357 0.721288    \n",
              "TIPOips4                 -1.267082   0.816274  -1.552 0.120596    \n",
              "TIPOips5                  0.337182   1.390133   0.243 0.808351    \n",
              "---\n",
              "Signif. codes:  0 ‘***’ 0.001 ‘**’ 0.01 ‘*’ 0.05 ‘.’ 0.1 ‘ ’ 1\n",
              "\n",
              "(Dispersion parameter for binomial family taken to be 1)\n",
              "\n",
              "    Null deviance: 1453.23  on 1063  degrees of freedom\n",
              "Residual deviance:  955.45  on 1052  degrees of freedom\n",
              "AIC: 979.45\n",
              "\n",
              "Number of Fisher Scoring iterations: 5\n"
            ]
          },
          "metadata": {}
        }
      ]
    },
    {
      "cell_type": "code",
      "source": [
        "#crea el pronóstico en validación\n",
        "probtest<-predict(steplogit,newdata = cartera.test,type='response')\n",
        "prontest<-ifelse(probtest > 0.5,1,0)\n",
        "conftest<-confusionMatrix(as.factor(prontest),cartera.test$retrasos, positive = \"1\")\n",
        "conftest$table\n",
        "conftest$byClass"
      ],
      "metadata": {
        "colab": {
          "base_uri": "https://localhost:8080/",
          "height": 121
        },
        "id": "KLkwjWmvX3F3",
        "outputId": "b0f52d50-31c5-425c-9502-bff6c5b71ae3"
      },
      "execution_count": null,
      "outputs": [
        {
          "output_type": "display_data",
          "data": {
            "text/plain": [
              "          Reference\n",
              "Prediction   0   1\n",
              "         0 131  10\n",
              "         1  41  31"
            ]
          },
          "metadata": {}
        },
        {
          "output_type": "display_data",
          "data": {
            "text/html": [
              "<style>\n",
              ".dl-inline {width: auto; margin:0; padding: 0}\n",
              ".dl-inline>dt, .dl-inline>dd {float: none; width: auto; display: inline-block}\n",
              ".dl-inline>dt::after {content: \":\\0020\"; padding-right: .5ex}\n",
              ".dl-inline>dt:not(:first-of-type) {padding-left: .5ex}\n",
              "</style><dl class=dl-inline><dt>Sensitivity</dt><dd>0.75609756097561</dd><dt>Specificity</dt><dd>0.761627906976744</dd><dt>Pos Pred Value</dt><dd>0.430555555555556</dd><dt>Neg Pred Value</dt><dd>0.929078014184397</dd><dt>Precision</dt><dd>0.430555555555556</dd><dt>Recall</dt><dd>0.75609756097561</dd><dt>F1</dt><dd>0.548672566371681</dd><dt>Prevalence</dt><dd>0.192488262910798</dd><dt>Detection Rate</dt><dd>0.145539906103286</dd><dt>Detection Prevalence</dt><dd>0.338028169014085</dd><dt>Balanced Accuracy</dt><dd>0.758862733976177</dd></dl>\n"
            ],
            "text/markdown": "Sensitivity\n:   0.75609756097561Specificity\n:   0.761627906976744Pos Pred Value\n:   0.430555555555556Neg Pred Value\n:   0.929078014184397Precision\n:   0.430555555555556Recall\n:   0.75609756097561F1\n:   0.548672566371681Prevalence\n:   0.192488262910798Detection Rate\n:   0.145539906103286Detection Prevalence\n:   0.338028169014085Balanced Accuracy\n:   0.758862733976177\n\n",
            "text/latex": "\\begin{description*}\n\\item[Sensitivity] 0.75609756097561\n\\item[Specificity] 0.761627906976744\n\\item[Pos Pred Value] 0.430555555555556\n\\item[Neg Pred Value] 0.929078014184397\n\\item[Precision] 0.430555555555556\n\\item[Recall] 0.75609756097561\n\\item[F1] 0.548672566371681\n\\item[Prevalence] 0.192488262910798\n\\item[Detection Rate] 0.145539906103286\n\\item[Detection Prevalence] 0.338028169014085\n\\item[Balanced Accuracy] 0.758862733976177\n\\end{description*}\n",
            "text/plain": [
              "         Sensitivity          Specificity       Pos Pred Value \n",
              "           0.7560976            0.7616279            0.4305556 \n",
              "      Neg Pred Value            Precision               Recall \n",
              "           0.9290780            0.4305556            0.7560976 \n",
              "                  F1           Prevalence       Detection Rate \n",
              "           0.5486726            0.1924883            0.1455399 \n",
              "Detection Prevalence    Balanced Accuracy \n",
              "           0.3380282            0.7588627 "
            ]
          },
          "metadata": {}
        }
      ]
    },
    {
      "cell_type": "markdown",
      "source": [
        "En este libro de notas hemos realizado modelos de regresión logística binaria para clasificación, y hemos podido revisar aspectos básicos de evaluación de dichos modelos (incluyendo la parte financiera) y la posibilidad de generar un sesgo de balance para aprender más de una clase que nos interesa más."
      ],
      "metadata": {
        "id": "GRr7tbCYNjRm"
      }
    }
  ]
}