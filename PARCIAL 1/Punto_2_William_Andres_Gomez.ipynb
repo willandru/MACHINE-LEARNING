{
  "nbformat": 4,
  "nbformat_minor": 0,
  "metadata": {
    "colab": {
      "provenance": []
    },
    "kernelspec": {
      "name": "ir",
      "display_name": "R"
    },
    "language_info": {
      "name": "R"
    }
  },
  "cells": [
    {
      "cell_type": "markdown",
      "source": [
        "Parcial 1: Fundamentos de Aprendizaje de Maquina\n",
        "\n",
        "Autor: William Andrés Gómez Roa\n",
        "\n",
        "06/09/2024"
      ],
      "metadata": {
        "id": "WUj0OcGp2Tfb"
      }
    },
    {
      "cell_type": "markdown",
      "source": [
        "# **MODELO NAIVE BAYES**\n",
        "\n",
        "**Influencia de características demográficas sobre el ingreso**\n",
        "\n",
        "**Objetivo:** Predicción del ingreso de una persona con base en variables categóricas\n",
        "\n",
        "Dataset: Censo.csv (seleccione 10.000 registros aleatoriamente, tome solo las variables categóricas)\n",
        "\n",
        "Descripciones de los campos:\n",
        "\n",
        "1. **age**: Edad de la persona\n",
        "2. workclass: Clase de trabajo que tiene la persona\n",
        "3. **fnlwgt**: Indicador numérico de la proporción de la población que la persona representa\n",
        "4. **education**: Nivel de educación\n",
        "5. **education_num**: número de años de estudio\n",
        "6. **marital_status**: Estado civil de la persona\n",
        "7. **occupation**: Area en que la persona trabaja\n",
        "8. **relationship**: Tipo de relación que tiene la persona\n",
        "9. **race**: Raza de la persona\n",
        "10. **sex**: Sexo de la persona\n",
        "11. **capital_gain**: Ganancias de capital obtenidas\n",
        "12. **capital_loss**: Pérdidas de capital\n",
        "13. **hours_per_week**: Número medio de horas de trabajo a la semana\n",
        "14. **native_country**: País de origen\n",
        "15. ***salary***: Nivel de ingresos\n",
        "\n",
        "**Preguntas:**\n",
        "\n",
        "1. (12) Dentro de su modelo, ensaye 3 valores del umbral de probabilidad, para decidir si una persona tiene un nivel de ingreso menor o mayor a 50 mil dólares. ¿Cuál valor ofrece el mejor desempeño?"
      ],
      "metadata": {
        "id": "eqrlqYn_Wv8e"
      }
    },
    {
      "cell_type": "markdown",
      "source": [
        "# **SOLUCION**"
      ],
      "metadata": {
        "id": "-ep99crgfJxo"
      }
    },
    {
      "cell_type": "code",
      "execution_count": 57,
      "metadata": {
        "id": "zPq24nqHWAOf"
      },
      "outputs": [],
      "source": [
        "SEED <- 837"
      ]
    },
    {
      "cell_type": "code",
      "source": [
        "censo <- read.csv(\"/content/Censo.csv\")\n",
        "str(censo)"
      ],
      "metadata": {
        "colab": {
          "base_uri": "https://localhost:8080/"
        },
        "id": "gBjog2AJdUwq",
        "outputId": "3e8f901a-ee5d-47fe-8454-e41367659dd0"
      },
      "execution_count": 58,
      "outputs": [
        {
          "output_type": "stream",
          "name": "stdout",
          "text": [
            "'data.frame':\t48842 obs. of  15 variables:\n",
            " $ age            : int  25 38 28 44 18 34 29 63 24 55 ...\n",
            " $ workclass      : chr  \"Private\" \"Private\" \"Local-gov\" \"Private\" ...\n",
            " $ fnlwgt         : int  226802 89814 336951 160323 103497 198693 227026 104626 369667 104996 ...\n",
            " $ education      : chr  \"11th\" \"HS-grad\" \"Assoc-acdm\" \"Some-college\" ...\n",
            " $ educational.num: int  7 9 12 10 10 6 9 15 10 4 ...\n",
            " $ marital.status : chr  \"Never-married\" \"Married-civ-spouse\" \"Married-civ-spouse\" \"Married-civ-spouse\" ...\n",
            " $ occupation     : chr  \"Machine-op-inspct\" \"Farming-fishing\" \"Protective-serv\" \"Machine-op-inspct\" ...\n",
            " $ relationship   : chr  \"Own-child\" \"Husband\" \"Husband\" \"Husband\" ...\n",
            " $ race           : chr  \"Black\" \"White\" \"White\" \"Black\" ...\n",
            " $ gender         : chr  \"Male\" \"Male\" \"Male\" \"Male\" ...\n",
            " $ capital.gain   : int  0 0 0 7688 0 0 0 3103 0 0 ...\n",
            " $ capital.loss   : int  0 0 0 0 0 0 0 0 0 0 ...\n",
            " $ hours.per.week : int  40 50 40 40 30 30 40 32 40 10 ...\n",
            " $ native.country : chr  \"United-States\" \"United-States\" \"United-States\" \"United-States\" ...\n",
            " $ income         : chr  \"<=50K\" \"<=50K\" \">50K\" \">50K\" ...\n"
          ]
        }
      ]
    },
    {
      "cell_type": "code",
      "source": [
        "# seleccione 10.000 registros aleatoriamente, tome solo las variables categóricas\n",
        "set.seed(SEED)\n",
        "censo <- censo[, c(\"workclass\", \"education\", \"marital.status\", \"occupation\",\n",
        "             \"relationship\", \"race\", \"gender\", \"native.country\", \"income\")]\n",
        "censo <- censo[sample(nrow(censo), 10000), ]\n",
        "str(censo)"
      ],
      "metadata": {
        "colab": {
          "base_uri": "https://localhost:8080/"
        },
        "id": "ftFdesl_dUsW",
        "outputId": "239ad980-f25a-4119-d840-62e2be4c817a"
      },
      "execution_count": 59,
      "outputs": [
        {
          "output_type": "stream",
          "name": "stdout",
          "text": [
            "'data.frame':\t10000 obs. of  9 variables:\n",
            " $ workclass     : chr  \"Private\" \"Private\" \"Private\" \"Self-emp-inc\" ...\n",
            " $ education     : chr  \"Bachelors\" \"Bachelors\" \"HS-grad\" \"Some-college\" ...\n",
            " $ marital.status: chr  \"Never-married\" \"Married-civ-spouse\" \"Married-civ-spouse\" \"Married-civ-spouse\" ...\n",
            " $ occupation    : chr  \"Prof-specialty\" \"Prof-specialty\" \"Handlers-cleaners\" \"Exec-managerial\" ...\n",
            " $ relationship  : chr  \"Not-in-family\" \"Husband\" \"Husband\" \"Husband\" ...\n",
            " $ race          : chr  \"White\" \"White\" \"White\" \"White\" ...\n",
            " $ gender        : chr  \"Male\" \"Male\" \"Male\" \"Male\" ...\n",
            " $ native.country: chr  \"United-States\" \"United-States\" \"United-States\" \"United-States\" ...\n",
            " $ income        : chr  \"<=50K\" \">50K\" \"<=50K\" \">50K\" ...\n"
          ]
        }
      ]
    },
    {
      "cell_type": "code",
      "source": [
        "#Entrenamiento y Prueba para censo\n",
        "set.seed(SEED)\n",
        "sample <- sample.int(nrow(censo), floor(.75*nrow(censo)))\n",
        "censo.train <- censo[sample, ]\n",
        "censo.test <- censo[-sample, ]"
      ],
      "metadata": {
        "id": "PC6tlzIydUp-"
      },
      "execution_count": 60,
      "outputs": []
    },
    {
      "cell_type": "markdown",
      "source": [
        "## MODELO NAIVE-BAYES"
      ],
      "metadata": {
        "id": "gStYcHNzfiI0"
      }
    },
    {
      "cell_type": "code",
      "source": [
        "if (!require('e1071')) install.packages('e1071')\n",
        "library(e1071)"
      ],
      "metadata": {
        "id": "JvyiAaRcgmT1"
      },
      "execution_count": 61,
      "outputs": []
    },
    {
      "cell_type": "code",
      "source": [
        "naivetest<-naiveBayes(censo.train$income~.,censo.train)"
      ],
      "metadata": {
        "id": "xRe96jlsdUhC"
      },
      "execution_count": 62,
      "outputs": []
    },
    {
      "cell_type": "code",
      "source": [
        "#tasas base\n",
        "naivetest$apriori"
      ],
      "metadata": {
        "colab": {
          "base_uri": "https://localhost:8080/",
          "height": 69
        },
        "id": "9XiMlZ-ZgzpN",
        "outputId": "4bd2df58-c538-413d-e916-2e9e860e875f"
      },
      "execution_count": 63,
      "outputs": [
        {
          "output_type": "display_data",
          "data": {
            "text/plain": [
              "Y\n",
              "<=50K  >50K \n",
              " 5748  1752 "
            ]
          },
          "metadata": {}
        }
      ]
    },
    {
      "cell_type": "code",
      "source": [
        "naivetest$tables$gender"
      ],
      "metadata": {
        "colab": {
          "base_uri": "https://localhost:8080/",
          "height": 86
        },
        "id": "50ciIkY9gzlU",
        "outputId": "3fbd9b1f-53c8-406a-dc73-d0d498fcae1a"
      },
      "execution_count": 64,
      "outputs": [
        {
          "output_type": "display_data",
          "data": {
            "text/plain": [
              "       gender\n",
              "Y          Female      Male\n",
              "  <=50K 0.3856994 0.6143006\n",
              "  >50K  0.1335616 0.8664384"
            ]
          },
          "metadata": {}
        }
      ]
    },
    {
      "cell_type": "markdown",
      "source": [
        "## EVALUANDO EL MODELO"
      ],
      "metadata": {
        "id": "VIn1ItallDaW"
      }
    },
    {
      "cell_type": "code",
      "source": [
        "probabilidades <- predict(naivetest, censo.test, type=\"raw\")\n",
        "dim(probabilidades)"
      ],
      "metadata": {
        "colab": {
          "base_uri": "https://localhost:8080/",
          "height": 34
        },
        "id": "x272Cw-dhtPo",
        "outputId": "1a1659d6-f5c0-4928-a17f-043c3fea5745"
      },
      "execution_count": 65,
      "outputs": [
        {
          "output_type": "display_data",
          "data": {
            "text/html": [
              "<style>\n",
              ".list-inline {list-style: none; margin:0; padding: 0}\n",
              ".list-inline>li {display: inline-block}\n",
              ".list-inline>li:not(:last-child)::after {content: \"\\00b7\"; padding: 0 .5ex}\n",
              "</style>\n",
              "<ol class=list-inline><li>2500</li><li>2</li></ol>\n"
            ],
            "text/markdown": "1. 2500\n2. 2\n\n\n",
            "text/latex": "\\begin{enumerate*}\n\\item 2500\n\\item 2\n\\end{enumerate*}\n",
            "text/plain": [
              "[1] 2500    2"
            ]
          },
          "metadata": {}
        }
      ]
    },
    {
      "cell_type": "markdown",
      "source": [
        "A continuación se presenta una función que permite evaluar las probilidades obtenidas con 'predict' utilizando el modelo entrenado y los datos de prueba. Esta funcion utiliza el valor de **censo.test$income** para verificar si la prediccion fue correcta o no, según el umbral escogido.\n",
        "\n",
        "Se calculan las métricas de evaluación: TP, FP, TN, FN, para posteriormente calcular el indice de la 'Precision' y poder evlauar los umbrales seleccionados."
      ],
      "metadata": {
        "id": "SAmC-Cv5h2AH"
      }
    },
    {
      "cell_type": "code",
      "source": [
        "contar_clases_por_umbral <- function(probabilidades, censo_test_income, umbral) {\n",
        "  # Inicializar contadores\n",
        "  contador_clase_1 <- 0\n",
        "  contador_clase_2 <- 0\n",
        "  TP <- 0\n",
        "  FP <- 0\n",
        "  TN <- 0\n",
        "  FN <- 0\n",
        "\n",
        "  # Convertir income en factor para comparación\n",
        "  clase_real <- ifelse(censo_test_income == \">50K\", \">50K\", \"<=50K\")\n",
        "\n",
        "  # Inicializar vectores para guardar clasificaciones y si son correctas\n",
        "  clasificaciones <- character(length(censo_test_income))\n",
        "\n",
        "  # Recorrer las probabilidades y contar las frecuencias para el umbral dado\n",
        "  for (i in 1:length(censo_test_income)) {\n",
        "    if (probabilidades[i, 2] > umbral) {\n",
        "      clasificaciones[i] <- \">50K\"\n",
        "      contador_clase_2 <- contador_clase_2 + 1\n",
        "    } else {\n",
        "      clasificaciones[i] <- \"<=50K\"\n",
        "      contador_clase_1 <- contador_clase_1 + 1\n",
        "    }\n",
        "\n",
        "    # Actualizar contadores de TP, FP, TN, FN\n",
        "    if (clasificaciones[i] == \">50K\" && clase_real[i] == \">50K\") {\n",
        "      TP <- TP + 1\n",
        "    } else if (clasificaciones[i] == \">50K\" && clase_real[i] == \"<=50K\") {\n",
        "      FP <- FP + 1\n",
        "    } else if (clasificaciones[i] == \"<=50K\" && clase_real[i] == \"<=50K\") {\n",
        "      TN <- TN + 1\n",
        "    } else if (clasificaciones[i] == \"<=50K\" && clase_real[i] == \">50K\") {\n",
        "      FN <- FN + 1\n",
        "    }\n",
        "  }\n",
        "\n",
        "  # Calcular precisión\n",
        "  precision <- ifelse((TP + FP) == 0, NA, TP / (TP + FP))\n",
        "\n",
        "  # Crear un dataframe con las frecuencias\n",
        "  frecuencias <- data.frame(\n",
        "    Clase = c(\"<=50K\", \">50K\"),\n",
        "    Frecuencia = c(contador_clase_1, contador_clase_2)\n",
        "  )\n",
        "\n",
        "  # Crear un dataframe con las clasificaciones\n",
        "  resultados <- data.frame(\n",
        "    Clasificacion = clasificaciones,\n",
        "    Real = clase_real\n",
        "  )\n",
        "\n",
        "  return(list(Frecuencias = frecuencias, Resultados = resultados, Precision = precision))\n",
        "}"
      ],
      "metadata": {
        "id": "bJE7AjUIkfFm"
      },
      "execution_count": 66,
      "outputs": []
    },
    {
      "cell_type": "markdown",
      "source": [
        "**UMBRAL: 0.4**"
      ],
      "metadata": {
        "id": "GOdJlnxmjaq6"
      }
    },
    {
      "cell_type": "code",
      "source": [
        "umbral <- 0.4\n",
        "resultado <- contar_clases_por_umbral(probabilidades, censo.test$income, umbral)\n",
        "# Mostrar frecuencias y precisión\n",
        "print(resultado$Frecuencias)\n",
        "print(paste(\"Precisión:\", resultado$Precision))"
      ],
      "metadata": {
        "colab": {
          "base_uri": "https://localhost:8080/"
        },
        "id": "5Z77mnYXjaP6",
        "outputId": "292bedf2-48f4-43e8-bf99-7e448e5e5ac3"
      },
      "execution_count": 67,
      "outputs": [
        {
          "output_type": "stream",
          "name": "stdout",
          "text": [
            "  Clase Frecuencia\n",
            "1 <=50K       1633\n",
            "2  >50K        867\n",
            "[1] \"Precisión: 0.521337946943483\"\n"
          ]
        }
      ]
    },
    {
      "cell_type": "markdown",
      "source": [
        "**UMBRAL: 0.5**"
      ],
      "metadata": {
        "id": "3VGS6rEQjaG5"
      }
    },
    {
      "cell_type": "code",
      "source": [
        "umbral <- 0.5\n",
        "resultado <- contar_clases_por_umbral(probabilidades, censo.test$income, umbral)\n",
        "\n",
        "# Mostrar frecuencias y precisión\n",
        "print(resultado$Frecuencias)\n",
        "print(paste(\"Precisión:\", resultado$Precision))"
      ],
      "metadata": {
        "colab": {
          "base_uri": "https://localhost:8080/"
        },
        "id": "VhPi1yPgjZ1T",
        "outputId": "42700440-9b59-491d-928e-37029d5a55c1"
      },
      "execution_count": 68,
      "outputs": [
        {
          "output_type": "stream",
          "name": "stdout",
          "text": [
            "  Clase Frecuencia\n",
            "1 <=50K       1728\n",
            "2  >50K        772\n",
            "[1] \"Precisión: 0.555699481865285\"\n"
          ]
        }
      ]
    },
    {
      "cell_type": "markdown",
      "source": [
        "**UMBRAL: 0.8**"
      ],
      "metadata": {
        "id": "k4tYJ1zlk8HE"
      }
    },
    {
      "cell_type": "code",
      "source": [
        "umbral <- 0.8\n",
        "resultado <- contar_clases_por_umbral(probabilidades, censo.test$income, umbral)\n",
        "\n",
        "# Mostrar frecuencias y precisión\n",
        "print(resultado$Frecuencias)\n",
        "print(paste(\"Precisión:\", resultado$Precision))"
      ],
      "metadata": {
        "colab": {
          "base_uri": "https://localhost:8080/"
        },
        "id": "E0Delzbql5h6",
        "outputId": "6ea36b32-67dd-449b-ce7d-ff91a40ae4e6"
      },
      "execution_count": 69,
      "outputs": [
        {
          "output_type": "stream",
          "name": "stdout",
          "text": [
            "  Clase Frecuencia\n",
            "1 <=50K       2076\n",
            "2  >50K        424\n",
            "[1] \"Precisión: 0.683962264150943\"\n"
          ]
        }
      ]
    },
    {
      "cell_type": "markdown",
      "source": [
        "# **RESPUESTA**\n",
        "\n",
        "EL valor que ofrece el mejor desempeño es el umbral de 0.8 utilizando la metrica de 'Presicion'."
      ],
      "metadata": {
        "id": "g7x9kjiq4DCQ"
      }
    }
  ]
}