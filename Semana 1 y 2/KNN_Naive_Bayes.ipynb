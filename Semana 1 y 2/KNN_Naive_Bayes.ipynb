{
  "nbformat": 4,
  "nbformat_minor": 0,
  "metadata": {
    "colab": {
      "provenance": []
    },
    "kernelspec": {
      "name": "ir",
      "display_name": "R"
    },
    "language_info": {
      "name": "R"
    }
  },
  "cells": [
    {
      "cell_type": "markdown",
      "source": [
        "# **Dos modelos básicos de clasificación: KNN y Bayes ingenuo**"
      ],
      "metadata": {
        "id": "lJ22k9bRALyt"
      }
    },
    {
      "cell_type": "markdown",
      "source": [
        "El objetivo de este libro de notas es presentar las técnicas de K vecinos más cercanos y Naive Bayes como alternativas al problema de clasificación."
      ],
      "metadata": {
        "id": "87wIS6P-AZ5G"
      }
    },
    {
      "cell_type": "code",
      "source": [
        "if (!require('readxl')) install.packages('readxl')\n",
        "if (!require('caret')) install.packages('caret')\n",
        "if (!require('MLmetrics')) install.packages('MLmetrics')\n",
        "if (!require('e1071')) install.packages('e1071')"
      ],
      "metadata": {
        "colab": {
          "base_uri": "https://localhost:8080/"
        },
        "id": "HqVX28ASaoDa",
        "outputId": "5b6b0f93-4ded-4602-8e2b-4e6fa9a826ea"
      },
      "execution_count": 1,
      "outputs": [
        {
          "output_type": "stream",
          "name": "stderr",
          "text": [
            "Loading required package: readxl\n",
            "\n",
            "Loading required package: caret\n",
            "\n",
            "Warning message in library(package, lib.loc = lib.loc, character.only = TRUE, logical.return = TRUE, :\n",
            "“there is no package called ‘caret’”\n",
            "Installing package into ‘/usr/local/lib/R/site-library’\n",
            "(as ‘lib’ is unspecified)\n",
            "\n",
            "also installing the dependencies ‘listenv’, ‘parallelly’, ‘future’, ‘globals’, ‘shape’, ‘future.apply’, ‘numDeriv’, ‘progressr’, ‘SQUAREM’, ‘diagram’, ‘lava’, ‘prodlim’, ‘proxy’, ‘iterators’, ‘Rcpp’, ‘clock’, ‘gower’, ‘hardhat’, ‘ipred’, ‘timeDate’, ‘e1071’, ‘foreach’, ‘ModelMetrics’, ‘plyr’, ‘pROC’, ‘recipes’, ‘reshape2’\n",
            "\n",
            "\n",
            "Loading required package: MLmetrics\n",
            "\n",
            "Warning message in library(package, lib.loc = lib.loc, character.only = TRUE, logical.return = TRUE, :\n",
            "“there is no package called ‘MLmetrics’”\n",
            "Installing package into ‘/usr/local/lib/R/site-library’\n",
            "(as ‘lib’ is unspecified)\n",
            "\n",
            "also installing the dependencies ‘bitops’, ‘gtools’, ‘caTools’, ‘gplots’, ‘ROCR’\n",
            "\n",
            "\n",
            "Loading required package: e1071\n",
            "\n"
          ]
        }
      ]
    },
    {
      "cell_type": "markdown",
      "source": [
        "## **KNN**"
      ],
      "metadata": {
        "id": "HIBSJBbpAjnf"
      }
    },
    {
      "cell_type": "markdown",
      "source": [
        "#Data and business understanding"
      ],
      "metadata": {
        "id": "LeR1pGrfAlcW"
      }
    },
    {
      "cell_type": "code",
      "execution_count": 2,
      "metadata": {
        "id": "8pJ_LP61aai0",
        "colab": {
          "base_uri": "https://localhost:8080/"
        },
        "outputId": "20994438-b962-4c6a-f6ea-c644fd10cad9"
      },
      "outputs": [
        {
          "output_type": "stream",
          "name": "stderr",
          "text": [
            "Loading required package: ggplot2\n",
            "\n",
            "Loading required package: lattice\n",
            "\n",
            "\n",
            "Attaching package: ‘MLmetrics’\n",
            "\n",
            "\n",
            "The following objects are masked from ‘package:caret’:\n",
            "\n",
            "    MAE, RMSE\n",
            "\n",
            "\n",
            "The following object is masked from ‘package:base’:\n",
            "\n",
            "    Recall\n",
            "\n",
            "\n"
          ]
        }
      ],
      "source": [
        "library(readxl)\n",
        "library(caret)\n",
        "library(MLmetrics)\n",
        "library(ROCR)\n",
        "library(e1071)"
      ]
    },
    {
      "cell_type": "markdown",
      "source": [
        "Trabajaremos con el contexto del archivo de cartera de empresas. Para mantener los libros de nota modulares, repetiré aquí el contexto:"
      ],
      "metadata": {
        "id": "MYWBGlMxA5u2"
      }
    },
    {
      "cell_type": "code",
      "source": [
        "cartera<-read_excel(\"carteraguia2017.xlsx\")"
      ],
      "metadata": {
        "id": "CrmPvtsWaho-"
      },
      "execution_count": 3,
      "outputs": []
    },
    {
      "cell_type": "code",
      "source": [
        "str(cartera)"
      ],
      "metadata": {
        "id": "qU3MWYapeB3v",
        "colab": {
          "base_uri": "https://localhost:8080/"
        },
        "outputId": "4d5cea23-577b-452d-fabc-a213d393e98a"
      },
      "execution_count": 4,
      "outputs": [
        {
          "output_type": "stream",
          "name": "stdout",
          "text": [
            "tibble [852 × 9] (S3: tbl_df/tbl/data.frame)\n",
            " $ MESES                   : num [1:852] 41 27 40 41 24 41 39 43 24 36 ...\n",
            " $ TIPO_ips                : num [1:852] 3 1 1 1 2 2 1 1 1 1 ...\n",
            " $ IGUAL_DUENO             : num [1:852] 17 10 15 15 2 5 20 12 3 0 ...\n",
            " $ AGNOS_DIRECCION_ACTUAL  : num [1:852] 12 6 14 14 0 5 9 11 4 13 ...\n",
            " $ VENTAS_MENS_PROMEDIO    : num [1:852] 176 31 55 120 28 25 67 38 19 25 ...\n",
            " $ PORC_PASIVOS_VENTA_ANUAL: num [1:852] 9.3 17.3 5.5 2.9 17.3 10.2 30.6 3.6 24.4 19.7 ...\n",
            " $ cartera_actual_insumos_A: num [1:852] 11.359 1.362 0.856 2.659 1.787 ...\n",
            " $ cartera_actual_insumos_B: num [1:852] 5.009 4.001 2.169 0.821 3.057 ...\n",
            " $ retrasos                : num [1:852] 1 0 0 0 1 0 0 0 1 0 ...\n"
          ]
        }
      ]
    },
    {
      "cell_type": "markdown",
      "source": [
        "El archivo contiene datos de clientes de un proveedor de instituciones de salud (IPS), la cartera que presentan y si se han retrasado o no. Se trata entonces de un negocio B2B en el sector de la salud que desea predecir o averiguar indicadores de posibles aumentos y retrasos en su cartera\n",
        "\n",
        "Entre las variables predictoras se incluyen:\n",
        "\n",
        "MESES: Los meses que la empresa lleva siendo clientes del proveedor.\n",
        "\n",
        "Tipo_IPS: De 1 a5, el nivel de complejidad de la institución de salud cliente (1=bajo, 5=alto)\n",
        "\n",
        "IGUAL_DUEÑO: Número de años en que la IPS ha tenido el mismo dueño.\n",
        "\n",
        "AGNOS_DIRECCION_ACTUAL: Número de años en que la IPS ha estado en la misma dirección.\n",
        "\n",
        "VENTAS_MENS_PROMEDIO: Valor de ventas mensuales promedio de la IPS en millones de pesos.\n",
        "\n",
        "PORC_PASIVOS_VENTA_ANUAL: Porcentaje de pasivos/ venta anual del último balance disponible.\n",
        "\n",
        "CARTERA_ACTUAL_INSUMOS_A: Valor de la deuda con el proveedor en insumos de alta rotación (gasa, jeringas, por ejemplo) en millones de pesos.\n",
        "\n",
        "CARTERA_ACTUAL_INSUMOS_B: Valor de la deuda con el proveedor en insumos de baja rotación (equipos, instrumentos, por ejemplo) en millones de pesos.\n",
        "\n",
        "La variable a predecir son los RETRASOS, que indican sí el cliente se ha retrasado o no, siendo 1=sí y 0=No."
      ],
      "metadata": {
        "id": "8wfBWN2oA9oG"
      }
    },
    {
      "cell_type": "markdown",
      "source": [
        "# Data preparation"
      ],
      "metadata": {
        "id": "LpK2hTtRA_pH"
      }
    },
    {
      "cell_type": "markdown",
      "source": [
        "Primero vamos a convertir a factores las dos variables que lo requieren: Tipo IPS y Retrasos. También vamos a crear variables binarias para los tipos de IPS y luego retirar la variable TIPO IPS."
      ],
      "metadata": {
        "id": "ZSwpnMobBH62"
      }
    },
    {
      "cell_type": "code",
      "source": [
        "cartera$TIPOips<-as.factor(cartera$TIPO_ips)"
      ],
      "metadata": {
        "id": "BRgd_ofocvkI"
      },
      "execution_count": 5,
      "outputs": []
    },
    {
      "cell_type": "code",
      "source": [
        "##Crea un set completo de variables dummy\n",
        "carterawin<-dummyVars(\"~.\",data=cartera)\n",
        "carterafin<-as.data.frame(predict(carterawin,newdata=cartera))\n",
        "carterafin2<-within(carterafin,rm(TIPOips.5,TIPO_ips))\n",
        "carterafin2$retrasos<-as.factor(carterafin2$retrasos)\n",
        "carterafin2$retrasos<-factor(carterafin2$retrasos,ordered=TRUE, levels=c(\"0\",\"1\"))"
      ],
      "metadata": {
        "id": "8Ix3M13t9tWW"
      },
      "execution_count": 6,
      "outputs": []
    },
    {
      "cell_type": "markdown",
      "source": [
        "Dado que la técnica de k vecinos más cercanos se basa en la idea de encontrar los k vecinos más cercanos de un caso a clasificar, es necesario definir una métrica de distancia entre casos, y calcular dicha distancia, por lo que aplican todas las recomendaciones trabajadas en clustering. En particular, en este caso, vamos a estandarizar la base de datos para evitar los efectos debido a la diversidad de unidades."
      ],
      "metadata": {
        "id": "BcXYTFUxBJPH"
      }
    },
    {
      "cell_type": "code",
      "source": [
        "# estandarización de las variables escalares\n",
        "carterafin2[1:7]<-scale(carterafin2[1:7])"
      ],
      "metadata": {
        "id": "Quf5A2xQc2h4"
      },
      "execution_count": 7,
      "outputs": []
    },
    {
      "cell_type": "code",
      "source": [
        "head(carterafin2)"
      ],
      "metadata": {
        "colab": {
          "base_uri": "https://localhost:8080/",
          "height": 306
        },
        "id": "kVS6i4PMFLLa",
        "outputId": "3dad20c9-93ca-43fb-b05a-bcae146fbf22"
      },
      "execution_count": null,
      "outputs": [
        {
          "output_type": "display_data",
          "data": {
            "text/html": [
              "<table class=\"dataframe\">\n",
              "<caption>A data.frame: 6 × 12</caption>\n",
              "<thead>\n",
              "\t<tr><th></th><th scope=col>MESES</th><th scope=col>IGUAL_DUENO</th><th scope=col>AGNOS_DIRECCION_ACTUAL</th><th scope=col>VENTAS_MENS_PROMEDIO</th><th scope=col>PORC_PASIVOS_VENTA_ANUAL</th><th scope=col>cartera_actual_insumos_A</th><th scope=col>cartera_actual_insumos_B</th><th scope=col>retrasos</th><th scope=col>TIPOips.1</th><th scope=col>TIPOips.2</th><th scope=col>TIPOips.3</th><th scope=col>TIPOips.4</th></tr>\n",
              "\t<tr><th></th><th scope=col>&lt;dbl&gt;</th><th scope=col>&lt;dbl&gt;</th><th scope=col>&lt;dbl&gt;</th><th scope=col>&lt;dbl&gt;</th><th scope=col>&lt;dbl&gt;</th><th scope=col>&lt;dbl&gt;</th><th scope=col>&lt;dbl&gt;</th><th scope=col>&lt;ord&gt;</th><th scope=col>&lt;dbl&gt;</th><th scope=col>&lt;dbl&gt;</th><th scope=col>&lt;dbl&gt;</th><th scope=col>&lt;dbl&gt;</th></tr>\n",
              "</thead>\n",
              "<tbody>\n",
              "\t<tr><th scope=row>1</th><td> 0.7394154</td><td> 1.2444470</td><td> 0.5257279</td><td> 3.3448611</td><td>-0.128719795</td><td> 4.60683218</td><td> 0.568997105</td><td>1</td><td>0</td><td>0</td><td>1</td><td>0</td></tr>\n",
              "\t<tr><th scope=row>2</th><td>-0.9825188</td><td> 0.2117655</td><td>-0.3451474</td><td>-0.4092648</td><td> 1.062851741</td><td>-0.09985187</td><td> 0.272150085</td><td>0</td><td>1</td><td>0</td><td>0</td><td>0</td></tr>\n",
              "\t<tr><th scope=row>3</th><td> 0.6164201</td><td> 0.9493951</td><td> 0.8160197</td><td> 0.2121078</td><td>-0.694716274</td><td>-0.33813682</td><td>-0.267421897</td><td>0</td><td>1</td><td>0</td><td>0</td><td>0</td></tr>\n",
              "\t<tr><th scope=row>4</th><td> 0.7394154</td><td> 0.9493951</td><td> 0.8160197</td><td> 1.8949918</td><td>-1.081977023</td><td> 0.51054971</td><td>-0.664366164</td><td>0</td><td>1</td><td>0</td><td>0</td><td>0</td></tr>\n",
              "\t<tr><th scope=row>5</th><td>-1.3515047</td><td>-0.9684419</td><td>-1.2160226</td><td>-0.4869363</td><td> 1.062851741</td><td> 0.10034859</td><td>-0.005970839</td><td>1</td><td>0</td><td>1</td><td>0</td><td>0</td></tr>\n",
              "\t<tr><th scope=row>6</th><td> 0.7394154</td><td>-0.5258641</td><td>-0.4902932</td><td>-0.5646079</td><td> 0.005332003</td><td>-0.55629409</td><td>-0.270846002</td><td>0</td><td>0</td><td>1</td><td>0</td><td>0</td></tr>\n",
              "</tbody>\n",
              "</table>\n"
            ],
            "text/markdown": "\nA data.frame: 6 × 12\n\n| <!--/--> | MESES &lt;dbl&gt; | IGUAL_DUENO &lt;dbl&gt; | AGNOS_DIRECCION_ACTUAL &lt;dbl&gt; | VENTAS_MENS_PROMEDIO &lt;dbl&gt; | PORC_PASIVOS_VENTA_ANUAL &lt;dbl&gt; | cartera_actual_insumos_A &lt;dbl&gt; | cartera_actual_insumos_B &lt;dbl&gt; | retrasos &lt;ord&gt; | TIPOips.1 &lt;dbl&gt; | TIPOips.2 &lt;dbl&gt; | TIPOips.3 &lt;dbl&gt; | TIPOips.4 &lt;dbl&gt; |\n|---|---|---|---|---|---|---|---|---|---|---|---|---|\n| 1 |  0.7394154 |  1.2444470 |  0.5257279 |  3.3448611 | -0.128719795 |  4.60683218 |  0.568997105 | 1 | 0 | 0 | 1 | 0 |\n| 2 | -0.9825188 |  0.2117655 | -0.3451474 | -0.4092648 |  1.062851741 | -0.09985187 |  0.272150085 | 0 | 1 | 0 | 0 | 0 |\n| 3 |  0.6164201 |  0.9493951 |  0.8160197 |  0.2121078 | -0.694716274 | -0.33813682 | -0.267421897 | 0 | 1 | 0 | 0 | 0 |\n| 4 |  0.7394154 |  0.9493951 |  0.8160197 |  1.8949918 | -1.081977023 |  0.51054971 | -0.664366164 | 0 | 1 | 0 | 0 | 0 |\n| 5 | -1.3515047 | -0.9684419 | -1.2160226 | -0.4869363 |  1.062851741 |  0.10034859 | -0.005970839 | 1 | 0 | 1 | 0 | 0 |\n| 6 |  0.7394154 | -0.5258641 | -0.4902932 | -0.5646079 |  0.005332003 | -0.55629409 | -0.270846002 | 0 | 0 | 1 | 0 | 0 |\n\n",
            "text/latex": "A data.frame: 6 × 12\n\\begin{tabular}{r|llllllllllll}\n  & MESES & IGUAL\\_DUENO & AGNOS\\_DIRECCION\\_ACTUAL & VENTAS\\_MENS\\_PROMEDIO & PORC\\_PASIVOS\\_VENTA\\_ANUAL & cartera\\_actual\\_insumos\\_A & cartera\\_actual\\_insumos\\_B & retrasos & TIPOips.1 & TIPOips.2 & TIPOips.3 & TIPOips.4\\\\\n  & <dbl> & <dbl> & <dbl> & <dbl> & <dbl> & <dbl> & <dbl> & <ord> & <dbl> & <dbl> & <dbl> & <dbl>\\\\\n\\hline\n\t1 &  0.7394154 &  1.2444470 &  0.5257279 &  3.3448611 & -0.128719795 &  4.60683218 &  0.568997105 & 1 & 0 & 0 & 1 & 0\\\\\n\t2 & -0.9825188 &  0.2117655 & -0.3451474 & -0.4092648 &  1.062851741 & -0.09985187 &  0.272150085 & 0 & 1 & 0 & 0 & 0\\\\\n\t3 &  0.6164201 &  0.9493951 &  0.8160197 &  0.2121078 & -0.694716274 & -0.33813682 & -0.267421897 & 0 & 1 & 0 & 0 & 0\\\\\n\t4 &  0.7394154 &  0.9493951 &  0.8160197 &  1.8949918 & -1.081977023 &  0.51054971 & -0.664366164 & 0 & 1 & 0 & 0 & 0\\\\\n\t5 & -1.3515047 & -0.9684419 & -1.2160226 & -0.4869363 &  1.062851741 &  0.10034859 & -0.005970839 & 1 & 0 & 1 & 0 & 0\\\\\n\t6 &  0.7394154 & -0.5258641 & -0.4902932 & -0.5646079 &  0.005332003 & -0.55629409 & -0.270846002 & 0 & 0 & 1 & 0 & 0\\\\\n\\end{tabular}\n",
            "text/plain": [
              "  MESES      IGUAL_DUENO AGNOS_DIRECCION_ACTUAL VENTAS_MENS_PROMEDIO\n",
              "1  0.7394154  1.2444470   0.5257279              3.3448611          \n",
              "2 -0.9825188  0.2117655  -0.3451474             -0.4092648          \n",
              "3  0.6164201  0.9493951   0.8160197              0.2121078          \n",
              "4  0.7394154  0.9493951   0.8160197              1.8949918          \n",
              "5 -1.3515047 -0.9684419  -1.2160226             -0.4869363          \n",
              "6  0.7394154 -0.5258641  -0.4902932             -0.5646079          \n",
              "  PORC_PASIVOS_VENTA_ANUAL cartera_actual_insumos_A cartera_actual_insumos_B\n",
              "1 -0.128719795              4.60683218               0.568997105            \n",
              "2  1.062851741             -0.09985187               0.272150085            \n",
              "3 -0.694716274             -0.33813682              -0.267421897            \n",
              "4 -1.081977023              0.51054971              -0.664366164            \n",
              "5  1.062851741              0.10034859              -0.005970839            \n",
              "6  0.005332003             -0.55629409              -0.270846002            \n",
              "  retrasos TIPOips.1 TIPOips.2 TIPOips.3 TIPOips.4\n",
              "1 1        0         0         1         0        \n",
              "2 0        1         0         0         0        \n",
              "3 0        1         0         0         0        \n",
              "4 0        1         0         0         0        \n",
              "5 1        0         1         0         0        \n",
              "6 0        0         1         0         0        "
            ]
          },
          "metadata": {}
        }
      ]
    },
    {
      "cell_type": "markdown",
      "source": [
        "Por último, creemos bases de entrenamiento y validación"
      ],
      "metadata": {
        "id": "0bspyki0BNsH"
      }
    },
    {
      "cell_type": "code",
      "source": [
        "set.seed(1)\n",
        "#aquí se define el tamaño de la muestra, en este caso entrenamiento tendrá el 75% de los casos\n",
        "sample <- sample.int(nrow(carterafin2), floor(.75*nrow(carterafin2)))\n",
        "cartera.train <- carterafin2[sample, ]\n",
        "cartera.test <- carterafin2[-sample, ]\n",
        "\n",
        "cartera.train1 <- cartera.train\n",
        "cartera.test1 <- cartera.test"
      ],
      "metadata": {
        "id": "MKDPZiXLhEB_"
      },
      "execution_count": 8,
      "outputs": []
    },
    {
      "cell_type": "markdown",
      "source": [
        "# Modelling"
      ],
      "metadata": {
        "id": "F3ka24guBPjA"
      }
    },
    {
      "cell_type": "markdown",
      "source": [
        "Para crear el modelo de k vecinos más cercanos es necesario tomar un caso de la base de datos de prueba y calcular sus k vecinos más cercanos de la base de datos de entrenamiento. La categoría a la que pertenezcan la mayoría de estos k vecinos más cercanos en la base de entrenamiento será la categoría asignadad al caso en la base de datos de prueba.\n",
        "\n",
        "Para encontrar los k vecinos más cercanos más cercanos se usa una métrica de distancia, que por defecto es la distancia euclídea.\n",
        "\n",
        "La selección del valor de k es importante, puesto que a menor k, mayor posibilidad de ruido en la clasificación, pero a mayor k, más cercano el resultado a un modelo ingenuo (promedio).\n",
        "\n",
        "Por ello k se configura como un hiperaparámetro, que puede ser sintonizado con ayuda de la validación cruzada en la base de datos de entrenamiento, como se ve a continuación."
      ],
      "metadata": {
        "id": "ALANzjaGBQ2x"
      }
    },
    {
      "cell_type": "code",
      "source": [
        "# creo parámetros de validación cruzada\n",
        "set.seed(1)\n",
        "cross<-trainControl(method=\"cv\",number=10)\n",
        "modeloknn1<-train(retrasos~.,method=\"knn\",\n",
        "                  tuneGrid=expand.grid(k=1:30),\n",
        "                  trControl=cross,\n",
        "                  metric=\"Accuracy\",\n",
        "                  data=cartera.train)"
      ],
      "metadata": {
        "id": "TdFBJ3iBdGCt"
      },
      "execution_count": 9,
      "outputs": []
    },
    {
      "cell_type": "code",
      "source": [
        "modeloknn1\n",
        "plot(modeloknn1)"
      ],
      "metadata": {
        "id": "rGCAA5c5dRbf",
        "colab": {
          "base_uri": "https://localhost:8080/",
          "height": 1000
        },
        "outputId": "d1af4110-a606-483c-ded9-4ed8de3369b5"
      },
      "execution_count": 10,
      "outputs": [
        {
          "output_type": "display_data",
          "data": {
            "text/plain": [
              "k-Nearest Neighbors \n",
              "\n",
              "639 samples\n",
              " 11 predictor\n",
              "  2 classes: '0', '1' \n",
              "\n",
              "No pre-processing\n",
              "Resampling: Cross-Validated (10 fold) \n",
              "Summary of sample sizes: 576, 575, 575, 575, 575, 576, ... \n",
              "Resampling results across tuning parameters:\n",
              "\n",
              "  k   Accuracy   Kappa    \n",
              "   1  0.7183627  0.1928715\n",
              "   2  0.7277640  0.2126348\n",
              "   3  0.7701755  0.3152114\n",
              "   4  0.7544521  0.2710927\n",
              "   5  0.7858013  0.3436148\n",
              "   6  0.7826763  0.3283135\n",
              "   7  0.7746909  0.3002801\n",
              "   8  0.7794040  0.2958575\n",
              "   9  0.7904392  0.3364024\n",
              "  10  0.7826507  0.3134708\n",
              "  11  0.7951019  0.3374670\n",
              "  12  0.7856780  0.3071638\n",
              "  13  0.7951011  0.3203352\n",
              "  14  0.7920009  0.3107366\n",
              "  15  0.7919754  0.3020434\n",
              "  16  0.7888271  0.2834564\n",
              "  17  0.7951748  0.3139330\n",
              "  18  0.7763992  0.2377469\n",
              "  19  0.7904384  0.2914500\n",
              "  20  0.7936363  0.2999731\n",
              "  21  0.7904640  0.2911545\n",
              "  22  0.7890240  0.2908548\n",
              "  23  0.7826996  0.2560217\n",
              "  24  0.7795002  0.2400690\n",
              "  25  0.7842613  0.2562885\n",
              "  26  0.7889000  0.2759173\n",
              "  27  0.7873863  0.2578551\n",
              "  28  0.7904873  0.2604728\n",
              "  29  0.7889248  0.2609797\n",
              "  30  0.7842373  0.2546492\n",
              "\n",
              "Accuracy was used to select the optimal model using the largest value.\n",
              "The final value used for the model was k = 17."
            ]
          },
          "metadata": {}
        },
        {
          "output_type": "display_data",
          "data": {
            "text/plain": [
              "plot without title"
            ],
            "image/png": "[encoded data removed]"
          },
          "metadata": {
            "image/png": {
              "width": 420,
              "height": 420
            }
          }
        }
      ]
    },
    {
      "cell_type": "markdown",
      "source": [
        "De los resultados obtenidos podríamos decir que el modelo más parsimonioso con buenos resultados usa k=5, y el modelo seleccionado por el método es de k=17. Sin embargo nótese que estamos usando como medida de precisión “accuracy”. Dado el ligero desbalance de la base de datos, y que nos interesa particularmente predecir los retrasos, quizás sea mejor utilizar otra métrica.\n",
        "\n",
        "Para poder ver precisión y exhaustividad, hacemos algunos cambios sobre la métrica a manejar."
      ],
      "metadata": {
        "id": "JMdnPl_WBV6X"
      }
    },
    {
      "cell_type": "code",
      "source": [
        "levels(cartera.train$retrasos) <- make.names(levels(factor(cartera.train$retrasos)))\n",
        "# creo parámetros de validación cruzada\n",
        "cross<-trainControl(method=\"cv\",number=5,\n",
        "                    classProbs = TRUE,\n",
        "                    summaryFunction =prSummary)"
      ],
      "metadata": {
        "id": "QGAJl1ifd6AW"
      },
      "execution_count": 11,
      "outputs": []
    },
    {
      "cell_type": "code",
      "source": [
        "set.seed(1)\n",
        "modeloknn2<-train(retrasos~.,method=\"knn\",\n",
        "                  tuneGrid=expand.grid(k=1:30),\n",
        "                  trControl=cross,\n",
        "                  metric=\"AUC\",\n",
        "                  data=cartera.train)"
      ],
      "metadata": {
        "id": "AwbW9cRPgazO"
      },
      "execution_count": 12,
      "outputs": []
    },
    {
      "cell_type": "code",
      "source": [
        "modeloknn2\n",
        "plot(modeloknn2)"
      ],
      "metadata": {
        "id": "2rgkBO8X-n5-",
        "colab": {
          "base_uri": "https://localhost:8080/",
          "height": 1000
        },
        "outputId": "fa147357-0297-42e9-cd8a-3c987abc6850"
      },
      "execution_count": 13,
      "outputs": [
        {
          "output_type": "display_data",
          "data": {
            "text/plain": [
              "k-Nearest Neighbors \n",
              "\n",
              "639 samples\n",
              " 11 predictor\n",
              "  2 classes: 'X0', 'X1' \n",
              "\n",
              "No pre-processing\n",
              "Resampling: Cross-Validated (5 fold) \n",
              "Summary of sample sizes: 512, 511, 511, 511, 511 \n",
              "Resampling results across tuning parameters:\n",
              "\n",
              "  k   AUC        Precision  Recall     F        \n",
              "   1  0.1275890  0.8111728  0.8377446  0.8242251\n",
              "   2  0.2295012  0.8182565  0.8233958  0.8207001\n",
              "   3  0.3060409  0.8280345  0.8767936  0.8515490\n",
              "   4  0.3707907  0.8245192  0.8584052  0.8409794\n",
              "   5  0.4154850  0.8236750  0.9015148  0.8607887\n",
              "   6  0.4559147  0.8284000  0.9117400  0.8680089\n",
              "   7  0.5032315  0.8236209  0.9199032  0.8690774\n",
              "   8  0.5301042  0.8218236  0.9363139  0.8752834\n",
              "   9  0.5476826  0.8199147  0.9444982  0.8777939\n",
              "  10  0.5772772  0.8247693  0.9465601  0.8813993\n",
              "  11  0.6049659  0.8191475  0.9486009  0.8790997\n",
              "  12  0.6227466  0.8218379  0.9465601  0.8797410\n",
              "  13  0.6398199  0.8221219  0.9486009  0.8807579\n",
              "  14  0.6452839  0.8151261  0.9486219  0.8767214\n",
              "  15  0.6661761  0.8150738  0.9486009  0.8766729\n",
              "  16  0.6750956  0.8108598  0.9404166  0.8707396\n",
              "  17  0.6809412  0.8104437  0.9465811  0.8731712\n",
              "  18  0.6906422  0.8098815  0.9445403  0.8720205\n",
              "  19  0.7048712  0.8042990  0.9527456  0.8722078\n",
              "  20  0.7211296  0.8003688  0.9466232  0.8673639\n",
              "  21  0.7312618  0.8039963  0.9507259  0.8711919\n",
              "  22  0.7361031  0.8042159  0.9527456  0.8721895\n",
              "  23  0.7466710  0.8064108  0.9486640  0.8717231\n",
              "  24  0.7559602  0.8061304  0.9548075  0.8741437\n",
              "  25  0.7660108  0.8036692  0.9568483  0.8734950\n",
              "  26  0.7759711  0.8057518  0.9527246  0.8729857\n",
              "  27  0.7850176  0.7976973  0.9548075  0.8691788\n",
              "  28  0.7920316  0.7997596  0.9589312  0.8721262\n",
              "  29  0.8052633  0.7976500  0.9630339  0.8725677\n",
              "  30  0.8082146  0.7945617  0.9610141  0.8698858\n",
              "\n",
              "AUC was used to select the optimal model using the largest value.\n",
              "The final value used for the model was k = 30."
            ]
          },
          "metadata": {}
        },
        {
          "output_type": "display_data",
          "data": {
            "text/plain": [
              "plot without title"
            ],
            "image/png": "[encoded data removed]"
          },
          "metadata": {
            "image/png": {
              "width": 420,
              "height": 420
            }
          }
        }
      ]
    },
    {
      "cell_type": "markdown",
      "source": [
        "Este resultado propone un k=30, con el cual vamos a probar el modelo:"
      ],
      "metadata": {
        "id": "z8-4i7qrBnBn"
      }
    },
    {
      "cell_type": "code",
      "source": [
        "# el modelo sintonizado\n",
        "predmod1<-predict(modeloknn2,cartera.test,type=\"prob\")\n",
        "pronknn1<-ifelse(predmod1$X1 > 0.5, 1, 0)\n",
        "confknn1<-confusionMatrix(as.factor(pronknn1),\n",
        "                          cartera.test$retrasos, positive = \"1\")\n",
        "confknn1$table\n",
        "confknn1$byClass"
      ],
      "metadata": {
        "id": "l-8mH_g0ifqu",
        "colab": {
          "base_uri": "https://localhost:8080/",
          "height": 139
        },
        "outputId": "5b128392-df63-4539-d18c-2e9fd89cb5fa"
      },
      "execution_count": 14,
      "outputs": [
        {
          "output_type": "display_data",
          "data": {
            "text/plain": [
              "          Reference\n",
              "Prediction   0   1\n",
              "         0 169  31\n",
              "         1   3  10"
            ]
          },
          "metadata": {}
        },
        {
          "output_type": "display_data",
          "data": {
            "text/html": [
              "<style>\n",
              ".dl-inline {width: auto; margin:0; padding: 0}\n",
              ".dl-inline>dt, .dl-inline>dd {float: none; width: auto; display: inline-block}\n",
              ".dl-inline>dt::after {content: \":\\0020\"; padding-right: .5ex}\n",
              ".dl-inline>dt:not(:first-of-type) {padding-left: .5ex}\n",
              "</style><dl class=dl-inline><dt>Sensitivity</dt><dd>0.24390243902439</dd><dt>Specificity</dt><dd>0.982558139534884</dd><dt>Pos Pred Value</dt><dd>0.769230769230769</dd><dt>Neg Pred Value</dt><dd>0.845</dd><dt>Precision</dt><dd>0.769230769230769</dd><dt>Recall</dt><dd>0.24390243902439</dd><dt>F1</dt><dd>0.37037037037037</dd><dt>Prevalence</dt><dd>0.192488262910798</dd><dt>Detection Rate</dt><dd>0.0469483568075117</dd><dt>Detection Prevalence</dt><dd>0.0610328638497653</dd><dt>Balanced Accuracy</dt><dd>0.613230289279637</dd></dl>\n"
            ],
            "text/markdown": "Sensitivity\n:   0.24390243902439Specificity\n:   0.982558139534884Pos Pred Value\n:   0.769230769230769Neg Pred Value\n:   0.845Precision\n:   0.769230769230769Recall\n:   0.24390243902439F1\n:   0.37037037037037Prevalence\n:   0.192488262910798Detection Rate\n:   0.0469483568075117Detection Prevalence\n:   0.0610328638497653Balanced Accuracy\n:   0.613230289279637\n\n",
            "text/latex": "\\begin{description*}\n\\item[Sensitivity] 0.24390243902439\n\\item[Specificity] 0.982558139534884\n\\item[Pos Pred Value] 0.769230769230769\n\\item[Neg Pred Value] 0.845\n\\item[Precision] 0.769230769230769\n\\item[Recall] 0.24390243902439\n\\item[F1] 0.37037037037037\n\\item[Prevalence] 0.192488262910798\n\\item[Detection Rate] 0.0469483568075117\n\\item[Detection Prevalence] 0.0610328638497653\n\\item[Balanced Accuracy] 0.613230289279637\n\\end{description*}\n",
            "text/plain": [
              "         Sensitivity          Specificity       Pos Pred Value \n",
              "          0.24390244           0.98255814           0.76923077 \n",
              "      Neg Pred Value            Precision               Recall \n",
              "          0.84500000           0.76923077           0.24390244 \n",
              "                  F1           Prevalence       Detection Rate \n",
              "          0.37037037           0.19248826           0.04694836 \n",
              "Detection Prevalence    Balanced Accuracy \n",
              "          0.06103286           0.61323029 "
            ]
          },
          "metadata": {}
        }
      ]
    },
    {
      "cell_type": "code",
      "source": [
        "# el modelo sintonizado\n",
        "predmod1<-predict(modeloknn2,cartera.test,type=\"prob\")\n",
        "pronknn1<-ifelse(predmod1$X1 > 0.3, 1, 0)\n",
        "confknn1<-confusionMatrix(as.factor(pronknn1),\n",
        "                          cartera.test$retrasos, positive = \"1\")\n",
        "confknn1$table\n",
        "confknn1$byClass"
      ],
      "metadata": {
        "colab": {
          "base_uri": "https://localhost:8080/",
          "height": 139
        },
        "id": "n-zGJfqmh5hJ",
        "outputId": "f57b4cd2-dfca-49f6-e581-98ae0c8755d7"
      },
      "execution_count": 15,
      "outputs": [
        {
          "output_type": "display_data",
          "data": {
            "text/plain": [
              "          Reference\n",
              "Prediction   0   1\n",
              "         0 138  15\n",
              "         1  34  26"
            ]
          },
          "metadata": {}
        },
        {
          "output_type": "display_data",
          "data": {
            "text/html": [
              "<style>\n",
              ".dl-inline {width: auto; margin:0; padding: 0}\n",
              ".dl-inline>dt, .dl-inline>dd {float: none; width: auto; display: inline-block}\n",
              ".dl-inline>dt::after {content: \":\\0020\"; padding-right: .5ex}\n",
              ".dl-inline>dt:not(:first-of-type) {padding-left: .5ex}\n",
              "</style><dl class=dl-inline><dt>Sensitivity</dt><dd>0.634146341463415</dd><dt>Specificity</dt><dd>0.802325581395349</dd><dt>Pos Pred Value</dt><dd>0.433333333333333</dd><dt>Neg Pred Value</dt><dd>0.901960784313726</dd><dt>Precision</dt><dd>0.433333333333333</dd><dt>Recall</dt><dd>0.634146341463415</dd><dt>F1</dt><dd>0.514851485148515</dd><dt>Prevalence</dt><dd>0.192488262910798</dd><dt>Detection Rate</dt><dd>0.122065727699531</dd><dt>Detection Prevalence</dt><dd>0.28169014084507</dd><dt>Balanced Accuracy</dt><dd>0.718235961429382</dd></dl>\n"
            ],
            "text/markdown": "Sensitivity\n:   0.634146341463415Specificity\n:   0.802325581395349Pos Pred Value\n:   0.433333333333333Neg Pred Value\n:   0.901960784313726Precision\n:   0.433333333333333Recall\n:   0.634146341463415F1\n:   0.514851485148515Prevalence\n:   0.192488262910798Detection Rate\n:   0.122065727699531Detection Prevalence\n:   0.28169014084507Balanced Accuracy\n:   0.718235961429382\n\n",
            "text/latex": "\\begin{description*}\n\\item[Sensitivity] 0.634146341463415\n\\item[Specificity] 0.802325581395349\n\\item[Pos Pred Value] 0.433333333333333\n\\item[Neg Pred Value] 0.901960784313726\n\\item[Precision] 0.433333333333333\n\\item[Recall] 0.634146341463415\n\\item[F1] 0.514851485148515\n\\item[Prevalence] 0.192488262910798\n\\item[Detection Rate] 0.122065727699531\n\\item[Detection Prevalence] 0.28169014084507\n\\item[Balanced Accuracy] 0.718235961429382\n\\end{description*}\n",
            "text/plain": [
              "         Sensitivity          Specificity       Pos Pred Value \n",
              "           0.6341463            0.8023256            0.4333333 \n",
              "      Neg Pred Value            Precision               Recall \n",
              "           0.9019608            0.4333333            0.6341463 \n",
              "                  F1           Prevalence       Detection Rate \n",
              "           0.5148515            0.1924883            0.1220657 \n",
              "Detection Prevalence    Balanced Accuracy \n",
              "           0.2816901            0.7182360 "
            ]
          },
          "metadata": {}
        }
      ]
    },
    {
      "cell_type": "markdown",
      "source": [
        "Aunque KNN también puede usarse para predicciones de variables escalares, KNN es con frecuencia un modelo que puede utilizarse como modelo de base o ingenuo para una clasificación, particularmente con variables predictoras escalares."
      ],
      "metadata": {
        "id": "50b8vaXrBpsO"
      }
    },
    {
      "cell_type": "code",
      "source": [
        "#crear objeto de predicciones\n",
        "pr<-prediction(pronknn1,cartera.test$retrasos)\n",
        "\n",
        "#creacion del objeto de la curva\n",
        "curvaROC<-performance(pr,measure=\"tpr\",x.measure=\"fpr\")\n",
        "\n",
        "#grafico de la curva\n",
        "plot(curvaROC)"
      ],
      "metadata": {
        "id": "Fe08GyDjg1vF",
        "colab": {
          "base_uri": "https://localhost:8080/",
          "height": 437
        },
        "outputId": "7d9fd1b8-fd6e-4930-c3b9-d9482be90804"
      },
      "execution_count": 16,
      "outputs": [
        {
          "output_type": "display_data",
          "data": {
            "text/plain": [
              "plot without title"
            ],
            "image/png": "[encoded data removed]"
          },
          "metadata": {
            "image/png": {
              "width": 420,
              "height": 420
            }
          }
        }
      ]
    },
    {
      "cell_type": "code",
      "source": [
        "#calcular el AUC\n",
        "auc<-performance(pr,measure = \"auc\")\n",
        "auc <- auc@y.values[[1]]\n",
        "#ver el AUC\n",
        "auc"
      ],
      "metadata": {
        "id": "w9A3pvBg-_I1",
        "colab": {
          "base_uri": "https://localhost:8080/",
          "height": 34
        },
        "outputId": "1694a540-d16c-4594-bf06-e3a202b35dfe"
      },
      "execution_count": 17,
      "outputs": [
        {
          "output_type": "display_data",
          "data": {
            "text/html": [
              "0.718235961429382"
            ],
            "text/markdown": "0.718235961429382",
            "text/latex": "0.718235961429382",
            "text/plain": [
              "[1] 0.718236"
            ]
          },
          "metadata": {}
        }
      ]
    },
    {
      "cell_type": "markdown",
      "source": [
        "# Uso de la función **KNN3** de **Caret**\n",
        "\n",
        "https://daviddalpiaz.github.io/stat432sp18/supp/knn_class_r.html"
      ],
      "metadata": {
        "id": "O-MnPqsodr1v"
      }
    },
    {
      "cell_type": "code",
      "source": [
        "set.seed(1)\n",
        "test_pred = knn3(retrasos~., data=cartera.train1, k = 30)\n",
        "\n",
        "predmod <- predict(test_pred, cartera.test1, type = \"prob\")\n",
        "pronknn<-ifelse(predmod[,2] > 0.3 ,1, 0)\n",
        "confknn<-confusionMatrix(as.factor(pronknn),\n",
        "                          cartera.test1$retrasos, positive = \"1\")\n",
        "confknn$table\n",
        "confknn1$byClass"
      ],
      "metadata": {
        "colab": {
          "base_uri": "https://localhost:8080/",
          "height": 139
        },
        "id": "YTlsdlMXVnZ3",
        "outputId": "86a7047b-02ff-4cdb-ec21-8a73e36e47fa"
      },
      "execution_count": 18,
      "outputs": [
        {
          "output_type": "display_data",
          "data": {
            "text/plain": [
              "          Reference\n",
              "Prediction   0   1\n",
              "         0 138  15\n",
              "         1  34  26"
            ]
          },
          "metadata": {}
        },
        {
          "output_type": "display_data",
          "data": {
            "text/html": [
              "<style>\n",
              ".dl-inline {width: auto; margin:0; padding: 0}\n",
              ".dl-inline>dt, .dl-inline>dd {float: none; width: auto; display: inline-block}\n",
              ".dl-inline>dt::after {content: \":\\0020\"; padding-right: .5ex}\n",
              ".dl-inline>dt:not(:first-of-type) {padding-left: .5ex}\n",
              "</style><dl class=dl-inline><dt>Sensitivity</dt><dd>0.634146341463415</dd><dt>Specificity</dt><dd>0.802325581395349</dd><dt>Pos Pred Value</dt><dd>0.433333333333333</dd><dt>Neg Pred Value</dt><dd>0.901960784313726</dd><dt>Precision</dt><dd>0.433333333333333</dd><dt>Recall</dt><dd>0.634146341463415</dd><dt>F1</dt><dd>0.514851485148515</dd><dt>Prevalence</dt><dd>0.192488262910798</dd><dt>Detection Rate</dt><dd>0.122065727699531</dd><dt>Detection Prevalence</dt><dd>0.28169014084507</dd><dt>Balanced Accuracy</dt><dd>0.718235961429382</dd></dl>\n"
            ],
            "text/markdown": "Sensitivity\n:   0.634146341463415Specificity\n:   0.802325581395349Pos Pred Value\n:   0.433333333333333Neg Pred Value\n:   0.901960784313726Precision\n:   0.433333333333333Recall\n:   0.634146341463415F1\n:   0.514851485148515Prevalence\n:   0.192488262910798Detection Rate\n:   0.122065727699531Detection Prevalence\n:   0.28169014084507Balanced Accuracy\n:   0.718235961429382\n\n",
            "text/latex": "\\begin{description*}\n\\item[Sensitivity] 0.634146341463415\n\\item[Specificity] 0.802325581395349\n\\item[Pos Pred Value] 0.433333333333333\n\\item[Neg Pred Value] 0.901960784313726\n\\item[Precision] 0.433333333333333\n\\item[Recall] 0.634146341463415\n\\item[F1] 0.514851485148515\n\\item[Prevalence] 0.192488262910798\n\\item[Detection Rate] 0.122065727699531\n\\item[Detection Prevalence] 0.28169014084507\n\\item[Balanced Accuracy] 0.718235961429382\n\\end{description*}\n",
            "text/plain": [
              "         Sensitivity          Specificity       Pos Pred Value \n",
              "           0.6341463            0.8023256            0.4333333 \n",
              "      Neg Pred Value            Precision               Recall \n",
              "           0.9019608            0.4333333            0.6341463 \n",
              "                  F1           Prevalence       Detection Rate \n",
              "           0.5148515            0.1924883            0.1220657 \n",
              "Detection Prevalence    Balanced Accuracy \n",
              "           0.2816901            0.7182360 "
            ]
          },
          "metadata": {}
        }
      ]
    },
    {
      "cell_type": "code",
      "source": [
        "set.seed(1)\n",
        "test_pred = knn3(retrasos~., data=cartera.train1, k = 5)\n",
        "\n",
        "predmod <- predict(test_pred, cartera.test1, type = \"prob\")\n",
        "pronknn<-ifelse(predmod[,2] > 0.3 ,1, 0)\n",
        "confknn<-confusionMatrix(as.factor(pronknn),\n",
        "                          cartera.test1$retrasos, positive = \"1\")\n",
        "confknn$table\n",
        "confknn1$byClass"
      ],
      "metadata": {
        "colab": {
          "base_uri": "https://localhost:8080/",
          "height": 139
        },
        "id": "I7gv33vRhQwq",
        "outputId": "07afc43b-c4b2-4161-f3f6-073e5761362e"
      },
      "execution_count": 20,
      "outputs": [
        {
          "output_type": "display_data",
          "data": {
            "text/plain": [
              "          Reference\n",
              "Prediction   0   1\n",
              "         0 134  18\n",
              "         1  38  23"
            ]
          },
          "metadata": {}
        },
        {
          "output_type": "display_data",
          "data": {
            "text/html": [
              "<style>\n",
              ".dl-inline {width: auto; margin:0; padding: 0}\n",
              ".dl-inline>dt, .dl-inline>dd {float: none; width: auto; display: inline-block}\n",
              ".dl-inline>dt::after {content: \":\\0020\"; padding-right: .5ex}\n",
              ".dl-inline>dt:not(:first-of-type) {padding-left: .5ex}\n",
              "</style><dl class=dl-inline><dt>Sensitivity</dt><dd>0.634146341463415</dd><dt>Specificity</dt><dd>0.802325581395349</dd><dt>Pos Pred Value</dt><dd>0.433333333333333</dd><dt>Neg Pred Value</dt><dd>0.901960784313726</dd><dt>Precision</dt><dd>0.433333333333333</dd><dt>Recall</dt><dd>0.634146341463415</dd><dt>F1</dt><dd>0.514851485148515</dd><dt>Prevalence</dt><dd>0.192488262910798</dd><dt>Detection Rate</dt><dd>0.122065727699531</dd><dt>Detection Prevalence</dt><dd>0.28169014084507</dd><dt>Balanced Accuracy</dt><dd>0.718235961429382</dd></dl>\n"
            ],
            "text/markdown": "Sensitivity\n:   0.634146341463415Specificity\n:   0.802325581395349Pos Pred Value\n:   0.433333333333333Neg Pred Value\n:   0.901960784313726Precision\n:   0.433333333333333Recall\n:   0.634146341463415F1\n:   0.514851485148515Prevalence\n:   0.192488262910798Detection Rate\n:   0.122065727699531Detection Prevalence\n:   0.28169014084507Balanced Accuracy\n:   0.718235961429382\n\n",
            "text/latex": "\\begin{description*}\n\\item[Sensitivity] 0.634146341463415\n\\item[Specificity] 0.802325581395349\n\\item[Pos Pred Value] 0.433333333333333\n\\item[Neg Pred Value] 0.901960784313726\n\\item[Precision] 0.433333333333333\n\\item[Recall] 0.634146341463415\n\\item[F1] 0.514851485148515\n\\item[Prevalence] 0.192488262910798\n\\item[Detection Rate] 0.122065727699531\n\\item[Detection Prevalence] 0.28169014084507\n\\item[Balanced Accuracy] 0.718235961429382\n\\end{description*}\n",
            "text/plain": [
              "         Sensitivity          Specificity       Pos Pred Value \n",
              "           0.6341463            0.8023256            0.4333333 \n",
              "      Neg Pred Value            Precision               Recall \n",
              "           0.9019608            0.4333333            0.6341463 \n",
              "                  F1           Prevalence       Detection Rate \n",
              "           0.5148515            0.1924883            0.1220657 \n",
              "Detection Prevalence    Balanced Accuracy \n",
              "           0.2816901            0.7182360 "
            ]
          },
          "metadata": {}
        }
      ]
    },
    {
      "cell_type": "code",
      "source": [
        "set.seed(1)\n",
        "test_pred = knn3(retrasos~., data=cartera.train1, k = 17)\n",
        "\n",
        "predmod <- predict(test_pred, cartera.test1, type = \"prob\")\n",
        "pronknn<-ifelse(predmod[,2] > 0.3 ,1, 0)\n",
        "confknn<-confusionMatrix(as.factor(pronknn),\n",
        "                          cartera.test1$retrasos, positive = \"1\")\n",
        "confknn$table\n",
        "confknn1$byClass"
      ],
      "metadata": {
        "colab": {
          "base_uri": "https://localhost:8080/",
          "height": 139
        },
        "id": "nTNddRA9hVQt",
        "outputId": "343f5a66-6ff0-4930-bd7c-d52ce2c6f10c"
      },
      "execution_count": 21,
      "outputs": [
        {
          "output_type": "display_data",
          "data": {
            "text/plain": [
              "          Reference\n",
              "Prediction   0   1\n",
              "         0 134  16\n",
              "         1  38  25"
            ]
          },
          "metadata": {}
        },
        {
          "output_type": "display_data",
          "data": {
            "text/html": [
              "<style>\n",
              ".dl-inline {width: auto; margin:0; padding: 0}\n",
              ".dl-inline>dt, .dl-inline>dd {float: none; width: auto; display: inline-block}\n",
              ".dl-inline>dt::after {content: \":\\0020\"; padding-right: .5ex}\n",
              ".dl-inline>dt:not(:first-of-type) {padding-left: .5ex}\n",
              "</style><dl class=dl-inline><dt>Sensitivity</dt><dd>0.634146341463415</dd><dt>Specificity</dt><dd>0.802325581395349</dd><dt>Pos Pred Value</dt><dd>0.433333333333333</dd><dt>Neg Pred Value</dt><dd>0.901960784313726</dd><dt>Precision</dt><dd>0.433333333333333</dd><dt>Recall</dt><dd>0.634146341463415</dd><dt>F1</dt><dd>0.514851485148515</dd><dt>Prevalence</dt><dd>0.192488262910798</dd><dt>Detection Rate</dt><dd>0.122065727699531</dd><dt>Detection Prevalence</dt><dd>0.28169014084507</dd><dt>Balanced Accuracy</dt><dd>0.718235961429382</dd></dl>\n"
            ],
            "text/markdown": "Sensitivity\n:   0.634146341463415Specificity\n:   0.802325581395349Pos Pred Value\n:   0.433333333333333Neg Pred Value\n:   0.901960784313726Precision\n:   0.433333333333333Recall\n:   0.634146341463415F1\n:   0.514851485148515Prevalence\n:   0.192488262910798Detection Rate\n:   0.122065727699531Detection Prevalence\n:   0.28169014084507Balanced Accuracy\n:   0.718235961429382\n\n",
            "text/latex": "\\begin{description*}\n\\item[Sensitivity] 0.634146341463415\n\\item[Specificity] 0.802325581395349\n\\item[Pos Pred Value] 0.433333333333333\n\\item[Neg Pred Value] 0.901960784313726\n\\item[Precision] 0.433333333333333\n\\item[Recall] 0.634146341463415\n\\item[F1] 0.514851485148515\n\\item[Prevalence] 0.192488262910798\n\\item[Detection Rate] 0.122065727699531\n\\item[Detection Prevalence] 0.28169014084507\n\\item[Balanced Accuracy] 0.718235961429382\n\\end{description*}\n",
            "text/plain": [
              "         Sensitivity          Specificity       Pos Pred Value \n",
              "           0.6341463            0.8023256            0.4333333 \n",
              "      Neg Pred Value            Precision               Recall \n",
              "           0.9019608            0.4333333            0.6341463 \n",
              "                  F1           Prevalence       Detection Rate \n",
              "           0.5148515            0.1924883            0.1220657 \n",
              "Detection Prevalence    Balanced Accuracy \n",
              "           0.2816901            0.7182360 "
            ]
          },
          "metadata": {}
        }
      ]
    },
    {
      "cell_type": "code",
      "source": [
        "remotes::install_github(\"cran/DMwR\")\n",
        "library(DMwR)"
      ],
      "metadata": {
        "colab": {
          "base_uri": "https://localhost:8080/"
        },
        "id": "zN-YYbqujcS0",
        "outputId": "1ed7fac7-311d-43ee-b1c7-546211d84594"
      },
      "execution_count": 22,
      "outputs": [
        {
          "output_type": "stream",
          "name": "stderr",
          "text": [
            "Downloading GitHub repo cran/DMwR@HEAD\n",
            "\n"
          ]
        },
        {
          "output_type": "stream",
          "name": "stdout",
          "text": [
            "curl     (5.0.2 -> 5.2.1 ) [CRAN]\n",
            "zoo      (NA    -> 1.8-12) [CRAN]\n",
            "xts      (NA    -> 0.13.2) [CRAN]\n",
            "TTR      (NA    -> 0.24.4) [CRAN]\n",
            "abind    (NA    -> 1.4-5 ) [CRAN]\n",
            "quantmod (NA    -> 0.4.26) [CRAN]\n"
          ]
        },
        {
          "output_type": "stream",
          "name": "stderr",
          "text": [
            "Installing 6 packages: curl, zoo, xts, TTR, abind, quantmod\n",
            "\n",
            "Installing packages into ‘/usr/local/lib/R/site-library’\n",
            "(as ‘lib’ is unspecified)\n",
            "\n"
          ]
        },
        {
          "output_type": "stream",
          "name": "stdout",
          "text": [
            "\u001b[36m──\u001b[39m \u001b[36mR CMD build\u001b[39m \u001b[36m─────────────────────────────────────────────────────────────────\u001b[39m\n",
            "* checking for file ‘/tmp/RtmpJLCSDW/remotesda370ef4bf/cran-DMwR-6fd4f0c/DESCRIPTION’ ... OK\n",
            "* preparing ‘DMwR’:\n",
            "* checking DESCRIPTION meta-information ... OK\n",
            "* checking for LF line-endings in source and make files and shell scripts\n",
            "* checking for empty or unneeded directories\n",
            "* building ‘DMwR_0.4.1.tar.gz’\n",
            "\n"
          ]
        },
        {
          "output_type": "stream",
          "name": "stderr",
          "text": [
            "Installing package into ‘/usr/local/lib/R/site-library’\n",
            "(as ‘lib’ is unspecified)\n",
            "\n",
            "Loading required package: grid\n",
            "\n",
            "Registered S3 method overwritten by 'quantmod':\n",
            "  method            from\n",
            "  as.zoo.data.frame zoo \n",
            "\n"
          ]
        }
      ]
    },
    {
      "cell_type": "code",
      "source": [
        "#utilizar SMOTE para crear un nuevo conjunto de datos más equilibrado\n",
        "cartera.train2 <- SMOTE(retrasos~., as.data.frame(cartera.train1), perc.over = 200, perc.under = 150)\n",
        "#ver la distribución de la variable de respuesta en el nuevo conjunto de datos\n",
        "table(cartera.train2$retrasos)"
      ],
      "metadata": {
        "colab": {
          "base_uri": "https://localhost:8080/",
          "height": 69
        },
        "id": "RsrGceMvjNdL",
        "outputId": "f5a86adb-6a76-478c-9d8d-9ef97d314c99"
      },
      "execution_count": 23,
      "outputs": [
        {
          "output_type": "display_data",
          "data": {
            "text/plain": [
              "\n",
              "  0   1 \n",
              "456 456 "
            ]
          },
          "metadata": {}
        }
      ]
    },
    {
      "cell_type": "code",
      "source": [
        "set.seed(1)\n",
        "test_pred = knn3(retrasos~., data=cartera.train2, k = 5)\n",
        "\n",
        "predmod <- predict(test_pred, cartera.test1, type = \"prob\")\n",
        "pronknn<-ifelse(predmod[,2] > 0.5 ,1, 0)\n",
        "confknn<-confusionMatrix(as.factor(pronknn),\n",
        "                          cartera.test1$retrasos, positive = \"1\")\n",
        "confknn$table\n",
        "confknn1$byClass"
      ],
      "metadata": {
        "colab": {
          "base_uri": "https://localhost:8080/",
          "height": 139
        },
        "id": "7lFS9eeyjNky",
        "outputId": "12c2f3fc-5fd7-49cb-b450-5313991ed9b8"
      },
      "execution_count": 24,
      "outputs": [
        {
          "output_type": "display_data",
          "data": {
            "text/plain": [
              "          Reference\n",
              "Prediction   0   1\n",
              "         0 118  13\n",
              "         1  54  28"
            ]
          },
          "metadata": {}
        },
        {
          "output_type": "display_data",
          "data": {
            "text/html": [
              "<style>\n",
              ".dl-inline {width: auto; margin:0; padding: 0}\n",
              ".dl-inline>dt, .dl-inline>dd {float: none; width: auto; display: inline-block}\n",
              ".dl-inline>dt::after {content: \":\\0020\"; padding-right: .5ex}\n",
              ".dl-inline>dt:not(:first-of-type) {padding-left: .5ex}\n",
              "</style><dl class=dl-inline><dt>Sensitivity</dt><dd>0.634146341463415</dd><dt>Specificity</dt><dd>0.802325581395349</dd><dt>Pos Pred Value</dt><dd>0.433333333333333</dd><dt>Neg Pred Value</dt><dd>0.901960784313726</dd><dt>Precision</dt><dd>0.433333333333333</dd><dt>Recall</dt><dd>0.634146341463415</dd><dt>F1</dt><dd>0.514851485148515</dd><dt>Prevalence</dt><dd>0.192488262910798</dd><dt>Detection Rate</dt><dd>0.122065727699531</dd><dt>Detection Prevalence</dt><dd>0.28169014084507</dd><dt>Balanced Accuracy</dt><dd>0.718235961429382</dd></dl>\n"
            ],
            "text/markdown": "Sensitivity\n:   0.634146341463415Specificity\n:   0.802325581395349Pos Pred Value\n:   0.433333333333333Neg Pred Value\n:   0.901960784313726Precision\n:   0.433333333333333Recall\n:   0.634146341463415F1\n:   0.514851485148515Prevalence\n:   0.192488262910798Detection Rate\n:   0.122065727699531Detection Prevalence\n:   0.28169014084507Balanced Accuracy\n:   0.718235961429382\n\n",
            "text/latex": "\\begin{description*}\n\\item[Sensitivity] 0.634146341463415\n\\item[Specificity] 0.802325581395349\n\\item[Pos Pred Value] 0.433333333333333\n\\item[Neg Pred Value] 0.901960784313726\n\\item[Precision] 0.433333333333333\n\\item[Recall] 0.634146341463415\n\\item[F1] 0.514851485148515\n\\item[Prevalence] 0.192488262910798\n\\item[Detection Rate] 0.122065727699531\n\\item[Detection Prevalence] 0.28169014084507\n\\item[Balanced Accuracy] 0.718235961429382\n\\end{description*}\n",
            "text/plain": [
              "         Sensitivity          Specificity       Pos Pred Value \n",
              "           0.6341463            0.8023256            0.4333333 \n",
              "      Neg Pred Value            Precision               Recall \n",
              "           0.9019608            0.4333333            0.6341463 \n",
              "                  F1           Prevalence       Detection Rate \n",
              "           0.5148515            0.1924883            0.1220657 \n",
              "Detection Prevalence    Balanced Accuracy \n",
              "           0.2816901            0.7182360 "
            ]
          },
          "metadata": {}
        }
      ]
    },
    {
      "cell_type": "code",
      "source": [
        "set.seed(1)\n",
        "levels(cartera.train2$retrasos) <- make.names(levels(factor(cartera.train2$retrasos)))\n",
        "modeloknn3<-train(retrasos~.,method=\"knn\",\n",
        "                  tuneGrid=expand.grid(k=1:30),\n",
        "                  trControl=cross,\n",
        "                  metric=\"AUC\",\n",
        "                  data=cartera.train2)\n",
        "modeloknn3"
      ],
      "metadata": {
        "colab": {
          "base_uri": "https://localhost:8080/",
          "height": 798
        },
        "id": "UekX_SJVkEoc",
        "outputId": "d6e2f064-070c-4e8a-ab0e-4b3850d04411"
      },
      "execution_count": 25,
      "outputs": [
        {
          "output_type": "display_data",
          "data": {
            "text/plain": [
              "k-Nearest Neighbors \n",
              "\n",
              "912 samples\n",
              " 11 predictor\n",
              "  2 classes: 'X0', 'X1' \n",
              "\n",
              "No pre-processing\n",
              "Resampling: Cross-Validated (5 fold) \n",
              "Summary of sample sizes: 729, 730, 730, 729, 730 \n",
              "Resampling results across tuning parameters:\n",
              "\n",
              "  k   AUC         Precision  Recall     F        \n",
              "   1  0.09997984  0.9437321  0.8617296  0.9001424\n",
              "   2  0.23485289  0.8877477  0.8134974  0.8486492\n",
              "   3  0.35408333  0.8799424  0.7629957  0.8151216\n",
              "   4  0.42571013  0.8603368  0.7345676  0.7912556\n",
              "   5  0.48376577  0.8500392  0.7301242  0.7844399\n",
              "   6  0.52164225  0.8362492  0.7322742  0.7792788\n",
              "   7  0.54983914  0.8394731  0.7279025  0.7780220\n",
              "   8  0.56840264  0.8465195  0.7300526  0.7819465\n",
              "   9  0.57595741  0.8482343  0.7322742  0.7855404\n",
              "  10  0.59677240  0.8436010  0.7169374  0.7740613\n",
              "  11  0.61074857  0.8400486  0.7213569  0.7751743\n",
              "  12  0.62884422  0.8473560  0.7169135  0.7750565\n",
              "  13  0.63854120  0.8444845  0.7279264  0.7801208\n",
              "  14  0.65338942  0.8247086  0.7126135  0.7632154\n",
              "  15  0.67078264  0.8168346  0.7301720  0.7695937\n",
              "  16  0.67672678  0.7974299  0.7016484  0.7452193\n",
              "  17  0.68044721  0.8049118  0.7125657  0.7543682\n",
              "  18  0.68397337  0.8077603  0.7191591  0.7588270\n",
              "  19  0.69638924  0.7990031  0.7148352  0.7526296\n",
              "  20  0.69928509  0.7942503  0.7125896  0.7500200\n",
              "  21  0.70954371  0.7878340  0.7059962  0.7432364\n",
              "  22  0.71293667  0.7868097  0.7103918  0.7454825\n",
              "  23  0.72078345  0.7831586  0.7147396  0.7462861\n",
              "  24  0.72654339  0.7817808  0.7147396  0.7454137\n",
              "  25  0.73420923  0.7775087  0.7169374  0.7452133\n",
              "  26  0.74804958  0.7793089  0.7213330  0.7480566\n",
              "  27  0.75442332  0.7875977  0.7344959  0.7593679\n",
              "  28  0.75411127  0.7813880  0.7411132  0.7598919\n",
              "  29  0.76187859  0.7839169  0.7367654  0.7583459\n",
              "  30  0.76766829  0.7906903  0.7368132  0.7618860\n",
              "\n",
              "AUC was used to select the optimal model using the largest value.\n",
              "The final value used for the model was k = 30."
            ]
          },
          "metadata": {}
        }
      ]
    },
    {
      "cell_type": "code",
      "source": [
        "predmod3<-predict(modeloknn3,cartera.test1,type=\"prob\")\n",
        "pronknn3<-ifelse(predmod3$X1 > 0.5, 1, 0)\n",
        "confknn3<-confusionMatrix(as.factor(pronknn3),\n",
        "                          cartera.test1$retrasos, positive = \"1\")\n",
        "confknn1$table\n",
        "confknn1$byClass"
      ],
      "metadata": {
        "colab": {
          "base_uri": "https://localhost:8080/",
          "height": 139
        },
        "id": "wi7Sto6smyEc",
        "outputId": "847be29b-b222-4662-9ae8-be5a931cfd30"
      },
      "execution_count": 26,
      "outputs": [
        {
          "output_type": "display_data",
          "data": {
            "text/plain": [
              "          Reference\n",
              "Prediction   0   1\n",
              "         0 138  15\n",
              "         1  34  26"
            ]
          },
          "metadata": {}
        },
        {
          "output_type": "display_data",
          "data": {
            "text/html": [
              "<style>\n",
              ".dl-inline {width: auto; margin:0; padding: 0}\n",
              ".dl-inline>dt, .dl-inline>dd {float: none; width: auto; display: inline-block}\n",
              ".dl-inline>dt::after {content: \":\\0020\"; padding-right: .5ex}\n",
              ".dl-inline>dt:not(:first-of-type) {padding-left: .5ex}\n",
              "</style><dl class=dl-inline><dt>Sensitivity</dt><dd>0.634146341463415</dd><dt>Specificity</dt><dd>0.802325581395349</dd><dt>Pos Pred Value</dt><dd>0.433333333333333</dd><dt>Neg Pred Value</dt><dd>0.901960784313726</dd><dt>Precision</dt><dd>0.433333333333333</dd><dt>Recall</dt><dd>0.634146341463415</dd><dt>F1</dt><dd>0.514851485148515</dd><dt>Prevalence</dt><dd>0.192488262910798</dd><dt>Detection Rate</dt><dd>0.122065727699531</dd><dt>Detection Prevalence</dt><dd>0.28169014084507</dd><dt>Balanced Accuracy</dt><dd>0.718235961429382</dd></dl>\n"
            ],
            "text/markdown": "Sensitivity\n:   0.634146341463415Specificity\n:   0.802325581395349Pos Pred Value\n:   0.433333333333333Neg Pred Value\n:   0.901960784313726Precision\n:   0.433333333333333Recall\n:   0.634146341463415F1\n:   0.514851485148515Prevalence\n:   0.192488262910798Detection Rate\n:   0.122065727699531Detection Prevalence\n:   0.28169014084507Balanced Accuracy\n:   0.718235961429382\n\n",
            "text/latex": "\\begin{description*}\n\\item[Sensitivity] 0.634146341463415\n\\item[Specificity] 0.802325581395349\n\\item[Pos Pred Value] 0.433333333333333\n\\item[Neg Pred Value] 0.901960784313726\n\\item[Precision] 0.433333333333333\n\\item[Recall] 0.634146341463415\n\\item[F1] 0.514851485148515\n\\item[Prevalence] 0.192488262910798\n\\item[Detection Rate] 0.122065727699531\n\\item[Detection Prevalence] 0.28169014084507\n\\item[Balanced Accuracy] 0.718235961429382\n\\end{description*}\n",
            "text/plain": [
              "         Sensitivity          Specificity       Pos Pred Value \n",
              "           0.6341463            0.8023256            0.4333333 \n",
              "      Neg Pred Value            Precision               Recall \n",
              "           0.9019608            0.4333333            0.6341463 \n",
              "                  F1           Prevalence       Detection Rate \n",
              "           0.5148515            0.1924883            0.1220657 \n",
              "Detection Prevalence    Balanced Accuracy \n",
              "           0.2816901            0.7182360 "
            ]
          },
          "metadata": {}
        }
      ]
    },
    {
      "cell_type": "code",
      "source": [
        "set.seed(1)\n",
        "test_pred = knn3(retrasos~., data=cartera.train2, k = 29)\n",
        "\n",
        "predmod <- predict(test_pred, cartera.test1, type = \"prob\")\n",
        "pronknn<-ifelse(predmod[,2] > 0.5 , 1, 0)\n",
        "confknn<-confusionMatrix(as.factor(pronknn),\n",
        "                          cartera.test1$retrasos, positive = \"1\")\n",
        "confknn$table\n",
        "confknn1$byClass"
      ],
      "metadata": {
        "colab": {
          "base_uri": "https://localhost:8080/",
          "height": 139
        },
        "id": "nLAuQ-8IjNoJ",
        "outputId": "984b985e-86f0-400d-be4d-3eed83dab472"
      },
      "execution_count": 27,
      "outputs": [
        {
          "output_type": "display_data",
          "data": {
            "text/plain": [
              "          Reference\n",
              "Prediction   0   1\n",
              "         0 119  12\n",
              "         1  53  29"
            ]
          },
          "metadata": {}
        },
        {
          "output_type": "display_data",
          "data": {
            "text/html": [
              "<style>\n",
              ".dl-inline {width: auto; margin:0; padding: 0}\n",
              ".dl-inline>dt, .dl-inline>dd {float: none; width: auto; display: inline-block}\n",
              ".dl-inline>dt::after {content: \":\\0020\"; padding-right: .5ex}\n",
              ".dl-inline>dt:not(:first-of-type) {padding-left: .5ex}\n",
              "</style><dl class=dl-inline><dt>Sensitivity</dt><dd>0.634146341463415</dd><dt>Specificity</dt><dd>0.802325581395349</dd><dt>Pos Pred Value</dt><dd>0.433333333333333</dd><dt>Neg Pred Value</dt><dd>0.901960784313726</dd><dt>Precision</dt><dd>0.433333333333333</dd><dt>Recall</dt><dd>0.634146341463415</dd><dt>F1</dt><dd>0.514851485148515</dd><dt>Prevalence</dt><dd>0.192488262910798</dd><dt>Detection Rate</dt><dd>0.122065727699531</dd><dt>Detection Prevalence</dt><dd>0.28169014084507</dd><dt>Balanced Accuracy</dt><dd>0.718235961429382</dd></dl>\n"
            ],
            "text/markdown": "Sensitivity\n:   0.634146341463415Specificity\n:   0.802325581395349Pos Pred Value\n:   0.433333333333333Neg Pred Value\n:   0.901960784313726Precision\n:   0.433333333333333Recall\n:   0.634146341463415F1\n:   0.514851485148515Prevalence\n:   0.192488262910798Detection Rate\n:   0.122065727699531Detection Prevalence\n:   0.28169014084507Balanced Accuracy\n:   0.718235961429382\n\n",
            "text/latex": "\\begin{description*}\n\\item[Sensitivity] 0.634146341463415\n\\item[Specificity] 0.802325581395349\n\\item[Pos Pred Value] 0.433333333333333\n\\item[Neg Pred Value] 0.901960784313726\n\\item[Precision] 0.433333333333333\n\\item[Recall] 0.634146341463415\n\\item[F1] 0.514851485148515\n\\item[Prevalence] 0.192488262910798\n\\item[Detection Rate] 0.122065727699531\n\\item[Detection Prevalence] 0.28169014084507\n\\item[Balanced Accuracy] 0.718235961429382\n\\end{description*}\n",
            "text/plain": [
              "         Sensitivity          Specificity       Pos Pred Value \n",
              "           0.6341463            0.8023256            0.4333333 \n",
              "      Neg Pred Value            Precision               Recall \n",
              "           0.9019608            0.4333333            0.6341463 \n",
              "                  F1           Prevalence       Detection Rate \n",
              "           0.5148515            0.1924883            0.1220657 \n",
              "Detection Prevalence    Balanced Accuracy \n",
              "           0.2816901            0.7182360 "
            ]
          },
          "metadata": {}
        }
      ]
    },
    {
      "cell_type": "code",
      "source": [
        "#crear objeto de predicciones\n",
        "pr<-prediction(pronknn3,cartera.test1$retrasos)\n",
        "\n",
        "#creacion del objeto de la curva\n",
        "curvaROC<-performance(pr,measure=\"tpr\",x.measure=\"fpr\")\n",
        "\n",
        "#grafico de la curva\n",
        "plot(curvaROC)"
      ],
      "metadata": {
        "colab": {
          "base_uri": "https://localhost:8080/",
          "height": 437
        },
        "id": "PkFin6dYjNqV",
        "outputId": "6beec72c-16b3-4994-d9b5-adc6e2088625"
      },
      "execution_count": 28,
      "outputs": [
        {
          "output_type": "display_data",
          "data": {
            "text/plain": [
              "plot without title"
            ],
            "image/png": "[encoded data removed]"
          },
          "metadata": {
            "image/png": {
              "width": 420,
              "height": 420
            }
          }
        }
      ]
    },
    {
      "cell_type": "code",
      "source": [
        "#calcular el AUC\n",
        "auc<-performance(pr,measure = \"auc\")\n",
        "auc <- auc@y.values[[1]]\n",
        "#ver el AUC\n",
        "auc"
      ],
      "metadata": {
        "colab": {
          "base_uri": "https://localhost:8080/",
          "height": 34
        },
        "id": "OGQxQAHXsmKH",
        "outputId": "154ac729-50c5-400b-e142-f7b49c435234"
      },
      "execution_count": 29,
      "outputs": [
        {
          "output_type": "display_data",
          "data": {
            "text/html": [
              "0.696114577424844"
            ],
            "text/markdown": "0.696114577424844",
            "text/latex": "0.696114577424844",
            "text/plain": [
              "[1] 0.6961146"
            ]
          },
          "metadata": {}
        }
      ]
    },
    {
      "cell_type": "markdown",
      "source": [
        "# ***  Naive Bayes (Bayes ingenuo) ***"
      ],
      "metadata": {
        "id": "ORAcq9dwBrnG"
      }
    },
    {
      "cell_type": "markdown",
      "source": [
        "Un segundo modelo de clasificación que puede servir como pronóstico base o ingenuo, es conocido como Naive Bayes o Bayes ingenuo.\n",
        "\n",
        "El resultado se basa en una relajación del Teorema de Bayes en la que la suposición principal es que las variables predictoras son independientes. Aunque es una suposición fuerte, en muchas ocasiones los resultados de Naive Bayes son bastante competitivos, y serán mucho mejores en la medida en que la suposición se cumpla."
      ],
      "metadata": {
        "id": "MLmhRW46BuNg"
      }
    },
    {
      "cell_type": "markdown",
      "source": [
        "# Data and business understanding"
      ],
      "metadata": {
        "id": "MWlbPAzOBw4W"
      }
    },
    {
      "cell_type": "markdown",
      "source": [
        "Los datos corresponden a una encuesta a 880 personas con respecto a su preferencia entre 3 opciones al desayuno: Avena, Barrita de desayuno o cereal. El objetivo es poder predecir una preferencia de acuerdo a información demográfica disponible que permitiera realizar promociones específicas."
      ],
      "metadata": {
        "id": "w8HopUfMB1bW"
      }
    },
    {
      "cell_type": "code",
      "source": [
        "cereal<-read.csv(\"cereal2.csv\", header=TRUE, sep=\";\", dec=\",\")\n",
        "str(cereal)"
      ],
      "metadata": {
        "id": "l6zdoQGP_BPN",
        "colab": {
          "base_uri": "https://localhost:8080/"
        },
        "outputId": "bea2694a-321a-41e4-e81a-c7f6a8c29fd2"
      },
      "execution_count": null,
      "outputs": [
        {
          "output_type": "stream",
          "name": "stdout",
          "text": [
            "'data.frame':\t880 obs. of  5 variables:\n",
            " $ edad_cat: chr  \"Menor de 31\" \"46-60\" \"Mas de 60\" \"31-45\" ...\n",
            " $ genero  : chr  \"Hombre\" \"Hombre\" \"Hombre\" \"Mujer\" ...\n",
            " $ ecivil  : chr  \"Casado\" \"Casado\" \"Casado\" \"Casado\" ...\n",
            " $ activo  : chr  \"En activo\" \"Sin actividad\" \"Sin actividad\" \"En activo\" ...\n",
            " $ desayuno: chr  \"Cereales\" \"Barrita de desayuno\" \"Avena\" \"Avena\" ...\n"
          ]
        }
      ]
    },
    {
      "cell_type": "markdown",
      "source": [
        "Los predictores son:\n",
        "\n",
        "Edadcat: La edad en categorías de edad.\n",
        "\n",
        "Genero: El género del encuestado\n",
        "\n",
        "ecivil: el estado civil\n",
        "\n",
        "activo: Si la persona es o no activo en su vida diaria (sedentario o no)\n",
        "\n",
        "Vamos a hacer un pequeño arreglo con el nombre de la edad categorizada y separar en bases de entrenamiento y validación en una partición 50%-50%"
      ],
      "metadata": {
        "id": "_H7GLip6G83f"
      }
    },
    {
      "cell_type": "code",
      "source": [
        "#un pequeño arreglo\n",
        "colnames(cereal)[1]<-\"edadcat\""
      ],
      "metadata": {
        "id": "CgBLwckT_KUW"
      },
      "execution_count": null,
      "outputs": []
    },
    {
      "cell_type": "code",
      "source": [
        "#genero entrenamiento y validacion para cereal\n",
        "set.seed(1)\n",
        "sample <- sample.int(nrow(cereal), floor(.5*nrow(cereal)))\n",
        "cereal.train <- cereal[sample, ]\n",
        "cereal.test <- cereal[-sample, ]"
      ],
      "metadata": {
        "id": "7y3mb7M-_Mse"
      },
      "execution_count": null,
      "outputs": []
    },
    {
      "cell_type": "markdown",
      "source": [
        "# Modelling"
      ],
      "metadata": {
        "id": "H1nak0QvG_kI"
      }
    },
    {
      "cell_type": "markdown",
      "source": [
        "La creación del modelo de Naive Bayes es relativamente simple, pues no existen hiperparámetros por sintonizar o parámetros a entrenar. Se trata simplemente de calcular las probabilidades de la categoría a predecir a partir de las categorías de las predictoras, suponiendo independencia entre ellas usando el Teorema de Bayes."
      ],
      "metadata": {
        "id": "DoxdLc5XHA3H"
      }
    },
    {
      "cell_type": "code",
      "source": [
        "naivetest<-naiveBayes(cereal.train$desayuno~.,cereal.train)"
      ],
      "metadata": {
        "id": "DqX2t43-_TpN"
      },
      "execution_count": null,
      "outputs": []
    },
    {
      "cell_type": "markdown",
      "source": [
        "Un resultado a observar son las probabilidades a priori, que corresponden simplemente a las tasas base de las categorías a predecir. El segundo resultado a observar son las probabilidades marginales del predictor dada la categoría a predecir."
      ],
      "metadata": {
        "id": "Gz16uOnoHq3R"
      }
    },
    {
      "cell_type": "code",
      "source": [
        "#tasas base\n",
        "naivetest$apriori"
      ],
      "metadata": {
        "id": "-ZR_4slK_VR1",
        "colab": {
          "base_uri": "https://localhost:8080/",
          "height": 69
        },
        "outputId": "58674be7-ddae-4bd5-81be-5ca7301b4be8"
      },
      "execution_count": null,
      "outputs": [
        {
          "output_type": "display_data",
          "data": {
            "text/plain": [
              "Y\n",
              "              Avena Barrita de desayuno            Cereales \n",
              "                157                 113                 170 "
            ]
          },
          "metadata": {}
        }
      ]
    },
    {
      "cell_type": "code",
      "source": [
        "#probabilidades marginales\n",
        "naivetest$tables$genero"
      ],
      "metadata": {
        "id": "5T0NQ-n-_Wv_",
        "colab": {
          "base_uri": "https://localhost:8080/",
          "height": 104
        },
        "outputId": "357680b1-9aae-4859-c129-dfee153ea7ce"
      },
      "execution_count": null,
      "outputs": [
        {
          "output_type": "display_data",
          "data": {
            "text/plain": [
              "                     genero\n",
              "Y                        Hombre     Mujer\n",
              "  Avena               0.4522293 0.5477707\n",
              "  Barrita de desayuno 0.4247788 0.5752212\n",
              "  Cereales            0.4882353 0.5117647"
            ]
          },
          "metadata": {}
        }
      ]
    },
    {
      "cell_type": "code",
      "source": [
        "naivetest$tables$edadcat\n"
      ],
      "metadata": {
        "id": "Pa00z3KjH6Bk",
        "colab": {
          "base_uri": "https://localhost:8080/",
          "height": 104
        },
        "outputId": "3b8a043a-aa44-4a9b-987f-9b76aca3c534"
      },
      "execution_count": null,
      "outputs": [
        {
          "output_type": "display_data",
          "data": {
            "text/plain": [
              "                     edadcat\n",
              "Y                          31-45      46-60  Mas de 60 Menor de 31\n",
              "  Avena               0.07643312 0.34394904 0.56687898  0.01273885\n",
              "  Barrita de desayuno 0.40707965 0.16814159 0.09734513  0.32743363\n",
              "  Cereales            0.24705882 0.33529412 0.15294118  0.26470588"
            ]
          },
          "metadata": {}
        }
      ]
    },
    {
      "cell_type": "code",
      "source": [
        "naivetest$tables$ecivil\n"
      ],
      "metadata": {
        "id": "uBPoIO7AH7F3",
        "colab": {
          "base_uri": "https://localhost:8080/",
          "height": 104
        },
        "outputId": "b6648d31-7ac4-4f21-f2a3-a93564bf8a9f"
      },
      "execution_count": null,
      "outputs": [
        {
          "output_type": "display_data",
          "data": {
            "text/plain": [
              "                     ecivil\n",
              "Y                        Casado   Soltero\n",
              "  Avena               0.6624204 0.3375796\n",
              "  Barrita de desayuno 0.4690265 0.5309735\n",
              "  Cereales            0.7058824 0.2941176"
            ]
          },
          "metadata": {}
        }
      ]
    },
    {
      "cell_type": "code",
      "source": [
        "naivetest$tables$activo"
      ],
      "metadata": {
        "id": "v7K496KNH9WK",
        "colab": {
          "base_uri": "https://localhost:8080/",
          "height": 104
        },
        "outputId": "ecd0f78b-7d3b-4a50-9299-abeb60dafc40"
      },
      "execution_count": null,
      "outputs": [
        {
          "output_type": "display_data",
          "data": {
            "text/plain": [
              "                     activo\n",
              "Y                     En activo Sin actividad\n",
              "  Avena               0.3439490     0.6560510\n",
              "  Barrita de desayuno 0.6283186     0.3716814\n",
              "  Cereales            0.4058824     0.5941176"
            ]
          },
          "metadata": {}
        }
      ]
    },
    {
      "cell_type": "markdown",
      "source": [
        "La primera tabla nos permite ver una base de datos bastante balanceada. Las siguientes tablas permiten ver qué característica individual parece discriminar mejor el desayuno elegido.\n",
        "\n",
        "\n",
        "Por ejemplo, dado que se consume barrita de desayuno hay una mayor probabilidad de que sea mujer, o dado que se consume avena hay una buena probabilidad de que se trate de una persona de más de 42 años, particularmente los mayores de 60."
      ],
      "metadata": {
        "id": "OCpP2Qj0H_cp"
      }
    },
    {
      "cell_type": "markdown",
      "source": [
        "## Evaluation"
      ],
      "metadata": {
        "id": "7Gd5ywOVIBuH"
      }
    },
    {
      "cell_type": "markdown",
      "source": [
        "Creamos el objeto de predicción que nos permite ver el desempeño en la base de datos de validación"
      ],
      "metadata": {
        "id": "n4W_QhSdIC53"
      }
    },
    {
      "cell_type": "code",
      "source": [
        "#guarda las probabilidades (para curva COR)\n",
        "prednaiveprob<-predict(naivetest, cereal.test, type=\"raw\")"
      ],
      "metadata": {
        "id": "oCSSOuMD_Y31"
      },
      "execution_count": null,
      "outputs": []
    },
    {
      "cell_type": "code",
      "source": [
        "#guarda el pronóstico\n",
        "prednaive<-predict(naivetest, cereal.test)"
      ],
      "metadata": {
        "id": "nuRei11E_asp"
      },
      "execution_count": null,
      "outputs": []
    },
    {
      "cell_type": "code",
      "source": [
        "cereal.test$desayuno <- as.factor(cereal.test$desayuno)"
      ],
      "metadata": {
        "id": "ZsMDGGrU0GMh"
      },
      "execution_count": null,
      "outputs": []
    },
    {
      "cell_type": "code",
      "source": [
        "#generar la matriz de confusión\n",
        "naiveconf<-confusionMatrix(prednaive,cereal.test$desayuno)\n",
        "naiveconf$table"
      ],
      "metadata": {
        "id": "Q-weIkD1_cB6",
        "colab": {
          "base_uri": "https://localhost:8080/",
          "height": 104
        },
        "outputId": "66a30cb5-6d99-4421-c710-6738d4ec05c2"
      },
      "execution_count": null,
      "outputs": [
        {
          "output_type": "display_data",
          "data": {
            "text/plain": [
              "                     Reference\n",
              "Prediction            Avena Barrita de desayuno Cereales\n",
              "  Avena                 112                  11       43\n",
              "  Barrita de desayuno     4                  46       35\n",
              "  Cereales               37                  61       91"
            ]
          },
          "metadata": {}
        }
      ]
    },
    {
      "cell_type": "code",
      "source": [
        "naiveconf$byClass"
      ],
      "metadata": {
        "id": "AHW6_2RMIIkf",
        "colab": {
          "base_uri": "https://localhost:8080/",
          "height": 196
        },
        "outputId": "c5e4266d-4b4e-42ff-b4ba-deac737fe93f"
      },
      "execution_count": null,
      "outputs": [
        {
          "output_type": "display_data",
          "data": {
            "text/html": [
              "<table class=\"dataframe\">\n",
              "<caption>A matrix: 3 × 11 of type dbl</caption>\n",
              "<thead>\n",
              "\t<tr><th></th><th scope=col>Sensitivity</th><th scope=col>Specificity</th><th scope=col>Pos Pred Value</th><th scope=col>Neg Pred Value</th><th scope=col>Precision</th><th scope=col>Recall</th><th scope=col>F1</th><th scope=col>Prevalence</th><th scope=col>Detection Rate</th><th scope=col>Detection Prevalence</th><th scope=col>Balanced Accuracy</th></tr>\n",
              "</thead>\n",
              "<tbody>\n",
              "\t<tr><th scope=row>Class: Avena</th><td>0.7320261</td><td>0.8118467</td><td>0.6746988</td><td>0.8503650</td><td>0.6746988</td><td>0.7320261</td><td>0.7021944</td><td>0.3477273</td><td>0.2545455</td><td>0.3772727</td><td>0.7719364</td></tr>\n",
              "\t<tr><th scope=row>Class: Barrita de desayuno</th><td>0.3898305</td><td>0.8788820</td><td>0.5411765</td><td>0.7971831</td><td>0.5411765</td><td>0.3898305</td><td>0.4532020</td><td>0.2681818</td><td>0.1045455</td><td>0.1931818</td><td>0.6343562</td></tr>\n",
              "\t<tr><th scope=row>Class: Cereales</th><td>0.5384615</td><td>0.6383764</td><td>0.4814815</td><td>0.6892430</td><td>0.4814815</td><td>0.5384615</td><td>0.5083799</td><td>0.3840909</td><td>0.2068182</td><td>0.4295455</td><td>0.5884190</td></tr>\n",
              "</tbody>\n",
              "</table>\n"
            ],
            "text/markdown": "\nA matrix: 3 × 11 of type dbl\n\n| <!--/--> | Sensitivity | Specificity | Pos Pred Value | Neg Pred Value | Precision | Recall | F1 | Prevalence | Detection Rate | Detection Prevalence | Balanced Accuracy |\n|---|---|---|---|---|---|---|---|---|---|---|---|\n| Class: Avena | 0.7320261 | 0.8118467 | 0.6746988 | 0.8503650 | 0.6746988 | 0.7320261 | 0.7021944 | 0.3477273 | 0.2545455 | 0.3772727 | 0.7719364 |\n| Class: Barrita de desayuno | 0.3898305 | 0.8788820 | 0.5411765 | 0.7971831 | 0.5411765 | 0.3898305 | 0.4532020 | 0.2681818 | 0.1045455 | 0.1931818 | 0.6343562 |\n| Class: Cereales | 0.5384615 | 0.6383764 | 0.4814815 | 0.6892430 | 0.4814815 | 0.5384615 | 0.5083799 | 0.3840909 | 0.2068182 | 0.4295455 | 0.5884190 |\n\n",
            "text/latex": "A matrix: 3 × 11 of type dbl\n\\begin{tabular}{r|lllllllllll}\n  & Sensitivity & Specificity & Pos Pred Value & Neg Pred Value & Precision & Recall & F1 & Prevalence & Detection Rate & Detection Prevalence & Balanced Accuracy\\\\\n\\hline\n\tClass: Avena & 0.7320261 & 0.8118467 & 0.6746988 & 0.8503650 & 0.6746988 & 0.7320261 & 0.7021944 & 0.3477273 & 0.2545455 & 0.3772727 & 0.7719364\\\\\n\tClass: Barrita de desayuno & 0.3898305 & 0.8788820 & 0.5411765 & 0.7971831 & 0.5411765 & 0.3898305 & 0.4532020 & 0.2681818 & 0.1045455 & 0.1931818 & 0.6343562\\\\\n\tClass: Cereales & 0.5384615 & 0.6383764 & 0.4814815 & 0.6892430 & 0.4814815 & 0.5384615 & 0.5083799 & 0.3840909 & 0.2068182 & 0.4295455 & 0.5884190\\\\\n\\end{tabular}\n",
            "text/plain": [
              "                           Sensitivity Specificity Pos Pred Value\n",
              "Class: Avena               0.7320261   0.8118467   0.6746988     \n",
              "Class: Barrita de desayuno 0.3898305   0.8788820   0.5411765     \n",
              "Class: Cereales            0.5384615   0.6383764   0.4814815     \n",
              "                           Neg Pred Value Precision Recall    F1       \n",
              "Class: Avena               0.8503650      0.6746988 0.7320261 0.7021944\n",
              "Class: Barrita de desayuno 0.7971831      0.5411765 0.3898305 0.4532020\n",
              "Class: Cereales            0.6892430      0.4814815 0.5384615 0.5083799\n",
              "                           Prevalence Detection Rate Detection Prevalence\n",
              "Class: Avena               0.3477273  0.2545455      0.3772727           \n",
              "Class: Barrita de desayuno 0.2681818  0.1045455      0.1931818           \n",
              "Class: Cereales            0.3840909  0.2068182      0.4295455           \n",
              "                           Balanced Accuracy\n",
              "Class: Avena               0.7719364        \n",
              "Class: Barrita de desayuno 0.6343562        \n",
              "Class: Cereales            0.5884190        "
            ]
          },
          "metadata": {}
        }
      ]
    },
    {
      "cell_type": "markdown",
      "source": [
        "Nótese que la predicción requiere de 3 clases diferentes. Es por ello que la matriz de confusión presenta los indicadores divididos por cada uno de los tres valores, para saber qué tan buena es la predicción para cada posible desayuno. Si se hubiese definido el desayuno a predecir, los resultados hubiesen salido solo para ese tipo de desayuno.\n",
        "\n",
        "Como puede analizarse, la avena es la más fácil de predecir (F=70%, precisión 67.5% y exhaustividad 73.2%). Para las otras dos clases, los F scores son menores al 50%.\n",
        "\n",
        "Los siguientes son los pasos para obtener una curva COR para la avena."
      ],
      "metadata": {
        "id": "4T1GEV_fIK8X"
      }
    },
    {
      "cell_type": "code",
      "source": [
        "#crear resultados 1 o 0 para la predicción de Avena\n",
        "avenas<-ifelse(cereal.test$desayuno==\"Avena\",1,0)"
      ],
      "metadata": {
        "id": "H8zzaT1g_fNe"
      },
      "execution_count": null,
      "outputs": []
    },
    {
      "cell_type": "code",
      "source": [
        "prednaiveprob"
      ],
      "metadata": {
        "colab": {
          "base_uri": "https://localhost:8080/",
          "height": 1000
        },
        "id": "z4TKmjlRPWAn",
        "outputId": "53bff44d-47a2-4a95-81c9-674ee17b9e3e"
      },
      "execution_count": null,
      "outputs": [
        {
          "output_type": "display_data",
          "data": {
            "text/html": [
              "<table class=\"dataframe\">\n",
              "<caption>A matrix: 440 × 3 of type dbl</caption>\n",
              "<thead>\n",
              "\t<tr><th scope=col>Avena</th><th scope=col>Barrita de desayuno</th><th scope=col>Cereales</th></tr>\n",
              "</thead>\n",
              "<tbody>\n",
              "\t<tr><td>0.09691225</td><td>0.50459266</td><td>0.3984951</td></tr>\n",
              "\t<tr><td>0.74023104</td><td>0.03447237</td><td>0.2252966</td></tr>\n",
              "\t<tr><td>0.17330115</td><td>0.27984088</td><td>0.5468580</td></tr>\n",
              "\t<tr><td>0.09691225</td><td>0.50459266</td><td>0.3984951</td></tr>\n",
              "\t<tr><td>0.17330115</td><td>0.27984088</td><td>0.5468580</td></tr>\n",
              "\t<tr><td>0.16418117</td><td>0.23713794</td><td>0.5986809</td></tr>\n",
              "\t<tr><td>0.03438956</td><td>0.26799798</td><td>0.6976125</td></tr>\n",
              "\t<tr><td>0.01274981</td><td>0.71169497</td><td>0.2755552</td></tr>\n",
              "\t<tr><td>0.66177588</td><td>0.11109621</td><td>0.2271279</td></tr>\n",
              "\t<tr><td>0.47621661</td><td>0.07058258</td><td>0.4532008</td></tr>\n",
              "\t<tr><td>0.16418117</td><td>0.23713794</td><td>0.5986809</td></tr>\n",
              "\t<tr><td>0.32038193</td><td>0.30423861</td><td>0.3753795</td></tr>\n",
              "\t<tr><td>0.09691225</td><td>0.50459266</td><td>0.3984951</td></tr>\n",
              "\t<tr><td>0.60476441</td><td>0.22553160</td><td>0.1697040</td></tr>\n",
              "\t<tr><td>0.47621661</td><td>0.07058258</td><td>0.4532008</td></tr>\n",
              "\t<tr><td>0.01851078</td><td>0.41605445</td><td>0.5654348</td></tr>\n",
              "\t<tr><td>0.34958789</td><td>0.14944103</td><td>0.5009711</td></tr>\n",
              "\t<tr><td>0.34958789</td><td>0.14944103</td><td>0.5009711</td></tr>\n",
              "\t<tr><td>0.76019776</td><td>0.03957878</td><td>0.2002235</td></tr>\n",
              "\t<tr><td>0.74023104</td><td>0.03447237</td><td>0.2252966</td></tr>\n",
              "\t<tr><td>0.73948136</td><td>0.07650043</td><td>0.1840182</td></tr>\n",
              "\t<tr><td>0.03438956</td><td>0.26799798</td><td>0.6976125</td></tr>\n",
              "\t<tr><td>0.03438956</td><td>0.26799798</td><td>0.6976125</td></tr>\n",
              "\t<tr><td>0.09607169</td><td>0.44743056</td><td>0.4564978</td></tr>\n",
              "\t<tr><td>0.03438956</td><td>0.26799798</td><td>0.6976125</td></tr>\n",
              "\t<tr><td>0.02865550</td><td>0.49607305</td><td>0.4752715</td></tr>\n",
              "\t<tr><td>0.34958789</td><td>0.14944103</td><td>0.5009711</td></tr>\n",
              "\t<tr><td>0.64651020</td><td>0.09708043</td><td>0.2564094</td></tr>\n",
              "\t<tr><td>0.34958789</td><td>0.14944103</td><td>0.5009711</td></tr>\n",
              "\t<tr><td>0.01274981</td><td>0.71169497</td><td>0.2755552</td></tr>\n",
              "\t<tr><td>⋮</td><td>⋮</td><td>⋮</td></tr>\n",
              "\t<tr><td>0.47621661</td><td>0.07058258</td><td>0.4532008</td></tr>\n",
              "\t<tr><td>0.76019776</td><td>0.03957878</td><td>0.2002235</td></tr>\n",
              "\t<tr><td>0.01317445</td><td>0.65779498</td><td>0.3290306</td></tr>\n",
              "\t<tr><td>0.09607169</td><td>0.44743056</td><td>0.4564978</td></tr>\n",
              "\t<tr><td>0.47621661</td><td>0.07058258</td><td>0.4532008</td></tr>\n",
              "\t<tr><td>0.06278149</td><td>0.72615063</td><td>0.2110679</td></tr>\n",
              "\t<tr><td>0.16418117</td><td>0.23713794</td><td>0.5986809</td></tr>\n",
              "\t<tr><td>0.01851078</td><td>0.41605445</td><td>0.5654348</td></tr>\n",
              "\t<tr><td>0.16418117</td><td>0.23713794</td><td>0.5986809</td></tr>\n",
              "\t<tr><td>0.34958789</td><td>0.14944103</td><td>0.5009711</td></tr>\n",
              "\t<tr><td>0.66177588</td><td>0.11109621</td><td>0.2271279</td></tr>\n",
              "\t<tr><td>0.47453084</td><td>0.15623929</td><td>0.3692299</td></tr>\n",
              "\t<tr><td>0.01851078</td><td>0.41605445</td><td>0.5654348</td></tr>\n",
              "\t<tr><td>0.75131421</td><td>0.08689409</td><td>0.1617917</td></tr>\n",
              "\t<tr><td>0.75131421</td><td>0.08689409</td><td>0.1617917</td></tr>\n",
              "\t<tr><td>0.47621661</td><td>0.07058258</td><td>0.4532008</td></tr>\n",
              "\t<tr><td>0.74023104</td><td>0.03447237</td><td>0.2252966</td></tr>\n",
              "\t<tr><td>0.36791609</td><td>0.17583052</td><td>0.4562534</td></tr>\n",
              "\t<tr><td>0.09691225</td><td>0.50459266</td><td>0.3984951</td></tr>\n",
              "\t<tr><td>0.36791609</td><td>0.17583052</td><td>0.4562534</td></tr>\n",
              "\t<tr><td>0.01851078</td><td>0.41605445</td><td>0.5654348</td></tr>\n",
              "\t<tr><td>0.09691225</td><td>0.50459266</td><td>0.3984951</td></tr>\n",
              "\t<tr><td>0.44796800</td><td>0.05938926</td><td>0.4926427</td></tr>\n",
              "\t<tr><td>0.36791609</td><td>0.17583052</td><td>0.4562534</td></tr>\n",
              "\t<tr><td>0.74023104</td><td>0.03447237</td><td>0.2252966</td></tr>\n",
              "\t<tr><td>0.73948136</td><td>0.07650043</td><td>0.1840182</td></tr>\n",
              "\t<tr><td>0.64651020</td><td>0.09708043</td><td>0.2564094</td></tr>\n",
              "\t<tr><td>0.01851078</td><td>0.41605445</td><td>0.5654348</td></tr>\n",
              "\t<tr><td>0.09691225</td><td>0.50459266</td><td>0.3984951</td></tr>\n",
              "\t<tr><td>0.75131421</td><td>0.08689409</td><td>0.1617917</td></tr>\n",
              "</tbody>\n",
              "</table>\n"
            ],
            "text/markdown": "\nA matrix: 440 × 3 of type dbl\n\n| Avena | Barrita de desayuno | Cereales |\n|---|---|---|\n| 0.09691225 | 0.50459266 | 0.3984951 |\n| 0.74023104 | 0.03447237 | 0.2252966 |\n| 0.17330115 | 0.27984088 | 0.5468580 |\n| 0.09691225 | 0.50459266 | 0.3984951 |\n| 0.17330115 | 0.27984088 | 0.5468580 |\n| 0.16418117 | 0.23713794 | 0.5986809 |\n| 0.03438956 | 0.26799798 | 0.6976125 |\n| 0.01274981 | 0.71169497 | 0.2755552 |\n| 0.66177588 | 0.11109621 | 0.2271279 |\n| 0.47621661 | 0.07058258 | 0.4532008 |\n| 0.16418117 | 0.23713794 | 0.5986809 |\n| 0.32038193 | 0.30423861 | 0.3753795 |\n| 0.09691225 | 0.50459266 | 0.3984951 |\n| 0.60476441 | 0.22553160 | 0.1697040 |\n| 0.47621661 | 0.07058258 | 0.4532008 |\n| 0.01851078 | 0.41605445 | 0.5654348 |\n| 0.34958789 | 0.14944103 | 0.5009711 |\n| 0.34958789 | 0.14944103 | 0.5009711 |\n| 0.76019776 | 0.03957878 | 0.2002235 |\n| 0.74023104 | 0.03447237 | 0.2252966 |\n| 0.73948136 | 0.07650043 | 0.1840182 |\n| 0.03438956 | 0.26799798 | 0.6976125 |\n| 0.03438956 | 0.26799798 | 0.6976125 |\n| 0.09607169 | 0.44743056 | 0.4564978 |\n| 0.03438956 | 0.26799798 | 0.6976125 |\n| 0.02865550 | 0.49607305 | 0.4752715 |\n| 0.34958789 | 0.14944103 | 0.5009711 |\n| 0.64651020 | 0.09708043 | 0.2564094 |\n| 0.34958789 | 0.14944103 | 0.5009711 |\n| 0.01274981 | 0.71169497 | 0.2755552 |\n| ⋮ | ⋮ | ⋮ |\n| 0.47621661 | 0.07058258 | 0.4532008 |\n| 0.76019776 | 0.03957878 | 0.2002235 |\n| 0.01317445 | 0.65779498 | 0.3290306 |\n| 0.09607169 | 0.44743056 | 0.4564978 |\n| 0.47621661 | 0.07058258 | 0.4532008 |\n| 0.06278149 | 0.72615063 | 0.2110679 |\n| 0.16418117 | 0.23713794 | 0.5986809 |\n| 0.01851078 | 0.41605445 | 0.5654348 |\n| 0.16418117 | 0.23713794 | 0.5986809 |\n| 0.34958789 | 0.14944103 | 0.5009711 |\n| 0.66177588 | 0.11109621 | 0.2271279 |\n| 0.47453084 | 0.15623929 | 0.3692299 |\n| 0.01851078 | 0.41605445 | 0.5654348 |\n| 0.75131421 | 0.08689409 | 0.1617917 |\n| 0.75131421 | 0.08689409 | 0.1617917 |\n| 0.47621661 | 0.07058258 | 0.4532008 |\n| 0.74023104 | 0.03447237 | 0.2252966 |\n| 0.36791609 | 0.17583052 | 0.4562534 |\n| 0.09691225 | 0.50459266 | 0.3984951 |\n| 0.36791609 | 0.17583052 | 0.4562534 |\n| 0.01851078 | 0.41605445 | 0.5654348 |\n| 0.09691225 | 0.50459266 | 0.3984951 |\n| 0.44796800 | 0.05938926 | 0.4926427 |\n| 0.36791609 | 0.17583052 | 0.4562534 |\n| 0.74023104 | 0.03447237 | 0.2252966 |\n| 0.73948136 | 0.07650043 | 0.1840182 |\n| 0.64651020 | 0.09708043 | 0.2564094 |\n| 0.01851078 | 0.41605445 | 0.5654348 |\n| 0.09691225 | 0.50459266 | 0.3984951 |\n| 0.75131421 | 0.08689409 | 0.1617917 |\n\n",
            "text/latex": "A matrix: 440 × 3 of type dbl\n\\begin{tabular}{lll}\n Avena & Barrita de desayuno & Cereales\\\\\n\\hline\n\t 0.09691225 & 0.50459266 & 0.3984951\\\\\n\t 0.74023104 & 0.03447237 & 0.2252966\\\\\n\t 0.17330115 & 0.27984088 & 0.5468580\\\\\n\t 0.09691225 & 0.50459266 & 0.3984951\\\\\n\t 0.17330115 & 0.27984088 & 0.5468580\\\\\n\t 0.16418117 & 0.23713794 & 0.5986809\\\\\n\t 0.03438956 & 0.26799798 & 0.6976125\\\\\n\t 0.01274981 & 0.71169497 & 0.2755552\\\\\n\t 0.66177588 & 0.11109621 & 0.2271279\\\\\n\t 0.47621661 & 0.07058258 & 0.4532008\\\\\n\t 0.16418117 & 0.23713794 & 0.5986809\\\\\n\t 0.32038193 & 0.30423861 & 0.3753795\\\\\n\t 0.09691225 & 0.50459266 & 0.3984951\\\\\n\t 0.60476441 & 0.22553160 & 0.1697040\\\\\n\t 0.47621661 & 0.07058258 & 0.4532008\\\\\n\t 0.01851078 & 0.41605445 & 0.5654348\\\\\n\t 0.34958789 & 0.14944103 & 0.5009711\\\\\n\t 0.34958789 & 0.14944103 & 0.5009711\\\\\n\t 0.76019776 & 0.03957878 & 0.2002235\\\\\n\t 0.74023104 & 0.03447237 & 0.2252966\\\\\n\t 0.73948136 & 0.07650043 & 0.1840182\\\\\n\t 0.03438956 & 0.26799798 & 0.6976125\\\\\n\t 0.03438956 & 0.26799798 & 0.6976125\\\\\n\t 0.09607169 & 0.44743056 & 0.4564978\\\\\n\t 0.03438956 & 0.26799798 & 0.6976125\\\\\n\t 0.02865550 & 0.49607305 & 0.4752715\\\\\n\t 0.34958789 & 0.14944103 & 0.5009711\\\\\n\t 0.64651020 & 0.09708043 & 0.2564094\\\\\n\t 0.34958789 & 0.14944103 & 0.5009711\\\\\n\t 0.01274981 & 0.71169497 & 0.2755552\\\\\n\t ⋮ & ⋮ & ⋮\\\\\n\t 0.47621661 & 0.07058258 & 0.4532008\\\\\n\t 0.76019776 & 0.03957878 & 0.2002235\\\\\n\t 0.01317445 & 0.65779498 & 0.3290306\\\\\n\t 0.09607169 & 0.44743056 & 0.4564978\\\\\n\t 0.47621661 & 0.07058258 & 0.4532008\\\\\n\t 0.06278149 & 0.72615063 & 0.2110679\\\\\n\t 0.16418117 & 0.23713794 & 0.5986809\\\\\n\t 0.01851078 & 0.41605445 & 0.5654348\\\\\n\t 0.16418117 & 0.23713794 & 0.5986809\\\\\n\t 0.34958789 & 0.14944103 & 0.5009711\\\\\n\t 0.66177588 & 0.11109621 & 0.2271279\\\\\n\t 0.47453084 & 0.15623929 & 0.3692299\\\\\n\t 0.01851078 & 0.41605445 & 0.5654348\\\\\n\t 0.75131421 & 0.08689409 & 0.1617917\\\\\n\t 0.75131421 & 0.08689409 & 0.1617917\\\\\n\t 0.47621661 & 0.07058258 & 0.4532008\\\\\n\t 0.74023104 & 0.03447237 & 0.2252966\\\\\n\t 0.36791609 & 0.17583052 & 0.4562534\\\\\n\t 0.09691225 & 0.50459266 & 0.3984951\\\\\n\t 0.36791609 & 0.17583052 & 0.4562534\\\\\n\t 0.01851078 & 0.41605445 & 0.5654348\\\\\n\t 0.09691225 & 0.50459266 & 0.3984951\\\\\n\t 0.44796800 & 0.05938926 & 0.4926427\\\\\n\t 0.36791609 & 0.17583052 & 0.4562534\\\\\n\t 0.74023104 & 0.03447237 & 0.2252966\\\\\n\t 0.73948136 & 0.07650043 & 0.1840182\\\\\n\t 0.64651020 & 0.09708043 & 0.2564094\\\\\n\t 0.01851078 & 0.41605445 & 0.5654348\\\\\n\t 0.09691225 & 0.50459266 & 0.3984951\\\\\n\t 0.75131421 & 0.08689409 & 0.1617917\\\\\n\\end{tabular}\n",
            "text/plain": [
              "      Avena      Barrita de desayuno Cereales \n",
              " [1,] 0.09691225 0.50459266          0.3984951\n",
              " [2,] 0.74023104 0.03447237          0.2252966\n",
              " [3,] 0.17330115 0.27984088          0.5468580\n",
              " [4,] 0.09691225 0.50459266          0.3984951\n",
              " [5,] 0.17330115 0.27984088          0.5468580\n",
              " [6,] 0.16418117 0.23713794          0.5986809\n",
              " [7,] 0.03438956 0.26799798          0.6976125\n",
              " [8,] 0.01274981 0.71169497          0.2755552\n",
              " [9,] 0.66177588 0.11109621          0.2271279\n",
              "[10,] 0.47621661 0.07058258          0.4532008\n",
              "[11,] 0.16418117 0.23713794          0.5986809\n",
              "[12,] 0.32038193 0.30423861          0.3753795\n",
              "[13,] 0.09691225 0.50459266          0.3984951\n",
              "[14,] 0.60476441 0.22553160          0.1697040\n",
              "[15,] 0.47621661 0.07058258          0.4532008\n",
              "[16,] 0.01851078 0.41605445          0.5654348\n",
              "[17,] 0.34958789 0.14944103          0.5009711\n",
              "[18,] 0.34958789 0.14944103          0.5009711\n",
              "[19,] 0.76019776 0.03957878          0.2002235\n",
              "[20,] 0.74023104 0.03447237          0.2252966\n",
              "[21,] 0.73948136 0.07650043          0.1840182\n",
              "[22,] 0.03438956 0.26799798          0.6976125\n",
              "[23,] 0.03438956 0.26799798          0.6976125\n",
              "[24,] 0.09607169 0.44743056          0.4564978\n",
              "[25,] 0.03438956 0.26799798          0.6976125\n",
              "[26,] 0.02865550 0.49607305          0.4752715\n",
              "[27,] 0.34958789 0.14944103          0.5009711\n",
              "[28,] 0.64651020 0.09708043          0.2564094\n",
              "[29,] 0.34958789 0.14944103          0.5009711\n",
              "[30,] 0.01274981 0.71169497          0.2755552\n",
              "[31,] ⋮          ⋮                   ⋮        \n",
              "[32,] 0.47621661 0.07058258          0.4532008\n",
              "[33,] 0.76019776 0.03957878          0.2002235\n",
              "[34,] 0.01317445 0.65779498          0.3290306\n",
              "[35,] 0.09607169 0.44743056          0.4564978\n",
              "[36,] 0.47621661 0.07058258          0.4532008\n",
              "[37,] 0.06278149 0.72615063          0.2110679\n",
              "[38,] 0.16418117 0.23713794          0.5986809\n",
              "[39,] 0.01851078 0.41605445          0.5654348\n",
              "[40,] 0.16418117 0.23713794          0.5986809\n",
              "[41,] 0.34958789 0.14944103          0.5009711\n",
              "[42,] 0.66177588 0.11109621          0.2271279\n",
              "[43,] 0.47453084 0.15623929          0.3692299\n",
              "[44,] 0.01851078 0.41605445          0.5654348\n",
              "[45,] 0.75131421 0.08689409          0.1617917\n",
              "[46,] 0.75131421 0.08689409          0.1617917\n",
              "[47,] 0.47621661 0.07058258          0.4532008\n",
              "[48,] 0.74023104 0.03447237          0.2252966\n",
              "[49,] 0.36791609 0.17583052          0.4562534\n",
              "[50,] 0.09691225 0.50459266          0.3984951\n",
              "[51,] 0.36791609 0.17583052          0.4562534\n",
              "[52,] 0.01851078 0.41605445          0.5654348\n",
              "[53,] 0.09691225 0.50459266          0.3984951\n",
              "[54,] 0.44796800 0.05938926          0.4926427\n",
              "[55,] 0.36791609 0.17583052          0.4562534\n",
              "[56,] 0.74023104 0.03447237          0.2252966\n",
              "[57,] 0.73948136 0.07650043          0.1840182\n",
              "[58,] 0.64651020 0.09708043          0.2564094\n",
              "[59,] 0.01851078 0.41605445          0.5654348\n",
              "[60,] 0.09691225 0.50459266          0.3984951\n",
              "[61,] 0.75131421 0.08689409          0.1617917"
            ]
          },
          "metadata": {}
        }
      ]
    },
    {
      "cell_type": "code",
      "source": [
        "#crear el objeto de prediccion\n",
        "predcor<-prediction(prednaiveprob[,1], avenas)"
      ],
      "metadata": {
        "id": "wu_xIWfN_kyU"
      },
      "execution_count": null,
      "outputs": []
    },
    {
      "cell_type": "code",
      "source": [
        "curvaROC<-performance(predcor,measure=\"tpr\",x.measure=\"fpr\")"
      ],
      "metadata": {
        "id": "FsKKZs1Y_mjt"
      },
      "execution_count": null,
      "outputs": []
    },
    {
      "cell_type": "code",
      "source": [
        "#grafico de la curva\n",
        "plot(curvaROC)"
      ],
      "metadata": {
        "id": "cfLRKA6B_oWG",
        "colab": {
          "base_uri": "https://localhost:8080/",
          "height": 437
        },
        "outputId": "8f28c652-34da-4c9e-ae45-1dd025518c02"
      },
      "execution_count": null,
      "outputs": [
        {
          "output_type": "display_data",
          "data": {
            "text/plain": [
              "plot without title"
            ],
            "image/png": "[encoded data removed]"
          },
          "metadata": {
            "image/png": {
              "width": 420,
              "height": 420
            }
          }
        }
      ]
    },
    {
      "cell_type": "code",
      "source": [
        "#calcular el AUC\n",
        "auc<-performance(predcor,measure = \"auc\")\n",
        "auc <- auc@y.values[[1]]\n",
        "#ver el AUC\n",
        "auc"
      ],
      "metadata": {
        "id": "J4L-ij0K_pYO",
        "colab": {
          "base_uri": "https://localhost:8080/",
          "height": 34
        },
        "outputId": "92fb30e1-8cfa-47af-952f-f0a3c3f9e989"
      },
      "execution_count": null,
      "outputs": [
        {
          "output_type": "display_data",
          "data": {
            "text/html": [
              "0.851927762975109"
            ],
            "text/markdown": "0.851927762975109",
            "text/latex": "0.851927762975109",
            "text/plain": [
              "[1] 0.8519278"
            ]
          },
          "metadata": {}
        }
      ]
    },
    {
      "cell_type": "markdown",
      "source": [
        "El resultado para avena es bueno. Sin embargo miremos el resultado para cereal."
      ],
      "metadata": {
        "id": "gREyGlrIINlB"
      }
    },
    {
      "cell_type": "code",
      "source": [
        "#crear resultados 1 o 0 para la predicción de cereal\n",
        "cerealk<-ifelse(cereal.test$desayuno==\"Cereales\",1,0)"
      ],
      "metadata": {
        "id": "vmzqlNQV_sWN"
      },
      "execution_count": null,
      "outputs": []
    },
    {
      "cell_type": "code",
      "source": [
        "#crear el objeto de prediccion\n",
        "predcor2<-prediction(prednaiveprob[,3], cerealk)"
      ],
      "metadata": {
        "id": "IY-sIupx_tu8"
      },
      "execution_count": null,
      "outputs": []
    },
    {
      "cell_type": "code",
      "source": [
        "curvaROC2<-performance(predcor2,measure=\"tpr\",x.measure=\"fpr\")"
      ],
      "metadata": {
        "id": "Fx74ZzsC_tzu"
      },
      "execution_count": null,
      "outputs": []
    },
    {
      "cell_type": "code",
      "source": [
        "#grafico de la curva\n",
        "plot(curvaROC2)"
      ],
      "metadata": {
        "id": "lV7Ohg-E_ydN",
        "colab": {
          "base_uri": "https://localhost:8080/",
          "height": 437
        },
        "outputId": "54c6bb37-972f-458a-f78f-7f43d2b63d4b"
      },
      "execution_count": null,
      "outputs": [
        {
          "output_type": "display_data",
          "data": {
            "text/plain": [
              "plot without title"
            ],
            "image/png": "[encoded data removed]"
          },
          "metadata": {
            "image/png": {
              "width": 420,
              "height": 420
            }
          }
        }
      ]
    },
    {
      "cell_type": "code",
      "source": [
        "#calcular el AUC\n",
        "auc2<-performance(predcor2,measure = \"auc\")\n",
        "auc2<- auc2@y.values[[1]]"
      ],
      "metadata": {
        "id": "LWHUJ1IH_1_N"
      },
      "execution_count": null,
      "outputs": []
    },
    {
      "cell_type": "code",
      "source": [
        "#ver el AUC\n",
        "auc2"
      ],
      "metadata": {
        "id": "t1evF8Xu_2l_",
        "colab": {
          "base_uri": "https://localhost:8080/",
          "height": 34
        },
        "outputId": "63ea2d61-683a-4a04-a821-ba2de1596982"
      },
      "execution_count": null,
      "outputs": [
        {
          "output_type": "display_data",
          "data": {
            "text/html": [
              "0.623954671499378"
            ],
            "text/markdown": "0.623954671499378",
            "text/latex": "0.623954671499378",
            "text/plain": [
              "[1] 0.6239547"
            ]
          },
          "metadata": {}
        }
      ]
    },
    {
      "cell_type": "markdown",
      "source": [
        "El resultado para cereal es de tan solo 63.4%, por lo que Naive Bayes no es muy satisfactorio para predecir esta categoría."
      ],
      "metadata": {
        "id": "JdYnBibZIQ9b"
      }
    },
    {
      "cell_type": "code",
      "source": [
        "#guardar las exhaustividades y puntos de corte\n",
        "tablafinan<-performance(predcor2,measure=\"rec\")\n",
        "cutoffs<-unlist(tablafinan@x.values)\n",
        "recalls<-unlist(tablafinan@y.values)"
      ],
      "metadata": {
        "id": "M84PSXex_5Rt"
      },
      "execution_count": null,
      "outputs": []
    },
    {
      "cell_type": "code",
      "source": [
        "#guardar las precisiones\n",
        "tablafina2<-performance(predcor2,measure=\"prec\")\n",
        "precisions<-unlist(tablafina2@y.values)"
      ],
      "metadata": {
        "id": "6GKx0chU_58F"
      },
      "execution_count": null,
      "outputs": []
    },
    {
      "cell_type": "code",
      "source": [
        "#guardar f scores\n",
        "tablafina3<-performance(predcor2,measure=\"f\")\n",
        "fscores<-unlist(tablafina3@y.values)"
      ],
      "metadata": {
        "id": "D3-SNmPE_82F"
      },
      "execution_count": null,
      "outputs": []
    },
    {
      "cell_type": "code",
      "source": [
        "#crear la tabla conjunta\n",
        "tablacruce<-as.data.frame(cbind(cutoffs,precisions,recalls,fscores))"
      ],
      "metadata": {
        "id": "O9DEVYD8__Ml"
      },
      "execution_count": null,
      "outputs": []
    },
    {
      "cell_type": "code",
      "source": [
        "#ver precisiones versus exhaustividad\n",
        "plot(tablacruce$precisions,tablacruce$recalls)"
      ],
      "metadata": {
        "id": "Y3YmDgrKAAmf",
        "colab": {
          "base_uri": "https://localhost:8080/",
          "height": 437
        },
        "outputId": "11c6a688-8169-4066-cf04-39542433bca0"
      },
      "execution_count": null,
      "outputs": [
        {
          "output_type": "display_data",
          "data": {
            "text/plain": [
              "plot without title"
            ],
            "image/png": "[encoded data removed]"
          },
          "metadata": {
            "image/png": {
              "width": 420,
              "height": 420
            }
          }
        }
      ]
    },
    {
      "cell_type": "code",
      "source": [
        "#ver el cutoff que maximiza f score\n",
        "ggplot(tablacruce, aes(cutoffs,fscores))+geom_point()"
      ],
      "metadata": {
        "id": "6L0ysMz7ACKG",
        "colab": {
          "base_uri": "https://localhost:8080/",
          "height": 472
        },
        "outputId": "67224168-eec4-44bf-f565-b7148d56de47"
      },
      "execution_count": null,
      "outputs": [
        {
          "output_type": "stream",
          "name": "stderr",
          "text": [
            "Warning message:\n",
            "“\u001b[1m\u001b[22mRemoved 1 rows containing missing values (`geom_point()`).”\n"
          ]
        },
        {
          "output_type": "display_data",
          "data": {
            "text/plain": [
              "plot without title"
            ],
            "image/png": "[encoded data removed]"
          },
          "metadata": {
            "image/png": {
              "width": 420,
              "height": 420
            }
          }
        }
      ]
    },
    {
      "cell_type": "code",
      "source": [
        "#calcular las ganancias\n",
        "tabla<-table(cereal.test$desayuno)\n",
        "prop.table(tabla)[3]\n",
        "tablacruce$ganancias<-prop.table(tabla)[3]*recalls*(250-(100/precisions))"
      ],
      "metadata": {
        "id": "56m8fyRsAEJ9",
        "colab": {
          "base_uri": "https://localhost:8080/",
          "height": 34
        },
        "outputId": "ee9bee94-2ba4-4387-e3f3-b993e3a2f42e"
      },
      "execution_count": null,
      "outputs": [
        {
          "output_type": "display_data",
          "data": {
            "text/html": [
              "<strong>Cereales:</strong> 0.384090909090909"
            ],
            "text/markdown": "**Cereales:** 0.384090909090909",
            "text/latex": "\\textbf{Cereales:} 0.384090909090909",
            "text/plain": [
              " Cereales \n",
              "0.3840909 "
            ]
          },
          "metadata": {}
        }
      ]
    },
    {
      "cell_type": "code",
      "source": [
        "#pintar las ganancias versus los cutoffs\n",
        "plot(tablacruce$cutoffs,tablacruce$ganancias)"
      ],
      "metadata": {
        "id": "auEtfBg3AGIt",
        "colab": {
          "base_uri": "https://localhost:8080/",
          "height": 437
        },
        "outputId": "ee8336b0-d11f-467c-a940-aa04d381f344"
      },
      "execution_count": null,
      "outputs": [
        {
          "output_type": "display_data",
          "data": {
            "text/plain": [
              "plot without title"
            ],
            "image/png": "[encoded data removed]"
          },
          "metadata": {
            "image/png": {
              "width": 420,
              "height": 420
            }
          }
        }
      ]
    },
    {
      "cell_type": "code",
      "source": [
        "#ver las ganancias frente a la precisi?n\n",
        "plot(tablacruce$precisions,tablacruce$ganancias)"
      ],
      "metadata": {
        "id": "WS7dI4hYAHgu",
        "colab": {
          "base_uri": "https://localhost:8080/",
          "height": 437
        },
        "outputId": "d2880c07-8c1b-4e9d-f5dd-0de25f131c31"
      },
      "execution_count": null,
      "outputs": [
        {
          "output_type": "display_data",
          "data": {
            "text/plain": [
              "plot without title"
            ],
            "image/png": "[encoded data removed]"
          },
          "metadata": {
            "image/png": {
              "width": 420,
              "height": 420
            }
          }
        }
      ]
    },
    {
      "cell_type": "markdown",
      "source": [
        "## Conclusión"
      ],
      "metadata": {
        "id": "uHoFtdG5IUnU"
      }
    },
    {
      "cell_type": "markdown",
      "source": [
        "En este libro de notas revisamos dos técnicas básicas de predicción, particularmente de clasificación, que pueden usarse como líneas de base ingenua y que son sorprendentemente buenas a pesar de su sencillez. Un modelo más sofisticado debe demostrar su utilidad frente a modelos ingenuos para justificar el esfuerzo de su realización. Así mismos estas técnicas básicas suelen ser altamente escalables a grandes volúmenes de datos.\n",
        "\n"
      ],
      "metadata": {
        "id": "nK6vP_mHIW4v"
      }
    }
  ]
}