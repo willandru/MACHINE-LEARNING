{
  "nbformat": 4,
  "nbformat_minor": 0,
  "metadata": {
    "colab": {
      "provenance": []
    },
    "kernelspec": {
      "name": "ir",
      "display_name": "R"
    },
    "language_info": {
      "name": "R"
    }
  },
  "cells": [
    {
      "cell_type": "code",
      "source": [
        "if (!require('readxl')) install.packages('readxl')\n",
        "if (!require('caret')) install.packages('caret')\n",
        "if (!require('MLmetrics')) install.packages('MLmetrics')\n",
        "if (!require('e1071')) install.packages('e1071')"
      ],
      "metadata": {
        "id": "oHqyHEaddVLJ"
      },
      "execution_count": null,
      "outputs": []
    },
    {
      "cell_type": "code",
      "source": [
        "library(readxl)\n",
        "library(caret)\n",
        "library(MLmetrics)\n",
        "library(ROCR)\n",
        "library(e1071)"
      ],
      "metadata": {
        "id": "TS4CYtSRAhxh"
      },
      "execution_count": null,
      "outputs": []
    },
    {
      "cell_type": "markdown",
      "source": [
        "##CARGAMOS LOS DATOS"
      ],
      "metadata": {
        "id": "ZoX-626SLblw"
      }
    },
    {
      "cell_type": "code",
      "execution_count": null,
      "metadata": {
        "colab": {
          "base_uri": "https://localhost:8080/"
        },
        "id": "t5EstlL2dAve",
        "outputId": "c55b9dca-5c1a-4510-f29a-796bcaaa6f1f"
      },
      "outputs": [
        {
          "output_type": "stream",
          "name": "stdout",
          "text": [
            "'data.frame':\t880 obs. of  5 variables:\n",
            " $ edad_cat: chr  \"Menor de 31\" \"46-60\" \"Mas de 60\" \"31-45\" ...\n",
            " $ genero  : chr  \"Hombre\" \"Hombre\" \"Hombre\" \"Mujer\" ...\n",
            " $ ecivil  : chr  \"Casado\" \"Casado\" \"Casado\" \"Casado\" ...\n",
            " $ activo  : chr  \"En activo\" \"Sin actividad\" \"Sin actividad\" \"En activo\" ...\n",
            " $ desayuno: chr  \"Cereales\" \"Barrita de desayuno\" \"Avena\" \"Avena\" ...\n"
          ]
        }
      ],
      "source": [
        "cereal<-read.csv(\"/content/cereal2.csv\", header=TRUE, sep=\";\", dec=\",\")\n",
        "str(cereal)"
      ]
    },
    {
      "cell_type": "markdown",
      "source": [
        "##PREPROCESAMIENTO"
      ],
      "metadata": {
        "id": "-6utJKe1LgBL"
      }
    },
    {
      "cell_type": "markdown",
      "source": [
        "### Modifica la variable 'desayuno' para saber \" Si consume Avena\" vs \" No consume Avena\""
      ],
      "metadata": {
        "id": "ri-GyeDMLsGJ"
      }
    },
    {
      "cell_type": "code",
      "source": [
        "cereal$desayuno <- ifelse(cereal$desayuno == \"Avena\", \"Avena\", \"Otros\")"
      ],
      "metadata": {
        "id": "PhzXWLaZ--vy"
      },
      "execution_count": null,
      "outputs": []
    },
    {
      "cell_type": "code",
      "source": [
        "head(cereal)"
      ],
      "metadata": {
        "colab": {
          "base_uri": "https://localhost:8080/",
          "height": 286
        },
        "id": "oksp179n-_-H",
        "outputId": "f3ffe287-d803-49ba-ab37-f2c373f37b5b"
      },
      "execution_count": null,
      "outputs": [
        {
          "output_type": "display_data",
          "data": {
            "text/html": [
              "<table class=\"dataframe\">\n",
              "<caption>A data.frame: 6 × 5</caption>\n",
              "<thead>\n",
              "\t<tr><th></th><th scope=col>edad_cat</th><th scope=col>genero</th><th scope=col>ecivil</th><th scope=col>activo</th><th scope=col>desayuno</th></tr>\n",
              "\t<tr><th></th><th scope=col>&lt;chr&gt;</th><th scope=col>&lt;chr&gt;</th><th scope=col>&lt;chr&gt;</th><th scope=col>&lt;chr&gt;</th><th scope=col>&lt;chr&gt;</th></tr>\n",
              "</thead>\n",
              "<tbody>\n",
              "\t<tr><th scope=row>1</th><td>Menor de 31</td><td>Hombre</td><td>Casado</td><td>En activo    </td><td>Otros</td></tr>\n",
              "\t<tr><th scope=row>2</th><td>46-60      </td><td>Hombre</td><td>Casado</td><td>Sin actividad</td><td>Otros</td></tr>\n",
              "\t<tr><th scope=row>3</th><td>Mas de 60  </td><td>Hombre</td><td>Casado</td><td>Sin actividad</td><td>Avena</td></tr>\n",
              "\t<tr><th scope=row>4</th><td>31-45      </td><td>Mujer </td><td>Casado</td><td>En activo    </td><td>Avena</td></tr>\n",
              "\t<tr><th scope=row>5</th><td>46-60      </td><td>Hombre</td><td>Casado</td><td>Sin actividad</td><td>Avena</td></tr>\n",
              "\t<tr><th scope=row>6</th><td>Mas de 60  </td><td>Hombre</td><td>Casado</td><td>Sin actividad</td><td>Otros</td></tr>\n",
              "</tbody>\n",
              "</table>\n"
            ],
            "text/markdown": "\nA data.frame: 6 × 5\n\n| <!--/--> | edad_cat &lt;chr&gt; | genero &lt;chr&gt; | ecivil &lt;chr&gt; | activo &lt;chr&gt; | desayuno &lt;chr&gt; |\n|---|---|---|---|---|---|\n| 1 | Menor de 31 | Hombre | Casado | En activo     | Otros |\n| 2 | 46-60       | Hombre | Casado | Sin actividad | Otros |\n| 3 | Mas de 60   | Hombre | Casado | Sin actividad | Avena |\n| 4 | 31-45       | Mujer  | Casado | En activo     | Avena |\n| 5 | 46-60       | Hombre | Casado | Sin actividad | Avena |\n| 6 | Mas de 60   | Hombre | Casado | Sin actividad | Otros |\n\n",
            "text/latex": "A data.frame: 6 × 5\n\\begin{tabular}{r|lllll}\n  & edad\\_cat & genero & ecivil & activo & desayuno\\\\\n  & <chr> & <chr> & <chr> & <chr> & <chr>\\\\\n\\hline\n\t1 & Menor de 31 & Hombre & Casado & En activo     & Otros\\\\\n\t2 & 46-60       & Hombre & Casado & Sin actividad & Otros\\\\\n\t3 & Mas de 60   & Hombre & Casado & Sin actividad & Avena\\\\\n\t4 & 31-45       & Mujer  & Casado & En activo     & Avena\\\\\n\t5 & 46-60       & Hombre & Casado & Sin actividad & Avena\\\\\n\t6 & Mas de 60   & Hombre & Casado & Sin actividad & Otros\\\\\n\\end{tabular}\n",
            "text/plain": [
              "  edad_cat    genero ecivil activo        desayuno\n",
              "1 Menor de 31 Hombre Casado En activo     Otros   \n",
              "2 46-60       Hombre Casado Sin actividad Otros   \n",
              "3 Mas de 60   Hombre Casado Sin actividad Avena   \n",
              "4 31-45       Mujer  Casado En activo     Avena   \n",
              "5 46-60       Hombre Casado Sin actividad Avena   \n",
              "6 Mas de 60   Hombre Casado Sin actividad Otros   "
            ]
          },
          "metadata": {}
        }
      ]
    },
    {
      "cell_type": "code",
      "source": [
        "##Crea un set completo de variables dummy\n",
        "cerealeswin<-dummyVars(\"~.\",data=cereal)\n",
        "cerealesfin<-as.data.frame(predict(cerealeswin,newdata=cereal))\n",
        "\n",
        "cerealesfin$desayunoOtros <- NULL\n",
        "colnames(cerealesfin) <- make.names(colnames(cerealesfin))"
      ],
      "metadata": {
        "id": "EZFzY9wN-_7y"
      },
      "execution_count": null,
      "outputs": []
    },
    {
      "cell_type": "code",
      "source": [
        "str(cerealesfin)"
      ],
      "metadata": {
        "colab": {
          "base_uri": "https://localhost:8080/"
        },
        "id": "KcDWlvQ0-_5Y",
        "outputId": "674a64a9-1970-49b4-a079-49f44bc7ea15"
      },
      "execution_count": null,
      "outputs": [
        {
          "output_type": "stream",
          "name": "stdout",
          "text": [
            "'data.frame':\t880 obs. of  11 variables:\n",
            " $ edad_cat31.45      : num  0 0 0 1 0 0 1 0 1 1 ...\n",
            " $ edad_cat46.60      : num  0 1 0 0 1 0 0 0 0 0 ...\n",
            " $ edad_catMas.de.60  : num  0 0 1 0 0 1 0 1 0 0 ...\n",
            " $ edad_catMenor.de.31: num  1 0 0 0 0 0 0 0 0 0 ...\n",
            " $ generoHombre       : num  1 1 1 0 1 1 0 0 0 0 ...\n",
            " $ generoMujer        : num  0 0 0 1 0 0 1 1 1 1 ...\n",
            " $ ecivilCasado       : num  1 1 1 1 1 1 1 0 1 1 ...\n",
            " $ ecivilSoltero      : num  0 0 0 0 0 0 0 1 0 0 ...\n",
            " $ activoEn.activo    : num  1 0 0 1 0 0 0 0 1 0 ...\n",
            " $ activoSin.actividad: num  0 1 1 0 1 1 1 1 0 1 ...\n",
            " $ desayunoAvena      : num  0 0 1 1 1 0 0 1 1 0 ...\n"
          ]
        }
      ]
    },
    {
      "cell_type": "markdown",
      "source": [
        "# DATASET DE PRUEBA Y ENTRENAMIENTO"
      ],
      "metadata": {
        "id": "bNIUE6Gq_Ke8"
      }
    },
    {
      "cell_type": "code",
      "source": [
        "set.seed(1)\n",
        "#aquí se define el tamaño de la muestra, en este caso entrenamiento tendrá el 75% de los casos\n",
        "sample <- sample.int(nrow(cerealesfin), floor(.75*nrow(cerealesfin)))\n",
        "cereal.train <- cerealesfin[sample, ]\n",
        "cereal.test <- cerealesfin[-sample, ]\n",
        "\n",
        "\n",
        "cereal.train1 <- cereal.train\n",
        "cereal.test1 <- cereal.test"
      ],
      "metadata": {
        "id": "8mGUnO0y-_uR"
      },
      "execution_count": null,
      "outputs": []
    },
    {
      "cell_type": "code",
      "source": [
        "str(cereal.train)"
      ],
      "metadata": {
        "colab": {
          "base_uri": "https://localhost:8080/"
        },
        "id": "8uWyv1ymE-_K",
        "outputId": "71ffd004-d223-4714-b42f-8063130e5310"
      },
      "execution_count": null,
      "outputs": [
        {
          "output_type": "stream",
          "name": "stdout",
          "text": [
            "'data.frame':\t660 obs. of  11 variables:\n",
            " $ edad_cat31.45      : num  0 1 0 0 0 0 0 1 0 0 ...\n",
            " $ edad_cat46.60      : num  0 0 1 1 0 1 0 0 1 1 ...\n",
            " $ edad_catMas.de.60  : num  0 0 0 0 0 0 1 0 0 0 ...\n",
            " $ edad_catMenor.de.31: num  1 0 0 0 1 0 0 0 0 0 ...\n",
            " $ generoHombre       : num  0 0 0 0 0 0 0 1 0 0 ...\n",
            " $ generoMujer        : num  1 1 1 1 1 1 1 0 1 1 ...\n",
            " $ ecivilCasado       : num  0 0 1 1 0 0 0 1 1 1 ...\n",
            " $ ecivilSoltero      : num  1 1 0 0 1 1 1 0 0 0 ...\n",
            " $ activoEn.activo    : num  1 0 0 0 1 0 1 0 0 0 ...\n",
            " $ activoSin.actividad: num  0 1 1 1 0 1 0 1 1 1 ...\n",
            " $ desayunoAvena      : num  0 0 1 0 0 1 0 0 0 0 ...\n"
          ]
        }
      ]
    },
    {
      "cell_type": "code",
      "source": [
        "cereal.train$desayunoAvena<-as.factor(cereal.train$desayunoAvena)\n",
        "cereal.train1$desayunoAvena<-as.factor(cereal.train1$desayunoAvena)\n",
        "cereal.test$desayunoAvena<-as.factor(cereal.test$desayunoAvena)\n",
        "cereal.test1$desayunoAvena<-as.factor(cereal.test1$desayunoAvena)"
      ],
      "metadata": {
        "id": "wpsmorsCE9kA"
      },
      "execution_count": null,
      "outputs": []
    },
    {
      "cell_type": "code",
      "source": [
        "str(cereal.train)"
      ],
      "metadata": {
        "colab": {
          "base_uri": "https://localhost:8080/"
        },
        "id": "1U0l04PjI3ry",
        "outputId": "9943a936-4480-46e8-e4c5-1a8a7126d48d"
      },
      "execution_count": null,
      "outputs": [
        {
          "output_type": "stream",
          "name": "stdout",
          "text": [
            "'data.frame':\t660 obs. of  11 variables:\n",
            " $ edad_cat31.45      : num  0 1 0 0 0 0 0 1 0 0 ...\n",
            " $ edad_cat46.60      : num  0 0 1 1 0 1 0 0 1 1 ...\n",
            " $ edad_catMas.de.60  : num  0 0 0 0 0 0 1 0 0 0 ...\n",
            " $ edad_catMenor.de.31: num  1 0 0 0 1 0 0 0 0 0 ...\n",
            " $ generoHombre       : num  0 0 0 0 0 0 0 1 0 0 ...\n",
            " $ generoMujer        : num  1 1 1 1 1 1 1 0 1 1 ...\n",
            " $ ecivilCasado       : num  0 0 1 1 0 0 0 1 1 1 ...\n",
            " $ ecivilSoltero      : num  1 1 0 0 1 1 1 0 0 0 ...\n",
            " $ activoEn.activo    : num  1 0 0 0 1 0 1 0 0 0 ...\n",
            " $ activoSin.actividad: num  0 1 1 1 0 1 0 1 1 1 ...\n",
            " $ desayunoAvena      : Factor w/ 2 levels \"0\",\"1\": 1 1 2 1 1 2 1 1 1 1 ...\n"
          ]
        }
      ]
    },
    {
      "cell_type": "code",
      "source": [
        "head(cereal.train)"
      ],
      "metadata": {
        "colab": {
          "base_uri": "https://localhost:8080/",
          "height": 306
        },
        "id": "0rnT0GYJKLNx",
        "outputId": "26db4b80-db33-4045-cd93-4dfa63cfdde1"
      },
      "execution_count": null,
      "outputs": [
        {
          "output_type": "display_data",
          "data": {
            "text/html": [
              "<table class=\"dataframe\">\n",
              "<caption>A data.frame: 6 × 11</caption>\n",
              "<thead>\n",
              "\t<tr><th></th><th scope=col>edad_cat31.45</th><th scope=col>edad_cat46.60</th><th scope=col>edad_catMas.de.60</th><th scope=col>edad_catMenor.de.31</th><th scope=col>generoHombre</th><th scope=col>generoMujer</th><th scope=col>ecivilCasado</th><th scope=col>ecivilSoltero</th><th scope=col>activoEn.activo</th><th scope=col>activoSin.actividad</th><th scope=col>desayunoAvena</th></tr>\n",
              "\t<tr><th></th><th scope=col>&lt;dbl&gt;</th><th scope=col>&lt;dbl&gt;</th><th scope=col>&lt;dbl&gt;</th><th scope=col>&lt;dbl&gt;</th><th scope=col>&lt;dbl&gt;</th><th scope=col>&lt;dbl&gt;</th><th scope=col>&lt;dbl&gt;</th><th scope=col>&lt;dbl&gt;</th><th scope=col>&lt;dbl&gt;</th><th scope=col>&lt;dbl&gt;</th><th scope=col>&lt;fct&gt;</th></tr>\n",
              "</thead>\n",
              "<tbody>\n",
              "\t<tr><th scope=row>836</th><td>0</td><td>0</td><td>0</td><td>1</td><td>0</td><td>1</td><td>0</td><td>1</td><td>1</td><td>0</td><td>0</td></tr>\n",
              "\t<tr><th scope=row>679</th><td>1</td><td>0</td><td>0</td><td>0</td><td>0</td><td>1</td><td>0</td><td>1</td><td>0</td><td>1</td><td>0</td></tr>\n",
              "\t<tr><th scope=row>129</th><td>0</td><td>1</td><td>0</td><td>0</td><td>0</td><td>1</td><td>1</td><td>0</td><td>0</td><td>1</td><td>1</td></tr>\n",
              "\t<tr><th scope=row>509</th><td>0</td><td>1</td><td>0</td><td>0</td><td>0</td><td>1</td><td>1</td><td>0</td><td>0</td><td>1</td><td>0</td></tr>\n",
              "\t<tr><th scope=row>471</th><td>0</td><td>0</td><td>0</td><td>1</td><td>0</td><td>1</td><td>0</td><td>1</td><td>1</td><td>0</td><td>0</td></tr>\n",
              "\t<tr><th scope=row>299</th><td>0</td><td>1</td><td>0</td><td>0</td><td>0</td><td>1</td><td>0</td><td>1</td><td>0</td><td>1</td><td>1</td></tr>\n",
              "</tbody>\n",
              "</table>\n"
            ],
            "text/markdown": "\nA data.frame: 6 × 11\n\n| <!--/--> | edad_cat31.45 &lt;dbl&gt; | edad_cat46.60 &lt;dbl&gt; | edad_catMas.de.60 &lt;dbl&gt; | edad_catMenor.de.31 &lt;dbl&gt; | generoHombre &lt;dbl&gt; | generoMujer &lt;dbl&gt; | ecivilCasado &lt;dbl&gt; | ecivilSoltero &lt;dbl&gt; | activoEn.activo &lt;dbl&gt; | activoSin.actividad &lt;dbl&gt; | desayunoAvena &lt;fct&gt; |\n|---|---|---|---|---|---|---|---|---|---|---|---|\n| 836 | 0 | 0 | 0 | 1 | 0 | 1 | 0 | 1 | 1 | 0 | 0 |\n| 679 | 1 | 0 | 0 | 0 | 0 | 1 | 0 | 1 | 0 | 1 | 0 |\n| 129 | 0 | 1 | 0 | 0 | 0 | 1 | 1 | 0 | 0 | 1 | 1 |\n| 509 | 0 | 1 | 0 | 0 | 0 | 1 | 1 | 0 | 0 | 1 | 0 |\n| 471 | 0 | 0 | 0 | 1 | 0 | 1 | 0 | 1 | 1 | 0 | 0 |\n| 299 | 0 | 1 | 0 | 0 | 0 | 1 | 0 | 1 | 0 | 1 | 1 |\n\n",
            "text/latex": "A data.frame: 6 × 11\n\\begin{tabular}{r|lllllllllll}\n  & edad\\_cat31.45 & edad\\_cat46.60 & edad\\_catMas.de.60 & edad\\_catMenor.de.31 & generoHombre & generoMujer & ecivilCasado & ecivilSoltero & activoEn.activo & activoSin.actividad & desayunoAvena\\\\\n  & <dbl> & <dbl> & <dbl> & <dbl> & <dbl> & <dbl> & <dbl> & <dbl> & <dbl> & <dbl> & <fct>\\\\\n\\hline\n\t836 & 0 & 0 & 0 & 1 & 0 & 1 & 0 & 1 & 1 & 0 & 0\\\\\n\t679 & 1 & 0 & 0 & 0 & 0 & 1 & 0 & 1 & 0 & 1 & 0\\\\\n\t129 & 0 & 1 & 0 & 0 & 0 & 1 & 1 & 0 & 0 & 1 & 1\\\\\n\t509 & 0 & 1 & 0 & 0 & 0 & 1 & 1 & 0 & 0 & 1 & 0\\\\\n\t471 & 0 & 0 & 0 & 1 & 0 & 1 & 0 & 1 & 1 & 0 & 0\\\\\n\t299 & 0 & 1 & 0 & 0 & 0 & 1 & 0 & 1 & 0 & 1 & 1\\\\\n\\end{tabular}\n",
            "text/plain": [
              "    edad_cat31.45 edad_cat46.60 edad_catMas.de.60 edad_catMenor.de.31\n",
              "836 0             0             0                 1                  \n",
              "679 1             0             0                 0                  \n",
              "129 0             1             0                 0                  \n",
              "509 0             1             0                 0                  \n",
              "471 0             0             0                 1                  \n",
              "299 0             1             0                 0                  \n",
              "    generoHombre generoMujer ecivilCasado ecivilSoltero activoEn.activo\n",
              "836 0            1           0            1             1              \n",
              "679 0            1           0            1             0              \n",
              "129 0            1           1            0             0              \n",
              "509 0            1           1            0             0              \n",
              "471 0            1           0            1             1              \n",
              "299 0            1           0            1             0              \n",
              "    activoSin.actividad desayunoAvena\n",
              "836 0                   0            \n",
              "679 1                   0            \n",
              "129 1                   1            \n",
              "509 1                   0            \n",
              "471 0                   0            \n",
              "299 1                   1            "
            ]
          },
          "metadata": {}
        }
      ]
    },
    {
      "cell_type": "markdown",
      "source": [
        "##VALIDACION CRUZADA"
      ],
      "metadata": {
        "id": "DG4wapykPbAo"
      }
    },
    {
      "cell_type": "code",
      "source": [
        "# creo parámetros de validación cruzada\n",
        "set.seed(1)\n",
        "cross<-trainControl(method=\"cv\",number=10)\n",
        "modeloknn1<-train(desayunoAvena~.,method=\"knn\",\n",
        "                  tuneGrid=expand.grid(k=1:30),\n",
        "                  trControl=cross,\n",
        "                  metric=\"Accuracy\",\n",
        "                  data=cereal.train)"
      ],
      "metadata": {
        "id": "reJDgINa-_jw"
      },
      "execution_count": null,
      "outputs": []
    },
    {
      "cell_type": "code",
      "source": [
        "modeloknn1\n",
        "plot(modeloknn1)"
      ],
      "metadata": {
        "colab": {
          "base_uri": "https://localhost:8080/",
          "height": 1000
        },
        "id": "ba_6hYOZ_OcP",
        "outputId": "e7763a06-814b-4878-d536-4de6106fc282"
      },
      "execution_count": null,
      "outputs": [
        {
          "output_type": "display_data",
          "data": {
            "text/plain": [
              "k-Nearest Neighbors \n",
              "\n",
              "660 samples\n",
              " 10 predictor\n",
              "  2 classes: '0', '1' \n",
              "\n",
              "No pre-processing\n",
              "Resampling: Cross-Validated (10 fold) \n",
              "Summary of sample sizes: 595, 594, 594, 593, 594, 594, ... \n",
              "Resampling results across tuning parameters:\n",
              "\n",
              "  k   Accuracy   Kappa    \n",
              "   1  0.7546954  0.4618197\n",
              "   2  0.7592409  0.4699579\n",
              "   3  0.7577257  0.4681969\n",
              "   4  0.7516651  0.4537234\n",
              "   5  0.7531803  0.4543657\n",
              "   6  0.7577257  0.4651685\n",
              "   7  0.7577257  0.4646142\n",
              "   8  0.7577257  0.4632931\n",
              "   9  0.7577257  0.4648585\n",
              "  10  0.7562106  0.4623777\n",
              "  11  0.7546954  0.4591306\n",
              "  12  0.7562106  0.4625911\n",
              "  13  0.7577257  0.4677402\n",
              "  14  0.7607560  0.4723344\n",
              "  15  0.7425742  0.4202570\n",
              "  16  0.7411043  0.4142254\n",
              "  17  0.7304982  0.3802354\n",
              "  18  0.7335285  0.3834849\n",
              "  19  0.7183756  0.3406263\n",
              "  20  0.7168605  0.3321681\n",
              "  21  0.7138754  0.3175783\n",
              "  22  0.7153905  0.3194272\n",
              "  23  0.7138754  0.3152899\n",
              "  24  0.7153905  0.3210267\n",
              "  25  0.7138754  0.3145245\n",
              "  26  0.7199360  0.3327581\n",
              "  27  0.7244814  0.3439945\n",
              "  28  0.7184208  0.3293816\n",
              "  29  0.7138754  0.3173996\n",
              "  30  0.7123602  0.3118323\n",
              "\n",
              "Accuracy was used to select the optimal model using the largest value.\n",
              "The final value used for the model was k = 14."
            ]
          },
          "metadata": {}
        },
        {
          "output_type": "display_data",
          "data": {
            "text/plain": [
              "plot without title"
            ],
            "image/png": "[encoded data removed]"
          },
          "metadata": {
            "image/png": {
              "width": 420,
              "height": 420
            }
          }
        }
      ]
    },
    {
      "cell_type": "code",
      "source": [
        "set.seed(1)\n",
        "\n",
        "levels(cereal.train$desayunoAvena) <- make.names(levels(factor(cereal.train$desayunoAvena)))\n",
        "# creo parámetros de validación cruzada\n",
        "cross<-trainControl(method=\"cv\",number=5,\n",
        "                    classProbs = TRUE,\n",
        "                    summaryFunction =prSummary)\n",
        "\n",
        "modeloknn2<-train(desayunoAvena~.,method=\"knn\",\n",
        "                  tuneGrid=expand.grid(k=1:30),\n",
        "                  trControl=cross,\n",
        "                  metric=\"AUC\",\n",
        "                  data=cereal.train)"
      ],
      "metadata": {
        "id": "gPND5Z7S_OZ2"
      },
      "execution_count": null,
      "outputs": []
    },
    {
      "cell_type": "code",
      "source": [
        "modeloknn2\n",
        "plot(modeloknn2)"
      ],
      "metadata": {
        "colab": {
          "base_uri": "https://localhost:8080/",
          "height": 1000
        },
        "id": "HGvHKeFk_OXl",
        "outputId": "8f0eeb45-330b-482a-8b03-3a686ade6693"
      },
      "execution_count": null,
      "outputs": [
        {
          "output_type": "display_data",
          "data": {
            "text/plain": [
              "k-Nearest Neighbors \n",
              "\n",
              "660 samples\n",
              " 10 predictor\n",
              "  2 classes: 'X0', 'X1' \n",
              "\n",
              "No pre-processing\n",
              "Resampling: Cross-Validated (5 fold) \n",
              "Summary of sample sizes: 527, 529, 528, 528, 528 \n",
              "Resampling results across tuning parameters:\n",
              "\n",
              "  k   AUC        Precision  Recall     F        \n",
              "   1  0.5775635  0.8160580  0.7924487  0.8027405\n",
              "   2  0.5775635  0.8096098  0.7877975  0.7971674\n",
              "   3  0.5775635  0.8158027  0.7901231  0.8013968\n",
              "   4  0.5872484  0.8141493  0.7924487  0.8016216\n",
              "   5  0.5902001  0.8130537  0.7970999  0.8034522\n",
              "   6  0.5981058  0.8095207  0.7970999  0.8016774\n",
              "   7  0.5986669  0.8081846  0.7994254  0.8021422\n",
              "   8  0.6123983  0.8106011  0.7970999  0.8024224\n",
              "   9  0.6247622  0.8074734  0.7994254  0.8020058\n",
              "  10  0.6446456  0.8083022  0.7947743  0.8001102\n",
              "  11  0.6665106  0.8130563  0.7994254  0.8047803\n",
              "  12  0.6969988  0.8101199  0.7947743  0.8010243\n",
              "  13  0.7322624  0.7909515  0.7994254  0.7943119\n",
              "  14  0.7454871  0.7867547  0.8064022  0.7954908\n",
              "  15  0.7969685  0.7854608  0.8157592  0.7993828\n",
              "  16  0.8024973  0.7711229  0.8204104  0.7940658\n",
              "  17  0.8014037  0.7556392  0.8297127  0.7901131\n",
              "  18  0.8129994  0.7462449  0.8413953  0.7898534\n",
              "  19  0.8301682  0.7439736  0.8460465  0.7908494\n",
              "  20  0.8287411  0.7393673  0.8460465  0.7882993\n",
              "  21  0.8339918  0.7393673  0.8460465  0.7882993\n",
              "  22  0.8345679  0.7393673  0.8460465  0.7882993\n",
              "  23  0.8369410  0.7393673  0.8460465  0.7882993\n",
              "  24  0.8417008  0.7393673  0.8460465  0.7882993\n",
              "  25  0.8450258  0.7393673  0.8460465  0.7882993\n",
              "  26  0.8464307  0.7393673  0.8460465  0.7882993\n",
              "  27  0.8485415  0.7393673  0.8460465  0.7882993\n",
              "  28  0.8485415  0.7393673  0.8460465  0.7882993\n",
              "  29  0.8508455  0.7393673  0.8460465  0.7882993\n",
              "  30  0.8510624  0.7393673  0.8460465  0.7882993\n",
              "\n",
              "AUC was used to select the optimal model using the largest value.\n",
              "The final value used for the model was k = 30."
            ]
          },
          "metadata": {}
        },
        {
          "output_type": "display_data",
          "data": {
            "text/plain": [
              "plot without title"
            ],
            "image/png": "[encoded data removed]"
          },
          "metadata": {
            "image/png": {
              "width": 420,
              "height": 420
            }
          }
        }
      ]
    },
    {
      "cell_type": "code",
      "source": [
        "head(cereal.train)"
      ],
      "metadata": {
        "colab": {
          "base_uri": "https://localhost:8080/",
          "height": 306
        },
        "id": "SH7YOyt8_OU9",
        "outputId": "a87ec721-d287-41c6-c63b-c7f7a3d265d7"
      },
      "execution_count": null,
      "outputs": [
        {
          "output_type": "display_data",
          "data": {
            "text/html": [
              "<table class=\"dataframe\">\n",
              "<caption>A data.frame: 6 × 11</caption>\n",
              "<thead>\n",
              "\t<tr><th></th><th scope=col>edad_cat31.45</th><th scope=col>edad_cat46.60</th><th scope=col>edad_catMas.de.60</th><th scope=col>edad_catMenor.de.31</th><th scope=col>generoHombre</th><th scope=col>generoMujer</th><th scope=col>ecivilCasado</th><th scope=col>ecivilSoltero</th><th scope=col>activoEn.activo</th><th scope=col>activoSin.actividad</th><th scope=col>desayunoAvena</th></tr>\n",
              "\t<tr><th></th><th scope=col>&lt;dbl&gt;</th><th scope=col>&lt;dbl&gt;</th><th scope=col>&lt;dbl&gt;</th><th scope=col>&lt;dbl&gt;</th><th scope=col>&lt;dbl&gt;</th><th scope=col>&lt;dbl&gt;</th><th scope=col>&lt;dbl&gt;</th><th scope=col>&lt;dbl&gt;</th><th scope=col>&lt;dbl&gt;</th><th scope=col>&lt;dbl&gt;</th><th scope=col>&lt;fct&gt;</th></tr>\n",
              "</thead>\n",
              "<tbody>\n",
              "\t<tr><th scope=row>836</th><td>0</td><td>0</td><td>0</td><td>1</td><td>0</td><td>1</td><td>0</td><td>1</td><td>1</td><td>0</td><td>X0</td></tr>\n",
              "\t<tr><th scope=row>679</th><td>1</td><td>0</td><td>0</td><td>0</td><td>0</td><td>1</td><td>0</td><td>1</td><td>0</td><td>1</td><td>X0</td></tr>\n",
              "\t<tr><th scope=row>129</th><td>0</td><td>1</td><td>0</td><td>0</td><td>0</td><td>1</td><td>1</td><td>0</td><td>0</td><td>1</td><td>X1</td></tr>\n",
              "\t<tr><th scope=row>509</th><td>0</td><td>1</td><td>0</td><td>0</td><td>0</td><td>1</td><td>1</td><td>0</td><td>0</td><td>1</td><td>X0</td></tr>\n",
              "\t<tr><th scope=row>471</th><td>0</td><td>0</td><td>0</td><td>1</td><td>0</td><td>1</td><td>0</td><td>1</td><td>1</td><td>0</td><td>X0</td></tr>\n",
              "\t<tr><th scope=row>299</th><td>0</td><td>1</td><td>0</td><td>0</td><td>0</td><td>1</td><td>0</td><td>1</td><td>0</td><td>1</td><td>X1</td></tr>\n",
              "</tbody>\n",
              "</table>\n"
            ],
            "text/markdown": "\nA data.frame: 6 × 11\n\n| <!--/--> | edad_cat31.45 &lt;dbl&gt; | edad_cat46.60 &lt;dbl&gt; | edad_catMas.de.60 &lt;dbl&gt; | edad_catMenor.de.31 &lt;dbl&gt; | generoHombre &lt;dbl&gt; | generoMujer &lt;dbl&gt; | ecivilCasado &lt;dbl&gt; | ecivilSoltero &lt;dbl&gt; | activoEn.activo &lt;dbl&gt; | activoSin.actividad &lt;dbl&gt; | desayunoAvena &lt;fct&gt; |\n|---|---|---|---|---|---|---|---|---|---|---|---|\n| 836 | 0 | 0 | 0 | 1 | 0 | 1 | 0 | 1 | 1 | 0 | X0 |\n| 679 | 1 | 0 | 0 | 0 | 0 | 1 | 0 | 1 | 0 | 1 | X0 |\n| 129 | 0 | 1 | 0 | 0 | 0 | 1 | 1 | 0 | 0 | 1 | X1 |\n| 509 | 0 | 1 | 0 | 0 | 0 | 1 | 1 | 0 | 0 | 1 | X0 |\n| 471 | 0 | 0 | 0 | 1 | 0 | 1 | 0 | 1 | 1 | 0 | X0 |\n| 299 | 0 | 1 | 0 | 0 | 0 | 1 | 0 | 1 | 0 | 1 | X1 |\n\n",
            "text/latex": "A data.frame: 6 × 11\n\\begin{tabular}{r|lllllllllll}\n  & edad\\_cat31.45 & edad\\_cat46.60 & edad\\_catMas.de.60 & edad\\_catMenor.de.31 & generoHombre & generoMujer & ecivilCasado & ecivilSoltero & activoEn.activo & activoSin.actividad & desayunoAvena\\\\\n  & <dbl> & <dbl> & <dbl> & <dbl> & <dbl> & <dbl> & <dbl> & <dbl> & <dbl> & <dbl> & <fct>\\\\\n\\hline\n\t836 & 0 & 0 & 0 & 1 & 0 & 1 & 0 & 1 & 1 & 0 & X0\\\\\n\t679 & 1 & 0 & 0 & 0 & 0 & 1 & 0 & 1 & 0 & 1 & X0\\\\\n\t129 & 0 & 1 & 0 & 0 & 0 & 1 & 1 & 0 & 0 & 1 & X1\\\\\n\t509 & 0 & 1 & 0 & 0 & 0 & 1 & 1 & 0 & 0 & 1 & X0\\\\\n\t471 & 0 & 0 & 0 & 1 & 0 & 1 & 0 & 1 & 1 & 0 & X0\\\\\n\t299 & 0 & 1 & 0 & 0 & 0 & 1 & 0 & 1 & 0 & 1 & X1\\\\\n\\end{tabular}\n",
            "text/plain": [
              "    edad_cat31.45 edad_cat46.60 edad_catMas.de.60 edad_catMenor.de.31\n",
              "836 0             0             0                 1                  \n",
              "679 1             0             0                 0                  \n",
              "129 0             1             0                 0                  \n",
              "509 0             1             0                 0                  \n",
              "471 0             0             0                 1                  \n",
              "299 0             1             0                 0                  \n",
              "    generoHombre generoMujer ecivilCasado ecivilSoltero activoEn.activo\n",
              "836 0            1           0            1             1              \n",
              "679 0            1           0            1             0              \n",
              "129 0            1           1            0             0              \n",
              "509 0            1           1            0             0              \n",
              "471 0            1           0            1             1              \n",
              "299 0            1           0            1             0              \n",
              "    activoSin.actividad desayunoAvena\n",
              "836 0                   X0           \n",
              "679 1                   X0           \n",
              "129 1                   X1           \n",
              "509 1                   X0           \n",
              "471 0                   X0           \n",
              "299 1                   X1           "
            ]
          },
          "metadata": {}
        }
      ]
    },
    {
      "cell_type": "code",
      "source": [
        "str(cereal.train1)"
      ],
      "metadata": {
        "colab": {
          "base_uri": "https://localhost:8080/"
        },
        "id": "NReCpzae_Vt7",
        "outputId": "6bb0a7e5-7b80-413c-a57d-75b12138f9e0"
      },
      "execution_count": null,
      "outputs": [
        {
          "output_type": "stream",
          "name": "stdout",
          "text": [
            "'data.frame':\t660 obs. of  11 variables:\n",
            " $ edad_cat31.45      : num  0 1 0 0 0 0 0 1 0 0 ...\n",
            " $ edad_cat46.60      : num  0 0 1 1 0 1 0 0 1 1 ...\n",
            " $ edad_catMas.de.60  : num  0 0 0 0 0 0 1 0 0 0 ...\n",
            " $ edad_catMenor.de.31: num  1 0 0 0 1 0 0 0 0 0 ...\n",
            " $ generoHombre       : num  0 0 0 0 0 0 0 1 0 0 ...\n",
            " $ generoMujer        : num  1 1 1 1 1 1 1 0 1 1 ...\n",
            " $ ecivilCasado       : num  0 0 1 1 0 0 0 1 1 1 ...\n",
            " $ ecivilSoltero      : num  1 1 0 0 1 1 1 0 0 0 ...\n",
            " $ activoEn.activo    : num  1 0 0 0 1 0 1 0 0 0 ...\n",
            " $ activoSin.actividad: num  0 1 1 1 0 1 0 1 1 1 ...\n",
            " $ desayunoAvena      : Factor w/ 2 levels \"0\",\"1\": 1 1 2 1 1 2 1 1 1 1 ...\n"
          ]
        }
      ]
    },
    {
      "cell_type": "code",
      "source": [
        "head(cereal.train1)"
      ],
      "metadata": {
        "colab": {
          "base_uri": "https://localhost:8080/",
          "height": 306
        },
        "id": "G17qieewGht4",
        "outputId": "7436359d-077b-4ae5-d3f6-d7ca5fb013be"
      },
      "execution_count": null,
      "outputs": [
        {
          "output_type": "display_data",
          "data": {
            "text/html": [
              "<table class=\"dataframe\">\n",
              "<caption>A data.frame: 6 × 11</caption>\n",
              "<thead>\n",
              "\t<tr><th></th><th scope=col>edad_cat31.45</th><th scope=col>edad_cat46.60</th><th scope=col>edad_catMas.de.60</th><th scope=col>edad_catMenor.de.31</th><th scope=col>generoHombre</th><th scope=col>generoMujer</th><th scope=col>ecivilCasado</th><th scope=col>ecivilSoltero</th><th scope=col>activoEn.activo</th><th scope=col>activoSin.actividad</th><th scope=col>desayunoAvena</th></tr>\n",
              "\t<tr><th></th><th scope=col>&lt;dbl&gt;</th><th scope=col>&lt;dbl&gt;</th><th scope=col>&lt;dbl&gt;</th><th scope=col>&lt;dbl&gt;</th><th scope=col>&lt;dbl&gt;</th><th scope=col>&lt;dbl&gt;</th><th scope=col>&lt;dbl&gt;</th><th scope=col>&lt;dbl&gt;</th><th scope=col>&lt;dbl&gt;</th><th scope=col>&lt;dbl&gt;</th><th scope=col>&lt;fct&gt;</th></tr>\n",
              "</thead>\n",
              "<tbody>\n",
              "\t<tr><th scope=row>836</th><td>0</td><td>0</td><td>0</td><td>1</td><td>0</td><td>1</td><td>0</td><td>1</td><td>1</td><td>0</td><td>0</td></tr>\n",
              "\t<tr><th scope=row>679</th><td>1</td><td>0</td><td>0</td><td>0</td><td>0</td><td>1</td><td>0</td><td>1</td><td>0</td><td>1</td><td>0</td></tr>\n",
              "\t<tr><th scope=row>129</th><td>0</td><td>1</td><td>0</td><td>0</td><td>0</td><td>1</td><td>1</td><td>0</td><td>0</td><td>1</td><td>1</td></tr>\n",
              "\t<tr><th scope=row>509</th><td>0</td><td>1</td><td>0</td><td>0</td><td>0</td><td>1</td><td>1</td><td>0</td><td>0</td><td>1</td><td>0</td></tr>\n",
              "\t<tr><th scope=row>471</th><td>0</td><td>0</td><td>0</td><td>1</td><td>0</td><td>1</td><td>0</td><td>1</td><td>1</td><td>0</td><td>0</td></tr>\n",
              "\t<tr><th scope=row>299</th><td>0</td><td>1</td><td>0</td><td>0</td><td>0</td><td>1</td><td>0</td><td>1</td><td>0</td><td>1</td><td>1</td></tr>\n",
              "</tbody>\n",
              "</table>\n"
            ],
            "text/markdown": "\nA data.frame: 6 × 11\n\n| <!--/--> | edad_cat31.45 &lt;dbl&gt; | edad_cat46.60 &lt;dbl&gt; | edad_catMas.de.60 &lt;dbl&gt; | edad_catMenor.de.31 &lt;dbl&gt; | generoHombre &lt;dbl&gt; | generoMujer &lt;dbl&gt; | ecivilCasado &lt;dbl&gt; | ecivilSoltero &lt;dbl&gt; | activoEn.activo &lt;dbl&gt; | activoSin.actividad &lt;dbl&gt; | desayunoAvena &lt;fct&gt; |\n|---|---|---|---|---|---|---|---|---|---|---|---|\n| 836 | 0 | 0 | 0 | 1 | 0 | 1 | 0 | 1 | 1 | 0 | 0 |\n| 679 | 1 | 0 | 0 | 0 | 0 | 1 | 0 | 1 | 0 | 1 | 0 |\n| 129 | 0 | 1 | 0 | 0 | 0 | 1 | 1 | 0 | 0 | 1 | 1 |\n| 509 | 0 | 1 | 0 | 0 | 0 | 1 | 1 | 0 | 0 | 1 | 0 |\n| 471 | 0 | 0 | 0 | 1 | 0 | 1 | 0 | 1 | 1 | 0 | 0 |\n| 299 | 0 | 1 | 0 | 0 | 0 | 1 | 0 | 1 | 0 | 1 | 1 |\n\n",
            "text/latex": "A data.frame: 6 × 11\n\\begin{tabular}{r|lllllllllll}\n  & edad\\_cat31.45 & edad\\_cat46.60 & edad\\_catMas.de.60 & edad\\_catMenor.de.31 & generoHombre & generoMujer & ecivilCasado & ecivilSoltero & activoEn.activo & activoSin.actividad & desayunoAvena\\\\\n  & <dbl> & <dbl> & <dbl> & <dbl> & <dbl> & <dbl> & <dbl> & <dbl> & <dbl> & <dbl> & <fct>\\\\\n\\hline\n\t836 & 0 & 0 & 0 & 1 & 0 & 1 & 0 & 1 & 1 & 0 & 0\\\\\n\t679 & 1 & 0 & 0 & 0 & 0 & 1 & 0 & 1 & 0 & 1 & 0\\\\\n\t129 & 0 & 1 & 0 & 0 & 0 & 1 & 1 & 0 & 0 & 1 & 1\\\\\n\t509 & 0 & 1 & 0 & 0 & 0 & 1 & 1 & 0 & 0 & 1 & 0\\\\\n\t471 & 0 & 0 & 0 & 1 & 0 & 1 & 0 & 1 & 1 & 0 & 0\\\\\n\t299 & 0 & 1 & 0 & 0 & 0 & 1 & 0 & 1 & 0 & 1 & 1\\\\\n\\end{tabular}\n",
            "text/plain": [
              "    edad_cat31.45 edad_cat46.60 edad_catMas.de.60 edad_catMenor.de.31\n",
              "836 0             0             0                 1                  \n",
              "679 1             0             0                 0                  \n",
              "129 0             1             0                 0                  \n",
              "509 0             1             0                 0                  \n",
              "471 0             0             0                 1                  \n",
              "299 0             1             0                 0                  \n",
              "    generoHombre generoMujer ecivilCasado ecivilSoltero activoEn.activo\n",
              "836 0            1           0            1             1              \n",
              "679 0            1           0            1             0              \n",
              "129 0            1           1            0             0              \n",
              "509 0            1           1            0             0              \n",
              "471 0            1           0            1             1              \n",
              "299 0            1           0            1             0              \n",
              "    activoSin.actividad desayunoAvena\n",
              "836 0                   0            \n",
              "679 1                   0            \n",
              "129 1                   1            \n",
              "509 1                   0            \n",
              "471 0                   0            \n",
              "299 1                   1            "
            ]
          },
          "metadata": {}
        }
      ]
    },
    {
      "cell_type": "markdown",
      "source": [
        "#MODELADO -- CREAMOS MODELOS DE KNN"
      ],
      "metadata": {
        "id": "Le0NuPTYPi2s"
      }
    },
    {
      "cell_type": "code",
      "source": [
        "# MODELO CON K = 5\n",
        "set.seed(1)\n",
        "test_pred = knn3(desayunoAvena~., data=cereal.train1, k = 5)"
      ],
      "metadata": {
        "id": "hzOsF5Wv_Vrr"
      },
      "execution_count": null,
      "outputs": []
    },
    {
      "cell_type": "code",
      "source": [
        "# Desempeño en entrenamiento.  K = 5\n",
        "predmod <- predict(test_pred, cereal.train1, type = \"prob\")\n",
        "pronknn<-ifelse(predmod[,2] > 0.5 ,1, 0)\n",
        "confknn<-confusionMatrix(as.factor(pronknn),\n",
        "                          cereal.train1$desayunoAvena, positive = \"1\")\n",
        "confknn$table\n",
        "confknn$overall\n",
        "confknn$byClass"
      ],
      "metadata": {
        "colab": {
          "base_uri": "https://localhost:8080/",
          "height": 177
        },
        "id": "XJAMmAG__Vpg",
        "outputId": "427e4b75-ae84-4b92-e4e7-de7cdb9108cd"
      },
      "execution_count": null,
      "outputs": [
        {
          "output_type": "display_data",
          "data": {
            "text/plain": [
              "          Reference\n",
              "Prediction   0   1\n",
              "         0 346  67\n",
              "         1  83 164"
            ]
          },
          "metadata": {}
        },
        {
          "output_type": "display_data",
          "data": {
            "text/html": [
              "<style>\n",
              ".dl-inline {width: auto; margin:0; padding: 0}\n",
              ".dl-inline>dt, .dl-inline>dd {float: none; width: auto; display: inline-block}\n",
              ".dl-inline>dt::after {content: \":\\0020\"; padding-right: .5ex}\n",
              ".dl-inline>dt:not(:first-of-type) {padding-left: .5ex}\n",
              "</style><dl class=dl-inline><dt>Accuracy</dt><dd>0.772727272727273</dd><dt>Kappa</dt><dd>0.508357915437561</dd><dt>AccuracyLower</dt><dd>0.738816438262859</dd><dt>AccuracyUpper</dt><dd>0.804177344556837</dd><dt>AccuracyNull</dt><dd>0.65</dd><dt>AccuracyPValue</dt><dd>5.32313768400694e-12</dd><dt>McnemarPValue</dt><dd>0.220671361919847</dd></dl>\n"
            ],
            "text/markdown": "Accuracy\n:   0.772727272727273Kappa\n:   0.508357915437561AccuracyLower\n:   0.738816438262859AccuracyUpper\n:   0.804177344556837AccuracyNull\n:   0.65AccuracyPValue\n:   5.32313768400694e-12McnemarPValue\n:   0.220671361919847\n\n",
            "text/latex": "\\begin{description*}\n\\item[Accuracy] 0.772727272727273\n\\item[Kappa] 0.508357915437561\n\\item[AccuracyLower] 0.738816438262859\n\\item[AccuracyUpper] 0.804177344556837\n\\item[AccuracyNull] 0.65\n\\item[AccuracyPValue] 5.32313768400694e-12\n\\item[McnemarPValue] 0.220671361919847\n\\end{description*}\n",
            "text/plain": [
              "      Accuracy          Kappa  AccuracyLower  AccuracyUpper   AccuracyNull \n",
              "  7.727273e-01   5.083579e-01   7.388164e-01   8.041773e-01   6.500000e-01 \n",
              "AccuracyPValue  McnemarPValue \n",
              "  5.323138e-12   2.206714e-01 "
            ]
          },
          "metadata": {}
        },
        {
          "output_type": "display_data",
          "data": {
            "text/html": [
              "<style>\n",
              ".dl-inline {width: auto; margin:0; padding: 0}\n",
              ".dl-inline>dt, .dl-inline>dd {float: none; width: auto; display: inline-block}\n",
              ".dl-inline>dt::after {content: \":\\0020\"; padding-right: .5ex}\n",
              ".dl-inline>dt:not(:first-of-type) {padding-left: .5ex}\n",
              "</style><dl class=dl-inline><dt>Sensitivity</dt><dd>0.70995670995671</dd><dt>Specificity</dt><dd>0.806526806526807</dd><dt>Pos Pred Value</dt><dd>0.663967611336032</dd><dt>Neg Pred Value</dt><dd>0.837772397094431</dd><dt>Precision</dt><dd>0.663967611336032</dd><dt>Recall</dt><dd>0.70995670995671</dd><dt>F1</dt><dd>0.686192468619247</dd><dt>Prevalence</dt><dd>0.35</dd><dt>Detection Rate</dt><dd>0.248484848484848</dd><dt>Detection Prevalence</dt><dd>0.374242424242424</dd><dt>Balanced Accuracy</dt><dd>0.758241758241758</dd></dl>\n"
            ],
            "text/markdown": "Sensitivity\n:   0.70995670995671Specificity\n:   0.806526806526807Pos Pred Value\n:   0.663967611336032Neg Pred Value\n:   0.837772397094431Precision\n:   0.663967611336032Recall\n:   0.70995670995671F1\n:   0.686192468619247Prevalence\n:   0.35Detection Rate\n:   0.248484848484848Detection Prevalence\n:   0.374242424242424Balanced Accuracy\n:   0.758241758241758\n\n",
            "text/latex": "\\begin{description*}\n\\item[Sensitivity] 0.70995670995671\n\\item[Specificity] 0.806526806526807\n\\item[Pos Pred Value] 0.663967611336032\n\\item[Neg Pred Value] 0.837772397094431\n\\item[Precision] 0.663967611336032\n\\item[Recall] 0.70995670995671\n\\item[F1] 0.686192468619247\n\\item[Prevalence] 0.35\n\\item[Detection Rate] 0.248484848484848\n\\item[Detection Prevalence] 0.374242424242424\n\\item[Balanced Accuracy] 0.758241758241758\n\\end{description*}\n",
            "text/plain": [
              "         Sensitivity          Specificity       Pos Pred Value \n",
              "           0.7099567            0.8065268            0.6639676 \n",
              "      Neg Pred Value            Precision               Recall \n",
              "           0.8377724            0.6639676            0.7099567 \n",
              "                  F1           Prevalence       Detection Rate \n",
              "           0.6861925            0.3500000            0.2484848 \n",
              "Detection Prevalence    Balanced Accuracy \n",
              "           0.3742424            0.7582418 "
            ]
          },
          "metadata": {}
        }
      ]
    },
    {
      "cell_type": "code",
      "source": [
        "head(cereal.train)"
      ],
      "metadata": {
        "colab": {
          "base_uri": "https://localhost:8080/",
          "height": 306
        },
        "id": "iX4yGVt8Nex7",
        "outputId": "2df12aa4-d171-46a6-c4e5-7df6859882cd"
      },
      "execution_count": null,
      "outputs": [
        {
          "output_type": "display_data",
          "data": {
            "text/html": [
              "<table class=\"dataframe\">\n",
              "<caption>A data.frame: 6 × 11</caption>\n",
              "<thead>\n",
              "\t<tr><th></th><th scope=col>edad_cat31.45</th><th scope=col>edad_cat46.60</th><th scope=col>edad_catMas.de.60</th><th scope=col>edad_catMenor.de.31</th><th scope=col>generoHombre</th><th scope=col>generoMujer</th><th scope=col>ecivilCasado</th><th scope=col>ecivilSoltero</th><th scope=col>activoEn.activo</th><th scope=col>activoSin.actividad</th><th scope=col>desayunoAvena</th></tr>\n",
              "\t<tr><th></th><th scope=col>&lt;dbl&gt;</th><th scope=col>&lt;dbl&gt;</th><th scope=col>&lt;dbl&gt;</th><th scope=col>&lt;dbl&gt;</th><th scope=col>&lt;dbl&gt;</th><th scope=col>&lt;dbl&gt;</th><th scope=col>&lt;dbl&gt;</th><th scope=col>&lt;dbl&gt;</th><th scope=col>&lt;dbl&gt;</th><th scope=col>&lt;dbl&gt;</th><th scope=col>&lt;fct&gt;</th></tr>\n",
              "</thead>\n",
              "<tbody>\n",
              "\t<tr><th scope=row>836</th><td>0</td><td>0</td><td>0</td><td>1</td><td>0</td><td>1</td><td>0</td><td>1</td><td>1</td><td>0</td><td>X0</td></tr>\n",
              "\t<tr><th scope=row>679</th><td>1</td><td>0</td><td>0</td><td>0</td><td>0</td><td>1</td><td>0</td><td>1</td><td>0</td><td>1</td><td>X0</td></tr>\n",
              "\t<tr><th scope=row>129</th><td>0</td><td>1</td><td>0</td><td>0</td><td>0</td><td>1</td><td>1</td><td>0</td><td>0</td><td>1</td><td>X1</td></tr>\n",
              "\t<tr><th scope=row>509</th><td>0</td><td>1</td><td>0</td><td>0</td><td>0</td><td>1</td><td>1</td><td>0</td><td>0</td><td>1</td><td>X0</td></tr>\n",
              "\t<tr><th scope=row>471</th><td>0</td><td>0</td><td>0</td><td>1</td><td>0</td><td>1</td><td>0</td><td>1</td><td>1</td><td>0</td><td>X0</td></tr>\n",
              "\t<tr><th scope=row>299</th><td>0</td><td>1</td><td>0</td><td>0</td><td>0</td><td>1</td><td>0</td><td>1</td><td>0</td><td>1</td><td>X1</td></tr>\n",
              "</tbody>\n",
              "</table>\n"
            ],
            "text/markdown": "\nA data.frame: 6 × 11\n\n| <!--/--> | edad_cat31.45 &lt;dbl&gt; | edad_cat46.60 &lt;dbl&gt; | edad_catMas.de.60 &lt;dbl&gt; | edad_catMenor.de.31 &lt;dbl&gt; | generoHombre &lt;dbl&gt; | generoMujer &lt;dbl&gt; | ecivilCasado &lt;dbl&gt; | ecivilSoltero &lt;dbl&gt; | activoEn.activo &lt;dbl&gt; | activoSin.actividad &lt;dbl&gt; | desayunoAvena &lt;fct&gt; |\n|---|---|---|---|---|---|---|---|---|---|---|---|\n| 836 | 0 | 0 | 0 | 1 | 0 | 1 | 0 | 1 | 1 | 0 | X0 |\n| 679 | 1 | 0 | 0 | 0 | 0 | 1 | 0 | 1 | 0 | 1 | X0 |\n| 129 | 0 | 1 | 0 | 0 | 0 | 1 | 1 | 0 | 0 | 1 | X1 |\n| 509 | 0 | 1 | 0 | 0 | 0 | 1 | 1 | 0 | 0 | 1 | X0 |\n| 471 | 0 | 0 | 0 | 1 | 0 | 1 | 0 | 1 | 1 | 0 | X0 |\n| 299 | 0 | 1 | 0 | 0 | 0 | 1 | 0 | 1 | 0 | 1 | X1 |\n\n",
            "text/latex": "A data.frame: 6 × 11\n\\begin{tabular}{r|lllllllllll}\n  & edad\\_cat31.45 & edad\\_cat46.60 & edad\\_catMas.de.60 & edad\\_catMenor.de.31 & generoHombre & generoMujer & ecivilCasado & ecivilSoltero & activoEn.activo & activoSin.actividad & desayunoAvena\\\\\n  & <dbl> & <dbl> & <dbl> & <dbl> & <dbl> & <dbl> & <dbl> & <dbl> & <dbl> & <dbl> & <fct>\\\\\n\\hline\n\t836 & 0 & 0 & 0 & 1 & 0 & 1 & 0 & 1 & 1 & 0 & X0\\\\\n\t679 & 1 & 0 & 0 & 0 & 0 & 1 & 0 & 1 & 0 & 1 & X0\\\\\n\t129 & 0 & 1 & 0 & 0 & 0 & 1 & 1 & 0 & 0 & 1 & X1\\\\\n\t509 & 0 & 1 & 0 & 0 & 0 & 1 & 1 & 0 & 0 & 1 & X0\\\\\n\t471 & 0 & 0 & 0 & 1 & 0 & 1 & 0 & 1 & 1 & 0 & X0\\\\\n\t299 & 0 & 1 & 0 & 0 & 0 & 1 & 0 & 1 & 0 & 1 & X1\\\\\n\\end{tabular}\n",
            "text/plain": [
              "    edad_cat31.45 edad_cat46.60 edad_catMas.de.60 edad_catMenor.de.31\n",
              "836 0             0             0                 1                  \n",
              "679 1             0             0                 0                  \n",
              "129 0             1             0                 0                  \n",
              "509 0             1             0                 0                  \n",
              "471 0             0             0                 1                  \n",
              "299 0             1             0                 0                  \n",
              "    generoHombre generoMujer ecivilCasado ecivilSoltero activoEn.activo\n",
              "836 0            1           0            1             1              \n",
              "679 0            1           0            1             0              \n",
              "129 0            1           1            0             0              \n",
              "509 0            1           1            0             0              \n",
              "471 0            1           0            1             1              \n",
              "299 0            1           0            1             0              \n",
              "    activoSin.actividad desayunoAvena\n",
              "836 0                   X0           \n",
              "679 1                   X0           \n",
              "129 1                   X1           \n",
              "509 1                   X0           \n",
              "471 0                   X0           \n",
              "299 1                   X1           "
            ]
          },
          "metadata": {}
        }
      ]
    },
    {
      "cell_type": "code",
      "source": [
        "length(pronknn)"
      ],
      "metadata": {
        "colab": {
          "base_uri": "https://localhost:8080/",
          "height": 34
        },
        "id": "MsV_qZv7N-Bj",
        "outputId": "761f57f4-c4b5-4e12-e813-6aed20c267b1"
      },
      "execution_count": null,
      "outputs": [
        {
          "output_type": "display_data",
          "data": {
            "text/html": [
              "660"
            ],
            "text/markdown": "660",
            "text/latex": "660",
            "text/plain": [
              "[1] 660"
            ]
          },
          "metadata": {}
        }
      ]
    },
    {
      "cell_type": "code",
      "source": [
        "length(cereal.test$desayunoAvena)"
      ],
      "metadata": {
        "colab": {
          "base_uri": "https://localhost:8080/",
          "height": 34
        },
        "id": "Ip39eodwODgN",
        "outputId": "b9a3fa61-1073-47a2-e770-0a4fa8e433eb"
      },
      "execution_count": null,
      "outputs": [
        {
          "output_type": "display_data",
          "data": {
            "text/html": [
              "220"
            ],
            "text/markdown": "220",
            "text/latex": "220",
            "text/plain": [
              "[1] 220"
            ]
          },
          "metadata": {}
        }
      ]
    },
    {
      "cell_type": "code",
      "source": [
        "# CURVA ROC y AUC.  K = 5\n",
        "\n",
        "#crear objeto de predicciones\n",
        "pr<-prediction(pronknn,cereal.test$desayunoAvena)\n",
        "#creacion del objeto de la curva\n",
        "curvaROC<-performance(pr,measure=\"tpr\",x.measure=\"fpr\")\n",
        "#grafico de la curva\n",
        "plot(curvaROC)\n",
        "\n",
        "#calcular el AUC\n",
        "auc<-performance(pr,measure = \"auc\")\n",
        "auc <- auc@y.values[[1]]\n",
        "#ver el AUC\n",
        "auc"
      ],
      "metadata": {
        "colab": {
          "base_uri": "https://localhost:8080/",
          "height": 146
        },
        "id": "eE1GDDp5_VnJ",
        "outputId": "1db21075-6e5a-4610-e46d-25e659d470f1"
      },
      "execution_count": null,
      "outputs": [
        {
          "output_type": "error",
          "ename": "ERROR",
          "evalue": "Error in prediction(pronknn, cereal.test$desayunoAvena): Number of predictions in each run must be equal to the number of labels for each run.\n",
          "traceback": [
            "Error in prediction(pronknn, cereal.test$desayunoAvena): Number of predictions in each run must be equal to the number of labels for each run.\nTraceback:\n",
            "1. prediction(pronknn, cereal.test$desayunoAvena)",
            "2. stop(paste(\"Number of predictions in each run must be equal\", \n .     \"to the number of labels for each run.\"))"
          ]
        }
      ]
    },
    {
      "cell_type": "markdown",
      "source": [
        "# K de prueba :\n",
        "K=2\n",
        "\n",
        "k=14\n",
        "\n",
        "k=30"
      ],
      "metadata": {
        "id": "srv49P-gGeP1"
      }
    },
    {
      "cell_type": "code",
      "source": [],
      "metadata": {
        "id": "xw1BuxBX_Vk_"
      },
      "execution_count": null,
      "outputs": []
    }
  ]
}