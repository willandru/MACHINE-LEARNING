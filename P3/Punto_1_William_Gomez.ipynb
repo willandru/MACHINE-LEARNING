{
  "nbformat": 4,
  "nbformat_minor": 0,
  "metadata": {
    "colab": {
      "provenance": []
    },
    "kernelspec": {
      "name": "ir",
      "display_name": "R"
    },
    "language_info": {
      "name": "R"
    }
  },
  "cells": [
    {
      "cell_type": "markdown",
      "source": [
        "William Andrés Gómez Roa\n",
        "\n",
        "Punto 1\n",
        "\n",
        "Parcial 3"
      ],
      "metadata": {
        "id": "hAqDNrnEBAc7"
      }
    },
    {
      "cell_type": "code",
      "execution_count": null,
      "metadata": {
        "colab": {
          "base_uri": "https://localhost:8080/"
        },
        "id": "LAZswMu6s__F",
        "outputId": "906b15e8-b502-4048-a037-faf7f68e0dd5"
      },
      "outputs": [
        {
          "output_type": "stream",
          "name": "stderr",
          "text": [
            "Installing package into ‘/usr/local/lib/R/site-library’\n",
            "(as ‘lib’ is unspecified)\n",
            "\n",
            "Installing package into ‘/usr/local/lib/R/site-library’\n",
            "(as ‘lib’ is unspecified)\n",
            "\n",
            "also installing the dependencies ‘listenv’, ‘parallelly’, ‘future’, ‘globals’, ‘shape’, ‘future.apply’, ‘numDeriv’, ‘progressr’, ‘SQUAREM’, ‘diagram’, ‘lava’, ‘prodlim’, ‘proxy’, ‘iterators’, ‘clock’, ‘gower’, ‘hardhat’, ‘ipred’, ‘timeDate’, ‘e1071’, ‘foreach’, ‘ModelMetrics’, ‘plyr’, ‘pROC’, ‘recipes’, ‘reshape2’\n",
            "\n",
            "\n",
            "Loading required package: ggplot2\n",
            "\n",
            "\n",
            "Attaching package: ‘ggplot2’\n",
            "\n",
            "\n",
            "The following object is masked from ‘package:randomForest’:\n",
            "\n",
            "    margin\n",
            "\n",
            "\n",
            "Loading required package: lattice\n",
            "\n"
          ]
        }
      ],
      "source": [
        "#PACKAGES LOADING\n",
        "install.packages(\"randomForest\")\n",
        "install.packages(\"caret\")\n",
        "library(randomForest)\n",
        "library(caret)"
      ]
    },
    {
      "cell_type": "code",
      "source": [
        "#DATASET LOADING\n",
        "Hospital_data<-read.csv(\"Datos_Hospital.csv\", sep=\";\")\n",
        "str(Hospital_data)\n"
      ],
      "metadata": {
        "colab": {
          "base_uri": "https://localhost:8080/"
        },
        "id": "ieIFw7dLvcQs",
        "outputId": "a979d805-6039-4874-e18e-a5d01b359f47"
      },
      "execution_count": null,
      "outputs": [
        {
          "output_type": "stream",
          "name": "stdout",
          "text": [
            "'data.frame':\t3698 obs. of  11 variables:\n",
            " $ SN                  : int  1001 1002 1003 1004 1005 1006 1007 1008 1009 1010 ...\n",
            " $ AgeYrs              : chr  \"33\" \"12\" \"3\" \"63\" ...\n",
            " $ Estimatedcost       : chr  \"70000\" \"30000\" \"75000\" \"40000\" ...\n",
            " $ LengthofStay        : int  33 2 1 6 2 7 1 2 4 2 ...\n",
            " $ InsPayorcategory    : int  2 5 5 3 5 3 3 5 5 3 ...\n",
            " $ CE_VALUEFORMONEY    : int  2 3 3 3 3 2 2 3 3 3 ...\n",
            " $ CE_CSAT             : int  2 3 3 3 3 3 2 3 3 3 ...\n",
            " $ AE_PATIENTSTATUSINFO: int  4 4 3 3 4 4 3 3 4 4 ...\n",
            " $ CE_ACCESSIBILITY    : int  3 4 3 4 4 4 3 4 3 4 ...\n",
            " $ CE_NPS              : int  7 7 8 8 7 5 5 7 7 8 ...\n",
            " $ NPS_Status          : chr  \"Detractor\" \"Detractor\" \"Detractor\" \"Detractor\" ...\n"
          ]
        }
      ]
    },
    {
      "cell_type": "code",
      "source": [
        "#PREPROCESSING\n",
        "Hospital_data$AgeYrs <- as.numeric(Hospital_data$AgeYrs)\n",
        "Hospital_data$Estimatedcost <- as.numeric(Hospital_data$Estimatedcost)\n",
        "Hospital_data$NPS_Status <- as.factor(Hospital_data$NPS_Status)\n",
        "Hospital_data <- Hospital_data[!is.na(Hospital_data$AgeYrs) & !is.na(Hospital_data$Estimatedcost), ]\n",
        "\n",
        "str(Hospital_data)"
      ],
      "metadata": {
        "colab": {
          "base_uri": "https://localhost:8080/"
        },
        "id": "zbBAeuoOx24i",
        "outputId": "5e77e07d-7101-408f-af83-45dff6b23d34"
      },
      "execution_count": null,
      "outputs": [
        {
          "output_type": "stream",
          "name": "stderr",
          "text": [
            "Warning message:\n",
            "“NAs introduced by coercion”\n",
            "Warning message:\n",
            "“NAs introduced by coercion”\n"
          ]
        },
        {
          "output_type": "stream",
          "name": "stdout",
          "text": [
            "'data.frame':\t3562 obs. of  11 variables:\n",
            " $ SN                  : int  1001 1002 1003 1004 1005 1006 1007 1008 1009 1010 ...\n",
            " $ AgeYrs              : num  33 12 3 63 27 50 45 22 83 29 ...\n",
            " $ Estimatedcost       : num  70000 30000 75000 40000 25000 60000 30000 30000 50000 25000 ...\n",
            " $ LengthofStay        : int  33 2 1 6 2 7 1 2 4 2 ...\n",
            " $ InsPayorcategory    : int  2 5 5 3 5 3 3 5 5 3 ...\n",
            " $ CE_VALUEFORMONEY    : int  2 3 3 3 3 2 2 3 3 3 ...\n",
            " $ CE_CSAT             : int  2 3 3 3 3 3 2 3 3 3 ...\n",
            " $ AE_PATIENTSTATUSINFO: int  4 4 3 3 4 4 3 3 4 4 ...\n",
            " $ CE_ACCESSIBILITY    : int  3 4 3 4 4 4 3 4 3 4 ...\n",
            " $ CE_NPS              : int  7 7 8 8 7 5 5 7 7 8 ...\n",
            " $ NPS_Status          : Factor w/ 2 levels \"Detractor\",\"Promotor\": 1 1 1 1 1 1 1 1 1 1 ...\n"
          ]
        }
      ]
    },
    {
      "cell_type": "code",
      "source": [
        "# TRAIN and TEST\n",
        "set.seed(8837)\n",
        "\n",
        "indices <- sample(1:nrow(Hospital_data), size = 0.65 * nrow(Hospital_data))\n",
        "train_data <- Hospital_data[indices, ]  # Conjunto de entrenamiento\n",
        "test_data <- Hospital_data[-indices, ]"
      ],
      "metadata": {
        "id": "1EPsblj4zqRO"
      },
      "execution_count": null,
      "outputs": []
    },
    {
      "cell_type": "code",
      "source": [
        "#TRAINING\n",
        "set.seed(8837)\n",
        "\n",
        "rf_base <- randomForest(NPS_Status ~ ., data = train_data)\n",
        "probabilities <- predict(rf_base, newdata = test_data, type = \"prob\")\n",
        "head(probabilities)"
      ],
      "metadata": {
        "colab": {
          "base_uri": "https://localhost:8080/",
          "height": 255
        },
        "id": "k5RixFTyvcOj",
        "outputId": "ad70b49c-69fa-4fe8-8801-f88cf7397d63"
      },
      "execution_count": null,
      "outputs": [
        {
          "output_type": "display_data",
          "data": {
            "text/html": [
              "<table class=\"dataframe\">\n",
              "<caption>A matrix: 6 × 2 of type dbl</caption>\n",
              "<thead>\n",
              "\t<tr><th></th><th scope=col>Detractor</th><th scope=col>Promotor</th></tr>\n",
              "</thead>\n",
              "<tbody>\n",
              "\t<tr><th scope=row>3</th><td>1.000</td><td>0.000</td></tr>\n",
              "\t<tr><th scope=row>4</th><td>1.000</td><td>0.000</td></tr>\n",
              "\t<tr><th scope=row>5</th><td>1.000</td><td>0.000</td></tr>\n",
              "\t<tr><th scope=row>12</th><td>1.000</td><td>0.000</td></tr>\n",
              "\t<tr><th scope=row>23</th><td>1.000</td><td>0.000</td></tr>\n",
              "\t<tr><th scope=row>25</th><td>0.998</td><td>0.002</td></tr>\n",
              "</tbody>\n",
              "</table>\n"
            ],
            "text/markdown": "\nA matrix: 6 × 2 of type dbl\n\n| <!--/--> | Detractor | Promotor |\n|---|---|---|\n| 3 | 1.000 | 0.000 |\n| 4 | 1.000 | 0.000 |\n| 5 | 1.000 | 0.000 |\n| 12 | 1.000 | 0.000 |\n| 23 | 1.000 | 0.000 |\n| 25 | 0.998 | 0.002 |\n\n",
            "text/latex": "A matrix: 6 × 2 of type dbl\n\\begin{tabular}{r|ll}\n  & Detractor & Promotor\\\\\n\\hline\n\t3 & 1.000 & 0.000\\\\\n\t4 & 1.000 & 0.000\\\\\n\t5 & 1.000 & 0.000\\\\\n\t12 & 1.000 & 0.000\\\\\n\t23 & 1.000 & 0.000\\\\\n\t25 & 0.998 & 0.002\\\\\n\\end{tabular}\n",
            "text/plain": [
              "   Detractor Promotor\n",
              "3  1.000     0.000   \n",
              "4  1.000     0.000   \n",
              "5  1.000     0.000   \n",
              "12 1.000     0.000   \n",
              "23 1.000     0.000   \n",
              "25 0.998     0.002   "
            ]
          },
          "metadata": {}
        }
      ]
    },
    {
      "cell_type": "code",
      "source": [
        "# BASE (umbral = 0.5)\n",
        "predictions_default <- ifelse(probabilities[, \"Promotor\"] >= 0.5, \"Promotor\", \"Detractor\")\n",
        "\n",
        "# LOW (umbral = 0.01)\n",
        "predictions_low <- ifelse(probabilities[, \"Promotor\"] >= 0.01, \"Promotor\", \"Detractor\")\n",
        "\n",
        "# HIGH (umbral = 0.95)\n",
        "predictions_high <- ifelse(probabilities[, \"Promotor\"] >= 0.95, \"Promotor\", \"Detractor\")\n"
      ],
      "metadata": {
        "id": "Yq-S1M0BvcbN"
      },
      "execution_count": null,
      "outputs": []
    },
    {
      "cell_type": "code",
      "source": [
        "library(caret)\n",
        "\n",
        "true_labels <- as.factor(test_data$NPS_Status)\n",
        "\n",
        "conf_matrix_default <- confusionMatrix(as.factor(predictions_default), true_labels)\n",
        "conf_matrix_low <- confusionMatrix(as.factor(predictions_low), true_labels)\n",
        "conf_matrix_high <- confusionMatrix(as.factor(predictions_high), true_labels)\n",
        "\n",
        "# PRINTING\n",
        "cat(\"\\nUMBRAL POR DEFECTO (0.5):\\n\")\n",
        "print(conf_matrix_default)\n",
        "cat(\"UMBRAL MENOR(0.01):\\n\")\n",
        "print(conf_matrix_low)\n",
        "cat(\"UMBRAL MAYOR (0.95):\\n\")\n",
        "print(conf_matrix_high)\n"
      ],
      "metadata": {
        "colab": {
          "base_uri": "https://localhost:8080/"
        },
        "id": "Dj0HdCKQvcdf",
        "outputId": "243ec365-74bd-47c0-d538-34d3b81c45b5"
      },
      "execution_count": null,
      "outputs": [
        {
          "output_type": "stream",
          "name": "stdout",
          "text": [
            "\n",
            "UMBRAL POR DEFECTO (0.5):\n",
            "Confusion Matrix and Statistics\n",
            "\n",
            "           Reference\n",
            "Prediction  Detractor Promotor\n",
            "  Detractor       616        0\n",
            "  Promotor          0      631\n",
            "                                    \n",
            "               Accuracy : 1         \n",
            "                 95% CI : (0.997, 1)\n",
            "    No Information Rate : 0.506     \n",
            "    P-Value [Acc > NIR] : < 2.2e-16 \n",
            "                                    \n",
            "                  Kappa : 1         \n",
            "                                    \n",
            " Mcnemar's Test P-Value : NA        \n",
            "                                    \n",
            "            Sensitivity : 1.000     \n",
            "            Specificity : 1.000     \n",
            "         Pos Pred Value : 1.000     \n",
            "         Neg Pred Value : 1.000     \n",
            "             Prevalence : 0.494     \n",
            "         Detection Rate : 0.494     \n",
            "   Detection Prevalence : 0.494     \n",
            "      Balanced Accuracy : 1.000     \n",
            "                                    \n",
            "       'Positive' Class : Detractor \n",
            "                                    \n",
            "UMBRAL MENOR(0.01):\n",
            "Confusion Matrix and Statistics\n",
            "\n",
            "           Reference\n",
            "Prediction  Detractor Promotor\n",
            "  Detractor       608        0\n",
            "  Promotor          8      631\n",
            "                                          \n",
            "               Accuracy : 0.9936          \n",
            "                 95% CI : (0.9874, 0.9972)\n",
            "    No Information Rate : 0.506           \n",
            "    P-Value [Acc > NIR] : < 2e-16         \n",
            "                                          \n",
            "                  Kappa : 0.9872          \n",
            "                                          \n",
            " Mcnemar's Test P-Value : 0.01333         \n",
            "                                          \n",
            "            Sensitivity : 0.9870          \n",
            "            Specificity : 1.0000          \n",
            "         Pos Pred Value : 1.0000          \n",
            "         Neg Pred Value : 0.9875          \n",
            "             Prevalence : 0.4940          \n",
            "         Detection Rate : 0.4876          \n",
            "   Detection Prevalence : 0.4876          \n",
            "      Balanced Accuracy : 0.9935          \n",
            "                                          \n",
            "       'Positive' Class : Detractor       \n",
            "                                          \n",
            "UMBRAL MAYOR (0.95):\n",
            "Confusion Matrix and Statistics\n",
            "\n",
            "           Reference\n",
            "Prediction  Detractor Promotor\n",
            "  Detractor       616        5\n",
            "  Promotor          0      626\n",
            "                                          \n",
            "               Accuracy : 0.996           \n",
            "                 95% CI : (0.9907, 0.9987)\n",
            "    No Information Rate : 0.506           \n",
            "    P-Value [Acc > NIR] : < 2e-16         \n",
            "                                          \n",
            "                  Kappa : 0.992           \n",
            "                                          \n",
            " Mcnemar's Test P-Value : 0.07364         \n",
            "                                          \n",
            "            Sensitivity : 1.0000          \n",
            "            Specificity : 0.9921          \n",
            "         Pos Pred Value : 0.9919          \n",
            "         Neg Pred Value : 1.0000          \n",
            "             Prevalence : 0.4940          \n",
            "         Detection Rate : 0.4940          \n",
            "   Detection Prevalence : 0.4980          \n",
            "      Balanced Accuracy : 0.9960          \n",
            "                                          \n",
            "       'Positive' Class : Detractor       \n",
            "                                          \n"
          ]
        }
      ]
    },
    {
      "cell_type": "markdown",
      "source": [
        "## **-** Se creo y entreno un modelo de Random Forest llamado rf_base (\"modelo rf base\")\n",
        "\n",
        "## **1.** Determine si es mejor utilizar un umbral (recuerde que el dataset está desbalanceado) para clasificar un individuo en DETRACTOR/PROMOTOR con base en la probabilidad generada por el modelo (pruebe un valor bajo y un valor alto del umbral), o utilizar la clasificación directa entregada por el modelo (umbral = 0.5).\n",
        "\n",
        "  ### **Respuesta:**  No es mejor utilizar un umbral diferente a la probabilidad directa entregada por el modelo (umbral = 0.5). Como se observó anterioremente en los resultados, El umbral de 0.5 alcanzó la perfección en la calsificación del dataset de prueba (test_data). Fue necesarió cambiar los umbrales a valores extremadamente altos o bajos, con el fin de evidenciar algún error de clasificación cosniderable. Esto solo se logró con Umbrales de 0.1 o 0.95."
      ],
      "metadata": {
        "id": "w-JiHfOM6WvP"
      }
    },
    {
      "cell_type": "markdown",
      "source": [
        "## **2.** ¿Cómo se podría aplicar una regularización en el modelo RF base? Si es posible, aplíquelo y demuestre que el modelo fue regularizado. Si no es posible, explique brevemente porqué. Recuerde que regularización es cualquier cambio en los parámetros del modelo que disminuya la exactitud en entrenamiento, y que la aumente en prueba."
      ],
      "metadata": {
        "id": "pm5PLRvF75hj"
      }
    },
    {
      "cell_type": "markdown",
      "source": [
        "Se puede aplicar regularización al modelo Random Forest ajustando los parámetros `mtry` y `ntree`. Reducir `mtry` limita el número de variables consideradas en cada división, evitando sobreajuste. Disminuir `ntree` controla la cantidad de árboles, simplificando el modelo.\n",
        "\n",
        "Sin embargo, Random Forest ya incluye mecanismos de regularización implícita a través de bagging y selección aleatoria de variables, lo que puede reducir la necesidad de ajustes adicionales en ciertos casos."
      ],
      "metadata": {
        "id": "9hq1dbEk8Yxf"
      }
    },
    {
      "cell_type": "code",
      "source": [
        "rf_regu_1 <- randomForest(NPS_Status ~ ., data = train_data,  mtry = 2, importance = TRUE)\n",
        "rf_regu_1\n",
        "rf_regu_2 <- randomForest(NPS_Status ~ ., data = train_data,  ntree = 40, importance = TRUE)\n",
        "rf_regu_2"
      ],
      "metadata": {
        "colab": {
          "base_uri": "https://localhost:8080/",
          "height": 434
        },
        "id": "4vZimXUq75B3",
        "outputId": "13095011-fa86-4ddf-a60c-cd6c8458ddac"
      },
      "execution_count": null,
      "outputs": [
        {
          "output_type": "display_data",
          "data": {
            "text/plain": [
              "\n",
              "Call:\n",
              " randomForest(formula = NPS_Status ~ ., data = train_data, mtry = 2,      importance = TRUE) \n",
              "               Type of random forest: classification\n",
              "                     Number of trees: 500\n",
              "No. of variables tried at each split: 2\n",
              "\n",
              "        OOB estimate of  error rate: 0%\n",
              "Confusion matrix:\n",
              "          Detractor Promotor class.error\n",
              "Detractor      1151        0           0\n",
              "Promotor          0     1164           0"
            ]
          },
          "metadata": {}
        },
        {
          "output_type": "display_data",
          "data": {
            "text/plain": [
              "\n",
              "Call:\n",
              " randomForest(formula = NPS_Status ~ ., data = train_data, ntree = 40,      importance = TRUE) \n",
              "               Type of random forest: classification\n",
              "                     Number of trees: 40\n",
              "No. of variables tried at each split: 3\n",
              "\n",
              "        OOB estimate of  error rate: 0%\n",
              "Confusion matrix:\n",
              "          Detractor Promotor class.error\n",
              "Detractor      1151        0           0\n",
              "Promotor          0     1164           0"
            ]
          },
          "metadata": {}
        }
      ]
    },
    {
      "cell_type": "markdown",
      "source": [
        "Sin embargo no es posible obtener mejor resultados que los que ya se habían obtenido, si se puede conseguir desarrollar un modelo más ligero y simple usando los parámetros anteriores."
      ],
      "metadata": {
        "id": "KLzoIkD7-OGd"
      }
    },
    {
      "cell_type": "markdown",
      "source": [
        "## **3.** Utilizando el modelo RF base, determine la variable que más influye en determinar si alguien es DETRACTOR o PROMOTOR. Teniendo en cuenta esta variable, ¿cuál podría ser una estrategia para aumentar el NPS?"
      ],
      "metadata": {
        "id": "7FYXOQ9k-YMl"
      }
    },
    {
      "cell_type": "code",
      "source": [
        "# Obtener la importancia de las variables\n",
        "variable_importance <- importance(rf_base)\n",
        "print(variable_importance)"
      ],
      "metadata": {
        "colab": {
          "base_uri": "https://localhost:8080/"
        },
        "id": "dx1IZqbM-dZp",
        "outputId": "a6fb9f0e-aa55-4b8b-f99a-138e052ec89f"
      },
      "execution_count": null,
      "outputs": [
        {
          "output_type": "stream",
          "name": "stdout",
          "text": [
            "                     MeanDecreaseGini\n",
            "SN                        522.7507384\n",
            "AgeYrs                      1.1205650\n",
            "Estimatedcost               0.9076121\n",
            "LengthofStay                0.7663523\n",
            "InsPayorcategory            0.7140749\n",
            "CE_VALUEFORMONEY           26.9552597\n",
            "CE_CSAT                    39.4496807\n",
            "AE_PATIENTSTATUSINFO        5.3692055\n",
            "CE_ACCESSIBILITY           10.5589304\n",
            "CE_NPS                    547.7493212\n"
          ]
        }
      ]
    },
    {
      "cell_type": "code",
      "source": [
        "# Opcional: Visualizar con un gráfico\n",
        "varImpPlot(rf_base)"
      ],
      "metadata": {
        "colab": {
          "base_uri": "https://localhost:8080/",
          "height": 437
        },
        "id": "gard3rFi-rWQ",
        "outputId": "99fedf29-60c1-456c-8808-20c7e38269ea"
      },
      "execution_count": null,
      "outputs": [
        {
          "output_type": "display_data",
          "data": {
            "text/plain": [
              "Plot with title “rf_base”"
            ],
            "image/png": "[encoded data removed]"
          },
          "metadata": {
            "image/png": {
              "width": 420,
              "height": 420
            }
          }
        }
      ]
    },
    {
      "cell_type": "markdown",
      "source": [
        "La variable `CE_NPS` es la más influyente en determinar si un paciente es Detractor o Promotor, con un valor de 547.75, seguida de `SN` (522.75). Sin embargo, la variable `SN` es el número de identificación del paciente\n",
        ", por lo que se debe ignorar en este análisis.\n",
        "\n",
        "Además el alto nivel de importancia de la variable `CE_NPS` puede deberse fuertemente al echo de que es simplemente dicha variable pero clasificada en 2 categorías para obtener el `NPS` : DETRACTOR (`CE_NPS` <= 8) y PROMOTOR (`CE_NPS` >=9).\n",
        "\n",
        "Entonces para mejorar el `NPS` bastará con mejorar  los factores que influyen en la percepción del paciente, en concreto se debe intentar obtener la moyor cantidad de putnaje en esta pregunta: ¿Qué tan probable es que nos recomiende a un amigo o familiar?, así se mejorará el `NPS` final."
      ],
      "metadata": {
        "id": "5DeEHb6k_bi_"
      }
    }
  ]
}