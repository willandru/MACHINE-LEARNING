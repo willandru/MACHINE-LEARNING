{
  "nbformat": 4,
  "nbformat_minor": 0,
  "metadata": {
    "colab": {
      "provenance": []
    },
    "kernelspec": {
      "name": "ir",
      "display_name": "R"
    },
    "language_info": {
      "name": "R"
    }
  },
  "cells": [
    {
      "cell_type": "markdown",
      "source": [
        "William Andrés Gómez Roa\n",
        "\n",
        "Punto 2\n",
        "\n",
        "Parcial 3"
      ],
      "metadata": {
        "id": "hZKtqS5WP65F"
      }
    },
    {
      "cell_type": "code",
      "execution_count": 1,
      "metadata": {
        "colab": {
          "base_uri": "https://localhost:8080/"
        },
        "id": "E_GhV6iQtFkD",
        "outputId": "9778642a-91d9-4e23-f4a0-0e2daf14541e"
      },
      "outputs": [
        {
          "output_type": "stream",
          "name": "stderr",
          "text": [
            "Installing package into ‘/usr/local/lib/R/site-library’\n",
            "(as ‘lib’ is unspecified)\n",
            "\n",
            "Loaded gbm 2.2.2\n",
            "\n",
            "This version of gbm is no longer under development. Consider transitioning to gbm3, https://github.com/gbm-developers/gbm3\n",
            "\n"
          ]
        }
      ],
      "source": [
        "install.packages(\"gbm\")\n",
        "library(gbm)"
      ]
    },
    {
      "cell_type": "code",
      "source": [
        "install.packages(\"caret\")\n",
        "library(caret)"
      ],
      "metadata": {
        "colab": {
          "base_uri": "https://localhost:8080/"
        },
        "id": "KXAIUzk9KvTB",
        "outputId": "2358c566-37f2-4ac9-873f-171c16140229"
      },
      "execution_count": 14,
      "outputs": [
        {
          "output_type": "stream",
          "name": "stderr",
          "text": [
            "Installing package into ‘/usr/local/lib/R/site-library’\n",
            "(as ‘lib’ is unspecified)\n",
            "\n",
            "also installing the dependencies ‘future’, ‘future.apply’, ‘diagram’, ‘lava’, ‘prodlim’, ‘proxy’, ‘iterators’, ‘clock’, ‘hardhat’, ‘ipred’, ‘e1071’, ‘foreach’, ‘ModelMetrics’, ‘plyr’, ‘pROC’, ‘recipes’, ‘reshape2’\n",
            "\n",
            "\n",
            "Loading required package: ggplot2\n",
            "\n",
            "Loading required package: lattice\n",
            "\n"
          ]
        }
      ]
    },
    {
      "cell_type": "code",
      "source": [
        "#DATASET LOADING\n",
        "Hospital_data<-read.csv(\"Datos_Hospital.csv\", sep=\";\")\n",
        "\n",
        "#PREPROCESSING\n",
        "Hospital_data$AgeYrs <- as.numeric(Hospital_data$AgeYrs)\n",
        "Hospital_data$Estimatedcost <- as.numeric(Hospital_data$Estimatedcost)\n",
        "Hospital_data$NPS_Status <- as.factor(Hospital_data$NPS_Status)\n",
        "Hospital_data <- Hospital_data[!is.na(Hospital_data$AgeYrs) & !is.na(Hospital_data$Estimatedcost), ]\n",
        "Hospital_data$NPS_Status <- as.numeric(Hospital_data$NPS_Status) - 1\n",
        "str(Hospital_data)\n",
        "\n",
        "# TRAIN and TEST\n",
        "set.seed(8837)\n",
        "\n",
        "indices <- sample(1:nrow(Hospital_data), size = 0.65 * nrow(Hospital_data))\n",
        "train_data <- Hospital_data[indices, ]  # Conjunto de entrenamiento\n",
        "test_data <- Hospital_data[-indices, ]\n",
        "\n",
        "\n",
        "#FOR PREDICTING\n",
        "true_labels <- as.factor(test_data$NPS_Status)"
      ],
      "metadata": {
        "colab": {
          "base_uri": "https://localhost:8080/"
        },
        "id": "W_4C6UkcE1U7",
        "outputId": "490ca57d-9850-4375-e06c-c0ff51a80cfa"
      },
      "execution_count": 15,
      "outputs": [
        {
          "output_type": "stream",
          "name": "stderr",
          "text": [
            "Warning message:\n",
            "“NAs introduced by coercion”\n",
            "Warning message:\n",
            "“NAs introduced by coercion”\n"
          ]
        },
        {
          "output_type": "stream",
          "name": "stdout",
          "text": [
            "'data.frame':\t3562 obs. of  11 variables:\n",
            " $ SN                  : int  1001 1002 1003 1004 1005 1006 1007 1008 1009 1010 ...\n",
            " $ AgeYrs              : num  33 12 3 63 27 50 45 22 83 29 ...\n",
            " $ Estimatedcost       : num  70000 30000 75000 40000 25000 60000 30000 30000 50000 25000 ...\n",
            " $ LengthofStay        : int  33 2 1 6 2 7 1 2 4 2 ...\n",
            " $ InsPayorcategory    : int  2 5 5 3 5 3 3 5 5 3 ...\n",
            " $ CE_VALUEFORMONEY    : int  2 3 3 3 3 2 2 3 3 3 ...\n",
            " $ CE_CSAT             : int  2 3 3 3 3 3 2 3 3 3 ...\n",
            " $ AE_PATIENTSTATUSINFO: int  4 4 3 3 4 4 3 3 4 4 ...\n",
            " $ CE_ACCESSIBILITY    : int  3 4 3 4 4 4 3 4 3 4 ...\n",
            " $ CE_NPS              : int  7 7 8 8 7 5 5 7 7 8 ...\n",
            " $ NPS_Status          : num  0 0 0 0 0 0 0 0 0 0 ...\n"
          ]
        }
      ]
    },
    {
      "cell_type": "code",
      "source": [
        "#TRAINING: BASE\n",
        "set.seed(8837)\n",
        "\n",
        "gbm_base <- gbm(\n",
        "  formula = NPS_Status ~ .,\n",
        "  data = train_data,\n",
        "  distribution = \"bernoulli\",  # Clasificación binaria\n",
        "  n.trees = 5000,             # Número de árboles\n",
        "  interaction.depth = 4,      # Profundidad máxima de cada árbol\n",
        "  shrinkage = 0.01,           # Tasa de aprendizaje\n",
        "  verbose = FALSE             # No imprimir mensajes\n",
        ")\n",
        "\n",
        "\n",
        "# PREDICT\n",
        "yhat_base <- predict(gbm_base, newdata = test_data, n.trees = 5000, type = \"response\")\n",
        "pred_base <- ifelse(yhat_base >= 0.1, 1, 0)\n",
        "conf_base <- confusionMatrix(as.factor(pred_base), true_labels)\n",
        "\n",
        "#PRINT\n",
        "cat(\"Confusion Matrix for Base Model:\\n\")\n",
        "print(conf_base)"
      ],
      "metadata": {
        "colab": {
          "base_uri": "https://localhost:8080/"
        },
        "id": "9i62aDQsE68u",
        "outputId": "1570a4b7-1e82-48ae-a929-d2d8ff45e0fd"
      },
      "execution_count": 27,
      "outputs": [
        {
          "output_type": "stream",
          "name": "stdout",
          "text": [
            "Confusion Matrix for Base Model:\n",
            "Confusion Matrix and Statistics\n",
            "\n",
            "          Reference\n",
            "Prediction   0   1\n",
            "         0 616   0\n",
            "         1   0 631\n",
            "                                    \n",
            "               Accuracy : 1         \n",
            "                 95% CI : (0.997, 1)\n",
            "    No Information Rate : 0.506     \n",
            "    P-Value [Acc > NIR] : < 2.2e-16 \n",
            "                                    \n",
            "                  Kappa : 1         \n",
            "                                    \n",
            " Mcnemar's Test P-Value : NA        \n",
            "                                    \n",
            "            Sensitivity : 1.000     \n",
            "            Specificity : 1.000     \n",
            "         Pos Pred Value : 1.000     \n",
            "         Neg Pred Value : 1.000     \n",
            "             Prevalence : 0.494     \n",
            "         Detection Rate : 0.494     \n",
            "   Detection Prevalence : 0.494     \n",
            "      Balanced Accuracy : 1.000     \n",
            "                                    \n",
            "       'Positive' Class : 0         \n",
            "                                    \n"
          ]
        }
      ]
    },
    {
      "cell_type": "markdown",
      "source": [
        "## **-** Se creo y entreno un modelo de Random Forest llamado rf_base (\"modelo rf base\")\n",
        "\n",
        "## **1.** ¿Cómo se podría obtener un sobre-ajuste en el modelo GB base? Si es posible, aplíquelo y demuestre que hay un sobre-ajuste. Si no es posible, explique brevemente porqué."
      ],
      "metadata": {
        "id": "TeEtbOW-Gu1r"
      }
    },
    {
      "cell_type": "code",
      "source": [
        "# TRAINING: SOBREAJUSTE\n",
        "set.seed(8837)\n",
        "\n",
        "gbm_sob <- gbm(\n",
        "  formula = NPS_Status ~ .,\n",
        "  data = train_data,\n",
        "  distribution = \"bernoulli\",  # Clasificación binaria\n",
        "  n.trees = 10000,            # Más árboles\n",
        "  interaction.depth = 6,      # Mayor profundidad\n",
        "  shrinkage = 0.001,          # Tasa de aprendizaje más baja\n",
        "  verbose = FALSE             # No imprimir mensajes\n",
        ")\n",
        "\n",
        "# PREDICCIONES\n",
        "yhat_sob <- predict(gbm_sob, newdata = test_data, n.trees = 10000, type = \"response\")\n",
        "pred_sob <- ifelse(yhat_sob >= 0.1, 1, 0)\n",
        "conf_sob <- confusionMatrix(as.factor(pred_sob), true_labels)\n",
        "#PRINT\n",
        "cat(\"\\nConfusion Matrix for Overfitting Model:\\n\")\n",
        "print(conf_sob)"
      ],
      "metadata": {
        "colab": {
          "base_uri": "https://localhost:8080/"
        },
        "id": "7g7PHjpiItxz",
        "outputId": "f51b1cee-0b6e-4f59-f4e0-89560af7ec0f"
      },
      "execution_count": 28,
      "outputs": [
        {
          "output_type": "stream",
          "name": "stdout",
          "text": [
            "\n",
            "Confusion Matrix for Overfitting Model:\n",
            "Confusion Matrix and Statistics\n",
            "\n",
            "          Reference\n",
            "Prediction   0   1\n",
            "         0 616   0\n",
            "         1   0 631\n",
            "                                    \n",
            "               Accuracy : 1         \n",
            "                 95% CI : (0.997, 1)\n",
            "    No Information Rate : 0.506     \n",
            "    P-Value [Acc > NIR] : < 2.2e-16 \n",
            "                                    \n",
            "                  Kappa : 1         \n",
            "                                    \n",
            " Mcnemar's Test P-Value : NA        \n",
            "                                    \n",
            "            Sensitivity : 1.000     \n",
            "            Specificity : 1.000     \n",
            "         Pos Pred Value : 1.000     \n",
            "         Neg Pred Value : 1.000     \n",
            "             Prevalence : 0.494     \n",
            "         Detection Rate : 0.494     \n",
            "   Detection Prevalence : 0.494     \n",
            "      Balanced Accuracy : 1.000     \n",
            "                                    \n",
            "       'Positive' Class : 0         \n",
            "                                    \n"
          ]
        }
      ]
    },
    {
      "cell_type": "markdown",
      "source": [
        "**Sobreajuste:** Se obtuvo ajustando n.trees = 10000, interaction.depth = 6 y shrinkage = 0.001. Esto implica que el modelo es excesivamente complejo, ajustándose demasiado a los datos de entrenamiento."
      ],
      "metadata": {
        "id": "h6OYSa-eNaFy"
      }
    },
    {
      "cell_type": "markdown",
      "source": [
        "## **2.** ¿Cómo se podría obtener un sub-ajuste en el modelo GB base? Si es posible, aplíquelo y demuestre que hay un subajuste. Si no es posible, explique brevemente porqué."
      ],
      "metadata": {
        "id": "ou5dbwd_Ivmv"
      }
    },
    {
      "cell_type": "code",
      "source": [
        "# TRAINING: SUBAJUSTE\n",
        "set.seed(8837)\n",
        "\n",
        "gbm_sub <- gbm(\n",
        "  formula = NPS_Status ~ .,\n",
        "  data = train_data,\n",
        "  distribution = \"bernoulli\",  # Clasificación binaria\n",
        "  n.trees = 10,               # Menos árboles\n",
        "  interaction.depth = 1,      # Árboles más simples\n",
        "  shrinkage = 0.1,            # Tasa de aprendizaje alta\n",
        "  verbose = FALSE             # No imprimir mensajes\n",
        ")\n",
        "\n",
        "# PREDICCIONES\n",
        "yhat_sub <- predict(gbm_sub, newdata = test_data, n.trees = 50, type = \"response\")\n",
        "pred_sub <- ifelse(yhat_sub >= 0.1, 1, 0)\n",
        "conf_sub <- confusionMatrix(as.factor(pred_sub), true_labels)\n",
        "#PRINT\n",
        "cat(\"\\nConfusion Matrix for Underfitting Model:\\n\")\n",
        "print(conf_sub)"
      ],
      "metadata": {
        "colab": {
          "base_uri": "https://localhost:8080/"
        },
        "id": "qhwVEriAI2dI",
        "outputId": "88a36e4f-33c8-43a2-f417-bbf44d35c2ef"
      },
      "execution_count": 29,
      "outputs": [
        {
          "output_type": "stream",
          "name": "stderr",
          "text": [
            "Warning message in predict.gbm(gbm_sub, newdata = test_data, n.trees = 50, type = \"response\"):\n",
            "“Number of trees not specified or exceeded number fit so far. Using 10.”\n",
            "Warning message in confusionMatrix.default(as.factor(pred_sub), true_labels):\n",
            "“Levels are not in the same order for reference and data. Refactoring data to match.”\n"
          ]
        },
        {
          "output_type": "stream",
          "name": "stdout",
          "text": [
            "\n",
            "Confusion Matrix for Underfitting Model:\n",
            "Confusion Matrix and Statistics\n",
            "\n",
            "          Reference\n",
            "Prediction   0   1\n",
            "         0   0   0\n",
            "         1 616 631\n",
            "                                          \n",
            "               Accuracy : 0.506           \n",
            "                 95% CI : (0.4779, 0.5341)\n",
            "    No Information Rate : 0.506           \n",
            "    P-Value [Acc > NIR] : 0.5113          \n",
            "                                          \n",
            "                  Kappa : 0               \n",
            "                                          \n",
            " Mcnemar's Test P-Value : <2e-16          \n",
            "                                          \n",
            "            Sensitivity : 0.000           \n",
            "            Specificity : 1.000           \n",
            "         Pos Pred Value :   NaN           \n",
            "         Neg Pred Value : 0.506           \n",
            "             Prevalence : 0.494           \n",
            "         Detection Rate : 0.000           \n",
            "   Detection Prevalence : 0.000           \n",
            "      Balanced Accuracy : 0.500           \n",
            "                                          \n",
            "       'Positive' Class : 0               \n",
            "                                          \n"
          ]
        }
      ]
    },
    {
      "cell_type": "markdown",
      "source": [
        "**Subajuste:** Se obtuvo ajustando n.trees = 10, interaction.depth = 1 y shrinkage = 0.1. Esto implica que el modelo es excesivamente simple, ajustándose pobremente a los datos de entrenamiento."
      ],
      "metadata": {
        "id": "X6pWIfw0Nlb5"
      }
    },
    {
      "cell_type": "markdown",
      "source": [
        "** RESPUESTA FINAL: ** Se pudo observar que es posible sobreajustar o subajustar el modelo *gbm*, por medio de la modificación de algúnos parametros como el número de árboles, la profundidad de cada árbol o la tása de aprendizaje.\n",
        "\n",
        "Sin embargo se ha observado que la variable que es de interes predecir `NPS_Status` esta altamente correlacionada con algunas de sus variable spredictoras, practicamente revelando la respuesta. Esto puede estar generando que los modelos BOOST especificamente el *gbm* tengan una gran facilidad para predecir correctamente.\n",
        "\n",
        "Por lo tanto, aquí se ha modificado el umbral de prediccion a 0.1, con el fin de observar algún cambio (umbral=0.5 no genera diferencia enlos 3 modelos). Pudimos observar finalmente, que con un umbral de 0.1 el modelo con **subajuste** el modelo predice todos los datos como si fueran de la clase **1**."
      ],
      "metadata": {
        "id": "sBTGmPA7ObH-"
      }
    }
  ]
}