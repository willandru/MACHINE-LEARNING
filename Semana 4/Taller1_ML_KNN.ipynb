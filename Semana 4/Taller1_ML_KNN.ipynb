{
  "cells": [
    {
      "cell_type": "markdown",
      "source": [
        "#TALLER 1 - KNN\n",
        "##William Gomez y Juliana Rubio\n"
      ],
      "metadata": {
        "id": "axV77HxSGFNO"
      }
    },
    {
      "cell_type": "code",
      "execution_count": null,
      "metadata": {
        "id": "oHqyHEaddVLJ"
      },
      "outputs": [],
      "source": [
        "if (!require('readxl')) install.packages('readxl')\n",
        "if (!require('caret')) install.packages('caret')\n",
        "if (!require('MLmetrics')) install.packages('MLmetrics')\n",
        "if (!require('e1071')) install.packages('e1071')"
      ]
    },
    {
      "cell_type": "code",
      "execution_count": null,
      "metadata": {
        "id": "TS4CYtSRAhxh"
      },
      "outputs": [],
      "source": [
        "library(readxl)\n",
        "library(caret)\n",
        "library(MLmetrics)\n",
        "library(ROCR)\n",
        "library(e1071)"
      ]
    },
    {
      "cell_type": "markdown",
      "metadata": {
        "id": "ZoX-626SLblw"
      },
      "source": [
        "##CARGAMOS LOS DATOS"
      ]
    },
    {
      "cell_type": "code",
      "execution_count": null,
      "metadata": {
        "colab": {
          "base_uri": "https://localhost:8080/"
        },
        "id": "t5EstlL2dAve",
        "outputId": "45a0fb91-c5d6-4170-bb31-ead4add8e19f"
      },
      "outputs": [
        {
          "output_type": "stream",
          "name": "stdout",
          "text": [
            "'data.frame':\t880 obs. of  5 variables:\n",
            " $ edad_cat: chr  \"Menor de 31\" \"46-60\" \"Mas de 60\" \"31-45\" ...\n",
            " $ genero  : chr  \"Hombre\" \"Hombre\" \"Hombre\" \"Mujer\" ...\n",
            " $ ecivil  : chr  \"Casado\" \"Casado\" \"Casado\" \"Casado\" ...\n",
            " $ activo  : chr  \"En activo\" \"Sin actividad\" \"Sin actividad\" \"En activo\" ...\n",
            " $ desayuno: chr  \"Cereales\" \"Barrita de desayuno\" \"Avena\" \"Avena\" ...\n"
          ]
        }
      ],
      "source": [
        "cereal<-read.csv(\"/content/cereal2.csv\", header=TRUE, sep=\";\", dec=\",\")\n",
        "str(cereal)"
      ]
    },
    {
      "cell_type": "markdown",
      "metadata": {
        "id": "-6utJKe1LgBL"
      },
      "source": [
        "##PREPROCESAMIENTO"
      ]
    },
    {
      "cell_type": "markdown",
      "metadata": {
        "id": "ri-GyeDMLsGJ"
      },
      "source": [
        "### Modifica la variable 'desayuno' para saber \" Si consume Avena\" vs \" No consume Avena\""
      ]
    },
    {
      "cell_type": "code",
      "execution_count": null,
      "metadata": {
        "id": "PhzXWLaZ--vy"
      },
      "outputs": [],
      "source": [
        "cereal$desayuno <- ifelse(cereal$desayuno == \"Avena\", \"Avena\", \"Otros\")"
      ]
    },
    {
      "cell_type": "code",
      "execution_count": null,
      "metadata": {
        "colab": {
          "base_uri": "https://localhost:8080/",
          "height": 286
        },
        "id": "oksp179n-_-H",
        "outputId": "9ca1f300-6556-419f-90dc-2cf033d03225"
      },
      "outputs": [
        {
          "output_type": "display_data",
          "data": {
            "text/html": [
              "<table class=\"dataframe\">\n",
              "<caption>A data.frame: 6 × 5</caption>\n",
              "<thead>\n",
              "\t<tr><th></th><th scope=col>edad_cat</th><th scope=col>genero</th><th scope=col>ecivil</th><th scope=col>activo</th><th scope=col>desayuno</th></tr>\n",
              "\t<tr><th></th><th scope=col>&lt;chr&gt;</th><th scope=col>&lt;chr&gt;</th><th scope=col>&lt;chr&gt;</th><th scope=col>&lt;chr&gt;</th><th scope=col>&lt;chr&gt;</th></tr>\n",
              "</thead>\n",
              "<tbody>\n",
              "\t<tr><th scope=row>1</th><td>Menor de 31</td><td>Hombre</td><td>Casado</td><td>En activo    </td><td>Otros</td></tr>\n",
              "\t<tr><th scope=row>2</th><td>46-60      </td><td>Hombre</td><td>Casado</td><td>Sin actividad</td><td>Otros</td></tr>\n",
              "\t<tr><th scope=row>3</th><td>Mas de 60  </td><td>Hombre</td><td>Casado</td><td>Sin actividad</td><td>Avena</td></tr>\n",
              "\t<tr><th scope=row>4</th><td>31-45      </td><td>Mujer </td><td>Casado</td><td>En activo    </td><td>Avena</td></tr>\n",
              "\t<tr><th scope=row>5</th><td>46-60      </td><td>Hombre</td><td>Casado</td><td>Sin actividad</td><td>Avena</td></tr>\n",
              "\t<tr><th scope=row>6</th><td>Mas de 60  </td><td>Hombre</td><td>Casado</td><td>Sin actividad</td><td>Otros</td></tr>\n",
              "</tbody>\n",
              "</table>\n"
            ],
            "text/markdown": "\nA data.frame: 6 × 5\n\n| <!--/--> | edad_cat &lt;chr&gt; | genero &lt;chr&gt; | ecivil &lt;chr&gt; | activo &lt;chr&gt; | desayuno &lt;chr&gt; |\n|---|---|---|---|---|---|\n| 1 | Menor de 31 | Hombre | Casado | En activo     | Otros |\n| 2 | 46-60       | Hombre | Casado | Sin actividad | Otros |\n| 3 | Mas de 60   | Hombre | Casado | Sin actividad | Avena |\n| 4 | 31-45       | Mujer  | Casado | En activo     | Avena |\n| 5 | 46-60       | Hombre | Casado | Sin actividad | Avena |\n| 6 | Mas de 60   | Hombre | Casado | Sin actividad | Otros |\n\n",
            "text/latex": "A data.frame: 6 × 5\n\\begin{tabular}{r|lllll}\n  & edad\\_cat & genero & ecivil & activo & desayuno\\\\\n  & <chr> & <chr> & <chr> & <chr> & <chr>\\\\\n\\hline\n\t1 & Menor de 31 & Hombre & Casado & En activo     & Otros\\\\\n\t2 & 46-60       & Hombre & Casado & Sin actividad & Otros\\\\\n\t3 & Mas de 60   & Hombre & Casado & Sin actividad & Avena\\\\\n\t4 & 31-45       & Mujer  & Casado & En activo     & Avena\\\\\n\t5 & 46-60       & Hombre & Casado & Sin actividad & Avena\\\\\n\t6 & Mas de 60   & Hombre & Casado & Sin actividad & Otros\\\\\n\\end{tabular}\n",
            "text/plain": [
              "  edad_cat    genero ecivil activo        desayuno\n",
              "1 Menor de 31 Hombre Casado En activo     Otros   \n",
              "2 46-60       Hombre Casado Sin actividad Otros   \n",
              "3 Mas de 60   Hombre Casado Sin actividad Avena   \n",
              "4 31-45       Mujer  Casado En activo     Avena   \n",
              "5 46-60       Hombre Casado Sin actividad Avena   \n",
              "6 Mas de 60   Hombre Casado Sin actividad Otros   "
            ]
          },
          "metadata": {}
        }
      ],
      "source": [
        "head(cereal)"
      ]
    },
    {
      "cell_type": "code",
      "execution_count": null,
      "metadata": {
        "id": "EZFzY9wN-_7y"
      },
      "outputs": [],
      "source": [
        "##Crea un set completo de variables dummy\n",
        "cerealeswin<-dummyVars(\"~.\",data=cereal)\n",
        "cerealesfin<-as.data.frame(predict(cerealeswin,newdata=cereal))\n",
        "\n",
        "cerealesfin$desayunoOtros <- NULL\n",
        "colnames(cerealesfin) <- make.names(colnames(cerealesfin))"
      ]
    },
    {
      "cell_type": "code",
      "execution_count": null,
      "metadata": {
        "colab": {
          "base_uri": "https://localhost:8080/"
        },
        "id": "KcDWlvQ0-_5Y",
        "outputId": "830f0025-2ac5-4325-a6db-f239c9a56411"
      },
      "outputs": [
        {
          "output_type": "stream",
          "name": "stdout",
          "text": [
            "'data.frame':\t880 obs. of  11 variables:\n",
            " $ edad_cat31.45      : num  0 0 0 1 0 0 1 0 1 1 ...\n",
            " $ edad_cat46.60      : num  0 1 0 0 1 0 0 0 0 0 ...\n",
            " $ edad_catMas.de.60  : num  0 0 1 0 0 1 0 1 0 0 ...\n",
            " $ edad_catMenor.de.31: num  1 0 0 0 0 0 0 0 0 0 ...\n",
            " $ generoHombre       : num  1 1 1 0 1 1 0 0 0 0 ...\n",
            " $ generoMujer        : num  0 0 0 1 0 0 1 1 1 1 ...\n",
            " $ ecivilCasado       : num  1 1 1 1 1 1 1 0 1 1 ...\n",
            " $ ecivilSoltero      : num  0 0 0 0 0 0 0 1 0 0 ...\n",
            " $ activoEn.activo    : num  1 0 0 1 0 0 0 0 1 0 ...\n",
            " $ activoSin.actividad: num  0 1 1 0 1 1 1 1 0 1 ...\n",
            " $ desayunoAvena      : num  0 0 1 1 1 0 0 1 1 0 ...\n"
          ]
        }
      ],
      "source": [
        "str(cerealesfin)"
      ]
    },
    {
      "cell_type": "markdown",
      "metadata": {
        "id": "bNIUE6Gq_Ke8"
      },
      "source": [
        "# DATASET DE PRUEBA Y ENTRENAMIENTO"
      ]
    },
    {
      "cell_type": "code",
      "execution_count": null,
      "metadata": {
        "id": "8mGUnO0y-_uR"
      },
      "outputs": [],
      "source": [
        "set.seed(1)\n",
        "#aquí se define el tamaño de la muestra, en este caso entrenamiento tendrá el 75% de los casos\n",
        "sample <- sample.int(nrow(cerealesfin), floor(.75*nrow(cerealesfin)))\n",
        "cereal.train <- cerealesfin[sample, ]\n",
        "cereal.test <- cerealesfin[-sample, ]\n",
        "\n",
        "\n",
        "cereal.train1 <- cereal.train\n",
        "cereal.test1 <- cereal.test"
      ]
    },
    {
      "cell_type": "code",
      "execution_count": null,
      "metadata": {
        "colab": {
          "base_uri": "https://localhost:8080/"
        },
        "id": "8uWyv1ymE-_K",
        "outputId": "544ba1ad-6ff6-48c1-c983-67032d824e1f"
      },
      "outputs": [
        {
          "output_type": "stream",
          "name": "stdout",
          "text": [
            "'data.frame':\t660 obs. of  11 variables:\n",
            " $ edad_cat31.45      : num  0 1 0 0 0 0 0 1 0 0 ...\n",
            " $ edad_cat46.60      : num  0 0 1 1 0 1 0 0 1 1 ...\n",
            " $ edad_catMas.de.60  : num  0 0 0 0 0 0 1 0 0 0 ...\n",
            " $ edad_catMenor.de.31: num  1 0 0 0 1 0 0 0 0 0 ...\n",
            " $ generoHombre       : num  0 0 0 0 0 0 0 1 0 0 ...\n",
            " $ generoMujer        : num  1 1 1 1 1 1 1 0 1 1 ...\n",
            " $ ecivilCasado       : num  0 0 1 1 0 0 0 1 1 1 ...\n",
            " $ ecivilSoltero      : num  1 1 0 0 1 1 1 0 0 0 ...\n",
            " $ activoEn.activo    : num  1 0 0 0 1 0 1 0 0 0 ...\n",
            " $ activoSin.actividad: num  0 1 1 1 0 1 0 1 1 1 ...\n",
            " $ desayunoAvena      : num  0 0 1 0 0 1 0 0 0 0 ...\n"
          ]
        }
      ],
      "source": [
        "str(cereal.train)"
      ]
    },
    {
      "cell_type": "code",
      "execution_count": null,
      "metadata": {
        "id": "wpsmorsCE9kA"
      },
      "outputs": [],
      "source": [
        "# Volvemos la columna que queremos predecir de tipo 'Factor'\n",
        "# Lo hacemos para el conjunto de entrenamiento y de prueba\n",
        "cereal.train$desayunoAvena<-as.factor(cereal.train$desayunoAvena)\n",
        "cereal.train1$desayunoAvena<-as.factor(cereal.train1$desayunoAvena)\n",
        "cereal.test$desayunoAvena<-as.factor(cereal.test$desayunoAvena)\n",
        "cereal.test1$desayunoAvena<-as.factor(cereal.test1$desayunoAvena)"
      ]
    },
    {
      "cell_type": "markdown",
      "source": [
        "## Dataset preprocesado:"
      ],
      "metadata": {
        "id": "fESx3XN4PlZ5"
      }
    },
    {
      "cell_type": "code",
      "execution_count": null,
      "metadata": {
        "colab": {
          "base_uri": "https://localhost:8080/"
        },
        "id": "1U0l04PjI3ry",
        "outputId": "627d9b24-6d9d-4dd4-ea48-15a12258f6ac"
      },
      "outputs": [
        {
          "output_type": "stream",
          "name": "stdout",
          "text": [
            "'data.frame':\t660 obs. of  11 variables:\n",
            " $ edad_cat31.45      : num  0 1 0 0 0 0 0 1 0 0 ...\n",
            " $ edad_cat46.60      : num  0 0 1 1 0 1 0 0 1 1 ...\n",
            " $ edad_catMas.de.60  : num  0 0 0 0 0 0 1 0 0 0 ...\n",
            " $ edad_catMenor.de.31: num  1 0 0 0 1 0 0 0 0 0 ...\n",
            " $ generoHombre       : num  0 0 0 0 0 0 0 1 0 0 ...\n",
            " $ generoMujer        : num  1 1 1 1 1 1 1 0 1 1 ...\n",
            " $ ecivilCasado       : num  0 0 1 1 0 0 0 1 1 1 ...\n",
            " $ ecivilSoltero      : num  1 1 0 0 1 1 1 0 0 0 ...\n",
            " $ activoEn.activo    : num  1 0 0 0 1 0 1 0 0 0 ...\n",
            " $ activoSin.actividad: num  0 1 1 1 0 1 0 1 1 1 ...\n",
            " $ desayunoAvena      : Factor w/ 2 levels \"0\",\"1\": 1 1 2 1 1 2 1 1 1 1 ...\n"
          ]
        }
      ],
      "source": [
        "str(cereal.train)"
      ]
    },
    {
      "cell_type": "code",
      "execution_count": null,
      "metadata": {
        "colab": {
          "base_uri": "https://localhost:8080/",
          "height": 306
        },
        "id": "0rnT0GYJKLNx",
        "outputId": "ca2138d7-6400-4fe4-e20f-11a21aa2f998"
      },
      "outputs": [
        {
          "output_type": "display_data",
          "data": {
            "text/html": [
              "<table class=\"dataframe\">\n",
              "<caption>A data.frame: 6 × 11</caption>\n",
              "<thead>\n",
              "\t<tr><th></th><th scope=col>edad_cat31.45</th><th scope=col>edad_cat46.60</th><th scope=col>edad_catMas.de.60</th><th scope=col>edad_catMenor.de.31</th><th scope=col>generoHombre</th><th scope=col>generoMujer</th><th scope=col>ecivilCasado</th><th scope=col>ecivilSoltero</th><th scope=col>activoEn.activo</th><th scope=col>activoSin.actividad</th><th scope=col>desayunoAvena</th></tr>\n",
              "\t<tr><th></th><th scope=col>&lt;dbl&gt;</th><th scope=col>&lt;dbl&gt;</th><th scope=col>&lt;dbl&gt;</th><th scope=col>&lt;dbl&gt;</th><th scope=col>&lt;dbl&gt;</th><th scope=col>&lt;dbl&gt;</th><th scope=col>&lt;dbl&gt;</th><th scope=col>&lt;dbl&gt;</th><th scope=col>&lt;dbl&gt;</th><th scope=col>&lt;dbl&gt;</th><th scope=col>&lt;fct&gt;</th></tr>\n",
              "</thead>\n",
              "<tbody>\n",
              "\t<tr><th scope=row>836</th><td>0</td><td>0</td><td>0</td><td>1</td><td>0</td><td>1</td><td>0</td><td>1</td><td>1</td><td>0</td><td>0</td></tr>\n",
              "\t<tr><th scope=row>679</th><td>1</td><td>0</td><td>0</td><td>0</td><td>0</td><td>1</td><td>0</td><td>1</td><td>0</td><td>1</td><td>0</td></tr>\n",
              "\t<tr><th scope=row>129</th><td>0</td><td>1</td><td>0</td><td>0</td><td>0</td><td>1</td><td>1</td><td>0</td><td>0</td><td>1</td><td>1</td></tr>\n",
              "\t<tr><th scope=row>509</th><td>0</td><td>1</td><td>0</td><td>0</td><td>0</td><td>1</td><td>1</td><td>0</td><td>0</td><td>1</td><td>0</td></tr>\n",
              "\t<tr><th scope=row>471</th><td>0</td><td>0</td><td>0</td><td>1</td><td>0</td><td>1</td><td>0</td><td>1</td><td>1</td><td>0</td><td>0</td></tr>\n",
              "\t<tr><th scope=row>299</th><td>0</td><td>1</td><td>0</td><td>0</td><td>0</td><td>1</td><td>0</td><td>1</td><td>0</td><td>1</td><td>1</td></tr>\n",
              "</tbody>\n",
              "</table>\n"
            ],
            "text/markdown": "\nA data.frame: 6 × 11\n\n| <!--/--> | edad_cat31.45 &lt;dbl&gt; | edad_cat46.60 &lt;dbl&gt; | edad_catMas.de.60 &lt;dbl&gt; | edad_catMenor.de.31 &lt;dbl&gt; | generoHombre &lt;dbl&gt; | generoMujer &lt;dbl&gt; | ecivilCasado &lt;dbl&gt; | ecivilSoltero &lt;dbl&gt; | activoEn.activo &lt;dbl&gt; | activoSin.actividad &lt;dbl&gt; | desayunoAvena &lt;fct&gt; |\n|---|---|---|---|---|---|---|---|---|---|---|---|\n| 836 | 0 | 0 | 0 | 1 | 0 | 1 | 0 | 1 | 1 | 0 | 0 |\n| 679 | 1 | 0 | 0 | 0 | 0 | 1 | 0 | 1 | 0 | 1 | 0 |\n| 129 | 0 | 1 | 0 | 0 | 0 | 1 | 1 | 0 | 0 | 1 | 1 |\n| 509 | 0 | 1 | 0 | 0 | 0 | 1 | 1 | 0 | 0 | 1 | 0 |\n| 471 | 0 | 0 | 0 | 1 | 0 | 1 | 0 | 1 | 1 | 0 | 0 |\n| 299 | 0 | 1 | 0 | 0 | 0 | 1 | 0 | 1 | 0 | 1 | 1 |\n\n",
            "text/latex": "A data.frame: 6 × 11\n\\begin{tabular}{r|lllllllllll}\n  & edad\\_cat31.45 & edad\\_cat46.60 & edad\\_catMas.de.60 & edad\\_catMenor.de.31 & generoHombre & generoMujer & ecivilCasado & ecivilSoltero & activoEn.activo & activoSin.actividad & desayunoAvena\\\\\n  & <dbl> & <dbl> & <dbl> & <dbl> & <dbl> & <dbl> & <dbl> & <dbl> & <dbl> & <dbl> & <fct>\\\\\n\\hline\n\t836 & 0 & 0 & 0 & 1 & 0 & 1 & 0 & 1 & 1 & 0 & 0\\\\\n\t679 & 1 & 0 & 0 & 0 & 0 & 1 & 0 & 1 & 0 & 1 & 0\\\\\n\t129 & 0 & 1 & 0 & 0 & 0 & 1 & 1 & 0 & 0 & 1 & 1\\\\\n\t509 & 0 & 1 & 0 & 0 & 0 & 1 & 1 & 0 & 0 & 1 & 0\\\\\n\t471 & 0 & 0 & 0 & 1 & 0 & 1 & 0 & 1 & 1 & 0 & 0\\\\\n\t299 & 0 & 1 & 0 & 0 & 0 & 1 & 0 & 1 & 0 & 1 & 1\\\\\n\\end{tabular}\n",
            "text/plain": [
              "    edad_cat31.45 edad_cat46.60 edad_catMas.de.60 edad_catMenor.de.31\n",
              "836 0             0             0                 1                  \n",
              "679 1             0             0                 0                  \n",
              "129 0             1             0                 0                  \n",
              "509 0             1             0                 0                  \n",
              "471 0             0             0                 1                  \n",
              "299 0             1             0                 0                  \n",
              "    generoHombre generoMujer ecivilCasado ecivilSoltero activoEn.activo\n",
              "836 0            1           0            1             1              \n",
              "679 0            1           0            1             0              \n",
              "129 0            1           1            0             0              \n",
              "509 0            1           1            0             0              \n",
              "471 0            1           0            1             1              \n",
              "299 0            1           0            1             0              \n",
              "    activoSin.actividad desayunoAvena\n",
              "836 0                   0            \n",
              "679 1                   0            \n",
              "129 1                   1            \n",
              "509 1                   0            \n",
              "471 0                   0            \n",
              "299 1                   1            "
            ]
          },
          "metadata": {}
        }
      ],
      "source": [
        "head(cereal.train)"
      ]
    },
    {
      "cell_type": "markdown",
      "metadata": {
        "id": "DG4wapykPbAo"
      },
      "source": [
        "##VALIDACION CRUZADA"
      ]
    },
    {
      "cell_type": "markdown",
      "source": [
        "A continuación, se realiza validación cruzada"
      ],
      "metadata": {
        "id": "Q2R1Iad6P2l3"
      }
    },
    {
      "cell_type": "code",
      "execution_count": null,
      "metadata": {
        "id": "reJDgINa-_jw"
      },
      "outputs": [],
      "source": [
        "# creo parámetros de validación cruzada\n",
        "set.seed(1)\n",
        "cross<-trainControl(method=\"cv\",number=10)\n",
        "modeloknn1<-train(desayunoAvena~.,method=\"knn\",\n",
        "                  tuneGrid=expand.grid(k=1:30),\n",
        "                  trControl=cross,\n",
        "                  metric=\"Accuracy\",\n",
        "                  data=cereal.train)"
      ]
    },
    {
      "cell_type": "code",
      "execution_count": null,
      "metadata": {
        "colab": {
          "base_uri": "https://localhost:8080/",
          "height": 1000
        },
        "id": "ba_6hYOZ_OcP",
        "outputId": "21e7c1a2-c295-46a5-954b-54448fca6e96"
      },
      "outputs": [
        {
          "output_type": "display_data",
          "data": {
            "text/plain": [
              "k-Nearest Neighbors \n",
              "\n",
              "660 samples\n",
              " 10 predictor\n",
              "  2 classes: '0', '1' \n",
              "\n",
              "No pre-processing\n",
              "Resampling: Cross-Validated (10 fold) \n",
              "Summary of sample sizes: 595, 594, 594, 593, 594, 594, ... \n",
              "Resampling results across tuning parameters:\n",
              "\n",
              "  k   Accuracy   Kappa    \n",
              "   1  0.7546954  0.4618197\n",
              "   2  0.7592409  0.4699579\n",
              "   3  0.7577257  0.4681969\n",
              "   4  0.7516651  0.4537234\n",
              "   5  0.7531803  0.4543657\n",
              "   6  0.7577257  0.4651685\n",
              "   7  0.7577257  0.4646142\n",
              "   8  0.7577257  0.4632931\n",
              "   9  0.7577257  0.4648585\n",
              "  10  0.7562106  0.4623777\n",
              "  11  0.7546954  0.4591306\n",
              "  12  0.7562106  0.4625911\n",
              "  13  0.7577257  0.4677402\n",
              "  14  0.7607560  0.4723344\n",
              "  15  0.7425742  0.4202570\n",
              "  16  0.7411043  0.4142254\n",
              "  17  0.7304982  0.3802354\n",
              "  18  0.7335285  0.3834849\n",
              "  19  0.7183756  0.3406263\n",
              "  20  0.7168605  0.3321681\n",
              "  21  0.7138754  0.3175783\n",
              "  22  0.7153905  0.3194272\n",
              "  23  0.7138754  0.3152899\n",
              "  24  0.7153905  0.3210267\n",
              "  25  0.7138754  0.3145245\n",
              "  26  0.7199360  0.3327581\n",
              "  27  0.7244814  0.3439945\n",
              "  28  0.7184208  0.3293816\n",
              "  29  0.7138754  0.3173996\n",
              "  30  0.7123602  0.3118323\n",
              "\n",
              "Accuracy was used to select the optimal model using the largest value.\n",
              "The final value used for the model was k = 14."
            ]
          },
          "metadata": {}
        },
        {
          "output_type": "display_data",
          "data": {
            "text/plain": [
              "plot without title"
            ],
            "image/png": "[encoded data removed]"
          },
          "metadata": {
            "image/png": {
              "width": 420,
              "height": 420
            }
          }
        }
      ],
      "source": [
        "modeloknn1\n",
        "plot(modeloknn1)"
      ]
    },
    {
      "cell_type": "code",
      "source": [
        "set.seed(1)\n",
        "\n",
        "levels(cereal.train$desayunoAvena) <- make.names(levels(factor(cereal.train$desayunoAvena)))\n",
        "# creo parámetros de validación cruzada\n",
        "cross<-trainControl(method=\"cv\",number=5,\n",
        "                    classProbs = TRUE,\n",
        "                    summaryFunction =prSummary)\n",
        "\n",
        "modeloknn2<-train(desayunoAvena~.,method=\"knn\",\n",
        "                  tuneGrid=expand.grid(k=1:30),\n",
        "                  trControl=cross,\n",
        "                  metric=\"AUC\",\n",
        "                  data=cereal.train)"
      ],
      "metadata": {
        "id": "_ieP9eH963ZV"
      },
      "execution_count": null,
      "outputs": []
    },
    {
      "cell_type": "code",
      "execution_count": null,
      "metadata": {
        "colab": {
          "base_uri": "https://localhost:8080/",
          "height": 1000
        },
        "id": "HGvHKeFk_OXl",
        "outputId": "39ba0468-c4ea-489c-ee81-04be48e27364"
      },
      "outputs": [
        {
          "output_type": "display_data",
          "data": {
            "text/plain": [
              "k-Nearest Neighbors \n",
              "\n",
              "660 samples\n",
              " 10 predictor\n",
              "  2 classes: 'X0', 'X1' \n",
              "\n",
              "No pre-processing\n",
              "Resampling: Cross-Validated (5 fold) \n",
              "Summary of sample sizes: 527, 529, 528, 528, 528 \n",
              "Resampling results across tuning parameters:\n",
              "\n",
              "  k   AUC        Precision  Recall     F        \n",
              "   1  0.5775635  0.8160580  0.7924487  0.8027405\n",
              "   2  0.5775635  0.8096098  0.7877975  0.7971674\n",
              "   3  0.5775635  0.8158027  0.7901231  0.8013968\n",
              "   4  0.5872484  0.8141493  0.7924487  0.8016216\n",
              "   5  0.5902001  0.8130537  0.7970999  0.8034522\n",
              "   6  0.5981058  0.8095207  0.7970999  0.8016774\n",
              "   7  0.5986669  0.8081846  0.7994254  0.8021422\n",
              "   8  0.6123983  0.8106011  0.7970999  0.8024224\n",
              "   9  0.6247622  0.8074734  0.7994254  0.8020058\n",
              "  10  0.6446456  0.8083022  0.7947743  0.8001102\n",
              "  11  0.6665106  0.8130563  0.7994254  0.8047803\n",
              "  12  0.6969988  0.8101199  0.7947743  0.8010243\n",
              "  13  0.7322624  0.7909515  0.7994254  0.7943119\n",
              "  14  0.7454871  0.7867547  0.8064022  0.7954908\n",
              "  15  0.7969685  0.7854608  0.8157592  0.7993828\n",
              "  16  0.8024973  0.7711229  0.8204104  0.7940658\n",
              "  17  0.8014037  0.7556392  0.8297127  0.7901131\n",
              "  18  0.8129994  0.7462449  0.8413953  0.7898534\n",
              "  19  0.8301682  0.7439736  0.8460465  0.7908494\n",
              "  20  0.8287411  0.7393673  0.8460465  0.7882993\n",
              "  21  0.8339918  0.7393673  0.8460465  0.7882993\n",
              "  22  0.8345679  0.7393673  0.8460465  0.7882993\n",
              "  23  0.8369410  0.7393673  0.8460465  0.7882993\n",
              "  24  0.8417008  0.7393673  0.8460465  0.7882993\n",
              "  25  0.8450258  0.7393673  0.8460465  0.7882993\n",
              "  26  0.8464307  0.7393673  0.8460465  0.7882993\n",
              "  27  0.8485415  0.7393673  0.8460465  0.7882993\n",
              "  28  0.8485415  0.7393673  0.8460465  0.7882993\n",
              "  29  0.8508455  0.7393673  0.8460465  0.7882993\n",
              "  30  0.8510624  0.7393673  0.8460465  0.7882993\n",
              "\n",
              "AUC was used to select the optimal model using the largest value.\n",
              "The final value used for the model was k = 30."
            ]
          },
          "metadata": {}
        },
        {
          "output_type": "display_data",
          "data": {
            "text/plain": [
              "plot without title"
            ],
            "image/png": "[encoded data removed]"
          },
          "metadata": {
            "image/png": {
              "width": 420,
              "height": 420
            }
          }
        }
      ],
      "source": [
        "modeloknn2\n",
        "plot(modeloknn2)"
      ]
    },
    {
      "cell_type": "markdown",
      "metadata": {
        "id": "Le0NuPTYPi2s"
      },
      "source": [
        "#MODELADO -- CREAMOS MODELOS DE KNN\n",
        "###Vamos a probar el modelo con k=5, k=14 y k=30\n"
      ]
    },
    {
      "cell_type": "markdown",
      "source": [
        "#K=5\n"
      ],
      "metadata": {
        "id": "7Tu9IyQVFSl1"
      }
    },
    {
      "cell_type": "code",
      "execution_count": null,
      "metadata": {
        "id": "hzOsF5Wv_Vrr"
      },
      "outputs": [],
      "source": [
        "# MODELO CON K = 5\n",
        "set.seed(1)\n",
        "test_pred = knn3(desayunoAvena~., data=cereal.train1, k = 5)"
      ]
    },
    {
      "cell_type": "code",
      "execution_count": null,
      "metadata": {
        "colab": {
          "base_uri": "https://localhost:8080/",
          "height": 177
        },
        "id": "XJAMmAG__Vpg",
        "outputId": "6c044a21-41d5-48fa-8dfb-feb41589cf85"
      },
      "outputs": [
        {
          "output_type": "display_data",
          "data": {
            "text/plain": [
              "          Reference\n",
              "Prediction   0   1\n",
              "         0 346  67\n",
              "         1  83 164"
            ]
          },
          "metadata": {}
        },
        {
          "output_type": "display_data",
          "data": {
            "text/html": [
              "<style>\n",
              ".dl-inline {width: auto; margin:0; padding: 0}\n",
              ".dl-inline>dt, .dl-inline>dd {float: none; width: auto; display: inline-block}\n",
              ".dl-inline>dt::after {content: \":\\0020\"; padding-right: .5ex}\n",
              ".dl-inline>dt:not(:first-of-type) {padding-left: .5ex}\n",
              "</style><dl class=dl-inline><dt>Accuracy</dt><dd>0.772727272727273</dd><dt>Kappa</dt><dd>0.508357915437561</dd><dt>AccuracyLower</dt><dd>0.738816438262859</dd><dt>AccuracyUpper</dt><dd>0.804177344556837</dd><dt>AccuracyNull</dt><dd>0.65</dd><dt>AccuracyPValue</dt><dd>5.32313768400694e-12</dd><dt>McnemarPValue</dt><dd>0.220671361919847</dd></dl>\n"
            ],
            "text/markdown": "Accuracy\n:   0.772727272727273Kappa\n:   0.508357915437561AccuracyLower\n:   0.738816438262859AccuracyUpper\n:   0.804177344556837AccuracyNull\n:   0.65AccuracyPValue\n:   5.32313768400694e-12McnemarPValue\n:   0.220671361919847\n\n",
            "text/latex": "\\begin{description*}\n\\item[Accuracy] 0.772727272727273\n\\item[Kappa] 0.508357915437561\n\\item[AccuracyLower] 0.738816438262859\n\\item[AccuracyUpper] 0.804177344556837\n\\item[AccuracyNull] 0.65\n\\item[AccuracyPValue] 5.32313768400694e-12\n\\item[McnemarPValue] 0.220671361919847\n\\end{description*}\n",
            "text/plain": [
              "      Accuracy          Kappa  AccuracyLower  AccuracyUpper   AccuracyNull \n",
              "  7.727273e-01   5.083579e-01   7.388164e-01   8.041773e-01   6.500000e-01 \n",
              "AccuracyPValue  McnemarPValue \n",
              "  5.323138e-12   2.206714e-01 "
            ]
          },
          "metadata": {}
        },
        {
          "output_type": "display_data",
          "data": {
            "text/html": [
              "<style>\n",
              ".dl-inline {width: auto; margin:0; padding: 0}\n",
              ".dl-inline>dt, .dl-inline>dd {float: none; width: auto; display: inline-block}\n",
              ".dl-inline>dt::after {content: \":\\0020\"; padding-right: .5ex}\n",
              ".dl-inline>dt:not(:first-of-type) {padding-left: .5ex}\n",
              "</style><dl class=dl-inline><dt>Sensitivity</dt><dd>0.70995670995671</dd><dt>Specificity</dt><dd>0.806526806526807</dd><dt>Pos Pred Value</dt><dd>0.663967611336032</dd><dt>Neg Pred Value</dt><dd>0.837772397094431</dd><dt>Precision</dt><dd>0.663967611336032</dd><dt>Recall</dt><dd>0.70995670995671</dd><dt>F1</dt><dd>0.686192468619247</dd><dt>Prevalence</dt><dd>0.35</dd><dt>Detection Rate</dt><dd>0.248484848484848</dd><dt>Detection Prevalence</dt><dd>0.374242424242424</dd><dt>Balanced Accuracy</dt><dd>0.758241758241758</dd></dl>\n"
            ],
            "text/markdown": "Sensitivity\n:   0.70995670995671Specificity\n:   0.806526806526807Pos Pred Value\n:   0.663967611336032Neg Pred Value\n:   0.837772397094431Precision\n:   0.663967611336032Recall\n:   0.70995670995671F1\n:   0.686192468619247Prevalence\n:   0.35Detection Rate\n:   0.248484848484848Detection Prevalence\n:   0.374242424242424Balanced Accuracy\n:   0.758241758241758\n\n",
            "text/latex": "\\begin{description*}\n\\item[Sensitivity] 0.70995670995671\n\\item[Specificity] 0.806526806526807\n\\item[Pos Pred Value] 0.663967611336032\n\\item[Neg Pred Value] 0.837772397094431\n\\item[Precision] 0.663967611336032\n\\item[Recall] 0.70995670995671\n\\item[F1] 0.686192468619247\n\\item[Prevalence] 0.35\n\\item[Detection Rate] 0.248484848484848\n\\item[Detection Prevalence] 0.374242424242424\n\\item[Balanced Accuracy] 0.758241758241758\n\\end{description*}\n",
            "text/plain": [
              "         Sensitivity          Specificity       Pos Pred Value \n",
              "           0.7099567            0.8065268            0.6639676 \n",
              "      Neg Pred Value            Precision               Recall \n",
              "           0.8377724            0.6639676            0.7099567 \n",
              "                  F1           Prevalence       Detection Rate \n",
              "           0.6861925            0.3500000            0.2484848 \n",
              "Detection Prevalence    Balanced Accuracy \n",
              "           0.3742424            0.7582418 "
            ]
          },
          "metadata": {}
        }
      ],
      "source": [
        "# Desempeño en entrenamiento.  K = 5\n",
        "predmod <- predict(test_pred, cereal.train1, type = \"prob\")\n",
        "pronknn<-ifelse(predmod[,2] > 0.5 ,1, 0)\n",
        "confknn<-confusionMatrix(as.factor(pronknn),\n",
        "                          cereal.train1$desayunoAvena, positive = \"1\")\n",
        "confknn$table\n",
        "confknn$overall\n",
        "confknn$byClass"
      ]
    },
    {
      "cell_type": "code",
      "source": [
        "# Desempeño en prueba.  K = 5\n",
        "predmod <- predict(test_pred, cereal.test1, type = \"prob\")\n",
        "pronknn<-ifelse(predmod[,2] > 0.5 ,1, 0)\n",
        "confknn<-confusionMatrix(as.factor(pronknn),\n",
        "                          cereal.test1$desayunoAvena, positive = \"1\")\n",
        "confknn$table\n",
        "confknn$overall\n",
        "confknn$byClass"
      ],
      "metadata": {
        "colab": {
          "base_uri": "https://localhost:8080/",
          "height": 177
        },
        "id": "d9IanEj5fyoF",
        "outputId": "a1047ec6-acf8-46fc-ca6e-1779b88b2238"
      },
      "execution_count": null,
      "outputs": [
        {
          "output_type": "display_data",
          "data": {
            "text/plain": [
              "          Reference\n",
              "Prediction   0   1\n",
              "         0 111  20\n",
              "         1  30  59"
            ]
          },
          "metadata": {}
        },
        {
          "output_type": "display_data",
          "data": {
            "text/html": [
              "<style>\n",
              ".dl-inline {width: auto; margin:0; padding: 0}\n",
              ".dl-inline>dt, .dl-inline>dd {float: none; width: auto; display: inline-block}\n",
              ".dl-inline>dt::after {content: \":\\0020\"; padding-right: .5ex}\n",
              ".dl-inline>dt:not(:first-of-type) {padding-left: .5ex}\n",
              "</style><dl class=dl-inline><dt>Accuracy</dt><dd>0.772727272727273</dd><dt>Kappa</dt><dd>0.519608699449734</dd><dt>AccuracyLower</dt><dd>0.711589740311917</dd><dt>AccuracyUpper</dt><dd>0.826357915090648</dd><dt>AccuracyNull</dt><dd>0.640909090909091</dd><dt>AccuracyPValue</dt><dd>1.73435453610618e-05</dd><dt>McnemarPValue</dt><dd>0.203091787577168</dd></dl>\n"
            ],
            "text/markdown": "Accuracy\n:   0.772727272727273Kappa\n:   0.519608699449734AccuracyLower\n:   0.711589740311917AccuracyUpper\n:   0.826357915090648AccuracyNull\n:   0.640909090909091AccuracyPValue\n:   1.73435453610618e-05McnemarPValue\n:   0.203091787577168\n\n",
            "text/latex": "\\begin{description*}\n\\item[Accuracy] 0.772727272727273\n\\item[Kappa] 0.519608699449734\n\\item[AccuracyLower] 0.711589740311917\n\\item[AccuracyUpper] 0.826357915090648\n\\item[AccuracyNull] 0.640909090909091\n\\item[AccuracyPValue] 1.73435453610618e-05\n\\item[McnemarPValue] 0.203091787577168\n\\end{description*}\n",
            "text/plain": [
              "      Accuracy          Kappa  AccuracyLower  AccuracyUpper   AccuracyNull \n",
              "  7.727273e-01   5.196087e-01   7.115897e-01   8.263579e-01   6.409091e-01 \n",
              "AccuracyPValue  McnemarPValue \n",
              "  1.734355e-05   2.030918e-01 "
            ]
          },
          "metadata": {}
        },
        {
          "output_type": "display_data",
          "data": {
            "text/html": [
              "<style>\n",
              ".dl-inline {width: auto; margin:0; padding: 0}\n",
              ".dl-inline>dt, .dl-inline>dd {float: none; width: auto; display: inline-block}\n",
              ".dl-inline>dt::after {content: \":\\0020\"; padding-right: .5ex}\n",
              ".dl-inline>dt:not(:first-of-type) {padding-left: .5ex}\n",
              "</style><dl class=dl-inline><dt>Sensitivity</dt><dd>0.746835443037975</dd><dt>Specificity</dt><dd>0.787234042553192</dd><dt>Pos Pred Value</dt><dd>0.662921348314607</dd><dt>Neg Pred Value</dt><dd>0.847328244274809</dd><dt>Precision</dt><dd>0.662921348314607</dd><dt>Recall</dt><dd>0.746835443037975</dd><dt>F1</dt><dd>0.702380952380952</dd><dt>Prevalence</dt><dd>0.359090909090909</dd><dt>Detection Rate</dt><dd>0.268181818181818</dd><dt>Detection Prevalence</dt><dd>0.404545454545455</dd><dt>Balanced Accuracy</dt><dd>0.767034742795583</dd></dl>\n"
            ],
            "text/markdown": "Sensitivity\n:   0.746835443037975Specificity\n:   0.787234042553192Pos Pred Value\n:   0.662921348314607Neg Pred Value\n:   0.847328244274809Precision\n:   0.662921348314607Recall\n:   0.746835443037975F1\n:   0.702380952380952Prevalence\n:   0.359090909090909Detection Rate\n:   0.268181818181818Detection Prevalence\n:   0.404545454545455Balanced Accuracy\n:   0.767034742795583\n\n",
            "text/latex": "\\begin{description*}\n\\item[Sensitivity] 0.746835443037975\n\\item[Specificity] 0.787234042553192\n\\item[Pos Pred Value] 0.662921348314607\n\\item[Neg Pred Value] 0.847328244274809\n\\item[Precision] 0.662921348314607\n\\item[Recall] 0.746835443037975\n\\item[F1] 0.702380952380952\n\\item[Prevalence] 0.359090909090909\n\\item[Detection Rate] 0.268181818181818\n\\item[Detection Prevalence] 0.404545454545455\n\\item[Balanced Accuracy] 0.767034742795583\n\\end{description*}\n",
            "text/plain": [
              "         Sensitivity          Specificity       Pos Pred Value \n",
              "           0.7468354            0.7872340            0.6629213 \n",
              "      Neg Pred Value            Precision               Recall \n",
              "           0.8473282            0.6629213            0.7468354 \n",
              "                  F1           Prevalence       Detection Rate \n",
              "           0.7023810            0.3590909            0.2681818 \n",
              "Detection Prevalence    Balanced Accuracy \n",
              "           0.4045455            0.7670347 "
            ]
          },
          "metadata": {}
        }
      ]
    },
    {
      "cell_type": "code",
      "execution_count": null,
      "metadata": {
        "colab": {
          "base_uri": "https://localhost:8080/",
          "height": 454
        },
        "id": "eE1GDDp5_VnJ",
        "outputId": "8e625e17-6df7-4158-c9ac-044f3032d47b"
      },
      "outputs": [
        {
          "output_type": "display_data",
          "data": {
            "text/html": [
              "0.767034742795583"
            ],
            "text/markdown": "0.767034742795583",
            "text/latex": "0.767034742795583",
            "text/plain": [
              "[1] 0.7670347"
            ]
          },
          "metadata": {}
        },
        {
          "output_type": "display_data",
          "data": {
            "text/plain": [
              "plot without title"
            ],
            "image/png": "[encoded data removed]"
          },
          "metadata": {
            "image/png": {
              "width": 420,
              "height": 420
            }
          }
        }
      ],
      "source": [
        "# CURVA ROC y AUC.  K = 5\n",
        "\n",
        "#crear objeto de predicciones\n",
        "pr<-prediction(pronknn,cereal.test$desayunoAvena)\n",
        "#creacion del objeto de la curva\n",
        "curvaROC<-performance(pr,measure=\"tpr\",x.measure=\"fpr\")\n",
        "#grafico de la curva\n",
        "plot(curvaROC)\n",
        "\n",
        "#calcular el AUC\n",
        "auc<-performance(pr,measure = \"auc\")\n",
        "auc <- auc@y.values[[1]]\n",
        "#ver el AUC\n",
        "auc"
      ]
    },
    {
      "cell_type": "markdown",
      "source": [
        "#K=14\n"
      ],
      "metadata": {
        "id": "nbPlWPZ-FYcA"
      }
    },
    {
      "cell_type": "code",
      "execution_count": null,
      "metadata": {
        "id": "BGQXrsVe-tWm"
      },
      "outputs": [],
      "source": [
        "# MODELO CON K = 14\n",
        "set.seed(1)\n",
        "test_pred = knn3(desayunoAvena~., data=cereal.train1, k = 14)"
      ]
    },
    {
      "cell_type": "code",
      "execution_count": null,
      "metadata": {
        "colab": {
          "base_uri": "https://localhost:8080/",
          "height": 177
        },
        "outputId": "e085212b-886d-4277-8bf3-0df16aa60025",
        "id": "C3C6mCIM-0nV"
      },
      "outputs": [
        {
          "output_type": "display_data",
          "data": {
            "text/plain": [
              "          Reference\n",
              "Prediction   0   1\n",
              "         0 349  72\n",
              "         1  80 159"
            ]
          },
          "metadata": {}
        },
        {
          "output_type": "display_data",
          "data": {
            "text/html": [
              "<style>\n",
              ".dl-inline {width: auto; margin:0; padding: 0}\n",
              ".dl-inline>dt, .dl-inline>dd {float: none; width: auto; display: inline-block}\n",
              ".dl-inline>dt::after {content: \":\\0020\"; padding-right: .5ex}\n",
              ".dl-inline>dt:not(:first-of-type) {padding-left: .5ex}\n",
              "</style><dl class=dl-inline><dt>Accuracy</dt><dd>0.76969696969697</dd><dt>Kappa</dt><dd>0.497852659398745</dd><dt>AccuracyLower</dt><dd>0.735651330224827</dd><dt>AccuracyUpper</dt><dd>0.801309522756438</dd><dt>AccuracyNull</dt><dd>0.65</dd><dt>AccuracyPValue</dt><dd>1.78120203332992e-11</dd><dt>McnemarPValue</dt><dd>0.570187775090349</dd></dl>\n"
            ],
            "text/markdown": "Accuracy\n:   0.76969696969697Kappa\n:   0.497852659398745AccuracyLower\n:   0.735651330224827AccuracyUpper\n:   0.801309522756438AccuracyNull\n:   0.65AccuracyPValue\n:   1.78120203332992e-11McnemarPValue\n:   0.570187775090349\n\n",
            "text/latex": "\\begin{description*}\n\\item[Accuracy] 0.76969696969697\n\\item[Kappa] 0.497852659398745\n\\item[AccuracyLower] 0.735651330224827\n\\item[AccuracyUpper] 0.801309522756438\n\\item[AccuracyNull] 0.65\n\\item[AccuracyPValue] 1.78120203332992e-11\n\\item[McnemarPValue] 0.570187775090349\n\\end{description*}\n",
            "text/plain": [
              "      Accuracy          Kappa  AccuracyLower  AccuracyUpper   AccuracyNull \n",
              "  7.696970e-01   4.978527e-01   7.356513e-01   8.013095e-01   6.500000e-01 \n",
              "AccuracyPValue  McnemarPValue \n",
              "  1.781202e-11   5.701878e-01 "
            ]
          },
          "metadata": {}
        },
        {
          "output_type": "display_data",
          "data": {
            "text/html": [
              "<style>\n",
              ".dl-inline {width: auto; margin:0; padding: 0}\n",
              ".dl-inline>dt, .dl-inline>dd {float: none; width: auto; display: inline-block}\n",
              ".dl-inline>dt::after {content: \":\\0020\"; padding-right: .5ex}\n",
              ".dl-inline>dt:not(:first-of-type) {padding-left: .5ex}\n",
              "</style><dl class=dl-inline><dt>Sensitivity</dt><dd>0.688311688311688</dd><dt>Specificity</dt><dd>0.813519813519814</dd><dt>Pos Pred Value</dt><dd>0.665271966527197</dd><dt>Neg Pred Value</dt><dd>0.828978622327791</dd><dt>Precision</dt><dd>0.665271966527197</dd><dt>Recall</dt><dd>0.688311688311688</dd><dt>F1</dt><dd>0.676595744680851</dd><dt>Prevalence</dt><dd>0.35</dd><dt>Detection Rate</dt><dd>0.240909090909091</dd><dt>Detection Prevalence</dt><dd>0.362121212121212</dd><dt>Balanced Accuracy</dt><dd>0.750915750915751</dd></dl>\n"
            ],
            "text/markdown": "Sensitivity\n:   0.688311688311688Specificity\n:   0.813519813519814Pos Pred Value\n:   0.665271966527197Neg Pred Value\n:   0.828978622327791Precision\n:   0.665271966527197Recall\n:   0.688311688311688F1\n:   0.676595744680851Prevalence\n:   0.35Detection Rate\n:   0.240909090909091Detection Prevalence\n:   0.362121212121212Balanced Accuracy\n:   0.750915750915751\n\n",
            "text/latex": "\\begin{description*}\n\\item[Sensitivity] 0.688311688311688\n\\item[Specificity] 0.813519813519814\n\\item[Pos Pred Value] 0.665271966527197\n\\item[Neg Pred Value] 0.828978622327791\n\\item[Precision] 0.665271966527197\n\\item[Recall] 0.688311688311688\n\\item[F1] 0.676595744680851\n\\item[Prevalence] 0.35\n\\item[Detection Rate] 0.240909090909091\n\\item[Detection Prevalence] 0.362121212121212\n\\item[Balanced Accuracy] 0.750915750915751\n\\end{description*}\n",
            "text/plain": [
              "         Sensitivity          Specificity       Pos Pred Value \n",
              "           0.6883117            0.8135198            0.6652720 \n",
              "      Neg Pred Value            Precision               Recall \n",
              "           0.8289786            0.6652720            0.6883117 \n",
              "                  F1           Prevalence       Detection Rate \n",
              "           0.6765957            0.3500000            0.2409091 \n",
              "Detection Prevalence    Balanced Accuracy \n",
              "           0.3621212            0.7509158 "
            ]
          },
          "metadata": {}
        }
      ],
      "source": [
        "# Desempeño en entrenamiento.  K = 14\n",
        "predmod <- predict(test_pred, cereal.train1, type = \"prob\")\n",
        "pronknn<-ifelse(predmod[,2] > 0.5 ,1, 0)\n",
        "confknn<-confusionMatrix(as.factor(pronknn),\n",
        "                          cereal.train1$desayunoAvena, positive = \"1\")\n",
        "confknn$table\n",
        "confknn$overall\n",
        "confknn$byClass"
      ]
    },
    {
      "cell_type": "code",
      "source": [
        "# Desempeño en prueba.  K = 14\n",
        "predmod <- predict(test_pred, cereal.test1, type = \"prob\")\n",
        "pronknn<-ifelse(predmod[,2] > 0.5 ,1, 0)\n",
        "confknn<-confusionMatrix(as.factor(pronknn),\n",
        "                          cereal.test1$desayunoAvena, positive = \"1\")\n",
        "confknn$table\n",
        "confknn$overall\n",
        "confknn$byClass"
      ],
      "metadata": {
        "colab": {
          "base_uri": "https://localhost:8080/",
          "height": 177
        },
        "outputId": "a3efd98a-dfec-4b56-a542-32c74b5f228e",
        "id": "N6F7oW71Dywu"
      },
      "execution_count": null,
      "outputs": [
        {
          "output_type": "display_data",
          "data": {
            "text/plain": [
              "          Reference\n",
              "Prediction   0   1\n",
              "         0 112  21\n",
              "         1  29  58"
            ]
          },
          "metadata": {}
        },
        {
          "output_type": "display_data",
          "data": {
            "text/html": [
              "<style>\n",
              ".dl-inline {width: auto; margin:0; padding: 0}\n",
              ".dl-inline>dt, .dl-inline>dd {float: none; width: auto; display: inline-block}\n",
              ".dl-inline>dt::after {content: \":\\0020\"; padding-right: .5ex}\n",
              ".dl-inline>dt:not(:first-of-type) {padding-left: .5ex}\n",
              "</style><dl class=dl-inline><dt>Accuracy</dt><dd>0.772727272727273</dd><dt>Kappa</dt><dd>0.516993062263985</dd><dt>AccuracyLower</dt><dd>0.711589740311917</dd><dt>AccuracyUpper</dt><dd>0.826357915090648</dd><dt>AccuracyNull</dt><dd>0.640909090909091</dd><dt>AccuracyPValue</dt><dd>1.73435453610618e-05</dd><dt>McnemarPValue</dt><dd>0.322198806162582</dd></dl>\n"
            ],
            "text/markdown": "Accuracy\n:   0.772727272727273Kappa\n:   0.516993062263985AccuracyLower\n:   0.711589740311917AccuracyUpper\n:   0.826357915090648AccuracyNull\n:   0.640909090909091AccuracyPValue\n:   1.73435453610618e-05McnemarPValue\n:   0.322198806162582\n\n",
            "text/latex": "\\begin{description*}\n\\item[Accuracy] 0.772727272727273\n\\item[Kappa] 0.516993062263985\n\\item[AccuracyLower] 0.711589740311917\n\\item[AccuracyUpper] 0.826357915090648\n\\item[AccuracyNull] 0.640909090909091\n\\item[AccuracyPValue] 1.73435453610618e-05\n\\item[McnemarPValue] 0.322198806162582\n\\end{description*}\n",
            "text/plain": [
              "      Accuracy          Kappa  AccuracyLower  AccuracyUpper   AccuracyNull \n",
              "  7.727273e-01   5.169931e-01   7.115897e-01   8.263579e-01   6.409091e-01 \n",
              "AccuracyPValue  McnemarPValue \n",
              "  1.734355e-05   3.221988e-01 "
            ]
          },
          "metadata": {}
        },
        {
          "output_type": "display_data",
          "data": {
            "text/html": [
              "<style>\n",
              ".dl-inline {width: auto; margin:0; padding: 0}\n",
              ".dl-inline>dt, .dl-inline>dd {float: none; width: auto; display: inline-block}\n",
              ".dl-inline>dt::after {content: \":\\0020\"; padding-right: .5ex}\n",
              ".dl-inline>dt:not(:first-of-type) {padding-left: .5ex}\n",
              "</style><dl class=dl-inline><dt>Sensitivity</dt><dd>0.734177215189873</dd><dt>Specificity</dt><dd>0.794326241134752</dd><dt>Pos Pred Value</dt><dd>0.666666666666667</dd><dt>Neg Pred Value</dt><dd>0.842105263157895</dd><dt>Precision</dt><dd>0.666666666666667</dd><dt>Recall</dt><dd>0.734177215189873</dd><dt>F1</dt><dd>0.698795180722892</dd><dt>Prevalence</dt><dd>0.359090909090909</dd><dt>Detection Rate</dt><dd>0.263636363636364</dd><dt>Detection Prevalence</dt><dd>0.395454545454545</dd><dt>Balanced Accuracy</dt><dd>0.764251728162313</dd></dl>\n"
            ],
            "text/markdown": "Sensitivity\n:   0.734177215189873Specificity\n:   0.794326241134752Pos Pred Value\n:   0.666666666666667Neg Pred Value\n:   0.842105263157895Precision\n:   0.666666666666667Recall\n:   0.734177215189873F1\n:   0.698795180722892Prevalence\n:   0.359090909090909Detection Rate\n:   0.263636363636364Detection Prevalence\n:   0.395454545454545Balanced Accuracy\n:   0.764251728162313\n\n",
            "text/latex": "\\begin{description*}\n\\item[Sensitivity] 0.734177215189873\n\\item[Specificity] 0.794326241134752\n\\item[Pos Pred Value] 0.666666666666667\n\\item[Neg Pred Value] 0.842105263157895\n\\item[Precision] 0.666666666666667\n\\item[Recall] 0.734177215189873\n\\item[F1] 0.698795180722892\n\\item[Prevalence] 0.359090909090909\n\\item[Detection Rate] 0.263636363636364\n\\item[Detection Prevalence] 0.395454545454545\n\\item[Balanced Accuracy] 0.764251728162313\n\\end{description*}\n",
            "text/plain": [
              "         Sensitivity          Specificity       Pos Pred Value \n",
              "           0.7341772            0.7943262            0.6666667 \n",
              "      Neg Pred Value            Precision               Recall \n",
              "           0.8421053            0.6666667            0.7341772 \n",
              "                  F1           Prevalence       Detection Rate \n",
              "           0.6987952            0.3590909            0.2636364 \n",
              "Detection Prevalence    Balanced Accuracy \n",
              "           0.3954545            0.7642517 "
            ]
          },
          "metadata": {}
        }
      ]
    },
    {
      "cell_type": "code",
      "execution_count": null,
      "metadata": {
        "colab": {
          "base_uri": "https://localhost:8080/",
          "height": 454
        },
        "outputId": "91196442-fae7-4a5b-8a80-47934c55caa0",
        "id": "3qSYbCzFDkp_"
      },
      "outputs": [
        {
          "output_type": "display_data",
          "data": {
            "text/html": [
              "0.764251728162313"
            ],
            "text/markdown": "0.764251728162313",
            "text/latex": "0.764251728162313",
            "text/plain": [
              "[1] 0.7642517"
            ]
          },
          "metadata": {}
        },
        {
          "output_type": "display_data",
          "data": {
            "text/plain": [
              "plot without title"
            ],
            "image/png": "[encoded data removed]"
          },
          "metadata": {
            "image/png": {
              "width": 420,
              "height": 420
            }
          }
        }
      ],
      "source": [
        "# CURVA ROC y AUC.  K = 14\n",
        "\n",
        "#crear objeto de predicciones\n",
        "pr<-prediction(pronknn,cereal.test$desayunoAvena)\n",
        "#creacion del objeto de la curva\n",
        "curvaROC<-performance(pr,measure=\"tpr\",x.measure=\"fpr\")\n",
        "#grafico de la curva\n",
        "plot(curvaROC)\n",
        "\n",
        "#calcular el AUC\n",
        "auc<-performance(pr,measure = \"auc\")\n",
        "auc <- auc@y.values[[1]]\n",
        "#ver el AUC\n",
        "auc"
      ]
    },
    {
      "cell_type": "markdown",
      "source": [
        "#K=30\n"
      ],
      "metadata": {
        "id": "QgY5OiNsFcZ4"
      }
    },
    {
      "cell_type": "code",
      "execution_count": null,
      "metadata": {
        "id": "fDOQzm07D_Zv"
      },
      "outputs": [],
      "source": [
        "# MODELO CON K = 30\n",
        "set.seed(1)\n",
        "test_pred = knn3(desayunoAvena~., data=cereal.train1, k = 30)"
      ]
    },
    {
      "cell_type": "code",
      "execution_count": null,
      "metadata": {
        "colab": {
          "base_uri": "https://localhost:8080/",
          "height": 177
        },
        "outputId": "d57d2762-c470-4b4a-80bc-933ce8059076",
        "id": "yY4akvBeD_Zw"
      },
      "outputs": [
        {
          "output_type": "display_data",
          "data": {
            "text/plain": [
              "          Reference\n",
              "Prediction   0   1\n",
              "         0 373 124\n",
              "         1  56 107"
            ]
          },
          "metadata": {}
        },
        {
          "output_type": "display_data",
          "data": {
            "text/html": [
              "<style>\n",
              ".dl-inline {width: auto; margin:0; padding: 0}\n",
              ".dl-inline>dt, .dl-inline>dd {float: none; width: auto; display: inline-block}\n",
              ".dl-inline>dt::after {content: \":\\0020\"; padding-right: .5ex}\n",
              ".dl-inline>dt:not(:first-of-type) {padding-left: .5ex}\n",
              "</style><dl class=dl-inline><dt>Accuracy</dt><dd>0.727272727272727</dd><dt>Kappa</dt><dd>0.356913183279743</dd><dt>AccuracyLower</dt><dd>0.691571194121929</dd><dt>AccuracyUpper</dt><dd>0.76092720822954</dd><dt>AccuracyNull</dt><dd>0.65</dd><dt>AccuracyPValue</dt><dd>1.34116144853866e-05</dd><dt>McnemarPValue</dt><dd>5.91765969302076e-07</dd></dl>\n"
            ],
            "text/markdown": "Accuracy\n:   0.727272727272727Kappa\n:   0.356913183279743AccuracyLower\n:   0.691571194121929AccuracyUpper\n:   0.76092720822954AccuracyNull\n:   0.65AccuracyPValue\n:   1.34116144853866e-05McnemarPValue\n:   5.91765969302076e-07\n\n",
            "text/latex": "\\begin{description*}\n\\item[Accuracy] 0.727272727272727\n\\item[Kappa] 0.356913183279743\n\\item[AccuracyLower] 0.691571194121929\n\\item[AccuracyUpper] 0.76092720822954\n\\item[AccuracyNull] 0.65\n\\item[AccuracyPValue] 1.34116144853866e-05\n\\item[McnemarPValue] 5.91765969302076e-07\n\\end{description*}\n",
            "text/plain": [
              "      Accuracy          Kappa  AccuracyLower  AccuracyUpper   AccuracyNull \n",
              "  7.272727e-01   3.569132e-01   6.915712e-01   7.609272e-01   6.500000e-01 \n",
              "AccuracyPValue  McnemarPValue \n",
              "  1.341161e-05   5.917660e-07 "
            ]
          },
          "metadata": {}
        },
        {
          "output_type": "display_data",
          "data": {
            "text/html": [
              "<style>\n",
              ".dl-inline {width: auto; margin:0; padding: 0}\n",
              ".dl-inline>dt, .dl-inline>dd {float: none; width: auto; display: inline-block}\n",
              ".dl-inline>dt::after {content: \":\\0020\"; padding-right: .5ex}\n",
              ".dl-inline>dt:not(:first-of-type) {padding-left: .5ex}\n",
              "</style><dl class=dl-inline><dt>Sensitivity</dt><dd>0.463203463203463</dd><dt>Specificity</dt><dd>0.869463869463869</dd><dt>Pos Pred Value</dt><dd>0.656441717791411</dd><dt>Neg Pred Value</dt><dd>0.750503018108652</dd><dt>Precision</dt><dd>0.656441717791411</dd><dt>Recall</dt><dd>0.463203463203463</dd><dt>F1</dt><dd>0.543147208121827</dd><dt>Prevalence</dt><dd>0.35</dd><dt>Detection Rate</dt><dd>0.162121212121212</dd><dt>Detection Prevalence</dt><dd>0.246969696969697</dd><dt>Balanced Accuracy</dt><dd>0.666333666333666</dd></dl>\n"
            ],
            "text/markdown": "Sensitivity\n:   0.463203463203463Specificity\n:   0.869463869463869Pos Pred Value\n:   0.656441717791411Neg Pred Value\n:   0.750503018108652Precision\n:   0.656441717791411Recall\n:   0.463203463203463F1\n:   0.543147208121827Prevalence\n:   0.35Detection Rate\n:   0.162121212121212Detection Prevalence\n:   0.246969696969697Balanced Accuracy\n:   0.666333666333666\n\n",
            "text/latex": "\\begin{description*}\n\\item[Sensitivity] 0.463203463203463\n\\item[Specificity] 0.869463869463869\n\\item[Pos Pred Value] 0.656441717791411\n\\item[Neg Pred Value] 0.750503018108652\n\\item[Precision] 0.656441717791411\n\\item[Recall] 0.463203463203463\n\\item[F1] 0.543147208121827\n\\item[Prevalence] 0.35\n\\item[Detection Rate] 0.162121212121212\n\\item[Detection Prevalence] 0.246969696969697\n\\item[Balanced Accuracy] 0.666333666333666\n\\end{description*}\n",
            "text/plain": [
              "         Sensitivity          Specificity       Pos Pred Value \n",
              "           0.4632035            0.8694639            0.6564417 \n",
              "      Neg Pred Value            Precision               Recall \n",
              "           0.7505030            0.6564417            0.4632035 \n",
              "                  F1           Prevalence       Detection Rate \n",
              "           0.5431472            0.3500000            0.1621212 \n",
              "Detection Prevalence    Balanced Accuracy \n",
              "           0.2469697            0.6663337 "
            ]
          },
          "metadata": {}
        }
      ],
      "source": [
        "# Desempeño en entrenamiento.  K = 30\n",
        "predmod <- predict(test_pred, cereal.train1, type = \"prob\")\n",
        "pronknn<-ifelse(predmod[,2] > 0.5 ,1, 0)\n",
        "confknn<-confusionMatrix(as.factor(pronknn),\n",
        "                          cereal.train1$desayunoAvena, positive = \"1\")\n",
        "confknn$table\n",
        "confknn$overall\n",
        "confknn$byClass"
      ]
    },
    {
      "cell_type": "code",
      "source": [
        "# Desempeño en prueba.  K = 30\n",
        "predmod <- predict(test_pred, cereal.test1, type = \"prob\")\n",
        "pronknn<-ifelse(predmod[,2] > 0.5 ,1, 0)\n",
        "confknn<-confusionMatrix(as.factor(pronknn),\n",
        "                          cereal.test1$desayunoAvena, positive = \"1\")\n",
        "confknn$table\n",
        "confknn$overall\n",
        "confknn$byClass"
      ],
      "metadata": {
        "colab": {
          "base_uri": "https://localhost:8080/",
          "height": 177
        },
        "outputId": "b88fc3f9-ae85-4839-b6b5-f3ec9d5c2dc9",
        "id": "Zy43uBP4D_Zw"
      },
      "execution_count": null,
      "outputs": [
        {
          "output_type": "display_data",
          "data": {
            "text/plain": [
              "          Reference\n",
              "Prediction   0   1\n",
              "         0 122  30\n",
              "         1  19  49"
            ]
          },
          "metadata": {}
        },
        {
          "output_type": "display_data",
          "data": {
            "text/html": [
              "<style>\n",
              ".dl-inline {width: auto; margin:0; padding: 0}\n",
              ".dl-inline>dt, .dl-inline>dd {float: none; width: auto; display: inline-block}\n",
              ".dl-inline>dt::after {content: \":\\0020\"; padding-right: .5ex}\n",
              ".dl-inline>dt:not(:first-of-type) {padding-left: .5ex}\n",
              "</style><dl class=dl-inline><dt>Accuracy</dt><dd>0.777272727272727</dd><dt>Kappa</dt><dd>0.500833487682904</dd><dt>AccuracyLower</dt><dd>0.716461890429191</dd><dt>AccuracyUpper</dt><dd>0.83044888727073</dd><dt>AccuracyNull</dt><dd>0.640909090909091</dd><dt>AccuracyPValue</dt><dd>8.8238000950202e-06</dd><dt>McnemarPValue</dt><dd>0.15312745101967</dd></dl>\n"
            ],
            "text/markdown": "Accuracy\n:   0.777272727272727Kappa\n:   0.500833487682904AccuracyLower\n:   0.716461890429191AccuracyUpper\n:   0.83044888727073AccuracyNull\n:   0.640909090909091AccuracyPValue\n:   8.8238000950202e-06McnemarPValue\n:   0.15312745101967\n\n",
            "text/latex": "\\begin{description*}\n\\item[Accuracy] 0.777272727272727\n\\item[Kappa] 0.500833487682904\n\\item[AccuracyLower] 0.716461890429191\n\\item[AccuracyUpper] 0.83044888727073\n\\item[AccuracyNull] 0.640909090909091\n\\item[AccuracyPValue] 8.8238000950202e-06\n\\item[McnemarPValue] 0.15312745101967\n\\end{description*}\n",
            "text/plain": [
              "      Accuracy          Kappa  AccuracyLower  AccuracyUpper   AccuracyNull \n",
              "  0.7772727273   0.5008334877   0.7164618904   0.8304488873   0.6409090909 \n",
              "AccuracyPValue  McnemarPValue \n",
              "  0.0000088238   0.1531274510 "
            ]
          },
          "metadata": {}
        },
        {
          "output_type": "display_data",
          "data": {
            "text/html": [
              "<style>\n",
              ".dl-inline {width: auto; margin:0; padding: 0}\n",
              ".dl-inline>dt, .dl-inline>dd {float: none; width: auto; display: inline-block}\n",
              ".dl-inline>dt::after {content: \":\\0020\"; padding-right: .5ex}\n",
              ".dl-inline>dt:not(:first-of-type) {padding-left: .5ex}\n",
              "</style><dl class=dl-inline><dt>Sensitivity</dt><dd>0.620253164556962</dd><dt>Specificity</dt><dd>0.865248226950355</dd><dt>Pos Pred Value</dt><dd>0.720588235294118</dd><dt>Neg Pred Value</dt><dd>0.802631578947368</dd><dt>Precision</dt><dd>0.720588235294118</dd><dt>Recall</dt><dd>0.620253164556962</dd><dt>F1</dt><dd>0.666666666666667</dd><dt>Prevalence</dt><dd>0.359090909090909</dd><dt>Detection Rate</dt><dd>0.222727272727273</dd><dt>Detection Prevalence</dt><dd>0.309090909090909</dd><dt>Balanced Accuracy</dt><dd>0.742750695753658</dd></dl>\n"
            ],
            "text/markdown": "Sensitivity\n:   0.620253164556962Specificity\n:   0.865248226950355Pos Pred Value\n:   0.720588235294118Neg Pred Value\n:   0.802631578947368Precision\n:   0.720588235294118Recall\n:   0.620253164556962F1\n:   0.666666666666667Prevalence\n:   0.359090909090909Detection Rate\n:   0.222727272727273Detection Prevalence\n:   0.309090909090909Balanced Accuracy\n:   0.742750695753658\n\n",
            "text/latex": "\\begin{description*}\n\\item[Sensitivity] 0.620253164556962\n\\item[Specificity] 0.865248226950355\n\\item[Pos Pred Value] 0.720588235294118\n\\item[Neg Pred Value] 0.802631578947368\n\\item[Precision] 0.720588235294118\n\\item[Recall] 0.620253164556962\n\\item[F1] 0.666666666666667\n\\item[Prevalence] 0.359090909090909\n\\item[Detection Rate] 0.222727272727273\n\\item[Detection Prevalence] 0.309090909090909\n\\item[Balanced Accuracy] 0.742750695753658\n\\end{description*}\n",
            "text/plain": [
              "         Sensitivity          Specificity       Pos Pred Value \n",
              "           0.6202532            0.8652482            0.7205882 \n",
              "      Neg Pred Value            Precision               Recall \n",
              "           0.8026316            0.7205882            0.6202532 \n",
              "                  F1           Prevalence       Detection Rate \n",
              "           0.6666667            0.3590909            0.2227273 \n",
              "Detection Prevalence    Balanced Accuracy \n",
              "           0.3090909            0.7427507 "
            ]
          },
          "metadata": {}
        }
      ]
    },
    {
      "cell_type": "code",
      "execution_count": null,
      "metadata": {
        "colab": {
          "base_uri": "https://localhost:8080/",
          "height": 454
        },
        "outputId": "c9bea800-0c3a-400c-fa24-a9e4fc807e2f",
        "id": "L2VMEr9vD_Zx"
      },
      "outputs": [
        {
          "output_type": "display_data",
          "data": {
            "text/html": [
              "0.742750695753658"
            ],
            "text/markdown": "0.742750695753658",
            "text/latex": "0.742750695753658",
            "text/plain": [
              "[1] 0.7427507"
            ]
          },
          "metadata": {}
        },
        {
          "output_type": "display_data",
          "data": {
            "text/plain": [
              "plot without title"
            ],
            "image/png": "[encoded data removed]"
          },
          "metadata": {
            "image/png": {
              "width": 420,
              "height": 420
            }
          }
        }
      ],
      "source": [
        "# CURVA ROC y AUC.  K = 30\n",
        "\n",
        "#crear objeto de predicciones\n",
        "pr<-prediction(pronknn,cereal.test$desayunoAvena)\n",
        "#creacion del objeto de la curva\n",
        "curvaROC<-performance(pr,measure=\"tpr\",x.measure=\"fpr\")\n",
        "#grafico de la curva\n",
        "plot(curvaROC)\n",
        "\n",
        "#calcular el AUC\n",
        "auc<-performance(pr,measure = \"auc\")\n",
        "auc <- auc@y.values[[1]]\n",
        "#ver el AUC\n",
        "auc"
      ]
    },
    {
      "cell_type": "markdown",
      "source": [
        "#CONCLUSIONES\n",
        "\n",
        "![image.png](data:image/png;base64,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)"
      ],
      "metadata": {
        "id": "c0DJ9MMqFk9_"
      }
    },
    {
      "cell_type": "markdown",
      "source": [
        "* Se hace validación cruzada con 10 pliegues para determinar, por medio de la métrica 'Accuracy', el k más óptimo, dando como mejor resultado k=14. Sin embargo, por el principio de parcimonia, nosotros identificamos k=5 como el de mejor 'Accuracy'. Por otro lado, se hace validación cruzada de 5 pliegues para analizar la métrica 'AUC', dando como mejor número de vecinos k=30."
      ],
      "metadata": {
        "id": "s8JIMMyT7vfx"
      }
    },
    {
      "cell_type": "markdown",
      "source": [
        "* **Mejor Valor de K**: Según las métricas de los 3 modelos entrenados, K = 5 parece ser la mejor opción. Proporciona un equilibrio adecuado entre la precisión y la capacidad de discriminación (AUC) tanto en el conjunto de entrenamiento como en el de prueba."
      ],
      "metadata": {
        "id": "3D4wVKtwHIsU"
      }
    },
    {
      "cell_type": "markdown",
      "source": [
        "* Se entrenó y sintonizó un modelo de Machine Learning llamado 'KNN', el cual es un modelo sencillo que solo tiene un hiperparámetro (k: el número de vecinos). Para ello, utilizamos validación cruzada y comparación de las métricas 'Accuracy' y 'AUC' con el fin de entrenar el mejor modelo posible. Este modelo base nos servirá para tener un nivel de referencia con el que comparar otros modelos de Machine Learning que son más 'poderosos'."
      ],
      "metadata": {
        "id": "hY2Sv8FpPFrt"
      }
    },
    {
      "cell_type": "markdown",
      "source": [
        "                                                                  FIN"
      ],
      "metadata": {
        "id": "lxMT0EbXP4u2"
      }
    }
  ],
  "metadata": {
    "colab": {
      "gpuType": "T4",
      "provenance": []
    },
    "kernelspec": {
      "display_name": "R",
      "name": "ir"
    },
    "language_info": {
      "name": "R"
    }
  },
  "nbformat": 4,
  "nbformat_minor": 0
}