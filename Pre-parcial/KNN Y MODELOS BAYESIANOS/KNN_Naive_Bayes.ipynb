{
  "nbformat": 4,
  "nbformat_minor": 0,
  "metadata": {
    "colab": {
      "provenance": []
    },
    "kernelspec": {
      "name": "ir",
      "display_name": "R"
    },
    "language_info": {
      "name": "R"
    }
  },
  "cells": [
    {
      "cell_type": "markdown",
      "source": [
        "# **Dos modelos básicos de clasificación: KNN y Bayes ingenuo**"
      ],
      "metadata": {
        "id": "lJ22k9bRALyt"
      }
    },
    {
      "cell_type": "markdown",
      "source": [
        "El objetivo de este libro de notas es presentar las técnicas de K vecinos más cercanos y Naive Bayes como alternativas al problema de clasificación."
      ],
      "metadata": {
        "id": "87wIS6P-AZ5G"
      }
    },
    {
      "cell_type": "code",
      "source": [
        "if (!require('readxl')) install.packages('readxl')\n",
        "if (!require('caret')) install.packages('caret')\n",
        "if (!require('MLmetrics')) install.packages('MLmetrics')\n",
        "if (!require('e1071')) install.packages('e1071')"
      ],
      "metadata": {
        "colab": {
          "base_uri": "https://localhost:8080/"
        },
        "id": "HqVX28ASaoDa",
        "outputId": "3abdecb1-7f8f-414f-856d-bfc8c7502c02"
      },
      "execution_count": null,
      "outputs": [
        {
          "output_type": "stream",
          "name": "stderr",
          "text": [
            "Loading required package: readxl\n",
            "\n",
            "Loading required package: caret\n",
            "\n",
            "Warning message in library(package, lib.loc = lib.loc, character.only = TRUE, logical.return = TRUE, :\n",
            "“there is no package called ‘caret’”\n",
            "Installing package into ‘/usr/local/lib/R/site-library’\n",
            "(as ‘lib’ is unspecified)\n",
            "\n",
            "also installing the dependencies ‘listenv’, ‘parallelly’, ‘future’, ‘globals’, ‘shape’, ‘future.apply’, ‘numDeriv’, ‘progressr’, ‘SQUAREM’, ‘diagram’, ‘lava’, ‘prodlim’, ‘proxy’, ‘iterators’, ‘clock’, ‘gower’, ‘hardhat’, ‘ipred’, ‘timeDate’, ‘e1071’, ‘foreach’, ‘ModelMetrics’, ‘plyr’, ‘pROC’, ‘recipes’, ‘reshape2’\n",
            "\n",
            "\n",
            "Loading required package: MLmetrics\n",
            "\n",
            "Warning message in library(package, lib.loc = lib.loc, character.only = TRUE, logical.return = TRUE, :\n",
            "“there is no package called ‘MLmetrics’”\n",
            "Installing package into ‘/usr/local/lib/R/site-library’\n",
            "(as ‘lib’ is unspecified)\n",
            "\n",
            "also installing the dependencies ‘bitops’, ‘gtools’, ‘caTools’, ‘gplots’, ‘ROCR’\n",
            "\n",
            "\n",
            "Loading required package: e1071\n",
            "\n"
          ]
        }
      ]
    },
    {
      "cell_type": "markdown",
      "source": [
        "## **KNN**"
      ],
      "metadata": {
        "id": "HIBSJBbpAjnf"
      }
    },
    {
      "cell_type": "markdown",
      "source": [
        "#Data and business understanding"
      ],
      "metadata": {
        "id": "LeR1pGrfAlcW"
      }
    },
    {
      "cell_type": "code",
      "execution_count": null,
      "metadata": {
        "id": "8pJ_LP61aai0",
        "colab": {
          "base_uri": "https://localhost:8080/"
        },
        "outputId": "47bc57a7-265d-40ca-d017-5d547c0dc311"
      },
      "outputs": [
        {
          "output_type": "stream",
          "name": "stderr",
          "text": [
            "Loading required package: ggplot2\n",
            "\n",
            "Loading required package: lattice\n",
            "\n",
            "\n",
            "Attaching package: ‘MLmetrics’\n",
            "\n",
            "\n",
            "The following objects are masked from ‘package:caret’:\n",
            "\n",
            "    MAE, RMSE\n",
            "\n",
            "\n",
            "The following object is masked from ‘package:base’:\n",
            "\n",
            "    Recall\n",
            "\n",
            "\n"
          ]
        }
      ],
      "source": [
        "library(readxl)\n",
        "library(caret)\n",
        "library(MLmetrics)\n",
        "library(ROCR)\n",
        "library(e1071)"
      ]
    },
    {
      "cell_type": "markdown",
      "source": [
        "Trabajaremos con el contexto del archivo de cartera de empresas. Para mantener los libros de nota modulares, repetiré aquí el contexto:"
      ],
      "metadata": {
        "id": "MYWBGlMxA5u2"
      }
    },
    {
      "cell_type": "code",
      "source": [
        "cartera<-read_excel(\"carteraguia2017.xlsx\")"
      ],
      "metadata": {
        "id": "CrmPvtsWaho-"
      },
      "execution_count": null,
      "outputs": []
    },
    {
      "cell_type": "code",
      "source": [
        "str(cartera)"
      ],
      "metadata": {
        "id": "qU3MWYapeB3v",
        "colab": {
          "base_uri": "https://localhost:8080/"
        },
        "outputId": "301a5f67-c9a8-41db-9bc1-3be2dbd3c7c1"
      },
      "execution_count": null,
      "outputs": [
        {
          "output_type": "stream",
          "name": "stdout",
          "text": [
            "tibble [852 × 9] (S3: tbl_df/tbl/data.frame)\n",
            " $ MESES                   : num [1:852] 41 27 40 41 24 41 39 43 24 36 ...\n",
            " $ TIPO_ips                : num [1:852] 3 1 1 1 2 2 1 1 1 1 ...\n",
            " $ IGUAL_DUENO             : num [1:852] 17 10 15 15 2 5 20 12 3 0 ...\n",
            " $ AGNOS_DIRECCION_ACTUAL  : num [1:852] 12 6 14 14 0 5 9 11 4 13 ...\n",
            " $ VENTAS_MENS_PROMEDIO    : num [1:852] 176 31 55 120 28 25 67 38 19 25 ...\n",
            " $ PORC_PASIVOS_VENTA_ANUAL: num [1:852] 9.3 17.3 5.5 2.9 17.3 10.2 30.6 3.6 24.4 19.7 ...\n",
            " $ cartera_actual_insumos_A: num [1:852] 11.359 1.362 0.856 2.659 1.787 ...\n",
            " $ cartera_actual_insumos_B: num [1:852] 5.009 4.001 2.169 0.821 3.057 ...\n",
            " $ retrasos                : num [1:852] 1 0 0 0 1 0 0 0 1 0 ...\n"
          ]
        }
      ]
    },
    {
      "cell_type": "markdown",
      "source": [
        "El archivo contiene datos de clientes de un proveedor de instituciones de salud (IPS), la cartera que presentan y si se han retrasado o no. Se trata entonces de un negocio B2B en el sector de la salud que desea predecir o averiguar indicadores de posibles aumentos y retrasos en su cartera\n",
        "\n",
        "Entre las variables predictoras se incluyen:\n",
        "\n",
        "MESES: Los meses que la empresa lleva siendo clientes del proveedor.\n",
        "\n",
        "Tipo_IPS: De 1 a5, el nivel de complejidad de la institución de salud cliente (1=bajo, 5=alto)\n",
        "\n",
        "IGUAL_DUEÑO: Número de años en que la IPS ha tenido el mismo dueño.\n",
        "\n",
        "AGNOS_DIRECCION_ACTUAL: Número de años en que la IPS ha estado en la misma dirección.\n",
        "\n",
        "VENTAS_MENS_PROMEDIO: Valor de ventas mensuales promedio de la IPS en millones de pesos.\n",
        "\n",
        "PORC_PASIVOS_VENTA_ANUAL: Porcentaje de pasivos/ venta anual del último balance disponible.\n",
        "\n",
        "CARTERA_ACTUAL_INSUMOS_A: Valor de la deuda con el proveedor en insumos de alta rotación (gasa, jeringas, por ejemplo) en millones de pesos.\n",
        "\n",
        "CARTERA_ACTUAL_INSUMOS_B: Valor de la deuda con el proveedor en insumos de baja rotación (equipos, instrumentos, por ejemplo) en millones de pesos.\n",
        "\n",
        "La variable a predecir son los RETRASOS, que indican sí el cliente se ha retrasado o no, siendo 1=sí y 0=No."
      ],
      "metadata": {
        "id": "8wfBWN2oA9oG"
      }
    },
    {
      "cell_type": "markdown",
      "source": [
        "# Data preparation"
      ],
      "metadata": {
        "id": "LpK2hTtRA_pH"
      }
    },
    {
      "cell_type": "markdown",
      "source": [
        "Primero vamos a convertir a factores las dos variables que lo requieren: Tipo IPS y Retrasos. También vamos a crear variables binarias para los tipos de IPS y luego retirar la variable TIPO IPS."
      ],
      "metadata": {
        "id": "ZSwpnMobBH62"
      }
    },
    {
      "cell_type": "code",
      "source": [
        "cartera$TIPOips<-as.factor(cartera$TIPO_ips)"
      ],
      "metadata": {
        "id": "BRgd_ofocvkI"
      },
      "execution_count": null,
      "outputs": []
    },
    {
      "cell_type": "code",
      "source": [
        "##Crea un set completo de variables dummy\n",
        "carterawin<-dummyVars(\"~.\",data=cartera)\n",
        "carterafin<-as.data.frame(predict(carterawin,newdata=cartera))\n",
        "carterafin2<-within(carterafin,rm(TIPOips.5,TIPO_ips))\n",
        "carterafin2$retrasos<-as.factor(carterafin2$retrasos)\n",
        "carterafin2$retrasos<-factor(carterafin2$retrasos,ordered=TRUE, levels=c(\"0\",\"1\"))"
      ],
      "metadata": {
        "id": "8Ix3M13t9tWW"
      },
      "execution_count": null,
      "outputs": []
    },
    {
      "cell_type": "markdown",
      "source": [
        "Dado que la técnica de k vecinos más cercanos se basa en la idea de encontrar los k vecinos más cercanos de un caso a clasificar, es necesario definir una métrica de distancia entre casos, y calcular dicha distancia, por lo que aplican todas las recomendaciones trabajadas en clustering. En particular, en este caso, vamos a estandarizar la base de datos para evitar los efectos debido a la diversidad de unidades."
      ],
      "metadata": {
        "id": "BcXYTFUxBJPH"
      }
    },
    {
      "cell_type": "code",
      "source": [
        "# estandarización de las variables escalares\n",
        "carterafin2[1:7]<-scale(carterafin2[1:7])"
      ],
      "metadata": {
        "id": "Quf5A2xQc2h4"
      },
      "execution_count": null,
      "outputs": []
    },
    {
      "cell_type": "code",
      "source": [
        "head(carterafin2)"
      ],
      "metadata": {
        "colab": {
          "base_uri": "https://localhost:8080/",
          "height": 306
        },
        "id": "kVS6i4PMFLLa",
        "outputId": "485bf1cb-1cb2-4b41-8a17-ac9a8676ca98"
      },
      "execution_count": null,
      "outputs": [
        {
          "output_type": "display_data",
          "data": {
            "text/html": [
              "<table class=\"dataframe\">\n",
              "<caption>A data.frame: 6 × 12</caption>\n",
              "<thead>\n",
              "\t<tr><th></th><th scope=col>MESES</th><th scope=col>IGUAL_DUENO</th><th scope=col>AGNOS_DIRECCION_ACTUAL</th><th scope=col>VENTAS_MENS_PROMEDIO</th><th scope=col>PORC_PASIVOS_VENTA_ANUAL</th><th scope=col>cartera_actual_insumos_A</th><th scope=col>cartera_actual_insumos_B</th><th scope=col>retrasos</th><th scope=col>TIPOips.1</th><th scope=col>TIPOips.2</th><th scope=col>TIPOips.3</th><th scope=col>TIPOips.4</th></tr>\n",
              "\t<tr><th></th><th scope=col>&lt;dbl&gt;</th><th scope=col>&lt;dbl&gt;</th><th scope=col>&lt;dbl&gt;</th><th scope=col>&lt;dbl&gt;</th><th scope=col>&lt;dbl&gt;</th><th scope=col>&lt;dbl&gt;</th><th scope=col>&lt;dbl&gt;</th><th scope=col>&lt;ord&gt;</th><th scope=col>&lt;dbl&gt;</th><th scope=col>&lt;dbl&gt;</th><th scope=col>&lt;dbl&gt;</th><th scope=col>&lt;dbl&gt;</th></tr>\n",
              "</thead>\n",
              "<tbody>\n",
              "\t<tr><th scope=row>1</th><td> 0.7394154</td><td> 1.2444470</td><td> 0.5257279</td><td> 3.3448611</td><td>-0.128719795</td><td> 4.60683218</td><td> 0.568997105</td><td>1</td><td>0</td><td>0</td><td>1</td><td>0</td></tr>\n",
              "\t<tr><th scope=row>2</th><td>-0.9825188</td><td> 0.2117655</td><td>-0.3451474</td><td>-0.4092648</td><td> 1.062851741</td><td>-0.09985187</td><td> 0.272150085</td><td>0</td><td>1</td><td>0</td><td>0</td><td>0</td></tr>\n",
              "\t<tr><th scope=row>3</th><td> 0.6164201</td><td> 0.9493951</td><td> 0.8160197</td><td> 0.2121078</td><td>-0.694716274</td><td>-0.33813682</td><td>-0.267421897</td><td>0</td><td>1</td><td>0</td><td>0</td><td>0</td></tr>\n",
              "\t<tr><th scope=row>4</th><td> 0.7394154</td><td> 0.9493951</td><td> 0.8160197</td><td> 1.8949918</td><td>-1.081977023</td><td> 0.51054971</td><td>-0.664366164</td><td>0</td><td>1</td><td>0</td><td>0</td><td>0</td></tr>\n",
              "\t<tr><th scope=row>5</th><td>-1.3515047</td><td>-0.9684419</td><td>-1.2160226</td><td>-0.4869363</td><td> 1.062851741</td><td> 0.10034859</td><td>-0.005970839</td><td>1</td><td>0</td><td>1</td><td>0</td><td>0</td></tr>\n",
              "\t<tr><th scope=row>6</th><td> 0.7394154</td><td>-0.5258641</td><td>-0.4902932</td><td>-0.5646079</td><td> 0.005332003</td><td>-0.55629409</td><td>-0.270846002</td><td>0</td><td>0</td><td>1</td><td>0</td><td>0</td></tr>\n",
              "</tbody>\n",
              "</table>\n"
            ],
            "text/markdown": "\nA data.frame: 6 × 12\n\n| <!--/--> | MESES &lt;dbl&gt; | IGUAL_DUENO &lt;dbl&gt; | AGNOS_DIRECCION_ACTUAL &lt;dbl&gt; | VENTAS_MENS_PROMEDIO &lt;dbl&gt; | PORC_PASIVOS_VENTA_ANUAL &lt;dbl&gt; | cartera_actual_insumos_A &lt;dbl&gt; | cartera_actual_insumos_B &lt;dbl&gt; | retrasos &lt;ord&gt; | TIPOips.1 &lt;dbl&gt; | TIPOips.2 &lt;dbl&gt; | TIPOips.3 &lt;dbl&gt; | TIPOips.4 &lt;dbl&gt; |\n|---|---|---|---|---|---|---|---|---|---|---|---|---|\n| 1 |  0.7394154 |  1.2444470 |  0.5257279 |  3.3448611 | -0.128719795 |  4.60683218 |  0.568997105 | 1 | 0 | 0 | 1 | 0 |\n| 2 | -0.9825188 |  0.2117655 | -0.3451474 | -0.4092648 |  1.062851741 | -0.09985187 |  0.272150085 | 0 | 1 | 0 | 0 | 0 |\n| 3 |  0.6164201 |  0.9493951 |  0.8160197 |  0.2121078 | -0.694716274 | -0.33813682 | -0.267421897 | 0 | 1 | 0 | 0 | 0 |\n| 4 |  0.7394154 |  0.9493951 |  0.8160197 |  1.8949918 | -1.081977023 |  0.51054971 | -0.664366164 | 0 | 1 | 0 | 0 | 0 |\n| 5 | -1.3515047 | -0.9684419 | -1.2160226 | -0.4869363 |  1.062851741 |  0.10034859 | -0.005970839 | 1 | 0 | 1 | 0 | 0 |\n| 6 |  0.7394154 | -0.5258641 | -0.4902932 | -0.5646079 |  0.005332003 | -0.55629409 | -0.270846002 | 0 | 0 | 1 | 0 | 0 |\n\n",
            "text/latex": "A data.frame: 6 × 12\n\\begin{tabular}{r|llllllllllll}\n  & MESES & IGUAL\\_DUENO & AGNOS\\_DIRECCION\\_ACTUAL & VENTAS\\_MENS\\_PROMEDIO & PORC\\_PASIVOS\\_VENTA\\_ANUAL & cartera\\_actual\\_insumos\\_A & cartera\\_actual\\_insumos\\_B & retrasos & TIPOips.1 & TIPOips.2 & TIPOips.3 & TIPOips.4\\\\\n  & <dbl> & <dbl> & <dbl> & <dbl> & <dbl> & <dbl> & <dbl> & <ord> & <dbl> & <dbl> & <dbl> & <dbl>\\\\\n\\hline\n\t1 &  0.7394154 &  1.2444470 &  0.5257279 &  3.3448611 & -0.128719795 &  4.60683218 &  0.568997105 & 1 & 0 & 0 & 1 & 0\\\\\n\t2 & -0.9825188 &  0.2117655 & -0.3451474 & -0.4092648 &  1.062851741 & -0.09985187 &  0.272150085 & 0 & 1 & 0 & 0 & 0\\\\\n\t3 &  0.6164201 &  0.9493951 &  0.8160197 &  0.2121078 & -0.694716274 & -0.33813682 & -0.267421897 & 0 & 1 & 0 & 0 & 0\\\\\n\t4 &  0.7394154 &  0.9493951 &  0.8160197 &  1.8949918 & -1.081977023 &  0.51054971 & -0.664366164 & 0 & 1 & 0 & 0 & 0\\\\\n\t5 & -1.3515047 & -0.9684419 & -1.2160226 & -0.4869363 &  1.062851741 &  0.10034859 & -0.005970839 & 1 & 0 & 1 & 0 & 0\\\\\n\t6 &  0.7394154 & -0.5258641 & -0.4902932 & -0.5646079 &  0.005332003 & -0.55629409 & -0.270846002 & 0 & 0 & 1 & 0 & 0\\\\\n\\end{tabular}\n",
            "text/plain": [
              "  MESES      IGUAL_DUENO AGNOS_DIRECCION_ACTUAL VENTAS_MENS_PROMEDIO\n",
              "1  0.7394154  1.2444470   0.5257279              3.3448611          \n",
              "2 -0.9825188  0.2117655  -0.3451474             -0.4092648          \n",
              "3  0.6164201  0.9493951   0.8160197              0.2121078          \n",
              "4  0.7394154  0.9493951   0.8160197              1.8949918          \n",
              "5 -1.3515047 -0.9684419  -1.2160226             -0.4869363          \n",
              "6  0.7394154 -0.5258641  -0.4902932             -0.5646079          \n",
              "  PORC_PASIVOS_VENTA_ANUAL cartera_actual_insumos_A cartera_actual_insumos_B\n",
              "1 -0.128719795              4.60683218               0.568997105            \n",
              "2  1.062851741             -0.09985187               0.272150085            \n",
              "3 -0.694716274             -0.33813682              -0.267421897            \n",
              "4 -1.081977023              0.51054971              -0.664366164            \n",
              "5  1.062851741              0.10034859              -0.005970839            \n",
              "6  0.005332003             -0.55629409              -0.270846002            \n",
              "  retrasos TIPOips.1 TIPOips.2 TIPOips.3 TIPOips.4\n",
              "1 1        0         0         1         0        \n",
              "2 0        1         0         0         0        \n",
              "3 0        1         0         0         0        \n",
              "4 0        1         0         0         0        \n",
              "5 1        0         1         0         0        \n",
              "6 0        0         1         0         0        "
            ]
          },
          "metadata": {}
        }
      ]
    },
    {
      "cell_type": "markdown",
      "source": [
        "Por último, creemos bases de entrenamiento y validación"
      ],
      "metadata": {
        "id": "0bspyki0BNsH"
      }
    },
    {
      "cell_type": "code",
      "source": [
        "set.seed(1)\n",
        "#aquí se define el tamaño de la muestra, en este caso entrenamiento tendrá el 75% de los casos\n",
        "sample <- sample.int(nrow(carterafin2), floor(.75*nrow(carterafin2)))\n",
        "cartera.train <- carterafin2[sample, ]\n",
        "cartera.test <- carterafin2[-sample, ]\n",
        "\n",
        "cartera.train1 <- cartera.train\n",
        "cartera.test1 <- cartera.test"
      ],
      "metadata": {
        "id": "MKDPZiXLhEB_"
      },
      "execution_count": null,
      "outputs": []
    },
    {
      "cell_type": "markdown",
      "source": [
        "# Modelling"
      ],
      "metadata": {
        "id": "F3ka24guBPjA"
      }
    },
    {
      "cell_type": "markdown",
      "source": [
        "Para crear el modelo de k vecinos más cercanos es necesario tomar un caso de la base de datos de prueba y calcular sus k vecinos más cercanos de la base de datos de entrenamiento. La categoría a la que pertenezcan la mayoría de estos k vecinos más cercanos en la base de entrenamiento será la categoría asignadad al caso en la base de datos de prueba.\n",
        "\n",
        "Para encontrar los k vecinos más cercanos más cercanos se usa una métrica de distancia, que por defecto es la distancia euclídea.\n",
        "\n",
        "La selección del valor de k es importante, puesto que a menor k, mayor posibilidad de ruido en la clasificación, pero a mayor k, más cercano el resultado a un modelo ingenuo (promedio).\n",
        "\n",
        "Por ello k se configura como un hiperaparámetro, que puede ser sintonizado con ayuda de la validación cruzada en la base de datos de entrenamiento, como se ve a continuación."
      ],
      "metadata": {
        "id": "ALANzjaGBQ2x"
      }
    },
    {
      "cell_type": "code",
      "source": [
        "# creo parámetros de validación cruzada\n",
        "set.seed(1)\n",
        "cross<-trainControl(method=\"cv\",number=10)\n",
        "modeloknn1<-train(retrasos~.,method=\"knn\",\n",
        "                  tuneGrid=expand.grid(k=1:30),\n",
        "                  trControl=cross,\n",
        "                  metric=\"Accuracy\",\n",
        "                  data=cartera.train)"
      ],
      "metadata": {
        "id": "TdFBJ3iBdGCt"
      },
      "execution_count": null,
      "outputs": []
    },
    {
      "cell_type": "code",
      "source": [
        "modeloknn1\n",
        "plot(modeloknn1)"
      ],
      "metadata": {
        "id": "rGCAA5c5dRbf",
        "colab": {
          "base_uri": "https://localhost:8080/",
          "height": 1000
        },
        "outputId": "ea272ef8-b8c0-45e3-83a9-3fba3df130ad"
      },
      "execution_count": null,
      "outputs": [
        {
          "output_type": "display_data",
          "data": {
            "text/plain": [
              "k-Nearest Neighbors \n",
              "\n",
              "639 samples\n",
              " 11 predictor\n",
              "  2 classes: '0', '1' \n",
              "\n",
              "No pre-processing\n",
              "Resampling: Cross-Validated (10 fold) \n",
              "Summary of sample sizes: 576, 575, 575, 575, 575, 576, ... \n",
              "Resampling results across tuning parameters:\n",
              "\n",
              "  k   Accuracy   Kappa    \n",
              "   1  0.7183627  0.1928715\n",
              "   2  0.7277640  0.2126348\n",
              "   3  0.7701755  0.3152114\n",
              "   4  0.7544521  0.2710927\n",
              "   5  0.7858013  0.3436148\n",
              "   6  0.7826763  0.3283135\n",
              "   7  0.7746909  0.3002801\n",
              "   8  0.7794040  0.2958575\n",
              "   9  0.7904392  0.3364024\n",
              "  10  0.7826507  0.3134708\n",
              "  11  0.7951019  0.3374670\n",
              "  12  0.7856780  0.3071638\n",
              "  13  0.7951011  0.3203352\n",
              "  14  0.7920009  0.3107366\n",
              "  15  0.7919754  0.3020434\n",
              "  16  0.7888271  0.2834564\n",
              "  17  0.7951748  0.3139330\n",
              "  18  0.7763992  0.2377469\n",
              "  19  0.7904384  0.2914500\n",
              "  20  0.7936363  0.2999731\n",
              "  21  0.7904640  0.2911545\n",
              "  22  0.7890240  0.2908548\n",
              "  23  0.7826996  0.2560217\n",
              "  24  0.7795002  0.2400690\n",
              "  25  0.7842613  0.2562885\n",
              "  26  0.7889000  0.2759173\n",
              "  27  0.7873863  0.2578551\n",
              "  28  0.7904873  0.2604728\n",
              "  29  0.7889248  0.2609797\n",
              "  30  0.7842373  0.2546492\n",
              "\n",
              "Accuracy was used to select the optimal model using the largest value.\n",
              "The final value used for the model was k = 17."
            ]
          },
          "metadata": {}
        },
        {
          "output_type": "display_data",
          "data": {
            "text/plain": [
              "plot without title"
            ],
            "image/png": "[encoded data removed]"
          },
          "metadata": {
            "image/png": {
              "width": 420,
              "height": 420
            }
          }
        }
      ]
    },
    {
      "cell_type": "markdown",
      "source": [
        "De los resultados obtenidos podríamos decir que el modelo más parsimonioso con buenos resultados usa k=5, y el modelo seleccionado por el método es de k=17. Sin embargo nótese que estamos usando como medida de precisión “accuracy”. Dado el ligero desbalance de la base de datos, y que nos interesa particularmente predecir los retrasos, quizás sea mejor utilizar otra métrica.\n",
        "\n",
        "Para poder ver precisión y exhaustividad, hacemos algunos cambios sobre la métrica a manejar."
      ],
      "metadata": {
        "id": "JMdnPl_WBV6X"
      }
    },
    {
      "cell_type": "code",
      "source": [
        "levels(cartera.train$retrasos) <- make.names(levels(factor(cartera.train$retrasos)))\n",
        "# creo parámetros de validación cruzada\n",
        "cross<-trainControl(method=\"cv\",number=5,\n",
        "                    classProbs = TRUE,\n",
        "                    summaryFunction =prSummary)"
      ],
      "metadata": {
        "id": "QGAJl1ifd6AW"
      },
      "execution_count": null,
      "outputs": []
    },
    {
      "cell_type": "code",
      "source": [
        "set.seed(1)\n",
        "modeloknn2<-train(retrasos~.,method=\"knn\",\n",
        "                  tuneGrid=expand.grid(k=1:30),\n",
        "                  trControl=cross,\n",
        "                  metric=\"AUC\",\n",
        "                  data=cartera.train)"
      ],
      "metadata": {
        "id": "AwbW9cRPgazO"
      },
      "execution_count": null,
      "outputs": []
    },
    {
      "cell_type": "code",
      "source": [
        "modeloknn2\n",
        "plot(modeloknn2)"
      ],
      "metadata": {
        "id": "2rgkBO8X-n5-",
        "colab": {
          "base_uri": "https://localhost:8080/",
          "height": 1000
        },
        "outputId": "4141d56b-1379-43bf-c305-ab8b6376961a"
      },
      "execution_count": null,
      "outputs": [
        {
          "output_type": "display_data",
          "data": {
            "text/plain": [
              "k-Nearest Neighbors \n",
              "\n",
              "639 samples\n",
              " 11 predictor\n",
              "  2 classes: 'X0', 'X1' \n",
              "\n",
              "No pre-processing\n",
              "Resampling: Cross-Validated (5 fold) \n",
              "Summary of sample sizes: 512, 511, 511, 511, 511 \n",
              "Resampling results across tuning parameters:\n",
              "\n",
              "  k   AUC        Precision  Recall     F        \n",
              "   1  0.1275890  0.8111728  0.8377446  0.8242251\n",
              "   2  0.2295012  0.8182565  0.8233958  0.8207001\n",
              "   3  0.3060409  0.8280345  0.8767936  0.8515490\n",
              "   4  0.3707907  0.8245192  0.8584052  0.8409794\n",
              "   5  0.4154850  0.8236750  0.9015148  0.8607887\n",
              "   6  0.4559147  0.8284000  0.9117400  0.8680089\n",
              "   7  0.5032315  0.8236209  0.9199032  0.8690774\n",
              "   8  0.5301042  0.8218236  0.9363139  0.8752834\n",
              "   9  0.5476826  0.8199147  0.9444982  0.8777939\n",
              "  10  0.5772772  0.8247693  0.9465601  0.8813993\n",
              "  11  0.6049659  0.8191475  0.9486009  0.8790997\n",
              "  12  0.6227466  0.8218379  0.9465601  0.8797410\n",
              "  13  0.6398199  0.8221219  0.9486009  0.8807579\n",
              "  14  0.6452839  0.8151261  0.9486219  0.8767214\n",
              "  15  0.6661761  0.8150738  0.9486009  0.8766729\n",
              "  16  0.6750956  0.8108598  0.9404166  0.8707396\n",
              "  17  0.6809412  0.8104437  0.9465811  0.8731712\n",
              "  18  0.6906422  0.8098815  0.9445403  0.8720205\n",
              "  19  0.7048712  0.8042990  0.9527456  0.8722078\n",
              "  20  0.7211296  0.8003688  0.9466232  0.8673639\n",
              "  21  0.7312618  0.8039963  0.9507259  0.8711919\n",
              "  22  0.7361031  0.8042159  0.9527456  0.8721895\n",
              "  23  0.7466710  0.8064108  0.9486640  0.8717231\n",
              "  24  0.7559602  0.8061304  0.9548075  0.8741437\n",
              "  25  0.7660108  0.8036692  0.9568483  0.8734950\n",
              "  26  0.7759711  0.8057518  0.9527246  0.8729857\n",
              "  27  0.7850176  0.7976973  0.9548075  0.8691788\n",
              "  28  0.7920316  0.7997596  0.9589312  0.8721262\n",
              "  29  0.8052633  0.7976500  0.9630339  0.8725677\n",
              "  30  0.8082146  0.7945617  0.9610141  0.8698858\n",
              "\n",
              "AUC was used to select the optimal model using the largest value.\n",
              "The final value used for the model was k = 30."
            ]
          },
          "metadata": {}
        },
        {
          "output_type": "display_data",
          "data": {
            "text/plain": [
              "plot without title"
            ],
            "image/png": "[encoded data removed]"
          },
          "metadata": {
            "image/png": {
              "width": 420,
              "height": 420
            }
          }
        }
      ]
    },
    {
      "cell_type": "markdown",
      "source": [
        "Este resultado propone un k=30, con el cual vamos a probar el modelo:"
      ],
      "metadata": {
        "id": "z8-4i7qrBnBn"
      }
    },
    {
      "cell_type": "code",
      "source": [
        "# el modelo sintonizado\n",
        "predmod1<-predict(modeloknn2,cartera.test,type=\"prob\")\n",
        "pronknn1<-ifelse(predmod1$X1 > 0.5, 1, 0)\n",
        "confknn1<-confusionMatrix(as.factor(pronknn1),\n",
        "                          cartera.test$retrasos, positive = \"1\")\n",
        "confknn1$table\n",
        "confknn1$byClass"
      ],
      "metadata": {
        "id": "l-8mH_g0ifqu",
        "colab": {
          "base_uri": "https://localhost:8080/",
          "height": 139
        },
        "outputId": "a17cedce-f6cf-44d6-9a6b-932f96788d52"
      },
      "execution_count": null,
      "outputs": [
        {
          "output_type": "display_data",
          "data": {
            "text/plain": [
              "          Reference\n",
              "Prediction   0   1\n",
              "         0 169  31\n",
              "         1   3  10"
            ]
          },
          "metadata": {}
        },
        {
          "output_type": "display_data",
          "data": {
            "text/html": [
              "<style>\n",
              ".dl-inline {width: auto; margin:0; padding: 0}\n",
              ".dl-inline>dt, .dl-inline>dd {float: none; width: auto; display: inline-block}\n",
              ".dl-inline>dt::after {content: \":\\0020\"; padding-right: .5ex}\n",
              ".dl-inline>dt:not(:first-of-type) {padding-left: .5ex}\n",
              "</style><dl class=dl-inline><dt>Sensitivity</dt><dd>0.24390243902439</dd><dt>Specificity</dt><dd>0.982558139534884</dd><dt>Pos Pred Value</dt><dd>0.769230769230769</dd><dt>Neg Pred Value</dt><dd>0.845</dd><dt>Precision</dt><dd>0.769230769230769</dd><dt>Recall</dt><dd>0.24390243902439</dd><dt>F1</dt><dd>0.37037037037037</dd><dt>Prevalence</dt><dd>0.192488262910798</dd><dt>Detection Rate</dt><dd>0.0469483568075117</dd><dt>Detection Prevalence</dt><dd>0.0610328638497653</dd><dt>Balanced Accuracy</dt><dd>0.613230289279637</dd></dl>\n"
            ],
            "text/markdown": "Sensitivity\n:   0.24390243902439Specificity\n:   0.982558139534884Pos Pred Value\n:   0.769230769230769Neg Pred Value\n:   0.845Precision\n:   0.769230769230769Recall\n:   0.24390243902439F1\n:   0.37037037037037Prevalence\n:   0.192488262910798Detection Rate\n:   0.0469483568075117Detection Prevalence\n:   0.0610328638497653Balanced Accuracy\n:   0.613230289279637\n\n",
            "text/latex": "\\begin{description*}\n\\item[Sensitivity] 0.24390243902439\n\\item[Specificity] 0.982558139534884\n\\item[Pos Pred Value] 0.769230769230769\n\\item[Neg Pred Value] 0.845\n\\item[Precision] 0.769230769230769\n\\item[Recall] 0.24390243902439\n\\item[F1] 0.37037037037037\n\\item[Prevalence] 0.192488262910798\n\\item[Detection Rate] 0.0469483568075117\n\\item[Detection Prevalence] 0.0610328638497653\n\\item[Balanced Accuracy] 0.613230289279637\n\\end{description*}\n",
            "text/plain": [
              "         Sensitivity          Specificity       Pos Pred Value \n",
              "          0.24390244           0.98255814           0.76923077 \n",
              "      Neg Pred Value            Precision               Recall \n",
              "          0.84500000           0.76923077           0.24390244 \n",
              "                  F1           Prevalence       Detection Rate \n",
              "          0.37037037           0.19248826           0.04694836 \n",
              "Detection Prevalence    Balanced Accuracy \n",
              "          0.06103286           0.61323029 "
            ]
          },
          "metadata": {}
        }
      ]
    },
    {
      "cell_type": "code",
      "source": [
        "# el modelo sintonizado\n",
        "predmod1<-predict(modeloknn2,cartera.test,type=\"prob\")\n",
        "pronknn1<-ifelse(predmod1$X1 > 0.3, 1, 0)\n",
        "confknn1<-confusionMatrix(as.factor(pronknn1),\n",
        "                          cartera.test$retrasos, positive = \"1\")\n",
        "confknn1$table\n",
        "confknn1$byClass"
      ],
      "metadata": {
        "colab": {
          "base_uri": "https://localhost:8080/",
          "height": 139
        },
        "id": "n-zGJfqmh5hJ",
        "outputId": "2cc63bc8-730d-49ab-e125-3b84494bc4ea"
      },
      "execution_count": null,
      "outputs": [
        {
          "output_type": "display_data",
          "data": {
            "text/plain": [
              "          Reference\n",
              "Prediction   0   1\n",
              "         0 138  15\n",
              "         1  34  26"
            ]
          },
          "metadata": {}
        },
        {
          "output_type": "display_data",
          "data": {
            "text/html": [
              "<style>\n",
              ".dl-inline {width: auto; margin:0; padding: 0}\n",
              ".dl-inline>dt, .dl-inline>dd {float: none; width: auto; display: inline-block}\n",
              ".dl-inline>dt::after {content: \":\\0020\"; padding-right: .5ex}\n",
              ".dl-inline>dt:not(:first-of-type) {padding-left: .5ex}\n",
              "</style><dl class=dl-inline><dt>Sensitivity</dt><dd>0.634146341463415</dd><dt>Specificity</dt><dd>0.802325581395349</dd><dt>Pos Pred Value</dt><dd>0.433333333333333</dd><dt>Neg Pred Value</dt><dd>0.901960784313726</dd><dt>Precision</dt><dd>0.433333333333333</dd><dt>Recall</dt><dd>0.634146341463415</dd><dt>F1</dt><dd>0.514851485148515</dd><dt>Prevalence</dt><dd>0.192488262910798</dd><dt>Detection Rate</dt><dd>0.122065727699531</dd><dt>Detection Prevalence</dt><dd>0.28169014084507</dd><dt>Balanced Accuracy</dt><dd>0.718235961429382</dd></dl>\n"
            ],
            "text/markdown": "Sensitivity\n:   0.634146341463415Specificity\n:   0.802325581395349Pos Pred Value\n:   0.433333333333333Neg Pred Value\n:   0.901960784313726Precision\n:   0.433333333333333Recall\n:   0.634146341463415F1\n:   0.514851485148515Prevalence\n:   0.192488262910798Detection Rate\n:   0.122065727699531Detection Prevalence\n:   0.28169014084507Balanced Accuracy\n:   0.718235961429382\n\n",
            "text/latex": "\\begin{description*}\n\\item[Sensitivity] 0.634146341463415\n\\item[Specificity] 0.802325581395349\n\\item[Pos Pred Value] 0.433333333333333\n\\item[Neg Pred Value] 0.901960784313726\n\\item[Precision] 0.433333333333333\n\\item[Recall] 0.634146341463415\n\\item[F1] 0.514851485148515\n\\item[Prevalence] 0.192488262910798\n\\item[Detection Rate] 0.122065727699531\n\\item[Detection Prevalence] 0.28169014084507\n\\item[Balanced Accuracy] 0.718235961429382\n\\end{description*}\n",
            "text/plain": [
              "         Sensitivity          Specificity       Pos Pred Value \n",
              "           0.6341463            0.8023256            0.4333333 \n",
              "      Neg Pred Value            Precision               Recall \n",
              "           0.9019608            0.4333333            0.6341463 \n",
              "                  F1           Prevalence       Detection Rate \n",
              "           0.5148515            0.1924883            0.1220657 \n",
              "Detection Prevalence    Balanced Accuracy \n",
              "           0.2816901            0.7182360 "
            ]
          },
          "metadata": {}
        }
      ]
    },
    {
      "cell_type": "markdown",
      "source": [
        "Aunque KNN también puede usarse para predicciones de variables escalares, KNN es con frecuencia un modelo que puede utilizarse como modelo de base o ingenuo para una clasificación, particularmente con variables predictoras escalares."
      ],
      "metadata": {
        "id": "50b8vaXrBpsO"
      }
    },
    {
      "cell_type": "code",
      "source": [
        "#crear objeto de predicciones\n",
        "pr<-prediction(pronknn1,cartera.test$retrasos)\n",
        "#creacion del objeto de la curva\n",
        "curvaROC<-performance(pr,measure=\"tpr\",x.measure=\"fpr\")\n",
        "#grafico de la curva\n",
        "plot(curvaROC)"
      ],
      "metadata": {
        "id": "Fe08GyDjg1vF",
        "colab": {
          "base_uri": "https://localhost:8080/",
          "height": 437
        },
        "outputId": "57ef55af-e623-4ea2-edb0-25a2f70b3087"
      },
      "execution_count": null,
      "outputs": [
        {
          "output_type": "display_data",
          "data": {
            "text/plain": [
              "plot without title"
            ],
            "image/png": "[encoded data removed]"
          },
          "metadata": {
            "image/png": {
              "width": 420,
              "height": 420
            }
          }
        }
      ]
    },
    {
      "cell_type": "code",
      "source": [
        "#calcular el AUC\n",
        "auc<-performance(pr,measure = \"auc\")\n",
        "auc <- auc@y.values[[1]]\n",
        "#ver el AUC\n",
        "auc"
      ],
      "metadata": {
        "id": "w9A3pvBg-_I1",
        "colab": {
          "base_uri": "https://localhost:8080/",
          "height": 34
        },
        "outputId": "4ad8cb85-81de-4e5c-ff8e-e58ed5759c19"
      },
      "execution_count": null,
      "outputs": [
        {
          "output_type": "display_data",
          "data": {
            "text/html": [
              "0.718235961429382"
            ],
            "text/markdown": "0.718235961429382",
            "text/latex": "0.718235961429382",
            "text/plain": [
              "[1] 0.718236"
            ]
          },
          "metadata": {}
        }
      ]
    },
    {
      "cell_type": "markdown",
      "source": [
        "# Uso de la función **KNN3** de **Caret**\n",
        "\n",
        "https://daviddalpiaz.github.io/stat432sp18/supp/knn_class_r.html"
      ],
      "metadata": {
        "id": "O-MnPqsodr1v"
      }
    },
    {
      "cell_type": "code",
      "source": [
        "# MODELO CON K = 5\n",
        "set.seed(1)\n",
        "test_pred = knn3(retrasos~., data=cartera.train1, k = 5)"
      ],
      "metadata": {
        "id": "YTlsdlMXVnZ3"
      },
      "execution_count": 45,
      "outputs": []
    },
    {
      "cell_type": "code",
      "source": [
        "# Desempeño en entrenamiento.  K = 5\n",
        "predmod <- predict(test_pred, cartera.train1, type = \"prob\")\n",
        "pronknn<-ifelse(predmod[,2] > 0.3 ,1, 0)\n",
        "confknn<-confusionMatrix(as.factor(pronknn),\n",
        "                          cartera.train1$retrasos, positive = \"1\")\n",
        "confknn$table\n",
        "confknn$overall\n",
        "confknn$byClass"
      ],
      "metadata": {
        "colab": {
          "base_uri": "https://localhost:8080/",
          "height": 173
        },
        "id": "4bMZTwkqhBIa",
        "outputId": "10a09194-1372-4725-b876-e485a148e8b2"
      },
      "execution_count": 47,
      "outputs": [
        {
          "output_type": "display_data",
          "data": {
            "text/plain": [
              "          Reference\n",
              "Prediction   0   1\n",
              "         0 399  35\n",
              "         1  88 117"
            ]
          },
          "metadata": {}
        },
        {
          "output_type": "display_data",
          "data": {
            "text/html": [
              "<style>\n",
              ".dl-inline {width: auto; margin:0; padding: 0}\n",
              ".dl-inline>dt, .dl-inline>dd {float: none; width: auto; display: inline-block}\n",
              ".dl-inline>dt::after {content: \":\\0020\"; padding-right: .5ex}\n",
              ".dl-inline>dt:not(:first-of-type) {padding-left: .5ex}\n",
              "</style><dl class=dl-inline><dt>Accuracy</dt><dd>0.807511737089202</dd><dt>Kappa</dt><dd>0.525961532662256</dd><dt>AccuracyLower</dt><dd>0.774767123585547</dd><dt>AccuracyUpper</dt><dd>0.837383964006771</dd><dt>AccuracyNull</dt><dd>0.762128325508607</dd><dt>AccuracyPValue</dt><dd>0.00344331773854521</dd><dt>McnemarPValue</dt><dd>2.74970162862759e-06</dd></dl>\n"
            ],
            "text/markdown": "Accuracy\n:   0.807511737089202Kappa\n:   0.525961532662256AccuracyLower\n:   0.774767123585547AccuracyUpper\n:   0.837383964006771AccuracyNull\n:   0.762128325508607AccuracyPValue\n:   0.00344331773854521McnemarPValue\n:   2.74970162862759e-06\n\n",
            "text/latex": "\\begin{description*}\n\\item[Accuracy] 0.807511737089202\n\\item[Kappa] 0.525961532662256\n\\item[AccuracyLower] 0.774767123585547\n\\item[AccuracyUpper] 0.837383964006771\n\\item[AccuracyNull] 0.762128325508607\n\\item[AccuracyPValue] 0.00344331773854521\n\\item[McnemarPValue] 2.74970162862759e-06\n\\end{description*}\n",
            "text/plain": [
              "      Accuracy          Kappa  AccuracyLower  AccuracyUpper   AccuracyNull \n",
              "  8.075117e-01   5.259615e-01   7.747671e-01   8.373840e-01   7.621283e-01 \n",
              "AccuracyPValue  McnemarPValue \n",
              "  3.443318e-03   2.749702e-06 "
            ]
          },
          "metadata": {}
        },
        {
          "output_type": "display_data",
          "data": {
            "text/html": [
              "<style>\n",
              ".dl-inline {width: auto; margin:0; padding: 0}\n",
              ".dl-inline>dt, .dl-inline>dd {float: none; width: auto; display: inline-block}\n",
              ".dl-inline>dt::after {content: \":\\0020\"; padding-right: .5ex}\n",
              ".dl-inline>dt:not(:first-of-type) {padding-left: .5ex}\n",
              "</style><dl class=dl-inline><dt>Sensitivity</dt><dd>0.769736842105263</dd><dt>Specificity</dt><dd>0.819301848049281</dd><dt>Pos Pred Value</dt><dd>0.570731707317073</dd><dt>Neg Pred Value</dt><dd>0.919354838709677</dd><dt>Precision</dt><dd>0.570731707317073</dd><dt>Recall</dt><dd>0.769736842105263</dd><dt>F1</dt><dd>0.65546218487395</dd><dt>Prevalence</dt><dd>0.237871674491393</dd><dt>Detection Rate</dt><dd>0.183098591549296</dd><dt>Detection Prevalence</dt><dd>0.320813771517997</dd><dt>Balanced Accuracy</dt><dd>0.794519345077272</dd></dl>\n"
            ],
            "text/markdown": "Sensitivity\n:   0.769736842105263Specificity\n:   0.819301848049281Pos Pred Value\n:   0.570731707317073Neg Pred Value\n:   0.919354838709677Precision\n:   0.570731707317073Recall\n:   0.769736842105263F1\n:   0.65546218487395Prevalence\n:   0.237871674491393Detection Rate\n:   0.183098591549296Detection Prevalence\n:   0.320813771517997Balanced Accuracy\n:   0.794519345077272\n\n",
            "text/latex": "\\begin{description*}\n\\item[Sensitivity] 0.769736842105263\n\\item[Specificity] 0.819301848049281\n\\item[Pos Pred Value] 0.570731707317073\n\\item[Neg Pred Value] 0.919354838709677\n\\item[Precision] 0.570731707317073\n\\item[Recall] 0.769736842105263\n\\item[F1] 0.65546218487395\n\\item[Prevalence] 0.237871674491393\n\\item[Detection Rate] 0.183098591549296\n\\item[Detection Prevalence] 0.320813771517997\n\\item[Balanced Accuracy] 0.794519345077272\n\\end{description*}\n",
            "text/plain": [
              "         Sensitivity          Specificity       Pos Pred Value \n",
              "           0.7697368            0.8193018            0.5707317 \n",
              "      Neg Pred Value            Precision               Recall \n",
              "           0.9193548            0.5707317            0.7697368 \n",
              "                  F1           Prevalence       Detection Rate \n",
              "           0.6554622            0.2378717            0.1830986 \n",
              "Detection Prevalence    Balanced Accuracy \n",
              "           0.3208138            0.7945193 "
            ]
          },
          "metadata": {}
        }
      ]
    },
    {
      "cell_type": "code",
      "source": [
        "# Desempeño en prueba.  K = 5\n",
        "predmod <- predict(test_pred, cartera.test1, type = \"prob\")\n",
        "pronknn<-ifelse(predmod[,2] > 0.3 ,1, 0)\n",
        "confknn<-confusionMatrix(as.factor(pronknn),\n",
        "                          cartera.test1$retrasos, positive = \"1\")\n",
        "confknn$table\n",
        "confknn$overall\n",
        "confknn$byClass"
      ],
      "metadata": {
        "colab": {
          "base_uri": "https://localhost:8080/",
          "height": 173
        },
        "id": "r32MvHnLhHxY",
        "outputId": "e4b485d9-4df7-4a9c-c526-ca2438e0b7c1"
      },
      "execution_count": 48,
      "outputs": [
        {
          "output_type": "display_data",
          "data": {
            "text/plain": [
              "          Reference\n",
              "Prediction   0   1\n",
              "         0 134  18\n",
              "         1  38  23"
            ]
          },
          "metadata": {}
        },
        {
          "output_type": "display_data",
          "data": {
            "text/html": [
              "<style>\n",
              ".dl-inline {width: auto; margin:0; padding: 0}\n",
              ".dl-inline>dt, .dl-inline>dd {float: none; width: auto; display: inline-block}\n",
              ".dl-inline>dt::after {content: \":\\0020\"; padding-right: .5ex}\n",
              ".dl-inline>dt:not(:first-of-type) {padding-left: .5ex}\n",
              "</style><dl class=dl-inline><dt>Accuracy</dt><dd>0.737089201877934</dd><dt>Kappa</dt><dd>0.28677349916288</dd><dt>AccuracyLower</dt><dd>0.672574002711629</dd><dt>AccuracyUpper</dt><dd>0.794876125211968</dd><dt>AccuracyNull</dt><dd>0.807511737089202</dd><dt>AccuracyPValue</dt><dd>0.99533907649589</dd><dt>McnemarPValue</dt><dd>0.011117560716107</dd></dl>\n"
            ],
            "text/markdown": "Accuracy\n:   0.737089201877934Kappa\n:   0.28677349916288AccuracyLower\n:   0.672574002711629AccuracyUpper\n:   0.794876125211968AccuracyNull\n:   0.807511737089202AccuracyPValue\n:   0.99533907649589McnemarPValue\n:   0.011117560716107\n\n",
            "text/latex": "\\begin{description*}\n\\item[Accuracy] 0.737089201877934\n\\item[Kappa] 0.28677349916288\n\\item[AccuracyLower] 0.672574002711629\n\\item[AccuracyUpper] 0.794876125211968\n\\item[AccuracyNull] 0.807511737089202\n\\item[AccuracyPValue] 0.99533907649589\n\\item[McnemarPValue] 0.011117560716107\n\\end{description*}\n",
            "text/plain": [
              "      Accuracy          Kappa  AccuracyLower  AccuracyUpper   AccuracyNull \n",
              "    0.73708920     0.28677350     0.67257400     0.79487613     0.80751174 \n",
              "AccuracyPValue  McnemarPValue \n",
              "    0.99533908     0.01111756 "
            ]
          },
          "metadata": {}
        },
        {
          "output_type": "display_data",
          "data": {
            "text/html": [
              "<style>\n",
              ".dl-inline {width: auto; margin:0; padding: 0}\n",
              ".dl-inline>dt, .dl-inline>dd {float: none; width: auto; display: inline-block}\n",
              ".dl-inline>dt::after {content: \":\\0020\"; padding-right: .5ex}\n",
              ".dl-inline>dt:not(:first-of-type) {padding-left: .5ex}\n",
              "</style><dl class=dl-inline><dt>Sensitivity</dt><dd>0.560975609756098</dd><dt>Specificity</dt><dd>0.779069767441861</dd><dt>Pos Pred Value</dt><dd>0.377049180327869</dd><dt>Neg Pred Value</dt><dd>0.881578947368421</dd><dt>Precision</dt><dd>0.377049180327869</dd><dt>Recall</dt><dd>0.560975609756098</dd><dt>F1</dt><dd>0.450980392156863</dd><dt>Prevalence</dt><dd>0.192488262910798</dd><dt>Detection Rate</dt><dd>0.107981220657277</dd><dt>Detection Prevalence</dt><dd>0.286384976525822</dd><dt>Balanced Accuracy</dt><dd>0.670022688598979</dd></dl>\n"
            ],
            "text/markdown": "Sensitivity\n:   0.560975609756098Specificity\n:   0.779069767441861Pos Pred Value\n:   0.377049180327869Neg Pred Value\n:   0.881578947368421Precision\n:   0.377049180327869Recall\n:   0.560975609756098F1\n:   0.450980392156863Prevalence\n:   0.192488262910798Detection Rate\n:   0.107981220657277Detection Prevalence\n:   0.286384976525822Balanced Accuracy\n:   0.670022688598979\n\n",
            "text/latex": "\\begin{description*}\n\\item[Sensitivity] 0.560975609756098\n\\item[Specificity] 0.779069767441861\n\\item[Pos Pred Value] 0.377049180327869\n\\item[Neg Pred Value] 0.881578947368421\n\\item[Precision] 0.377049180327869\n\\item[Recall] 0.560975609756098\n\\item[F1] 0.450980392156863\n\\item[Prevalence] 0.192488262910798\n\\item[Detection Rate] 0.107981220657277\n\\item[Detection Prevalence] 0.286384976525822\n\\item[Balanced Accuracy] 0.670022688598979\n\\end{description*}\n",
            "text/plain": [
              "         Sensitivity          Specificity       Pos Pred Value \n",
              "           0.5609756            0.7790698            0.3770492 \n",
              "      Neg Pred Value            Precision               Recall \n",
              "           0.8815789            0.3770492            0.5609756 \n",
              "                  F1           Prevalence       Detection Rate \n",
              "           0.4509804            0.1924883            0.1079812 \n",
              "Detection Prevalence    Balanced Accuracy \n",
              "           0.2863850            0.6700227 "
            ]
          },
          "metadata": {}
        }
      ]
    },
    {
      "cell_type": "code",
      "source": [
        "# CURVA ROC y AUC.  K = 5\n",
        "\n",
        "#crear objeto de predicciones\n",
        "pr<-prediction(pronknn,cartera.test$retrasos)\n",
        "#creacion del objeto de la curva\n",
        "curvaROC<-performance(pr,measure=\"tpr\",x.measure=\"fpr\")\n",
        "#grafico de la curva\n",
        "plot(curvaROC)\n",
        "\n",
        "#calcular el AUC\n",
        "auc<-performance(pr,measure = \"auc\")\n",
        "auc <- auc@y.values[[1]]\n",
        "#ver el AUC\n",
        "auc"
      ],
      "metadata": {
        "colab": {
          "base_uri": "https://localhost:8080/",
          "height": 454
        },
        "id": "1tmWbyVp0HkC",
        "outputId": "a8a6d5bb-55ad-47cc-dc8a-955a46b48533"
      },
      "execution_count": 49,
      "outputs": [
        {
          "output_type": "display_data",
          "data": {
            "text/html": [
              "0.670022688598979"
            ],
            "text/markdown": "0.670022688598979",
            "text/latex": "0.670022688598979",
            "text/plain": [
              "[1] 0.6700227"
            ]
          },
          "metadata": {}
        },
        {
          "output_type": "display_data",
          "data": {
            "text/plain": [
              "plot without title"
            ],
            "image/png": "[encoded data removed]"
          },
          "metadata": {
            "image/png": {
              "width": 420,
              "height": 420
            }
          }
        }
      ]
    },
    {
      "cell_type": "code",
      "source": [
        "# MODELO CON K = 17\n",
        "set.seed(1)\n",
        "test_pred = knn3(retrasos~., data=cartera.train1, k = 17)"
      ],
      "metadata": {
        "id": "M_RVXFXogLWi"
      },
      "execution_count": 50,
      "outputs": []
    },
    {
      "cell_type": "code",
      "source": [
        "# Desempeño en entranamiento  K = 17\n",
        "predmod <- predict(test_pred, cartera.train1, type = \"prob\")\n",
        "pronknn<-ifelse(predmod[,2] > 0.3 ,1, 0)\n",
        "confknn<-confusionMatrix(as.factor(pronknn),\n",
        "                          cartera.train1$retrasos, positive = \"1\")\n",
        "confknn$table\n",
        "confknn$overall\n",
        "confknn$byClass"
      ],
      "metadata": {
        "colab": {
          "base_uri": "https://localhost:8080/",
          "height": 173
        },
        "id": "KQBahHeGhiaN",
        "outputId": "cf635a93-3655-4b92-8afb-6e18fe4df3bb"
      },
      "execution_count": 51,
      "outputs": [
        {
          "output_type": "display_data",
          "data": {
            "text/plain": [
              "          Reference\n",
              "Prediction   0   1\n",
              "         0 409  52\n",
              "         1  78 100"
            ]
          },
          "metadata": {}
        },
        {
          "output_type": "display_data",
          "data": {
            "text/html": [
              "<style>\n",
              ".dl-inline {width: auto; margin:0; padding: 0}\n",
              ".dl-inline>dt, .dl-inline>dd {float: none; width: auto; display: inline-block}\n",
              ".dl-inline>dt::after {content: \":\\0020\"; padding-right: .5ex}\n",
              ".dl-inline>dt:not(:first-of-type) {padding-left: .5ex}\n",
              "</style><dl class=dl-inline><dt>Accuracy</dt><dd>0.796557120500782</dd><dt>Kappa</dt><dd>0.470074892509473</dd><dt>AccuracyLower</dt><dd>0.763223562610685</dd><dt>AccuracyUpper</dt><dd>0.8271224326234</dd><dt>AccuracyNull</dt><dd>0.762128325508607</dd><dt>AccuracyPValue</dt><dd>0.0214865595529967</dd><dt>McnemarPValue</dt><dd>0.0283329627848103</dd></dl>\n"
            ],
            "text/markdown": "Accuracy\n:   0.796557120500782Kappa\n:   0.470074892509473AccuracyLower\n:   0.763223562610685AccuracyUpper\n:   0.8271224326234AccuracyNull\n:   0.762128325508607AccuracyPValue\n:   0.0214865595529967McnemarPValue\n:   0.0283329627848103\n\n",
            "text/latex": "\\begin{description*}\n\\item[Accuracy] 0.796557120500782\n\\item[Kappa] 0.470074892509473\n\\item[AccuracyLower] 0.763223562610685\n\\item[AccuracyUpper] 0.8271224326234\n\\item[AccuracyNull] 0.762128325508607\n\\item[AccuracyPValue] 0.0214865595529967\n\\item[McnemarPValue] 0.0283329627848103\n\\end{description*}\n",
            "text/plain": [
              "      Accuracy          Kappa  AccuracyLower  AccuracyUpper   AccuracyNull \n",
              "    0.79655712     0.47007489     0.76322356     0.82712243     0.76212833 \n",
              "AccuracyPValue  McnemarPValue \n",
              "    0.02148656     0.02833296 "
            ]
          },
          "metadata": {}
        },
        {
          "output_type": "display_data",
          "data": {
            "text/html": [
              "<style>\n",
              ".dl-inline {width: auto; margin:0; padding: 0}\n",
              ".dl-inline>dt, .dl-inline>dd {float: none; width: auto; display: inline-block}\n",
              ".dl-inline>dt::after {content: \":\\0020\"; padding-right: .5ex}\n",
              ".dl-inline>dt:not(:first-of-type) {padding-left: .5ex}\n",
              "</style><dl class=dl-inline><dt>Sensitivity</dt><dd>0.657894736842105</dd><dt>Specificity</dt><dd>0.839835728952772</dd><dt>Pos Pred Value</dt><dd>0.561797752808989</dd><dt>Neg Pred Value</dt><dd>0.887201735357918</dd><dt>Precision</dt><dd>0.561797752808989</dd><dt>Recall</dt><dd>0.657894736842105</dd><dt>F1</dt><dd>0.606060606060606</dd><dt>Prevalence</dt><dd>0.237871674491393</dd><dt>Detection Rate</dt><dd>0.156494522691706</dd><dt>Detection Prevalence</dt><dd>0.278560250391236</dd><dt>Balanced Accuracy</dt><dd>0.748865232897439</dd></dl>\n"
            ],
            "text/markdown": "Sensitivity\n:   0.657894736842105Specificity\n:   0.839835728952772Pos Pred Value\n:   0.561797752808989Neg Pred Value\n:   0.887201735357918Precision\n:   0.561797752808989Recall\n:   0.657894736842105F1\n:   0.606060606060606Prevalence\n:   0.237871674491393Detection Rate\n:   0.156494522691706Detection Prevalence\n:   0.278560250391236Balanced Accuracy\n:   0.748865232897439\n\n",
            "text/latex": "\\begin{description*}\n\\item[Sensitivity] 0.657894736842105\n\\item[Specificity] 0.839835728952772\n\\item[Pos Pred Value] 0.561797752808989\n\\item[Neg Pred Value] 0.887201735357918\n\\item[Precision] 0.561797752808989\n\\item[Recall] 0.657894736842105\n\\item[F1] 0.606060606060606\n\\item[Prevalence] 0.237871674491393\n\\item[Detection Rate] 0.156494522691706\n\\item[Detection Prevalence] 0.278560250391236\n\\item[Balanced Accuracy] 0.748865232897439\n\\end{description*}\n",
            "text/plain": [
              "         Sensitivity          Specificity       Pos Pred Value \n",
              "           0.6578947            0.8398357            0.5617978 \n",
              "      Neg Pred Value            Precision               Recall \n",
              "           0.8872017            0.5617978            0.6578947 \n",
              "                  F1           Prevalence       Detection Rate \n",
              "           0.6060606            0.2378717            0.1564945 \n",
              "Detection Prevalence    Balanced Accuracy \n",
              "           0.2785603            0.7488652 "
            ]
          },
          "metadata": {}
        }
      ]
    },
    {
      "cell_type": "code",
      "source": [
        "# Desempeño en prueba  K = 17\n",
        "predmod <- predict(test_pred, cartera.test1, type = \"prob\")\n",
        "pronknn<-ifelse(predmod[,2] > 0.3 ,1, 0)\n",
        "confknn<-confusionMatrix(as.factor(pronknn),\n",
        "                          cartera.test1$retrasos, positive = \"1\")\n",
        "confknn$table\n",
        "confknn$overall\n",
        "confknn$byClass"
      ],
      "metadata": {
        "colab": {
          "base_uri": "https://localhost:8080/",
          "height": 173
        },
        "id": "ZMEmMAzHhmdj",
        "outputId": "c86bea1b-ce24-474c-edc4-67f9729864ee"
      },
      "execution_count": 52,
      "outputs": [
        {
          "output_type": "display_data",
          "data": {
            "text/plain": [
              "          Reference\n",
              "Prediction   0   1\n",
              "         0 134  16\n",
              "         1  38  25"
            ]
          },
          "metadata": {}
        },
        {
          "output_type": "display_data",
          "data": {
            "text/html": [
              "<style>\n",
              ".dl-inline {width: auto; margin:0; padding: 0}\n",
              ".dl-inline>dt, .dl-inline>dd {float: none; width: auto; display: inline-block}\n",
              ".dl-inline>dt::after {content: \":\\0020\"; padding-right: .5ex}\n",
              ".dl-inline>dt:not(:first-of-type) {padding-left: .5ex}\n",
              "</style><dl class=dl-inline><dt>Accuracy</dt><dd>0.746478873239437</dd><dt>Kappa</dt><dd>0.322854115153656</dd><dt>AccuracyLower</dt><dd>0.682516381448864</dd><dt>AccuracyUpper</dt><dd>0.803442681078988</dd><dt>AccuracyNull</dt><dd>0.807511737089202</dd><dt>AccuracyPValue</dt><dd>0.988623381638022</dd><dt>McnemarPValue</dt><dd>0.00426672482217614</dd></dl>\n"
            ],
            "text/markdown": "Accuracy\n:   0.746478873239437Kappa\n:   0.322854115153656AccuracyLower\n:   0.682516381448864AccuracyUpper\n:   0.803442681078988AccuracyNull\n:   0.807511737089202AccuracyPValue\n:   0.988623381638022McnemarPValue\n:   0.00426672482217614\n\n",
            "text/latex": "\\begin{description*}\n\\item[Accuracy] 0.746478873239437\n\\item[Kappa] 0.322854115153656\n\\item[AccuracyLower] 0.682516381448864\n\\item[AccuracyUpper] 0.803442681078988\n\\item[AccuracyNull] 0.807511737089202\n\\item[AccuracyPValue] 0.988623381638022\n\\item[McnemarPValue] 0.00426672482217614\n\\end{description*}\n",
            "text/plain": [
              "      Accuracy          Kappa  AccuracyLower  AccuracyUpper   AccuracyNull \n",
              "   0.746478873    0.322854115    0.682516381    0.803442681    0.807511737 \n",
              "AccuracyPValue  McnemarPValue \n",
              "   0.988623382    0.004266725 "
            ]
          },
          "metadata": {}
        },
        {
          "output_type": "display_data",
          "data": {
            "text/html": [
              "<style>\n",
              ".dl-inline {width: auto; margin:0; padding: 0}\n",
              ".dl-inline>dt, .dl-inline>dd {float: none; width: auto; display: inline-block}\n",
              ".dl-inline>dt::after {content: \":\\0020\"; padding-right: .5ex}\n",
              ".dl-inline>dt:not(:first-of-type) {padding-left: .5ex}\n",
              "</style><dl class=dl-inline><dt>Sensitivity</dt><dd>0.609756097560976</dd><dt>Specificity</dt><dd>0.779069767441861</dd><dt>Pos Pred Value</dt><dd>0.396825396825397</dd><dt>Neg Pred Value</dt><dd>0.893333333333333</dd><dt>Precision</dt><dd>0.396825396825397</dd><dt>Recall</dt><dd>0.609756097560976</dd><dt>F1</dt><dd>0.480769230769231</dd><dt>Prevalence</dt><dd>0.192488262910798</dd><dt>Detection Rate</dt><dd>0.117370892018779</dd><dt>Detection Prevalence</dt><dd>0.295774647887324</dd><dt>Balanced Accuracy</dt><dd>0.694412932501418</dd></dl>\n"
            ],
            "text/markdown": "Sensitivity\n:   0.609756097560976Specificity\n:   0.779069767441861Pos Pred Value\n:   0.396825396825397Neg Pred Value\n:   0.893333333333333Precision\n:   0.396825396825397Recall\n:   0.609756097560976F1\n:   0.480769230769231Prevalence\n:   0.192488262910798Detection Rate\n:   0.117370892018779Detection Prevalence\n:   0.295774647887324Balanced Accuracy\n:   0.694412932501418\n\n",
            "text/latex": "\\begin{description*}\n\\item[Sensitivity] 0.609756097560976\n\\item[Specificity] 0.779069767441861\n\\item[Pos Pred Value] 0.396825396825397\n\\item[Neg Pred Value] 0.893333333333333\n\\item[Precision] 0.396825396825397\n\\item[Recall] 0.609756097560976\n\\item[F1] 0.480769230769231\n\\item[Prevalence] 0.192488262910798\n\\item[Detection Rate] 0.117370892018779\n\\item[Detection Prevalence] 0.295774647887324\n\\item[Balanced Accuracy] 0.694412932501418\n\\end{description*}\n",
            "text/plain": [
              "         Sensitivity          Specificity       Pos Pred Value \n",
              "           0.6097561            0.7790698            0.3968254 \n",
              "      Neg Pred Value            Precision               Recall \n",
              "           0.8933333            0.3968254            0.6097561 \n",
              "                  F1           Prevalence       Detection Rate \n",
              "           0.4807692            0.1924883            0.1173709 \n",
              "Detection Prevalence    Balanced Accuracy \n",
              "           0.2957746            0.6944129 "
            ]
          },
          "metadata": {}
        }
      ]
    },
    {
      "cell_type": "code",
      "source": [
        "# CURVA ROC y AUC.  K = 17\n",
        "\n",
        "#crear objeto de predicciones\n",
        "pr<-prediction(pronknn,cartera.test$retrasos)\n",
        "#creacion del objeto de la curva\n",
        "curvaROC<-performance(pr,measure=\"tpr\",x.measure=\"fpr\")\n",
        "#grafico de la curva\n",
        "plot(curvaROC)\n",
        "\n",
        "#calcular el AUC\n",
        "auc<-performance(pr,measure = \"auc\")\n",
        "auc <- auc@y.values[[1]]\n",
        "#ver el AUC\n",
        "auc"
      ],
      "metadata": {
        "colab": {
          "base_uri": "https://localhost:8080/",
          "height": 454
        },
        "id": "evE66IIh0oGw",
        "outputId": "a82a59a2-a1da-4089-efbc-08cd4e6d1af3"
      },
      "execution_count": 54,
      "outputs": [
        {
          "output_type": "display_data",
          "data": {
            "text/html": [
              "0.694412932501418"
            ],
            "text/markdown": "0.694412932501418",
            "text/latex": "0.694412932501418",
            "text/plain": [
              "[1] 0.6944129"
            ]
          },
          "metadata": {}
        },
        {
          "output_type": "display_data",
          "data": {
            "text/plain": [
              "plot without title"
            ],
            "image/png": "[encoded data removed]"
          },
          "metadata": {
            "image/png": {
              "width": 420,
              "height": 420
            }
          }
        }
      ]
    },
    {
      "cell_type": "code",
      "source": [
        "# MODELO CON K = 30\n",
        "set.seed(1)\n",
        "test_pred = knn3(retrasos~., data=cartera.train1, k = 30)"
      ],
      "metadata": {
        "id": "I7gv33vRhQwq"
      },
      "execution_count": 55,
      "outputs": []
    },
    {
      "cell_type": "code",
      "source": [
        "# Desempeño en entrenamiento\n",
        "predmod <- predict(test_pred, cartera.train1, type = \"prob\")\n",
        "pronknn<-ifelse(predmod[,2] > 0.3 ,1, 0)\n",
        "confknn<-confusionMatrix(as.factor(pronknn),\n",
        "                          cartera.train1$retrasos, positive = \"1\")\n",
        "confknn$table\n",
        "confknn$overall\n",
        "confknn$byClass"
      ],
      "metadata": {
        "colab": {
          "base_uri": "https://localhost:8080/",
          "height": 173
        },
        "id": "rBEyGE9JiMqG",
        "outputId": "3990f41a-bb4b-46e7-9507-731c6352d262"
      },
      "execution_count": 56,
      "outputs": [
        {
          "output_type": "display_data",
          "data": {
            "text/plain": [
              "          Reference\n",
              "Prediction   0   1\n",
              "         0 406  54\n",
              "         1  81  98"
            ]
          },
          "metadata": {}
        },
        {
          "output_type": "display_data",
          "data": {
            "text/html": [
              "<style>\n",
              ".dl-inline {width: auto; margin:0; padding: 0}\n",
              ".dl-inline>dt, .dl-inline>dd {float: none; width: auto; display: inline-block}\n",
              ".dl-inline>dt::after {content: \":\\0020\"; padding-right: .5ex}\n",
              ".dl-inline>dt:not(:first-of-type) {padding-left: .5ex}\n",
              "</style><dl class=dl-inline><dt>Accuracy</dt><dd>0.788732394366197</dd><dt>Kappa</dt><dd>0.450866684066126</dd><dt>AccuracyLower</dt><dd>0.754999915968962</dd><dt>AccuracyUpper</dt><dd>0.819770830430121</dd><dt>AccuracyNull</dt><dd>0.762128325508607</dd><dt>AccuracyPValue</dt><dd>0.061198773004859</dd><dt>McnemarPValue</dt><dd>0.0252390780183252</dd></dl>\n"
            ],
            "text/markdown": "Accuracy\n:   0.788732394366197Kappa\n:   0.450866684066126AccuracyLower\n:   0.754999915968962AccuracyUpper\n:   0.819770830430121AccuracyNull\n:   0.762128325508607AccuracyPValue\n:   0.061198773004859McnemarPValue\n:   0.0252390780183252\n\n",
            "text/latex": "\\begin{description*}\n\\item[Accuracy] 0.788732394366197\n\\item[Kappa] 0.450866684066126\n\\item[AccuracyLower] 0.754999915968962\n\\item[AccuracyUpper] 0.819770830430121\n\\item[AccuracyNull] 0.762128325508607\n\\item[AccuracyPValue] 0.061198773004859\n\\item[McnemarPValue] 0.0252390780183252\n\\end{description*}\n",
            "text/plain": [
              "      Accuracy          Kappa  AccuracyLower  AccuracyUpper   AccuracyNull \n",
              "    0.78873239     0.45086668     0.75499992     0.81977083     0.76212833 \n",
              "AccuracyPValue  McnemarPValue \n",
              "    0.06119877     0.02523908 "
            ]
          },
          "metadata": {}
        },
        {
          "output_type": "display_data",
          "data": {
            "text/html": [
              "<style>\n",
              ".dl-inline {width: auto; margin:0; padding: 0}\n",
              ".dl-inline>dt, .dl-inline>dd {float: none; width: auto; display: inline-block}\n",
              ".dl-inline>dt::after {content: \":\\0020\"; padding-right: .5ex}\n",
              ".dl-inline>dt:not(:first-of-type) {padding-left: .5ex}\n",
              "</style><dl class=dl-inline><dt>Sensitivity</dt><dd>0.644736842105263</dd><dt>Specificity</dt><dd>0.833675564681725</dd><dt>Pos Pred Value</dt><dd>0.547486033519553</dd><dt>Neg Pred Value</dt><dd>0.882608695652174</dd><dt>Precision</dt><dd>0.547486033519553</dd><dt>Recall</dt><dd>0.644736842105263</dd><dt>F1</dt><dd>0.59214501510574</dd><dt>Prevalence</dt><dd>0.237871674491393</dd><dt>Detection Rate</dt><dd>0.153364632237872</dd><dt>Detection Prevalence</dt><dd>0.280125195618153</dd><dt>Balanced Accuracy</dt><dd>0.739206203393494</dd></dl>\n"
            ],
            "text/markdown": "Sensitivity\n:   0.644736842105263Specificity\n:   0.833675564681725Pos Pred Value\n:   0.547486033519553Neg Pred Value\n:   0.882608695652174Precision\n:   0.547486033519553Recall\n:   0.644736842105263F1\n:   0.59214501510574Prevalence\n:   0.237871674491393Detection Rate\n:   0.153364632237872Detection Prevalence\n:   0.280125195618153Balanced Accuracy\n:   0.739206203393494\n\n",
            "text/latex": "\\begin{description*}\n\\item[Sensitivity] 0.644736842105263\n\\item[Specificity] 0.833675564681725\n\\item[Pos Pred Value] 0.547486033519553\n\\item[Neg Pred Value] 0.882608695652174\n\\item[Precision] 0.547486033519553\n\\item[Recall] 0.644736842105263\n\\item[F1] 0.59214501510574\n\\item[Prevalence] 0.237871674491393\n\\item[Detection Rate] 0.153364632237872\n\\item[Detection Prevalence] 0.280125195618153\n\\item[Balanced Accuracy] 0.739206203393494\n\\end{description*}\n",
            "text/plain": [
              "         Sensitivity          Specificity       Pos Pred Value \n",
              "           0.6447368            0.8336756            0.5474860 \n",
              "      Neg Pred Value            Precision               Recall \n",
              "           0.8826087            0.5474860            0.6447368 \n",
              "                  F1           Prevalence       Detection Rate \n",
              "           0.5921450            0.2378717            0.1533646 \n",
              "Detection Prevalence    Balanced Accuracy \n",
              "           0.2801252            0.7392062 "
            ]
          },
          "metadata": {}
        }
      ]
    },
    {
      "cell_type": "code",
      "source": [
        "# Desempeño en prueba\n",
        "predmod <- predict(test_pred, cartera.test1, type = \"prob\")\n",
        "pronknn<-ifelse(predmod[,2] > 0.3 ,1, 0)\n",
        "confknn<-confusionMatrix(as.factor(pronknn),\n",
        "                          cartera.test1$retrasos, positive = \"1\")\n",
        "confknn$table\n",
        "confknn$overall\n",
        "confknn$byClass"
      ],
      "metadata": {
        "colab": {
          "base_uri": "https://localhost:8080/",
          "height": 173
        },
        "id": "mUMLU4R8iSBb",
        "outputId": "3eeb2cfb-28de-40b4-ec4b-3c7598eb427c"
      },
      "execution_count": 57,
      "outputs": [
        {
          "output_type": "display_data",
          "data": {
            "text/plain": [
              "          Reference\n",
              "Prediction   0   1\n",
              "         0 138  15\n",
              "         1  34  26"
            ]
          },
          "metadata": {}
        },
        {
          "output_type": "display_data",
          "data": {
            "text/html": [
              "<style>\n",
              ".dl-inline {width: auto; margin:0; padding: 0}\n",
              ".dl-inline>dt, .dl-inline>dd {float: none; width: auto; display: inline-block}\n",
              ".dl-inline>dt::after {content: \":\\0020\"; padding-right: .5ex}\n",
              ".dl-inline>dt:not(:first-of-type) {padding-left: .5ex}\n",
              "</style><dl class=dl-inline><dt>Accuracy</dt><dd>0.769953051643192</dd><dt>Kappa</dt><dd>0.370999819200868</dd><dt>AccuracyLower</dt><dd>0.707528978738232</dd><dt>AccuracyUpper</dt><dd>0.824699590313238</dd><dt>AccuracyNull</dt><dd>0.807511737089202</dd><dt>AccuracyPValue</dt><dd>0.927675511083353</dd><dt>McnemarPValue</dt><dd>0.0101279905493907</dd></dl>\n"
            ],
            "text/markdown": "Accuracy\n:   0.769953051643192Kappa\n:   0.370999819200868AccuracyLower\n:   0.707528978738232AccuracyUpper\n:   0.824699590313238AccuracyNull\n:   0.807511737089202AccuracyPValue\n:   0.927675511083353McnemarPValue\n:   0.0101279905493907\n\n",
            "text/latex": "\\begin{description*}\n\\item[Accuracy] 0.769953051643192\n\\item[Kappa] 0.370999819200868\n\\item[AccuracyLower] 0.707528978738232\n\\item[AccuracyUpper] 0.824699590313238\n\\item[AccuracyNull] 0.807511737089202\n\\item[AccuracyPValue] 0.927675511083353\n\\item[McnemarPValue] 0.0101279905493907\n\\end{description*}\n",
            "text/plain": [
              "      Accuracy          Kappa  AccuracyLower  AccuracyUpper   AccuracyNull \n",
              "    0.76995305     0.37099982     0.70752898     0.82469959     0.80751174 \n",
              "AccuracyPValue  McnemarPValue \n",
              "    0.92767551     0.01012799 "
            ]
          },
          "metadata": {}
        },
        {
          "output_type": "display_data",
          "data": {
            "text/html": [
              "<style>\n",
              ".dl-inline {width: auto; margin:0; padding: 0}\n",
              ".dl-inline>dt, .dl-inline>dd {float: none; width: auto; display: inline-block}\n",
              ".dl-inline>dt::after {content: \":\\0020\"; padding-right: .5ex}\n",
              ".dl-inline>dt:not(:first-of-type) {padding-left: .5ex}\n",
              "</style><dl class=dl-inline><dt>Sensitivity</dt><dd>0.634146341463415</dd><dt>Specificity</dt><dd>0.802325581395349</dd><dt>Pos Pred Value</dt><dd>0.433333333333333</dd><dt>Neg Pred Value</dt><dd>0.901960784313726</dd><dt>Precision</dt><dd>0.433333333333333</dd><dt>Recall</dt><dd>0.634146341463415</dd><dt>F1</dt><dd>0.514851485148515</dd><dt>Prevalence</dt><dd>0.192488262910798</dd><dt>Detection Rate</dt><dd>0.122065727699531</dd><dt>Detection Prevalence</dt><dd>0.28169014084507</dd><dt>Balanced Accuracy</dt><dd>0.718235961429382</dd></dl>\n"
            ],
            "text/markdown": "Sensitivity\n:   0.634146341463415Specificity\n:   0.802325581395349Pos Pred Value\n:   0.433333333333333Neg Pred Value\n:   0.901960784313726Precision\n:   0.433333333333333Recall\n:   0.634146341463415F1\n:   0.514851485148515Prevalence\n:   0.192488262910798Detection Rate\n:   0.122065727699531Detection Prevalence\n:   0.28169014084507Balanced Accuracy\n:   0.718235961429382\n\n",
            "text/latex": "\\begin{description*}\n\\item[Sensitivity] 0.634146341463415\n\\item[Specificity] 0.802325581395349\n\\item[Pos Pred Value] 0.433333333333333\n\\item[Neg Pred Value] 0.901960784313726\n\\item[Precision] 0.433333333333333\n\\item[Recall] 0.634146341463415\n\\item[F1] 0.514851485148515\n\\item[Prevalence] 0.192488262910798\n\\item[Detection Rate] 0.122065727699531\n\\item[Detection Prevalence] 0.28169014084507\n\\item[Balanced Accuracy] 0.718235961429382\n\\end{description*}\n",
            "text/plain": [
              "         Sensitivity          Specificity       Pos Pred Value \n",
              "           0.6341463            0.8023256            0.4333333 \n",
              "      Neg Pred Value            Precision               Recall \n",
              "           0.9019608            0.4333333            0.6341463 \n",
              "                  F1           Prevalence       Detection Rate \n",
              "           0.5148515            0.1924883            0.1220657 \n",
              "Detection Prevalence    Balanced Accuracy \n",
              "           0.2816901            0.7182360 "
            ]
          },
          "metadata": {}
        }
      ]
    },
    {
      "cell_type": "code",
      "source": [
        "# CURVA ROC y AUC.  K = 30\n",
        "\n",
        "#crear objeto de predicciones\n",
        "pr<-prediction(pronknn,cartera.test$retrasos)\n",
        "#creacion del objeto de la curva\n",
        "curvaROC<-performance(pr,measure=\"tpr\",x.measure=\"fpr\")\n",
        "#grafico de la curva\n",
        "plot(curvaROC)\n",
        "\n",
        "#calcular el AUC\n",
        "auc<-performance(pr,measure = \"auc\")\n",
        "auc <- auc@y.values[[1]]\n",
        "#ver el AUC\n",
        "auc"
      ],
      "metadata": {
        "colab": {
          "base_uri": "https://localhost:8080/",
          "height": 454
        },
        "id": "bO-u7RO48C_t",
        "outputId": "16f4d296-891a-47d6-e0b1-5ac3483d5ea5"
      },
      "execution_count": 58,
      "outputs": [
        {
          "output_type": "display_data",
          "data": {
            "text/html": [
              "0.718235961429382"
            ],
            "text/markdown": "0.718235961429382",
            "text/latex": "0.718235961429382",
            "text/plain": [
              "[1] 0.718236"
            ]
          },
          "metadata": {}
        },
        {
          "output_type": "display_data",
          "data": {
            "text/plain": [
              "plot without title"
            ],
            "image/png": "[encoded data removed]"
          },
          "metadata": {
            "image/png": {
              "width": 420,
              "height": 420
            }
          }
        }
      ]
    },
    {
      "cell_type": "markdown",
      "source": [
        "# Balanceo del dataset de entrenamiento con SMOTE"
      ],
      "metadata": {
        "id": "sp-Wbvx4iy5S"
      }
    },
    {
      "cell_type": "code",
      "source": [
        "remotes::install_github(\"cran/DMwR\")\n",
        "library(DMwR)"
      ],
      "metadata": {
        "colab": {
          "base_uri": "https://localhost:8080/"
        },
        "id": "zN-YYbqujcS0",
        "outputId": "8f816f3e-9eef-43f8-f300-3a47da8be480"
      },
      "execution_count": 31,
      "outputs": [
        {
          "output_type": "stream",
          "name": "stderr",
          "text": [
            "Downloading GitHub repo cran/DMwR@HEAD\n",
            "\n"
          ]
        },
        {
          "output_type": "stream",
          "name": "stdout",
          "text": [
            "zoo      (NA -> 1.8-12) [CRAN]\n",
            "xts      (NA -> 0.14.0) [CRAN]\n",
            "TTR      (NA -> 0.24.4) [CRAN]\n",
            "abind    (NA -> 1.4-5 ) [CRAN]\n",
            "quantmod (NA -> 0.4.26) [CRAN]\n"
          ]
        },
        {
          "output_type": "stream",
          "name": "stderr",
          "text": [
            "Installing 5 packages: zoo, xts, TTR, abind, quantmod\n",
            "\n",
            "Installing packages into ‘/usr/local/lib/R/site-library’\n",
            "(as ‘lib’ is unspecified)\n",
            "\n"
          ]
        },
        {
          "output_type": "stream",
          "name": "stdout",
          "text": [
            "\u001b[36m──\u001b[39m \u001b[36mR CMD build\u001b[39m \u001b[36m─────────────────────────────────────────────────────────────────\u001b[39m\n",
            "* checking for file ‘/tmp/RtmpN83TXC/remotes2a4420dab36/cran-DMwR-6fd4f0c/DESCRIPTION’ ... OK\n",
            "* preparing ‘DMwR’:\n",
            "* checking DESCRIPTION meta-information ... OK\n",
            "* checking for LF line-endings in source and make files and shell scripts\n",
            "* checking for empty or unneeded directories\n",
            "* building ‘DMwR_0.4.1.tar.gz’\n",
            "\n"
          ]
        },
        {
          "output_type": "stream",
          "name": "stderr",
          "text": [
            "Installing package into ‘/usr/local/lib/R/site-library’\n",
            "(as ‘lib’ is unspecified)\n",
            "\n",
            "Loading required package: grid\n",
            "\n",
            "Registered S3 method overwritten by 'quantmod':\n",
            "  method            from\n",
            "  as.zoo.data.frame zoo \n",
            "\n"
          ]
        }
      ]
    },
    {
      "cell_type": "code",
      "source": [
        "#utilizar SMOTE para crear un nuevo conjunto de datos más equilibrado\n",
        "cartera.train2 <- SMOTE(retrasos~., as.data.frame(cartera.train1), perc.over = 200, perc.under = 150)\n",
        "#ver la distribución de la variable de respuesta en el nuevo conjunto de datos\n",
        "table(cartera.train2$retrasos)"
      ],
      "metadata": {
        "colab": {
          "base_uri": "https://localhost:8080/",
          "height": 69
        },
        "id": "RsrGceMvjNdL",
        "outputId": "bacb17b3-4201-4ba0-a603-3d8271e320e5"
      },
      "execution_count": 32,
      "outputs": [
        {
          "output_type": "display_data",
          "data": {
            "text/plain": [
              "\n",
              "  0   1 \n",
              "456 456 "
            ]
          },
          "metadata": {}
        }
      ]
    },
    {
      "cell_type": "code",
      "source": [
        "# MODELO SMOTE CON K = 5\n",
        "set.seed(1)\n",
        "test_pred = knn3(retrasos~., data=cartera.train2, k = 5)"
      ],
      "metadata": {
        "id": "7lFS9eeyjNky"
      },
      "execution_count": 71,
      "outputs": []
    },
    {
      "cell_type": "code",
      "source": [
        "# Desempeño en entrenamiento. SMOTE K = 5\n",
        "predmod <- predict(test_pred, cartera.train2, type = \"prob\")\n",
        "pronknn<-ifelse(predmod[,2] > 0.5 ,1, 0)\n",
        "confknn<-confusionMatrix(as.factor(pronknn),\n",
        "                          cartera.train2$retrasos, positive = \"1\")\n",
        "confknn$table\n",
        "confknn$overall\n",
        "confknn1$byClass"
      ],
      "metadata": {
        "colab": {
          "base_uri": "https://localhost:8080/",
          "height": 173
        },
        "id": "s-8Bb4sK8pLL",
        "outputId": "74db20f6-44ea-4acd-8a18-5bf1c60b818f"
      },
      "execution_count": 72,
      "outputs": [
        {
          "output_type": "display_data",
          "data": {
            "text/plain": [
              "          Reference\n",
              "Prediction   0   1\n",
              "         0 370  29\n",
              "         1  86 427"
            ]
          },
          "metadata": {}
        },
        {
          "output_type": "display_data",
          "data": {
            "text/html": [
              "<style>\n",
              ".dl-inline {width: auto; margin:0; padding: 0}\n",
              ".dl-inline>dt, .dl-inline>dd {float: none; width: auto; display: inline-block}\n",
              ".dl-inline>dt::after {content: \":\\0020\"; padding-right: .5ex}\n",
              ".dl-inline>dt:not(:first-of-type) {padding-left: .5ex}\n",
              "</style><dl class=dl-inline><dt>Accuracy</dt><dd>0.87390350877193</dd><dt>Kappa</dt><dd>0.74780701754386</dd><dt>AccuracyLower</dt><dd>0.850597672258685</dd><dt>AccuracyUpper</dt><dd>0.894761076802139</dd><dt>AccuracyNull</dt><dd>0.5</dd><dt>AccuracyPValue</dt><dd>1.58625162688651e-126</dd><dt>McnemarPValue</dt><dd>1.76975227858479e-07</dd></dl>\n"
            ],
            "text/markdown": "Accuracy\n:   0.87390350877193Kappa\n:   0.74780701754386AccuracyLower\n:   0.850597672258685AccuracyUpper\n:   0.894761076802139AccuracyNull\n:   0.5AccuracyPValue\n:   1.58625162688651e-126McnemarPValue\n:   1.76975227858479e-07\n\n",
            "text/latex": "\\begin{description*}\n\\item[Accuracy] 0.87390350877193\n\\item[Kappa] 0.74780701754386\n\\item[AccuracyLower] 0.850597672258685\n\\item[AccuracyUpper] 0.894761076802139\n\\item[AccuracyNull] 0.5\n\\item[AccuracyPValue] 1.58625162688651e-126\n\\item[McnemarPValue] 1.76975227858479e-07\n\\end{description*}\n",
            "text/plain": [
              "      Accuracy          Kappa  AccuracyLower  AccuracyUpper   AccuracyNull \n",
              "  8.739035e-01   7.478070e-01   8.505977e-01   8.947611e-01   5.000000e-01 \n",
              "AccuracyPValue  McnemarPValue \n",
              " 1.586252e-126   1.769752e-07 "
            ]
          },
          "metadata": {}
        },
        {
          "output_type": "display_data",
          "data": {
            "text/html": [
              "<style>\n",
              ".dl-inline {width: auto; margin:0; padding: 0}\n",
              ".dl-inline>dt, .dl-inline>dd {float: none; width: auto; display: inline-block}\n",
              ".dl-inline>dt::after {content: \":\\0020\"; padding-right: .5ex}\n",
              ".dl-inline>dt:not(:first-of-type) {padding-left: .5ex}\n",
              "</style><dl class=dl-inline><dt>Sensitivity</dt><dd>0.634146341463415</dd><dt>Specificity</dt><dd>0.802325581395349</dd><dt>Pos Pred Value</dt><dd>0.433333333333333</dd><dt>Neg Pred Value</dt><dd>0.901960784313726</dd><dt>Precision</dt><dd>0.433333333333333</dd><dt>Recall</dt><dd>0.634146341463415</dd><dt>F1</dt><dd>0.514851485148515</dd><dt>Prevalence</dt><dd>0.192488262910798</dd><dt>Detection Rate</dt><dd>0.122065727699531</dd><dt>Detection Prevalence</dt><dd>0.28169014084507</dd><dt>Balanced Accuracy</dt><dd>0.718235961429382</dd></dl>\n"
            ],
            "text/markdown": "Sensitivity\n:   0.634146341463415Specificity\n:   0.802325581395349Pos Pred Value\n:   0.433333333333333Neg Pred Value\n:   0.901960784313726Precision\n:   0.433333333333333Recall\n:   0.634146341463415F1\n:   0.514851485148515Prevalence\n:   0.192488262910798Detection Rate\n:   0.122065727699531Detection Prevalence\n:   0.28169014084507Balanced Accuracy\n:   0.718235961429382\n\n",
            "text/latex": "\\begin{description*}\n\\item[Sensitivity] 0.634146341463415\n\\item[Specificity] 0.802325581395349\n\\item[Pos Pred Value] 0.433333333333333\n\\item[Neg Pred Value] 0.901960784313726\n\\item[Precision] 0.433333333333333\n\\item[Recall] 0.634146341463415\n\\item[F1] 0.514851485148515\n\\item[Prevalence] 0.192488262910798\n\\item[Detection Rate] 0.122065727699531\n\\item[Detection Prevalence] 0.28169014084507\n\\item[Balanced Accuracy] 0.718235961429382\n\\end{description*}\n",
            "text/plain": [
              "         Sensitivity          Specificity       Pos Pred Value \n",
              "           0.6341463            0.8023256            0.4333333 \n",
              "      Neg Pred Value            Precision               Recall \n",
              "           0.9019608            0.4333333            0.6341463 \n",
              "                  F1           Prevalence       Detection Rate \n",
              "           0.5148515            0.1924883            0.1220657 \n",
              "Detection Prevalence    Balanced Accuracy \n",
              "           0.2816901            0.7182360 "
            ]
          },
          "metadata": {}
        }
      ]
    },
    {
      "cell_type": "code",
      "source": [
        "# Desempeño en prueba. SMOTE K = 5\n",
        "predmod <- predict(test_pred, cartera.test1, type = \"prob\")\n",
        "pronknn<-ifelse(predmod[,2] > 0.5 ,1, 0)\n",
        "confknn<-confusionMatrix(as.factor(pronknn),\n",
        "                          cartera.test1$retrasos, positive = \"1\")\n",
        "confknn$table\n",
        "confknn$overall\n",
        "confknn$byClass"
      ],
      "metadata": {
        "colab": {
          "base_uri": "https://localhost:8080/",
          "height": 173
        },
        "id": "WFDiBzVV9SmR",
        "outputId": "47f51c04-8c84-4739-8d59-da21409f0660"
      },
      "execution_count": 73,
      "outputs": [
        {
          "output_type": "display_data",
          "data": {
            "text/plain": [
              "          Reference\n",
              "Prediction   0   1\n",
              "         0 121  15\n",
              "         1  51  26"
            ]
          },
          "metadata": {}
        },
        {
          "output_type": "display_data",
          "data": {
            "text/html": [
              "<style>\n",
              ".dl-inline {width: auto; margin:0; padding: 0}\n",
              ".dl-inline>dt, .dl-inline>dd {float: none; width: auto; display: inline-block}\n",
              ".dl-inline>dt::after {content: \":\\0020\"; padding-right: .5ex}\n",
              ".dl-inline>dt:not(:first-of-type) {padding-left: .5ex}\n",
              "</style><dl class=dl-inline><dt>Accuracy</dt><dd>0.690140845070423</dd><dt>Kappa</dt><dd>0.253028692879915</dd><dt>AccuracyLower</dt><dd>0.623350704632511</dd><dt>AccuracyUpper</dt><dd>0.751547319916639</dd><dt>AccuracyNull</dt><dd>0.807511737089202</dd><dt>AccuracyPValue</dt><dd>0.999985114373841</dd><dt>McnemarPValue</dt><dd>1.64586900604993e-05</dd></dl>\n"
            ],
            "text/markdown": "Accuracy\n:   0.690140845070423Kappa\n:   0.253028692879915AccuracyLower\n:   0.623350704632511AccuracyUpper\n:   0.751547319916639AccuracyNull\n:   0.807511737089202AccuracyPValue\n:   0.999985114373841McnemarPValue\n:   1.64586900604993e-05\n\n",
            "text/latex": "\\begin{description*}\n\\item[Accuracy] 0.690140845070423\n\\item[Kappa] 0.253028692879915\n\\item[AccuracyLower] 0.623350704632511\n\\item[AccuracyUpper] 0.751547319916639\n\\item[AccuracyNull] 0.807511737089202\n\\item[AccuracyPValue] 0.999985114373841\n\\item[McnemarPValue] 1.64586900604993e-05\n\\end{description*}\n",
            "text/plain": [
              "      Accuracy          Kappa  AccuracyLower  AccuracyUpper   AccuracyNull \n",
              "  6.901408e-01   2.530287e-01   6.233507e-01   7.515473e-01   8.075117e-01 \n",
              "AccuracyPValue  McnemarPValue \n",
              "  9.999851e-01   1.645869e-05 "
            ]
          },
          "metadata": {}
        },
        {
          "output_type": "display_data",
          "data": {
            "text/html": [
              "<style>\n",
              ".dl-inline {width: auto; margin:0; padding: 0}\n",
              ".dl-inline>dt, .dl-inline>dd {float: none; width: auto; display: inline-block}\n",
              ".dl-inline>dt::after {content: \":\\0020\"; padding-right: .5ex}\n",
              ".dl-inline>dt:not(:first-of-type) {padding-left: .5ex}\n",
              "</style><dl class=dl-inline><dt>Sensitivity</dt><dd>0.634146341463415</dd><dt>Specificity</dt><dd>0.703488372093023</dd><dt>Pos Pred Value</dt><dd>0.337662337662338</dd><dt>Neg Pred Value</dt><dd>0.889705882352941</dd><dt>Precision</dt><dd>0.337662337662338</dd><dt>Recall</dt><dd>0.634146341463415</dd><dt>F1</dt><dd>0.440677966101695</dd><dt>Prevalence</dt><dd>0.192488262910798</dd><dt>Detection Rate</dt><dd>0.122065727699531</dd><dt>Detection Prevalence</dt><dd>0.36150234741784</dd><dt>Balanced Accuracy</dt><dd>0.668817356778219</dd></dl>\n"
            ],
            "text/markdown": "Sensitivity\n:   0.634146341463415Specificity\n:   0.703488372093023Pos Pred Value\n:   0.337662337662338Neg Pred Value\n:   0.889705882352941Precision\n:   0.337662337662338Recall\n:   0.634146341463415F1\n:   0.440677966101695Prevalence\n:   0.192488262910798Detection Rate\n:   0.122065727699531Detection Prevalence\n:   0.36150234741784Balanced Accuracy\n:   0.668817356778219\n\n",
            "text/latex": "\\begin{description*}\n\\item[Sensitivity] 0.634146341463415\n\\item[Specificity] 0.703488372093023\n\\item[Pos Pred Value] 0.337662337662338\n\\item[Neg Pred Value] 0.889705882352941\n\\item[Precision] 0.337662337662338\n\\item[Recall] 0.634146341463415\n\\item[F1] 0.440677966101695\n\\item[Prevalence] 0.192488262910798\n\\item[Detection Rate] 0.122065727699531\n\\item[Detection Prevalence] 0.36150234741784\n\\item[Balanced Accuracy] 0.668817356778219\n\\end{description*}\n",
            "text/plain": [
              "         Sensitivity          Specificity       Pos Pred Value \n",
              "           0.6341463            0.7034884            0.3376623 \n",
              "      Neg Pred Value            Precision               Recall \n",
              "           0.8897059            0.3376623            0.6341463 \n",
              "                  F1           Prevalence       Detection Rate \n",
              "           0.4406780            0.1924883            0.1220657 \n",
              "Detection Prevalence    Balanced Accuracy \n",
              "           0.3615023            0.6688174 "
            ]
          },
          "metadata": {}
        }
      ]
    },
    {
      "cell_type": "code",
      "source": [
        "# CURVA ROC y AUC.  SMOTE K = 5\n",
        "\n",
        "#crear objeto de predicciones\n",
        "pr<-prediction(pronknn,cartera.test1$retrasos)\n",
        "#creacion del objeto de la curva\n",
        "curvaROC<-performance(pr,measure=\"tpr\",x.measure=\"fpr\")\n",
        "#grafico de la curva\n",
        "plot(curvaROC)\n",
        "\n",
        "#calcular el AUC\n",
        "auc<-performance(pr,measure = \"auc\")\n",
        "auc <- auc@y.values[[1]]\n",
        "#ver el AUC\n",
        "auc"
      ],
      "metadata": {
        "colab": {
          "base_uri": "https://localhost:8080/",
          "height": 454
        },
        "id": "AA4AuJie9jnt",
        "outputId": "1fd2198a-9ee8-4c62-e924-9e75ba8ce289"
      },
      "execution_count": 74,
      "outputs": [
        {
          "output_type": "display_data",
          "data": {
            "text/html": [
              "0.668817356778219"
            ],
            "text/markdown": "0.668817356778219",
            "text/latex": "0.668817356778219",
            "text/plain": [
              "[1] 0.6688174"
            ]
          },
          "metadata": {}
        },
        {
          "output_type": "display_data",
          "data": {
            "text/plain": [
              "plot without title"
            ],
            "image/png": "[encoded data removed]"
          },
          "metadata": {
            "image/png": {
              "width": 420,
              "height": 420
            }
          }
        }
      ]
    },
    {
      "cell_type": "code",
      "source": [
        "# MODELO SMOTE CON K = 17\n",
        "set.seed(1)\n",
        "test_pred = knn3(retrasos~., data=cartera.train2, k = 17)"
      ],
      "metadata": {
        "id": "BZerJExA9jq0"
      },
      "execution_count": 75,
      "outputs": []
    },
    {
      "cell_type": "code",
      "source": [
        "# Desempeño en entrenamiento. SMOTE K = 17\n",
        "predmod <- predict(test_pred, cartera.train2, type = \"prob\")\n",
        "pronknn<-ifelse(predmod[,2] > 0.5 ,1, 0)\n",
        "confknn<-confusionMatrix(as.factor(pronknn),\n",
        "                          cartera.train2$retrasos, positive = \"1\")\n",
        "confknn$table\n",
        "confknn$overall\n",
        "confknn$byClass"
      ],
      "metadata": {
        "colab": {
          "base_uri": "https://localhost:8080/",
          "height": 173
        },
        "id": "eFvC9hCg9jtr",
        "outputId": "b4fda5a4-7f19-43b2-ee0b-3d1be367fb1e"
      },
      "execution_count": 76,
      "outputs": [
        {
          "output_type": "display_data",
          "data": {
            "text/plain": [
              "          Reference\n",
              "Prediction   0   1\n",
              "         0 319  64\n",
              "         1 137 392"
            ]
          },
          "metadata": {}
        },
        {
          "output_type": "display_data",
          "data": {
            "text/html": [
              "<style>\n",
              ".dl-inline {width: auto; margin:0; padding: 0}\n",
              ".dl-inline>dt, .dl-inline>dd {float: none; width: auto; display: inline-block}\n",
              ".dl-inline>dt::after {content: \":\\0020\"; padding-right: .5ex}\n",
              ".dl-inline>dt:not(:first-of-type) {padding-left: .5ex}\n",
              "</style><dl class=dl-inline><dt>Accuracy</dt><dd>0.779605263157895</dd><dt>Kappa</dt><dd>0.559210526315789</dd><dt>AccuracyLower</dt><dd>0.751273864467809</dd><dt>AccuracyUpper</dt><dd>0.806117414475027</dd><dt>AccuracyNull</dt><dd>0.5</dd><dt>AccuracyPValue</dt><dd>1.00244571617614e-67</dd><dt>McnemarPValue</dt><dd>3.80449587653058e-07</dd></dl>\n"
            ],
            "text/markdown": "Accuracy\n:   0.779605263157895Kappa\n:   0.559210526315789AccuracyLower\n:   0.751273864467809AccuracyUpper\n:   0.806117414475027AccuracyNull\n:   0.5AccuracyPValue\n:   1.00244571617614e-67McnemarPValue\n:   3.80449587653058e-07\n\n",
            "text/latex": "\\begin{description*}\n\\item[Accuracy] 0.779605263157895\n\\item[Kappa] 0.559210526315789\n\\item[AccuracyLower] 0.751273864467809\n\\item[AccuracyUpper] 0.806117414475027\n\\item[AccuracyNull] 0.5\n\\item[AccuracyPValue] 1.00244571617614e-67\n\\item[McnemarPValue] 3.80449587653058e-07\n\\end{description*}\n",
            "text/plain": [
              "      Accuracy          Kappa  AccuracyLower  AccuracyUpper   AccuracyNull \n",
              "  7.796053e-01   5.592105e-01   7.512739e-01   8.061174e-01   5.000000e-01 \n",
              "AccuracyPValue  McnemarPValue \n",
              "  1.002446e-67   3.804496e-07 "
            ]
          },
          "metadata": {}
        },
        {
          "output_type": "display_data",
          "data": {
            "text/html": [
              "<style>\n",
              ".dl-inline {width: auto; margin:0; padding: 0}\n",
              ".dl-inline>dt, .dl-inline>dd {float: none; width: auto; display: inline-block}\n",
              ".dl-inline>dt::after {content: \":\\0020\"; padding-right: .5ex}\n",
              ".dl-inline>dt:not(:first-of-type) {padding-left: .5ex}\n",
              "</style><dl class=dl-inline><dt>Sensitivity</dt><dd>0.859649122807018</dd><dt>Specificity</dt><dd>0.699561403508772</dd><dt>Pos Pred Value</dt><dd>0.741020793950851</dd><dt>Neg Pred Value</dt><dd>0.83289817232376</dd><dt>Precision</dt><dd>0.741020793950851</dd><dt>Recall</dt><dd>0.859649122807018</dd><dt>F1</dt><dd>0.795939086294416</dd><dt>Prevalence</dt><dd>0.5</dd><dt>Detection Rate</dt><dd>0.429824561403509</dd><dt>Detection Prevalence</dt><dd>0.580043859649123</dd><dt>Balanced Accuracy</dt><dd>0.779605263157895</dd></dl>\n"
            ],
            "text/markdown": "Sensitivity\n:   0.859649122807018Specificity\n:   0.699561403508772Pos Pred Value\n:   0.741020793950851Neg Pred Value\n:   0.83289817232376Precision\n:   0.741020793950851Recall\n:   0.859649122807018F1\n:   0.795939086294416Prevalence\n:   0.5Detection Rate\n:   0.429824561403509Detection Prevalence\n:   0.580043859649123Balanced Accuracy\n:   0.779605263157895\n\n",
            "text/latex": "\\begin{description*}\n\\item[Sensitivity] 0.859649122807018\n\\item[Specificity] 0.699561403508772\n\\item[Pos Pred Value] 0.741020793950851\n\\item[Neg Pred Value] 0.83289817232376\n\\item[Precision] 0.741020793950851\n\\item[Recall] 0.859649122807018\n\\item[F1] 0.795939086294416\n\\item[Prevalence] 0.5\n\\item[Detection Rate] 0.429824561403509\n\\item[Detection Prevalence] 0.580043859649123\n\\item[Balanced Accuracy] 0.779605263157895\n\\end{description*}\n",
            "text/plain": [
              "         Sensitivity          Specificity       Pos Pred Value \n",
              "           0.8596491            0.6995614            0.7410208 \n",
              "      Neg Pred Value            Precision               Recall \n",
              "           0.8328982            0.7410208            0.8596491 \n",
              "                  F1           Prevalence       Detection Rate \n",
              "           0.7959391            0.5000000            0.4298246 \n",
              "Detection Prevalence    Balanced Accuracy \n",
              "           0.5800439            0.7796053 "
            ]
          },
          "metadata": {}
        }
      ]
    },
    {
      "cell_type": "code",
      "source": [
        "# Desempeño en prueba. SMOTE K = 17\n",
        "predmod <- predict(test_pred, cartera.test1, type = \"prob\")\n",
        "pronknn<-ifelse(predmod[,2] > 0.5 ,1, 0)\n",
        "confknn<-confusionMatrix(as.factor(pronknn),\n",
        "                          cartera.test1$retrasos, positive = \"1\")\n",
        "confknn$table\n",
        "confknn$overall\n",
        "confknn$byClass"
      ],
      "metadata": {
        "colab": {
          "base_uri": "https://localhost:8080/",
          "height": 173
        },
        "id": "9qV3AiC2DtnB",
        "outputId": "1e7ffbe6-747d-41fe-e53f-c41ebe7e704a"
      },
      "execution_count": 77,
      "outputs": [
        {
          "output_type": "display_data",
          "data": {
            "text/plain": [
              "          Reference\n",
              "Prediction   0   1\n",
              "         0 125   9\n",
              "         1  47  32"
            ]
          },
          "metadata": {}
        },
        {
          "output_type": "display_data",
          "data": {
            "text/html": [
              "<style>\n",
              ".dl-inline {width: auto; margin:0; padding: 0}\n",
              ".dl-inline>dt, .dl-inline>dd {float: none; width: auto; display: inline-block}\n",
              ".dl-inline>dt::after {content: \":\\0020\"; padding-right: .5ex}\n",
              ".dl-inline>dt:not(:first-of-type) {padding-left: .5ex}\n",
              "</style><dl class=dl-inline><dt>Accuracy</dt><dd>0.737089201877934</dd><dt>Kappa</dt><dd>0.374908290535583</dd><dt>AccuracyLower</dt><dd>0.672574002711629</dd><dt>AccuracyUpper</dt><dd>0.794876125211968</dd><dt>AccuracyNull</dt><dd>0.807511737089202</dd><dt>AccuracyPValue</dt><dd>0.99533907649589</dd><dt>McnemarPValue</dt><dd>7.6405015290119e-07</dd></dl>\n"
            ],
            "text/markdown": "Accuracy\n:   0.737089201877934Kappa\n:   0.374908290535583AccuracyLower\n:   0.672574002711629AccuracyUpper\n:   0.794876125211968AccuracyNull\n:   0.807511737089202AccuracyPValue\n:   0.99533907649589McnemarPValue\n:   7.6405015290119e-07\n\n",
            "text/latex": "\\begin{description*}\n\\item[Accuracy] 0.737089201877934\n\\item[Kappa] 0.374908290535583\n\\item[AccuracyLower] 0.672574002711629\n\\item[AccuracyUpper] 0.794876125211968\n\\item[AccuracyNull] 0.807511737089202\n\\item[AccuracyPValue] 0.99533907649589\n\\item[McnemarPValue] 7.6405015290119e-07\n\\end{description*}\n",
            "text/plain": [
              "      Accuracy          Kappa  AccuracyLower  AccuracyUpper   AccuracyNull \n",
              "  7.370892e-01   3.749083e-01   6.725740e-01   7.948761e-01   8.075117e-01 \n",
              "AccuracyPValue  McnemarPValue \n",
              "  9.953391e-01   7.640502e-07 "
            ]
          },
          "metadata": {}
        },
        {
          "output_type": "display_data",
          "data": {
            "text/html": [
              "<style>\n",
              ".dl-inline {width: auto; margin:0; padding: 0}\n",
              ".dl-inline>dt, .dl-inline>dd {float: none; width: auto; display: inline-block}\n",
              ".dl-inline>dt::after {content: \":\\0020\"; padding-right: .5ex}\n",
              ".dl-inline>dt:not(:first-of-type) {padding-left: .5ex}\n",
              "</style><dl class=dl-inline><dt>Sensitivity</dt><dd>0.780487804878049</dd><dt>Specificity</dt><dd>0.726744186046512</dd><dt>Pos Pred Value</dt><dd>0.40506329113924</dd><dt>Neg Pred Value</dt><dd>0.932835820895522</dd><dt>Precision</dt><dd>0.40506329113924</dd><dt>Recall</dt><dd>0.780487804878049</dd><dt>F1</dt><dd>0.533333333333333</dd><dt>Prevalence</dt><dd>0.192488262910798</dd><dt>Detection Rate</dt><dd>0.150234741784038</dd><dt>Detection Prevalence</dt><dd>0.370892018779343</dd><dt>Balanced Accuracy</dt><dd>0.75361599546228</dd></dl>\n"
            ],
            "text/markdown": "Sensitivity\n:   0.780487804878049Specificity\n:   0.726744186046512Pos Pred Value\n:   0.40506329113924Neg Pred Value\n:   0.932835820895522Precision\n:   0.40506329113924Recall\n:   0.780487804878049F1\n:   0.533333333333333Prevalence\n:   0.192488262910798Detection Rate\n:   0.150234741784038Detection Prevalence\n:   0.370892018779343Balanced Accuracy\n:   0.75361599546228\n\n",
            "text/latex": "\\begin{description*}\n\\item[Sensitivity] 0.780487804878049\n\\item[Specificity] 0.726744186046512\n\\item[Pos Pred Value] 0.40506329113924\n\\item[Neg Pred Value] 0.932835820895522\n\\item[Precision] 0.40506329113924\n\\item[Recall] 0.780487804878049\n\\item[F1] 0.533333333333333\n\\item[Prevalence] 0.192488262910798\n\\item[Detection Rate] 0.150234741784038\n\\item[Detection Prevalence] 0.370892018779343\n\\item[Balanced Accuracy] 0.75361599546228\n\\end{description*}\n",
            "text/plain": [
              "         Sensitivity          Specificity       Pos Pred Value \n",
              "           0.7804878            0.7267442            0.4050633 \n",
              "      Neg Pred Value            Precision               Recall \n",
              "           0.9328358            0.4050633            0.7804878 \n",
              "                  F1           Prevalence       Detection Rate \n",
              "           0.5333333            0.1924883            0.1502347 \n",
              "Detection Prevalence    Balanced Accuracy \n",
              "           0.3708920            0.7536160 "
            ]
          },
          "metadata": {}
        }
      ]
    },
    {
      "cell_type": "code",
      "source": [
        "# CURVA ROC y AUC.  SMOTE K = 17\n",
        "\n",
        "#crear objeto de predicciones\n",
        "pr<-prediction(pronknn,cartera.test1$retrasos)\n",
        "#creacion del objeto de la curva\n",
        "curvaROC<-performance(pr,measure=\"tpr\",x.measure=\"fpr\")\n",
        "#grafico de la curva\n",
        "plot(curvaROC)\n",
        "\n",
        "#calcular el AUC\n",
        "auc<-performance(pr,measure = \"auc\")\n",
        "auc <- auc@y.values[[1]]\n",
        "#ver el AUC\n",
        "auc"
      ],
      "metadata": {
        "colab": {
          "base_uri": "https://localhost:8080/",
          "height": 454
        },
        "id": "zhd4zmy4D06Y",
        "outputId": "fd517940-3e05-4cfa-975a-03f3049679af"
      },
      "execution_count": 78,
      "outputs": [
        {
          "output_type": "display_data",
          "data": {
            "text/html": [
              "0.75361599546228"
            ],
            "text/markdown": "0.75361599546228",
            "text/latex": "0.75361599546228",
            "text/plain": [
              "[1] 0.753616"
            ]
          },
          "metadata": {}
        },
        {
          "output_type": "display_data",
          "data": {
            "text/plain": [
              "plot without title"
            ],
            "image/png": "[encoded data removed]"
          },
          "metadata": {
            "image/png": {
              "width": 420,
              "height": 420
            }
          }
        }
      ]
    },
    {
      "cell_type": "code",
      "source": [
        "# MODELO SMOTE CON K = 30\n",
        "set.seed(1)\n",
        "test_pred = knn3(retrasos~., data=cartera.train2, k = 30)"
      ],
      "metadata": {
        "id": "D2XowA4KDip5"
      },
      "execution_count": 79,
      "outputs": []
    },
    {
      "cell_type": "code",
      "source": [
        "# Desempeño en entrenamiento. SMOTE K = 30\n",
        "predmod <- predict(test_pred, cartera.train2, type = \"prob\")\n",
        "pronknn<-ifelse(predmod[,2] > 0.5 ,1, 0)\n",
        "confknn<-confusionMatrix(as.factor(pronknn),\n",
        "                          cartera.train2$retrasos, positive = \"1\")\n",
        "confknn$table\n",
        "confknn$overall\n",
        "confknn$byClass"
      ],
      "metadata": {
        "colab": {
          "base_uri": "https://localhost:8080/",
          "height": 173
        },
        "id": "9pog3-A9Efg7",
        "outputId": "e6f3e143-65bb-497a-ed38-7d1e508c5204"
      },
      "execution_count": 80,
      "outputs": [
        {
          "output_type": "display_data",
          "data": {
            "text/plain": [
              "          Reference\n",
              "Prediction   0   1\n",
              "         0 334  94\n",
              "         1 122 362"
            ]
          },
          "metadata": {}
        },
        {
          "output_type": "display_data",
          "data": {
            "text/html": [
              "<style>\n",
              ".dl-inline {width: auto; margin:0; padding: 0}\n",
              ".dl-inline>dt, .dl-inline>dd {float: none; width: auto; display: inline-block}\n",
              ".dl-inline>dt::after {content: \":\\0020\"; padding-right: .5ex}\n",
              ".dl-inline>dt:not(:first-of-type) {padding-left: .5ex}\n",
              "</style><dl class=dl-inline><dt>Accuracy</dt><dd>0.763157894736842</dd><dt>Kappa</dt><dd>0.526315789473684</dd><dt>AccuracyLower</dt><dd>0.734192641971947</dd><dt>AccuracyUpper</dt><dd>0.790412014046309</dd><dt>AccuracyNull</dt><dd>0.5</dd><dt>AccuracyPValue</dt><dd>8.52420839241651e-60</dd><dt>McnemarPValue</dt><dd>0.0661925797221934</dd></dl>\n"
            ],
            "text/markdown": "Accuracy\n:   0.763157894736842Kappa\n:   0.526315789473684AccuracyLower\n:   0.734192641971947AccuracyUpper\n:   0.790412014046309AccuracyNull\n:   0.5AccuracyPValue\n:   8.52420839241651e-60McnemarPValue\n:   0.0661925797221934\n\n",
            "text/latex": "\\begin{description*}\n\\item[Accuracy] 0.763157894736842\n\\item[Kappa] 0.526315789473684\n\\item[AccuracyLower] 0.734192641971947\n\\item[AccuracyUpper] 0.790412014046309\n\\item[AccuracyNull] 0.5\n\\item[AccuracyPValue] 8.52420839241651e-60\n\\item[McnemarPValue] 0.0661925797221934\n\\end{description*}\n",
            "text/plain": [
              "      Accuracy          Kappa  AccuracyLower  AccuracyUpper   AccuracyNull \n",
              "  7.631579e-01   5.263158e-01   7.341926e-01   7.904120e-01   5.000000e-01 \n",
              "AccuracyPValue  McnemarPValue \n",
              "  8.524208e-60   6.619258e-02 "
            ]
          },
          "metadata": {}
        },
        {
          "output_type": "display_data",
          "data": {
            "text/html": [
              "<style>\n",
              ".dl-inline {width: auto; margin:0; padding: 0}\n",
              ".dl-inline>dt, .dl-inline>dd {float: none; width: auto; display: inline-block}\n",
              ".dl-inline>dt::after {content: \":\\0020\"; padding-right: .5ex}\n",
              ".dl-inline>dt:not(:first-of-type) {padding-left: .5ex}\n",
              "</style><dl class=dl-inline><dt>Sensitivity</dt><dd>0.793859649122807</dd><dt>Specificity</dt><dd>0.732456140350877</dd><dt>Pos Pred Value</dt><dd>0.747933884297521</dd><dt>Neg Pred Value</dt><dd>0.780373831775701</dd><dt>Precision</dt><dd>0.747933884297521</dd><dt>Recall</dt><dd>0.793859649122807</dd><dt>F1</dt><dd>0.770212765957447</dd><dt>Prevalence</dt><dd>0.5</dd><dt>Detection Rate</dt><dd>0.396929824561404</dd><dt>Detection Prevalence</dt><dd>0.530701754385965</dd><dt>Balanced Accuracy</dt><dd>0.763157894736842</dd></dl>\n"
            ],
            "text/markdown": "Sensitivity\n:   0.793859649122807Specificity\n:   0.732456140350877Pos Pred Value\n:   0.747933884297521Neg Pred Value\n:   0.780373831775701Precision\n:   0.747933884297521Recall\n:   0.793859649122807F1\n:   0.770212765957447Prevalence\n:   0.5Detection Rate\n:   0.396929824561404Detection Prevalence\n:   0.530701754385965Balanced Accuracy\n:   0.763157894736842\n\n",
            "text/latex": "\\begin{description*}\n\\item[Sensitivity] 0.793859649122807\n\\item[Specificity] 0.732456140350877\n\\item[Pos Pred Value] 0.747933884297521\n\\item[Neg Pred Value] 0.780373831775701\n\\item[Precision] 0.747933884297521\n\\item[Recall] 0.793859649122807\n\\item[F1] 0.770212765957447\n\\item[Prevalence] 0.5\n\\item[Detection Rate] 0.396929824561404\n\\item[Detection Prevalence] 0.530701754385965\n\\item[Balanced Accuracy] 0.763157894736842\n\\end{description*}\n",
            "text/plain": [
              "         Sensitivity          Specificity       Pos Pred Value \n",
              "           0.7938596            0.7324561            0.7479339 \n",
              "      Neg Pred Value            Precision               Recall \n",
              "           0.7803738            0.7479339            0.7938596 \n",
              "                  F1           Prevalence       Detection Rate \n",
              "           0.7702128            0.5000000            0.3969298 \n",
              "Detection Prevalence    Balanced Accuracy \n",
              "           0.5307018            0.7631579 "
            ]
          },
          "metadata": {}
        }
      ]
    },
    {
      "cell_type": "code",
      "source": [
        "# Desempeño en prueba. SMOTE K = 30\n",
        "predmod <- predict(test_pred, cartera.test1, type = \"prob\")\n",
        "pronknn<-ifelse(predmod[,2] > 0.5 ,1, 0)\n",
        "confknn<-confusionMatrix(as.factor(pronknn),\n",
        "                          cartera.test1$retrasos, positive = \"1\")\n",
        "confknn$table\n",
        "confknn$overall\n",
        "confknn$byClass"
      ],
      "metadata": {
        "colab": {
          "base_uri": "https://localhost:8080/",
          "height": 173
        },
        "id": "KH_3n2TYEfkj",
        "outputId": "9e263bb7-0db5-44bc-fe44-e4d9434c26cc"
      },
      "execution_count": 81,
      "outputs": [
        {
          "output_type": "display_data",
          "data": {
            "text/plain": [
              "          Reference\n",
              "Prediction   0   1\n",
              "         0 125  13\n",
              "         1  47  28"
            ]
          },
          "metadata": {}
        },
        {
          "output_type": "display_data",
          "data": {
            "text/html": [
              "<style>\n",
              ".dl-inline {width: auto; margin:0; padding: 0}\n",
              ".dl-inline>dt, .dl-inline>dd {float: none; width: auto; display: inline-block}\n",
              ".dl-inline>dt::after {content: \":\\0020\"; padding-right: .5ex}\n",
              ".dl-inline>dt:not(:first-of-type) {padding-left: .5ex}\n",
              "</style><dl class=dl-inline><dt>Accuracy</dt><dd>0.71830985915493</dd><dt>Kappa</dt><dd>0.311348205625606</dd><dt>AccuracyLower</dt><dd>0.652789954079563</dd><dt>AccuracyUpper</dt><dd>0.777640682185511</dd><dt>AccuracyNull</dt><dd>0.807511737089202</dd><dt>AccuracyPValue</dt><dd>0.999396283326154</dd><dt>McnemarPValue</dt><dd>2.04169428403451e-05</dd></dl>\n"
            ],
            "text/markdown": "Accuracy\n:   0.71830985915493Kappa\n:   0.311348205625606AccuracyLower\n:   0.652789954079563AccuracyUpper\n:   0.777640682185511AccuracyNull\n:   0.807511737089202AccuracyPValue\n:   0.999396283326154McnemarPValue\n:   2.04169428403451e-05\n\n",
            "text/latex": "\\begin{description*}\n\\item[Accuracy] 0.71830985915493\n\\item[Kappa] 0.311348205625606\n\\item[AccuracyLower] 0.652789954079563\n\\item[AccuracyUpper] 0.777640682185511\n\\item[AccuracyNull] 0.807511737089202\n\\item[AccuracyPValue] 0.999396283326154\n\\item[McnemarPValue] 2.04169428403451e-05\n\\end{description*}\n",
            "text/plain": [
              "      Accuracy          Kappa  AccuracyLower  AccuracyUpper   AccuracyNull \n",
              "  7.183099e-01   3.113482e-01   6.527900e-01   7.776407e-01   8.075117e-01 \n",
              "AccuracyPValue  McnemarPValue \n",
              "  9.993963e-01   2.041694e-05 "
            ]
          },
          "metadata": {}
        },
        {
          "output_type": "display_data",
          "data": {
            "text/html": [
              "<style>\n",
              ".dl-inline {width: auto; margin:0; padding: 0}\n",
              ".dl-inline>dt, .dl-inline>dd {float: none; width: auto; display: inline-block}\n",
              ".dl-inline>dt::after {content: \":\\0020\"; padding-right: .5ex}\n",
              ".dl-inline>dt:not(:first-of-type) {padding-left: .5ex}\n",
              "</style><dl class=dl-inline><dt>Sensitivity</dt><dd>0.682926829268293</dd><dt>Specificity</dt><dd>0.726744186046512</dd><dt>Pos Pred Value</dt><dd>0.373333333333333</dd><dt>Neg Pred Value</dt><dd>0.905797101449275</dd><dt>Precision</dt><dd>0.373333333333333</dd><dt>Recall</dt><dd>0.682926829268293</dd><dt>F1</dt><dd>0.482758620689655</dd><dt>Prevalence</dt><dd>0.192488262910798</dd><dt>Detection Rate</dt><dd>0.131455399061033</dd><dt>Detection Prevalence</dt><dd>0.352112676056338</dd><dt>Balanced Accuracy</dt><dd>0.704835507657402</dd></dl>\n"
            ],
            "text/markdown": "Sensitivity\n:   0.682926829268293Specificity\n:   0.726744186046512Pos Pred Value\n:   0.373333333333333Neg Pred Value\n:   0.905797101449275Precision\n:   0.373333333333333Recall\n:   0.682926829268293F1\n:   0.482758620689655Prevalence\n:   0.192488262910798Detection Rate\n:   0.131455399061033Detection Prevalence\n:   0.352112676056338Balanced Accuracy\n:   0.704835507657402\n\n",
            "text/latex": "\\begin{description*}\n\\item[Sensitivity] 0.682926829268293\n\\item[Specificity] 0.726744186046512\n\\item[Pos Pred Value] 0.373333333333333\n\\item[Neg Pred Value] 0.905797101449275\n\\item[Precision] 0.373333333333333\n\\item[Recall] 0.682926829268293\n\\item[F1] 0.482758620689655\n\\item[Prevalence] 0.192488262910798\n\\item[Detection Rate] 0.131455399061033\n\\item[Detection Prevalence] 0.352112676056338\n\\item[Balanced Accuracy] 0.704835507657402\n\\end{description*}\n",
            "text/plain": [
              "         Sensitivity          Specificity       Pos Pred Value \n",
              "           0.6829268            0.7267442            0.3733333 \n",
              "      Neg Pred Value            Precision               Recall \n",
              "           0.9057971            0.3733333            0.6829268 \n",
              "                  F1           Prevalence       Detection Rate \n",
              "           0.4827586            0.1924883            0.1314554 \n",
              "Detection Prevalence    Balanced Accuracy \n",
              "           0.3521127            0.7048355 "
            ]
          },
          "metadata": {}
        }
      ]
    },
    {
      "cell_type": "code",
      "source": [
        "# CURVA ROC y AUC.  SMOTE K = 30\n",
        "\n",
        "#crear objeto de predicciones\n",
        "pr<-prediction(pronknn,cartera.test1$retrasos)\n",
        "#creacion del objeto de la curva\n",
        "curvaROC<-performance(pr,measure=\"tpr\",x.measure=\"fpr\")\n",
        "#grafico de la curva\n",
        "plot(curvaROC)\n",
        "\n",
        "#calcular el AUC\n",
        "auc<-performance(pr,measure = \"auc\")\n",
        "auc <- auc@y.values[[1]]\n",
        "#ver el AUC\n",
        "auc"
      ],
      "metadata": {
        "colab": {
          "base_uri": "https://localhost:8080/",
          "height": 454
        },
        "id": "bY1Hnf3TEfo9",
        "outputId": "624dadb9-6fe0-459a-bd2d-d53d0583568b"
      },
      "execution_count": 82,
      "outputs": [
        {
          "output_type": "display_data",
          "data": {
            "text/html": [
              "0.704835507657402"
            ],
            "text/markdown": "0.704835507657402",
            "text/latex": "0.704835507657402",
            "text/plain": [
              "[1] 0.7048355"
            ]
          },
          "metadata": {}
        },
        {
          "output_type": "display_data",
          "data": {
            "text/plain": [
              "plot without title"
            ],
            "image/png": "[encoded data removed]"
          },
          "metadata": {
            "image/png": {
              "width": 420,
              "height": 420
            }
          }
        }
      ]
    },
    {
      "cell_type": "code",
      "source": [
        "set.seed(1)\n",
        "levels(cartera.train2$retrasos) <- make.names(levels(factor(cartera.train2$retrasos)))\n",
        "modeloknn3<-train(retrasos~.,method=\"knn\",\n",
        "                  tuneGrid=expand.grid(k=1:30),\n",
        "                  trControl=cross,\n",
        "                  metric=\"AUC\",\n",
        "                  data=cartera.train2)\n",
        "modeloknn3"
      ],
      "metadata": {
        "colab": {
          "base_uri": "https://localhost:8080/",
          "height": 798
        },
        "id": "UekX_SJVkEoc",
        "outputId": "d6e2f064-070c-4e8a-ab0e-4b3850d04411"
      },
      "execution_count": null,
      "outputs": [
        {
          "output_type": "display_data",
          "data": {
            "text/plain": [
              "k-Nearest Neighbors \n",
              "\n",
              "912 samples\n",
              " 11 predictor\n",
              "  2 classes: 'X0', 'X1' \n",
              "\n",
              "No pre-processing\n",
              "Resampling: Cross-Validated (5 fold) \n",
              "Summary of sample sizes: 729, 730, 730, 729, 730 \n",
              "Resampling results across tuning parameters:\n",
              "\n",
              "  k   AUC         Precision  Recall     F        \n",
              "   1  0.09997984  0.9437321  0.8617296  0.9001424\n",
              "   2  0.23485289  0.8877477  0.8134974  0.8486492\n",
              "   3  0.35408333  0.8799424  0.7629957  0.8151216\n",
              "   4  0.42571013  0.8603368  0.7345676  0.7912556\n",
              "   5  0.48376577  0.8500392  0.7301242  0.7844399\n",
              "   6  0.52164225  0.8362492  0.7322742  0.7792788\n",
              "   7  0.54983914  0.8394731  0.7279025  0.7780220\n",
              "   8  0.56840264  0.8465195  0.7300526  0.7819465\n",
              "   9  0.57595741  0.8482343  0.7322742  0.7855404\n",
              "  10  0.59677240  0.8436010  0.7169374  0.7740613\n",
              "  11  0.61074857  0.8400486  0.7213569  0.7751743\n",
              "  12  0.62884422  0.8473560  0.7169135  0.7750565\n",
              "  13  0.63854120  0.8444845  0.7279264  0.7801208\n",
              "  14  0.65338942  0.8247086  0.7126135  0.7632154\n",
              "  15  0.67078264  0.8168346  0.7301720  0.7695937\n",
              "  16  0.67672678  0.7974299  0.7016484  0.7452193\n",
              "  17  0.68044721  0.8049118  0.7125657  0.7543682\n",
              "  18  0.68397337  0.8077603  0.7191591  0.7588270\n",
              "  19  0.69638924  0.7990031  0.7148352  0.7526296\n",
              "  20  0.69928509  0.7942503  0.7125896  0.7500200\n",
              "  21  0.70954371  0.7878340  0.7059962  0.7432364\n",
              "  22  0.71293667  0.7868097  0.7103918  0.7454825\n",
              "  23  0.72078345  0.7831586  0.7147396  0.7462861\n",
              "  24  0.72654339  0.7817808  0.7147396  0.7454137\n",
              "  25  0.73420923  0.7775087  0.7169374  0.7452133\n",
              "  26  0.74804958  0.7793089  0.7213330  0.7480566\n",
              "  27  0.75442332  0.7875977  0.7344959  0.7593679\n",
              "  28  0.75411127  0.7813880  0.7411132  0.7598919\n",
              "  29  0.76187859  0.7839169  0.7367654  0.7583459\n",
              "  30  0.76766829  0.7906903  0.7368132  0.7618860\n",
              "\n",
              "AUC was used to select the optimal model using the largest value.\n",
              "The final value used for the model was k = 30."
            ]
          },
          "metadata": {}
        }
      ]
    },
    {
      "cell_type": "markdown",
      "source": [
        "# ***  Naive Bayes (Bayes ingenuo) ***"
      ],
      "metadata": {
        "id": "ORAcq9dwBrnG"
      }
    },
    {
      "cell_type": "markdown",
      "source": [
        "Un segundo modelo de clasificación que puede servir como pronóstico base o ingenuo, es conocido como Naive Bayes o Bayes ingenuo.\n",
        "\n",
        "El resultado se basa en una relajación del Teorema de Bayes en la que la suposición principal es que las variables predictoras son independientes. Aunque es una suposición fuerte, en muchas ocasiones los resultados de Naive Bayes son bastante competitivos, y serán mucho mejores en la medida en que la suposición se cumpla."
      ],
      "metadata": {
        "id": "MLmhRW46BuNg"
      }
    },
    {
      "cell_type": "markdown",
      "source": [
        "# Data and business understanding"
      ],
      "metadata": {
        "id": "MWlbPAzOBw4W"
      }
    },
    {
      "cell_type": "markdown",
      "source": [
        "Los datos corresponden a una encuesta a 880 personas con respecto a su preferencia entre 3 opciones al desayuno: Avena, Barrita de desayuno o cereal. El objetivo es poder predecir una preferencia de acuerdo a información demográfica disponible que permitiera realizar promociones específicas."
      ],
      "metadata": {
        "id": "w8HopUfMB1bW"
      }
    },
    {
      "cell_type": "code",
      "source": [
        "cereal<-read.csv(\"cereal2.csv\", header=TRUE, sep=\";\", dec=\",\")\n",
        "str(cereal)"
      ],
      "metadata": {
        "id": "l6zdoQGP_BPN",
        "colab": {
          "base_uri": "https://localhost:8080/"
        },
        "outputId": "0558688f-cf5d-45b1-f188-ac661383966a"
      },
      "execution_count": 83,
      "outputs": [
        {
          "output_type": "stream",
          "name": "stdout",
          "text": [
            "'data.frame':\t880 obs. of  5 variables:\n",
            " $ edad_cat: chr  \"Menor de 31\" \"46-60\" \"Mas de 60\" \"31-45\" ...\n",
            " $ genero  : chr  \"Hombre\" \"Hombre\" \"Hombre\" \"Mujer\" ...\n",
            " $ ecivil  : chr  \"Casado\" \"Casado\" \"Casado\" \"Casado\" ...\n",
            " $ activo  : chr  \"En activo\" \"Sin actividad\" \"Sin actividad\" \"En activo\" ...\n",
            " $ desayuno: chr  \"Cereales\" \"Barrita de desayuno\" \"Avena\" \"Avena\" ...\n"
          ]
        }
      ]
    },
    {
      "cell_type": "markdown",
      "source": [
        "Los predictores son:\n",
        "\n",
        "Edadcat: La edad en categorías de edad.\n",
        "\n",
        "Genero: El género del encuestado\n",
        "\n",
        "ecivil: el estado civil\n",
        "\n",
        "activo: Si la persona es o no activo en su vida diaria (sedentario o no)\n",
        "\n",
        "Vamos a hacer un pequeño arreglo con el nombre de la edad categorizada y separar en bases de entrenamiento y validación en una partición 50%-50%"
      ],
      "metadata": {
        "id": "_H7GLip6G83f"
      }
    },
    {
      "cell_type": "code",
      "source": [
        "#un pequeño arreglo\n",
        "colnames(cereal)[1]<-\"edadcat\""
      ],
      "metadata": {
        "id": "CgBLwckT_KUW"
      },
      "execution_count": 84,
      "outputs": []
    },
    {
      "cell_type": "code",
      "source": [
        "#genero entrenamiento y validacion para cereal\n",
        "set.seed(1)\n",
        "sample <- sample.int(nrow(cereal), floor(.5*nrow(cereal)))\n",
        "cereal.train <- cereal[sample, ]\n",
        "cereal.test <- cereal[-sample, ]"
      ],
      "metadata": {
        "id": "7y3mb7M-_Mse"
      },
      "execution_count": 85,
      "outputs": []
    },
    {
      "cell_type": "markdown",
      "source": [
        "# Modelling"
      ],
      "metadata": {
        "id": "H1nak0QvG_kI"
      }
    },
    {
      "cell_type": "markdown",
      "source": [
        "La creación del modelo de Naive Bayes es relativamente simple, pues no existen hiperparámetros por sintonizar o parámetros a entrenar. Se trata simplemente de calcular las probabilidades de la categoría a predecir a partir de las categorías de las predictoras, suponiendo independencia entre ellas usando el Teorema de Bayes."
      ],
      "metadata": {
        "id": "DoxdLc5XHA3H"
      }
    },
    {
      "cell_type": "code",
      "source": [
        "naivetest<-naiveBayes(cereal.train$desayuno~.,cereal.train)"
      ],
      "metadata": {
        "id": "DqX2t43-_TpN"
      },
      "execution_count": 86,
      "outputs": []
    },
    {
      "cell_type": "markdown",
      "source": [
        "Un resultado a observar son las probabilidades a priori, que corresponden simplemente a las tasas base de las categorías a predecir. El segundo resultado a observar son las probabilidades marginales del predictor dada la categoría a predecir."
      ],
      "metadata": {
        "id": "Gz16uOnoHq3R"
      }
    },
    {
      "cell_type": "code",
      "source": [
        "#tasas base\n",
        "naivetest$apriori"
      ],
      "metadata": {
        "id": "-ZR_4slK_VR1",
        "colab": {
          "base_uri": "https://localhost:8080/",
          "height": 69
        },
        "outputId": "e2b75560-5565-4cf3-f139-862116281131"
      },
      "execution_count": 87,
      "outputs": [
        {
          "output_type": "display_data",
          "data": {
            "text/plain": [
              "Y\n",
              "              Avena Barrita de desayuno            Cereales \n",
              "                157                 113                 170 "
            ]
          },
          "metadata": {}
        }
      ]
    },
    {
      "cell_type": "code",
      "source": [
        "#probabilidades marginales\n",
        "naivetest$tables$genero"
      ],
      "metadata": {
        "id": "5T0NQ-n-_Wv_",
        "colab": {
          "base_uri": "https://localhost:8080/",
          "height": 104
        },
        "outputId": "642a3cf1-8ecb-4579-f32d-9e1d7060f0b9"
      },
      "execution_count": 88,
      "outputs": [
        {
          "output_type": "display_data",
          "data": {
            "text/plain": [
              "                     genero\n",
              "Y                        Hombre     Mujer\n",
              "  Avena               0.4522293 0.5477707\n",
              "  Barrita de desayuno 0.4247788 0.5752212\n",
              "  Cereales            0.4882353 0.5117647"
            ]
          },
          "metadata": {}
        }
      ]
    },
    {
      "cell_type": "code",
      "source": [
        "naivetest$tables$edadcat\n"
      ],
      "metadata": {
        "id": "Pa00z3KjH6Bk",
        "colab": {
          "base_uri": "https://localhost:8080/",
          "height": 104
        },
        "outputId": "d50d8590-f984-4fb1-8e6e-9e5c3fe23bf1"
      },
      "execution_count": 89,
      "outputs": [
        {
          "output_type": "display_data",
          "data": {
            "text/plain": [
              "                     edadcat\n",
              "Y                          31-45      46-60  Mas de 60 Menor de 31\n",
              "  Avena               0.07643312 0.34394904 0.56687898  0.01273885\n",
              "  Barrita de desayuno 0.40707965 0.16814159 0.09734513  0.32743363\n",
              "  Cereales            0.24705882 0.33529412 0.15294118  0.26470588"
            ]
          },
          "metadata": {}
        }
      ]
    },
    {
      "cell_type": "code",
      "source": [
        "naivetest$tables$ecivil\n"
      ],
      "metadata": {
        "id": "uBPoIO7AH7F3",
        "colab": {
          "base_uri": "https://localhost:8080/",
          "height": 104
        },
        "outputId": "0a764383-ee46-447a-edd8-45c271b98c57"
      },
      "execution_count": 90,
      "outputs": [
        {
          "output_type": "display_data",
          "data": {
            "text/plain": [
              "                     ecivil\n",
              "Y                        Casado   Soltero\n",
              "  Avena               0.6624204 0.3375796\n",
              "  Barrita de desayuno 0.4690265 0.5309735\n",
              "  Cereales            0.7058824 0.2941176"
            ]
          },
          "metadata": {}
        }
      ]
    },
    {
      "cell_type": "code",
      "source": [
        "naivetest$tables$activo"
      ],
      "metadata": {
        "id": "v7K496KNH9WK",
        "colab": {
          "base_uri": "https://localhost:8080/",
          "height": 104
        },
        "outputId": "4711e36f-0fdf-4d55-d8ac-fe8e1d91dac9"
      },
      "execution_count": 91,
      "outputs": [
        {
          "output_type": "display_data",
          "data": {
            "text/plain": [
              "                     activo\n",
              "Y                     En activo Sin actividad\n",
              "  Avena               0.3439490     0.6560510\n",
              "  Barrita de desayuno 0.6283186     0.3716814\n",
              "  Cereales            0.4058824     0.5941176"
            ]
          },
          "metadata": {}
        }
      ]
    },
    {
      "cell_type": "markdown",
      "source": [
        "La primera tabla nos permite ver una base de datos bastante balanceada. Las siguientes tablas permiten ver qué característica individual parece discriminar mejor el desayuno elegido.\n",
        "\n",
        "\n",
        "Por ejemplo, dado que se consume barrita de desayuno hay una mayor probabilidad de que sea mujer, o dado que se consume avena hay una buena probabilidad de que se trate de una persona de más de 42 años, particularmente los mayores de 60."
      ],
      "metadata": {
        "id": "OCpP2Qj0H_cp"
      }
    },
    {
      "cell_type": "markdown",
      "source": [
        "## Evaluation"
      ],
      "metadata": {
        "id": "7Gd5ywOVIBuH"
      }
    },
    {
      "cell_type": "markdown",
      "source": [
        "Creamos el objeto de predicción que nos permite ver el desempeño en la base de datos de validación"
      ],
      "metadata": {
        "id": "n4W_QhSdIC53"
      }
    },
    {
      "cell_type": "code",
      "source": [
        "#guarda las probabilidades (para curva ROC)\n",
        "prednaiveprob<-predict(naivetest, cereal.test, type=\"raw\")"
      ],
      "metadata": {
        "id": "oCSSOuMD_Y31"
      },
      "execution_count": 92,
      "outputs": []
    },
    {
      "cell_type": "code",
      "source": [
        "#guarda el pronóstico\n",
        "prednaive<-predict(naivetest, cereal.test)"
      ],
      "metadata": {
        "id": "nuRei11E_asp"
      },
      "execution_count": 93,
      "outputs": []
    },
    {
      "cell_type": "code",
      "source": [
        "cereal.test$desayuno <- as.factor(cereal.test$desayuno)"
      ],
      "metadata": {
        "id": "ZsMDGGrU0GMh"
      },
      "execution_count": 94,
      "outputs": []
    },
    {
      "cell_type": "code",
      "source": [
        "#generar la matriz de confusión\n",
        "naiveconf<-confusionMatrix(prednaive,cereal.test$desayuno)\n",
        "naiveconf$table"
      ],
      "metadata": {
        "id": "Q-weIkD1_cB6",
        "colab": {
          "base_uri": "https://localhost:8080/",
          "height": 104
        },
        "outputId": "ae2aacbd-8524-4b7a-f060-a0cd3a21c1f9"
      },
      "execution_count": 95,
      "outputs": [
        {
          "output_type": "display_data",
          "data": {
            "text/plain": [
              "                     Reference\n",
              "Prediction            Avena Barrita de desayuno Cereales\n",
              "  Avena                 112                  11       43\n",
              "  Barrita de desayuno     4                  46       35\n",
              "  Cereales               37                  61       91"
            ]
          },
          "metadata": {}
        }
      ]
    },
    {
      "cell_type": "code",
      "source": [
        "naiveconf$byClass"
      ],
      "metadata": {
        "id": "AHW6_2RMIIkf",
        "colab": {
          "base_uri": "https://localhost:8080/",
          "height": 196
        },
        "outputId": "1573b627-fad2-4d07-d28f-bd4beb919d03"
      },
      "execution_count": 96,
      "outputs": [
        {
          "output_type": "display_data",
          "data": {
            "text/html": [
              "<table class=\"dataframe\">\n",
              "<caption>A matrix: 3 × 11 of type dbl</caption>\n",
              "<thead>\n",
              "\t<tr><th></th><th scope=col>Sensitivity</th><th scope=col>Specificity</th><th scope=col>Pos Pred Value</th><th scope=col>Neg Pred Value</th><th scope=col>Precision</th><th scope=col>Recall</th><th scope=col>F1</th><th scope=col>Prevalence</th><th scope=col>Detection Rate</th><th scope=col>Detection Prevalence</th><th scope=col>Balanced Accuracy</th></tr>\n",
              "</thead>\n",
              "<tbody>\n",
              "\t<tr><th scope=row>Class: Avena</th><td>0.7320261</td><td>0.8118467</td><td>0.6746988</td><td>0.8503650</td><td>0.6746988</td><td>0.7320261</td><td>0.7021944</td><td>0.3477273</td><td>0.2545455</td><td>0.3772727</td><td>0.7719364</td></tr>\n",
              "\t<tr><th scope=row>Class: Barrita de desayuno</th><td>0.3898305</td><td>0.8788820</td><td>0.5411765</td><td>0.7971831</td><td>0.5411765</td><td>0.3898305</td><td>0.4532020</td><td>0.2681818</td><td>0.1045455</td><td>0.1931818</td><td>0.6343562</td></tr>\n",
              "\t<tr><th scope=row>Class: Cereales</th><td>0.5384615</td><td>0.6383764</td><td>0.4814815</td><td>0.6892430</td><td>0.4814815</td><td>0.5384615</td><td>0.5083799</td><td>0.3840909</td><td>0.2068182</td><td>0.4295455</td><td>0.5884190</td></tr>\n",
              "</tbody>\n",
              "</table>\n"
            ],
            "text/markdown": "\nA matrix: 3 × 11 of type dbl\n\n| <!--/--> | Sensitivity | Specificity | Pos Pred Value | Neg Pred Value | Precision | Recall | F1 | Prevalence | Detection Rate | Detection Prevalence | Balanced Accuracy |\n|---|---|---|---|---|---|---|---|---|---|---|---|\n| Class: Avena | 0.7320261 | 0.8118467 | 0.6746988 | 0.8503650 | 0.6746988 | 0.7320261 | 0.7021944 | 0.3477273 | 0.2545455 | 0.3772727 | 0.7719364 |\n| Class: Barrita de desayuno | 0.3898305 | 0.8788820 | 0.5411765 | 0.7971831 | 0.5411765 | 0.3898305 | 0.4532020 | 0.2681818 | 0.1045455 | 0.1931818 | 0.6343562 |\n| Class: Cereales | 0.5384615 | 0.6383764 | 0.4814815 | 0.6892430 | 0.4814815 | 0.5384615 | 0.5083799 | 0.3840909 | 0.2068182 | 0.4295455 | 0.5884190 |\n\n",
            "text/latex": "A matrix: 3 × 11 of type dbl\n\\begin{tabular}{r|lllllllllll}\n  & Sensitivity & Specificity & Pos Pred Value & Neg Pred Value & Precision & Recall & F1 & Prevalence & Detection Rate & Detection Prevalence & Balanced Accuracy\\\\\n\\hline\n\tClass: Avena & 0.7320261 & 0.8118467 & 0.6746988 & 0.8503650 & 0.6746988 & 0.7320261 & 0.7021944 & 0.3477273 & 0.2545455 & 0.3772727 & 0.7719364\\\\\n\tClass: Barrita de desayuno & 0.3898305 & 0.8788820 & 0.5411765 & 0.7971831 & 0.5411765 & 0.3898305 & 0.4532020 & 0.2681818 & 0.1045455 & 0.1931818 & 0.6343562\\\\\n\tClass: Cereales & 0.5384615 & 0.6383764 & 0.4814815 & 0.6892430 & 0.4814815 & 0.5384615 & 0.5083799 & 0.3840909 & 0.2068182 & 0.4295455 & 0.5884190\\\\\n\\end{tabular}\n",
            "text/plain": [
              "                           Sensitivity Specificity Pos Pred Value\n",
              "Class: Avena               0.7320261   0.8118467   0.6746988     \n",
              "Class: Barrita de desayuno 0.3898305   0.8788820   0.5411765     \n",
              "Class: Cereales            0.5384615   0.6383764   0.4814815     \n",
              "                           Neg Pred Value Precision Recall    F1       \n",
              "Class: Avena               0.8503650      0.6746988 0.7320261 0.7021944\n",
              "Class: Barrita de desayuno 0.7971831      0.5411765 0.3898305 0.4532020\n",
              "Class: Cereales            0.6892430      0.4814815 0.5384615 0.5083799\n",
              "                           Prevalence Detection Rate Detection Prevalence\n",
              "Class: Avena               0.3477273  0.2545455      0.3772727           \n",
              "Class: Barrita de desayuno 0.2681818  0.1045455      0.1931818           \n",
              "Class: Cereales            0.3840909  0.2068182      0.4295455           \n",
              "                           Balanced Accuracy\n",
              "Class: Avena               0.7719364        \n",
              "Class: Barrita de desayuno 0.6343562        \n",
              "Class: Cereales            0.5884190        "
            ]
          },
          "metadata": {}
        }
      ]
    },
    {
      "cell_type": "markdown",
      "source": [
        "Nótese que la predicción requiere de 3 clases diferentes. Es por ello que la matriz de confusión presenta los indicadores divididos por cada uno de los tres valores, para saber qué tan buena es la predicción para cada posible desayuno. Si se hubiese definido el desayuno a predecir, los resultados hubiesen salido solo para ese tipo de desayuno.\n",
        "\n",
        "Como puede analizarse, la avena es la más fácil de predecir (F=70%, precisión 67.5% y exhaustividad 73.2%). Para las otras dos clases, los F scores son menores al 50%.\n",
        "\n",
        "Los siguientes son los pasos para obtener una curva COR para la avena."
      ],
      "metadata": {
        "id": "4T1GEV_fIK8X"
      }
    },
    {
      "cell_type": "code",
      "source": [
        "#crear resultados 1 o 0 para la predicción de Avena\n",
        "avenas<-ifelse(cereal.test$desayuno==\"Avena\",1,0)"
      ],
      "metadata": {
        "id": "H8zzaT1g_fNe"
      },
      "execution_count": 97,
      "outputs": []
    },
    {
      "cell_type": "code",
      "source": [
        "prednaiveprob"
      ],
      "metadata": {
        "colab": {
          "base_uri": "https://localhost:8080/",
          "height": 1000
        },
        "id": "z4TKmjlRPWAn",
        "outputId": "810ec3b5-e971-4376-b738-8d830e5d5308"
      },
      "execution_count": 98,
      "outputs": [
        {
          "output_type": "display_data",
          "data": {
            "text/html": [
              "<table class=\"dataframe\">\n",
              "<caption>A matrix: 440 × 3 of type dbl</caption>\n",
              "<thead>\n",
              "\t<tr><th scope=col>Avena</th><th scope=col>Barrita de desayuno</th><th scope=col>Cereales</th></tr>\n",
              "</thead>\n",
              "<tbody>\n",
              "\t<tr><td>0.09691225</td><td>0.50459266</td><td>0.3984951</td></tr>\n",
              "\t<tr><td>0.74023104</td><td>0.03447237</td><td>0.2252966</td></tr>\n",
              "\t<tr><td>0.17330115</td><td>0.27984088</td><td>0.5468580</td></tr>\n",
              "\t<tr><td>0.09691225</td><td>0.50459266</td><td>0.3984951</td></tr>\n",
              "\t<tr><td>0.17330115</td><td>0.27984088</td><td>0.5468580</td></tr>\n",
              "\t<tr><td>0.16418117</td><td>0.23713794</td><td>0.5986809</td></tr>\n",
              "\t<tr><td>0.03438956</td><td>0.26799798</td><td>0.6976125</td></tr>\n",
              "\t<tr><td>0.01274981</td><td>0.71169497</td><td>0.2755552</td></tr>\n",
              "\t<tr><td>0.66177588</td><td>0.11109621</td><td>0.2271279</td></tr>\n",
              "\t<tr><td>0.47621661</td><td>0.07058258</td><td>0.4532008</td></tr>\n",
              "\t<tr><td>0.16418117</td><td>0.23713794</td><td>0.5986809</td></tr>\n",
              "\t<tr><td>0.32038193</td><td>0.30423861</td><td>0.3753795</td></tr>\n",
              "\t<tr><td>0.09691225</td><td>0.50459266</td><td>0.3984951</td></tr>\n",
              "\t<tr><td>0.60476441</td><td>0.22553160</td><td>0.1697040</td></tr>\n",
              "\t<tr><td>0.47621661</td><td>0.07058258</td><td>0.4532008</td></tr>\n",
              "\t<tr><td>0.01851078</td><td>0.41605445</td><td>0.5654348</td></tr>\n",
              "\t<tr><td>0.34958789</td><td>0.14944103</td><td>0.5009711</td></tr>\n",
              "\t<tr><td>0.34958789</td><td>0.14944103</td><td>0.5009711</td></tr>\n",
              "\t<tr><td>0.76019776</td><td>0.03957878</td><td>0.2002235</td></tr>\n",
              "\t<tr><td>0.74023104</td><td>0.03447237</td><td>0.2252966</td></tr>\n",
              "\t<tr><td>0.73948136</td><td>0.07650043</td><td>0.1840182</td></tr>\n",
              "\t<tr><td>0.03438956</td><td>0.26799798</td><td>0.6976125</td></tr>\n",
              "\t<tr><td>0.03438956</td><td>0.26799798</td><td>0.6976125</td></tr>\n",
              "\t<tr><td>0.09607169</td><td>0.44743056</td><td>0.4564978</td></tr>\n",
              "\t<tr><td>0.03438956</td><td>0.26799798</td><td>0.6976125</td></tr>\n",
              "\t<tr><td>0.02865550</td><td>0.49607305</td><td>0.4752715</td></tr>\n",
              "\t<tr><td>0.34958789</td><td>0.14944103</td><td>0.5009711</td></tr>\n",
              "\t<tr><td>0.64651020</td><td>0.09708043</td><td>0.2564094</td></tr>\n",
              "\t<tr><td>0.34958789</td><td>0.14944103</td><td>0.5009711</td></tr>\n",
              "\t<tr><td>0.01274981</td><td>0.71169497</td><td>0.2755552</td></tr>\n",
              "\t<tr><td>⋮</td><td>⋮</td><td>⋮</td></tr>\n",
              "\t<tr><td>0.47621661</td><td>0.07058258</td><td>0.4532008</td></tr>\n",
              "\t<tr><td>0.76019776</td><td>0.03957878</td><td>0.2002235</td></tr>\n",
              "\t<tr><td>0.01317445</td><td>0.65779498</td><td>0.3290306</td></tr>\n",
              "\t<tr><td>0.09607169</td><td>0.44743056</td><td>0.4564978</td></tr>\n",
              "\t<tr><td>0.47621661</td><td>0.07058258</td><td>0.4532008</td></tr>\n",
              "\t<tr><td>0.06278149</td><td>0.72615063</td><td>0.2110679</td></tr>\n",
              "\t<tr><td>0.16418117</td><td>0.23713794</td><td>0.5986809</td></tr>\n",
              "\t<tr><td>0.01851078</td><td>0.41605445</td><td>0.5654348</td></tr>\n",
              "\t<tr><td>0.16418117</td><td>0.23713794</td><td>0.5986809</td></tr>\n",
              "\t<tr><td>0.34958789</td><td>0.14944103</td><td>0.5009711</td></tr>\n",
              "\t<tr><td>0.66177588</td><td>0.11109621</td><td>0.2271279</td></tr>\n",
              "\t<tr><td>0.47453084</td><td>0.15623929</td><td>0.3692299</td></tr>\n",
              "\t<tr><td>0.01851078</td><td>0.41605445</td><td>0.5654348</td></tr>\n",
              "\t<tr><td>0.75131421</td><td>0.08689409</td><td>0.1617917</td></tr>\n",
              "\t<tr><td>0.75131421</td><td>0.08689409</td><td>0.1617917</td></tr>\n",
              "\t<tr><td>0.47621661</td><td>0.07058258</td><td>0.4532008</td></tr>\n",
              "\t<tr><td>0.74023104</td><td>0.03447237</td><td>0.2252966</td></tr>\n",
              "\t<tr><td>0.36791609</td><td>0.17583052</td><td>0.4562534</td></tr>\n",
              "\t<tr><td>0.09691225</td><td>0.50459266</td><td>0.3984951</td></tr>\n",
              "\t<tr><td>0.36791609</td><td>0.17583052</td><td>0.4562534</td></tr>\n",
              "\t<tr><td>0.01851078</td><td>0.41605445</td><td>0.5654348</td></tr>\n",
              "\t<tr><td>0.09691225</td><td>0.50459266</td><td>0.3984951</td></tr>\n",
              "\t<tr><td>0.44796800</td><td>0.05938926</td><td>0.4926427</td></tr>\n",
              "\t<tr><td>0.36791609</td><td>0.17583052</td><td>0.4562534</td></tr>\n",
              "\t<tr><td>0.74023104</td><td>0.03447237</td><td>0.2252966</td></tr>\n",
              "\t<tr><td>0.73948136</td><td>0.07650043</td><td>0.1840182</td></tr>\n",
              "\t<tr><td>0.64651020</td><td>0.09708043</td><td>0.2564094</td></tr>\n",
              "\t<tr><td>0.01851078</td><td>0.41605445</td><td>0.5654348</td></tr>\n",
              "\t<tr><td>0.09691225</td><td>0.50459266</td><td>0.3984951</td></tr>\n",
              "\t<tr><td>0.75131421</td><td>0.08689409</td><td>0.1617917</td></tr>\n",
              "</tbody>\n",
              "</table>\n"
            ],
            "text/markdown": "\nA matrix: 440 × 3 of type dbl\n\n| Avena | Barrita de desayuno | Cereales |\n|---|---|---|\n| 0.09691225 | 0.50459266 | 0.3984951 |\n| 0.74023104 | 0.03447237 | 0.2252966 |\n| 0.17330115 | 0.27984088 | 0.5468580 |\n| 0.09691225 | 0.50459266 | 0.3984951 |\n| 0.17330115 | 0.27984088 | 0.5468580 |\n| 0.16418117 | 0.23713794 | 0.5986809 |\n| 0.03438956 | 0.26799798 | 0.6976125 |\n| 0.01274981 | 0.71169497 | 0.2755552 |\n| 0.66177588 | 0.11109621 | 0.2271279 |\n| 0.47621661 | 0.07058258 | 0.4532008 |\n| 0.16418117 | 0.23713794 | 0.5986809 |\n| 0.32038193 | 0.30423861 | 0.3753795 |\n| 0.09691225 | 0.50459266 | 0.3984951 |\n| 0.60476441 | 0.22553160 | 0.1697040 |\n| 0.47621661 | 0.07058258 | 0.4532008 |\n| 0.01851078 | 0.41605445 | 0.5654348 |\n| 0.34958789 | 0.14944103 | 0.5009711 |\n| 0.34958789 | 0.14944103 | 0.5009711 |\n| 0.76019776 | 0.03957878 | 0.2002235 |\n| 0.74023104 | 0.03447237 | 0.2252966 |\n| 0.73948136 | 0.07650043 | 0.1840182 |\n| 0.03438956 | 0.26799798 | 0.6976125 |\n| 0.03438956 | 0.26799798 | 0.6976125 |\n| 0.09607169 | 0.44743056 | 0.4564978 |\n| 0.03438956 | 0.26799798 | 0.6976125 |\n| 0.02865550 | 0.49607305 | 0.4752715 |\n| 0.34958789 | 0.14944103 | 0.5009711 |\n| 0.64651020 | 0.09708043 | 0.2564094 |\n| 0.34958789 | 0.14944103 | 0.5009711 |\n| 0.01274981 | 0.71169497 | 0.2755552 |\n| ⋮ | ⋮ | ⋮ |\n| 0.47621661 | 0.07058258 | 0.4532008 |\n| 0.76019776 | 0.03957878 | 0.2002235 |\n| 0.01317445 | 0.65779498 | 0.3290306 |\n| 0.09607169 | 0.44743056 | 0.4564978 |\n| 0.47621661 | 0.07058258 | 0.4532008 |\n| 0.06278149 | 0.72615063 | 0.2110679 |\n| 0.16418117 | 0.23713794 | 0.5986809 |\n| 0.01851078 | 0.41605445 | 0.5654348 |\n| 0.16418117 | 0.23713794 | 0.5986809 |\n| 0.34958789 | 0.14944103 | 0.5009711 |\n| 0.66177588 | 0.11109621 | 0.2271279 |\n| 0.47453084 | 0.15623929 | 0.3692299 |\n| 0.01851078 | 0.41605445 | 0.5654348 |\n| 0.75131421 | 0.08689409 | 0.1617917 |\n| 0.75131421 | 0.08689409 | 0.1617917 |\n| 0.47621661 | 0.07058258 | 0.4532008 |\n| 0.74023104 | 0.03447237 | 0.2252966 |\n| 0.36791609 | 0.17583052 | 0.4562534 |\n| 0.09691225 | 0.50459266 | 0.3984951 |\n| 0.36791609 | 0.17583052 | 0.4562534 |\n| 0.01851078 | 0.41605445 | 0.5654348 |\n| 0.09691225 | 0.50459266 | 0.3984951 |\n| 0.44796800 | 0.05938926 | 0.4926427 |\n| 0.36791609 | 0.17583052 | 0.4562534 |\n| 0.74023104 | 0.03447237 | 0.2252966 |\n| 0.73948136 | 0.07650043 | 0.1840182 |\n| 0.64651020 | 0.09708043 | 0.2564094 |\n| 0.01851078 | 0.41605445 | 0.5654348 |\n| 0.09691225 | 0.50459266 | 0.3984951 |\n| 0.75131421 | 0.08689409 | 0.1617917 |\n\n",
            "text/latex": "A matrix: 440 × 3 of type dbl\n\\begin{tabular}{lll}\n Avena & Barrita de desayuno & Cereales\\\\\n\\hline\n\t 0.09691225 & 0.50459266 & 0.3984951\\\\\n\t 0.74023104 & 0.03447237 & 0.2252966\\\\\n\t 0.17330115 & 0.27984088 & 0.5468580\\\\\n\t 0.09691225 & 0.50459266 & 0.3984951\\\\\n\t 0.17330115 & 0.27984088 & 0.5468580\\\\\n\t 0.16418117 & 0.23713794 & 0.5986809\\\\\n\t 0.03438956 & 0.26799798 & 0.6976125\\\\\n\t 0.01274981 & 0.71169497 & 0.2755552\\\\\n\t 0.66177588 & 0.11109621 & 0.2271279\\\\\n\t 0.47621661 & 0.07058258 & 0.4532008\\\\\n\t 0.16418117 & 0.23713794 & 0.5986809\\\\\n\t 0.32038193 & 0.30423861 & 0.3753795\\\\\n\t 0.09691225 & 0.50459266 & 0.3984951\\\\\n\t 0.60476441 & 0.22553160 & 0.1697040\\\\\n\t 0.47621661 & 0.07058258 & 0.4532008\\\\\n\t 0.01851078 & 0.41605445 & 0.5654348\\\\\n\t 0.34958789 & 0.14944103 & 0.5009711\\\\\n\t 0.34958789 & 0.14944103 & 0.5009711\\\\\n\t 0.76019776 & 0.03957878 & 0.2002235\\\\\n\t 0.74023104 & 0.03447237 & 0.2252966\\\\\n\t 0.73948136 & 0.07650043 & 0.1840182\\\\\n\t 0.03438956 & 0.26799798 & 0.6976125\\\\\n\t 0.03438956 & 0.26799798 & 0.6976125\\\\\n\t 0.09607169 & 0.44743056 & 0.4564978\\\\\n\t 0.03438956 & 0.26799798 & 0.6976125\\\\\n\t 0.02865550 & 0.49607305 & 0.4752715\\\\\n\t 0.34958789 & 0.14944103 & 0.5009711\\\\\n\t 0.64651020 & 0.09708043 & 0.2564094\\\\\n\t 0.34958789 & 0.14944103 & 0.5009711\\\\\n\t 0.01274981 & 0.71169497 & 0.2755552\\\\\n\t ⋮ & ⋮ & ⋮\\\\\n\t 0.47621661 & 0.07058258 & 0.4532008\\\\\n\t 0.76019776 & 0.03957878 & 0.2002235\\\\\n\t 0.01317445 & 0.65779498 & 0.3290306\\\\\n\t 0.09607169 & 0.44743056 & 0.4564978\\\\\n\t 0.47621661 & 0.07058258 & 0.4532008\\\\\n\t 0.06278149 & 0.72615063 & 0.2110679\\\\\n\t 0.16418117 & 0.23713794 & 0.5986809\\\\\n\t 0.01851078 & 0.41605445 & 0.5654348\\\\\n\t 0.16418117 & 0.23713794 & 0.5986809\\\\\n\t 0.34958789 & 0.14944103 & 0.5009711\\\\\n\t 0.66177588 & 0.11109621 & 0.2271279\\\\\n\t 0.47453084 & 0.15623929 & 0.3692299\\\\\n\t 0.01851078 & 0.41605445 & 0.5654348\\\\\n\t 0.75131421 & 0.08689409 & 0.1617917\\\\\n\t 0.75131421 & 0.08689409 & 0.1617917\\\\\n\t 0.47621661 & 0.07058258 & 0.4532008\\\\\n\t 0.74023104 & 0.03447237 & 0.2252966\\\\\n\t 0.36791609 & 0.17583052 & 0.4562534\\\\\n\t 0.09691225 & 0.50459266 & 0.3984951\\\\\n\t 0.36791609 & 0.17583052 & 0.4562534\\\\\n\t 0.01851078 & 0.41605445 & 0.5654348\\\\\n\t 0.09691225 & 0.50459266 & 0.3984951\\\\\n\t 0.44796800 & 0.05938926 & 0.4926427\\\\\n\t 0.36791609 & 0.17583052 & 0.4562534\\\\\n\t 0.74023104 & 0.03447237 & 0.2252966\\\\\n\t 0.73948136 & 0.07650043 & 0.1840182\\\\\n\t 0.64651020 & 0.09708043 & 0.2564094\\\\\n\t 0.01851078 & 0.41605445 & 0.5654348\\\\\n\t 0.09691225 & 0.50459266 & 0.3984951\\\\\n\t 0.75131421 & 0.08689409 & 0.1617917\\\\\n\\end{tabular}\n",
            "text/plain": [
              "      Avena      Barrita de desayuno Cereales \n",
              " [1,] 0.09691225 0.50459266          0.3984951\n",
              " [2,] 0.74023104 0.03447237          0.2252966\n",
              " [3,] 0.17330115 0.27984088          0.5468580\n",
              " [4,] 0.09691225 0.50459266          0.3984951\n",
              " [5,] 0.17330115 0.27984088          0.5468580\n",
              " [6,] 0.16418117 0.23713794          0.5986809\n",
              " [7,] 0.03438956 0.26799798          0.6976125\n",
              " [8,] 0.01274981 0.71169497          0.2755552\n",
              " [9,] 0.66177588 0.11109621          0.2271279\n",
              "[10,] 0.47621661 0.07058258          0.4532008\n",
              "[11,] 0.16418117 0.23713794          0.5986809\n",
              "[12,] 0.32038193 0.30423861          0.3753795\n",
              "[13,] 0.09691225 0.50459266          0.3984951\n",
              "[14,] 0.60476441 0.22553160          0.1697040\n",
              "[15,] 0.47621661 0.07058258          0.4532008\n",
              "[16,] 0.01851078 0.41605445          0.5654348\n",
              "[17,] 0.34958789 0.14944103          0.5009711\n",
              "[18,] 0.34958789 0.14944103          0.5009711\n",
              "[19,] 0.76019776 0.03957878          0.2002235\n",
              "[20,] 0.74023104 0.03447237          0.2252966\n",
              "[21,] 0.73948136 0.07650043          0.1840182\n",
              "[22,] 0.03438956 0.26799798          0.6976125\n",
              "[23,] 0.03438956 0.26799798          0.6976125\n",
              "[24,] 0.09607169 0.44743056          0.4564978\n",
              "[25,] 0.03438956 0.26799798          0.6976125\n",
              "[26,] 0.02865550 0.49607305          0.4752715\n",
              "[27,] 0.34958789 0.14944103          0.5009711\n",
              "[28,] 0.64651020 0.09708043          0.2564094\n",
              "[29,] 0.34958789 0.14944103          0.5009711\n",
              "[30,] 0.01274981 0.71169497          0.2755552\n",
              "[31,] ⋮          ⋮                   ⋮        \n",
              "[32,] 0.47621661 0.07058258          0.4532008\n",
              "[33,] 0.76019776 0.03957878          0.2002235\n",
              "[34,] 0.01317445 0.65779498          0.3290306\n",
              "[35,] 0.09607169 0.44743056          0.4564978\n",
              "[36,] 0.47621661 0.07058258          0.4532008\n",
              "[37,] 0.06278149 0.72615063          0.2110679\n",
              "[38,] 0.16418117 0.23713794          0.5986809\n",
              "[39,] 0.01851078 0.41605445          0.5654348\n",
              "[40,] 0.16418117 0.23713794          0.5986809\n",
              "[41,] 0.34958789 0.14944103          0.5009711\n",
              "[42,] 0.66177588 0.11109621          0.2271279\n",
              "[43,] 0.47453084 0.15623929          0.3692299\n",
              "[44,] 0.01851078 0.41605445          0.5654348\n",
              "[45,] 0.75131421 0.08689409          0.1617917\n",
              "[46,] 0.75131421 0.08689409          0.1617917\n",
              "[47,] 0.47621661 0.07058258          0.4532008\n",
              "[48,] 0.74023104 0.03447237          0.2252966\n",
              "[49,] 0.36791609 0.17583052          0.4562534\n",
              "[50,] 0.09691225 0.50459266          0.3984951\n",
              "[51,] 0.36791609 0.17583052          0.4562534\n",
              "[52,] 0.01851078 0.41605445          0.5654348\n",
              "[53,] 0.09691225 0.50459266          0.3984951\n",
              "[54,] 0.44796800 0.05938926          0.4926427\n",
              "[55,] 0.36791609 0.17583052          0.4562534\n",
              "[56,] 0.74023104 0.03447237          0.2252966\n",
              "[57,] 0.73948136 0.07650043          0.1840182\n",
              "[58,] 0.64651020 0.09708043          0.2564094\n",
              "[59,] 0.01851078 0.41605445          0.5654348\n",
              "[60,] 0.09691225 0.50459266          0.3984951\n",
              "[61,] 0.75131421 0.08689409          0.1617917"
            ]
          },
          "metadata": {}
        }
      ]
    },
    {
      "cell_type": "code",
      "source": [
        "#crear el objeto de prediccion\n",
        "predcor<-prediction(prednaiveprob[,1], avenas)"
      ],
      "metadata": {
        "id": "wu_xIWfN_kyU"
      },
      "execution_count": 99,
      "outputs": []
    },
    {
      "cell_type": "code",
      "source": [
        "curvaROC<-performance(predcor,measure=\"tpr\",x.measure=\"fpr\")"
      ],
      "metadata": {
        "id": "FsKKZs1Y_mjt"
      },
      "execution_count": 100,
      "outputs": []
    },
    {
      "cell_type": "code",
      "source": [
        "#grafico de la curva\n",
        "plot(curvaROC)"
      ],
      "metadata": {
        "id": "cfLRKA6B_oWG",
        "colab": {
          "base_uri": "https://localhost:8080/",
          "height": 437
        },
        "outputId": "d7f982f3-ed48-4034-9189-e1eca27c5758"
      },
      "execution_count": 101,
      "outputs": [
        {
          "output_type": "display_data",
          "data": {
            "text/plain": [
              "plot without title"
            ],
            "image/png": "[encoded data removed]"
          },
          "metadata": {
            "image/png": {
              "width": 420,
              "height": 420
            }
          }
        }
      ]
    },
    {
      "cell_type": "code",
      "source": [
        "#calcular el AUC\n",
        "auc<-performance(predcor,measure = \"auc\")\n",
        "auc <- auc@y.values[[1]]\n",
        "#ver el AUC\n",
        "auc"
      ],
      "metadata": {
        "id": "J4L-ij0K_pYO",
        "colab": {
          "base_uri": "https://localhost:8080/",
          "height": 34
        },
        "outputId": "f4f74c8b-271e-4d93-8480-316bff6af675"
      },
      "execution_count": 102,
      "outputs": [
        {
          "output_type": "display_data",
          "data": {
            "text/html": [
              "0.851927762975109"
            ],
            "text/markdown": "0.851927762975109",
            "text/latex": "0.851927762975109",
            "text/plain": [
              "[1] 0.8519278"
            ]
          },
          "metadata": {}
        }
      ]
    },
    {
      "cell_type": "markdown",
      "source": [
        "El resultado para avena es bueno. Sin embargo miremos el resultado para cereal."
      ],
      "metadata": {
        "id": "gREyGlrIINlB"
      }
    },
    {
      "cell_type": "code",
      "source": [
        "#crear resultados 1 o 0 para la predicción de cereal\n",
        "cerealk<-ifelse(cereal.test$desayuno==\"Cereales\",1,0)"
      ],
      "metadata": {
        "id": "vmzqlNQV_sWN"
      },
      "execution_count": 103,
      "outputs": []
    },
    {
      "cell_type": "code",
      "source": [
        "#crear el objeto de prediccion\n",
        "predcor2<-prediction(prednaiveprob[,3], cerealk)"
      ],
      "metadata": {
        "id": "IY-sIupx_tu8"
      },
      "execution_count": 104,
      "outputs": []
    },
    {
      "cell_type": "code",
      "source": [
        "curvaROC2<-performance(predcor2,measure=\"tpr\",x.measure=\"fpr\")"
      ],
      "metadata": {
        "id": "Fx74ZzsC_tzu"
      },
      "execution_count": 105,
      "outputs": []
    },
    {
      "cell_type": "code",
      "source": [
        "#grafico de la curva\n",
        "plot(curvaROC2)"
      ],
      "metadata": {
        "id": "lV7Ohg-E_ydN",
        "colab": {
          "base_uri": "https://localhost:8080/",
          "height": 437
        },
        "outputId": "467b4150-4cd0-404d-9ba1-1f31a406bab4"
      },
      "execution_count": 106,
      "outputs": [
        {
          "output_type": "display_data",
          "data": {
            "text/plain": [
              "plot without title"
            ],
            "image/png": "[encoded data removed]"
          },
          "metadata": {
            "image/png": {
              "width": 420,
              "height": 420
            }
          }
        }
      ]
    },
    {
      "cell_type": "code",
      "source": [
        "#calcular el AUC\n",
        "auc2<-performance(predcor2,measure = \"auc\")\n",
        "auc2<- auc2@y.values[[1]]"
      ],
      "metadata": {
        "id": "LWHUJ1IH_1_N"
      },
      "execution_count": 107,
      "outputs": []
    },
    {
      "cell_type": "code",
      "source": [
        "#ver el AUC\n",
        "auc2"
      ],
      "metadata": {
        "id": "t1evF8Xu_2l_",
        "colab": {
          "base_uri": "https://localhost:8080/",
          "height": 34
        },
        "outputId": "7571a7ff-bfac-4a57-fcea-f621503932b3"
      },
      "execution_count": 108,
      "outputs": [
        {
          "output_type": "display_data",
          "data": {
            "text/html": [
              "0.623954671499378"
            ],
            "text/markdown": "0.623954671499378",
            "text/latex": "0.623954671499378",
            "text/plain": [
              "[1] 0.6239547"
            ]
          },
          "metadata": {}
        }
      ]
    },
    {
      "cell_type": "markdown",
      "source": [
        "El resultado para cereal es de tan solo 63.4%, por lo que Naive Bayes no es muy satisfactorio para predecir esta categoría."
      ],
      "metadata": {
        "id": "JdYnBibZIQ9b"
      }
    },
    {
      "cell_type": "code",
      "source": [
        "#guardar las exhaustividades y puntos de corte\n",
        "tablafinan<-performance(predcor2,measure=\"rec\")\n",
        "cutoffs<-unlist(tablafinan@x.values)\n",
        "recalls<-unlist(tablafinan@y.values)"
      ],
      "metadata": {
        "id": "M84PSXex_5Rt"
      },
      "execution_count": 109,
      "outputs": []
    },
    {
      "cell_type": "code",
      "source": [
        "#guardar las precisiones\n",
        "tablafina2<-performance(predcor2,measure=\"prec\")\n",
        "precisions<-unlist(tablafina2@y.values)"
      ],
      "metadata": {
        "id": "6GKx0chU_58F"
      },
      "execution_count": 110,
      "outputs": []
    },
    {
      "cell_type": "code",
      "source": [
        "#guardar f scores\n",
        "tablafina3<-performance(predcor2,measure=\"f\")\n",
        "fscores<-unlist(tablafina3@y.values)"
      ],
      "metadata": {
        "id": "D3-SNmPE_82F"
      },
      "execution_count": 111,
      "outputs": []
    },
    {
      "cell_type": "code",
      "source": [
        "#crear la tabla conjunta\n",
        "tablacruce<-as.data.frame(cbind(cutoffs,precisions,recalls,fscores))"
      ],
      "metadata": {
        "id": "O9DEVYD8__Ml"
      },
      "execution_count": 112,
      "outputs": []
    },
    {
      "cell_type": "code",
      "source": [
        "#ver precisiones versus exhaustividad\n",
        "plot(tablacruce$precisions,tablacruce$recalls)"
      ],
      "metadata": {
        "id": "Y3YmDgrKAAmf",
        "colab": {
          "base_uri": "https://localhost:8080/",
          "height": 437
        },
        "outputId": "b15c7608-23d9-4126-c96c-812c7c6edec2"
      },
      "execution_count": 113,
      "outputs": [
        {
          "output_type": "display_data",
          "data": {
            "text/plain": [
              "plot without title"
            ],
            "image/png": "[encoded data removed]"
          },
          "metadata": {
            "image/png": {
              "width": 420,
              "height": 420
            }
          }
        }
      ]
    },
    {
      "cell_type": "code",
      "source": [
        "#ver el cutoff que maximiza f score\n",
        "ggplot(tablacruce, aes(cutoffs,fscores))+geom_point()"
      ],
      "metadata": {
        "id": "6L0ysMz7ACKG",
        "colab": {
          "base_uri": "https://localhost:8080/",
          "height": 489
        },
        "outputId": "4e7bdecc-cf2e-4693-edfa-82e8fbb89af0"
      },
      "execution_count": 114,
      "outputs": [
        {
          "output_type": "stream",
          "name": "stderr",
          "text": [
            "Warning message:\n",
            "“\u001b[1m\u001b[22mRemoved 1 row containing missing values or values outside the scale range\n",
            "(`geom_point()`).”\n"
          ]
        },
        {
          "output_type": "display_data",
          "data": {
            "text/plain": [
              "plot without title"
            ],
            "image/png": "[encoded data removed]"
          },
          "metadata": {
            "image/png": {
              "width": 420,
              "height": 420
            }
          }
        }
      ]
    },
    {
      "cell_type": "markdown",
      "source": [
        "## Conclusión"
      ],
      "metadata": {
        "id": "uHoFtdG5IUnU"
      }
    },
    {
      "cell_type": "markdown",
      "source": [
        "En este libro de notas revisamos dos técnicas básicas de predicción, particularmente de clasificación, que pueden usarse como líneas de base ingenua y que son sorprendentemente buenas a pesar de su sencillez. Un modelo más sofisticado debe demostrar su utilidad frente a modelos ingenuos para justificar el esfuerzo de su realización. Así mismos estas técnicas básicas suelen ser altamente escalables a grandes volúmenes de datos.\n",
        "\n"
      ],
      "metadata": {
        "id": "nK6vP_mHIW4v"
      }
    }
  ]
}