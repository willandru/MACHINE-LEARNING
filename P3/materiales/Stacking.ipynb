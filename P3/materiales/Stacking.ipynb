{
  "nbformat": 4,
  "nbformat_minor": 0,
  "metadata": {
    "colab": {
      "provenance": []
    },
    "kernelspec": {
      "name": "ir",
      "display_name": "R"
    },
    "language_info": {
      "name": "R"
    }
  },
  "cells": [
    {
      "cell_type": "code",
      "execution_count": 4,
      "metadata": {
        "colab": {
          "base_uri": "https://localhost:8080/"
        },
        "id": "jSU5OgQ2NCdy",
        "outputId": "8ac46220-a466-4f27-c2fe-9fe0a399dfc4"
      },
      "outputs": [
        {
          "output_type": "stream",
          "name": "stderr",
          "text": [
            "Installing package into ‘/usr/local/lib/R/site-library’\n",
            "(as ‘lib’ is unspecified)\n",
            "\n",
            "also installing the dependencies ‘bitops’, ‘RCurl’\n",
            "\n",
            "\n",
            "\n",
            "----------------------------------------------------------------------\n",
            "\n",
            "Your next step is to start H2O:\n",
            "    > h2o.init()\n",
            "\n",
            "For H2O package documentation, ask for help:\n",
            "    > ??h2o\n",
            "\n",
            "After starting H2O, you can use the Web UI at http://localhost:54321\n",
            "For more information visit https://docs.h2o.ai\n",
            "\n",
            "----------------------------------------------------------------------\n",
            "\n",
            "\n",
            "\n",
            "Attaching package: ‘h2o’\n",
            "\n",
            "\n",
            "The following objects are masked from ‘package:lubridate’:\n",
            "\n",
            "    day, hour, month, week, year\n",
            "\n",
            "\n",
            "The following objects are masked from ‘package:stats’:\n",
            "\n",
            "    cor, sd, var\n",
            "\n",
            "\n",
            "The following objects are masked from ‘package:base’:\n",
            "\n",
            "    &&, %*%, %in%, ||, apply, as.factor, as.numeric, colnames,\n",
            "    colnames<-, ifelse, is.character, is.factor, is.numeric, log,\n",
            "    log10, log1p, log2, round, signif, trunc\n",
            "\n",
            "\n"
          ]
        }
      ],
      "source": [
        "install.packages(\"h2o\")\n",
        "library(h2o)\n",
        "library(tidyverse)"
      ]
    },
    {
      "cell_type": "code",
      "source": [
        "library(h2o)\n",
        "h2o.init()\n",
        "\n",
        "# Import a sample binary outcome train/test set into H2O\n",
        "train <- h2o.importFile(\"https://s3.amazonaws.com/h2o-public-test-data/smalldata/higgs/higgs_train_10k.csv\")\n",
        "test <- h2o.importFile(\"https://s3.amazonaws.com/h2o-public-test-data/smalldata/higgs/higgs_test_5k.csv\")\n",
        "\n",
        "# Identify predictors and response\n",
        "y <- \"response\"\n",
        "x <- setdiff(names(train), y)"
      ],
      "metadata": {
        "colab": {
          "base_uri": "https://localhost:8080/"
        },
        "id": "p1-atktXTGTY",
        "outputId": "de51d055-ca5e-458d-de8b-5453449fa105"
      },
      "execution_count": 24,
      "outputs": [
        {
          "output_type": "stream",
          "name": "stdout",
          "text": [
            " Connection successful!\n",
            "\n",
            "R is connected to the H2O cluster: \n",
            "    H2O cluster uptime:         14 minutes 49 seconds \n",
            "    H2O cluster timezone:       Etc/UTC \n",
            "    H2O data parsing timezone:  UTC \n",
            "    H2O cluster version:        3.44.0.3 \n",
            "    H2O cluster version age:    10 months and 18 days \n",
            "    H2O cluster name:           H2O_started_from_R_root_qad537 \n",
            "    H2O cluster total nodes:    1 \n",
            "    H2O cluster total memory:   3.17 GB \n",
            "    H2O cluster total cores:    2 \n",
            "    H2O cluster allowed cores:  2 \n",
            "    H2O cluster healthy:        TRUE \n",
            "    H2O Connection ip:          localhost \n",
            "    H2O Connection port:        54321 \n",
            "    H2O Connection proxy:       NA \n",
            "    H2O Internal Security:      FALSE \n",
            "    R Version:                  R version 4.4.2 (2024-10-31) \n"
          ]
        },
        {
          "output_type": "stream",
          "name": "stderr",
          "text": [
            "Warning message in h2o.clusterInfo():\n",
            "“\n",
            "Your H2O cluster version is (10 months and 18 days) old. There may be a newer version available.\n",
            "Please download and install the latest version from: https://h2o-release.s3.amazonaws.com/h2o/latest_stable.html”\n"
          ]
        },
        {
          "output_type": "stream",
          "name": "stdout",
          "text": [
            "\n",
            "  |======================================================================| 100%\n",
            "  |======================================================================| 100%\n"
          ]
        }
      ]
    },
    {
      "cell_type": "code",
      "source": [
        "# For binary classification, response should be a factor\n",
        "train[, y] <- as.factor(train[, y])\n",
        "test[, y] <- as.factor(test[, y])"
      ],
      "metadata": {
        "id": "wpsu6EMKTQXS"
      },
      "execution_count": 25,
      "outputs": []
    },
    {
      "cell_type": "code",
      "source": [
        "head(train)"
      ],
      "metadata": {
        "colab": {
          "base_uri": "https://localhost:8080/",
          "height": 306
        },
        "id": "Ihdkw4XrTRvv",
        "outputId": "8e6b47ca-9a14-444d-e323-295674666f8c"
      },
      "execution_count": 28,
      "outputs": [
        {
          "output_type": "display_data",
          "data": {
            "text/html": [
              "<table class=\"dataframe\">\n",
              "<caption>A data.frame: 6 × 29</caption>\n",
              "<thead>\n",
              "\t<tr><th></th><th scope=col>response</th><th scope=col>x1</th><th scope=col>x2</th><th scope=col>x3</th><th scope=col>x4</th><th scope=col>x5</th><th scope=col>x6</th><th scope=col>x7</th><th scope=col>x8</th><th scope=col>x9</th><th scope=col>⋯</th><th scope=col>x19</th><th scope=col>x20</th><th scope=col>x21</th><th scope=col>x22</th><th scope=col>x23</th><th scope=col>x24</th><th scope=col>x25</th><th scope=col>x26</th><th scope=col>x27</th><th scope=col>x28</th></tr>\n",
              "\t<tr><th></th><th scope=col>&lt;fct&gt;</th><th scope=col>&lt;dbl&gt;</th><th scope=col>&lt;dbl&gt;</th><th scope=col>&lt;dbl&gt;</th><th scope=col>&lt;dbl&gt;</th><th scope=col>&lt;dbl&gt;</th><th scope=col>&lt;dbl&gt;</th><th scope=col>&lt;dbl&gt;</th><th scope=col>&lt;dbl&gt;</th><th scope=col>&lt;dbl&gt;</th><th scope=col>⋯</th><th scope=col>&lt;dbl&gt;</th><th scope=col>&lt;dbl&gt;</th><th scope=col>&lt;dbl&gt;</th><th scope=col>&lt;dbl&gt;</th><th scope=col>&lt;dbl&gt;</th><th scope=col>&lt;dbl&gt;</th><th scope=col>&lt;dbl&gt;</th><th scope=col>&lt;dbl&gt;</th><th scope=col>&lt;dbl&gt;</th><th scope=col>&lt;dbl&gt;</th></tr>\n",
              "</thead>\n",
              "<tbody>\n",
              "\t<tr><th scope=row>1</th><td>1</td><td>0.8692932</td><td>-0.6350818</td><td> 0.225690261</td><td>0.3274701</td><td>-0.6899932</td><td>0.7542022</td><td>-0.2485731</td><td>-1.0920639</td><td>0.000000</td><td>⋯</td><td>-0.01045457</td><td>-0.0457671694</td><td>3.101961</td><td>1.3537600</td><td>0.9795631</td><td>0.9780762</td><td>0.9200048</td><td>0.7216575</td><td>0.9887509</td><td>0.8766783</td></tr>\n",
              "\t<tr><th scope=row>2</th><td>1</td><td>0.9075421</td><td> 0.3291473</td><td> 0.359411865</td><td>1.4979699</td><td>-0.3130095</td><td>1.0955306</td><td>-0.5575249</td><td>-1.5882298</td><td>2.173076</td><td>⋯</td><td>-1.13893008</td><td>-0.0008191102</td><td>0.000000</td><td>0.3022199</td><td>0.8330482</td><td>0.9856997</td><td>0.9780984</td><td>0.7797322</td><td>0.9923558</td><td>0.7983426</td></tr>\n",
              "\t<tr><th scope=row>3</th><td>1</td><td>0.7988347</td><td> 1.4706388</td><td>-1.635974765</td><td>0.4537732</td><td> 0.4256292</td><td>1.1048746</td><td> 1.2823223</td><td> 1.3816643</td><td>0.000000</td><td>⋯</td><td> 1.12884760</td><td> 0.9004608393</td><td>0.000000</td><td>0.9097533</td><td>1.1083305</td><td>0.9856922</td><td>0.9513313</td><td>0.8032515</td><td>0.8659244</td><td>0.7801176</td></tr>\n",
              "\t<tr><th scope=row>4</th><td>0</td><td>1.3443848</td><td>-0.8766260</td><td> 0.935912728</td><td>1.9920501</td><td> 0.8824544</td><td>1.7860659</td><td>-1.6467777</td><td>-0.9423825</td><td>0.000000</td><td>⋯</td><td>-0.67837882</td><td>-1.3603563309</td><td>0.000000</td><td>0.9466525</td><td>1.0287037</td><td>0.9986561</td><td>0.7282806</td><td>0.8692002</td><td>1.0267365</td><td>0.9579040</td></tr>\n",
              "\t<tr><th scope=row>5</th><td>1</td><td>1.1050090</td><td> 0.3213556</td><td> 1.522401214</td><td>0.8828076</td><td>-1.2053493</td><td>0.6814661</td><td>-1.0704639</td><td>-0.9218706</td><td>0.000000</td><td>⋯</td><td>-0.37356552</td><td> 0.1130406111</td><td>0.000000</td><td>0.7558565</td><td>1.3610570</td><td>0.9866097</td><td>0.8380846</td><td>1.1332952</td><td>0.8722449</td><td>0.8084865</td></tr>\n",
              "\t<tr><th scope=row>6</th><td>0</td><td>1.5958393</td><td>-0.6078107</td><td> 0.007074916</td><td>1.8184496</td><td>-0.1119060</td><td>0.8475499</td><td>-0.5664370</td><td> 1.5812393</td><td>2.173076</td><td>⋯</td><td>-0.65422696</td><td>-1.2743449211</td><td>3.101961</td><td>0.8237606</td><td>0.9381914</td><td>0.9717582</td><td>0.7891763</td><td>0.4305533</td><td>0.9613569</td><td>0.9578179</td></tr>\n",
              "</tbody>\n",
              "</table>\n"
            ],
            "text/markdown": "\nA data.frame: 6 × 29\n\n| <!--/--> | response &lt;fct&gt; | x1 &lt;dbl&gt; | x2 &lt;dbl&gt; | x3 &lt;dbl&gt; | x4 &lt;dbl&gt; | x5 &lt;dbl&gt; | x6 &lt;dbl&gt; | x7 &lt;dbl&gt; | x8 &lt;dbl&gt; | x9 &lt;dbl&gt; | ⋯ ⋯ | x19 &lt;dbl&gt; | x20 &lt;dbl&gt; | x21 &lt;dbl&gt; | x22 &lt;dbl&gt; | x23 &lt;dbl&gt; | x24 &lt;dbl&gt; | x25 &lt;dbl&gt; | x26 &lt;dbl&gt; | x27 &lt;dbl&gt; | x28 &lt;dbl&gt; |\n|---|---|---|---|---|---|---|---|---|---|---|---|---|---|---|---|---|---|---|---|---|---|\n| 1 | 1 | 0.8692932 | -0.6350818 |  0.225690261 | 0.3274701 | -0.6899932 | 0.7542022 | -0.2485731 | -1.0920639 | 0.000000 | ⋯ | -0.01045457 | -0.0457671694 | 3.101961 | 1.3537600 | 0.9795631 | 0.9780762 | 0.9200048 | 0.7216575 | 0.9887509 | 0.8766783 |\n| 2 | 1 | 0.9075421 |  0.3291473 |  0.359411865 | 1.4979699 | -0.3130095 | 1.0955306 | -0.5575249 | -1.5882298 | 2.173076 | ⋯ | -1.13893008 | -0.0008191102 | 0.000000 | 0.3022199 | 0.8330482 | 0.9856997 | 0.9780984 | 0.7797322 | 0.9923558 | 0.7983426 |\n| 3 | 1 | 0.7988347 |  1.4706388 | -1.635974765 | 0.4537732 |  0.4256292 | 1.1048746 |  1.2823223 |  1.3816643 | 0.000000 | ⋯ |  1.12884760 |  0.9004608393 | 0.000000 | 0.9097533 | 1.1083305 | 0.9856922 | 0.9513313 | 0.8032515 | 0.8659244 | 0.7801176 |\n| 4 | 0 | 1.3443848 | -0.8766260 |  0.935912728 | 1.9920501 |  0.8824544 | 1.7860659 | -1.6467777 | -0.9423825 | 0.000000 | ⋯ | -0.67837882 | -1.3603563309 | 0.000000 | 0.9466525 | 1.0287037 | 0.9986561 | 0.7282806 | 0.8692002 | 1.0267365 | 0.9579040 |\n| 5 | 1 | 1.1050090 |  0.3213556 |  1.522401214 | 0.8828076 | -1.2053493 | 0.6814661 | -1.0704639 | -0.9218706 | 0.000000 | ⋯ | -0.37356552 |  0.1130406111 | 0.000000 | 0.7558565 | 1.3610570 | 0.9866097 | 0.8380846 | 1.1332952 | 0.8722449 | 0.8084865 |\n| 6 | 0 | 1.5958393 | -0.6078107 |  0.007074916 | 1.8184496 | -0.1119060 | 0.8475499 | -0.5664370 |  1.5812393 | 2.173076 | ⋯ | -0.65422696 | -1.2743449211 | 3.101961 | 0.8237606 | 0.9381914 | 0.9717582 | 0.7891763 | 0.4305533 | 0.9613569 | 0.9578179 |\n\n",
            "text/latex": "A data.frame: 6 × 29\n\\begin{tabular}{r|lllllllllllllllllllll}\n  & response & x1 & x2 & x3 & x4 & x5 & x6 & x7 & x8 & x9 & ⋯ & x19 & x20 & x21 & x22 & x23 & x24 & x25 & x26 & x27 & x28\\\\\n  & <fct> & <dbl> & <dbl> & <dbl> & <dbl> & <dbl> & <dbl> & <dbl> & <dbl> & <dbl> & ⋯ & <dbl> & <dbl> & <dbl> & <dbl> & <dbl> & <dbl> & <dbl> & <dbl> & <dbl> & <dbl>\\\\\n\\hline\n\t1 & 1 & 0.8692932 & -0.6350818 &  0.225690261 & 0.3274701 & -0.6899932 & 0.7542022 & -0.2485731 & -1.0920639 & 0.000000 & ⋯ & -0.01045457 & -0.0457671694 & 3.101961 & 1.3537600 & 0.9795631 & 0.9780762 & 0.9200048 & 0.7216575 & 0.9887509 & 0.8766783\\\\\n\t2 & 1 & 0.9075421 &  0.3291473 &  0.359411865 & 1.4979699 & -0.3130095 & 1.0955306 & -0.5575249 & -1.5882298 & 2.173076 & ⋯ & -1.13893008 & -0.0008191102 & 0.000000 & 0.3022199 & 0.8330482 & 0.9856997 & 0.9780984 & 0.7797322 & 0.9923558 & 0.7983426\\\\\n\t3 & 1 & 0.7988347 &  1.4706388 & -1.635974765 & 0.4537732 &  0.4256292 & 1.1048746 &  1.2823223 &  1.3816643 & 0.000000 & ⋯ &  1.12884760 &  0.9004608393 & 0.000000 & 0.9097533 & 1.1083305 & 0.9856922 & 0.9513313 & 0.8032515 & 0.8659244 & 0.7801176\\\\\n\t4 & 0 & 1.3443848 & -0.8766260 &  0.935912728 & 1.9920501 &  0.8824544 & 1.7860659 & -1.6467777 & -0.9423825 & 0.000000 & ⋯ & -0.67837882 & -1.3603563309 & 0.000000 & 0.9466525 & 1.0287037 & 0.9986561 & 0.7282806 & 0.8692002 & 1.0267365 & 0.9579040\\\\\n\t5 & 1 & 1.1050090 &  0.3213556 &  1.522401214 & 0.8828076 & -1.2053493 & 0.6814661 & -1.0704639 & -0.9218706 & 0.000000 & ⋯ & -0.37356552 &  0.1130406111 & 0.000000 & 0.7558565 & 1.3610570 & 0.9866097 & 0.8380846 & 1.1332952 & 0.8722449 & 0.8084865\\\\\n\t6 & 0 & 1.5958393 & -0.6078107 &  0.007074916 & 1.8184496 & -0.1119060 & 0.8475499 & -0.5664370 &  1.5812393 & 2.173076 & ⋯ & -0.65422696 & -1.2743449211 & 3.101961 & 0.8237606 & 0.9381914 & 0.9717582 & 0.7891763 & 0.4305533 & 0.9613569 & 0.9578179\\\\\n\\end{tabular}\n",
            "text/plain": [
              "  response x1        x2         x3           x4        x5         x6       \n",
              "1 1        0.8692932 -0.6350818  0.225690261 0.3274701 -0.6899932 0.7542022\n",
              "2 1        0.9075421  0.3291473  0.359411865 1.4979699 -0.3130095 1.0955306\n",
              "3 1        0.7988347  1.4706388 -1.635974765 0.4537732  0.4256292 1.1048746\n",
              "4 0        1.3443848 -0.8766260  0.935912728 1.9920501  0.8824544 1.7860659\n",
              "5 1        1.1050090  0.3213556  1.522401214 0.8828076 -1.2053493 0.6814661\n",
              "6 0        1.5958393 -0.6078107  0.007074916 1.8184496 -0.1119060 0.8475499\n",
              "  x7         x8         x9       ⋯ x19         x20           x21      x22      \n",
              "1 -0.2485731 -1.0920639 0.000000 ⋯ -0.01045457 -0.0457671694 3.101961 1.3537600\n",
              "2 -0.5575249 -1.5882298 2.173076 ⋯ -1.13893008 -0.0008191102 0.000000 0.3022199\n",
              "3  1.2823223  1.3816643 0.000000 ⋯  1.12884760  0.9004608393 0.000000 0.9097533\n",
              "4 -1.6467777 -0.9423825 0.000000 ⋯ -0.67837882 -1.3603563309 0.000000 0.9466525\n",
              "5 -1.0704639 -0.9218706 0.000000 ⋯ -0.37356552  0.1130406111 0.000000 0.7558565\n",
              "6 -0.5664370  1.5812393 2.173076 ⋯ -0.65422696 -1.2743449211 3.101961 0.8237606\n",
              "  x23       x24       x25       x26       x27       x28      \n",
              "1 0.9795631 0.9780762 0.9200048 0.7216575 0.9887509 0.8766783\n",
              "2 0.8330482 0.9856997 0.9780984 0.7797322 0.9923558 0.7983426\n",
              "3 1.1083305 0.9856922 0.9513313 0.8032515 0.8659244 0.7801176\n",
              "4 1.0287037 0.9986561 0.7282806 0.8692002 1.0267365 0.9579040\n",
              "5 1.3610570 0.9866097 0.8380846 1.1332952 0.8722449 0.8084865\n",
              "6 0.9381914 0.9717582 0.7891763 0.4305533 0.9613569 0.9578179"
            ]
          },
          "metadata": {}
        }
      ]
    },
    {
      "cell_type": "code",
      "source": [
        "# Train & Cross-validate a GBM\n",
        "my_gbm <- h2o.gbm(x = x,\n",
        "                  y = y,\n",
        "                  training_frame = train,\n",
        "                  distribution = \"bernoulli\",\n",
        "                  ntrees = 10,\n",
        "                  max_depth = 3,\n",
        "                  min_rows = 2,\n",
        "                  learn_rate = 0.2,\n",
        "                  nfolds = nfolds,\n",
        "                  keep_cross_validation_predictions = TRUE,\n",
        "                  seed = 1)"
      ],
      "metadata": {
        "colab": {
          "base_uri": "https://localhost:8080/"
        },
        "id": "_NL0ITI4TqWu",
        "outputId": "271f9a79-bc69-4ade-aeb9-b416191fc0f4"
      },
      "execution_count": 29,
      "outputs": [
        {
          "output_type": "stream",
          "name": "stdout",
          "text": [
            "  |======================================================================| 100%\n"
          ]
        }
      ]
    },
    {
      "cell_type": "code",
      "source": [
        "# Train & Cross-validate a RF\n",
        "my_rf <- h2o.randomForest(x = x,\n",
        "                          y = y,\n",
        "                          training_frame = train,\n",
        "                          ntrees = 50,\n",
        "                          nfolds = nfolds,\n",
        "                          keep_cross_validation_predictions = TRUE,\n",
        "                          seed = 1)"
      ],
      "metadata": {
        "colab": {
          "base_uri": "https://localhost:8080/"
        },
        "id": "xXKUpEA8TsH2",
        "outputId": "7e5dc757-14b6-4c54-d5a4-e230cc975c28"
      },
      "execution_count": 30,
      "outputs": [
        {
          "output_type": "stream",
          "name": "stdout",
          "text": [
            "  |======================================================================| 100%\n"
          ]
        }
      ]
    },
    {
      "cell_type": "code",
      "source": [
        "# Train a stacked ensemble using the GBM and RF above\n",
        "ensemble <- h2o.stackedEnsemble(x = x,\n",
        "                                y = y,\n",
        "                                training_frame = train,\n",
        "                                base_models = list(my_gbm, my_rf))\n",
        "\n",
        "# Eval ensemble performance on a test set\n",
        "perf <- h2o.performance(ensemble, newdata = test)\n"
      ],
      "metadata": {
        "id": "NmBp1W_cTy4m"
      },
      "execution_count": null,
      "outputs": []
    },
    {
      "cell_type": "code",
      "source": [
        "# Compare to base learner performance on the test set\n",
        "perf_gbm_test <- h2o.performance(my_gbm, newdata = test)\n",
        "perf_rf_test <- h2o.performance(my_rf, newdata = test)\n",
        "\n",
        "print(sprintf(\"GBM Test AUC:  %s\", h2o.auc(perf_gbm_test)))\n",
        "print(sprintf(\"RF Test AUC:  %s\", h2o.auc(perf_rf_test)))\n",
        "print(sprintf(\"Ensemble Test AUC:  %s\", h2o.auc(perf)))"
      ],
      "metadata": {
        "colab": {
          "base_uri": "https://localhost:8080/"
        },
        "id": "xMFlMgkJT5RC",
        "outputId": "5dbbaf1c-9f5c-4683-abd1-db7b9cf24a6c"
      },
      "execution_count": 33,
      "outputs": [
        {
          "output_type": "stream",
          "name": "stdout",
          "text": [
            "[1] \"GBM Test AUC:  0.752268622979435\"\n",
            "[1] \"RF Test AUC:  0.769201346573838\"\n",
            "[1] \"Ensemble Test AUC:  0.973863636363636\"\n"
          ]
        }
      ]
    }
  ]
}