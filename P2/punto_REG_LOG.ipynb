{
  "nbformat": 4,
  "nbformat_minor": 0,
  "metadata": {
    "colab": {
      "provenance": []
    },
    "kernelspec": {
      "name": "ir",
      "display_name": "R"
    },
    "language_info": {
      "name": "R"
    }
  },
  "cells": [
    {
      "cell_type": "markdown",
      "source": [
        "William Andres Gomez Roa\n"
      ],
      "metadata": {
        "id": "THXAgdyZlB8-"
      }
    },
    {
      "cell_type": "markdown",
      "source": [
        "# PUNTO 2: REGRESION LOGISTICA"
      ],
      "metadata": {
        "id": "hrhD_8rtk8sQ"
      }
    },
    {
      "cell_type": "code",
      "source": [
        "if (!require('caret')) install.packages('caret')\n",
        "if (!require('ROCR')) install.packages('ROCR')"
      ],
      "metadata": {
        "colab": {
          "base_uri": "https://localhost:8080/"
        },
        "id": "PK0spYe7xcFe",
        "outputId": "28ebf40b-9e01-4a91-cd86-0b4b1e83e0df"
      },
      "execution_count": 4,
      "outputs": [
        {
          "output_type": "stream",
          "name": "stderr",
          "text": [
            "Loading required package: caret\n",
            "\n",
            "Warning message in library(package, lib.loc = lib.loc, character.only = TRUE, logical.return = TRUE, :\n",
            "“there is no package called ‘caret’”\n",
            "Installing package into ‘/usr/local/lib/R/site-library’\n",
            "(as ‘lib’ is unspecified)\n",
            "\n",
            "also installing the dependencies ‘listenv’, ‘parallelly’, ‘future’, ‘globals’, ‘shape’, ‘future.apply’, ‘numDeriv’, ‘progressr’, ‘SQUAREM’, ‘diagram’, ‘lava’, ‘prodlim’, ‘proxy’, ‘iterators’, ‘clock’, ‘gower’, ‘hardhat’, ‘ipred’, ‘timeDate’, ‘e1071’, ‘foreach’, ‘ModelMetrics’, ‘plyr’, ‘pROC’, ‘recipes’, ‘reshape2’\n",
            "\n",
            "\n",
            "Loading required package: ROCR\n",
            "\n",
            "Warning message in library(package, lib.loc = lib.loc, character.only = TRUE, logical.return = TRUE, :\n",
            "“there is no package called ‘ROCR’”\n",
            "Installing package into ‘/usr/local/lib/R/site-library’\n",
            "(as ‘lib’ is unspecified)\n",
            "\n",
            "also installing the dependencies ‘bitops’, ‘gtools’, ‘caTools’, ‘gplots’\n",
            "\n",
            "\n"
          ]
        }
      ]
    },
    {
      "cell_type": "code",
      "source": [
        "if (!require('glmnet')) install.packages('glmnet')\n",
        "library(glmnet)"
      ],
      "metadata": {
        "colab": {
          "base_uri": "https://localhost:8080/"
        },
        "id": "07MttT6PAb7l",
        "outputId": "042bbee6-b1a9-4c9e-dc7d-7f7c129813e2"
      },
      "execution_count": 71,
      "outputs": [
        {
          "output_type": "stream",
          "name": "stderr",
          "text": [
            "Loading required package: glmnet\n",
            "\n",
            "Warning message in library(package, lib.loc = lib.loc, character.only = TRUE, logical.return = TRUE, :\n",
            "“there is no package called ‘glmnet’”\n",
            "Installing package into ‘/usr/local/lib/R/site-library’\n",
            "(as ‘lib’ is unspecified)\n",
            "\n",
            "also installing the dependency ‘RcppEigen’\n",
            "\n",
            "\n",
            "Loading required package: Matrix\n",
            "\n",
            "Loaded glmnet 4.1-8\n",
            "\n"
          ]
        }
      ]
    },
    {
      "cell_type": "code",
      "execution_count": 6,
      "metadata": {
        "colab": {
          "base_uri": "https://localhost:8080/"
        },
        "id": "Pi4XvN0Xk8Mi",
        "outputId": "126790b8-948b-4da4-bd39-efa974d72466"
      },
      "outputs": [
        {
          "output_type": "stream",
          "name": "stderr",
          "text": [
            "Loading required package: ggplot2\n",
            "\n",
            "Loading required package: lattice\n",
            "\n"
          ]
        }
      ],
      "source": [
        "library(readxl)\n",
        "library(dplyr)\n",
        "library(caret)\n",
        "library(ROCR)\n",
        "library(ggplot2)"
      ]
    },
    {
      "cell_type": "code",
      "source": [
        "renunciar <-read_excel(\"RH_DataSet.xlsx\")\n",
        "renunciar$Renuncia <- as.factor(renunciar$Renuncia)\n",
        "str(renunciar) # 1= se queda, 0 = RENUNCIA\n"
      ],
      "metadata": {
        "colab": {
          "base_uri": "https://localhost:8080/"
        },
        "id": "afgl0QdHletU",
        "outputId": "abdfb153-65e8-4872-ffff-17ede712a671"
      },
      "execution_count": 37,
      "outputs": [
        {
          "output_type": "stream",
          "name": "stdout",
          "text": [
            "tibble [1,000 × 11] (S3: tbl_df/tbl/data.frame)\n",
            " $ Porcentaje de retraso                                     : num [1:1000] 0.478 0.298 0.353 0.685 0.714 ...\n",
            " $ Porcentaje de iniciativa en proyectos                     : num [1:1000] 0.518 0.404 0.546 0.679 0.365 ...\n",
            " $ Porcentaje de entrega de proyectos a tiempo               : num [1:1000] 0.256 0.235 0.484 0.311 0.294 ...\n",
            " $ Porcentaje de correos electrónicos intercambiados         : num [1:1000] 0.447 0.491 0.51 0.491 0.392 ...\n",
            " $ Porcentaje de receptividad                                : num [1:1000] 0.349 0.456 0.908 0.62 0.687 ...\n",
            " $ Porcentaje de respuesta profesional a correos electrónicos: num [1:1000] 0.0642 0.2749 0.3264 0.4363 0.3142 ...\n",
            " $ Porcentaje de compartir ideas                             : num [1:1000] 0.328 0.268 0.939 0.786 0.578 ...\n",
            " $ Porcentaje de ayudar a compañeros                         : num [1:1000] 0.232 0.481 0.575 0.727 0.234 ...\n",
            " $ Porcentaje de publicaciones empresariales en LinkedIn     : num [1:1000] 0.338 0.169 0.39 0.761 0.723 ...\n",
            " $ Porcentaje de comentarios en Facebook                     : num [1:1000] 0.472 0.68 0.515 0.409 0.621 ...\n",
            " $ Renuncia                                                  : Factor w/ 2 levels \"0\",\"1\": 2 1 1 2 2 1 1 1 1 2 ...\n"
          ]
        }
      ]
    },
    {
      "cell_type": "code",
      "source": [
        "# DATASET DE ENTRENAMIENTO Y DATASET DE PRUEBA\n",
        "set.seed(1)\n",
        "\n",
        "sample <- sample.int(nrow(renunciar), floor(.75*nrow(renunciar)))\n",
        "renunciar.train <- renunciar[sample, ]\n",
        "renunciar.test <- renunciar[-sample, ]\n",
        "\n",
        "str(renunciar.train)\n"
      ],
      "metadata": {
        "colab": {
          "base_uri": "https://localhost:8080/"
        },
        "id": "lG5n5Vawleou",
        "outputId": "576bf0a5-91b4-475c-bf10-2d7ac369b9fe"
      },
      "execution_count": 38,
      "outputs": [
        {
          "output_type": "stream",
          "name": "stdout",
          "text": [
            "tibble [750 × 11] (S3: tbl_df/tbl/data.frame)\n",
            " $ Porcentaje de retraso                                     : num [1:750] 0.498 0.578 0.438 0.489 0.408 ...\n",
            " $ Porcentaje de iniciativa en proyectos                     : num [1:750] 0.473 0.434 0.385 0.288 0.718 ...\n",
            " $ Porcentaje de entrega de proyectos a tiempo               : num [1:750] 0.646 0.166 0.234 0.478 0.612 ...\n",
            " $ Porcentaje de correos electrónicos intercambiados         : num [1:750] 0.347 0.41 0.203 0.295 0.421 ...\n",
            " $ Porcentaje de receptividad                                : num [1:750] 0.86 0.321 0.301 0.425 0.627 ...\n",
            " $ Porcentaje de respuesta profesional a correos electrónicos: num [1:750] 0.633 0.361 0.358 0.717 0.883 ...\n",
            " $ Porcentaje de compartir ideas                             : num [1:750] 0.764 0.491 0.261 0.321 0.52 ...\n",
            " $ Porcentaje de ayudar a compañeros                         : num [1:750] 0.315 0.744 0.577 0.802 0.836 ...\n",
            " $ Porcentaje de publicaciones empresariales en LinkedIn     : num [1:750] 0.358 0.608 0.51 0.597 0.32 ...\n",
            " $ Porcentaje de comentarios en Facebook                     : num [1:750] 0.759 0.651 0.498 0.695 0.513 ...\n",
            " $ Renuncia                                                  : Factor w/ 2 levels \"0\",\"1\": 1 2 2 1 1 1 1 2 1 1 ...\n"
          ]
        }
      ]
    },
    {
      "cell_type": "code",
      "source": [
        "# MODELO STEP\n",
        "##Modelo\n",
        "set.seed(1)\n",
        "modelo.logit<-glm(Renuncia~.,family=binomial,renunciar.train)\n",
        "#trace=0 impide ver todos los detalles de la optimización stepwise\n",
        "steplogit<-step(modelo.logit, direction=\"both\")\n",
        "summary(steplogit)"
      ],
      "metadata": {
        "colab": {
          "base_uri": "https://localhost:8080/",
          "height": 1000
        },
        "id": "AIXimt8VyA_Y",
        "outputId": "5d7ec55c-356d-48bf-a689-cd2bab3d4e10"
      },
      "execution_count": 39,
      "outputs": [
        {
          "output_type": "stream",
          "name": "stdout",
          "text": [
            "Start:  AIC=209.55\n",
            "Renuncia ~ `Porcentaje de retraso` + `Porcentaje de iniciativa en proyectos` + \n",
            "    `Porcentaje de entrega de proyectos a tiempo` + `Porcentaje de correos electrónicos intercambiados` + \n",
            "    `Porcentaje de receptividad` + `Porcentaje de respuesta profesional a correos electrónicos` + \n",
            "    `Porcentaje de compartir ideas` + `Porcentaje de ayudar a compañeros` + \n",
            "    `Porcentaje de publicaciones empresariales en LinkedIn` + \n",
            "    `Porcentaje de comentarios en Facebook`\n",
            "\n",
            "                                                               Df Deviance\n",
            "- `Porcentaje de comentarios en Facebook`                       1   187.58\n",
            "- `Porcentaje de correos electrónicos intercambiados`           1   187.87\n",
            "<none>                                                              187.56\n",
            "- `Porcentaje de compartir ideas`                               1   193.00\n",
            "- `Porcentaje de receptividad`                                  1   193.82\n",
            "- `Porcentaje de respuesta profesional a correos electrónicos`  1   197.32\n",
            "- `Porcentaje de iniciativa en proyectos`                       1   222.34\n",
            "- `Porcentaje de retraso`                                       1   236.91\n",
            "- `Porcentaje de ayudar a compañeros`                           1   243.07\n",
            "- `Porcentaje de publicaciones empresariales en LinkedIn`       1   282.67\n",
            "- `Porcentaje de entrega de proyectos a tiempo`                 1   290.29\n",
            "                                                                  AIC\n",
            "- `Porcentaje de comentarios en Facebook`                      207.58\n",
            "- `Porcentaje de correos electrónicos intercambiados`          207.87\n",
            "<none>                                                         209.56\n",
            "- `Porcentaje de compartir ideas`                              213.00\n",
            "- `Porcentaje de receptividad`                                 213.82\n",
            "- `Porcentaje de respuesta profesional a correos electrónicos` 217.32\n",
            "- `Porcentaje de iniciativa en proyectos`                      242.34\n",
            "- `Porcentaje de retraso`                                      256.91\n",
            "- `Porcentaje de ayudar a compañeros`                          263.07\n",
            "- `Porcentaje de publicaciones empresariales en LinkedIn`      302.67\n",
            "- `Porcentaje de entrega de proyectos a tiempo`                310.29\n",
            "\n",
            "Step:  AIC=207.58\n",
            "Renuncia ~ `Porcentaje de retraso` + `Porcentaje de iniciativa en proyectos` + \n",
            "    `Porcentaje de entrega de proyectos a tiempo` + `Porcentaje de correos electrónicos intercambiados` + \n",
            "    `Porcentaje de receptividad` + `Porcentaje de respuesta profesional a correos electrónicos` + \n",
            "    `Porcentaje de compartir ideas` + `Porcentaje de ayudar a compañeros` + \n",
            "    `Porcentaje de publicaciones empresariales en LinkedIn`\n",
            "\n",
            "                                                               Df Deviance\n",
            "- `Porcentaje de correos electrónicos intercambiados`           1   187.97\n",
            "<none>                                                              187.58\n",
            "+ `Porcentaje de comentarios en Facebook`                       1   187.56\n",
            "- `Porcentaje de compartir ideas`                               1   193.07\n",
            "- `Porcentaje de receptividad`                                  1   194.02\n",
            "- `Porcentaje de respuesta profesional a correos electrónicos`  1   197.32\n",
            "- `Porcentaje de iniciativa en proyectos`                       1   223.83\n",
            "- `Porcentaje de retraso`                                       1   237.25\n",
            "- `Porcentaje de ayudar a compañeros`                           1   243.07\n",
            "- `Porcentaje de publicaciones empresariales en LinkedIn`       1   288.43\n",
            "- `Porcentaje de entrega de proyectos a tiempo`                 1   292.88\n",
            "                                                                  AIC\n",
            "- `Porcentaje de correos electrónicos intercambiados`          205.97\n",
            "<none>                                                         207.58\n",
            "+ `Porcentaje de comentarios en Facebook`                      209.56\n",
            "- `Porcentaje de compartir ideas`                              211.07\n",
            "- `Porcentaje de receptividad`                                 212.02\n",
            "- `Porcentaje de respuesta profesional a correos electrónicos` 215.32\n",
            "- `Porcentaje de iniciativa en proyectos`                      241.83\n",
            "- `Porcentaje de retraso`                                      255.25\n",
            "- `Porcentaje de ayudar a compañeros`                          261.07\n",
            "- `Porcentaje de publicaciones empresariales en LinkedIn`      306.43\n",
            "- `Porcentaje de entrega de proyectos a tiempo`                310.88\n",
            "\n",
            "Step:  AIC=205.97\n",
            "Renuncia ~ `Porcentaje de retraso` + `Porcentaje de iniciativa en proyectos` + \n",
            "    `Porcentaje de entrega de proyectos a tiempo` + `Porcentaje de receptividad` + \n",
            "    `Porcentaje de respuesta profesional a correos electrónicos` + \n",
            "    `Porcentaje de compartir ideas` + `Porcentaje de ayudar a compañeros` + \n",
            "    `Porcentaje de publicaciones empresariales en LinkedIn`\n",
            "\n",
            "                                                               Df Deviance\n",
            "<none>                                                              187.97\n",
            "+ `Porcentaje de correos electrónicos intercambiados`           1   187.58\n",
            "+ `Porcentaje de comentarios en Facebook`                       1   187.87\n",
            "- `Porcentaje de compartir ideas`                               1   193.64\n",
            "- `Porcentaje de receptividad`                                  1   194.38\n",
            "- `Porcentaje de respuesta profesional a correos electrónicos`  1   197.89\n",
            "- `Porcentaje de iniciativa en proyectos`                       1   223.83\n",
            "- `Porcentaje de retraso`                                       1   239.12\n",
            "- `Porcentaje de ayudar a compañeros`                           1   243.25\n",
            "- `Porcentaje de publicaciones empresariales en LinkedIn`       1   292.35\n",
            "- `Porcentaje de entrega de proyectos a tiempo`                 1   297.21\n",
            "                                                                  AIC\n",
            "<none>                                                         205.97\n",
            "+ `Porcentaje de correos electrónicos intercambiados`          207.58\n",
            "+ `Porcentaje de comentarios en Facebook`                      207.87\n",
            "- `Porcentaje de compartir ideas`                              209.64\n",
            "- `Porcentaje de receptividad`                                 210.38\n",
            "- `Porcentaje de respuesta profesional a correos electrónicos` 213.89\n",
            "- `Porcentaje de iniciativa en proyectos`                      239.83\n",
            "- `Porcentaje de retraso`                                      255.12\n",
            "- `Porcentaje de ayudar a compañeros`                          259.25\n",
            "- `Porcentaje de publicaciones empresariales en LinkedIn`      308.35\n",
            "- `Porcentaje de entrega de proyectos a tiempo`                313.21\n"
          ]
        },
        {
          "output_type": "display_data",
          "data": {
            "text/plain": [
              "\n",
              "Call:\n",
              "glm(formula = Renuncia ~ `Porcentaje de retraso` + `Porcentaje de iniciativa en proyectos` + \n",
              "    `Porcentaje de entrega de proyectos a tiempo` + `Porcentaje de receptividad` + \n",
              "    `Porcentaje de respuesta profesional a correos electrónicos` + \n",
              "    `Porcentaje de compartir ideas` + `Porcentaje de ayudar a compañeros` + \n",
              "    `Porcentaje de publicaciones empresariales en LinkedIn`, \n",
              "    family = binomial, data = renunciar.train)\n",
              "\n",
              "Coefficients:\n",
              "                                                             Estimate\n",
              "(Intercept)                                                     6.196\n",
              "`Porcentaje de retraso`                                         7.113\n",
              "`Porcentaje de iniciativa en proyectos`                        -6.728\n",
              "`Porcentaje de entrega de proyectos a tiempo`                 -11.252\n",
              "`Porcentaje de receptividad`                                   -2.575\n",
              "`Porcentaje de respuesta profesional a correos electrónicos`   -3.204\n",
              "`Porcentaje de compartir ideas`                                -2.546\n",
              "`Porcentaje de ayudar a compañeros`                            -7.691\n",
              "`Porcentaje de publicaciones empresariales en LinkedIn`        11.358\n",
              "                                                             Std. Error z value\n",
              "(Intercept)                                                       1.731   3.579\n",
              "`Porcentaje de retraso`                                           1.138   6.251\n",
              "`Porcentaje de iniciativa en proyectos`                           1.289  -5.219\n",
              "`Porcentaje de entrega de proyectos a tiempo`                     1.439  -7.820\n",
              "`Porcentaje de receptividad`                                      1.046  -2.461\n",
              "`Porcentaje de respuesta profesional a correos electrónicos`      1.053  -3.042\n",
              "`Porcentaje de compartir ideas`                                   1.096  -2.324\n",
              "`Porcentaje de ayudar a compañeros`                               1.237  -6.219\n",
              "`Porcentaje de publicaciones empresariales en LinkedIn`           1.500   7.574\n",
              "                                                             Pr(>|z|)    \n",
              "(Intercept)                                                  0.000345 ***\n",
              "`Porcentaje de retraso`                                      4.08e-10 ***\n",
              "`Porcentaje de iniciativa en proyectos`                      1.80e-07 ***\n",
              "`Porcentaje de entrega de proyectos a tiempo`                5.27e-15 ***\n",
              "`Porcentaje de receptividad`                                 0.013867 *  \n",
              "`Porcentaje de respuesta profesional a correos electrónicos` 0.002348 ** \n",
              "`Porcentaje de compartir ideas`                              0.020104 *  \n",
              "`Porcentaje de ayudar a compañeros`                          5.01e-10 ***\n",
              "`Porcentaje de publicaciones empresariales en LinkedIn`      3.61e-14 ***\n",
              "---\n",
              "Signif. codes:  0 ‘***’ 0.001 ‘**’ 0.01 ‘*’ 0.05 ‘.’ 0.1 ‘ ’ 1\n",
              "\n",
              "(Dispersion parameter for binomial family taken to be 1)\n",
              "\n",
              "    Null deviance: 1039.53  on 749  degrees of freedom\n",
              "Residual deviance:  187.97  on 741  degrees of freedom\n",
              "AIC: 205.97\n",
              "\n",
              "Number of Fisher Scoring iterations: 8\n"
            ]
          },
          "metadata": {}
        }
      ]
    },
    {
      "cell_type": "code",
      "source": [
        "#crea el pronostico base de entrenamiento\n",
        "prontrain<-ifelse(steplogit$fitted.values > 0.5,1,0)\n",
        "#tabla de confusión y estadisticas, base de entrenamiento\n",
        "conftrain<-confusionMatrix(as.factor(prontrain),renunciar.train$Renuncia, positive = \"1\")\n",
        "conftrain\n",
        "conftrain$byClass"
      ],
      "metadata": {
        "colab": {
          "base_uri": "https://localhost:8080/",
          "height": 520
        },
        "id": "7oizWXYH2VVR",
        "outputId": "b0e5c6ec-9170-44ce-9ee8-14c801d03c7d"
      },
      "execution_count": 40,
      "outputs": [
        {
          "output_type": "display_data",
          "data": {
            "text/plain": [
              "Confusion Matrix and Statistics\n",
              "\n",
              "          Reference\n",
              "Prediction   0   1\n",
              "         0 365  17\n",
              "         1  16 352\n",
              "                                          \n",
              "               Accuracy : 0.956           \n",
              "                 95% CI : (0.9388, 0.9695)\n",
              "    No Information Rate : 0.508           \n",
              "    P-Value [Acc > NIR] : <2e-16          \n",
              "                                          \n",
              "                  Kappa : 0.912           \n",
              "                                          \n",
              " Mcnemar's Test P-Value : 1               \n",
              "                                          \n",
              "            Sensitivity : 0.9539          \n",
              "            Specificity : 0.9580          \n",
              "         Pos Pred Value : 0.9565          \n",
              "         Neg Pred Value : 0.9555          \n",
              "             Prevalence : 0.4920          \n",
              "         Detection Rate : 0.4693          \n",
              "   Detection Prevalence : 0.4907          \n",
              "      Balanced Accuracy : 0.9560          \n",
              "                                          \n",
              "       'Positive' Class : 1               \n",
              "                                          "
            ]
          },
          "metadata": {}
        },
        {
          "output_type": "display_data",
          "data": {
            "text/html": [
              "<style>\n",
              ".dl-inline {width: auto; margin:0; padding: 0}\n",
              ".dl-inline>dt, .dl-inline>dd {float: none; width: auto; display: inline-block}\n",
              ".dl-inline>dt::after {content: \":\\0020\"; padding-right: .5ex}\n",
              ".dl-inline>dt:not(:first-of-type) {padding-left: .5ex}\n",
              "</style><dl class=dl-inline><dt>Sensitivity</dt><dd>0.953929539295393</dd><dt>Specificity</dt><dd>0.958005249343832</dd><dt>Pos Pred Value</dt><dd>0.956521739130435</dd><dt>Neg Pred Value</dt><dd>0.955497382198953</dd><dt>Precision</dt><dd>0.956521739130435</dd><dt>Recall</dt><dd>0.953929539295393</dd><dt>F1</dt><dd>0.955223880597015</dd><dt>Prevalence</dt><dd>0.492</dd><dt>Detection Rate</dt><dd>0.469333333333333</dd><dt>Detection Prevalence</dt><dd>0.490666666666667</dd><dt>Balanced Accuracy</dt><dd>0.955967394319613</dd></dl>\n"
            ],
            "text/markdown": "Sensitivity\n:   0.953929539295393Specificity\n:   0.958005249343832Pos Pred Value\n:   0.956521739130435Neg Pred Value\n:   0.955497382198953Precision\n:   0.956521739130435Recall\n:   0.953929539295393F1\n:   0.955223880597015Prevalence\n:   0.492Detection Rate\n:   0.469333333333333Detection Prevalence\n:   0.490666666666667Balanced Accuracy\n:   0.955967394319613\n\n",
            "text/latex": "\\begin{description*}\n\\item[Sensitivity] 0.953929539295393\n\\item[Specificity] 0.958005249343832\n\\item[Pos Pred Value] 0.956521739130435\n\\item[Neg Pred Value] 0.955497382198953\n\\item[Precision] 0.956521739130435\n\\item[Recall] 0.953929539295393\n\\item[F1] 0.955223880597015\n\\item[Prevalence] 0.492\n\\item[Detection Rate] 0.469333333333333\n\\item[Detection Prevalence] 0.490666666666667\n\\item[Balanced Accuracy] 0.955967394319613\n\\end{description*}\n",
            "text/plain": [
              "         Sensitivity          Specificity       Pos Pred Value \n",
              "           0.9539295            0.9580052            0.9565217 \n",
              "      Neg Pred Value            Precision               Recall \n",
              "           0.9554974            0.9565217            0.9539295 \n",
              "                  F1           Prevalence       Detection Rate \n",
              "           0.9552239            0.4920000            0.4693333 \n",
              "Detection Prevalence    Balanced Accuracy \n",
              "           0.4906667            0.9559674 "
            ]
          },
          "metadata": {}
        }
      ]
    },
    {
      "cell_type": "code",
      "source": [
        "#crea el pronóstico en validación\n",
        "probtest<-predict(steplogit,newdata = renunciar.test,type='response')\n",
        "prontest<-ifelse(probtest > 0.5,1,0)\n",
        "conftest<-confusionMatrix(as.factor(prontest),renunciar.test$Renuncia, positive = \"1\")\n",
        "conftest\n",
        "conftest$byClass"
      ],
      "metadata": {
        "colab": {
          "base_uri": "https://localhost:8080/",
          "height": 520
        },
        "id": "8K_xcZ172vI1",
        "outputId": "824e951e-ec4b-4d56-f802-1034b6f6da2f"
      },
      "execution_count": 41,
      "outputs": [
        {
          "output_type": "display_data",
          "data": {
            "text/plain": [
              "Confusion Matrix and Statistics\n",
              "\n",
              "          Reference\n",
              "Prediction   0   1\n",
              "         0 112   8\n",
              "         1   7 123\n",
              "                                        \n",
              "               Accuracy : 0.94          \n",
              "                 95% CI : (0.903, 0.966)\n",
              "    No Information Rate : 0.524         \n",
              "    P-Value [Acc > NIR] : <2e-16        \n",
              "                                        \n",
              "                  Kappa : 0.8798        \n",
              "                                        \n",
              " Mcnemar's Test P-Value : 1             \n",
              "                                        \n",
              "            Sensitivity : 0.9389        \n",
              "            Specificity : 0.9412        \n",
              "         Pos Pred Value : 0.9462        \n",
              "         Neg Pred Value : 0.9333        \n",
              "             Prevalence : 0.5240        \n",
              "         Detection Rate : 0.4920        \n",
              "   Detection Prevalence : 0.5200        \n",
              "      Balanced Accuracy : 0.9401        \n",
              "                                        \n",
              "       'Positive' Class : 1             \n",
              "                                        "
            ]
          },
          "metadata": {}
        },
        {
          "output_type": "display_data",
          "data": {
            "text/html": [
              "<style>\n",
              ".dl-inline {width: auto; margin:0; padding: 0}\n",
              ".dl-inline>dt, .dl-inline>dd {float: none; width: auto; display: inline-block}\n",
              ".dl-inline>dt::after {content: \":\\0020\"; padding-right: .5ex}\n",
              ".dl-inline>dt:not(:first-of-type) {padding-left: .5ex}\n",
              "</style><dl class=dl-inline><dt>Sensitivity</dt><dd>0.938931297709924</dd><dt>Specificity</dt><dd>0.941176470588235</dd><dt>Pos Pred Value</dt><dd>0.946153846153846</dd><dt>Neg Pred Value</dt><dd>0.933333333333333</dd><dt>Precision</dt><dd>0.946153846153846</dd><dt>Recall</dt><dd>0.938931297709924</dd><dt>F1</dt><dd>0.942528735632184</dd><dt>Prevalence</dt><dd>0.524</dd><dt>Detection Rate</dt><dd>0.492</dd><dt>Detection Prevalence</dt><dd>0.52</dd><dt>Balanced Accuracy</dt><dd>0.94005388414908</dd></dl>\n"
            ],
            "text/markdown": "Sensitivity\n:   0.938931297709924Specificity\n:   0.941176470588235Pos Pred Value\n:   0.946153846153846Neg Pred Value\n:   0.933333333333333Precision\n:   0.946153846153846Recall\n:   0.938931297709924F1\n:   0.942528735632184Prevalence\n:   0.524Detection Rate\n:   0.492Detection Prevalence\n:   0.52Balanced Accuracy\n:   0.94005388414908\n\n",
            "text/latex": "\\begin{description*}\n\\item[Sensitivity] 0.938931297709924\n\\item[Specificity] 0.941176470588235\n\\item[Pos Pred Value] 0.946153846153846\n\\item[Neg Pred Value] 0.933333333333333\n\\item[Precision] 0.946153846153846\n\\item[Recall] 0.938931297709924\n\\item[F1] 0.942528735632184\n\\item[Prevalence] 0.524\n\\item[Detection Rate] 0.492\n\\item[Detection Prevalence] 0.52\n\\item[Balanced Accuracy] 0.94005388414908\n\\end{description*}\n",
            "text/plain": [
              "         Sensitivity          Specificity       Pos Pred Value \n",
              "           0.9389313            0.9411765            0.9461538 \n",
              "      Neg Pred Value            Precision               Recall \n",
              "           0.9333333            0.9461538            0.9389313 \n",
              "                  F1           Prevalence       Detection Rate \n",
              "           0.9425287            0.5240000            0.4920000 \n",
              "Detection Prevalence    Balanced Accuracy \n",
              "           0.5200000            0.9400539 "
            ]
          },
          "metadata": {}
        }
      ]
    },
    {
      "cell_type": "markdown",
      "source": [
        "## PRIMER PUNTO"
      ],
      "metadata": {
        "id": "Px2bTkggo4Ep"
      }
    },
    {
      "cell_type": "markdown",
      "source": [
        "## **¿De las variables presentes en el modelo final, si tuviera que eliminar una variable de las que quedaron en el modelo final, cuál eliminaría y porqué?**"
      ],
      "metadata": {
        "id": "Q9HQM7bC25xn"
      }
    },
    {
      "cell_type": "markdown",
      "source": [
        "Eliminaría `Porcentaje de receptividad` ya que en el modelo step presenta el mayor valor p. Indicando que esta variable es la menos significativa de todas"
      ],
      "metadata": {
        "id": "iAv9CJhI35mW"
      }
    },
    {
      "cell_type": "markdown",
      "source": [
        "## SEGUNDO PUNTO"
      ],
      "metadata": {
        "id": "bQhUFR58o5o3"
      }
    },
    {
      "cell_type": "markdown",
      "source": [
        "## **Tomando como probabilidad base la probabilidad de renuncia, determine la probabilidad final que se obtiene al mostrar un aumento de 3 puntos porcentuales (por ejemplo, subir de 10% a 15%) en la probabilidad de retraso, suponiendo que las demás variables no tienen ningún cambio.**"
      ],
      "metadata": {
        "id": "KVkoGwfs2-uo"
      }
    },
    {
      "cell_type": "code",
      "source": [
        "coeficientes<-steplogit$coefficients\n",
        "odd_change<-exp(coeficientes)\n",
        "odd_change_ver<-as.data.frame(odd_change)\n",
        "odd_change_ver"
      ],
      "metadata": {
        "colab": {
          "base_uri": "https://localhost:8080/",
          "height": 380
        },
        "id": "grGeBl786Z19",
        "outputId": "29782a9d-1f96-4017-e486-e567a97fd8f7"
      },
      "execution_count": 47,
      "outputs": [
        {
          "output_type": "display_data",
          "data": {
            "text/html": [
              "<table class=\"dataframe\">\n",
              "<caption>A data.frame: 9 × 1</caption>\n",
              "<thead>\n",
              "\t<tr><th></th><th scope=col>odd_change</th></tr>\n",
              "\t<tr><th></th><th scope=col>&lt;dbl&gt;</th></tr>\n",
              "</thead>\n",
              "<tbody>\n",
              "\t<tr><th scope=row>(Intercept)</th><td>4.907924e+02</td></tr>\n",
              "\t<tr><th scope=row>`Porcentaje de retraso`</th><td>1.227374e+03</td></tr>\n",
              "\t<tr><th scope=row>`Porcentaje de iniciativa en proyectos`</th><td>1.196785e-03</td></tr>\n",
              "\t<tr><th scope=row>`Porcentaje de entrega de proyectos a tiempo`</th><td>1.297797e-05</td></tr>\n",
              "\t<tr><th scope=row>`Porcentaje de receptividad`</th><td>7.615719e-02</td></tr>\n",
              "\t<tr><th scope=row>`Porcentaje de respuesta profesional a correos electrónicos`</th><td>4.059275e-02</td></tr>\n",
              "\t<tr><th scope=row>`Porcentaje de compartir ideas`</th><td>7.836280e-02</td></tr>\n",
              "\t<tr><th scope=row>`Porcentaje de ayudar a compañeros`</th><td>4.571075e-04</td></tr>\n",
              "\t<tr><th scope=row>`Porcentaje de publicaciones empresariales en LinkedIn`</th><td>8.563923e+04</td></tr>\n",
              "</tbody>\n",
              "</table>\n"
            ],
            "text/markdown": "\nA data.frame: 9 × 1\n\n| <!--/--> | odd_change &lt;dbl&gt; |\n|---|---|\n| (Intercept) | 4.907924e+02 |\n| `Porcentaje de retraso` | 1.227374e+03 |\n| `Porcentaje de iniciativa en proyectos` | 1.196785e-03 |\n| `Porcentaje de entrega de proyectos a tiempo` | 1.297797e-05 |\n| `Porcentaje de receptividad` | 7.615719e-02 |\n| `Porcentaje de respuesta profesional a correos electrónicos` | 4.059275e-02 |\n| `Porcentaje de compartir ideas` | 7.836280e-02 |\n| `Porcentaje de ayudar a compañeros` | 4.571075e-04 |\n| `Porcentaje de publicaciones empresariales en LinkedIn` | 8.563923e+04 |\n\n",
            "text/latex": "A data.frame: 9 × 1\n\\begin{tabular}{r|l}\n  & odd\\_change\\\\\n  & <dbl>\\\\\n\\hline\n\t(Intercept) & 4.907924e+02\\\\\n\t`Porcentaje de retraso` & 1.227374e+03\\\\\n\t`Porcentaje de iniciativa en proyectos` & 1.196785e-03\\\\\n\t`Porcentaje de entrega de proyectos a tiempo` & 1.297797e-05\\\\\n\t`Porcentaje de receptividad` & 7.615719e-02\\\\\n\t`Porcentaje de respuesta profesional a correos electrónicos` & 4.059275e-02\\\\\n\t`Porcentaje de compartir ideas` & 7.836280e-02\\\\\n\t`Porcentaje de ayudar a compañeros` & 4.571075e-04\\\\\n\t`Porcentaje de publicaciones empresariales en LinkedIn` & 8.563923e+04\\\\\n\\end{tabular}\n",
            "text/plain": [
              "                                                             odd_change  \n",
              "(Intercept)                                                  4.907924e+02\n",
              "`Porcentaje de retraso`                                      1.227374e+03\n",
              "`Porcentaje de iniciativa en proyectos`                      1.196785e-03\n",
              "`Porcentaje de entrega de proyectos a tiempo`                1.297797e-05\n",
              "`Porcentaje de receptividad`                                 7.615719e-02\n",
              "`Porcentaje de respuesta profesional a correos electrónicos` 4.059275e-02\n",
              "`Porcentaje de compartir ideas`                              7.836280e-02\n",
              "`Porcentaje de ayudar a compañeros`                          4.571075e-04\n",
              "`Porcentaje de publicaciones empresariales en LinkedIn`      8.563923e+04"
            ]
          },
          "metadata": {}
        }
      ]
    },
    {
      "cell_type": "code",
      "source": [
        "#Odd ratios\n",
        "balance<-table(renunciar$Renuncia)\n",
        "prop.table(balance)\n",
        "oddbase<-prop.table(balance)[2]/prop.table(balance)[1]\n",
        "oddbase"
      ],
      "metadata": {
        "colab": {
          "base_uri": "https://localhost:8080/",
          "height": 86
        },
        "id": "xezU92z-pAzO",
        "outputId": "4e284d8c-d253-45b5-c21c-f20d606757c5"
      },
      "execution_count": 43,
      "outputs": [
        {
          "output_type": "display_data",
          "data": {
            "text/plain": [
              "\n",
              "  0   1 \n",
              "0.5 0.5 "
            ]
          },
          "metadata": {}
        },
        {
          "output_type": "display_data",
          "data": {
            "text/html": [
              "<strong>1:</strong> 1"
            ],
            "text/markdown": "**1:** 1",
            "text/latex": "\\textbf{1:} 1",
            "text/plain": [
              "1 \n",
              "1 "
            ]
          },
          "metadata": {}
        }
      ]
    },
    {
      "cell_type": "code",
      "source": [
        "oddfin<-oddbase*odd_change\n",
        "prob1step<-as.data.frame(oddfin/(1+oddfin))\n",
        "View(prob1step)"
      ],
      "metadata": {
        "colab": {
          "base_uri": "https://localhost:8080/",
          "height": 380
        },
        "id": "7MI2t-Tp4p7b",
        "outputId": "ac11185b-c477-4d1a-d298-a8b268af4c55"
      },
      "execution_count": 123,
      "outputs": [
        {
          "output_type": "display_data",
          "data": {
            "text/plain": [
              "                                                             oddfin/(1 + oddfin)\n",
              "(Intercept)                                                  9.979666e-01       \n",
              "`Porcentaje de retraso`                                      9.991859e-01       \n",
              "`Porcentaje de iniciativa en proyectos`                      1.195355e-03       \n",
              "`Porcentaje de entrega de proyectos a tiempo`                1.297781e-05       \n",
              "`Porcentaje de receptividad`                                 7.076772e-02       \n",
              "`Porcentaje de respuesta profesional a correos electrónicos` 3.900926e-02       \n",
              "`Porcentaje de compartir ideas`                              7.266830e-02       \n",
              "`Porcentaje de ayudar a compañeros`                          4.568986e-04       \n",
              "`Porcentaje de publicaciones empresariales en LinkedIn`      9.999883e-01       "
            ],
            "text/html": [
              "<table class=\"dataframe\">\n",
              "<caption>A data.frame: 9 × 1</caption>\n",
              "<thead>\n",
              "\t<tr><th></th><th scope=col>oddfin/(1 + oddfin)</th></tr>\n",
              "\t<tr><th></th><th scope=col>&lt;dbl&gt;</th></tr>\n",
              "</thead>\n",
              "<tbody>\n",
              "\t<tr><th scope=row>(Intercept)</th><td>9.979666e-01</td></tr>\n",
              "\t<tr><th scope=row>`Porcentaje de retraso`</th><td>9.991859e-01</td></tr>\n",
              "\t<tr><th scope=row>`Porcentaje de iniciativa en proyectos`</th><td>1.195355e-03</td></tr>\n",
              "\t<tr><th scope=row>`Porcentaje de entrega de proyectos a tiempo`</th><td>1.297781e-05</td></tr>\n",
              "\t<tr><th scope=row>`Porcentaje de receptividad`</th><td>7.076772e-02</td></tr>\n",
              "\t<tr><th scope=row>`Porcentaje de respuesta profesional a correos electrónicos`</th><td>3.900926e-02</td></tr>\n",
              "\t<tr><th scope=row>`Porcentaje de compartir ideas`</th><td>7.266830e-02</td></tr>\n",
              "\t<tr><th scope=row>`Porcentaje de ayudar a compañeros`</th><td>4.568986e-04</td></tr>\n",
              "\t<tr><th scope=row>`Porcentaje de publicaciones empresariales en LinkedIn`</th><td>9.999883e-01</td></tr>\n",
              "</tbody>\n",
              "</table>\n"
            ],
            "text/markdown": "\nA data.frame: 9 × 1\n\n| <!--/--> | oddfin/(1 + oddfin) &lt;dbl&gt; |\n|---|---|\n| (Intercept) | 9.979666e-01 |\n| `Porcentaje de retraso` | 9.991859e-01 |\n| `Porcentaje de iniciativa en proyectos` | 1.195355e-03 |\n| `Porcentaje de entrega de proyectos a tiempo` | 1.297781e-05 |\n| `Porcentaje de receptividad` | 7.076772e-02 |\n| `Porcentaje de respuesta profesional a correos electrónicos` | 3.900926e-02 |\n| `Porcentaje de compartir ideas` | 7.266830e-02 |\n| `Porcentaje de ayudar a compañeros` | 4.568986e-04 |\n| `Porcentaje de publicaciones empresariales en LinkedIn` | 9.999883e-01 |\n\n",
            "text/latex": "A data.frame: 9 × 1\n\\begin{tabular}{r|l}\n  & oddfin/(1 + oddfin)\\\\\n  & <dbl>\\\\\n\\hline\n\t(Intercept) & 9.979666e-01\\\\\n\t`Porcentaje de retraso` & 9.991859e-01\\\\\n\t`Porcentaje de iniciativa en proyectos` & 1.195355e-03\\\\\n\t`Porcentaje de entrega de proyectos a tiempo` & 1.297781e-05\\\\\n\t`Porcentaje de receptividad` & 7.076772e-02\\\\\n\t`Porcentaje de respuesta profesional a correos electrónicos` & 3.900926e-02\\\\\n\t`Porcentaje de compartir ideas` & 7.266830e-02\\\\\n\t`Porcentaje de ayudar a compañeros` & 4.568986e-04\\\\\n\t`Porcentaje de publicaciones empresariales en LinkedIn` & 9.999883e-01\\\\\n\\end{tabular}\n"
          },
          "metadata": {}
        }
      ]
    },
    {
      "cell_type": "markdown",
      "source": [
        "Al aumentar en una unidad el `Porcentaje de retraso` **AUMENTA** en un %99.91\\%$. Es decir que el cambio porcentual de 3 unidades porcentuales sería del 3% aproximadamente. Ya que 1 unica unidad porcentual equivale a 99/100 ~ 1%."
      ],
      "metadata": {
        "id": "avxC2VUp5rL7"
      }
    },
    {
      "cell_type": "markdown",
      "source": [
        "## TERCER PUNTO"
      ],
      "metadata": {
        "id": "xjizHcCQo6eP"
      }
    },
    {
      "cell_type": "markdown",
      "source": [
        "## **Se selecciona un grupo de 2000 personas para evaluar la implementación de la estrategia.  Se ha estimado que por cada persona categorizada correctamente se estima un ahorro promedio de $\\$800$, mientras que por cada persona mal categorizada se estima un costo de $\\$350$.  Basado en corte de 0.5, ¿cuál sería la ganancia esperada en términos monetarios para este modelo?**"
      ],
      "metadata": {
        "id": "6oxepL-33FBs"
      }
    },
    {
      "cell_type": "code",
      "source": [
        "TPR = conftest$table[2,2]/(conftest$table[2,2]+conftest$table[2,1])\n",
        "TPR #true positive rate\n",
        "\n",
        "gg=TPR*2000 #bien clasificadas\n",
        "bb=2000-gg #mal clasificadas\n",
        "gg\n",
        "bb\n",
        "\n",
        "pi= 800*gg - 350*bb\n",
        "pi\n"
      ],
      "metadata": {
        "colab": {
          "base_uri": "https://localhost:8080/",
          "height": 104
        },
        "id": "8KDx4wr0pBcX",
        "outputId": "a8c9782d-32b8-4a0a-d84f-110d62f05485"
      },
      "execution_count": 55,
      "outputs": [
        {
          "output_type": "display_data",
          "data": {
            "text/html": [
              "0.938931297709924"
            ],
            "text/markdown": "0.938931297709924",
            "text/latex": "0.938931297709924",
            "text/plain": [
              "[1] 0.9389313"
            ]
          },
          "metadata": {}
        },
        {
          "output_type": "display_data",
          "data": {
            "text/html": [
              "0.946153846153846"
            ],
            "text/markdown": "0.946153846153846",
            "text/latex": "0.946153846153846",
            "text/plain": [
              "[1] 0.9461538"
            ]
          },
          "metadata": {}
        },
        {
          "output_type": "display_data",
          "data": {
            "text/html": [
              "1892.30769230769"
            ],
            "text/markdown": "1892.30769230769",
            "text/latex": "1892.30769230769",
            "text/plain": [
              "[1] 1892.308"
            ]
          },
          "metadata": {}
        },
        {
          "output_type": "display_data",
          "data": {
            "text/html": [
              "107.692307692308"
            ],
            "text/markdown": "107.692307692308",
            "text/latex": "107.692307692308",
            "text/plain": [
              "[1] 107.6923"
            ]
          },
          "metadata": {}
        },
        {
          "output_type": "display_data",
          "data": {
            "text/html": [
              "1476153.84615385"
            ],
            "text/markdown": "1476153.84615385",
            "text/latex": "1476153.84615385",
            "text/plain": [
              "[1] 1476154"
            ]
          },
          "metadata": {}
        }
      ]
    },
    {
      "cell_type": "markdown",
      "source": [
        "Se espera un ahorro aproximado de $\\$1.476.153,84$ dolares, ya que se ahorra $\\$800$ por cada una de las 1892 personas bien clasificadas y se pierden $\\$350$ por cada una de las 107 personas mal clasificadas."
      ],
      "metadata": {
        "id": "KPYi0iLF9NJu"
      }
    },
    {
      "cell_type": "markdown",
      "source": [
        "## CUARTO PUNTO"
      ],
      "metadata": {
        "id": "i7yP-sCMo6b_"
      }
    },
    {
      "cell_type": "markdown",
      "source": [
        "## **Esta pregunta es conceptual:  Si hipotéticamente el cutoff se disminuyera a 0.3, ¿cómo afectaría el precision y el recall? ¿Afectaría este cambio el valor de AUC?  Justifique sus respuestas.**"
      ],
      "metadata": {
        "id": "f00ttPrI3GyD"
      }
    },
    {
      "cell_type": "markdown",
      "source": [
        "En teoría si debería afectar, ya que vimos que la base de datos estaba bien balanceada y observando la grafica de cutoof vs ganancia se observa un comportamiento simetrico que sugiere un cutoof de 0.5. Al disminuir el cutoff a 0.3 se permite que menos personas de la clase 0 sean clasificadas y aumente la clasificaciond e las personas de la clase 1. Esto supone un impacto megativo en el indicador AUC."
      ],
      "metadata": {
        "id": "h2oBDjyhK3zR"
      }
    },
    {
      "cell_type": "code",
      "source": [
        "#crear objeto de predicciones\n",
        "pr<-prediction(probtest,renunciar.test$Renuncia)\n",
        "#creacion del objeto de la curva\n",
        "curvaROC<-performance(pr,measure=\"tpr\",x.measure=\"fpr\")"
      ],
      "metadata": {
        "id": "2CIv-xH1JVz2"
      },
      "execution_count": 114,
      "outputs": []
    },
    {
      "cell_type": "code",
      "source": [
        "#guardar las exhaustividades y puntos de corte\n",
        "tablafinan<-performance(pr,measure=\"rec\")\n",
        "cutoffs<-unlist(tablafinan@x.values)\n",
        "recalls<-unlist(tablafinan@y.values)\n",
        "\n",
        "#guardar las precisiones\n",
        "tablafina2<-performance(pr,measure=\"prec\")\n",
        "precisions<-unlist(tablafina2@y.values)\n",
        "\n",
        "#guardar f scores\n",
        "tablafina3<-performance(pr,measure=\"auc\")\n",
        "AUC<-unlist(tablafina3@y.values)\n",
        "\n",
        "#crear la tabla conjunta\n",
        "tablacruce<-as.data.frame(cbind(cutoffs,precisions,recalls,AUC))\n",
        "\n",
        "#ver precisiones versus exhaustividad\n",
        "plot(tablacruce$precisions,tablacruce$recalls)"
      ],
      "metadata": {
        "colab": {
          "base_uri": "https://localhost:8080/",
          "height": 437
        },
        "id": "TEuItkWfpCBz",
        "outputId": "8f5f1bc3-b66c-4b76-c3a5-32bbe32352e0"
      },
      "execution_count": 120,
      "outputs": [
        {
          "output_type": "display_data",
          "data": {
            "text/plain": [
              "plot without title"
            ],
            "image/png": "[encoded data removed]"
          },
          "metadata": {
            "image/png": {
              "width": 420,
              "height": 420
            }
          }
        }
      ]
    },
    {
      "cell_type": "code",
      "source": [
        "#ver el cutoff que maximiza AUC\n",
        "ggplot(tablacruce, aes(cutoffs,AUC))+geom_point()"
      ],
      "metadata": {
        "colab": {
          "base_uri": "https://localhost:8080/",
          "height": 437
        },
        "id": "L4cOBZGspB_i",
        "outputId": "6f8e63df-7917-4491-a14a-53c8c248b744"
      },
      "execution_count": 121,
      "outputs": [
        {
          "output_type": "display_data",
          "data": {
            "text/plain": [
              "plot without title"
            ],
            "image/png": "[encoded data removed]"
          },
          "metadata": {
            "image/png": {
              "width": 420,
              "height": 420
            }
          }
        }
      ]
    },
    {
      "cell_type": "code",
      "source": [
        "#pintar las ganancias versus los cutoffs\n",
        "plot(tablacruce$cutoffs,tablacruce$ganancia)"
      ],
      "metadata": {
        "colab": {
          "base_uri": "https://localhost:8080/",
          "height": 437
        },
        "id": "RFX3ARxDKq0O",
        "outputId": "86b9ed08-3e31-4756-e455-da40cc5f6399"
      },
      "execution_count": 122,
      "outputs": [
        {
          "output_type": "display_data",
          "data": {
            "text/plain": [
              "plot without title"
            ],
            "image/png": "[encoded data removed]"
          },
          "metadata": {
            "image/png": {
              "width": 420,
              "height": 420
            }
          }
        }
      ]
    },
    {
      "cell_type": "markdown",
      "source": [
        "## QUINTO PUNTO"
      ],
      "metadata": {
        "id": "eVLk7SIlo6WI"
      }
    },
    {
      "cell_type": "markdown",
      "source": [
        "## **Con el fin de mejorar el desempeño del modelo actual, desarrolle un modelo ELASTIC NET, escogiendo adecuadamente los parámetros alfa y lambda que conduzcan al mejor desempeño posible.  ¿Cómo lo compra con el modelo sin regularización?**"
      ],
      "metadata": {
        "id": "KLughr3P3Mjm"
      }
    },
    {
      "cell_type": "code",
      "source": [
        "x <- renunciar.train[,c(1,2,3,4,5,6,7,8,9,10)]\n",
        "y <- renunciar.train$Renuncia\n"
      ],
      "metadata": {
        "id": "BV3jCesapC8R"
      },
      "execution_count": 76,
      "outputs": []
    },
    {
      "cell_type": "code",
      "source": [
        "# Dumy code categorical predictor variables\n",
        "x <- model.matrix(Renuncia~., renunciar.train)\n",
        "\n",
        "# Convert the outcome (class) to a numerical variable\n",
        "y <- ifelse(renunciar.train$Renuncia == \"1\", 1, 0)"
      ],
      "metadata": {
        "id": "94Z83pWCpC59"
      },
      "execution_count": 80,
      "outputs": []
    },
    {
      "cell_type": "code",
      "source": [
        "# Redes elasticas de 0.1 a 0.9\n",
        "\n",
        "for (i in 1:9){\n",
        "  assign(paste(\"found\", i, sep=\"\"), cv.glmnet(x, y, nfolds=5, alpha=i/10, family = \"binomial\"))}"
      ],
      "metadata": {
        "id": "O_ExrgA8pC3n"
      },
      "execution_count": 81,
      "outputs": []
    },
    {
      "cell_type": "code",
      "source": [
        "min(found1$cvm)\n",
        "min(found2$cvm)\n",
        "min(found3$cvm)\n",
        "min(found4$cvm)\n",
        "min(found5$cvm)\n",
        "min(found6$cvm)\n",
        "min(found7$cvm)\n",
        "min(found8$cvm)\n",
        "min(found9$cvm)\n"
      ],
      "metadata": {
        "colab": {
          "base_uri": "https://localhost:8080/",
          "height": 173
        },
        "id": "_VncyPZzpC1M",
        "outputId": "9c311277-14f1-4256-a81c-98be27ff5f39"
      },
      "execution_count": 87,
      "outputs": [
        {
          "output_type": "display_data",
          "data": {
            "text/html": [
              "0.281253926581018"
            ],
            "text/markdown": "0.281253926581018",
            "text/latex": "0.281253926581018",
            "text/plain": [
              "[1] 0.2812539"
            ]
          },
          "metadata": {}
        },
        {
          "output_type": "display_data",
          "data": {
            "text/html": [
              "0.277913202447417"
            ],
            "text/markdown": "0.277913202447417",
            "text/latex": "0.277913202447417",
            "text/plain": [
              "[1] 0.2779132"
            ]
          },
          "metadata": {}
        },
        {
          "output_type": "display_data",
          "data": {
            "text/html": [
              "0.273136876526497"
            ],
            "text/markdown": "0.273136876526497",
            "text/latex": "0.273136876526497",
            "text/plain": [
              "[1] 0.2731369"
            ]
          },
          "metadata": {}
        },
        {
          "output_type": "display_data",
          "data": {
            "text/html": [
              "0.294137936176905"
            ],
            "text/markdown": "0.294137936176905",
            "text/latex": "0.294137936176905",
            "text/plain": [
              "[1] 0.2941379"
            ]
          },
          "metadata": {}
        },
        {
          "output_type": "display_data",
          "data": {
            "text/html": [
              "0.294555232363289"
            ],
            "text/markdown": "0.294555232363289",
            "text/latex": "0.294555232363289",
            "text/plain": [
              "[1] 0.2945552"
            ]
          },
          "metadata": {}
        },
        {
          "output_type": "display_data",
          "data": {
            "text/html": [
              "0.277462353257673"
            ],
            "text/markdown": "0.277462353257673",
            "text/latex": "0.277462353257673",
            "text/plain": [
              "[1] 0.2774624"
            ]
          },
          "metadata": {}
        },
        {
          "output_type": "display_data",
          "data": {
            "text/html": [
              "0.285489051392703"
            ],
            "text/markdown": "0.285489051392703",
            "text/latex": "0.285489051392703",
            "text/plain": [
              "[1] 0.2854891"
            ]
          },
          "metadata": {}
        },
        {
          "output_type": "display_data",
          "data": {
            "text/html": [
              "0.278989637926969"
            ],
            "text/markdown": "0.278989637926969",
            "text/latex": "0.278989637926969",
            "text/plain": [
              "[1] 0.2789896"
            ]
          },
          "metadata": {}
        },
        {
          "output_type": "display_data",
          "data": {
            "text/html": [
              "0.28725269312092"
            ],
            "text/markdown": "0.28725269312092",
            "text/latex": "0.28725269312092",
            "text/plain": [
              "[1] 0.2872527"
            ]
          },
          "metadata": {}
        }
      ]
    },
    {
      "cell_type": "code",
      "source": [
        "min(found3$cvm)"
      ],
      "metadata": {
        "colab": {
          "base_uri": "https://localhost:8080/",
          "height": 34
        },
        "id": "8L1ihFK1Ce0p",
        "outputId": "1f7a0fd1-f143-4d0e-d856-8a3c6aeedcfe"
      },
      "execution_count": 88,
      "outputs": [
        {
          "output_type": "display_data",
          "data": {
            "text/html": [
              "0.273136876526497"
            ],
            "text/markdown": "0.273136876526497",
            "text/latex": "0.273136876526497",
            "text/plain": [
              "[1] 0.2731369"
            ]
          },
          "metadata": {}
        }
      ]
    },
    {
      "cell_type": "code",
      "source": [
        "elastic3 <- glmnet(x, y, alpha = 0.5, family = \"binomial\")\n",
        "coef(elastic3, s=found3$lambda.1se)"
      ],
      "metadata": {
        "colab": {
          "base_uri": "https://localhost:8080/",
          "height": 260
        },
        "id": "FsZ7Cq4mCeyK",
        "outputId": "41c5dea3-a680-4f81-e8a7-a7114e94065e"
      },
      "execution_count": 110,
      "outputs": [
        {
          "output_type": "display_data",
          "data": {
            "text/plain": [
              "12 x 1 sparse Matrix of class \"dgCMatrix\"\n",
              "                                                                    s1\n",
              "(Intercept)                                                   3.223153\n",
              "(Intercept)                                                   .       \n",
              "`Porcentaje de retraso`                                       4.319796\n",
              "`Porcentaje de iniciativa en proyectos`                      -3.848897\n",
              "`Porcentaje de entrega de proyectos a tiempo`                -6.361297\n",
              "`Porcentaje de correos electrónicos intercambiados`           .       \n",
              "`Porcentaje de receptividad`                                 -1.203900\n",
              "`Porcentaje de respuesta profesional a correos electrónicos` -1.759528\n",
              "`Porcentaje de compartir ideas`                              -1.176037\n",
              "`Porcentaje de ayudar a compañeros`                          -4.583573\n",
              "`Porcentaje de publicaciones empresariales en LinkedIn`       6.523748\n",
              "`Porcentaje de comentarios en Facebook`                       .       "
            ]
          },
          "metadata": {}
        }
      ]
    },
    {
      "cell_type": "code",
      "source": [
        "# Final elastic net model with lambda.min\n",
        "elastic3 <- glmnet(x, y, alpha = 0.5, family = \"binomial\",\n",
        "                      lambda = found3$lambda.1se)\n",
        "\n",
        "# Make prediction on TRAIN\n",
        "x.train <-model.matrix(Renuncia~., renunciar.train)\n",
        "\n",
        "probabilities <- elastic3 %>% predict(newx = x.train)\n",
        "predicted.classes <- ifelse(probabilities > 0.5, \"1\", \"0\")\n",
        "# Model accuracy\n",
        "observed.classes <- renunciar.train$Renuncia\n",
        "print(\"ENTRENAMIENTO\")\n",
        "conftest<- confusionMatrix(as.factor(predicted.classes),observed.classes)\n",
        "print(confusionMatrix(as.factor(predicted.classes),observed.classes))\n",
        "conftest$byClass\n",
        "\n",
        "# Make prediction on TEST\n",
        "x.test <-model.matrix(Renuncia~., renunciar.test)\n",
        "\n",
        "probabilities <- elastic3 %>% predict(newx = x.test)\n",
        "predicted.classes <- ifelse(probabilities > 0.5, \"1\", \"0\")\n",
        "# Model accuracy\n",
        "observed.classes <- renunciar.test$Renuncia\n",
        "print(\"PRUEBA\")\n",
        "conftest<- confusionMatrix(as.factor(predicted.classes),observed.classes)\n",
        "print(confusionMatrix(as.factor(predicted.classes),observed.classes))\n",
        "conftest$byClass"
      ],
      "metadata": {
        "colab": {
          "base_uri": "https://localhost:8080/",
          "height": 1000
        },
        "id": "W-FZdJurDb8Z",
        "outputId": "86ffa12a-8a98-4d28-f009-e81d0db216f4"
      },
      "execution_count": 112,
      "outputs": [
        {
          "output_type": "stream",
          "name": "stdout",
          "text": [
            "[1] \"ENTRENAMIENTO\"\n",
            "Confusion Matrix and Statistics\n",
            "\n",
            "          Reference\n",
            "Prediction   0   1\n",
            "         0 369  25\n",
            "         1  12 344\n",
            "                                         \n",
            "               Accuracy : 0.9507         \n",
            "                 95% CI : (0.9326, 0.965)\n",
            "    No Information Rate : 0.508          \n",
            "    P-Value [Acc > NIR] : < 2e-16        \n",
            "                                         \n",
            "                  Kappa : 0.9013         \n",
            "                                         \n",
            " Mcnemar's Test P-Value : 0.04852        \n",
            "                                         \n",
            "            Sensitivity : 0.9685         \n",
            "            Specificity : 0.9322         \n",
            "         Pos Pred Value : 0.9365         \n",
            "         Neg Pred Value : 0.9663         \n",
            "             Prevalence : 0.5080         \n",
            "         Detection Rate : 0.4920         \n",
            "   Detection Prevalence : 0.5253         \n",
            "      Balanced Accuracy : 0.9504         \n",
            "                                         \n",
            "       'Positive' Class : 0              \n",
            "                                         \n"
          ]
        },
        {
          "output_type": "display_data",
          "data": {
            "text/html": [
              "<style>\n",
              ".dl-inline {width: auto; margin:0; padding: 0}\n",
              ".dl-inline>dt, .dl-inline>dd {float: none; width: auto; display: inline-block}\n",
              ".dl-inline>dt::after {content: \":\\0020\"; padding-right: .5ex}\n",
              ".dl-inline>dt:not(:first-of-type) {padding-left: .5ex}\n",
              "</style><dl class=dl-inline><dt>Sensitivity</dt><dd>0.968503937007874</dd><dt>Specificity</dt><dd>0.932249322493225</dd><dt>Pos Pred Value</dt><dd>0.936548223350254</dd><dt>Neg Pred Value</dt><dd>0.966292134831461</dd><dt>Precision</dt><dd>0.936548223350254</dd><dt>Recall</dt><dd>0.968503937007874</dd><dt>F1</dt><dd>0.952258064516129</dd><dt>Prevalence</dt><dd>0.508</dd><dt>Detection Rate</dt><dd>0.492</dd><dt>Detection Prevalence</dt><dd>0.525333333333333</dd><dt>Balanced Accuracy</dt><dd>0.950376629750549</dd></dl>\n"
            ],
            "text/markdown": "Sensitivity\n:   0.968503937007874Specificity\n:   0.932249322493225Pos Pred Value\n:   0.936548223350254Neg Pred Value\n:   0.966292134831461Precision\n:   0.936548223350254Recall\n:   0.968503937007874F1\n:   0.952258064516129Prevalence\n:   0.508Detection Rate\n:   0.492Detection Prevalence\n:   0.525333333333333Balanced Accuracy\n:   0.950376629750549\n\n",
            "text/latex": "\\begin{description*}\n\\item[Sensitivity] 0.968503937007874\n\\item[Specificity] 0.932249322493225\n\\item[Pos Pred Value] 0.936548223350254\n\\item[Neg Pred Value] 0.966292134831461\n\\item[Precision] 0.936548223350254\n\\item[Recall] 0.968503937007874\n\\item[F1] 0.952258064516129\n\\item[Prevalence] 0.508\n\\item[Detection Rate] 0.492\n\\item[Detection Prevalence] 0.525333333333333\n\\item[Balanced Accuracy] 0.950376629750549\n\\end{description*}\n",
            "text/plain": [
              "         Sensitivity          Specificity       Pos Pred Value \n",
              "           0.9685039            0.9322493            0.9365482 \n",
              "      Neg Pred Value            Precision               Recall \n",
              "           0.9662921            0.9365482            0.9685039 \n",
              "                  F1           Prevalence       Detection Rate \n",
              "           0.9522581            0.5080000            0.4920000 \n",
              "Detection Prevalence    Balanced Accuracy \n",
              "           0.5253333            0.9503766 "
            ]
          },
          "metadata": {}
        },
        {
          "output_type": "stream",
          "name": "stdout",
          "text": [
            "[1] \"PRUEBA\"\n",
            "Confusion Matrix and Statistics\n",
            "\n",
            "          Reference\n",
            "Prediction   0   1\n",
            "         0 117  13\n",
            "         1   2 118\n",
            "                                        \n",
            "               Accuracy : 0.94          \n",
            "                 95% CI : (0.903, 0.966)\n",
            "    No Information Rate : 0.524         \n",
            "    P-Value [Acc > NIR] : < 2.2e-16     \n",
            "                                        \n",
            "                  Kappa : 0.8802        \n",
            "                                        \n",
            " Mcnemar's Test P-Value : 0.009823      \n",
            "                                        \n",
            "            Sensitivity : 0.9832        \n",
            "            Specificity : 0.9008        \n",
            "         Pos Pred Value : 0.9000        \n",
            "         Neg Pred Value : 0.9833        \n",
            "             Prevalence : 0.4760        \n",
            "         Detection Rate : 0.4680        \n",
            "   Detection Prevalence : 0.5200        \n",
            "      Balanced Accuracy : 0.9420        \n",
            "                                        \n",
            "       'Positive' Class : 0             \n",
            "                                        \n"
          ]
        },
        {
          "output_type": "display_data",
          "data": {
            "text/html": [
              "<style>\n",
              ".dl-inline {width: auto; margin:0; padding: 0}\n",
              ".dl-inline>dt, .dl-inline>dd {float: none; width: auto; display: inline-block}\n",
              ".dl-inline>dt::after {content: \":\\0020\"; padding-right: .5ex}\n",
              ".dl-inline>dt:not(:first-of-type) {padding-left: .5ex}\n",
              "</style><dl class=dl-inline><dt>Sensitivity</dt><dd>0.983193277310924</dd><dt>Specificity</dt><dd>0.900763358778626</dd><dt>Pos Pred Value</dt><dd>0.9</dd><dt>Neg Pred Value</dt><dd>0.983333333333333</dd><dt>Precision</dt><dd>0.9</dd><dt>Recall</dt><dd>0.983193277310924</dd><dt>F1</dt><dd>0.939759036144578</dd><dt>Prevalence</dt><dd>0.476</dd><dt>Detection Rate</dt><dd>0.468</dd><dt>Detection Prevalence</dt><dd>0.52</dd><dt>Balanced Accuracy</dt><dd>0.941978318044775</dd></dl>\n"
            ],
            "text/markdown": "Sensitivity\n:   0.983193277310924Specificity\n:   0.900763358778626Pos Pred Value\n:   0.9Neg Pred Value\n:   0.983333333333333Precision\n:   0.9Recall\n:   0.983193277310924F1\n:   0.939759036144578Prevalence\n:   0.476Detection Rate\n:   0.468Detection Prevalence\n:   0.52Balanced Accuracy\n:   0.941978318044775\n\n",
            "text/latex": "\\begin{description*}\n\\item[Sensitivity] 0.983193277310924\n\\item[Specificity] 0.900763358778626\n\\item[Pos Pred Value] 0.9\n\\item[Neg Pred Value] 0.983333333333333\n\\item[Precision] 0.9\n\\item[Recall] 0.983193277310924\n\\item[F1] 0.939759036144578\n\\item[Prevalence] 0.476\n\\item[Detection Rate] 0.468\n\\item[Detection Prevalence] 0.52\n\\item[Balanced Accuracy] 0.941978318044775\n\\end{description*}\n",
            "text/plain": [
              "         Sensitivity          Specificity       Pos Pred Value \n",
              "           0.9831933            0.9007634            0.9000000 \n",
              "      Neg Pred Value            Precision               Recall \n",
              "           0.9833333            0.9000000            0.9831933 \n",
              "                  F1           Prevalence       Detection Rate \n",
              "           0.9397590            0.4760000            0.4680000 \n",
              "Detection Prevalence    Balanced Accuracy \n",
              "           0.5200000            0.9419783 "
            ]
          },
          "metadata": {}
        }
      ]
    },
    {
      "cell_type": "markdown",
      "source": [
        "Una vez realizado el modelo con regularización anterior, el más adecuado se obtuvo con `lambda = found3$lambda.1se` y `alpha = 0.5`. Para encontrar alpha evalué el codigo anterior con valores entre [0-1] manualmente, hasta llegar a 0.5.\n",
        "\n",
        "Finalmente, comparando el modelo con el que no tenía regularización este es bastante mejor para detectar Los True Negatives pero disminuye su tasa para detectar los True Positives levemente. Los True Negatives pasaron de 112 a 117 y los True Positives bajaron de 123 a 118.\n",
        "\n",
        "Adicionalmente el Acuuracy en entrenamiento bajo un poco y en prueba se mantuvo en 0.94, indicando que si hubo un efecto para evitar el sobreajuste de los datos de entrenamiento.\n",
        "\n",
        "Sin emabrgo, considero que ambos modelos son igualmente adecuados ya que en promedio la tasa de verdaderos calsificados se mantienen aproximadamente igual."
      ],
      "metadata": {
        "id": "pDIGeoCLFUPL"
      }
    }
  ]
}