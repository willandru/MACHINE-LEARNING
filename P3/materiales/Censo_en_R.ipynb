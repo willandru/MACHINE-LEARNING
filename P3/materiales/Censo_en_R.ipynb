{
  "cells": [
    {
      "cell_type": "markdown",
      "metadata": {
        "id": "Z6mYplJ-Df0B"
      },
      "source": [
        "# ADULT CENSUS INCOME\n",
        "\n",
        "## Uso de modelos de Ensambles:\n",
        "## 1. Random Forests\n",
        "## 2. Adaboost\n",
        "## 3. Gradient Boosting (GBM)\n",
        "## 4. XGBoost\n"
      ]
    },
    {
      "cell_type": "markdown",
      "metadata": {
        "id": "n-7qgaK2Dluo"
      },
      "source": [
        "*Veamos el archivo:*"
      ]
    },
    {
      "cell_type": "code",
      "source": [
        "install.packages(\"caTools\")\n",
        "install.packages(\"randomForest\")\n",
        "install.packages(\"caret\")\n",
        "install.packages(\"MLmetrics\")\n",
        "install.packages(\"ranger\")\n",
        "install.packages(\"adabag\")\n",
        "install.packages(\"gbm\")\n",
        "install.packages(\"xgboost\")\n",
        "install.packages(\"Matrix\")\n",
        "\n",
        "library(caret)\n",
        "library(caTools)\n",
        "library(dplyr)\n",
        "library(MLmetrics)"
      ],
      "metadata": {
        "colab": {
          "base_uri": "https://localhost:8080/"
        },
        "id": "Y8e-ZYlz_NQ7",
        "outputId": "d7ae48dd-bebb-4a4f-9922-c0b731e58131"
      },
      "execution_count": 1,
      "outputs": [
        {
          "output_type": "stream",
          "name": "stderr",
          "text": [
            "Installing package into ‘/usr/local/lib/R/site-library’\n",
            "(as ‘lib’ is unspecified)\n",
            "\n",
            "also installing the dependency ‘bitops’\n",
            "\n",
            "\n",
            "Installing package into ‘/usr/local/lib/R/site-library’\n",
            "(as ‘lib’ is unspecified)\n",
            "\n",
            "Installing package into ‘/usr/local/lib/R/site-library’\n",
            "(as ‘lib’ is unspecified)\n",
            "\n",
            "also installing the dependencies ‘listenv’, ‘parallelly’, ‘future’, ‘globals’, ‘shape’, ‘future.apply’, ‘numDeriv’, ‘progressr’, ‘SQUAREM’, ‘diagram’, ‘lava’, ‘prodlim’, ‘proxy’, ‘iterators’, ‘clock’, ‘gower’, ‘hardhat’, ‘ipred’, ‘timeDate’, ‘e1071’, ‘foreach’, ‘ModelMetrics’, ‘plyr’, ‘pROC’, ‘recipes’, ‘reshape2’\n",
            "\n",
            "\n",
            "Installing package into ‘/usr/local/lib/R/site-library’\n",
            "(as ‘lib’ is unspecified)\n",
            "\n",
            "also installing the dependencies ‘gtools’, ‘gplots’, ‘ROCR’\n",
            "\n",
            "\n",
            "Installing package into ‘/usr/local/lib/R/site-library’\n",
            "(as ‘lib’ is unspecified)\n",
            "\n",
            "also installing the dependency ‘RcppEigen’\n",
            "\n",
            "\n",
            "Installing package into ‘/usr/local/lib/R/site-library’\n",
            "(as ‘lib’ is unspecified)\n",
            "\n",
            "also installing the dependencies ‘XML’, ‘rgl’, ‘rlist’, ‘doParallel’, ‘ConsRank’\n",
            "\n",
            "\n",
            "Installing package into ‘/usr/local/lib/R/site-library’\n",
            "(as ‘lib’ is unspecified)\n",
            "\n",
            "Installing package into ‘/usr/local/lib/R/site-library’\n",
            "(as ‘lib’ is unspecified)\n",
            "\n",
            "Installing package into ‘/usr/local/lib/R/site-library’\n",
            "(as ‘lib’ is unspecified)\n",
            "\n",
            "Loading required package: ggplot2\n",
            "\n",
            "Loading required package: lattice\n",
            "\n",
            "\n",
            "Attaching package: ‘dplyr’\n",
            "\n",
            "\n",
            "The following objects are masked from ‘package:stats’:\n",
            "\n",
            "    filter, lag\n",
            "\n",
            "\n",
            "The following objects are masked from ‘package:base’:\n",
            "\n",
            "    intersect, setdiff, setequal, union\n",
            "\n",
            "\n",
            "\n",
            "Attaching package: ‘MLmetrics’\n",
            "\n",
            "\n",
            "The following objects are masked from ‘package:caret’:\n",
            "\n",
            "    MAE, RMSE\n",
            "\n",
            "\n",
            "The following object is masked from ‘package:base’:\n",
            "\n",
            "    Recall\n",
            "\n",
            "\n"
          ]
        }
      ]
    },
    {
      "cell_type": "code",
      "source": [],
      "metadata": {
        "colab": {
          "base_uri": "https://localhost:8080/"
        },
        "id": "5Fy1fLIxExFk",
        "outputId": "3033cab0-b249-4073-d44e-de61a063c851"
      },
      "execution_count": 22,
      "outputs": [
        {
          "output_type": "stream",
          "name": "stderr",
          "text": [
            "Installing package into ‘/usr/local/lib/R/site-library’\n",
            "(as ‘lib’ is unspecified)\n",
            "\n",
            "\n",
            "Attaching package: ‘MLmetrics’\n",
            "\n",
            "\n",
            "The following objects are masked from ‘package:caret’:\n",
            "\n",
            "    MAE, RMSE\n",
            "\n",
            "\n",
            "The following object is masked from ‘package:base’:\n",
            "\n",
            "    Recall\n",
            "\n",
            "\n"
          ]
        }
      ]
    },
    {
      "cell_type": "code",
      "execution_count": 2,
      "metadata": {
        "colab": {
          "base_uri": "https://localhost:8080/"
        },
        "id": "WvCA-t9BDq9r",
        "outputId": "924ee907-2598-4468-e21d-f25b82365b5f"
      },
      "outputs": [
        {
          "output_type": "stream",
          "name": "stdout",
          "text": [
            "'data.frame':\t32561 obs. of  14 variables:\n",
            " $ age           : int  90 82 66 54 41 34 38 74 68 41 ...\n",
            " $ workclass     : chr  \"?\" \"Private\" \"?\" \"Private\" ...\n",
            " $ fnlwgt        : int  77053 132870 186061 140359 264663 216864 150601 88638 422013 70037 ...\n",
            " $ education     : chr  \"HS-grad\" \"HS-grad\" \"Some-college\" \"7th-8th\" ...\n",
            " $ education.num : int  9 9 10 4 10 9 6 16 9 10 ...\n",
            " $ marital.status: chr  \"Widowed\" \"Widowed\" \"Widowed\" \"Divorced\" ...\n",
            " $ occupation    : chr  \"?\" \"Exec-managerial\" \"?\" \"Machine-op-inspct\" ...\n",
            " $ relationship  : chr  \"Not-in-family\" \"Not-in-family\" \"Unmarried\" \"Unmarried\" ...\n",
            " $ race          : chr  \"White\" \"White\" \"Black\" \"White\" ...\n",
            " $ sex           : chr  \"Female\" \"Female\" \"Female\" \"Female\" ...\n",
            " $ capital.gain  : int  0 0 0 0 0 0 0 0 0 0 ...\n",
            " $ capital.loss  : int  4356 4356 4356 3900 3900 3770 3770 3683 3683 3004 ...\n",
            " $ hours.per.week: int  40 18 40 40 40 45 40 20 40 60 ...\n",
            " $ income        : chr  \"<=50K\" \"<=50K\" \"<=50K\" \"<=50K\" ...\n"
          ]
        }
      ],
      "source": [
        "data_new<-read.csv(\"adult.csv\", header=TRUE, sep=\";\", dec=\",\")\n",
        "\n",
        "str(data_new)"
      ]
    },
    {
      "cell_type": "code",
      "execution_count": 3,
      "metadata": {
        "colab": {
          "base_uri": "https://localhost:8080/",
          "height": 69
        },
        "id": "jHVZPFoS3Ar8",
        "outputId": "6f2d7363-077f-43ee-e51f-2013be9895b8"
      },
      "outputs": [
        {
          "output_type": "stream",
          "name": "stdout",
          "text": [
            "[1] TRUE\n"
          ]
        },
        {
          "output_type": "display_data",
          "data": {
            "text/html": [
              "<style>\n",
              ".dl-inline {width: auto; margin:0; padding: 0}\n",
              ".dl-inline>dt, .dl-inline>dd {float: none; width: auto; display: inline-block}\n",
              ".dl-inline>dt::after {content: \":\\0020\"; padding-right: .5ex}\n",
              ".dl-inline>dt:not(:first-of-type) {padding-left: .5ex}\n",
              "</style><dl class=dl-inline><dt>age</dt><dd>0</dd><dt>workclass</dt><dd>1836</dd><dt>fnlwgt</dt><dd>0</dd><dt>education</dt><dd>0</dd><dt>education.num</dt><dd>0</dd><dt>marital.status</dt><dd>0</dd><dt>occupation</dt><dd>1843</dd><dt>relationship</dt><dd>0</dd><dt>race</dt><dd>0</dd><dt>sex</dt><dd>0</dd><dt>capital.gain</dt><dd>0</dd><dt>capital.loss</dt><dd>0</dd><dt>hours.per.week</dt><dd>0</dd><dt>income</dt><dd>0</dd></dl>\n"
            ],
            "text/markdown": "age\n:   0workclass\n:   1836fnlwgt\n:   0education\n:   0education.num\n:   0marital.status\n:   0occupation\n:   1843relationship\n:   0race\n:   0sex\n:   0capital.gain\n:   0capital.loss\n:   0hours.per.week\n:   0income\n:   0\n\n",
            "text/latex": "\\begin{description*}\n\\item[age] 0\n\\item[workclass] 1836\n\\item[fnlwgt] 0\n\\item[education] 0\n\\item[education.num] 0\n\\item[marital.status] 0\n\\item[occupation] 1843\n\\item[relationship] 0\n\\item[race] 0\n\\item[sex] 0\n\\item[capital.gain] 0\n\\item[capital.loss] 0\n\\item[hours.per.week] 0\n\\item[income] 0\n\\end{description*}\n",
            "text/plain": [
              "           age      workclass         fnlwgt      education  education.num \n",
              "             0           1836              0              0              0 \n",
              "marital.status     occupation   relationship           race            sex \n",
              "             0           1843              0              0              0 \n",
              "  capital.gain   capital.loss hours.per.week         income \n",
              "             0              0              0              0 "
            ]
          },
          "metadata": {}
        }
      ],
      "source": [
        "#Verificación de valores nulos, que están representandos por un \"?\"\n",
        "# Convertir \"?\" a NA en todo el DataFrame\n",
        "data_new[data_new == \"?\"] <- NA\n",
        "\n",
        "any_na <- any(is.na(data_new))\n",
        "print(any_na)\n",
        "colSums(is.na(data_new))"
      ]
    },
    {
      "cell_type": "code",
      "execution_count": 4,
      "metadata": {
        "colab": {
          "base_uri": "https://localhost:8080/",
          "height": 52
        },
        "id": "Cd6UYELb3ENU",
        "outputId": "ac19832f-22e9-4c6a-ee85-b9a66ec55a66"
      },
      "outputs": [
        {
          "output_type": "display_data",
          "data": {
            "text/html": [
              "<style>\n",
              ".dl-inline {width: auto; margin:0; padding: 0}\n",
              ".dl-inline>dt, .dl-inline>dd {float: none; width: auto; display: inline-block}\n",
              ".dl-inline>dt::after {content: \":\\0020\"; padding-right: .5ex}\n",
              ".dl-inline>dt:not(:first-of-type) {padding-left: .5ex}\n",
              "</style><dl class=dl-inline><dt>age</dt><dd>0</dd><dt>workclass</dt><dd>0</dd><dt>fnlwgt</dt><dd>0</dd><dt>education</dt><dd>0</dd><dt>education.num</dt><dd>0</dd><dt>marital.status</dt><dd>0</dd><dt>occupation</dt><dd>0</dd><dt>relationship</dt><dd>0</dd><dt>race</dt><dd>0</dd><dt>sex</dt><dd>0</dd><dt>capital.gain</dt><dd>0</dd><dt>capital.loss</dt><dd>0</dd><dt>hours.per.week</dt><dd>0</dd><dt>income</dt><dd>0</dd></dl>\n"
            ],
            "text/markdown": "age\n:   0workclass\n:   0fnlwgt\n:   0education\n:   0education.num\n:   0marital.status\n:   0occupation\n:   0relationship\n:   0race\n:   0sex\n:   0capital.gain\n:   0capital.loss\n:   0hours.per.week\n:   0income\n:   0\n\n",
            "text/latex": "\\begin{description*}\n\\item[age] 0\n\\item[workclass] 0\n\\item[fnlwgt] 0\n\\item[education] 0\n\\item[education.num] 0\n\\item[marital.status] 0\n\\item[occupation] 0\n\\item[relationship] 0\n\\item[race] 0\n\\item[sex] 0\n\\item[capital.gain] 0\n\\item[capital.loss] 0\n\\item[hours.per.week] 0\n\\item[income] 0\n\\end{description*}\n",
            "text/plain": [
              "           age      workclass         fnlwgt      education  education.num \n",
              "             0              0              0              0              0 \n",
              "marital.status     occupation   relationship           race            sex \n",
              "             0              0              0              0              0 \n",
              "  capital.gain   capital.loss hours.per.week         income \n",
              "             0              0              0              0 "
            ]
          },
          "metadata": {}
        }
      ],
      "source": [
        "# Eliminar las filas con valores nulos\n",
        "data_new <- na.omit(data_new)\n",
        "colSums(is.na(data_new))"
      ]
    },
    {
      "cell_type": "code",
      "source": [
        "str(data_new)"
      ],
      "metadata": {
        "colab": {
          "base_uri": "https://localhost:8080/"
        },
        "id": "1UcgPx2OdozD",
        "outputId": "b1b8c729-d9e0-43c0-dc5b-c992689923c5"
      },
      "execution_count": 5,
      "outputs": [
        {
          "output_type": "stream",
          "name": "stdout",
          "text": [
            "'data.frame':\t30718 obs. of  14 variables:\n",
            " $ age           : int  82 54 41 34 38 74 68 41 45 38 ...\n",
            " $ workclass     : chr  \"Private\" \"Private\" \"Private\" \"Private\" ...\n",
            " $ fnlwgt        : int  132870 140359 264663 216864 150601 88638 422013 70037 172274 164526 ...\n",
            " $ education     : chr  \"HS-grad\" \"7th-8th\" \"Some-college\" \"HS-grad\" ...\n",
            " $ education.num : int  9 4 10 9 6 16 9 10 16 15 ...\n",
            " $ marital.status: chr  \"Widowed\" \"Divorced\" \"Separated\" \"Divorced\" ...\n",
            " $ occupation    : chr  \"Exec-managerial\" \"Machine-op-inspct\" \"Prof-specialty\" \"Other-service\" ...\n",
            " $ relationship  : chr  \"Not-in-family\" \"Unmarried\" \"Own-child\" \"Unmarried\" ...\n",
            " $ race          : chr  \"White\" \"White\" \"White\" \"White\" ...\n",
            " $ sex           : chr  \"Female\" \"Female\" \"Female\" \"Female\" ...\n",
            " $ capital.gain  : int  0 0 0 0 0 0 0 0 0 0 ...\n",
            " $ capital.loss  : int  4356 3900 3900 3770 3770 3683 3683 3004 3004 2824 ...\n",
            " $ hours.per.week: int  18 40 40 45 40 20 40 60 35 45 ...\n",
            " $ income        : chr  \"<=50K\" \"<=50K\" \"<=50K\" \"<=50K\" ...\n",
            " - attr(*, \"na.action\")= 'omit' Named int [1:1843] 1 3 15 25 45 49 50 77 115 134 ...\n",
            "  ..- attr(*, \"names\")= chr [1:1843] \"1\" \"3\" \"15\" \"25\" ...\n"
          ]
        }
      ]
    },
    {
      "cell_type": "code",
      "source": [
        "data_new$income <- factor(data_new$income)"
      ],
      "metadata": {
        "id": "NVH4Mrj0KUzq"
      },
      "execution_count": 34,
      "outputs": []
    },
    {
      "cell_type": "code",
      "execution_count": 35,
      "metadata": {
        "id": "WRzIvrgS4SvE"
      },
      "outputs": [],
      "source": [
        "# Separar las variables predictoras (X) y la variable objetivo (y)\n",
        "X <- select(data_new, -income)\n",
        "y <- data_new$income"
      ]
    },
    {
      "cell_type": "code",
      "execution_count": 36,
      "metadata": {
        "id": "Cogb4fs-4e16"
      },
      "outputs": [],
      "source": [
        "# Split dataset into training set and test set\n",
        "\n",
        "set.seed(109)\n",
        "\n",
        "# Crear una división del 75% para entrenamiento y 25% para prueba\n",
        "split <- sample.split(y, SplitRatio = 0.75)\n",
        "X_train <- subset(X, split == TRUE)\n",
        "X_test <- subset(X, split == FALSE)\n",
        "y_train <- subset(y, split == TRUE)\n",
        "y_test <- subset(y, split == FALSE)"
      ]
    },
    {
      "cell_type": "code",
      "execution_count": 37,
      "metadata": {
        "colab": {
          "base_uri": "https://localhost:8080/",
          "height": 34
        },
        "id": "-NwcJtmH5B1t",
        "outputId": "81d1a8e4-f23d-4aa6-f523-2a2d633cb7ad"
      },
      "outputs": [
        {
          "output_type": "display_data",
          "data": {
            "text/html": [
              "<style>\n",
              ".list-inline {list-style: none; margin:0; padding: 0}\n",
              ".list-inline>li {display: inline-block}\n",
              ".list-inline>li:not(:last-child)::after {content: \"\\00b7\"; padding: 0 .5ex}\n",
              "</style>\n",
              "<ol class=list-inline><li>23039</li><li>13</li></ol>\n"
            ],
            "text/markdown": "1. 23039\n2. 13\n\n\n",
            "text/latex": "\\begin{enumerate*}\n\\item 23039\n\\item 13\n\\end{enumerate*}\n",
            "text/plain": [
              "[1] 23039    13"
            ]
          },
          "metadata": {}
        }
      ],
      "source": [
        "dim(X_train)"
      ]
    },
    {
      "cell_type": "code",
      "execution_count": 38,
      "metadata": {
        "colab": {
          "base_uri": "https://localhost:8080/",
          "height": 437
        },
        "id": "gfG7I50G5-8U",
        "outputId": "3b0c78b2-9013-4e13-e97d-6ea7b76901a8"
      },
      "outputs": [
        {
          "output_type": "display_data",
          "data": {
            "text/plain": [
              "plot without title"
            ],
            "image/png": "[encoded data removed]"
          },
          "metadata": {
            "image/png": {
              "width": 420,
              "height": 420
            }
          }
        }
      ],
      "source": [
        "y_test_df <- data.frame(y = factor(y_test))\n",
        "\n",
        "# Crear el gráfico de conteo\n",
        "ggplot(y_test_df, aes(x = y)) +\n",
        "  geom_bar(fill = \"blue\") +  # Cambia el color según desees\n",
        "  labs(x = \"Categoría\", y = \"Conteo\")"
      ]
    },
    {
      "cell_type": "code",
      "execution_count": 39,
      "metadata": {
        "colab": {
          "base_uri": "https://localhost:8080/",
          "height": 437
        },
        "id": "JahxAhoW6LgG",
        "outputId": "f77b0365-2bd4-4e27-8f07-5a0c48e8cb73"
      },
      "outputs": [
        {
          "output_type": "display_data",
          "data": {
            "text/plain": [
              "plot without title"
            ],
            "image/png": "[encoded data removed]"
          },
          "metadata": {
            "image/png": {
              "width": 420,
              "height": 420
            }
          }
        }
      ],
      "source": [
        "y_train_df <- data.frame(y = factor(y_train))\n",
        "\n",
        "# Crear el gráfico de conteo\n",
        "ggplot(y_train_df, aes(x = y)) +\n",
        "  geom_bar(fill = \"blue\") +  # Cambia el color según desees\n",
        "  labs(x = \"Categoría\", y = \"Conteo\")"
      ]
    },
    {
      "cell_type": "code",
      "execution_count": 46,
      "metadata": {
        "id": "M0N9EkT_6kFH"
      },
      "outputs": [],
      "source": [
        "# Convertir a data frames\n",
        "y_train_df <- data.frame(income = y_train)\n",
        "y_test_df <- data.frame(income = y_test)\n",
        "\n",
        "y_train_df$income <- factor(y_train_df$income)\n",
        "y_test_df$income <- factor(y_test_df$income)\n",
        "\n",
        "X_train_df <- data.frame(X_train)\n",
        "X_test_df <- data.frame(X_test)"
      ]
    },
    {
      "cell_type": "markdown",
      "metadata": {
        "id": "Mi5AEmv-DQcV"
      },
      "source": [
        "# **Generación de modelos con base de datos original (desbalanceada)**"
      ]
    },
    {
      "cell_type": "markdown",
      "metadata": {
        "id": "6xlDaVOADTUn"
      },
      "source": [
        "**1. RANDOM FOREST**"
      ]
    },
    {
      "cell_type": "code",
      "source": [
        "library(randomForest)"
      ],
      "metadata": {
        "id": "YKfGqoSeK9Lj"
      },
      "execution_count": null,
      "outputs": []
    },
    {
      "cell_type": "code",
      "execution_count": 74,
      "metadata": {
        "colab": {
          "base_uri": "https://localhost:8080/"
        },
        "id": "8pfqJP1RDjnz",
        "outputId": "fcc87445-9f5d-46e2-9d88-ccbd513ec3b9"
      },
      "outputs": [
        {
          "output_type": "stream",
          "name": "stdout",
          "text": [
            "ENTRENAMIENTO\n",
            "        predictions_train\n",
            "         X.50K X..50K\n",
            "  X.50K   5036    702\n",
            "  X..50K   392  16909\n",
            "Informe de clasificación para entrenamiento:\n",
            "Confusion Matrix and Statistics\n",
            "\n",
            "          Reference\n",
            "Prediction X.50K X..50K\n",
            "    X.50K   5036    392\n",
            "    X..50K   702  16909\n",
            "                                          \n",
            "               Accuracy : 0.9525          \n",
            "                 95% CI : (0.9497, 0.9552)\n",
            "    No Information Rate : 0.7509          \n",
            "    P-Value [Acc > NIR] : < 2.2e-16       \n",
            "                                          \n",
            "                  Kappa : 0.8707          \n",
            "                                          \n",
            " Mcnemar's Test P-Value : < 2.2e-16       \n",
            "                                          \n",
            "            Sensitivity : 0.8777          \n",
            "            Specificity : 0.9773          \n",
            "         Pos Pred Value : 0.9278          \n",
            "         Neg Pred Value : 0.9601          \n",
            "             Prevalence : 0.2491          \n",
            "         Detection Rate : 0.2186          \n",
            "   Detection Prevalence : 0.2356          \n",
            "      Balanced Accuracy : 0.9275          \n",
            "                                          \n",
            "       'Positive' Class : X.50K           \n",
            "                                          \n"
          ]
        }
      ],
      "source": [
        "# Crear el clasificador Random Forest\n",
        "set.seed(109)\n",
        "rfc1 <- randomForest(income ~ ., data = cbind(y_train_df, X_train_df), ntree = 100, importance = TRUE)\n",
        "\n",
        "# Hacer predicciones en el conjunto de entrenamiento\n",
        "predictions_train <- predict(rfc1, X_train_df)\n",
        "\n",
        "cat(\"ENTRENAMIENTO\\n\")\n",
        "confusion_matrix_train <- table(y_train_df$income, predictions_train)\n",
        "print(confusion_matrix_train)\n",
        "cat(\"Informe de clasificación para entrenamiento:\\n\")\n",
        "print(confusionMatrix(factor(predictions_train), factor(y_train_df$income)))"
      ]
    },
    {
      "cell_type": "code",
      "source": [
        "# Revisar clase positiva\n",
        "levels(y_train_df$income)"
      ],
      "metadata": {
        "colab": {
          "base_uri": "https://localhost:8080/",
          "height": 34
        },
        "id": "VLNnwT0qI1mC",
        "outputId": "2494d3ca-998c-4438-867c-7ac753927286"
      },
      "execution_count": 44,
      "outputs": [
        {
          "output_type": "display_data",
          "data": {
            "text/html": [
              "<style>\n",
              ".list-inline {list-style: none; margin:0; padding: 0}\n",
              ".list-inline>li {display: inline-block}\n",
              ".list-inline>li:not(:last-child)::after {content: \"\\00b7\"; padding: 0 .5ex}\n",
              "</style>\n",
              "<ol class=list-inline><li>'&lt;=50K'</li><li>'&gt;50K'</li></ol>\n"
            ],
            "text/markdown": "1. '&lt;=50K'\n2. '&gt;50K'\n\n\n",
            "text/latex": "\\begin{enumerate*}\n\\item '<=50K'\n\\item '>50K'\n\\end{enumerate*}\n",
            "text/plain": [
              "[1] \"<=50K\" \">50K\" "
            ]
          },
          "metadata": {}
        }
      ]
    },
    {
      "cell_type": "code",
      "source": [
        "# Cambiar la clase positiva\n",
        "y_train_df$income <- relevel(y_train_df$income, ref = \">50K\")\n",
        "y_test_df$income <- relevel(y_test_df$income, ref = \">50K\")\n",
        "levels(y_test_df$income)"
      ],
      "metadata": {
        "colab": {
          "base_uri": "https://localhost:8080/",
          "height": 34
        },
        "id": "706wzsBfI_He",
        "outputId": "ac85207f-9c97-4cea-a2ea-6070b00fbcfe"
      },
      "execution_count": 48,
      "outputs": [
        {
          "output_type": "display_data",
          "data": {
            "text/html": [
              "<style>\n",
              ".list-inline {list-style: none; margin:0; padding: 0}\n",
              ".list-inline>li {display: inline-block}\n",
              ".list-inline>li:not(:last-child)::after {content: \"\\00b7\"; padding: 0 .5ex}\n",
              "</style>\n",
              "<ol class=list-inline><li>'&gt;50K'</li><li>'&lt;=50K'</li></ol>\n"
            ],
            "text/markdown": "1. '&gt;50K'\n2. '&lt;=50K'\n\n\n",
            "text/latex": "\\begin{enumerate*}\n\\item '>50K'\n\\item '<=50K'\n\\end{enumerate*}\n",
            "text/plain": [
              "[1] \">50K\"  \"<=50K\""
            ]
          },
          "metadata": {}
        }
      ]
    },
    {
      "cell_type": "code",
      "source": [
        "# Crear el clasificador Random Forest\n",
        "set.seed(109)\n",
        "rfc1 <- randomForest(income ~ ., data = cbind(y_train_df, X_train_df), ntree = 100, importance = TRUE)\n",
        "\n",
        "# Hacer predicciones en el conjunto de entrenamiento\n",
        "predictions_train <- predict(rfc1, X_train_df)\n",
        "\n",
        "cat(\"ENTRENAMIENTO\\n\")\n",
        "confusion_matrix_train <- table(y_train_df$income, predictions_train)\n",
        "print(confusion_matrix_train)\n",
        "cat(\"Informe de clasificación para entrenamiento:\\n\")\n",
        "print(confusionMatrix(factor(predictions_train), factor(y_train_df$income)))"
      ],
      "metadata": {
        "colab": {
          "base_uri": "https://localhost:8080/"
        },
        "id": "11nJnuwYNaU-",
        "outputId": "3d8e2421-97fc-438c-e9c4-52c2f00fb508"
      },
      "execution_count": 54,
      "outputs": [
        {
          "output_type": "stream",
          "name": "stdout",
          "text": [
            "ENTRENAMIENTO\n",
            "       predictions_train\n",
            "         >50K <=50K\n",
            "  >50K   5036   702\n",
            "  <=50K   392 16909\n",
            "Informe de clasificación para entrenamiento:\n",
            "Confusion Matrix and Statistics\n",
            "\n",
            "          Reference\n",
            "Prediction  >50K <=50K\n",
            "     >50K   5036   392\n",
            "     <=50K   702 16909\n",
            "                                          \n",
            "               Accuracy : 0.9525          \n",
            "                 95% CI : (0.9497, 0.9552)\n",
            "    No Information Rate : 0.7509          \n",
            "    P-Value [Acc > NIR] : < 2.2e-16       \n",
            "                                          \n",
            "                  Kappa : 0.8707          \n",
            "                                          \n",
            " Mcnemar's Test P-Value : < 2.2e-16       \n",
            "                                          \n",
            "            Sensitivity : 0.8777          \n",
            "            Specificity : 0.9773          \n",
            "         Pos Pred Value : 0.9278          \n",
            "         Neg Pred Value : 0.9601          \n",
            "             Prevalence : 0.2491          \n",
            "         Detection Rate : 0.2186          \n",
            "   Detection Prevalence : 0.2356          \n",
            "      Balanced Accuracy : 0.9275          \n",
            "                                          \n",
            "       'Positive' Class : >50K            \n",
            "                                          \n"
          ]
        }
      ]
    },
    {
      "cell_type": "code",
      "execution_count": 55,
      "metadata": {
        "colab": {
          "base_uri": "https://localhost:8080/"
        },
        "id": "Q4abNk9uGlSP",
        "outputId": "be556c0d-d6c9-4fd8-fd80-f9e66634fc05"
      },
      "outputs": [
        {
          "output_type": "stream",
          "name": "stdout",
          "text": [
            "PRUEBA\n",
            "       predictions_test\n",
            "        >50K <=50K\n",
            "  >50K  1225   687\n",
            "  <=50K  349  5418\n",
            "Informe de clasificación para prueba:\n",
            "Confusion Matrix and Statistics\n",
            "\n",
            "          Reference\n",
            "Prediction >50K <=50K\n",
            "     >50K  1225   349\n",
            "     <=50K  687  5418\n",
            "                                          \n",
            "               Accuracy : 0.8651          \n",
            "                 95% CI : (0.8572, 0.8727)\n",
            "    No Information Rate : 0.751           \n",
            "    P-Value [Acc > NIR] : < 2.2e-16       \n",
            "                                          \n",
            "                  Kappa : 0.6166          \n",
            "                                          \n",
            " Mcnemar's Test P-Value : < 2.2e-16       \n",
            "                                          \n",
            "            Sensitivity : 0.6407          \n",
            "            Specificity : 0.9395          \n",
            "         Pos Pred Value : 0.7783          \n",
            "         Neg Pred Value : 0.8875          \n",
            "             Prevalence : 0.2490          \n",
            "         Detection Rate : 0.1595          \n",
            "   Detection Prevalence : 0.2050          \n",
            "      Balanced Accuracy : 0.7901          \n",
            "                                          \n",
            "       'Positive' Class : >50K            \n",
            "                                          \n",
            "F1 score = [1] 0.7028112\n"
          ]
        }
      ],
      "source": [
        "# Hacer predicciones en el conjunto de prueba\n",
        "predictions_test <- predict(rfc1, X_test_df)\n",
        "cat(\"PRUEBA\\n\")\n",
        "confusion_matrix_test <- table(y_test_df$income, predictions_test)\n",
        "print(confusion_matrix_test)\n",
        "\n",
        "cat(\"Informe de clasificación para prueba:\\n\")\n",
        "print(confusionMatrix(factor(predictions_test), factor(y_test_df$income)))\n",
        "\n",
        "cat (\"F1 score = \")\n",
        "print(F1_Score(predictions_test,y_test_df$income))"
      ]
    },
    {
      "cell_type": "code",
      "source": [
        "# Crear un segundo clasificador Random Forest\n",
        "rfc2 <- randomForest(income ~ ., data = cbind(y_train_df, X_train_df), ntree = 100, max.depth = 10)\n",
        "\n",
        "# Hacer predicciones en el conjunto de entrenamiento\n",
        "predictions_train <- predict(rfc2, X_train_df)\n",
        "cat(\"ENTRENAMIENTO\\n\")\n",
        "confusion_matrix_train <- table(y_train_df$income, predictions_train)\n",
        "print(confusion_matrix_train)\n",
        "cat(\"Informe de clasificación para entrenamiento:\\n\")\n",
        "print(confusionMatrix(factor(predictions_train), factor(y_train_df$income)))\n",
        "\n",
        "# Hacer predicciones en el conjunto de prueba\n",
        "predictions_test <- predict(rfc2, X_test_df)\n",
        "cat(\"PRUEBA\\n\")\n",
        "confusion_matrix_test <- table(y_test_df$income, predictions_test)\n",
        "print(confusion_matrix_test)\n",
        "cat(\"Informe de clasificación para prueba:\\n\")\n",
        "print(confusionMatrix(factor(predictions_test), factor(y_test_df$income)))\n",
        "cat (\"F1 score = \")\n",
        "print(F1_Score(predictions_test,y_test_df$income))"
      ],
      "metadata": {
        "colab": {
          "base_uri": "https://localhost:8080/"
        },
        "id": "hX5eXsLLC0Sf",
        "outputId": "d6a998fd-440b-467d-ae8c-77d61c9c1c32"
      },
      "execution_count": 57,
      "outputs": [
        {
          "output_type": "stream",
          "name": "stdout",
          "text": [
            "ENTRENAMIENTO\n",
            "       predictions_train\n",
            "         >50K <=50K\n",
            "  >50K   4966   772\n",
            "  <=50K   420 16881\n",
            "Informe de clasificación para entrenamiento:\n",
            "Confusion Matrix and Statistics\n",
            "\n",
            "          Reference\n",
            "Prediction  >50K <=50K\n",
            "     >50K   4966   420\n",
            "     <=50K   772 16881\n",
            "                                          \n",
            "               Accuracy : 0.9483          \n",
            "                 95% CI : (0.9453, 0.9511)\n",
            "    No Information Rate : 0.7509          \n",
            "    P-Value [Acc > NIR] : < 2.2e-16       \n",
            "                                          \n",
            "                  Kappa : 0.8588          \n",
            "                                          \n",
            " Mcnemar's Test P-Value : < 2.2e-16       \n",
            "                                          \n",
            "            Sensitivity : 0.8655          \n",
            "            Specificity : 0.9757          \n",
            "         Pos Pred Value : 0.9220          \n",
            "         Neg Pred Value : 0.9563          \n",
            "             Prevalence : 0.2491          \n",
            "         Detection Rate : 0.2155          \n",
            "   Detection Prevalence : 0.2338          \n",
            "      Balanced Accuracy : 0.9206          \n",
            "                                          \n",
            "       'Positive' Class : >50K            \n",
            "                                          \n",
            "PRUEBA\n",
            "       predictions_test\n",
            "        >50K <=50K\n",
            "  >50K  1216   696\n",
            "  <=50K  345  5422\n",
            "Informe de clasificación para prueba:\n",
            "Confusion Matrix and Statistics\n",
            "\n",
            "          Reference\n",
            "Prediction >50K <=50K\n",
            "     >50K  1216   345\n",
            "     <=50K  696  5422\n",
            "                                         \n",
            "               Accuracy : 0.8644         \n",
            "                 95% CI : (0.8566, 0.872)\n",
            "    No Information Rate : 0.751          \n",
            "    P-Value [Acc > NIR] : < 2.2e-16      \n",
            "                                         \n",
            "                  Kappa : 0.6138         \n",
            "                                         \n",
            " Mcnemar's Test P-Value : < 2.2e-16      \n",
            "                                         \n",
            "            Sensitivity : 0.6360         \n",
            "            Specificity : 0.9402         \n",
            "         Pos Pred Value : 0.7790         \n",
            "         Neg Pred Value : 0.8862         \n",
            "             Prevalence : 0.2490         \n",
            "         Detection Rate : 0.1584         \n",
            "   Detection Prevalence : 0.2033         \n",
            "      Balanced Accuracy : 0.7881         \n",
            "                                         \n",
            "       'Positive' Class : >50K           \n",
            "                                         \n",
            "F1 score = [1] 0.7002591\n"
          ]
        }
      ]
    },
    {
      "cell_type": "code",
      "source": [
        "# Crear un tercer clasificador Random Forest\n",
        "rfc3 <- randomForest(income ~ ., data = cbind(y_train_df, X_train_df), ntree = 100, mtry = 4)\n",
        "\n",
        "# Hacer predicciones en el conjunto de entrenamiento\n",
        "predictions_train <- predict(rfc3, X_train_df)\n",
        "cat(\"ENTRENAMIENTO\\n\")\n",
        "confusion_matrix_train <- table(y_train_df$income, predictions_train)\n",
        "print(confusion_matrix_train)\n",
        "cat(\"Informe de clasificación para entrenamiento:\\n\")\n",
        "print(confusionMatrix(factor(predictions_train), factor(y_train_df$income)))\n",
        "\n",
        "# Hacer predicciones en el conjunto de prueba\n",
        "predictions_test <- predict(rfc3, X_test_df)\n",
        "cat(\"PRUEBA\\n\")\n",
        "confusion_matrix_test <- table(y_test_df$income, predictions_test)\n",
        "print(confusion_matrix_test)\n",
        "cat(\"Informe de clasificación para prueba:\\n\")\n",
        "print(confusionMatrix(factor(predictions_test), factor(y_test_df$income)))\n",
        "cat (\"F1 score = \")\n",
        "print(F1_Score(predictions_test,y_test_df$income))"
      ],
      "metadata": {
        "colab": {
          "base_uri": "https://localhost:8080/"
        },
        "id": "ZMaTG5jHC0ER",
        "outputId": "1b93a46d-d95b-49e4-f69c-0e591296cc89"
      },
      "execution_count": 60,
      "outputs": [
        {
          "output_type": "stream",
          "name": "stdout",
          "text": [
            "ENTRENAMIENTO\n",
            "       predictions_train\n",
            "         >50K <=50K\n",
            "  >50K   5432   306\n",
            "  <=50K   155 17146\n",
            "Informe de clasificación para entrenamiento:\n",
            "Confusion Matrix and Statistics\n",
            "\n",
            "          Reference\n",
            "Prediction  >50K <=50K\n",
            "     >50K   5432   155\n",
            "     <=50K   306 17146\n",
            "                                          \n",
            "               Accuracy : 0.98            \n",
            "                 95% CI : (0.9781, 0.9818)\n",
            "    No Information Rate : 0.7509          \n",
            "    P-Value [Acc > NIR] : < 2.2e-16       \n",
            "                                          \n",
            "                  Kappa : 0.946           \n",
            "                                          \n",
            " Mcnemar's Test P-Value : 2.824e-12       \n",
            "                                          \n",
            "            Sensitivity : 0.9467          \n",
            "            Specificity : 0.9910          \n",
            "         Pos Pred Value : 0.9723          \n",
            "         Neg Pred Value : 0.9825          \n",
            "             Prevalence : 0.2491          \n",
            "         Detection Rate : 0.2358          \n",
            "   Detection Prevalence : 0.2425          \n",
            "      Balanced Accuracy : 0.9689          \n",
            "                                          \n",
            "       'Positive' Class : >50K            \n",
            "                                          \n",
            "PRUEBA\n",
            "       predictions_test\n",
            "        >50K <=50K\n",
            "  >50K  1229   683\n",
            "  <=50K  371  5396\n",
            "Informe de clasificación para prueba:\n",
            "Confusion Matrix and Statistics\n",
            "\n",
            "          Reference\n",
            "Prediction >50K <=50K\n",
            "     >50K  1229   371\n",
            "     <=50K  683  5396\n",
            "                                          \n",
            "               Accuracy : 0.8627          \n",
            "                 95% CI : (0.8548, 0.8704)\n",
            "    No Information Rate : 0.751           \n",
            "    P-Value [Acc > NIR] : < 2.2e-16       \n",
            "                                          \n",
            "                  Kappa : 0.6118          \n",
            "                                          \n",
            " Mcnemar's Test P-Value : < 2.2e-16       \n",
            "                                          \n",
            "            Sensitivity : 0.6428          \n",
            "            Specificity : 0.9357          \n",
            "         Pos Pred Value : 0.7681          \n",
            "         Neg Pred Value : 0.8876          \n",
            "             Prevalence : 0.2490          \n",
            "         Detection Rate : 0.1600          \n",
            "   Detection Prevalence : 0.2084          \n",
            "      Balanced Accuracy : 0.7892          \n",
            "                                          \n",
            "       'Positive' Class : >50K            \n",
            "                                          \n",
            "F1 score = [1] 0.6998861\n"
          ]
        }
      ]
    },
    {
      "cell_type": "code",
      "source": [
        "# Crear un cuarto clasificador Random Forest\n",
        "rfc4 <- randomForest(income ~ ., data = cbind(y_train_df, X_train_df), ntree = 100, max_depth = 10, mtry = 4)\n",
        "\n",
        "# Hacer predicciones en el conjunto de entrenamiento\n",
        "predictions_train <- predict(rfc4, X_train_df)\n",
        "cat(\"ENTRENAMIENTO\\n\")\n",
        "confusion_matrix_train <- table(y_train_df$income, predictions_train)\n",
        "print(confusion_matrix_train)\n",
        "cat(\"Informe de clasificación para entrenamiento:\\n\")\n",
        "print(confusionMatrix(factor(predictions_train), factor(y_train_df$income)))\n",
        "\n",
        "# Hacer predicciones en el conjunto de prueba\n",
        "predictions_test <- predict(rfc4, X_test_df)\n",
        "cat(\"PRUEBA\\n\")\n",
        "confusion_matrix_test <- table(y_test_df$income, predictions_test)\n",
        "print(confusion_matrix_test)\n",
        "cat(\"Informe de clasificación para prueba:\\n\")\n",
        "print(confusionMatrix(factor(predictions_test), factor(y_test_df$income)))\n",
        "cat (\"F1 score = \")\n",
        "print(F1_Score(predictions_test,y_test_df$income))"
      ],
      "metadata": {
        "colab": {
          "base_uri": "https://localhost:8080/"
        },
        "id": "f2BThPNsOXLQ",
        "outputId": "67c6068b-0cfa-40a8-b637-e087988756c3"
      },
      "execution_count": 61,
      "outputs": [
        {
          "output_type": "stream",
          "name": "stdout",
          "text": [
            "ENTRENAMIENTO\n",
            "       predictions_train\n",
            "         >50K <=50K\n",
            "  >50K   5454   284\n",
            "  <=50K   155 17146\n",
            "Informe de clasificación para entrenamiento:\n",
            "Confusion Matrix and Statistics\n",
            "\n",
            "          Reference\n",
            "Prediction  >50K <=50K\n",
            "     >50K   5454   155\n",
            "     <=50K   284 17146\n",
            "                                          \n",
            "               Accuracy : 0.9809          \n",
            "                 95% CI : (0.9791, 0.9827)\n",
            "    No Information Rate : 0.7509          \n",
            "    P-Value [Acc > NIR] : < 2.2e-16       \n",
            "                                          \n",
            "                  Kappa : 0.9487          \n",
            "                                          \n",
            " Mcnemar's Test P-Value : 1.002e-09       \n",
            "                                          \n",
            "            Sensitivity : 0.9505          \n",
            "            Specificity : 0.9910          \n",
            "         Pos Pred Value : 0.9724          \n",
            "         Neg Pred Value : 0.9837          \n",
            "             Prevalence : 0.2491          \n",
            "         Detection Rate : 0.2367          \n",
            "   Detection Prevalence : 0.2435          \n",
            "      Balanced Accuracy : 0.9708          \n",
            "                                          \n",
            "       'Positive' Class : >50K            \n",
            "                                          \n",
            "PRUEBA\n",
            "       predictions_test\n",
            "        >50K <=50K\n",
            "  >50K  1234   678\n",
            "  <=50K  366  5401\n",
            "Informe de clasificación para prueba:\n",
            "Confusion Matrix and Statistics\n",
            "\n",
            "          Reference\n",
            "Prediction >50K <=50K\n",
            "     >50K  1234   366\n",
            "     <=50K  678  5401\n",
            "                                          \n",
            "               Accuracy : 0.864           \n",
            "                 95% CI : (0.8562, 0.8716)\n",
            "    No Information Rate : 0.751           \n",
            "    P-Value [Acc > NIR] : < 2.2e-16       \n",
            "                                          \n",
            "                  Kappa : 0.6155          \n",
            "                                          \n",
            " Mcnemar's Test P-Value : < 2.2e-16       \n",
            "                                          \n",
            "            Sensitivity : 0.6454          \n",
            "            Specificity : 0.9365          \n",
            "         Pos Pred Value : 0.7712          \n",
            "         Neg Pred Value : 0.8885          \n",
            "             Prevalence : 0.2490          \n",
            "         Detection Rate : 0.1607          \n",
            "   Detection Prevalence : 0.2084          \n",
            "      Balanced Accuracy : 0.7910          \n",
            "                                          \n",
            "       'Positive' Class : >50K            \n",
            "                                          \n",
            "F1 score = [1] 0.7027335\n"
          ]
        }
      ]
    },
    {
      "cell_type": "code",
      "source": [],
      "metadata": {
        "id": "sEDhTVBpOXQR"
      },
      "execution_count": null,
      "outputs": []
    },
    {
      "cell_type": "code",
      "execution_count": 80,
      "metadata": {
        "colab": {
          "base_uri": "https://localhost:8080/"
        },
        "id": "lCuOjEHTNHyE",
        "outputId": "19ed97a0-ae9a-44ce-b0ae-0a6249040ad3"
      },
      "outputs": [
        {
          "output_type": "stream",
          "name": "stdout",
          "text": [
            "[1] \"X.50K\"  \"X..50K\"\n"
          ]
        }
      ],
      "source": [
        "levels(y_train_df$income) <- make.names(levels(y_train_df$income))\n",
        "levels(y_test_df$income) <- make.names(levels(y_test_df$income))\n",
        "print(levels(y_test_df$income))"
      ]
    },
    {
      "cell_type": "code",
      "source": [
        "library(ranger)"
      ],
      "metadata": {
        "colab": {
          "base_uri": "https://localhost:8080/"
        },
        "id": "fB357Q_7RLA4",
        "outputId": "3713ef08-88b1-471e-abe9-0a6c3b42f02f"
      },
      "execution_count": 64,
      "outputs": [
        {
          "output_type": "stream",
          "name": "stderr",
          "text": [
            "Installing package into ‘/usr/local/lib/R/site-library’\n",
            "(as ‘lib’ is unspecified)\n",
            "\n",
            "also installing the dependency ‘RcppEigen’\n",
            "\n",
            "\n",
            "\n",
            "Attaching package: ‘ranger’\n",
            "\n",
            "\n",
            "The following object is masked from ‘package:randomForest’:\n",
            "\n",
            "    importance\n",
            "\n",
            "\n"
          ]
        }
      ]
    },
    {
      "cell_type": "code",
      "execution_count": 73,
      "metadata": {
        "colab": {
          "base_uri": "https://localhost:8080/"
        },
        "id": "E_nr3E9vNfFC",
        "outputId": "bb0ee765-11f4-4177-c687-0fa0a4ec6ad9"
      },
      "outputs": [
        {
          "output_type": "stream",
          "name": "stdout",
          "text": [
            "Growing trees.. Progress: 90%. Estimated remaining time: 3 seconds.\n",
            "Growing trees.. Progress: 92%. Estimated remaining time: 2 seconds.\n",
            "Growing trees.. Progress: 84%. Estimated remaining time: 5 seconds.\n",
            "  mtry splitrule min.node.size\n",
            "8   12      gini             5\n",
            "Random Forest \n",
            "\n",
            "23039 samples\n",
            "   13 predictor\n",
            "    2 classes: 'X.50K', 'X..50K' \n",
            "\n",
            "No pre-processing\n",
            "Resampling: Cross-Validated (5 fold) \n",
            "Summary of sample sizes: 18431, 18432, 18430, 18432, 18431 \n",
            "Resampling results across tuning parameters:\n",
            "\n",
            "  mtry  min.node.size  logLoss    AUC        prAUC      Accuracy   Kappa    \n",
            "   4     1             0.3220369  0.9129774  0.8826844  0.8563300  0.5797447\n",
            "   4     5             0.3223400  0.9129784  0.8825868  0.8566338  0.5810317\n",
            "   4    10             0.3225956  0.9129051  0.8823757  0.8561129  0.5793636\n",
            "   8     1             0.3105572  0.9132919  0.8750673  0.8577624  0.5935772\n",
            "   8     5             0.3111578  0.9134629  0.8746123  0.8579793  0.5934547\n",
            "   8    10             0.3103020  0.9135935  0.8785718  0.8575453  0.5926486\n",
            "  12     1             0.3168709  0.9106563  0.8240504  0.8559825  0.5915988\n",
            "  12     5             0.3128234  0.9114468  0.8317535  0.8573283  0.5942722\n",
            "  12    10             0.3144667  0.9118971  0.8416992  0.8571979  0.5934112\n",
            "  F1         Sensitivity  Specificity  Pos_Pred_Value  Neg_Pred_Value\n",
            "  0.6689358  0.5829531    0.9469969    0.7848247       0.8725692     \n",
            "  0.6701296  0.5848702    0.9467657    0.7846091       0.8730530     \n",
            "  0.6687464  0.5834759    0.9465345    0.7834260       0.8726637     \n",
            "  0.6839950  0.6185043    0.9371133    0.7653033       0.8810794     \n",
            "  0.6835767  0.6164114    0.9380958    0.7675834       0.8806213     \n",
            "  0.6831365  0.6171083    0.9372866    0.7653988       0.8807260     \n",
            "  0.6837666  0.6254732    0.9324312    0.7543603       0.8824759     \n",
            "  0.6853579  0.6242540    0.9346278    0.7599731       0.8823817     \n",
            "  0.6844804  0.6223355    0.9350901    0.7607178       0.8819084     \n",
            "  Precision  Recall     Detection_Rate  Balanced_Accuracy\n",
            "  0.7848247  0.5829531  0.1451884       0.7649750        \n",
            "  0.7846091  0.5848702  0.1456658       0.7658180        \n",
            "  0.7834260  0.5834759  0.1453186       0.7650052        \n",
            "  0.7653033  0.6185043  0.1540428       0.7778088        \n",
            "  0.7675834  0.6164114  0.1535218       0.7772536        \n",
            "  0.7653988  0.6171083  0.1536954       0.7771974        \n",
            "  0.7543603  0.6254732  0.1557788       0.7789522        \n",
            "  0.7599731  0.6242540  0.1554751       0.7794409        \n",
            "  0.7607178  0.6223355  0.1549975       0.7787128        \n",
            "\n",
            "Tuning parameter 'splitrule' was held constant at a value of gini\n",
            "Kappa was used to select the optimal model using the largest value.\n",
            "The final values used for the model were mtry = 12, splitrule = gini\n",
            " and min.node.size = 5.\n"
          ]
        }
      ],
      "source": [
        "set.seed(123)\n",
        "formula <- income ~ .\n",
        "\n",
        "# Definir el control de entrenamiento\n",
        "train_control <- trainControl(method = \"cv\",\n",
        "                              number = 5,\n",
        "                              summaryFunction = multiClassSummary,\n",
        "                              classProbs = TRUE)\n",
        "\n",
        "# Definir los parámetros a ajustar\n",
        "parameters <- expand.grid(mtry = c(4, 8, 12),        # Número de variables a considerar en cada división\n",
        "                          splitrule = \"gini\",        # Regla de división, puedes usar \"gini\" o \"extratrees\"\n",
        "                          min.node.size = c(1, 5, 10)) # Tamaño mínimo del nodo terminal\n",
        "\n",
        "\n",
        "# Realizar la búsqueda en cuadrícula\n",
        "grid_search <- train(formula,\n",
        "                     data = cbind(y_train_df, X_train_df),\n",
        "                     method = \"ranger\",\n",
        "                     trControl = train_control,\n",
        "                     tuneGrid = parameters,\n",
        "                     metric = \"Kappa\")\n",
        "\n",
        "# Mejor modelo encontrado\n",
        "best_model <- grid_search$bestTune\n",
        "print(best_model)\n",
        "print(grid_search)"
      ]
    },
    {
      "cell_type": "code",
      "source": [
        "set.seed(123)\n",
        "formula <- income ~ .\n",
        "\n",
        "# Definir el control de entrenamiento\n",
        "train_control <- trainControl(method = \"cv\",\n",
        "                              number = 5,\n",
        "                              summaryFunction = multiClassSummary,\n",
        "                              classProbs = TRUE)\n",
        "\n",
        "# Definir los parámetros a ajustar\n",
        "parameters <- expand.grid(mtry = c(12, 14, 16),        # Número de variables a considerar en cada división\n",
        "                          splitrule = \"gini\",        # Regla de división, puedes usar \"gini\" o \"extratrees\"\n",
        "                          min.node.size = c(10, 20, 30)) # Tamaño mínimo del nodo terminal\n",
        "\n",
        "\n",
        "# Realizar la búsqueda en cuadrícula\n",
        "grid_search <- train(formula,\n",
        "                     data = cbind(y_train_df, X_train_df),\n",
        "                     method = \"ranger\",\n",
        "                     trControl = train_control,\n",
        "                     tuneGrid = parameters,\n",
        "                     metric = \"Kappa\")\n",
        "\n",
        "# Mejor modelo encontrado\n",
        "best_model <- grid_search$bestTune\n",
        "print(best_model)\n",
        "print(grid_search)"
      ],
      "metadata": {
        "colab": {
          "base_uri": "https://localhost:8080/"
        },
        "id": "siSwL4SlX7K0",
        "outputId": "14e1edb9-c41c-46c6-fce7-bc899ddb9488"
      },
      "execution_count": 75,
      "outputs": [
        {
          "output_type": "stream",
          "name": "stdout",
          "text": [
            "Growing trees.. Progress: 99%. Estimated remaining time: 0 seconds.\n",
            "Growing trees.. Progress: 93%. Estimated remaining time: 2 seconds.\n",
            "Growing trees.. Progress: 96%. Estimated remaining time: 1 seconds.\n",
            "Growing trees.. Progress: 73%. Estimated remaining time: 11 seconds.\n",
            "  mtry splitrule min.node.size\n",
            "6   14      gini            30\n",
            "Random Forest \n",
            "\n",
            "23039 samples\n",
            "   13 predictor\n",
            "    2 classes: 'X.50K', 'X..50K' \n",
            "\n",
            "No pre-processing\n",
            "Resampling: Cross-Validated (5 fold) \n",
            "Summary of sample sizes: 18431, 18432, 18430, 18432, 18431 \n",
            "Resampling results across tuning parameters:\n",
            "\n",
            "  mtry  min.node.size  logLoss    AUC        prAUC      Accuracy   Kappa    \n",
            "  12    10             0.3128452  0.9122197  0.8435772  0.8579358  0.5952357\n",
            "  12    20             0.3105224  0.9129607  0.8531100  0.8586737  0.5964792\n",
            "  12    30             0.3094647  0.9135575  0.8611727  0.8590644  0.5969084\n",
            "  14    10             0.3140270  0.9113525  0.8318181  0.8575452  0.5946249\n",
            "  14    20             0.3107056  0.9124954  0.8468721  0.8586301  0.5964581\n",
            "  14    30             0.3095700  0.9131861  0.8539496  0.8590209  0.5972469\n",
            "  16    10             0.3160508  0.9106038  0.8228029  0.8568941  0.5928044\n",
            "  16    20             0.3134721  0.9119063  0.8395128  0.8581094  0.5957508\n",
            "  16    30             0.3099046  0.9127049  0.8505562  0.8586737  0.5965801\n",
            "  F1         Sensitivity  Specificity  Pos_Pred_Value  Neg_Pred_Value\n",
            "  0.6857807  0.6228591    0.9358993    0.7631144       0.8821410     \n",
            "  0.6863802  0.6212911    0.9374021    0.7669791       0.8818726     \n",
            "  0.6864143  0.6198962    0.9383848    0.7693297       0.8816152     \n",
            "  0.6855208  0.6237310    0.9350901    0.7611344       0.8822856     \n",
            "  0.6864000  0.6216388    0.9372286    0.7666544       0.8819605     \n",
            "  0.6868787  0.6212905    0.9378645    0.7682808       0.8819306     \n",
            "  0.6841161  0.6225106    0.9346276    0.7596022       0.8819012     \n",
            "  0.6861772  0.6233812    0.9359570    0.7635536       0.8823089     \n",
            "  0.6864977  0.6216400    0.9372864    0.7668200       0.8819593     \n",
            "  Precision  Recall     Detection_Rate  Balanced_Accuracy\n",
            "  0.7631144  0.6228591  0.1551277       0.7793792        \n",
            "  0.7669791  0.6212911  0.1547372       0.7793466        \n",
            "  0.7693297  0.6198962  0.1543898       0.7791405        \n",
            "  0.7611344  0.6237310  0.1553448       0.7794106        \n",
            "  0.7666544  0.6216388  0.1548239       0.7794337        \n",
            "  0.7682808  0.6212905  0.1547371       0.7795775        \n",
            "  0.7596022  0.6225106  0.1550410       0.7785691        \n",
            "  0.7635536  0.6233812  0.1552580       0.7796691        \n",
            "  0.7668200  0.6216400  0.1548240       0.7794632        \n",
            "\n",
            "Tuning parameter 'splitrule' was held constant at a value of gini\n",
            "Kappa was used to select the optimal model using the largest value.\n",
            "The final values used for the model were mtry = 14, splitrule = gini\n",
            " and min.node.size = 30.\n"
          ]
        }
      ]
    },
    {
      "cell_type": "code",
      "source": [
        "# Crear un último clasificador Random Forest con los hiperparámetros sintonizados\n",
        "rfc4 <- randomForest(income ~ ., data = cbind(y_train_df, X_train_df), mtry = 4, splitrule = \"gini\", min.node.size = 30)\n",
        "\n",
        "# Hacer predicciones en el conjunto de entrenamiento\n",
        "predictions_train <- predict(rfc4, X_train_df)\n",
        "cat(\"ENTRENAMIENTO\\n\")\n",
        "confusion_matrix_train <- table(y_train_df$income, predictions_train)\n",
        "print(confusion_matrix_train)\n",
        "cat(\"Informe de clasificación para entrenamiento:\\n\")\n",
        "print(confusionMatrix(factor(predictions_train), factor(y_train_df$income)))\n",
        "\n",
        "# Hacer predicciones en el conjunto de prueba\n",
        "predictions_test <- predict(rfc4, X_test_df)\n",
        "cat(\"PRUEBA\\n\")\n",
        "confusion_matrix_test <- table(y_test_df$income, predictions_test)\n",
        "print(confusion_matrix_test)\n",
        "cat(\"Informe de clasificación para prueba:\\n\")\n",
        "print(confusionMatrix(factor(predictions_test), factor(y_test_df$income)))\n",
        "cat (\"F1 score = \")\n",
        "print(F1_Score(predictions_test,y_test_df$income))"
      ],
      "metadata": {
        "colab": {
          "base_uri": "https://localhost:8080/"
        },
        "id": "ajijozK2hmX5",
        "outputId": "aaf86700-88db-43dd-fa24-a51cccddc096"
      },
      "execution_count": 81,
      "outputs": [
        {
          "output_type": "stream",
          "name": "stdout",
          "text": [
            "ENTRENAMIENTO\n",
            "        predictions_train\n",
            "         X.50K X..50K\n",
            "  X.50K   5467    271\n",
            "  X..50K   145  17156\n",
            "Informe de clasificación para entrenamiento:\n",
            "Confusion Matrix and Statistics\n",
            "\n",
            "          Reference\n",
            "Prediction X.50K X..50K\n",
            "    X.50K   5467    145\n",
            "    X..50K   271  17156\n",
            "                                          \n",
            "               Accuracy : 0.9819          \n",
            "                 95% CI : (0.9801, 0.9836)\n",
            "    No Information Rate : 0.7509          \n",
            "    P-Value [Acc > NIR] : < 2.2e-16       \n",
            "                                          \n",
            "                  Kappa : 0.9514          \n",
            "                                          \n",
            " Mcnemar's Test P-Value : 8.864e-10       \n",
            "                                          \n",
            "            Sensitivity : 0.9528          \n",
            "            Specificity : 0.9916          \n",
            "         Pos Pred Value : 0.9742          \n",
            "         Neg Pred Value : 0.9844          \n",
            "             Prevalence : 0.2491          \n",
            "         Detection Rate : 0.2373          \n",
            "   Detection Prevalence : 0.2436          \n",
            "      Balanced Accuracy : 0.9722          \n",
            "                                          \n",
            "       'Positive' Class : X.50K           \n",
            "                                          \n",
            "PRUEBA\n",
            "        predictions_test\n",
            "         X.50K X..50K\n",
            "  X.50K   1234    678\n",
            "  X..50K   366   5401\n",
            "Informe de clasificación para prueba:\n",
            "Confusion Matrix and Statistics\n",
            "\n",
            "          Reference\n",
            "Prediction X.50K X..50K\n",
            "    X.50K   1234    366\n",
            "    X..50K   678   5401\n",
            "                                          \n",
            "               Accuracy : 0.864           \n",
            "                 95% CI : (0.8562, 0.8716)\n",
            "    No Information Rate : 0.751           \n",
            "    P-Value [Acc > NIR] : < 2.2e-16       \n",
            "                                          \n",
            "                  Kappa : 0.6155          \n",
            "                                          \n",
            " Mcnemar's Test P-Value : < 2.2e-16       \n",
            "                                          \n",
            "            Sensitivity : 0.6454          \n",
            "            Specificity : 0.9365          \n",
            "         Pos Pred Value : 0.7712          \n",
            "         Neg Pred Value : 0.8885          \n",
            "             Prevalence : 0.2490          \n",
            "         Detection Rate : 0.1607          \n",
            "   Detection Prevalence : 0.2084          \n",
            "      Balanced Accuracy : 0.7910          \n",
            "                                          \n",
            "       'Positive' Class : X.50K           \n",
            "                                          \n",
            "F1 score = [1] 0.7027335\n"
          ]
        }
      ]
    },
    {
      "cell_type": "markdown",
      "metadata": {
        "id": "GN2DeVRvUc6s"
      },
      "source": [
        "## **2. ADABOOST**"
      ]
    },
    {
      "cell_type": "code",
      "execution_count": 3,
      "metadata": {
        "id": "5u4wYBSfU_Au",
        "colab": {
          "base_uri": "https://localhost:8080/"
        },
        "outputId": "a8ab89cf-2655-46b6-9a48-b1aade2a97a5"
      },
      "outputs": [
        {
          "output_type": "stream",
          "name": "stderr",
          "text": [
            "Loading required package: rpart\n",
            "\n",
            "Loading required package: foreach\n",
            "\n",
            "Loading required package: doParallel\n",
            "\n",
            "Loading required package: iterators\n",
            "\n",
            "Loading required package: parallel\n",
            "\n"
          ]
        }
      ],
      "source": [
        "library(adabag)"
      ]
    },
    {
      "cell_type": "code",
      "execution_count": 4,
      "metadata": {
        "id": "Mxbfqn36oHkW"
      },
      "outputs": [],
      "source": [
        "data_new<-read.csv(\"adult.csv\", header=TRUE, sep=\";\", dec=\",\")\n",
        "data_new[data_new == \"?\"] <- NA\n",
        "data_new <- na.omit(data_new)"
      ]
    },
    {
      "cell_type": "code",
      "execution_count": 5,
      "metadata": {
        "id": "o-hFYssroPwh"
      },
      "outputs": [],
      "source": [
        "data_new <- data_new %>%\n",
        "  mutate(across(where(is.character), as.factor))\n",
        "\n",
        "# Separar las variables independientes (X) y dependientes (y)\n",
        "X <- data_new %>% select(-income)\n",
        "y <- data_new$income\n",
        "\n",
        "set.seed(109)  # Para reproducibilidad\n",
        "trainIndex <- createDataPartition(y, p = .75,\n",
        "                                  list = FALSE,\n",
        "                                  times = 1)\n",
        "X_train <- X[trainIndex, ]\n",
        "y_train <- y[trainIndex]\n",
        "X_test <- X[-trainIndex, ]\n",
        "y_test <- y[-trainIndex]"
      ]
    },
    {
      "cell_type": "code",
      "source": [
        "# Convertir a data frames\n",
        "y_train_df <- data.frame(income = y_train)\n",
        "y_test_df <- data.frame(income = y_test)\n",
        "\n",
        "y_train_df$income <- factor(y_train_df$income)\n",
        "y_test_df$income <- factor(y_test_df$income)\n",
        "\n",
        "X_train_df <- data.frame(X_train)\n",
        "X_test_df <- data.frame(X_test)"
      ],
      "metadata": {
        "id": "DUVcM63-ldmM"
      },
      "execution_count": 16,
      "outputs": []
    },
    {
      "cell_type": "code",
      "source": [
        "# Cambiar la clase positiva\n",
        "y_train_df$income <- relevel(y_train_df$income, ref = \">50K\")\n",
        "y_test_df$income <- relevel(y_test_df$income, ref = \">50K\")\n",
        "levels(y_test_df$income)"
      ],
      "metadata": {
        "colab": {
          "base_uri": "https://localhost:8080/",
          "height": 34
        },
        "id": "DJ2MjOMVjhko",
        "outputId": "d5197851-659c-4567-f5e2-c9115bb36633"
      },
      "execution_count": 18,
      "outputs": [
        {
          "output_type": "display_data",
          "data": {
            "text/html": [
              "<style>\n",
              ".list-inline {list-style: none; margin:0; padding: 0}\n",
              ".list-inline>li {display: inline-block}\n",
              ".list-inline>li:not(:last-child)::after {content: \"\\00b7\"; padding: 0 .5ex}\n",
              "</style>\n",
              "<ol class=list-inline><li>'&gt;50K'</li><li>'&lt;=50K'</li></ol>\n"
            ],
            "text/markdown": "1. '&gt;50K'\n2. '&lt;=50K'\n\n\n",
            "text/latex": "\\begin{enumerate*}\n\\item '>50K'\n\\item '<=50K'\n\\end{enumerate*}\n",
            "text/plain": [
              "[1] \">50K\"  \"<=50K\""
            ]
          },
          "metadata": {}
        }
      ]
    },
    {
      "cell_type": "code",
      "execution_count": 19,
      "metadata": {
        "id": "AOCeVzsgoWeY",
        "colab": {
          "base_uri": "https://localhost:8080/",
          "height": 436
        },
        "outputId": "1f321636-9079-45f9-f154-fba7aa5c9d04",
        "collapsed": true
      },
      "outputs": [
        {
          "output_type": "stream",
          "name": "stdout",
          "text": [
            "ENTRENAMIENTO\n"
          ]
        },
        {
          "output_type": "error",
          "ename": "ERROR",
          "evalue": "Error in xtfrm.data.frame(x): cannot xtfrm data frames\n",
          "traceback": [
            "Error in xtfrm.data.frame(x): cannot xtfrm data frames\nTraceback:\n",
            "1. confusionMatrix.default(factor(train_predictions$class), factor(y_train_df))",
            "2. is.factor(reference)",
            "3. factor(y_train_df)",
            "4. order(y)",
            "5. lapply(z, function(x) if (is.object(x)) as.vector(xtfrm(x)) else x)",
            "6. FUN(X[[i]], ...)",
            "7. as.vector(xtfrm(x))",
            "8. xtfrm(x)",
            "9. xtfrm.data.frame(x)",
            "10. stop(\"cannot xtfrm data frames\")",
            "11. .handleSimpleError(function (cnd) \n  . {\n  .     watcher$capture_plot_and_output()\n  .     cnd <- sanitize_call(cnd)\n  .     watcher$push(cnd)\n  .     switch(on_error, continue = invokeRestart(\"eval_continue\"), \n  .         stop = invokeRestart(\"eval_stop\"), error = invokeRestart(\"eval_error\", \n  .             cnd))\n  . }, \"cannot xtfrm data frames\", base::quote(xtfrm.data.frame(x)))"
          ]
        }
      ],
      "source": [
        "# Primer clasificador ADABOOST\n",
        "clf <- boosting(income ~ ., data = data.frame(X_train_df, income = y_train_df), mfinal = 100, coeflearn = 'Breiman')\n",
        "\n",
        "# Hacer predicciones\n",
        "train_predictions <- predict(clf, newdata = data.frame(X_train_df))\n",
        "test_predictions <- predict(clf, newdata = data.frame(X_test_df))"
      ]
    },
    {
      "cell_type": "code",
      "source": [
        "cat(\"PRUEBA\\n\")\n",
        "confusion_matrix_test <- table(y_test_df$income, test_predictions$class)\n",
        "print(confusion_matrix_test)\n",
        "cat(\"Informe de clasificación para prueba:\\n\")\n",
        "print(confusionMatrix(factor(test_predictions$class), factor(y_test_df$income)))\n",
        "cat (\"F1 score = \")\n",
        "print(F1_Score(test_predictions$class,y_test_df$income))"
      ],
      "metadata": {
        "colab": {
          "base_uri": "https://localhost:8080/"
        },
        "id": "XOJwAOlenhXh",
        "outputId": "ca326536-518b-41a9-de54-c0e6152aad19"
      },
      "execution_count": 35,
      "outputs": [
        {
          "output_type": "stream",
          "name": "stdout",
          "text": [
            "PRUEBA\n",
            "       \n",
            "        <=50K >50K\n",
            "  >50K    692 1220\n",
            "  <=50K  5414  353\n",
            "Informe de clasificación para prueba:\n"
          ]
        },
        {
          "output_type": "stream",
          "name": "stderr",
          "text": [
            "Warning message in confusionMatrix.default(factor(test_predictions$class), factor(y_test_df$income)):\n",
            "“Levels are not in the same order for reference and data. Refactoring data to match.”\n"
          ]
        },
        {
          "output_type": "stream",
          "name": "stdout",
          "text": [
            "Confusion Matrix and Statistics\n",
            "\n",
            "          Reference\n",
            "Prediction >50K <=50K\n",
            "     >50K  1220   353\n",
            "     <=50K  692  5414\n",
            "                                         \n",
            "               Accuracy : 0.8639         \n",
            "                 95% CI : (0.856, 0.8715)\n",
            "    No Information Rate : 0.751          \n",
            "    P-Value [Acc > NIR] : < 2.2e-16      \n",
            "                                         \n",
            "                  Kappa : 0.6132         \n",
            "                                         \n",
            " Mcnemar's Test P-Value : < 2.2e-16      \n",
            "                                         \n",
            "            Sensitivity : 0.6381         \n",
            "            Specificity : 0.9388         \n",
            "         Pos Pred Value : 0.7756         \n",
            "         Neg Pred Value : 0.8867         \n",
            "             Prevalence : 0.2490         \n",
            "         Detection Rate : 0.1589         \n",
            "   Detection Prevalence : 0.2048         \n",
            "      Balanced Accuracy : 0.7884         \n",
            "                                         \n",
            "       'Positive' Class : >50K           \n",
            "                                         \n",
            "F1 score = [1] 0.9119852\n"
          ]
        }
      ]
    },
    {
      "cell_type": "code",
      "execution_count": 36,
      "metadata": {
        "colab": {
          "base_uri": "https://localhost:8080/"
        },
        "id": "NnSReuklpI-9",
        "outputId": "cb8248eb-bc3c-43c0-ebbd-8ade67af5dac"
      },
      "outputs": [
        {
          "output_type": "stream",
          "name": "stdout",
          "text": [
            "ENTRENAMIENTO\n",
            "       \n",
            "        <=50K  >50K\n",
            "  >50K   1888  3850\n",
            "  <=50K 15988  1313\n",
            "Informe de clasificación para prueba:\n"
          ]
        },
        {
          "output_type": "stream",
          "name": "stderr",
          "text": [
            "Warning message in confusionMatrix.default(factor(train_predictions$class), factor(y_train_df$income)):\n",
            "“Levels are not in the same order for reference and data. Refactoring data to match.”\n"
          ]
        },
        {
          "output_type": "stream",
          "name": "stdout",
          "text": [
            "Confusion Matrix and Statistics\n",
            "\n",
            "          Reference\n",
            "Prediction  >50K <=50K\n",
            "     >50K   3850  1313\n",
            "     <=50K  1888 15988\n",
            "                                          \n",
            "               Accuracy : 0.8611          \n",
            "                 95% CI : (0.8565, 0.8655)\n",
            "    No Information Rate : 0.7509          \n",
            "    P-Value [Acc > NIR] : < 2.2e-16       \n",
            "                                          \n",
            "                  Kappa : 0.6157          \n",
            "                                          \n",
            " Mcnemar's Test P-Value : < 2.2e-16       \n",
            "                                          \n",
            "            Sensitivity : 0.6710          \n",
            "            Specificity : 0.9241          \n",
            "         Pos Pred Value : 0.7457          \n",
            "         Neg Pred Value : 0.8944          \n",
            "             Prevalence : 0.2491          \n",
            "         Detection Rate : 0.1671          \n",
            "   Detection Prevalence : 0.2241          \n",
            "      Balanced Accuracy : 0.7975          \n",
            "                                          \n",
            "       'Positive' Class : >50K            \n",
            "                                          \n",
            "PRUEBA\n",
            "       \n",
            "        <=50K >50K\n",
            "  >50K    631 1281\n",
            "  <=50K  5355  412\n",
            "Informe de clasificación para prueba:\n"
          ]
        },
        {
          "output_type": "stream",
          "name": "stderr",
          "text": [
            "Warning message in confusionMatrix.default(factor(test_predictions$class), factor(y_test_df$income)):\n",
            "“Levels are not in the same order for reference and data. Refactoring data to match.”\n"
          ]
        },
        {
          "output_type": "stream",
          "name": "stdout",
          "text": [
            "Confusion Matrix and Statistics\n",
            "\n",
            "          Reference\n",
            "Prediction >50K <=50K\n",
            "     >50K  1281   412\n",
            "     <=50K  631  5355\n",
            "                                          \n",
            "               Accuracy : 0.8642          \n",
            "                 95% CI : (0.8563, 0.8718)\n",
            "    No Information Rate : 0.751           \n",
            "    P-Value [Acc > NIR] : < 2.2e-16       \n",
            "                                          \n",
            "                  Kappa : 0.6224          \n",
            "                                          \n",
            " Mcnemar's Test P-Value : 1.477e-11       \n",
            "                                          \n",
            "            Sensitivity : 0.6700          \n",
            "            Specificity : 0.9286          \n",
            "         Pos Pred Value : 0.7566          \n",
            "         Neg Pred Value : 0.8946          \n",
            "             Prevalence : 0.2490          \n",
            "         Detection Rate : 0.1668          \n",
            "   Detection Prevalence : 0.2205          \n",
            "      Balanced Accuracy : 0.7993          \n",
            "                                          \n",
            "       'Positive' Class : >50K            \n",
            "                                          \n",
            "F1 score = [1] 0.9112567\n"
          ]
        }
      ],
      "source": [
        "# Segundo clasificador ADABOOST usando 150 estimadores\n",
        "\n",
        "clf <- boosting(income ~ ., data = data.frame(X_train, income = y_train), mfinal = 150)\n",
        "\n",
        "# Hacer predicciones\n",
        "train_predictions <- predict(clf, newdata = data.frame(X_train))\n",
        "test_predictions <- predict(clf, newdata = data.frame(X_test))\n",
        "\n",
        "cat(\"ENTRENAMIENTO\\n\")\n",
        "confusion_matrix_train <- table(y_train_df$income, train_predictions$class)\n",
        "print(confusion_matrix_train)\n",
        "cat(\"Informe de clasificación para prueba:\\n\")\n",
        "print(confusionMatrix(factor(train_predictions$class), factor(y_train_df$income)))\n",
        "\n",
        "cat(\"PRUEBA\\n\")\n",
        "confusion_matrix_test <- table(y_test_df$income, test_predictions$class)\n",
        "print(confusion_matrix_test)\n",
        "cat(\"Informe de clasificación para prueba:\\n\")\n",
        "print(confusionMatrix(factor(test_predictions$class), factor(y_test_df$income)))\n",
        "cat (\"F1 score = \")\n",
        "print(F1_Score(test_predictions$class,y_test_df$income))"
      ]
    },
    {
      "cell_type": "code",
      "execution_count": 37,
      "metadata": {
        "id": "PF7htqKPZ-Ec",
        "colab": {
          "base_uri": "https://localhost:8080/"
        },
        "outputId": "311216b8-111b-4d8b-af3e-c917d12c2366"
      },
      "outputs": [
        {
          "output_type": "stream",
          "name": "stdout",
          "text": [
            "ENTRENAMIENTO\n",
            "       \n",
            "        <=50K  >50K\n",
            "  >50K   1966  3772\n",
            "  <=50K 16005  1296\n",
            "Informe de clasificación para prueba:\n"
          ]
        },
        {
          "output_type": "stream",
          "name": "stderr",
          "text": [
            "Warning message in confusionMatrix.default(factor(train_predictions$class), factor(y_train_df$income)):\n",
            "“Levels are not in the same order for reference and data. Refactoring data to match.”\n"
          ]
        },
        {
          "output_type": "stream",
          "name": "stdout",
          "text": [
            "Confusion Matrix and Statistics\n",
            "\n",
            "          Reference\n",
            "Prediction  >50K <=50K\n",
            "     >50K   3772  1296\n",
            "     <=50K  1966 16005\n",
            "                                          \n",
            "               Accuracy : 0.8584          \n",
            "                 95% CI : (0.8538, 0.8629)\n",
            "    No Information Rate : 0.7509          \n",
            "    P-Value [Acc > NIR] : < 2.2e-16       \n",
            "                                          \n",
            "                  Kappa : 0.6061          \n",
            "                                          \n",
            " Mcnemar's Test P-Value : < 2.2e-16       \n",
            "                                          \n",
            "            Sensitivity : 0.6574          \n",
            "            Specificity : 0.9251          \n",
            "         Pos Pred Value : 0.7443          \n",
            "         Neg Pred Value : 0.8906          \n",
            "             Prevalence : 0.2491          \n",
            "         Detection Rate : 0.1637          \n",
            "   Detection Prevalence : 0.2200          \n",
            "      Balanced Accuracy : 0.7912          \n",
            "                                          \n",
            "       'Positive' Class : >50K            \n",
            "                                          \n",
            "PRUEBA\n",
            "       \n",
            "        <=50K >50K\n",
            "  >50K    618 1294\n",
            "  <=50K  5355  412\n",
            "Informe de clasificación para prueba:\n"
          ]
        },
        {
          "output_type": "stream",
          "name": "stderr",
          "text": [
            "Warning message in confusionMatrix.default(factor(test_predictions$class), factor(y_test_df$income)):\n",
            "“Levels are not in the same order for reference and data. Refactoring data to match.”\n"
          ]
        },
        {
          "output_type": "stream",
          "name": "stdout",
          "text": [
            "Confusion Matrix and Statistics\n",
            "\n",
            "          Reference\n",
            "Prediction >50K <=50K\n",
            "     >50K  1294   412\n",
            "     <=50K  618  5355\n",
            "                                         \n",
            "               Accuracy : 0.8659         \n",
            "                 95% CI : (0.858, 0.8734)\n",
            "    No Information Rate : 0.751          \n",
            "    P-Value [Acc > NIR] : < 2.2e-16      \n",
            "                                         \n",
            "                  Kappa : 0.6279         \n",
            "                                         \n",
            " Mcnemar's Test P-Value : 1.685e-10      \n",
            "                                         \n",
            "            Sensitivity : 0.6768         \n",
            "            Specificity : 0.9286         \n",
            "         Pos Pred Value : 0.7585         \n",
            "         Neg Pred Value : 0.8965         \n",
            "             Prevalence : 0.2490         \n",
            "         Detection Rate : 0.1685         \n",
            "   Detection Prevalence : 0.2222         \n",
            "      Balanced Accuracy : 0.8027         \n",
            "                                         \n",
            "       'Positive' Class : >50K           \n",
            "                                         \n",
            "F1 score = [1] 0.9122658\n"
          ]
        }
      ],
      "source": [
        "#Tercer clasificador ADABOOST usando 50 estimadores\n",
        "\n",
        "clf <- boosting(income ~ ., data = data.frame(X_train, income = y_train), mfinal = 50)\n",
        "\n",
        "# Hacer predicciones\n",
        "train_predictions <- predict(clf, newdata = data.frame(X_train))\n",
        "test_predictions <- predict(clf, newdata = data.frame(X_test))\n",
        "\n",
        "cat(\"ENTRENAMIENTO\\n\")\n",
        "confusion_matrix_train <- table(y_train_df$income, train_predictions$class)\n",
        "print(confusion_matrix_train)\n",
        "cat(\"Informe de clasificación para prueba:\\n\")\n",
        "print(confusionMatrix(factor(train_predictions$class), factor(y_train_df$income)))\n",
        "\n",
        "cat(\"PRUEBA\\n\")\n",
        "confusion_matrix_test <- table(y_test_df$income, test_predictions$class)\n",
        "print(confusion_matrix_test)\n",
        "cat(\"Informe de clasificación para prueba:\\n\")\n",
        "print(confusionMatrix(factor(test_predictions$class), factor(y_test_df$income)))\n",
        "cat (\"F1 score = \")\n",
        "print(F1_Score(test_predictions$class,y_test_df$income))"
      ]
    },
    {
      "cell_type": "markdown",
      "source": [
        "## **3. GBM**"
      ],
      "metadata": {
        "id": "VEi-aKextvIy"
      }
    },
    {
      "cell_type": "code",
      "source": [
        "library(gbm)"
      ],
      "metadata": {
        "colab": {
          "base_uri": "https://localhost:8080/"
        },
        "id": "HmvskRj1Kxu-",
        "outputId": "d59b8d64-a79f-461c-c3eb-2e836335630f"
      },
      "execution_count": 38,
      "outputs": [
        {
          "output_type": "stream",
          "name": "stderr",
          "text": [
            "Loaded gbm 2.2.2\n",
            "\n",
            "This version of gbm is no longer under development. Consider transitioning to gbm3, https://github.com/gbm-developers/gbm3\n",
            "\n"
          ]
        }
      ]
    },
    {
      "cell_type": "code",
      "execution_count": 42,
      "metadata": {
        "id": "zK0KP71xnyf6",
        "colab": {
          "base_uri": "https://localhost:8080/"
        },
        "outputId": "70ff0248-3b83-4ad0-aca3-6fc1e1bd3cfc"
      },
      "outputs": [
        {
          "output_type": "stream",
          "name": "stdout",
          "text": [
            "ENTRENAMIENTO\n",
            "Confusion Matrix and Statistics\n",
            "\n",
            "          Reference\n",
            "Prediction     0     1\n",
            "         0 16533  2640\n",
            "         1   768  3098\n",
            "                                          \n",
            "               Accuracy : 0.8521          \n",
            "                 95% CI : (0.8474, 0.8566)\n",
            "    No Information Rate : 0.7509          \n",
            "    P-Value [Acc > NIR] : < 2.2e-16       \n",
            "                                          \n",
            "                  Kappa : 0.5562          \n",
            "                                          \n",
            " Mcnemar's Test P-Value : < 2.2e-16       \n",
            "                                          \n",
            "            Sensitivity : 0.9556          \n",
            "            Specificity : 0.5399          \n",
            "         Pos Pred Value : 0.8623          \n",
            "         Neg Pred Value : 0.8013          \n",
            "             Prevalence : 0.7509          \n",
            "         Detection Rate : 0.7176          \n",
            "   Detection Prevalence : 0.8322          \n",
            "      Balanced Accuracy : 0.7478          \n",
            "                                          \n",
            "       'Positive' Class : 0               \n",
            "                                          \n",
            "PRUEBA\n",
            "Confusion Matrix and Statistics\n",
            "\n",
            "          Reference\n",
            "Prediction    0    1\n",
            "         0 5528  872\n",
            "         1  239 1040\n",
            "                                          \n",
            "               Accuracy : 0.8553          \n",
            "                 95% CI : (0.8473, 0.8631)\n",
            "    No Information Rate : 0.751           \n",
            "    P-Value [Acc > NIR] : < 2.2e-16       \n",
            "                                          \n",
            "                  Kappa : 0.565           \n",
            "                                          \n",
            " Mcnemar's Test P-Value : < 2.2e-16       \n",
            "                                          \n",
            "            Sensitivity : 0.9586          \n",
            "            Specificity : 0.5439          \n",
            "         Pos Pred Value : 0.8638          \n",
            "         Neg Pred Value : 0.8131          \n",
            "             Prevalence : 0.7510          \n",
            "         Detection Rate : 0.7199          \n",
            "   Detection Prevalence : 0.8334          \n",
            "      Balanced Accuracy : 0.7512          \n",
            "                                          \n",
            "       'Positive' Class : 0               \n",
            "                                          \n"
          ]
        }
      ],
      "source": [
        "# Primer clasificador GRADIENT BOOSTING\n",
        "# Convertir income en 0 y 1 ya que gbm requiere que la variable de respuesta sea numérica, cuando se usa la distribución bernoulli\n",
        "y_train_bin <- ifelse(y_train == \">50K\", 1, 0)\n",
        "y_test_bin <- ifelse(y_test == \">50K\", 1, 0)\n",
        "\n",
        "set.seed(0)\n",
        "gb_model <- gbm(\n",
        "  formula = income ~ .,\n",
        "  data = data.frame(X_train, income = y_train_bin),\n",
        "  distribution = \"bernoulli\",                        # Distribución para clasificación binaria\n",
        "  n.trees = 100                                      # Número de árboles\n",
        ")\n",
        "\n",
        "# En el conjunto de entrenamiento\n",
        "train_predictions <- predict(gb_model, X_train, n.trees = 100, type = \"response\")\n",
        "train_class <- ifelse(train_predictions > 0.5, 1, 0)\n",
        "cat(\"ENTRENAMIENTO\\n\")\n",
        "confusion_train <- confusionMatrix(factor(train_class), factor(y_train_bin))\n",
        "print(confusion_train)\n",
        "\n",
        "# En el conjunto de prueba\n",
        "test_predictions <- predict(gb_model, X_test, n.trees = 100, type = \"response\")\n",
        "test_class <- ifelse(test_predictions > 0.5, 1, 0)\n",
        "cat(\"PRUEBA\\n\")\n",
        "confusion_test <- confusionMatrix(factor(test_class), factor(y_test_bin))\n",
        "print(confusion_test)"
      ]
    },
    {
      "cell_type": "code",
      "execution_count": 43,
      "metadata": {
        "id": "zUvlMoJZoxwo",
        "colab": {
          "base_uri": "https://localhost:8080/"
        },
        "outputId": "f7046972-2db9-4f45-ff63-ce0048146765"
      },
      "outputs": [
        {
          "output_type": "stream",
          "name": "stdout",
          "text": [
            "ENTRENAMIENTO\n",
            "         Actual\n",
            "Predicted     0     1\n",
            "        0 16288  2128\n",
            "        1  1013  3610\n",
            "PRUEBA\n",
            "         Actual\n",
            "Predicted    0    1\n",
            "        0 5459  707\n",
            "        1  308 1205\n",
            "Métricas de rendimiento en el conjunto de prueba:\n",
            "Confusion Matrix and Statistics\n",
            "\n",
            "          Reference\n",
            "Prediction    0    1\n",
            "         0 5459  707\n",
            "         1  308 1205\n",
            "                                        \n",
            "               Accuracy : 0.8678        \n",
            "                 95% CI : (0.86, 0.8753)\n",
            "    No Information Rate : 0.751         \n",
            "    P-Value [Acc > NIR] : < 2.2e-16     \n",
            "                                        \n",
            "                  Kappa : 0.6201        \n",
            "                                        \n",
            " Mcnemar's Test P-Value : < 2.2e-16     \n",
            "                                        \n",
            "            Sensitivity : 0.9466        \n",
            "            Specificity : 0.6302        \n",
            "         Pos Pred Value : 0.8853        \n",
            "         Neg Pred Value : 0.7964        \n",
            "             Prevalence : 0.7510        \n",
            "         Detection Rate : 0.7109        \n",
            "   Detection Prevalence : 0.8030        \n",
            "      Balanced Accuracy : 0.7884        \n",
            "                                        \n",
            "       'Positive' Class : 0             \n",
            "                                        \n"
          ]
        }
      ],
      "source": [
        "# Segundo clasificador GRADIENT BOOSTING\n",
        "# Entrenar el modelo de Gradient Boosting\n",
        "set.seed(0)\n",
        "gb_model <- gbm(\n",
        "  formula = income ~ .,\n",
        "  data = data.frame(X_train, income = y_train_bin),\n",
        "  distribution = \"bernoulli\",\n",
        "  n.trees = 300,                                    # Número de árboles\n",
        "  interaction.depth = 3,                             # Profundidad máxima de los árboles\n",
        "  shrinkage = 0.05,                                 # Tasa de aprendizaje\n",
        "  verbose = FALSE\n",
        ")\n",
        "\n",
        "#En el conjunto de entrenamiento\n",
        "train_predictions <- predict(gb_model, newdata = X_train, n.trees = 300, type = \"response\")\n",
        "train_class <- ifelse(train_predictions > 0.5, 1, 0)\n",
        "cat(\"ENTRENAMIENTO\\n\")\n",
        "print(table(Predicted = train_class, Actual = y_train_bin))\n",
        "test_predictions <- predict(gb_model, newdata = X_test, n.trees = 300, type = \"response\")\n",
        "test_class <- ifelse(test_predictions > 0.5, 1, 0)\n",
        "\n",
        "# En el comjunto de prueba\n",
        "cat(\"PRUEBA\\n\")\n",
        "print(table(Predicted = test_class, Actual = y_test_bin))\n",
        "cat(\"Métricas de rendimiento en el conjunto de prueba:\\n\")\n",
        "confusion_matrix <- confusionMatrix(as.factor(test_class), as.factor(y_test_bin))\n",
        "print(confusion_matrix)"
      ]
    },
    {
      "cell_type": "code",
      "source": [
        "# Sintonización de parámetros para modelo GBM\n",
        "\n",
        "\n",
        "# Configurar la búsqueda de hiperparámetros\n",
        "control <- trainControl(method = \"cv\", number = 5)\n",
        "\n",
        "# Rango de hiperparámetros\n",
        "grid <- expand.grid(\n",
        "  n.trees = c(100, 50, 70),         # número de árboles\n",
        "  interaction.depth = c(2, 4, 6),     # profundidad máxima de los árboles\n",
        "  shrinkage = c(0.8, 1.0, 1.2),       # tasa de aprendizaje\n",
        "  n.minobsinnode = 10                 # número mínimo de observaciones en cada nodo\n",
        ")\n",
        "\n",
        "set.seed(42)\n",
        "boosted_model <- train(\n",
        "  income ~ ., data = data.frame(X_train, income = y_train),\n",
        "  method = \"gbm\",\n",
        "  trControl = control,\n",
        "  tuneGrid = grid,\n",
        "  metric = \"Accuracy\",\n",
        "  verbose = FALSE\n",
        ")\n",
        "\n",
        "best_model <- boosted_model$bestTune\n",
        "print(best_model)\n"
      ],
      "metadata": {
        "id": "bh67CUwjigUC"
      },
      "execution_count": null,
      "outputs": []
    },
    {
      "cell_type": "code",
      "source": [
        "# En el conjunto de entrenamiento\n",
        "train_predictions <- predict(boosted_model, X_train)\n",
        "train_confusion <- confusionMatrix(train_predictions, y_train)\n",
        "cat(\"ENTRENAMIENTO\\n\")\n",
        "print(train_confusion)\n",
        "\n",
        "#En el conjunto de prueba\n",
        "test_predictions <- predict(boosted_model, X_test)\n",
        "test_confusion <- confusionMatrix(test_predictions, y_test)\n",
        "cat(\"PRUEBA\\n\")\n",
        "print(test_confusion)\n"
      ],
      "metadata": {
        "id": "yQBnwY4aiofH"
      },
      "execution_count": null,
      "outputs": []
    },
    {
      "cell_type": "code",
      "source": [],
      "metadata": {
        "id": "YjS0q5-CiokZ"
      },
      "execution_count": null,
      "outputs": []
    },
    {
      "cell_type": "code",
      "execution_count": null,
      "metadata": {
        "id": "iItNeqO_qjZc",
        "colab": {
          "base_uri": "https://localhost:8080/"
        },
        "outputId": "ddd24aab-206d-4ac0-839d-ec2438c8716c"
      },
      "outputs": [
        {
          "output_type": "stream",
          "name": "stdout",
          "text": [
            "[1] \"Mejores parámetros:\"\n",
            "   n.trees interaction.depth shrinkage n.minobsinnode\n",
            "53     200                 6      0.15             20\n",
            "ENTRENAMIENTO\n",
            "Confusion Matrix and Statistics\n",
            "\n",
            "          Reference\n",
            "Prediction <=50K  >50K\n",
            "     <=50K 16319  1871\n",
            "     >50K    982  3867\n",
            "                                          \n",
            "               Accuracy : 0.8762          \n",
            "                 95% CI : (0.8718, 0.8804)\n",
            "    No Information Rate : 0.7509          \n",
            "    P-Value [Acc > NIR] : < 2.2e-16       \n",
            "                                          \n",
            "                  Kappa : 0.6509          \n",
            "                                          \n",
            " Mcnemar's Test P-Value : < 2.2e-16       \n",
            "                                          \n",
            "            Sensitivity : 0.9432          \n",
            "            Specificity : 0.6739          \n",
            "         Pos Pred Value : 0.8971          \n",
            "         Neg Pred Value : 0.7975          \n",
            "             Prevalence : 0.7509          \n",
            "         Detection Rate : 0.7083          \n",
            "   Detection Prevalence : 0.7895          \n",
            "      Balanced Accuracy : 0.8086          \n",
            "                                          \n",
            "       'Positive' Class : <=50K           \n",
            "                                          \n",
            "PRUEBA\n",
            "Confusion Matrix and Statistics\n",
            "\n",
            "          Reference\n",
            "Prediction <=50K >50K\n",
            "     <=50K  5415  650\n",
            "     >50K    352 1262\n",
            "                                         \n",
            "               Accuracy : 0.8695         \n",
            "                 95% CI : (0.8618, 0.877)\n",
            "    No Information Rate : 0.751          \n",
            "    P-Value [Acc > NIR] : < 2.2e-16      \n",
            "                                         \n",
            "                  Kappa : 0.6319         \n",
            "                                         \n",
            " Mcnemar's Test P-Value : < 2.2e-16      \n",
            "                                         \n",
            "            Sensitivity : 0.9390         \n",
            "            Specificity : 0.6600         \n",
            "         Pos Pred Value : 0.8928         \n",
            "         Neg Pred Value : 0.7819         \n",
            "             Prevalence : 0.7510         \n",
            "         Detection Rate : 0.7052         \n",
            "   Detection Prevalence : 0.7898         \n",
            "      Balanced Accuracy : 0.7995         \n",
            "                                         \n",
            "       'Positive' Class : <=50K          \n",
            "                                         \n"
          ]
        }
      ],
      "source": [
        "## Sintonización de parámetros para modelo GRADIENT BOOSTING\n",
        "control <- trainControl(method = \"cv\", number = 5)\n",
        "\n",
        "# Definir los parámetros a sintonizar\n",
        "grid <- expand.grid(\n",
        "  n.trees = c(100, 200, 300),        # Número de árboles\n",
        "  interaction.depth = c(2, 4, 6),    # Profundidad máxima de los árboless\n",
        "  shrinkage = c(0.05, 0.1, 0.15),     # Tasa de aprendizaje\n",
        "  n.minobsinnode = c(10, 20)          # Mínimo de observaciones en un nodo\n",
        ")\n",
        "\n",
        "# Sintonizar el modelo de Gradient Boosting\n",
        "set.seed(0)\n",
        "gb_model <- train(\n",
        "  income ~ .,\n",
        "  data = data.frame(X_train, income = y_train),\n",
        "  method = \"gbm\",\n",
        "  trControl = control,\n",
        "  tuneGrid = grid,\n",
        "  metric = \"Kappa\",\n",
        "  verbose = FALSE\n",
        ")\n",
        "\n",
        "#mejores parametros\n",
        "best_params <- gb_model$bestTune\n",
        "print(\"Mejores parámetros:\")\n",
        "print(best_params)\n",
        "\n",
        "# Evaluar el modelo en el conjunto de entrenamiento\n",
        "train_predictions <- predict(gb_model, newdata = data.frame(X_train))\n",
        "cat(\"ENTRENAMIENTO\\n\")\n",
        "print(confusionMatrix(train_predictions, y_train))\n",
        "\n",
        "# Evaluar el modelo en el conjunto de prueba\n",
        "test_predictions <- predict(gb_model, newdata = data.frame(X_test))\n",
        "cat(\"PRUEBA\\n\")\n",
        "print(confusionMatrix(test_predictions, y_test))"
      ]
    },
    {
      "cell_type": "markdown",
      "metadata": {
        "id": "g_Fo_KgFzYGP"
      },
      "source": [
        "## **4. XGBoost**"
      ]
    },
    {
      "cell_type": "code",
      "source": [
        "library(xgboost)\n",
        "library(Matrix)"
      ],
      "metadata": {
        "id": "oCXcPC-EK2le"
      },
      "execution_count": null,
      "outputs": []
    },
    {
      "cell_type": "code",
      "execution_count": null,
      "metadata": {
        "id": "DCp6R5v21LlM"
      },
      "outputs": [],
      "source": [
        "#Procesamiento requerido para XGBoost\n",
        "X_train_numeric <- model.matrix(~ . - 1, data = X_train)\n",
        "X_test_numeric <- model.matrix(~ . - 1, data = X_test)\n",
        "\n",
        "# Convertir y_train y y_test en binario\n",
        "y_train_binary <- as.numeric(y_train == \">50K\")\n",
        "y_test_binary <- as.numeric(y_test == \">50K\")\n",
        "\n",
        "# Crear los DMatrix necesarios para xgboost\n",
        "dtrain <- xgb.DMatrix(data = X_train_numeric, label = y_train_binary)\n",
        "dtest <- xgb.DMatrix(data = X_test_numeric, label = y_test_binary)"
      ]
    },
    {
      "cell_type": "code",
      "execution_count": null,
      "metadata": {
        "id": "rLlE7XS-2lr-",
        "colab": {
          "base_uri": "https://localhost:8080/"
        },
        "outputId": "290e1ee2-75b2-4548-8c31-3e690a8bc891"
      },
      "outputs": [
        {
          "output_type": "stream",
          "name": "stdout",
          "text": [
            "[00:55:21] WARNING: src/learner.cc:767: \n",
            "Parameters: { \"n_estimators\" } are not used.\n",
            "\n",
            "Métricas (Entrenamiento):\n",
            "Confusion Matrix and Statistics\n",
            "\n",
            "          Reference\n",
            "Prediction     0     1\n",
            "         0 15215   564\n",
            "         1  2086  5174\n",
            "                                          \n",
            "               Accuracy : 0.885           \n",
            "                 95% CI : (0.8808, 0.8891)\n",
            "    No Information Rate : 0.7509          \n",
            "    P-Value [Acc > NIR] : < 2.2e-16       \n",
            "                                          \n",
            "                  Kappa : 0.7175          \n",
            "                                          \n",
            " Mcnemar's Test P-Value : < 2.2e-16       \n",
            "                                          \n",
            "            Sensitivity : 0.9017          \n",
            "            Specificity : 0.8794          \n",
            "         Pos Pred Value : 0.7127          \n",
            "         Neg Pred Value : 0.9643          \n",
            "             Prevalence : 0.2491          \n",
            "         Detection Rate : 0.2246          \n",
            "   Detection Prevalence : 0.3151          \n",
            "      Balanced Accuracy : 0.8906          \n",
            "                                          \n",
            "       'Positive' Class : 1               \n",
            "                                          \n",
            "\n",
            "Métricas (Prueba):\n",
            "Confusion Matrix and Statistics\n",
            "\n",
            "          Reference\n",
            "Prediction    0    1\n",
            "         0 5423  632\n",
            "         1  344 1280\n",
            "                                          \n",
            "               Accuracy : 0.8729          \n",
            "                 95% CI : (0.8652, 0.8803)\n",
            "    No Information Rate : 0.751           \n",
            "    P-Value [Acc > NIR] : < 2.2e-16       \n",
            "                                          \n",
            "                  Kappa : 0.6421          \n",
            "                                          \n",
            " Mcnemar's Test P-Value : < 2.2e-16       \n",
            "                                          \n",
            "            Sensitivity : 0.6695          \n",
            "            Specificity : 0.9404          \n",
            "         Pos Pred Value : 0.7882          \n",
            "         Neg Pred Value : 0.8956          \n",
            "             Prevalence : 0.2490          \n",
            "         Detection Rate : 0.1667          \n",
            "   Detection Prevalence : 0.2115          \n",
            "      Balanced Accuracy : 0.8049          \n",
            "                                          \n",
            "       'Positive' Class : 1               \n",
            "                                          \n"
          ]
        }
      ],
      "source": [
        "# Primer clasificador XGBOOST\n",
        "params <- list(\n",
        "  objective = \"binary:logistic\",  # Para clasificación binaria\n",
        "  eval_metric = \"logloss\",        # Métrica de evaluación: logloss\n",
        "  n_estimators = 100              # Número de árboles de decisión\n",
        ")\n",
        "\n",
        "# Entrenar el modelo\n",
        "xgb_model <- xgb.train(\n",
        "  params = params,\n",
        "  data = dtrain,\n",
        "  nrounds = 100\n",
        ")"
      ]
    },
    {
      "cell_type": "code",
      "source": [
        "# Predicciones en el conjunto de entrenamiento\n",
        "train_preds <- predict(xgb_model, dtrain)\n",
        "train_preds_class <- ifelse(train_preds > 0.4, 1, 0)\n",
        "cat(\"Métricas (Entrenamiento):\\n\")\n",
        "train_metrics <- confusionMatrix(as.factor(train_preds_class), as.factor(y_train_binary), positive = \"1\")\n",
        "print(train_metrics)\n",
        "\n",
        "# Predicciones en el conjunto de prueba\n",
        "test_preds <- predict(xgb_model, dtest)\n",
        "test_preds_class <- ifelse(test_preds > 0.4, 1, 0)\n",
        "cat(\"\\nMétricas (Prueba):\\n\")\n",
        "test_metrics <- confusionMatrix(as.factor(test_preds_class), as.factor(y_test_binary), positive = \"1\")\n",
        "print(test_metrics)"
      ],
      "metadata": {
        "colab": {
          "base_uri": "https://localhost:8080/"
        },
        "id": "PvFbuMi1-HZS",
        "outputId": "81ae9b5b-2a2b-427f-9171-03e34e6e330c"
      },
      "execution_count": null,
      "outputs": [
        {
          "output_type": "stream",
          "name": "stdout",
          "text": [
            "Métricas (Entrenamiento):\n",
            "Confusion Matrix and Statistics\n",
            "\n",
            "          Reference\n",
            "Prediction     0     1\n",
            "         0 16034   962\n",
            "         1  1267  4776\n",
            "                                         \n",
            "               Accuracy : 0.9033         \n",
            "                 95% CI : (0.8994, 0.907)\n",
            "    No Information Rate : 0.7509         \n",
            "    P-Value [Acc > NIR] : < 2.2e-16      \n",
            "                                         \n",
            "                  Kappa : 0.7459         \n",
            "                                         \n",
            " Mcnemar's Test P-Value : 1.203e-10      \n",
            "                                         \n",
            "            Sensitivity : 0.8323         \n",
            "            Specificity : 0.9268         \n",
            "         Pos Pred Value : 0.7903         \n",
            "         Neg Pred Value : 0.9434         \n",
            "             Prevalence : 0.2491         \n",
            "         Detection Rate : 0.2073         \n",
            "   Detection Prevalence : 0.2623         \n",
            "      Balanced Accuracy : 0.8796         \n",
            "                                         \n",
            "       'Positive' Class : 1              \n",
            "                                         \n",
            "\n",
            "Métricas (Prueba):\n",
            "Confusion Matrix and Statistics\n",
            "\n",
            "          Reference\n",
            "Prediction    0    1\n",
            "         0 5212  478\n",
            "         1  555 1434\n",
            "                                         \n",
            "               Accuracy : 0.8655         \n",
            "                 95% CI : (0.8576, 0.873)\n",
            "    No Information Rate : 0.751          \n",
            "    P-Value [Acc > NIR] : < 2e-16        \n",
            "                                         \n",
            "                  Kappa : 0.6451         \n",
            "                                         \n",
            " Mcnemar's Test P-Value : 0.01805        \n",
            "                                         \n",
            "            Sensitivity : 0.7500         \n",
            "            Specificity : 0.9038         \n",
            "         Pos Pred Value : 0.7210         \n",
            "         Neg Pred Value : 0.9160         \n",
            "             Prevalence : 0.2490         \n",
            "         Detection Rate : 0.1867         \n",
            "   Detection Prevalence : 0.2590         \n",
            "      Balanced Accuracy : 0.8269         \n",
            "                                         \n",
            "       'Positive' Class : 1              \n",
            "                                         \n"
          ]
        }
      ]
    },
    {
      "cell_type": "code",
      "execution_count": null,
      "metadata": {
        "id": "c385xj_K24kM",
        "colab": {
          "base_uri": "https://localhost:8080/"
        },
        "outputId": "738fac61-7c39-4d8b-f70b-20ddfd2f5490"
      },
      "outputs": [
        {
          "output_type": "stream",
          "name": "stdout",
          "text": [
            "[00:58:20] WARNING: src/learner.cc:767: \n",
            "Parameters: { \"n_estimators\" } are not used.\n",
            "\n",
            "Métricas (Entrenamiento):\n",
            "Confusion Matrix and Statistics\n",
            "\n",
            "          Reference\n",
            "Prediction     0     1\n",
            "         0 15215   564\n",
            "         1  2086  5174\n",
            "                                          \n",
            "               Accuracy : 0.885           \n",
            "                 95% CI : (0.8808, 0.8891)\n",
            "    No Information Rate : 0.7509          \n",
            "    P-Value [Acc > NIR] : < 2.2e-16       \n",
            "                                          \n",
            "                  Kappa : 0.7175          \n",
            "                                          \n",
            " Mcnemar's Test P-Value : < 2.2e-16       \n",
            "                                          \n",
            "            Sensitivity : 0.9017          \n",
            "            Specificity : 0.8794          \n",
            "         Pos Pred Value : 0.7127          \n",
            "         Neg Pred Value : 0.9643          \n",
            "             Prevalence : 0.2491          \n",
            "         Detection Rate : 0.2246          \n",
            "   Detection Prevalence : 0.3151          \n",
            "      Balanced Accuracy : 0.8906          \n",
            "                                          \n",
            "       'Positive' Class : 1               \n",
            "                                          \n",
            "\n",
            "Métricas (Prueba):\n",
            "Confusion Matrix and Statistics\n",
            "\n",
            "          Reference\n",
            "Prediction    0    1\n",
            "         0 4960  331\n",
            "         1  807 1581\n",
            "                                          \n",
            "               Accuracy : 0.8518          \n",
            "                 95% CI : (0.8437, 0.8597)\n",
            "    No Information Rate : 0.751           \n",
            "    P-Value [Acc > NIR] : < 2.2e-16       \n",
            "                                          \n",
            "                  Kappa : 0.6342          \n",
            "                                          \n",
            " Mcnemar's Test P-Value : < 2.2e-16       \n",
            "                                          \n",
            "            Sensitivity : 0.8269          \n",
            "            Specificity : 0.8601          \n",
            "         Pos Pred Value : 0.6621          \n",
            "         Neg Pred Value : 0.9374          \n",
            "             Prevalence : 0.2490          \n",
            "         Detection Rate : 0.2059          \n",
            "   Detection Prevalence : 0.3110          \n",
            "      Balanced Accuracy : 0.8435          \n",
            "                                          \n",
            "       'Positive' Class : 1               \n",
            "                                          \n"
          ]
        }
      ],
      "source": [
        "# Segundo clasificador XGBOOST aumentando el número de árboles de decisión\n",
        "params <- list(\n",
        "  objective = \"binary:logistic\",  # Para clasificación binaria\n",
        "  eval_metric = \"logloss\",        # Métrica de evaluación: logloss\n",
        "  n_estimators = 200              # Número de árboles de decisión\n",
        ")\n",
        "\n",
        "# Entrenar el modelo\n",
        "xgb_model <- xgb.train(\n",
        "  params = params,\n",
        "  data = dtrain,\n",
        "  nrounds = 100\n",
        ")\n",
        "\n",
        "# Predicciones en el conjunto de entrenamiento\n",
        "train_preds <- predict(xgb_model, dtrain)\n",
        "train_preds_class <- ifelse(train_preds > 0.3, 1, 0)\n",
        "cat(\"Métricas (Entrenamiento):\\n\")\n",
        "train_metrics <- confusionMatrix(as.factor(train_preds_class), as.factor(y_train_binary), positive = \"1\")\n",
        "print(train_metrics)\n",
        "\n",
        "# Predicciones en el conjunto de prueba\n",
        "test_preds <- predict(xgb_model, dtest)\n",
        "test_preds_class <- ifelse(test_preds > 0.3, 1, 0)\n",
        "cat(\"\\nMétricas (Prueba):\\n\")\n",
        "test_metrics <- confusionMatrix(as.factor(test_preds_class), as.factor(y_test_binary), positive = \"1\")\n",
        "print(test_metrics)"
      ]
    },
    {
      "cell_type": "code",
      "execution_count": null,
      "metadata": {
        "id": "SvWcKN0i4-qx",
        "colab": {
          "base_uri": "https://localhost:8080/"
        },
        "outputId": "43d9ddff-96bd-48c7-adff-b062e91c7780"
      },
      "outputs": [
        {
          "output_type": "stream",
          "name": "stdout",
          "text": [
            "eXtreme Gradient Boosting \n",
            "\n",
            "23039 samples\n",
            "   57 predictor\n",
            "    2 classes: 'no', 'yes' \n",
            "\n",
            "No pre-processing\n",
            "Resampling: None \n"
          ]
        }
      ],
      "source": [
        "# Tercer calsificador: Sintonización de parámetros para modelo GRADIENT BOOSTING\n",
        "y_train_factor <- factor(ifelse(y_train == \">50K\", \"yes\", \"no\"))\n",
        "train_data <- data.frame(X_train_numeric, y = y_train_factor)\n",
        "\n",
        "\n",
        "control <- trainControl(\n",
        "  method = \"none\"\n",
        ")\n",
        "\n",
        "# Definir conjunto de hiperparámetros\n",
        "tune_grid <- expand.grid(\n",
        "  nrounds = 100,\n",
        "  max_depth = 6,\n",
        "  eta = 0.3,\n",
        "  gamma = 0,\n",
        "  colsample_bytree = 0.8,\n",
        "  min_child_weight = 1,\n",
        "  subsample = 0.8\n",
        ")\n",
        "\n",
        "# Entrenar el modelo con los hiperparámetros especificados\n",
        "set.seed(49)\n",
        "xgb_tuned <- train(\n",
        "  y ~ .,\n",
        "  data = train_data,\n",
        "  method = \"xgbTree\",\n",
        "  trControl = control,\n",
        "  tuneGrid = tune_grid,\n",
        "  metric = \"Accuracy\"\n",
        ")\n",
        "print(xgb_tuned)"
      ]
    },
    {
      "cell_type": "code",
      "execution_count": null,
      "metadata": {
        "id": "DfzTHRZx5oSO",
        "colab": {
          "base_uri": "https://localhost:8080/"
        },
        "outputId": "31b25f82-d9e0-4137-e935-739666cd4ce7"
      },
      "outputs": [
        {
          "output_type": "stream",
          "name": "stdout",
          "text": [
            "Evaluación en el conjunto de entrenamiento:\n",
            "Confusion Matrix and Statistics\n",
            "\n",
            "          Reference\n",
            "Prediction    no   yes\n",
            "       no  16560  1436\n",
            "       yes   741  4302\n",
            "                                          \n",
            "               Accuracy : 0.9055          \n",
            "                 95% CI : (0.9017, 0.9093)\n",
            "    No Information Rate : 0.7509          \n",
            "    P-Value [Acc > NIR] : < 2.2e-16       \n",
            "                                          \n",
            "                  Kappa : 0.7367          \n",
            "                                          \n",
            " Mcnemar's Test P-Value : < 2.2e-16       \n",
            "                                          \n",
            "            Sensitivity : 0.9572          \n",
            "            Specificity : 0.7497          \n",
            "         Pos Pred Value : 0.9202          \n",
            "         Neg Pred Value : 0.8531          \n",
            "             Prevalence : 0.7509          \n",
            "         Detection Rate : 0.7188          \n",
            "   Detection Prevalence : 0.7811          \n",
            "      Balanced Accuracy : 0.8535          \n",
            "                                          \n",
            "       'Positive' Class : no              \n",
            "                                          \n",
            "\n",
            "Evaluación en el conjunto de prueba:\n",
            "Confusion Matrix and Statistics\n",
            "\n",
            "          Reference\n",
            "Prediction   no  yes\n",
            "       no  5401  648\n",
            "       yes  366 1264\n",
            "                                          \n",
            "               Accuracy : 0.868           \n",
            "                 95% CI : (0.8602, 0.8754)\n",
            "    No Information Rate : 0.751           \n",
            "    P-Value [Acc > NIR] : < 2.2e-16       \n",
            "                                          \n",
            "                  Kappa : 0.6286          \n",
            "                                          \n",
            " Mcnemar's Test P-Value : < 2.2e-16       \n",
            "                                          \n",
            "            Sensitivity : 0.9365          \n",
            "            Specificity : 0.6611          \n",
            "         Pos Pred Value : 0.8929          \n",
            "         Neg Pred Value : 0.7755          \n",
            "             Prevalence : 0.7510          \n",
            "         Detection Rate : 0.7033          \n",
            "   Detection Prevalence : 0.7877          \n",
            "      Balanced Accuracy : 0.7988          \n",
            "                                          \n",
            "       'Positive' Class : no              \n",
            "                                          \n"
          ]
        }
      ],
      "source": [
        "# Predicciones en el conjunto de entrenamiento\n",
        "train_preds <- predict(xgb_tuned, newdata = train_data)\n",
        "train_cm <- confusionMatrix(train_preds, y_train_factor)\n",
        "cat(\"Evaluación en el conjunto de entrenamiento:\\n\")\n",
        "print(train_cm)\n",
        "\n",
        "# Predicciones en el conjunto de prueba\n",
        "y_test_factor <- factor(ifelse(y_test == \">50K\", \"yes\", \"no\"))\n",
        "test_data <- data.frame(X_test_numeric, y = y_test_factor)\n",
        "test_preds <- predict(xgb_tuned, newdata = test_data)\n",
        "test_cm <- confusionMatrix(test_preds, y_test_factor)\n",
        "cat(\"\\nEvaluación en el conjunto de prueba:\\n\")\n",
        "print(test_cm)\n"
      ]
    },
    {
      "cell_type": "markdown",
      "metadata": {
        "id": "M4NKV_uA6R6M"
      },
      "source": [
        "**5. ADABOOST.M1**"
      ]
    },
    {
      "cell_type": "code",
      "execution_count": null,
      "metadata": {
        "id": "PqixMZO36XKx",
        "colab": {
          "base_uri": "https://localhost:8080/"
        },
        "outputId": "11be5664-ed73-4d73-cbd0-7c1fa33e849a"
      },
      "outputs": [
        {
          "output_type": "stream",
          "name": "stderr",
          "text": [
            "Installing package into ‘/usr/local/lib/R/site-library’\n",
            "(as ‘lib’ is unspecified)\n",
            "\n"
          ]
        },
        {
          "output_type": "stream",
          "name": "stdout",
          "text": [
            "ENTRENAMIENTO\n",
            "Confusion Matrix and Statistics\n",
            "\n",
            "          Reference\n",
            "Prediction <=50K  >50K\n",
            "     <=50K 15965  1949\n",
            "     >50K   1336  3789\n",
            "                                          \n",
            "               Accuracy : 0.8574          \n",
            "                 95% CI : (0.8528, 0.8619)\n",
            "    No Information Rate : 0.7509          \n",
            "    P-Value [Acc > NIR] : < 2.2e-16       \n",
            "                                          \n",
            "                  Kappa : 0.6047          \n",
            "                                          \n",
            " Mcnemar's Test P-Value : < 2.2e-16       \n",
            "                                          \n",
            "            Sensitivity : 0.9228          \n",
            "            Specificity : 0.6603          \n",
            "         Pos Pred Value : 0.8912          \n",
            "         Neg Pred Value : 0.7393          \n",
            "             Prevalence : 0.7509          \n",
            "         Detection Rate : 0.6930          \n",
            "   Detection Prevalence : 0.7776          \n",
            "      Balanced Accuracy : 0.7916          \n",
            "                                          \n",
            "       'Positive' Class : <=50K           \n",
            "                                          \n",
            "PRUEBA\n",
            "Confusion Matrix and Statistics\n",
            "\n",
            "          Reference\n",
            "Prediction <=50K >50K\n",
            "     <=50K  5345  647\n",
            "     >50K    422 1265\n",
            "                                          \n",
            "               Accuracy : 0.8608          \n",
            "                 95% CI : (0.8528, 0.8685)\n",
            "    No Information Rate : 0.751           \n",
            "    P-Value [Acc > NIR] : < 2.2e-16       \n",
            "                                          \n",
            "                  Kappa : 0.6125          \n",
            "                                          \n",
            " Mcnemar's Test P-Value : 7.329e-12       \n",
            "                                          \n",
            "            Sensitivity : 0.9268          \n",
            "            Specificity : 0.6616          \n",
            "         Pos Pred Value : 0.8920          \n",
            "         Neg Pred Value : 0.7499          \n",
            "             Prevalence : 0.7510          \n",
            "         Detection Rate : 0.6961          \n",
            "   Detection Prevalence : 0.7803          \n",
            "      Balanced Accuracy : 0.7942          \n",
            "                                          \n",
            "       'Positive' Class : <=50K           \n",
            "                                          \n"
          ]
        }
      ],
      "source": [
        "install.packages(\"adabag\")\n",
        "library(adabag)\n",
        "\n",
        "# Entrenar el modelo AdaBoost.M1\n",
        "ada_model <- boosting(income ~ ., data = data.frame(X_train, income = y_train), mfinal = 50) # mfinal: Número de iteraciones (árboles)\n",
        "\n",
        "# Predicciones en el conjunto de entrenamiento\n",
        "train_predictions <- predict(ada_model, newdata = data.frame(X_train))\n",
        "cat(\"ENTRENAMIENTO\\n\")\n",
        "print(confusionMatrix(factor(train_predictions$class), factor(y_train)))\n",
        "\n",
        "# Predicciones en el conjunto de prueba\n",
        "test_predictions <- predict(ada_model, newdata = data.frame(X_test))\n",
        "cat(\"PRUEBA\\n\")\n",
        "print(confusionMatrix(factor(test_predictions$class), factor(y_test)))"
      ]
    },
    {
      "cell_type": "code",
      "source": [
        "# Entrenar el modelo AdaBoost.M1\n",
        "ada_model2 <- boosting(income ~ ., data = data.frame(X_train, income = y_train), mfinal = 100) # mfinal: Número de iteraciones (árboles)\n",
        "\n",
        "# Predicciones en el conjunto de entrenamiento\n",
        "train_predictions <- predict(ada_model2, newdata = data.frame(X_train))\n",
        "cat(\"ENTRENAMIENTO\\n\")\n",
        "print(confusionMatrix(factor(train_predictions$class), factor(y_train)))\n",
        "\n",
        "# Predicciones en el conjunto de prueba\n",
        "test_predictions <- predict(ada_model2, newdata = data.frame(X_test))\n",
        "cat(\"PRUEBA\\n\")\n",
        "print(confusionMatrix(factor(test_predictions$class), factor(y_test)))"
      ],
      "metadata": {
        "colab": {
          "base_uri": "https://localhost:8080/"
        },
        "id": "RH4P2kIIL9V2",
        "outputId": "514e00d2-90b2-4015-9be1-d2636b370273"
      },
      "execution_count": null,
      "outputs": [
        {
          "output_type": "stream",
          "name": "stdout",
          "text": [
            "ENTRENAMIENTO\n",
            "Confusion Matrix and Statistics\n",
            "\n",
            "          Reference\n",
            "Prediction <=50K  >50K\n",
            "     <=50K 16152  2093\n",
            "     >50K   1149  3645\n",
            "                                          \n",
            "               Accuracy : 0.8593          \n",
            "                 95% CI : (0.8547, 0.8637)\n",
            "    No Information Rate : 0.7509          \n",
            "    P-Value [Acc > NIR] : < 2.2e-16       \n",
            "                                          \n",
            "                  Kappa : 0.6019          \n",
            "                                          \n",
            " Mcnemar's Test P-Value : < 2.2e-16       \n",
            "                                          \n",
            "            Sensitivity : 0.9336          \n",
            "            Specificity : 0.6352          \n",
            "         Pos Pred Value : 0.8853          \n",
            "         Neg Pred Value : 0.7603          \n",
            "             Prevalence : 0.7509          \n",
            "         Detection Rate : 0.7011          \n",
            "   Detection Prevalence : 0.7919          \n",
            "      Balanced Accuracy : 0.7844          \n",
            "                                          \n",
            "       'Positive' Class : <=50K           \n",
            "                                          \n",
            "PRUEBA\n",
            "Confusion Matrix and Statistics\n",
            "\n",
            "          Reference\n",
            "Prediction <=50K >50K\n",
            "     <=50K  5403  679\n",
            "     >50K    364 1233\n",
            "                                          \n",
            "               Accuracy : 0.8642          \n",
            "                 95% CI : (0.8563, 0.8718)\n",
            "    No Information Rate : 0.751           \n",
            "    P-Value [Acc > NIR] : < 2.2e-16       \n",
            "                                          \n",
            "                  Kappa : 0.6157          \n",
            "                                          \n",
            " Mcnemar's Test P-Value : < 2.2e-16       \n",
            "                                          \n",
            "            Sensitivity : 0.9369          \n",
            "            Specificity : 0.6449          \n",
            "         Pos Pred Value : 0.8884          \n",
            "         Neg Pred Value : 0.7721          \n",
            "             Prevalence : 0.7510          \n",
            "         Detection Rate : 0.7036          \n",
            "   Detection Prevalence : 0.7920          \n",
            "      Balanced Accuracy : 0.7909          \n",
            "                                          \n",
            "       'Positive' Class : <=50K           \n",
            "                                          \n"
          ]
        }
      ]
    },
    {
      "cell_type": "code",
      "source": [
        "# Entrenar el modelo AdaBoost.M1\n",
        "ada_model3 <- boosting(income ~ ., data = data.frame(X_train, income = y_train), mfinal = 20) # mfinal: Número de iteraciones (árboles)\n",
        "\n",
        "# Predicciones en el conjunto de entrenamiento\n",
        "train_predictions <- predict(ada_model3, newdata = data.frame(X_train))\n",
        "cat(\"ENTRENAMIENTO\\n\")\n",
        "print(confusionMatrix(factor(train_predictions$class), factor(y_train)))\n",
        "\n",
        "# Predicciones en el conjunto de prueba\n",
        "test_predictions <- predict(ada_model3, newdata = data.frame(X_test))\n",
        "cat(\"PRUEBA\\n\")\n",
        "print(confusionMatrix(factor(test_predictions$class), factor(y_test)))"
      ],
      "metadata": {
        "colab": {
          "base_uri": "https://localhost:8080/"
        },
        "id": "HmsYsJxUNmFz",
        "outputId": "0653cc61-13a1-4308-e07e-82fe0483d560"
      },
      "execution_count": null,
      "outputs": [
        {
          "output_type": "stream",
          "name": "stdout",
          "text": [
            "ENTRENAMIENTO\n",
            "Confusion Matrix and Statistics\n",
            "\n",
            "          Reference\n",
            "Prediction <=50K  >50K\n",
            "     <=50K 16128  2102\n",
            "     >50K   1173  3636\n",
            "                                          \n",
            "               Accuracy : 0.8578          \n",
            "                 95% CI : (0.8533, 0.8623)\n",
            "    No Information Rate : 0.7509          \n",
            "    P-Value [Acc > NIR] : < 2.2e-16       \n",
            "                                          \n",
            "                  Kappa : 0.5982          \n",
            "                                          \n",
            " Mcnemar's Test P-Value : < 2.2e-16       \n",
            "                                          \n",
            "            Sensitivity : 0.9322          \n",
            "            Specificity : 0.6337          \n",
            "         Pos Pred Value : 0.8847          \n",
            "         Neg Pred Value : 0.7561          \n",
            "             Prevalence : 0.7509          \n",
            "         Detection Rate : 0.7000          \n",
            "   Detection Prevalence : 0.7913          \n",
            "      Balanced Accuracy : 0.7829          \n",
            "                                          \n",
            "       'Positive' Class : <=50K           \n",
            "                                          \n",
            "PRUEBA\n",
            "Confusion Matrix and Statistics\n",
            "\n",
            "          Reference\n",
            "Prediction <=50K >50K\n",
            "     <=50K  5402  690\n",
            "     >50K    365 1222\n",
            "                                          \n",
            "               Accuracy : 0.8626          \n",
            "                 95% CI : (0.8547, 0.8702)\n",
            "    No Information Rate : 0.751           \n",
            "    P-Value [Acc > NIR] : < 2.2e-16       \n",
            "                                          \n",
            "                  Kappa : 0.6105          \n",
            "                                          \n",
            " Mcnemar's Test P-Value : < 2.2e-16       \n",
            "                                          \n",
            "            Sensitivity : 0.9367          \n",
            "            Specificity : 0.6391          \n",
            "         Pos Pred Value : 0.8867          \n",
            "         Neg Pred Value : 0.7700          \n",
            "             Prevalence : 0.7510          \n",
            "         Detection Rate : 0.7035          \n",
            "   Detection Prevalence : 0.7933          \n",
            "      Balanced Accuracy : 0.7879          \n",
            "                                          \n",
            "       'Positive' Class : <=50K           \n",
            "                                          \n"
          ]
        }
      ]
    }
  ],
  "metadata": {
    "colab": {
      "provenance": [],
      "gpuType": "T4"
    },
    "kernelspec": {
      "display_name": "R",
      "name": "ir"
    },
    "language_info": {
      "name": "R"
    }
  },
  "nbformat": 4,
  "nbformat_minor": 0
}