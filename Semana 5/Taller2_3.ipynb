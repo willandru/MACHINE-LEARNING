{
  "nbformat": 4,
  "nbformat_minor": 0,
  "metadata": {
    "colab": {
      "provenance": []
    },
    "kernelspec": {
      "name": "ir",
      "display_name": "R"
    },
    "language_info": {
      "name": "R"
    }
  },
  "cells": [
    {
      "cell_type": "markdown",
      "source": [
        "**An Introduction to Statistical Learning with Applications in R**\n",
        "\n",
        "**Punto 3 Taller - página 124 (punto 10)**\n",
        "\n",
        "William Martinez\n",
        "\n",
        "William Gomez\n",
        "\n",
        "Laura Gonzalez"
      ],
      "metadata": {
        "id": "7FKQ9-a6Laep"
      }
    },
    {
      "cell_type": "code",
      "execution_count": 2,
      "metadata": {
        "colab": {
          "base_uri": "https://localhost:8080/",
          "height": 216
        },
        "id": "puxaXUFrl07Y",
        "outputId": "96f86da1-aff3-490b-e26c-df31b5133219"
      },
      "outputs": [
        {
          "output_type": "stream",
          "name": "stderr",
          "text": [
            "Installing package into ‘/usr/local/lib/R/site-library’\n",
            "(as ‘lib’ is unspecified)\n",
            "\n"
          ]
        },
        {
          "output_type": "display_data",
          "data": {
            "text/html": [
              "<table class=\"dataframe\">\n",
              "<caption>A data.frame: 2 × 11</caption>\n",
              "<thead>\n",
              "\t<tr><th></th><th scope=col>Sales</th><th scope=col>CompPrice</th><th scope=col>Income</th><th scope=col>Advertising</th><th scope=col>Population</th><th scope=col>Price</th><th scope=col>ShelveLoc</th><th scope=col>Age</th><th scope=col>Education</th><th scope=col>Urban</th><th scope=col>US</th></tr>\n",
              "\t<tr><th></th><th scope=col>&lt;dbl&gt;</th><th scope=col>&lt;dbl&gt;</th><th scope=col>&lt;dbl&gt;</th><th scope=col>&lt;dbl&gt;</th><th scope=col>&lt;dbl&gt;</th><th scope=col>&lt;dbl&gt;</th><th scope=col>&lt;fct&gt;</th><th scope=col>&lt;dbl&gt;</th><th scope=col>&lt;dbl&gt;</th><th scope=col>&lt;fct&gt;</th><th scope=col>&lt;fct&gt;</th></tr>\n",
              "</thead>\n",
              "<tbody>\n",
              "\t<tr><th scope=row>1</th><td> 9.50</td><td>138</td><td>73</td><td>11</td><td>276</td><td>120</td><td>Bad </td><td>42</td><td>17</td><td>Yes</td><td>Yes</td></tr>\n",
              "\t<tr><th scope=row>2</th><td>11.22</td><td>111</td><td>48</td><td>16</td><td>260</td><td> 83</td><td>Good</td><td>65</td><td>10</td><td>Yes</td><td>Yes</td></tr>\n",
              "</tbody>\n",
              "</table>\n"
            ],
            "text/markdown": "\nA data.frame: 2 × 11\n\n| <!--/--> | Sales &lt;dbl&gt; | CompPrice &lt;dbl&gt; | Income &lt;dbl&gt; | Advertising &lt;dbl&gt; | Population &lt;dbl&gt; | Price &lt;dbl&gt; | ShelveLoc &lt;fct&gt; | Age &lt;dbl&gt; | Education &lt;dbl&gt; | Urban &lt;fct&gt; | US &lt;fct&gt; |\n|---|---|---|---|---|---|---|---|---|---|---|---|\n| 1 |  9.50 | 138 | 73 | 11 | 276 | 120 | Bad  | 42 | 17 | Yes | Yes |\n| 2 | 11.22 | 111 | 48 | 16 | 260 |  83 | Good | 65 | 10 | Yes | Yes |\n\n",
            "text/latex": "A data.frame: 2 × 11\n\\begin{tabular}{r|lllllllllll}\n  & Sales & CompPrice & Income & Advertising & Population & Price & ShelveLoc & Age & Education & Urban & US\\\\\n  & <dbl> & <dbl> & <dbl> & <dbl> & <dbl> & <dbl> & <fct> & <dbl> & <dbl> & <fct> & <fct>\\\\\n\\hline\n\t1 &  9.50 & 138 & 73 & 11 & 276 & 120 & Bad  & 42 & 17 & Yes & Yes\\\\\n\t2 & 11.22 & 111 & 48 & 16 & 260 &  83 & Good & 65 & 10 & Yes & Yes\\\\\n\\end{tabular}\n",
            "text/plain": [
              "  Sales CompPrice Income Advertising Population Price ShelveLoc Age Education\n",
              "1  9.50 138       73     11          276        120   Bad       42  17       \n",
              "2 11.22 111       48     16          260         83   Good      65  10       \n",
              "  Urban US \n",
              "1 Yes   Yes\n",
              "2 Yes   Yes"
            ]
          },
          "metadata": {}
        }
      ],
      "source": [
        "install.packages('ISLR2')\n",
        "library(ISLR2)\n",
        "\n",
        "Data<- Carseats\n",
        "head(Data,2)"
      ]
    },
    {
      "cell_type": "markdown",
      "source": [
        "**(a) Ajusta un modelo de regresión múltiple para predecir las Ventas usando Precio, Urbano y EE.UU.**\n",
        "\n"
      ],
      "metadata": {
        "id": "y0nj8b8Il1fX"
      }
    },
    {
      "cell_type": "code",
      "source": [
        "# Ajustar el modelo de regresión múltiple\n",
        "modelo <- lm(Sales ~ Price + Urban + US, data = Carseats)\n",
        "summary(modelo)"
      ],
      "metadata": {
        "colab": {
          "base_uri": "https://localhost:8080/",
          "height": 382
        },
        "id": "81bdDWjEms4C",
        "outputId": "b7cd4521-2dc8-4bac-8984-4bc69c6b6670"
      },
      "execution_count": null,
      "outputs": [
        {
          "output_type": "display_data",
          "data": {
            "text/plain": [
              "\n",
              "Call:\n",
              "lm(formula = Sales ~ Price + Urban + US, data = Carseats)\n",
              "\n",
              "Residuals:\n",
              "    Min      1Q  Median      3Q     Max \n",
              "-6.9206 -1.6220 -0.0564  1.5786  7.0581 \n",
              "\n",
              "Coefficients:\n",
              "             Estimate Std. Error t value Pr(>|t|)    \n",
              "(Intercept) 13.043469   0.651012  20.036  < 2e-16 ***\n",
              "Price       -0.054459   0.005242 -10.389  < 2e-16 ***\n",
              "UrbanYes    -0.021916   0.271650  -0.081    0.936    \n",
              "USYes        1.200573   0.259042   4.635 4.86e-06 ***\n",
              "---\n",
              "Signif. codes:  0 ‘***’ 0.001 ‘**’ 0.01 ‘*’ 0.05 ‘.’ 0.1 ‘ ’ 1\n",
              "\n",
              "Residual standard error: 2.472 on 396 degrees of freedom\n",
              "Multiple R-squared:  0.2393,\tAdjusted R-squared:  0.2335 \n",
              "F-statistic: 41.52 on 3 and 396 DF,  p-value: < 2.2e-16\n"
            ]
          },
          "metadata": {}
        }
      ]
    },
    {
      "cell_type": "markdown",
      "source": [
        "**(b) Proporciona una interpretación de cada coeficiente en el modelo. ¡Ten cuidado, algunas de las variables en el modelo son cualitativas!**\n",
        "\n"
      ],
      "metadata": {
        "id": "UoT_Nlljrwd7"
      }
    },
    {
      "cell_type": "markdown",
      "source": [
        "Un modelo de regresión múltiple se ha ajustado para predecir las ventas (**Sales**) usando las variables **Price**, **Urban**, y **US**. Se han obtenido los siguientes resultados estadísticos relevantes de dicho ajuste:\n",
        "\n",
        "El intercepto, Price y USYes tienen un nivel de **significancia del 0.1%**, lo que indica que estas variables y el intercepto tienen una relación estadísticamente significativa con la variable dependiente (Sales). Es decir, estas variables muestran un comportamiento lineal con respecto a las ventas.\n",
        "\n",
        "Estos resultados sugieren que:\n",
        "\n",
        "- El intercepto es de 13.04.\n",
        "\n",
        "- La variable Price tiene una relación inversa con las ventas (Sales), lo que significa que a medida que el precio aumenta, las ventas tienden a disminuir.\n",
        "\n",
        "- La variable USYes tiene una relación positiva con las ventas, lo que indica que las ventas son más altas en Estados Unidos en comparación con otros países.\n",
        "\n",
        "En este modelo, las variables categóricas Urban y US se han convertido automáticamente en variables **dummies**, que al ser binarias, permiten comparar entre dos categorías. Solo una de las dos categorías es necesaria para representar la variable en el modelo, ya que cuando toma el valor de 1 representa \"Yes\", y cuando toma el valor de 0 representa \"No\".\n",
        "\n",
        "Por otro lado, los **residuos**, que representan las diferencias entre los valores observados de Sales y los valores predichos por el modelo, tienen una mediana cercana a 0, lo cual es deseable, ya que indica que el error promedio del modelo es bajo.\n",
        "\n",
        "El problema de este modelo es el **R² ajustado**, que es de solo 0.2335, lo que significa que nuestro modelo, con las variables seleccionadas, es capaz de explicar únicamente el 23.35% de la variabilidad en las ventas (Sales)."
      ],
      "metadata": {
        "id": "0iK1K0BjsOlE"
      }
    },
    {
      "cell_type": "markdown",
      "source": [
        "**(c) Escribe el modelo en forma de ecuación, manejando adecuadamente las variables cualitativas.**\n"
      ],
      "metadata": {
        "id": "azNNpeJyrwVm"
      }
    },
    {
      "cell_type": "markdown",
      "source": [
        "\n",
        "Ecuación del Modelo\n",
        "La ecuación del modelo de regresión múltiple, considerando las variables cualitativas, es:\n",
        "\n",
        "**Sales = 13.043469 − (0.054459×Price) − (0.021916×UrbanYes) + (1.200573×USYes)**\n",
        "\n",
        "\n",
        "Interpretación:\n",
        "Si Urban = No y US = No (las categorías de referencia),dichas variables toman el valor de 0 y la ecuación se reduce a:\n",
        "\n",
        "**Sales = 13.043469 − (0.054459×Price)**\n",
        "\n",
        "Si Urban = Yes, entonces dichas variables toman el valor de 1 y la ecuacion se convierte en:\n",
        "\n",
        "Sales = 13.043469 − (0.054459×Price) - (0.021916 * 1) + (1.200573 * 1)\n",
        "\n",
        "**Sales = 14.222126 − (0.054459×Price)**\n",
        "\n",
        "- Intercepto: Ventas promedio cuando Price = 0, Urban = No, y US = No.\n",
        "\n",
        "- Price: Impacto negativo del precio en las ventas.\n",
        "\n",
        "- UrbanYes: No hay un impacto significativo de estar en una área urbana en comparación con una no urbana.\n",
        "\n",
        "- USYes: Impacto positivo significativo de estar en EE.UU. en comparación con estar en otro país."
      ],
      "metadata": {
        "id": "jUmB84uDsVDw"
      }
    },
    {
      "cell_type": "markdown",
      "source": [
        "**(d) ¿Para cuál de los predictores puedes rechazar la hipótesis nula\n",
        "𝐻0:𝛽𝑗=0?**\n",
        "\n"
      ],
      "metadata": {
        "id": "hgWmVnnlrwLN"
      }
    },
    {
      "cell_type": "markdown",
      "source": [
        "\n",
        "H0:βj=0 para todos los predictores j\n",
        "\n",
        "H1:βj=0 para al menos un predictor j\n",
        "\n",
        "La prueba de hipótesis en regresión lineal determina si cada predictor tiene un impacto significativo en la variable dependiente. Si el valor p es menor que el nivel de significancia, se concluye que el predictor afecta significativamente la variable dependiente, y se rechaza H0.\n",
        "\n",
        "Para determinar si podemos rechazar la hipótesis nula para cada predictor, observamos el valor p (p-value) asociado a cada coeficiente en el modelo:\n",
        "\n",
        "- Intercepto:p<2e-16 (muy significativo)\n",
        "\n",
        "- Price:p<2e-16 (muy significativo)\n",
        "\n",
        "- UrbanYes:p=0.936 (no significativo)\n",
        "\n",
        "- USYes:p=4.86e-06 (muy significativo)\n",
        "\n",
        "**Conclusión**: Podemos rechazar la hipótesis nula\n",
        "H\n",
        "0\n",
        "​\n",
        " :β\n",
        "j\n",
        "​\n",
        " =0 para los predictores Price y USYes, ya que sus valores p son muy bajos (menos de 0.05). Esto quiere decir que hay evidencia suficiente para sugerir que Price y USYes"
      ],
      "metadata": {
        "id": "bqKfVjCFshCG"
      }
    },
    {
      "cell_type": "markdown",
      "source": [
        "**(e) Basándote en tu respuesta a la pregunta anterior, ajusta un modelo más pequeño que solo utilice los predictores para los cuales hay evidencia de asociación con el resultado.**\n",
        "\n"
      ],
      "metadata": {
        "id": "cb8x1uM0r25_"
      }
    },
    {
      "cell_type": "code",
      "source": [
        "modelo_reducido <- lm(Sales ~ Price + US, data = Carseats)\n",
        "summary(modelo_reducido)"
      ],
      "metadata": {
        "colab": {
          "base_uri": "https://localhost:8080/",
          "height": 363
        },
        "id": "NlYeRfgJq21c",
        "outputId": "34dee4ea-4854-479e-ef8e-fdea88ef720a"
      },
      "execution_count": null,
      "outputs": [
        {
          "output_type": "display_data",
          "data": {
            "text/plain": [
              "\n",
              "Call:\n",
              "lm(formula = Sales ~ Price + US, data = Carseats)\n",
              "\n",
              "Residuals:\n",
              "    Min      1Q  Median      3Q     Max \n",
              "-6.9269 -1.6286 -0.0574  1.5766  7.0515 \n",
              "\n",
              "Coefficients:\n",
              "            Estimate Std. Error t value Pr(>|t|)    \n",
              "(Intercept) 13.03079    0.63098  20.652  < 2e-16 ***\n",
              "Price       -0.05448    0.00523 -10.416  < 2e-16 ***\n",
              "USYes        1.19964    0.25846   4.641 4.71e-06 ***\n",
              "---\n",
              "Signif. codes:  0 ‘***’ 0.001 ‘**’ 0.01 ‘*’ 0.05 ‘.’ 0.1 ‘ ’ 1\n",
              "\n",
              "Residual standard error: 2.469 on 397 degrees of freedom\n",
              "Multiple R-squared:  0.2393,\tAdjusted R-squared:  0.2354 \n",
              "F-statistic: 62.43 on 2 and 397 DF,  p-value: < 2.2e-16\n"
            ]
          },
          "metadata": {}
        }
      ]
    },
    {
      "cell_type": "markdown",
      "source": [
        "**(f) ¿Qué tan bien se ajustan los modelos en (a) y (e) a los datos?**\n"
      ],
      "metadata": {
        "id": "Bb-O8Pt2r230"
      }
    },
    {
      "cell_type": "markdown",
      "source": [
        "En términos de ajuste, podemos comparar los modelos en (a) y (e) con base en las métricas de ajuste, como el R-cuadrado ajustado y el error estándar residual.\n",
        "\n",
        "\n",
        "---\n",
        "\n",
        "**Modelo (a): Sales ~ Price + Urban + US**\n",
        "\n",
        "**R-cuadrado ajustado:** 0.2335\n",
        "\n",
        "**Error estándar residual:** 2.472\n",
        "\n",
        "---\n",
        "\n",
        "\n",
        "**Modelo (e): Sales ~ Price + US**\n",
        "\n",
        "**R-cuadrado ajustado:** 0.2354\n",
        "\n",
        "**Error estándar residual:** 2.469\n",
        "\n",
        "---\n",
        "\n",
        "\n",
        "Comparación de los modelos\n",
        "**R-cuadrado ajustado:** El modelo (e) tiene un R-cuadrado ajustado de 0.2354, mientras que el modelo (a) tiene un R-cuadrado ajustado de 0.2335. Aunque el modelo (e) explica una fracción marginalmente mayor de la variabilidad en Sales, la diferencia es muy pequeña, lo que sugiere que ambos modelos tienen un poder explicativo similar y ninguno de los dos explica significativamente más variabilidad en Sales.\n",
        "\n",
        "**Error estándar residual**: El modelo (e) tiene un error estándar residual ligeramente menor (2.469 vs. 2.472), lo que sugiere un ajuste un poco más preciso de los datos.\n",
        "\n",
        "\n",
        "---\n",
        "\n",
        "\n",
        "**CONCLUSIÓN**\n",
        "El modelo reducido (e) que solo incluye Price y US ajusta los datos tan bien como el modelo completo (a), e incluso mejor en términos de simplicidad y significancia estadística de los coeficientes. Al excluir Urban, se logra un modelo más parsimonioso sin perder capacidad predictiva significativa."
      ],
      "metadata": {
        "id": "QJzkIUjbsxfr"
      }
    },
    {
      "cell_type": "markdown",
      "source": [
        "**FIN**"
      ],
      "metadata": {
        "id": "j2i34PyZVrg0"
      }
    }
  ]
}