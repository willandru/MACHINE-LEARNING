{
  "nbformat": 4,
  "nbformat_minor": 0,
  "metadata": {
    "colab": {
      "provenance": []
    },
    "kernelspec": {
      "name": "ir",
      "display_name": "R"
    },
    "language_info": {
      "name": "R"
    }
  },
  "cells": [
    {
      "cell_type": "markdown",
      "source": [
        "# Regresión logística"
      ],
      "metadata": {
        "id": "aMdYpr4uGdUR"
      }
    },
    {
      "cell_type": "markdown",
      "source": [
        "## Introducción"
      ],
      "metadata": {
        "id": "B5J9A0zsG2LK"
      }
    },
    {
      "cell_type": "markdown",
      "source": [
        "El objetivo de este archivo es mostrar el desarrollo de regresión logística en el marco de machine learning y el modelo lineal general.\n",
        "\n",
        "Cuando hablamos de regresión logística nos referimos a una tarea de predicción de una variable con múltiples categorías, lo cual es conocido como un problema de clasificación. En particular en este libro de notas nos restringiremos a la regresión logística binaria, en la que los posibles resultados de la variable predictora son solo dos, y se puede pensar en que la respuesta es una variable binomial."
      ],
      "metadata": {
        "id": "68rc1pQtHADJ"
      }
    },
    {
      "cell_type": "markdown",
      "source": [
        "##Data and business understanding"
      ],
      "metadata": {
        "id": "nmCU6GD1HCdf"
      }
    },
    {
      "cell_type": "markdown",
      "source": [
        "Trabajaremos con el contexto del archivo de cartera de empresas. Para mantener los libros de nota modulares, repetiré aquí el contexto:"
      ],
      "metadata": {
        "id": "YTOf-5GJHGSA"
      }
    },
    {
      "cell_type": "code",
      "execution_count": 3,
      "metadata": {
        "id": "ltWNxM6O5IDp",
        "colab": {
          "base_uri": "https://localhost:8080/"
        },
        "outputId": "450a188c-227e-4138-bf4d-b537ac3730ca"
      },
      "outputs": [
        {
          "output_type": "stream",
          "name": "stderr",
          "text": [
            "Loading required package: caret\n",
            "\n",
            "Warning message in library(package, lib.loc = lib.loc, character.only = TRUE, logical.return = TRUE, :\n",
            "“there is no package called ‘caret’”\n",
            "Installing package into ‘/usr/local/lib/R/site-library’\n",
            "(as ‘lib’ is unspecified)\n",
            "\n",
            "also installing the dependencies ‘listenv’, ‘parallelly’, ‘future’, ‘globals’, ‘shape’, ‘future.apply’, ‘numDeriv’, ‘progressr’, ‘SQUAREM’, ‘diagram’, ‘lava’, ‘prodlim’, ‘proxy’, ‘iterators’, ‘clock’, ‘gower’, ‘hardhat’, ‘ipred’, ‘timeDate’, ‘e1071’, ‘foreach’, ‘ModelMetrics’, ‘plyr’, ‘pROC’, ‘recipes’, ‘reshape2’\n",
            "\n",
            "\n",
            "Loading required package: ROCR\n",
            "\n",
            "Warning message in library(package, lib.loc = lib.loc, character.only = TRUE, logical.return = TRUE, :\n",
            "“there is no package called ‘ROCR’”\n",
            "Installing package into ‘/usr/local/lib/R/site-library’\n",
            "(as ‘lib’ is unspecified)\n",
            "\n",
            "also installing the dependencies ‘bitops’, ‘gtools’, ‘caTools’, ‘gplots’\n",
            "\n",
            "\n"
          ]
        }
      ],
      "source": [
        "if (!require('caret')) install.packages('caret')\n",
        "if (!require('ROCR')) install.packages('ROCR')"
      ]
    },
    {
      "cell_type": "code",
      "source": [
        "library(caret)\n",
        "library(ROCR)\n",
        "library(ggplot2)\n",
        "library(readxl)"
      ],
      "metadata": {
        "id": "fKb7FESf8Qiq",
        "colab": {
          "base_uri": "https://localhost:8080/"
        },
        "outputId": "db1dc187-64ae-4891-ebe5-2d96eeae3462"
      },
      "execution_count": 4,
      "outputs": [
        {
          "output_type": "stream",
          "name": "stderr",
          "text": [
            "Loading required package: ggplot2\n",
            "\n",
            "Loading required package: lattice\n",
            "\n"
          ]
        }
      ]
    },
    {
      "cell_type": "code",
      "source": [
        "cartera<-read_excel(\"carteraguia2017.xlsx\")\n",
        "str(cartera)"
      ],
      "metadata": {
        "id": "07pH2iJu5_gp",
        "colab": {
          "base_uri": "https://localhost:8080/"
        },
        "outputId": "378683a2-d150-4efd-f008-445807e4ab88"
      },
      "execution_count": 93,
      "outputs": [
        {
          "output_type": "stream",
          "name": "stdout",
          "text": [
            "tibble [852 × 9] (S3: tbl_df/tbl/data.frame)\n",
            " $ MESES                   : num [1:852] 41 27 40 41 24 41 39 43 24 36 ...\n",
            " $ TIPO_ips                : num [1:852] 3 1 1 1 2 2 1 1 1 1 ...\n",
            " $ IGUAL_DUENO             : num [1:852] 17 10 15 15 2 5 20 12 3 0 ...\n",
            " $ AGNOS_DIRECCION_ACTUAL  : num [1:852] 12 6 14 14 0 5 9 11 4 13 ...\n",
            " $ VENTAS_MENS_PROMEDIO    : num [1:852] 176 31 55 120 28 25 67 38 19 25 ...\n",
            " $ PORC_PASIVOS_VENTA_ANUAL: num [1:852] 9.3 17.3 5.5 2.9 17.3 10.2 30.6 3.6 24.4 19.7 ...\n",
            " $ cartera_actual_insumos_A: num [1:852] 11.359 1.362 0.856 2.659 1.787 ...\n",
            " $ cartera_actual_insumos_B: num [1:852] 5.009 4.001 2.169 0.821 3.057 ...\n",
            " $ retrasos                : num [1:852] 1 0 0 0 1 0 0 0 1 0 ...\n"
          ]
        }
      ]
    },
    {
      "cell_type": "markdown",
      "source": [
        "El archivo contiene datos de clientes de un proveedor de instituciones de salud (IPS), la cartera que presentan y si se han retrasado o no. Se trata entonces de un negocio B2B en el sector de la salud que desea predecir o averiguar indicadores de posibles aumentos y retrasos en su cartera\n",
        "\n",
        "Entre las variables predictoras se incluyen:\n",
        "\n",
        "\n",
        "*   Tipo_IPS: De 1 a5, el nivel de complejidad de la institución de salud cliente (1=bajo, 5=alto)\n",
        "\n",
        "*   MESES: Los meses que la empresa lleva siendo clientes del proveedor.\n",
        "\n",
        "*   IGUAL_DUEÑO: Número de años en que la IPS ha tenido el mismo dueño.\n",
        "\n",
        "*   AGNOS_DIRECCION_ACTUAL: Número de años en que la IPS ha estado en la misma dirección.\n",
        "\n",
        "*   VENTAS_MENS_PROMEDIO: Valor de ventas mensuales promedio de la IPS en millones de pesos.\n",
        "\n",
        "*   PORC_PASIVOS_VENTA_ANUAL: Porcentaje de pasivos/ venta anual del último balance disponible.\n",
        "\n",
        "\n",
        "*   CARTERA_ACTUAL_INSUMOS_A: Valor de la deuda con el proveedor en insumos de alta rotación (gasa, jeringas, por ejemplo) en millones de pesos.\n",
        "\n",
        "*   CARTERA_ACTUAL_INSUMOS_B: Valor de la deuda con el proveedor en insumos de baja rotación (equipos, instrumentos, por ejemplo) en millones de pesos.\n",
        "\n",
        "\n",
        "\n",
        "La variable a predecir son los RETRASOS, que indican sí el cliente se ha retrasado o no, siendo 1=sí y 0=No."
      ],
      "metadata": {
        "id": "0BqJhky2HYaj"
      }
    },
    {
      "cell_type": "markdown",
      "source": [
        "##Data preparation"
      ],
      "metadata": {
        "id": "4fZgiOm2Hcef"
      }
    },
    {
      "cell_type": "markdown",
      "source": [
        "Primero vamos a convertir a factores las dos variables que lo requieren: Tipo IPS y retrasos. También vamos a crear variables binarias para los tipos de IPS y luego retirar la variable TIPO IPS."
      ],
      "metadata": {
        "id": "gmjq_yuGHeDB"
      }
    },
    {
      "cell_type": "code",
      "source": [
        "cartera$TIPOips<-as.factor(cartera$TIPO_ips)"
      ],
      "metadata": {
        "id": "Gz9XZ9i6HagQ"
      },
      "execution_count": 94,
      "outputs": []
    },
    {
      "cell_type": "code",
      "source": [
        "carterawin<-dummyVars(\"~.\",data=cartera)\n",
        "carterafin<-as.data.frame(predict(carterawin,newdata=cartera))\n",
        "carterafin2<-within(carterafin,rm(TIPOips.5,TIPO_ips))\n",
        "carterafin2$retrasos<-as.factor(carterafin2$retrasos)\n",
        "str(carterafin2)"
      ],
      "metadata": {
        "id": "7uBRkdZJ8Oki",
        "colab": {
          "base_uri": "https://localhost:8080/"
        },
        "outputId": "dc2b9e57-d832-4bf9-a69d-1c08f7990443"
      },
      "execution_count": 95,
      "outputs": [
        {
          "output_type": "stream",
          "name": "stdout",
          "text": [
            "'data.frame':\t852 obs. of  12 variables:\n",
            " $ MESES                   : num  41 27 40 41 24 41 39 43 24 36 ...\n",
            " $ IGUAL_DUENO             : num  17 10 15 15 2 5 20 12 3 0 ...\n",
            " $ AGNOS_DIRECCION_ACTUAL  : num  12 6 14 14 0 5 9 11 4 13 ...\n",
            " $ VENTAS_MENS_PROMEDIO    : num  176 31 55 120 28 25 67 38 19 25 ...\n",
            " $ PORC_PASIVOS_VENTA_ANUAL: num  9.3 17.3 5.5 2.9 17.3 10.2 30.6 3.6 24.4 19.7 ...\n",
            " $ cartera_actual_insumos_A: num  11.359 1.362 0.856 2.659 1.787 ...\n",
            " $ cartera_actual_insumos_B: num  5.009 4.001 2.169 0.821 3.057 ...\n",
            " $ retrasos                : Factor w/ 2 levels \"0\",\"1\": 2 1 1 1 2 1 1 1 2 1 ...\n",
            " $ TIPOips.1               : num  0 1 1 1 0 0 1 1 1 1 ...\n",
            " $ TIPOips.2               : num  0 0 0 0 1 1 0 0 0 0 ...\n",
            " $ TIPOips.3               : num  1 0 0 0 0 0 0 0 0 0 ...\n",
            " $ TIPOips.4               : num  0 0 0 0 0 0 0 0 0 0 ...\n"
          ]
        }
      ]
    },
    {
      "cell_type": "markdown",
      "source": [
        "Si se desea se puede realizar una exploración básica de las variables independientes antes de separarlas en bases de entrenamiento y validación, lo que se deja al lector.\n",
        "\n",
        "De todos modos, es importante ver la proporción de retrasos vs. no retrasos. En caso de que una de las clases, usualmente la clase que más interesa predecir, tenga un porcentaje mucho menor que la otra (digamos, menos del 20%) es necesario un balanceo de la base de datos."
      ],
      "metadata": {
        "id": "vYZrz0wdHoWv"
      }
    },
    {
      "cell_type": "code",
      "source": [
        "balance<-table(cartera$retrasos)\n",
        "prop.table(balance)"
      ],
      "metadata": {
        "id": "HosRaryq8ZZL",
        "colab": {
          "base_uri": "https://localhost:8080/",
          "height": 69
        },
        "outputId": "a31c647e-7460-405d-c605-3c1f7caf5a07"
      },
      "execution_count": 96,
      "outputs": [
        {
          "output_type": "display_data",
          "data": {
            "text/plain": [
              "\n",
              "        0         1 \n",
              "0.7734742 0.2265258 "
            ]
          },
          "metadata": {}
        }
      ]
    },
    {
      "cell_type": "markdown",
      "source": [
        "Incialmente no es necesario un balanceo, pero podemos considerarlo más adelante si queremos que el algoritmo “aprenda” más sobre los retrasos.\n",
        "\n",
        "Creemos bases de entrenamiento y validación"
      ],
      "metadata": {
        "id": "QXBN_kV7IVFf"
      }
    },
    {
      "cell_type": "code",
      "source": [
        "set.seed(1)\n",
        "#aquí se define el tamaño de la muestra, en este caso entrenamiento tendrá el 75% de los casos"
      ],
      "metadata": {
        "id": "MuMctzvi8dL0"
      },
      "execution_count": 97,
      "outputs": []
    },
    {
      "cell_type": "code",
      "source": [
        "sample <- sample.int(nrow(carterafin2), floor(.75*nrow(carterafin2)))\n",
        "cartera.train <- carterafin2[sample, ]\n",
        "cartera.test <- carterafin2[-sample, ]"
      ],
      "metadata": {
        "id": "0hTZmfM684tL"
      },
      "execution_count": 98,
      "outputs": []
    },
    {
      "cell_type": "code",
      "source": [
        "str(cartera.train)"
      ],
      "metadata": {
        "colab": {
          "base_uri": "https://localhost:8080/"
        },
        "id": "tSldzs_Yw_sl",
        "outputId": "590c85ea-329e-402a-a733-b6189f2369b1"
      },
      "execution_count": 99,
      "outputs": [
        {
          "output_type": "stream",
          "name": "stdout",
          "text": [
            "'data.frame':\t639 obs. of  12 variables:\n",
            " $ MESES                   : num  28 40 21 25 21 25 39 40 36 35 ...\n",
            " $ IGUAL_DUENO             : num  10 6 5 9 2 4 19 14 11 10 ...\n",
            " $ AGNOS_DIRECCION_ACTUAL  : num  1 9 1 2 0 5 16 21 12 16 ...\n",
            " $ VENTAS_MENS_PROMEDIO    : num  42 36 25 20 20 27 45 43 44 39 ...\n",
            " $ PORC_PASIVOS_VENTA_ANUAL: num  8.6 2.1 9 3.5 4.5 5 3.7 15 14.7 5.7 ...\n",
            " $ cartera_actual_insumos_A: num  1.047 0.391 0.367 0.105 0.291 ...\n",
            " $ cartera_actual_insumos_B: num  2.565 0.365 1.883 0.595 0.609 ...\n",
            " $ retrasos                : Factor w/ 2 levels \"0\",\"1\": 1 2 1 1 2 2 1 2 1 1 ...\n",
            " $ TIPOips.1               : num  1 1 1 1 0 0 1 1 0 1 ...\n",
            " $ TIPOips.2               : num  0 0 0 0 1 1 0 0 0 0 ...\n",
            " $ TIPOips.3               : num  0 0 0 0 0 0 0 0 1 0 ...\n",
            " $ TIPOips.4               : num  0 0 0 0 0 0 0 0 0 0 ...\n"
          ]
        }
      ]
    },
    {
      "cell_type": "markdown",
      "source": [
        "## Modelling"
      ],
      "metadata": {
        "id": "2LyxkToDIZH_"
      }
    },
    {
      "cell_type": "markdown",
      "source": [
        "Ahora podemos hacer un modelo de regresión logística basado en pasos sucesivos:"
      ],
      "metadata": {
        "id": "QGpnrWb_Ibso"
      }
    },
    {
      "cell_type": "code",
      "source": [
        "##Modelo\n",
        "set.seed(1)\n",
        "modelo.logit<-glm(retrasos~.,family=binomial,cartera.train)\n",
        "#trace=0 impide ver todos los detalles de la optimización stepwise\n",
        "steplogit<-step(modelo.logit, direction=\"both\")\n",
        "summary(steplogit)"
      ],
      "metadata": {
        "id": "eof2GeZ788I9",
        "colab": {
          "base_uri": "https://localhost:8080/",
          "height": 1000
        },
        "outputId": "8b912dd4-5b3a-4cbd-bef5-db12370970d8"
      },
      "execution_count": 100,
      "outputs": [
        {
          "output_type": "stream",
          "name": "stdout",
          "text": [
            "Start:  AIC=510.69\n",
            "retrasos ~ MESES + IGUAL_DUENO + AGNOS_DIRECCION_ACTUAL + VENTAS_MENS_PROMEDIO + \n",
            "    PORC_PASIVOS_VENTA_ANUAL + cartera_actual_insumos_A + cartera_actual_insumos_B + \n",
            "    TIPOips.1 + TIPOips.2 + TIPOips.3 + TIPOips.4\n",
            "\n",
            "                           Df Deviance    AIC\n",
            "- cartera_actual_insumos_B  1   486.88 508.88\n",
            "- TIPOips.3                 1   487.36 509.36\n",
            "- TIPOips.2                 1   487.40 509.40\n",
            "- TIPOips.1                 1   487.68 509.68\n",
            "- MESES                     1   487.85 509.85\n",
            "- VENTAS_MENS_PROMEDIO      1   487.98 509.98\n",
            "- TIPOips.4                 1   488.34 510.34\n",
            "<none>                          486.69 510.69\n",
            "- AGNOS_DIRECCION_ACTUAL    1   494.80 516.80\n",
            "- PORC_PASIVOS_VENTA_ANUAL  1   497.78 519.78\n",
            "- cartera_actual_insumos_A  1   519.74 541.74\n",
            "- IGUAL_DUENO               1   540.85 562.85\n",
            "\n",
            "Step:  AIC=508.88\n",
            "retrasos ~ MESES + IGUAL_DUENO + AGNOS_DIRECCION_ACTUAL + VENTAS_MENS_PROMEDIO + \n",
            "    PORC_PASIVOS_VENTA_ANUAL + cartera_actual_insumos_A + TIPOips.1 + \n",
            "    TIPOips.2 + TIPOips.3 + TIPOips.4\n",
            "\n",
            "                           Df Deviance    AIC\n",
            "- TIPOips.3                 1   487.50 507.50\n",
            "- TIPOips.2                 1   487.55 507.55\n",
            "- TIPOips.1                 1   487.84 507.84\n",
            "- VENTAS_MENS_PROMEDIO      1   488.02 508.02\n",
            "- MESES                     1   488.14 508.14\n",
            "- TIPOips.4                 1   488.48 508.48\n",
            "<none>                          486.88 508.88\n",
            "+ cartera_actual_insumos_B  1   486.69 510.69\n",
            "- AGNOS_DIRECCION_ACTUAL    1   495.09 515.09\n",
            "- PORC_PASIVOS_VENTA_ANUAL  1   514.77 534.77\n",
            "- cartera_actual_insumos_A  1   520.05 540.05\n",
            "- IGUAL_DUENO               1   541.65 561.65\n",
            "\n",
            "Step:  AIC=507.5\n",
            "retrasos ~ MESES + IGUAL_DUENO + AGNOS_DIRECCION_ACTUAL + VENTAS_MENS_PROMEDIO + \n",
            "    PORC_PASIVOS_VENTA_ANUAL + cartera_actual_insumos_A + TIPOips.1 + \n",
            "    TIPOips.2 + TIPOips.4\n",
            "\n",
            "                           Df Deviance    AIC\n",
            "- TIPOips.2                 1   487.55 505.55\n",
            "- VENTAS_MENS_PROMEDIO      1   488.27 506.27\n",
            "- TIPOips.1                 1   488.37 506.37\n",
            "- MESES                     1   488.84 506.84\n",
            "<none>                          487.50 507.50\n",
            "- TIPOips.4                 1   489.94 507.94\n",
            "+ TIPOips.3                 1   486.88 508.88\n",
            "+ cartera_actual_insumos_B  1   487.36 509.36\n",
            "- AGNOS_DIRECCION_ACTUAL    1   495.69 513.69\n",
            "- PORC_PASIVOS_VENTA_ANUAL  1   516.23 534.23\n",
            "- cartera_actual_insumos_A  1   520.20 538.20\n",
            "- IGUAL_DUENO               1   543.61 561.61\n",
            "\n",
            "Step:  AIC=505.55\n",
            "retrasos ~ MESES + IGUAL_DUENO + AGNOS_DIRECCION_ACTUAL + VENTAS_MENS_PROMEDIO + \n",
            "    PORC_PASIVOS_VENTA_ANUAL + cartera_actual_insumos_A + TIPOips.1 + \n",
            "    TIPOips.4\n",
            "\n",
            "                           Df Deviance    AIC\n",
            "- VENTAS_MENS_PROMEDIO      1   488.28 504.28\n",
            "- TIPOips.1                 1   488.80 504.80\n",
            "- MESES                     1   488.94 504.94\n",
            "<none>                          487.55 505.55\n",
            "- TIPOips.4                 1   490.18 506.18\n",
            "+ cartera_actual_insumos_B  1   487.40 507.40\n",
            "+ TIPOips.2                 1   487.50 507.50\n",
            "+ TIPOips.3                 1   487.55 507.55\n",
            "- AGNOS_DIRECCION_ACTUAL    1   495.73 511.73\n",
            "- PORC_PASIVOS_VENTA_ANUAL  1   516.40 532.40\n",
            "- cartera_actual_insumos_A  1   520.27 536.27\n",
            "- IGUAL_DUENO               1   544.34 560.34\n",
            "\n",
            "Step:  AIC=504.28\n",
            "retrasos ~ MESES + IGUAL_DUENO + AGNOS_DIRECCION_ACTUAL + PORC_PASIVOS_VENTA_ANUAL + \n",
            "    cartera_actual_insumos_A + TIPOips.1 + TIPOips.4\n",
            "\n",
            "                           Df Deviance    AIC\n",
            "- TIPOips.1                 1   489.21 503.21\n",
            "- MESES                     1   489.39 503.39\n",
            "<none>                          488.28 504.28\n",
            "- TIPOips.4                 1   491.53 505.53\n",
            "+ VENTAS_MENS_PROMEDIO      1   487.55 505.55\n",
            "+ cartera_actual_insumos_B  1   488.26 506.26\n",
            "+ TIPOips.2                 1   488.27 506.27\n",
            "+ TIPOips.3                 1   488.28 506.28\n",
            "- AGNOS_DIRECCION_ACTUAL    1   496.56 510.56\n",
            "- PORC_PASIVOS_VENTA_ANUAL  1   527.59 541.59\n",
            "- cartera_actual_insumos_A  1   527.73 541.73\n",
            "- IGUAL_DUENO               1   555.14 569.14\n",
            "\n",
            "Step:  AIC=503.21\n",
            "retrasos ~ MESES + IGUAL_DUENO + AGNOS_DIRECCION_ACTUAL + PORC_PASIVOS_VENTA_ANUAL + \n",
            "    cartera_actual_insumos_A + TIPOips.4\n",
            "\n",
            "                           Df Deviance    AIC\n",
            "- MESES                     1   490.15 502.15\n",
            "<none>                          489.21 503.21\n",
            "- TIPOips.4                 1   491.92 503.92\n",
            "+ TIPOips.1                 1   488.28 504.28\n",
            "+ VENTAS_MENS_PROMEDIO      1   488.80 504.80\n",
            "+ TIPOips.2                 1   488.82 504.82\n",
            "+ TIPOips.3                 1   489.08 505.08\n",
            "+ cartera_actual_insumos_B  1   489.21 505.21\n",
            "- AGNOS_DIRECCION_ACTUAL    1   497.02 509.02\n",
            "- PORC_PASIVOS_VENTA_ANUAL  1   527.88 539.88\n",
            "- cartera_actual_insumos_A  1   531.42 543.42\n",
            "- IGUAL_DUENO               1   561.98 573.98\n",
            "\n",
            "Step:  AIC=502.15\n",
            "retrasos ~ IGUAL_DUENO + AGNOS_DIRECCION_ACTUAL + PORC_PASIVOS_VENTA_ANUAL + \n",
            "    cartera_actual_insumos_A + TIPOips.4\n",
            "\n",
            "                           Df Deviance    AIC\n",
            "<none>                          490.15 502.15\n",
            "- TIPOips.4                 1   492.90 502.90\n",
            "+ MESES                     1   489.21 503.21\n",
            "+ TIPOips.1                 1   489.39 503.39\n",
            "+ TIPOips.2                 1   489.90 503.90\n",
            "+ VENTAS_MENS_PROMEDIO      1   489.91 503.91\n",
            "+ TIPOips.3                 1   490.00 504.00\n",
            "+ cartera_actual_insumos_B  1   490.12 504.12\n",
            "- AGNOS_DIRECCION_ACTUAL    1   497.25 507.25\n",
            "- PORC_PASIVOS_VENTA_ANUAL  1   528.68 538.68\n",
            "- cartera_actual_insumos_A  1   532.29 542.29\n",
            "- IGUAL_DUENO               1   569.00 579.00\n"
          ]
        },
        {
          "output_type": "display_data",
          "data": {
            "text/plain": [
              "\n",
              "Call:\n",
              "glm(formula = retrasos ~ IGUAL_DUENO + AGNOS_DIRECCION_ACTUAL + \n",
              "    PORC_PASIVOS_VENTA_ANUAL + cartera_actual_insumos_A + TIPOips.4, \n",
              "    family = binomial, data = cartera.train)\n",
              "\n",
              "Coefficients:\n",
              "                         Estimate Std. Error z value Pr(>|z|)    \n",
              "(Intercept)              -1.36811    0.27505  -4.974 6.55e-07 ***\n",
              "IGUAL_DUENO              -0.22511    0.03003  -7.495 6.62e-14 ***\n",
              "AGNOS_DIRECCION_ACTUAL   -0.05355    0.02070  -2.587  0.00968 ** \n",
              "PORC_PASIVOS_VENTA_ANUAL  0.11783    0.01952   6.036 1.58e-09 ***\n",
              "cartera_actual_insumos_A  0.46515    0.08036   5.789 7.09e-09 ***\n",
              "TIPOips.4                -0.79677    0.49327  -1.615  0.10625    \n",
              "---\n",
              "Signif. codes:  0 ‘***’ 0.001 ‘**’ 0.01 ‘*’ 0.05 ‘.’ 0.1 ‘ ’ 1\n",
              "\n",
              "(Dispersion parameter for binomial family taken to be 1)\n",
              "\n",
              "    Null deviance: 701.13  on 638  degrees of freedom\n",
              "Residual deviance: 490.15  on 633  degrees of freedom\n",
              "AIC: 502.15\n",
              "\n",
              "Number of Fisher Scoring iterations: 6\n"
            ]
          },
          "metadata": {}
        }
      ]
    },
    {
      "cell_type": "markdown",
      "source": [
        "Los coeficientes de la regresión logística pueden ser sujeto de interpretación en términos de odd ratios."
      ],
      "metadata": {
        "id": "bpuxlP8NI9p-"
      }
    },
    {
      "cell_type": "code",
      "source": [
        "coeficientes<-steplogit$coefficients\n",
        "odd_change<-exp(coeficientes)\n",
        "odd_change_ver<-as.data.frame(odd_change)\n",
        "odd_change_ver"
      ],
      "metadata": {
        "id": "3IW3pXpf8-0z",
        "colab": {
          "base_uri": "https://localhost:8080/",
          "height": 286
        },
        "outputId": "e9ed2ded-a558-48c9-bda6-85487098b07e"
      },
      "execution_count": 101,
      "outputs": [
        {
          "output_type": "display_data",
          "data": {
            "text/html": [
              "<table class=\"dataframe\">\n",
              "<caption>A data.frame: 6 × 1</caption>\n",
              "<thead>\n",
              "\t<tr><th></th><th scope=col>odd_change</th></tr>\n",
              "\t<tr><th></th><th scope=col>&lt;dbl&gt;</th></tr>\n",
              "</thead>\n",
              "<tbody>\n",
              "\t<tr><th scope=row>(Intercept)</th><td>0.2545877</td></tr>\n",
              "\t<tr><th scope=row>IGUAL_DUENO</th><td>0.7984315</td></tr>\n",
              "\t<tr><th scope=row>AGNOS_DIRECCION_ACTUAL</th><td>0.9478609</td></tr>\n",
              "\t<tr><th scope=row>PORC_PASIVOS_VENTA_ANUAL</th><td>1.1250584</td></tr>\n",
              "\t<tr><th scope=row>cartera_actual_insumos_A</th><td>1.5922555</td></tr>\n",
              "\t<tr><th scope=row>TIPOips.4</th><td>0.4507826</td></tr>\n",
              "</tbody>\n",
              "</table>\n"
            ],
            "text/markdown": "\nA data.frame: 6 × 1\n\n| <!--/--> | odd_change &lt;dbl&gt; |\n|---|---|\n| (Intercept) | 0.2545877 |\n| IGUAL_DUENO | 0.7984315 |\n| AGNOS_DIRECCION_ACTUAL | 0.9478609 |\n| PORC_PASIVOS_VENTA_ANUAL | 1.1250584 |\n| cartera_actual_insumos_A | 1.5922555 |\n| TIPOips.4 | 0.4507826 |\n\n",
            "text/latex": "A data.frame: 6 × 1\n\\begin{tabular}{r|l}\n  & odd\\_change\\\\\n  & <dbl>\\\\\n\\hline\n\t(Intercept) & 0.2545877\\\\\n\tIGUAL\\_DUENO & 0.7984315\\\\\n\tAGNOS\\_DIRECCION\\_ACTUAL & 0.9478609\\\\\n\tPORC\\_PASIVOS\\_VENTA\\_ANUAL & 1.1250584\\\\\n\tcartera\\_actual\\_insumos\\_A & 1.5922555\\\\\n\tTIPOips.4 & 0.4507826\\\\\n\\end{tabular}\n",
            "text/plain": [
              "                         odd_change\n",
              "(Intercept)              0.2545877 \n",
              "IGUAL_DUENO              0.7984315 \n",
              "AGNOS_DIRECCION_ACTUAL   0.9478609 \n",
              "PORC_PASIVOS_VENTA_ANUAL 1.1250584 \n",
              "cartera_actual_insumos_A 1.5922555 \n",
              "TIPOips.4                0.4507826 "
            ]
          },
          "metadata": {}
        }
      ]
    },
    {
      "cell_type": "markdown",
      "source": [
        "### odd ratios"
      ],
      "metadata": {
        "id": "MTTCK0tEJDmV"
      }
    },
    {
      "cell_type": "markdown",
      "source": [
        "Los coeficientes, denominados odd ratios indican que:\n",
        "\n",
        "Cada año con el mismo dueño, dejando todas las demás variables constantes, reduce al 79.84% el odd base de que el cliente incumpla, es decir, reduce la probabilidad de incumplimiento (la reducción exacta en probabilidad la veremos más adelante).\n",
        "\n",
        "Cada año en la dirección actual reduce el odd base al 94.78%.\n",
        "\n",
        "En la otra dirección están las variables que aumentan el incumplimiento: Por cada punto porcentual de pasivo/venta anual aumenta el odd base en 12.5%, mientras que cada millon que le adeudan al proveedor en cartera de baja rotación (A) aumenta el odd base de incumplimiento en 59.22%.\n",
        "\n",
        "Para entender mejor los odd ratios es necesario primero tener clara la tasa base. Ese valor es la proporción de éxitos en la base de datos (en este caso siendo éxito un retraso). Esto ya lo obtuvimos en la tabla vista previamente y que aquí repetimos. De allí, podemos calcular un odd base."
      ],
      "metadata": {
        "id": "8uSX-Fg7JFkH"
      }
    },
    {
      "cell_type": "code",
      "source": [
        "#Odd ratios\n",
        "balance<-table(cartera$retrasos)\n",
        "prop.table(balance)\n",
        "oddbase<-prop.table(balance)[2]/prop.table(balance)[1]\n",
        "oddbase"
      ],
      "metadata": {
        "id": "t-yi26O09DBr",
        "colab": {
          "base_uri": "https://localhost:8080/",
          "height": 86
        },
        "outputId": "fd75511b-e4e0-4398-d81f-020e6a1dea77"
      },
      "execution_count": 102,
      "outputs": [
        {
          "output_type": "display_data",
          "data": {
            "text/plain": [
              "\n",
              "        0         1 \n",
              "0.7734742 0.2265258 "
            ]
          },
          "metadata": {}
        },
        {
          "output_type": "display_data",
          "data": {
            "text/html": [
              "<strong>1:</strong> 0.292867981790592"
            ],
            "text/markdown": "**1:** 0.292867981790592",
            "text/latex": "\\textbf{1:} 0.292867981790592",
            "text/plain": [
              "       1 \n",
              "0.292868 "
            ]
          },
          "metadata": {}
        }
      ]
    },
    {
      "cell_type": "markdown",
      "source": [
        "Si el odd base es de 0.29 (y la probabilidad inicial de incumplimiento de 22.65%), podemos multiplicar los odd ratios por esa tase base y luego convertirla a probabilidad:"
      ],
      "metadata": {
        "id": "B__avHh4JKgF"
      }
    },
    {
      "cell_type": "code",
      "source": [
        "oddfin<-oddbase*odd_change\n",
        "prob1step<-as.data.frame(oddfin/(1+oddfin))\n",
        "View(prob1step)"
      ],
      "metadata": {
        "id": "gZDgzBnb9ElR",
        "colab": {
          "base_uri": "https://localhost:8080/",
          "height": 286
        },
        "outputId": "a7d29322-3e2a-44fd-da24-5add3746e666"
      },
      "execution_count": 103,
      "outputs": [
        {
          "output_type": "display_data",
          "data": {
            "text/plain": [
              "                         oddfin/(1 + oddfin)\n",
              "(Intercept)              0.06938705         \n",
              "IGUAL_DUENO              0.18951887         \n",
              "AGNOS_DIRECCION_ACTUAL   0.21728125         \n",
              "PORC_PASIVOS_VENTA_ANUAL 0.24783390         \n",
              "cartera_actual_insumos_A 0.31802093         \n",
              "TIPOips.4                0.11662321         "
            ],
            "text/html": [
              "<table class=\"dataframe\">\n",
              "<caption>A data.frame: 6 × 1</caption>\n",
              "<thead>\n",
              "\t<tr><th></th><th scope=col>oddfin/(1 + oddfin)</th></tr>\n",
              "\t<tr><th></th><th scope=col>&lt;dbl&gt;</th></tr>\n",
              "</thead>\n",
              "<tbody>\n",
              "\t<tr><th scope=row>(Intercept)</th><td>0.06938705</td></tr>\n",
              "\t<tr><th scope=row>IGUAL_DUENO</th><td>0.18951887</td></tr>\n",
              "\t<tr><th scope=row>AGNOS_DIRECCION_ACTUAL</th><td>0.21728125</td></tr>\n",
              "\t<tr><th scope=row>PORC_PASIVOS_VENTA_ANUAL</th><td>0.24783390</td></tr>\n",
              "\t<tr><th scope=row>cartera_actual_insumos_A</th><td>0.31802093</td></tr>\n",
              "\t<tr><th scope=row>TIPOips.4</th><td>0.11662321</td></tr>\n",
              "</tbody>\n",
              "</table>\n"
            ],
            "text/markdown": "\nA data.frame: 6 × 1\n\n| <!--/--> | oddfin/(1 + oddfin) &lt;dbl&gt; |\n|---|---|\n| (Intercept) | 0.06938705 |\n| IGUAL_DUENO | 0.18951887 |\n| AGNOS_DIRECCION_ACTUAL | 0.21728125 |\n| PORC_PASIVOS_VENTA_ANUAL | 0.24783390 |\n| cartera_actual_insumos_A | 0.31802093 |\n| TIPOips.4 | 0.11662321 |\n\n",
            "text/latex": "A data.frame: 6 × 1\n\\begin{tabular}{r|l}\n  & oddfin/(1 + oddfin)\\\\\n  & <dbl>\\\\\n\\hline\n\t(Intercept) & 0.06938705\\\\\n\tIGUAL\\_DUENO & 0.18951887\\\\\n\tAGNOS\\_DIRECCION\\_ACTUAL & 0.21728125\\\\\n\tPORC\\_PASIVOS\\_VENTA\\_ANUAL & 0.24783390\\\\\n\tcartera\\_actual\\_insumos\\_A & 0.31802093\\\\\n\tTIPOips.4 & 0.11662321\\\\\n\\end{tabular}\n"
          },
          "metadata": {}
        }
      ]
    },
    {
      "cell_type": "markdown",
      "source": [
        "De ese modo vemos que aumentar un año el cliente en la dirección actual (con todo lo demás constante) reduce la probabilidad de incumplimiento al 18.95%, mientras que el primer millón adicional de cartera en insumos A la aumenta al 33.43%."
      ],
      "metadata": {
        "id": "2rDxMxyOJOhY"
      }
    },
    {
      "cell_type": "markdown",
      "source": [
        "## Evaluación"
      ],
      "metadata": {
        "id": "rtgq4ov2JS9e"
      }
    },
    {
      "cell_type": "markdown",
      "source": [
        "Para la evaluación de un problema de clasificación se utilizan con mucha frecuencia las matrices de confusión, que permiten ver la precision y la exhaustividad (precision and recall)\n",
        "\n",
        "Las haremos suponiendo que una predicción superior a 0.5 indica incumplimiento, y una predicción inferior o igual a 0.5 indica cumplimiento"
      ],
      "metadata": {
        "id": "EuwkVVV3JiC1"
      }
    },
    {
      "cell_type": "code",
      "source": [
        "steplogit$fitted.values"
      ],
      "metadata": {
        "colab": {
          "base_uri": "https://localhost:8080/",
          "height": 1000
        },
        "id": "db-AsPMXKvKo",
        "outputId": "1b89ef6f-02ee-478a-8f5c-1b471070d3a3"
      },
      "execution_count": 16,
      "outputs": [
        {
          "output_type": "display_data",
          "data": {
            "text/html": [
              "<style>\n",
              ".dl-inline {width: auto; margin:0; padding: 0}\n",
              ".dl-inline>dt, .dl-inline>dd {float: none; width: auto; display: inline-block}\n",
              ".dl-inline>dt::after {content: \":\\0020\"; padding-right: .5ex}\n",
              ".dl-inline>dt:not(:first-of-type) {padding-left: .5ex}\n",
              "</style><dl class=dl-inline><dt>836</dt><dd>0.102283951504015</dd><dt>679</dt><dd>0.0588885433404756</dd><dt>129</dt><dd>0.21147137125878</dd><dt>509</dt><dd>0.0456556728185116</dd><dt>471</dt><dd>0.239969766207655</dd><dt>299</dt><dd>0.155576124573328</dd><dt>270</dt><dd>0.00354052354847071</dd><dt>187</dt><dd>0.0706025844672468</dd><dt>307</dt><dd>0.0726229158519972</dd><dt>597</dt><dd>0.024057982828861</dd><dt>277</dt><dd>0.548909447712938</dd><dt>494</dt><dd>0.97100707300742</dd><dt>330</dt><dd>0.151627822009207</dd><dt>775</dt><dd>0.605952517774546</dd><dt>591</dt><dd>0.198478777342237</dd><dt>725</dt><dd>0.000247505430713752</dd><dt>37</dt><dd>0.217467385650209</dd><dt>105</dt><dd>0.53600490919084</dd><dt>729</dt><dd>0.0394558965582666</dd><dt>485</dt><dd>0.0942399161003873</dd><dt>677</dt><dd>0.000983336770207119</dd><dt>802</dt><dd>0.333899781300611</dd><dt>382</dt><dd>0.751704031115646</dd><dt>601</dt><dd>0.96901924906935</dd><dt>801</dt><dd>0.437644508896267</dd><dt>326</dt><dd>0.90667864735169</dd><dt>840</dt><dd>0.00837981865144959</dd><dt>554</dt><dd>0.621506975230737</dd><dt>422</dt><dd>0.496992612195709</dd><dt>111</dt><dd>0.214951834220401</dd><dt>404</dt><dd>0.249762101111654</dd><dt>532</dt><dd>0.252693089753337</dd><dt>506</dt><dd>0.702960221358022</dd><dt>556</dt><dd>0.00237699802392732</dd><dt>343</dt><dd>0.00676963666881257</dd><dt>582</dt><dd>0.200691365888674</dd><dt>121</dt><dd>0.0361289566682637</dd><dt>40</dt><dd>0.00233234135647441</dd><dt>684</dt><dd>0.142541133198679</dd><dt>537</dt><dd>0.190133536713517</dd><dt>375</dt><dd>0.00156694564204417</dd><dt>248</dt><dd>0.390511197843122</dd><dt>198</dt><dd>0.0172197896298698</dd><dt>378</dt><dd>0.324548161286007</dd><dt>39</dt><dd>0.649242222345874</dd><dt>435</dt><dd>0.551501157952724</dd><dt>390</dt><dd>0.026543461826461</dd><dt>280</dt><dd>0.0819025919173736</dd><dt>672</dt><dd>0.221223586917962</dd><dt>526</dt><dd>0.243535307836758</dd><dt>642</dt><dd>0.139539585558191</dd><dt>45</dt><dd>0.414914401426554</dd><dt>402</dt><dd>0.414467394388538</dd><dt>22</dt><dd>0.0045583109093274</dd><dt>718</dt><dd>0.869950224476852</dd><dt>742</dt><dd>0.514444081859682</dd><dt>193</dt><dd>0.127844428750522</dd><dt>371</dt><dd>0.0531481781415245</dd><dt>499</dt><dd>0.107281576190554</dd><dt>104</dt><dd>0.00338850890309141</dd><dt>827</dt><dd>0.444592408321456</dd><dt>767</dt><dd>0.0382672651750712</dd><dt>492</dt><dd>0.0114279311664632</dd><dt>616</dt><dd>0.0793164334951036</dd><dt>615</dt><dd>0.00952931822895215</dd><dt>465</dt><dd>0.076978250497699</dd><dt>525</dt><dd>0.004902388110531</dd><dt>834</dt><dd>0.00891994443878804</dd><dt>176</dt><dd>0.236879568179927</dd><dt>345</dt><dd>0.124341149176607</dd><dt>110</dt><dd>0.0847123407158533</dd><dt>84</dt><dd>0.145763354074744</dd><dt>29</dt><dd>0.29008405446938</dd><dt>141</dt><dd>0.706682287860976</dd><dt>252</dt><dd>0.335591421985124</dd><dt>733</dt><dd>0.00917154449947991</dd><dt>620</dt><dd>0.433368846291024</dd><dt>304</dt><dd>0.103139933368994</dd><dt>545</dt><dd>0.793286890198534</dd><dt>557</dt><dd>0.094411837371183</dd><dt>661</dt><dd>0.167190129790167</dd><dt>287</dt><dd>0.043908871372587</dd><dt>614</dt><dd>0.478098441415078</dd><dt>145</dt><dd>0.00646140795490532</dd><dt>329</dt><dd>0.267716155427005</dd><dt>487</dt><dd>0.135228456132893</dd><dt>630</dt><dd>0.661349457288393</dd><dt>498</dt><dd>0.0880611600036988</dd><dt>619</dt><dd>0.0925082890786636</dd><dt>576</dt><dd>0.911136442163174</dd><dt>490</dt><dd>0.612788765802043</dd><dt>736</dt><dd>0.0236958969483122</dd><dt>103</dt><dd>0.0759249130559348</dd><dt>316</dt><dd>0.311940260907983</dd><dt>51</dt><dd>0.341649393671266</dd><dt>777</dt><dd>0.243718811873669</dd><dt>290</dt><dd>0.0446473473355265</dd><dt>650</dt><dd>0.0107960434924753</dd><dt>850</dt><dd>0.255603715687282</dd><dt>282</dt><dd>0.523236276209572</dd><dt>143</dt><dd>0.00646200066772022</dd><dt>442</dt><dd>0.10518908236068</dd><dt>285</dt><dd>0.221265389073335</dd><dt>682</dt><dd>0.618693651900698</dd><dt>48</dt><dd>0.250951091563287</dd><dt>501</dt><dd>0.842727542354506</dd><dt>716</dt><dd>0.18227939580009</dd><dt>511</dt><dd>0.00678258544982843</dd><dt>295</dt><dd>0.167775868271372</dd><dt>536</dt><dd>0.300027781439997</dd><dt>693</dt><dd>0.0266861499459167</dd><dt>214</dt><dd>0.148359429395138</dd><dt>737</dt><dd>0.158230978593835</dd><dt>339</dt><dd>0.855560648425459</dd><dt>346</dt><dd>0.610652048929107</dd><dt>675</dt><dd>0.576729203212697</dd><dt>43</dt><dd>0.0393300086126867</dd><dt>1</dt><dd>0.632328853703233</dd><dt>780</dt><dd>0.16206170931967</dd><dt>590</dt><dd>0.072902880596421</dd><dt>628</dt><dd>0.133499513826258</dd><dt>233</dt><dd>0.0190522054494555</dd><dt>293</dt><dd>0.00211439493076953</dd><dt>573</dt><dd>0.197936796271786</dd><dt>369</dt><dd>0.105049369553761</dd><dt>451</dt><dd>0.693386745197382</dd><dt>86</dt><dd>0.219169486686518</dd><dt>483</dt><dd>0.395791922833439</dd><dt>327</dt><dd>0.259044119196376</dd><dt>622</dt><dd>0.321850779507938</dd><dt>355</dt><dd>0.302102714771043</dd><dt>49</dt><dd>0.556979205943672</dd><dt>361</dt><dd>0.0125396836029244</dd><dt>759</dt><dd>0.365972395057576</dd><dt>242</dt><dd>0.105998576692292</dd><dt>440</dt><dd>0.0844687536607801</dd><dt>247</dt><dd>0.00484776674105365</dd><dt>219</dt><dd>0.0634060324620078</dd><dt>135</dt><dd>0.112372089434368</dd><dt>823</dt><dd>0.154889918461119</dd><dt>821</dt><dd>0.227604545941238</dd><dt>377</dt><dd>0.0339637071362204</dd><dt>408</dt><dd>0.0673704915806048</dd><dt>758</dt><dd>0.475587645410715</dd><dt>565</dt><dd>0.0181164122758714</dd><dt>467</dt><dd>0.728536411111053</dd><dt>356</dt><dd>0.200561700667336</dd><dt>130</dt><dd>0.0125181648180057</dd><dt>65</dt><dd>0.186501123676749</dd><dt>359</dt><dd>0.507534505443241</dd><dt>835</dt><dd>0.142491465923609</dd><dt>124</dt><dd>0.493037582939258</dd><dt>77</dt><dd>0.14313337552305</dd><dt>218</dt><dd>0.0129967348577373</dd><dt>610</dt><dd>0.137437982190559</dd><dt>194</dt><dd>0.183775667598564</dd><dt>19</dt><dd>0.0938925504138628</dd><dt>273</dt><dd>0.21844005888114</dd><dt>418</dt><dd>0.265898805042477</dd><dt>543</dt><dd>0.0425466293811704</dd><dt>419</dt><dd>0.140787084344486</dd><dt>686</dt><dd>0.0130304019736133</dd><dt>403</dt><dd>0.0710517148627005</dd><dt>587</dt><dd>0.0683170182008389</dd><dt>16</dt><dd>0.0893416194816157</dd><dt>815</dt><dd>0.274952467786608</dd><dt>604</dt><dd>0.121732232930157</dd><dt>634</dt><dd>0.625612787614451</dd><dt>664</dt><dd>0.0672256614357203</dd><dt>138</dt><dd>0.0370549344899505</dd><dt>500</dt><dd>0.729250836461143</dd><dt>804</dt><dd>0.356952554400924</dd><dt>229</dt><dd>0.315939167286244</dd><dt>423</dt><dd>0.007377921629804</dd><dt>421</dt><dd>0.269725736705416</dd><dt>140</dt><dd>0.247514319851137</dd><dt>126</dt><dd>0.0634817455534511</dd><dt>803</dt><dd>0.706833975999927</dd><dt>508</dt><dd>0.00193609456641325</dd><dt>732</dt><dd>0.144275644282748</dd><dt>688</dt><dd>0.382336557266364</dd><dt>271</dt><dd>0.00874456446564256</dd><dt>705</dt><dd>0.068407953650928</dd><dt>577</dt><dd>0.497033420706052</dd><dt>512</dt><dd>0.76212415085192</dd><dt>727</dt><dd>0.057520330702327</dd><dt>504</dt><dd>0.173230845751494</dd><dt>457</dt><dd>0.400897905223336</dd><dt>358</dt><dd>0.639072817957056</dd><dt>127</dt><dd>0.259951574536874</dd><dt>645</dt><dd>0.0898297668648938</dd><dt>41</dt><dd>0.107531586629476</dd><dt>548</dt><dd>0.157643081752379</dd><dt>305</dt><dd>0.314657082727197</dd><dt>413</dt><dd>0.00353139843192781</dd><dt>763</dt><dd>0.177682482829998</dd><dt>754</dt><dd>0.0837178756661175</dd><dt>309</dt><dd>0.0972275522105036</dd><dt>441</dt><dd>0.00774077380944178</dd><dt>117</dt><dd>0.102935962362363</dd><dt>655</dt><dd>⋯</dd><dt>470</dt><dd>0.0459021070125745</dd><dt>770</dt><dd>0.317698148422339</dd><dt>562</dt><dd>0.276262421222075</dd><dt>336</dt><dd>0.175648831199983</dd><dt>349</dt><dd>0.0248970304191775</dd><dt>72</dt><dd>0.0163915857648182</dd><dt>757</dt><dd>0.133701833389016</dd><dt>474</dt><dd>0.127860606322608</dd><dt>168</dt><dd>0.123637202565238</dd><dt>747</dt><dd>0.0676241604572916</dd><dt>678</dt><dd>0.0127886746305847</dd><dt>455</dt><dd>0.681210111812636</dd><dt>673</dt><dd>0.0282555246818544</dd><dt>706</dt><dd>0.0589103362322451</dd><dt>625</dt><dd>0.0142399108251085</dd><dt>234</dt><dd>0.280365438175478</dd><dt>484</dt><dd>0.241199428576735</dd><dt>816</dt><dd>0.130527942291695</dd><dt>73</dt><dd>0.262613355908621</dd><dt>539</dt><dd>0.614658327911575</dd><dt>553</dt><dd>0.135777225645568</dd><dt>15</dt><dd>0.0413797177190895</dd><dt>654</dt><dd>0.0144904600362703</dd><dt>294</dt><dd>0.0908417212303502</dd><dt>62</dt><dd>0.629519282784572</dd><dt>806</dt><dd>0.0894060963762468</dd><dt>35</dt><dd>0.69499374659573</dd><dt>381</dt><dd>0.0033921464118733</dd><dt>700</dt><dd>0.292719008966835</dd><dt>702</dt><dd>0.559706741078046</dd><dt>724</dt><dd>0.224809743695123</dd><dt>31</dt><dd>0.0493583102637871</dd><dt>549</dt><dd>0.778429254106911</dd><dt>28</dt><dd>0.0236051325574115</dd><dt>627</dt><dd>0.155606275517244</dd><dt>148</dt><dd>0.019532742163108</dd><dt>663</dt><dd>0.0630402242632274</dd><dt>572</dt><dd>0.0345342024614732</dd><dt>284</dt><dd>0.0817024042567654</dd><dt>334</dt><dd>0.317725801694155</dd><dt>776</dt><dd>0.0929496506980772</dd><dt>268</dt><dd>0.00233503217538247</dd><dt>93</dt><dd>0.070417074277931</dd><dt>648</dt><dd>0.878351876919991</dd><dt>300</dt><dd>0.447850070406855</dd><dt>753</dt><dd>0.8806075612807</dd><dt>241</dt><dd>0.427537137276198</dd><dt>33</dt><dd>0.161830513723106</dd><dt>437</dt><dd>0.18717880325158</dd><dt>653</dt><dd>0.190684969423642</dd><dt>726</dt><dd>0.769833984660577</dd><dt>217</dt><dd>0.0544052115910104</dd><dt>108</dt><dd>0.122171214415901</dd><dt>671</dt><dd>0.0429704290617443</dd><dt>846</dt><dd>0.380751986682429</dd><dt>209</dt><dd>0.0101677743602217</dd><dt>338</dt><dd>0.431635855969038</dd><dt>584</dt><dd>0.593172617088241</dd><dt>708</dt><dd>0.0232872966403161</dd><dt>568</dt><dd>0.396246058432548</dd><dt>434</dt><dd>0.7632673842435</dd><dt>201</dt><dd>0.3271414618939</dd><dt>354</dt><dd>0.0316371744481447</dd><dt>357</dt><dd>0.144479952141606</dd><dt>647</dt><dd>0.0922917098520698</dd><dt>514</dt><dd>0.948846584505203</dd><dt>116</dt><dd>0.132800431178935</dd><dt>824</dt><dd>0.502616616894621</dd><dt>731</dt><dd>0.0461105856099859</dd><dt>598</dt><dd>0.920497621517512</dd><dt>439</dt><dd>0.0209748704402437</dd><dt>197</dt><dd>0.145769769941518</dd><dt>220</dt><dd>0.0897838994908746</dd><dt>462</dt><dd>0.0230559340598589</dd><dt>847</dt><dd>0.0784448822297416</dd><dt>235</dt><dd>0.104970485129355</dd><dt>513</dt><dd>0.030140258795934</dd><dt>644</dt><dd>0.106298424558266</dd><dt>173</dt><dd>0.380827975237944</dd><dt>83</dt><dd>0.226058968673445</dd><dt>574</dt><dd>0.294340122737595</dd><dt>407</dt><dd>0.53777415686366</dd><dt>324</dt><dd>0.0289696808303419</dd><dt>185</dt><dd>0.193442094994035</dd><dt>180</dt><dd>0.167631085254932</dd><dt>464</dt><dd>0.242974182666727</dd><dt>493</dt><dd>0.111333616278197</dd><dt>444</dt><dd>0.280040809286812</dd><dt>167</dt><dd>0.481189471774392</dd><dt>721</dt><dd>0.201816365658916</dd><dt>848</dt><dd>0.248566187861905</dd><dt>291</dt><dd>0.0234041057005819</dd><dt>746</dt><dd>0.046623240503217</dd><dt>838</dt><dd>0.0811894949038253</dd><dt>719</dt><dd>0.110239541907546</dd><dt>738</dt><dd>0.783615221772096</dd><dt>819</dt><dd>0.0757334973549476</dd><dt>56</dt><dd>0.126416329450291</dd><dt>25</dt><dd>0.0178460615159449</dd><dt>81</dt><dd>0.201524011735966</dd><dt>472</dt><dd>0.216861646025038</dd><dt>768</dt><dd>0.34496539683724</dd><dt>841</dt><dd>0.0011291043695952</dd><dt>550</dt><dd>0.382024481514779</dd><dt>480</dt><dd>0.000851323495776198</dd><dt>793</dt><dd>0.214946008758115</dd><dt>3</dt><dd>0.636898898316597</dd><dt>179</dt><dd>0.0205154902738956</dd><dt>161</dt><dd>0.11472473229675</dd><dt>384</dt><dd>0.231574938690089</dd><dt>436</dt><dd>0.00297027152840507</dd><dt>788</dt><dd>0.486007441671288</dd><dt>260</dt><dd>0.0477347611795145</dd><dt>60</dt><dd>0.053259578482787</dd><dt>448</dt><dd>0.315672328744823</dd><dt>488</dt><dd>0.0423637469261827</dd><dt>181</dt><dd>0.0214154822194079</dd><dt>510</dt><dd>0.0259689271842083</dd><dt>133</dt><dd>0.0313316233855584</dd><dt>428</dt><dd>0.598078985050931</dd><dt>711</dt><dd>0.0349926118534543</dd><dt>279</dt><dd>0.500149643720649</dd><dt>560</dt><dd>0.602819198053532</dd><dt>812</dt><dd>0.899262501501532</dd><dt>789</dt><dd>0.00238345428203295</dd><dt>150</dt><dd>0.135067093264837</dd><dt>685</dt><dd>0.513607440700185</dd><dt>169</dt><dd>0.0201234068372438</dd><dt>707</dt><dd>0.0364419069500159</dd><dt>599</dt><dd>0.385372669481399</dd><dt>851</dt><dd>0.204563938157323</dd><dt>91</dt><dd>0.0574815737983968</dd><dt>164</dt><dd>0.0955786931420389</dd><dt>479</dt><dd>0.433895396433435</dd><dt>709</dt><dd>0.209843607813297</dd><dt>119</dt><dd>0.134111012316402</dd><dt>787</dt><dd>0.267159679504924</dd><dt>680</dt><dd>0.175073912161548</dd><dt>517</dt><dd>0.695878199567766</dd><dt>559</dt><dd>0.0573936019405161</dd><dt>624</dt><dd>0.136737998431696</dd><dt>541</dt><dd>0.215020823156019</dd><dt>89</dt><dd>0.441376538217836</dd><dt>665</dt><dd>0.290641976768078</dd><dt>405</dt><dd>0.274055662904898</dd><dt>21</dt><dd>0.272412298156034</dd><dt>79</dt><dd>0.17809873866095</dd><dt>795</dt><dd>0.0584830968298651</dd><dt>588</dt><dd>0.941793288160378</dd><dt>192</dt><dd>0.447767322585685</dd><dt>551</dt><dd>0.169282280068291</dd><dt>612</dt><dd>0.00191827432945564</dd><dt>71</dt><dd>0.242712829093855</dd><dt>542</dt><dd>0.724517032235028</dd><dt>315</dt><dd>0.653702169742585</dd><dt>715</dt><dd>0.44913575828253</dd><dt>555</dt><dd>0.603844437736103</dd><dt>414</dt><dd>0.0151657809283923</dd><dt>593</dt><dd>0.17608134145837</dd><dt>58</dt><dd>0.155264662084033</dd><dt>817</dt><dd>0.0125166428523877</dd><dt>114</dt><dd>0.109055767162955</dd><dt>320</dt><dd>0.202635149330463</dd><dt>626</dt><dd>0.105139117387456</dd><dt>34</dt><dd>0.474197690226611</dd><dt>842</dt><dd>0.125127884053575</dd><dt>735</dt><dd>0.124678576914555</dd><dt>695</dt><dd>0.0605952718112528</dd><dt>205</dt><dd>0.0108346491975915</dd><dt>617</dt><dd>0.103910076781316</dd><dt>602</dt><dd>0.781838647161977</dd><dt>301</dt><dd>0.0398515282758721</dd><dt>571</dt><dd>0.229746679886652</dd><dt>643</dt><dd>0.196871511374574</dd><dt>322</dt><dd>0.0171173659993142</dd><dt>772</dt><dd>0.176405811685179</dd><dt>786</dt><dd>0.0684253804366138</dd><dt>392</dt><dd>0.0161461751666139</dd><dt>811</dt><dd>0.127412128225014</dd><dt>281</dt><dd>0.00883160372800132</dd><dt>822</dt><dd>0.0680857956585495</dd><dt>238</dt><dd>0.0251617720959206</dd><dt>122</dt><dd>0.408889939864604</dd><dt>212</dt><dd>0.689422097216381</dd><dt>5</dt><dd>0.650416588653277</dd><dt>826</dt><dd>0.433096618689021</dd><dt>20</dt><dd>0.131814932632618</dd><dt>183</dt><dd>0.220187507164944</dd><dt>825</dt><dd>0.0405358727334865</dd><dt>505</dt><dd>0.0103565988540609</dd><dt>658</dt><dd>0.0695359814129873</dd><dt>2</dt><dd>0.00880334259519267</dd><dt>385</dt><dd>0.0571113163289061</dd><dt>773</dt><dd>0.0748115351042109</dd><dt>69</dt><dd>0.00938202121486253</dd><dt>790</dt><dd>0.14981792905532</dd><dt>586</dt><dd>0.0357808483287607</dd><dt>296</dt><dd>0.143380006811346</dd><dt>779</dt><dd>0.291101922701211</dd><dt>831</dt><dd>0.176766703246663</dd></dl>\n"
            ],
            "text/markdown": "836\n:   0.102283951504015679\n:   0.0588885433404756129\n:   0.21147137125878509\n:   0.0456556728185116471\n:   0.239969766207655299\n:   0.155576124573328270\n:   0.00354052354847071187\n:   0.0706025844672468307\n:   0.0726229158519972597\n:   0.024057982828861277\n:   0.548909447712938494\n:   0.97100707300742330\n:   0.151627822009207775\n:   0.605952517774546591\n:   0.198478777342237725\n:   0.00024750543071375237\n:   0.217467385650209105\n:   0.53600490919084729\n:   0.0394558965582666485\n:   0.0942399161003873677\n:   0.000983336770207119802\n:   0.333899781300611382\n:   0.751704031115646601\n:   0.96901924906935801\n:   0.437644508896267326\n:   0.90667864735169840\n:   0.00837981865144959554\n:   0.621506975230737422\n:   0.496992612195709111\n:   0.214951834220401404\n:   0.249762101111654532\n:   0.252693089753337506\n:   0.702960221358022556\n:   0.00237699802392732343\n:   0.00676963666881257582\n:   0.200691365888674121\n:   0.036128956668263740\n:   0.00233234135647441684\n:   0.142541133198679537\n:   0.190133536713517375\n:   0.00156694564204417248\n:   0.390511197843122198\n:   0.0172197896298698378\n:   0.32454816128600739\n:   0.649242222345874435\n:   0.551501157952724390\n:   0.026543461826461280\n:   0.0819025919173736672\n:   0.221223586917962526\n:   0.243535307836758642\n:   0.13953958555819145\n:   0.414914401426554402\n:   0.41446739438853822\n:   0.0045583109093274718\n:   0.869950224476852742\n:   0.514444081859682193\n:   0.127844428750522371\n:   0.0531481781415245499\n:   0.107281576190554104\n:   0.00338850890309141827\n:   0.444592408321456767\n:   0.0382672651750712492\n:   0.0114279311664632616\n:   0.0793164334951036615\n:   0.00952931822895215465\n:   0.076978250497699525\n:   0.004902388110531834\n:   0.00891994443878804176\n:   0.236879568179927345\n:   0.124341149176607110\n:   0.084712340715853384\n:   0.14576335407474429\n:   0.29008405446938141\n:   0.706682287860976252\n:   0.335591421985124733\n:   0.00917154449947991620\n:   0.433368846291024304\n:   0.103139933368994545\n:   0.793286890198534557\n:   0.094411837371183661\n:   0.167190129790167287\n:   0.043908871372587614\n:   0.478098441415078145\n:   0.00646140795490532329\n:   0.267716155427005487\n:   0.135228456132893630\n:   0.661349457288393498\n:   0.0880611600036988619\n:   0.0925082890786636576\n:   0.911136442163174490\n:   0.612788765802043736\n:   0.0236958969483122103\n:   0.0759249130559348316\n:   0.31194026090798351\n:   0.341649393671266777\n:   0.243718811873669290\n:   0.0446473473355265650\n:   0.0107960434924753850\n:   0.255603715687282282\n:   0.523236276209572143\n:   0.00646200066772022442\n:   0.10518908236068285\n:   0.221265389073335682\n:   0.61869365190069848\n:   0.250951091563287501\n:   0.842727542354506716\n:   0.18227939580009511\n:   0.00678258544982843295\n:   0.167775868271372536\n:   0.300027781439997693\n:   0.0266861499459167214\n:   0.148359429395138737\n:   0.158230978593835339\n:   0.855560648425459346\n:   0.610652048929107675\n:   0.57672920321269743\n:   0.03933000861268671\n:   0.632328853703233780\n:   0.16206170931967590\n:   0.072902880596421628\n:   0.133499513826258233\n:   0.0190522054494555293\n:   0.00211439493076953573\n:   0.197936796271786369\n:   0.105049369553761451\n:   0.69338674519738286\n:   0.219169486686518483\n:   0.395791922833439327\n:   0.259044119196376622\n:   0.321850779507938355\n:   0.30210271477104349\n:   0.556979205943672361\n:   0.0125396836029244759\n:   0.365972395057576242\n:   0.105998576692292440\n:   0.0844687536607801247\n:   0.00484776674105365219\n:   0.0634060324620078135\n:   0.112372089434368823\n:   0.154889918461119821\n:   0.227604545941238377\n:   0.0339637071362204408\n:   0.0673704915806048758\n:   0.475587645410715565\n:   0.0181164122758714467\n:   0.728536411111053356\n:   0.200561700667336130\n:   0.012518164818005765\n:   0.186501123676749359\n:   0.507534505443241835\n:   0.142491465923609124\n:   0.49303758293925877\n:   0.14313337552305218\n:   0.0129967348577373610\n:   0.137437982190559194\n:   0.18377566759856419\n:   0.0938925504138628273\n:   0.21844005888114418\n:   0.265898805042477543\n:   0.0425466293811704419\n:   0.140787084344486686\n:   0.0130304019736133403\n:   0.0710517148627005587\n:   0.068317018200838916\n:   0.0893416194816157815\n:   0.274952467786608604\n:   0.121732232930157634\n:   0.625612787614451664\n:   0.0672256614357203138\n:   0.0370549344899505500\n:   0.729250836461143804\n:   0.356952554400924229\n:   0.315939167286244423\n:   0.007377921629804421\n:   0.269725736705416140\n:   0.247514319851137126\n:   0.0634817455534511803\n:   0.706833975999927508\n:   0.00193609456641325732\n:   0.144275644282748688\n:   0.382336557266364271\n:   0.00874456446564256705\n:   0.068407953650928577\n:   0.497033420706052512\n:   0.76212415085192727\n:   0.057520330702327504\n:   0.173230845751494457\n:   0.400897905223336358\n:   0.639072817957056127\n:   0.259951574536874645\n:   0.089829766864893841\n:   0.107531586629476548\n:   0.157643081752379305\n:   0.314657082727197413\n:   0.00353139843192781763\n:   0.177682482829998754\n:   0.0837178756661175309\n:   0.0972275522105036441\n:   0.00774077380944178117\n:   0.102935962362363655\n:   ⋯470\n:   0.0459021070125745770\n:   0.317698148422339562\n:   0.276262421222075336\n:   0.175648831199983349\n:   0.024897030419177572\n:   0.0163915857648182757\n:   0.133701833389016474\n:   0.127860606322608168\n:   0.123637202565238747\n:   0.0676241604572916678\n:   0.0127886746305847455\n:   0.681210111812636673\n:   0.0282555246818544706\n:   0.0589103362322451625\n:   0.0142399108251085234\n:   0.280365438175478484\n:   0.241199428576735816\n:   0.13052794229169573\n:   0.262613355908621539\n:   0.614658327911575553\n:   0.13577722564556815\n:   0.0413797177190895654\n:   0.0144904600362703294\n:   0.090841721230350262\n:   0.629519282784572806\n:   0.089406096376246835\n:   0.69499374659573381\n:   0.0033921464118733700\n:   0.292719008966835702\n:   0.559706741078046724\n:   0.22480974369512331\n:   0.0493583102637871549\n:   0.77842925410691128\n:   0.0236051325574115627\n:   0.155606275517244148\n:   0.019532742163108663\n:   0.0630402242632274572\n:   0.0345342024614732284\n:   0.0817024042567654334\n:   0.317725801694155776\n:   0.0929496506980772268\n:   0.0023350321753824793\n:   0.070417074277931648\n:   0.878351876919991300\n:   0.447850070406855753\n:   0.8806075612807241\n:   0.42753713727619833\n:   0.161830513723106437\n:   0.18717880325158653\n:   0.190684969423642726\n:   0.769833984660577217\n:   0.0544052115910104108\n:   0.122171214415901671\n:   0.0429704290617443846\n:   0.380751986682429209\n:   0.0101677743602217338\n:   0.431635855969038584\n:   0.593172617088241708\n:   0.0232872966403161568\n:   0.396246058432548434\n:   0.7632673842435201\n:   0.3271414618939354\n:   0.0316371744481447357\n:   0.144479952141606647\n:   0.0922917098520698514\n:   0.948846584505203116\n:   0.132800431178935824\n:   0.502616616894621731\n:   0.0461105856099859598\n:   0.920497621517512439\n:   0.0209748704402437197\n:   0.145769769941518220\n:   0.0897838994908746462\n:   0.0230559340598589847\n:   0.0784448822297416235\n:   0.104970485129355513\n:   0.030140258795934644\n:   0.106298424558266173\n:   0.38082797523794483\n:   0.226058968673445574\n:   0.294340122737595407\n:   0.53777415686366324\n:   0.0289696808303419185\n:   0.193442094994035180\n:   0.167631085254932464\n:   0.242974182666727493\n:   0.111333616278197444\n:   0.280040809286812167\n:   0.481189471774392721\n:   0.201816365658916848\n:   0.248566187861905291\n:   0.0234041057005819746\n:   0.046623240503217838\n:   0.0811894949038253719\n:   0.110239541907546738\n:   0.783615221772096819\n:   0.075733497354947656\n:   0.12641632945029125\n:   0.017846061515944981\n:   0.201524011735966472\n:   0.216861646025038768\n:   0.34496539683724841\n:   0.0011291043695952550\n:   0.382024481514779480\n:   0.000851323495776198793\n:   0.2149460087581153\n:   0.636898898316597179\n:   0.0205154902738956161\n:   0.11472473229675384\n:   0.231574938690089436\n:   0.00297027152840507788\n:   0.486007441671288260\n:   0.047734761179514560\n:   0.053259578482787448\n:   0.315672328744823488\n:   0.0423637469261827181\n:   0.0214154822194079510\n:   0.0259689271842083133\n:   0.0313316233855584428\n:   0.598078985050931711\n:   0.0349926118534543279\n:   0.500149643720649560\n:   0.602819198053532812\n:   0.899262501501532789\n:   0.00238345428203295150\n:   0.135067093264837685\n:   0.513607440700185169\n:   0.0201234068372438707\n:   0.0364419069500159599\n:   0.385372669481399851\n:   0.20456393815732391\n:   0.0574815737983968164\n:   0.0955786931420389479\n:   0.433895396433435709\n:   0.209843607813297119\n:   0.134111012316402787\n:   0.267159679504924680\n:   0.175073912161548517\n:   0.695878199567766559\n:   0.0573936019405161624\n:   0.136737998431696541\n:   0.21502082315601989\n:   0.441376538217836665\n:   0.290641976768078405\n:   0.27405566290489821\n:   0.27241229815603479\n:   0.17809873866095795\n:   0.0584830968298651588\n:   0.941793288160378192\n:   0.447767322585685551\n:   0.169282280068291612\n:   0.0019182743294556471\n:   0.242712829093855542\n:   0.724517032235028315\n:   0.653702169742585715\n:   0.44913575828253555\n:   0.603844437736103414\n:   0.0151657809283923593\n:   0.1760813414583758\n:   0.155264662084033817\n:   0.0125166428523877114\n:   0.109055767162955320\n:   0.202635149330463626\n:   0.10513911738745634\n:   0.474197690226611842\n:   0.125127884053575735\n:   0.124678576914555695\n:   0.0605952718112528205\n:   0.0108346491975915617\n:   0.103910076781316602\n:   0.781838647161977301\n:   0.0398515282758721571\n:   0.229746679886652643\n:   0.196871511374574322\n:   0.0171173659993142772\n:   0.176405811685179786\n:   0.0684253804366138392\n:   0.0161461751666139811\n:   0.127412128225014281\n:   0.00883160372800132822\n:   0.0680857956585495238\n:   0.0251617720959206122\n:   0.408889939864604212\n:   0.6894220972163815\n:   0.650416588653277826\n:   0.43309661868902120\n:   0.131814932632618183\n:   0.220187507164944825\n:   0.0405358727334865505\n:   0.0103565988540609658\n:   0.06953598141298732\n:   0.00880334259519267385\n:   0.0571113163289061773\n:   0.074811535104210969\n:   0.00938202121486253790\n:   0.14981792905532586\n:   0.0357808483287607296\n:   0.143380006811346779\n:   0.291101922701211831\n:   0.176766703246663\n\n",
            "text/latex": "\\begin{description*}\n\\item[836] 0.102283951504015\n\\item[679] 0.0588885433404756\n\\item[129] 0.21147137125878\n\\item[509] 0.0456556728185116\n\\item[471] 0.239969766207655\n\\item[299] 0.155576124573328\n\\item[270] 0.00354052354847071\n\\item[187] 0.0706025844672468\n\\item[307] 0.0726229158519972\n\\item[597] 0.024057982828861\n\\item[277] 0.548909447712938\n\\item[494] 0.97100707300742\n\\item[330] 0.151627822009207\n\\item[775] 0.605952517774546\n\\item[591] 0.198478777342237\n\\item[725] 0.000247505430713752\n\\item[37] 0.217467385650209\n\\item[105] 0.53600490919084\n\\item[729] 0.0394558965582666\n\\item[485] 0.0942399161003873\n\\item[677] 0.000983336770207119\n\\item[802] 0.333899781300611\n\\item[382] 0.751704031115646\n\\item[601] 0.96901924906935\n\\item[801] 0.437644508896267\n\\item[326] 0.90667864735169\n\\item[840] 0.00837981865144959\n\\item[554] 0.621506975230737\n\\item[422] 0.496992612195709\n\\item[111] 0.214951834220401\n\\item[404] 0.249762101111654\n\\item[532] 0.252693089753337\n\\item[506] 0.702960221358022\n\\item[556] 0.00237699802392732\n\\item[343] 0.00676963666881257\n\\item[582] 0.200691365888674\n\\item[121] 0.0361289566682637\n\\item[40] 0.00233234135647441\n\\item[684] 0.142541133198679\n\\item[537] 0.190133536713517\n\\item[375] 0.00156694564204417\n\\item[248] 0.390511197843122\n\\item[198] 0.0172197896298698\n\\item[378] 0.324548161286007\n\\item[39] 0.649242222345874\n\\item[435] 0.551501157952724\n\\item[390] 0.026543461826461\n\\item[280] 0.0819025919173736\n\\item[672] 0.221223586917962\n\\item[526] 0.243535307836758\n\\item[642] 0.139539585558191\n\\item[45] 0.414914401426554\n\\item[402] 0.414467394388538\n\\item[22] 0.0045583109093274\n\\item[718] 0.869950224476852\n\\item[742] 0.514444081859682\n\\item[193] 0.127844428750522\n\\item[371] 0.0531481781415245\n\\item[499] 0.107281576190554\n\\item[104] 0.00338850890309141\n\\item[827] 0.444592408321456\n\\item[767] 0.0382672651750712\n\\item[492] 0.0114279311664632\n\\item[616] 0.0793164334951036\n\\item[615] 0.00952931822895215\n\\item[465] 0.076978250497699\n\\item[525] 0.004902388110531\n\\item[834] 0.00891994443878804\n\\item[176] 0.236879568179927\n\\item[345] 0.124341149176607\n\\item[110] 0.0847123407158533\n\\item[84] 0.145763354074744\n\\item[29] 0.29008405446938\n\\item[141] 0.706682287860976\n\\item[252] 0.335591421985124\n\\item[733] 0.00917154449947991\n\\item[620] 0.433368846291024\n\\item[304] 0.103139933368994\n\\item[545] 0.793286890198534\n\\item[557] 0.094411837371183\n\\item[661] 0.167190129790167\n\\item[287] 0.043908871372587\n\\item[614] 0.478098441415078\n\\item[145] 0.00646140795490532\n\\item[329] 0.267716155427005\n\\item[487] 0.135228456132893\n\\item[630] 0.661349457288393\n\\item[498] 0.0880611600036988\n\\item[619] 0.0925082890786636\n\\item[576] 0.911136442163174\n\\item[490] 0.612788765802043\n\\item[736] 0.0236958969483122\n\\item[103] 0.0759249130559348\n\\item[316] 0.311940260907983\n\\item[51] 0.341649393671266\n\\item[777] 0.243718811873669\n\\item[290] 0.0446473473355265\n\\item[650] 0.0107960434924753\n\\item[850] 0.255603715687282\n\\item[282] 0.523236276209572\n\\item[143] 0.00646200066772022\n\\item[442] 0.10518908236068\n\\item[285] 0.221265389073335\n\\item[682] 0.618693651900698\n\\item[48] 0.250951091563287\n\\item[501] 0.842727542354506\n\\item[716] 0.18227939580009\n\\item[511] 0.00678258544982843\n\\item[295] 0.167775868271372\n\\item[536] 0.300027781439997\n\\item[693] 0.0266861499459167\n\\item[214] 0.148359429395138\n\\item[737] 0.158230978593835\n\\item[339] 0.855560648425459\n\\item[346] 0.610652048929107\n\\item[675] 0.576729203212697\n\\item[43] 0.0393300086126867\n\\item[1] 0.632328853703233\n\\item[780] 0.16206170931967\n\\item[590] 0.072902880596421\n\\item[628] 0.133499513826258\n\\item[233] 0.0190522054494555\n\\item[293] 0.00211439493076953\n\\item[573] 0.197936796271786\n\\item[369] 0.105049369553761\n\\item[451] 0.693386745197382\n\\item[86] 0.219169486686518\n\\item[483] 0.395791922833439\n\\item[327] 0.259044119196376\n\\item[622] 0.321850779507938\n\\item[355] 0.302102714771043\n\\item[49] 0.556979205943672\n\\item[361] 0.0125396836029244\n\\item[759] 0.365972395057576\n\\item[242] 0.105998576692292\n\\item[440] 0.0844687536607801\n\\item[247] 0.00484776674105365\n\\item[219] 0.0634060324620078\n\\item[135] 0.112372089434368\n\\item[823] 0.154889918461119\n\\item[821] 0.227604545941238\n\\item[377] 0.0339637071362204\n\\item[408] 0.0673704915806048\n\\item[758] 0.475587645410715\n\\item[565] 0.0181164122758714\n\\item[467] 0.728536411111053\n\\item[356] 0.200561700667336\n\\item[130] 0.0125181648180057\n\\item[65] 0.186501123676749\n\\item[359] 0.507534505443241\n\\item[835] 0.142491465923609\n\\item[124] 0.493037582939258\n\\item[77] 0.14313337552305\n\\item[218] 0.0129967348577373\n\\item[610] 0.137437982190559\n\\item[194] 0.183775667598564\n\\item[19] 0.0938925504138628\n\\item[273] 0.21844005888114\n\\item[418] 0.265898805042477\n\\item[543] 0.0425466293811704\n\\item[419] 0.140787084344486\n\\item[686] 0.0130304019736133\n\\item[403] 0.0710517148627005\n\\item[587] 0.0683170182008389\n\\item[16] 0.0893416194816157\n\\item[815] 0.274952467786608\n\\item[604] 0.121732232930157\n\\item[634] 0.625612787614451\n\\item[664] 0.0672256614357203\n\\item[138] 0.0370549344899505\n\\item[500] 0.729250836461143\n\\item[804] 0.356952554400924\n\\item[229] 0.315939167286244\n\\item[423] 0.007377921629804\n\\item[421] 0.269725736705416\n\\item[140] 0.247514319851137\n\\item[126] 0.0634817455534511\n\\item[803] 0.706833975999927\n\\item[508] 0.00193609456641325\n\\item[732] 0.144275644282748\n\\item[688] 0.382336557266364\n\\item[271] 0.00874456446564256\n\\item[705] 0.068407953650928\n\\item[577] 0.497033420706052\n\\item[512] 0.76212415085192\n\\item[727] 0.057520330702327\n\\item[504] 0.173230845751494\n\\item[457] 0.400897905223336\n\\item[358] 0.639072817957056\n\\item[127] 0.259951574536874\n\\item[645] 0.0898297668648938\n\\item[41] 0.107531586629476\n\\item[548] 0.157643081752379\n\\item[305] 0.314657082727197\n\\item[413] 0.00353139843192781\n\\item[763] 0.177682482829998\n\\item[754] 0.0837178756661175\n\\item[309] 0.0972275522105036\n\\item[441] 0.00774077380944178\n\\item[117] 0.102935962362363\n\\item[655] ⋯\n\\item[470] 0.0459021070125745\n\\item[770] 0.317698148422339\n\\item[562] 0.276262421222075\n\\item[336] 0.175648831199983\n\\item[349] 0.0248970304191775\n\\item[72] 0.0163915857648182\n\\item[757] 0.133701833389016\n\\item[474] 0.127860606322608\n\\item[168] 0.123637202565238\n\\item[747] 0.0676241604572916\n\\item[678] 0.0127886746305847\n\\item[455] 0.681210111812636\n\\item[673] 0.0282555246818544\n\\item[706] 0.0589103362322451\n\\item[625] 0.0142399108251085\n\\item[234] 0.280365438175478\n\\item[484] 0.241199428576735\n\\item[816] 0.130527942291695\n\\item[73] 0.262613355908621\n\\item[539] 0.614658327911575\n\\item[553] 0.135777225645568\n\\item[15] 0.0413797177190895\n\\item[654] 0.0144904600362703\n\\item[294] 0.0908417212303502\n\\item[62] 0.629519282784572\n\\item[806] 0.0894060963762468\n\\item[35] 0.69499374659573\n\\item[381] 0.0033921464118733\n\\item[700] 0.292719008966835\n\\item[702] 0.559706741078046\n\\item[724] 0.224809743695123\n\\item[31] 0.0493583102637871\n\\item[549] 0.778429254106911\n\\item[28] 0.0236051325574115\n\\item[627] 0.155606275517244\n\\item[148] 0.019532742163108\n\\item[663] 0.0630402242632274\n\\item[572] 0.0345342024614732\n\\item[284] 0.0817024042567654\n\\item[334] 0.317725801694155\n\\item[776] 0.0929496506980772\n\\item[268] 0.00233503217538247\n\\item[93] 0.070417074277931\n\\item[648] 0.878351876919991\n\\item[300] 0.447850070406855\n\\item[753] 0.8806075612807\n\\item[241] 0.427537137276198\n\\item[33] 0.161830513723106\n\\item[437] 0.18717880325158\n\\item[653] 0.190684969423642\n\\item[726] 0.769833984660577\n\\item[217] 0.0544052115910104\n\\item[108] 0.122171214415901\n\\item[671] 0.0429704290617443\n\\item[846] 0.380751986682429\n\\item[209] 0.0101677743602217\n\\item[338] 0.431635855969038\n\\item[584] 0.593172617088241\n\\item[708] 0.0232872966403161\n\\item[568] 0.396246058432548\n\\item[434] 0.7632673842435\n\\item[201] 0.3271414618939\n\\item[354] 0.0316371744481447\n\\item[357] 0.144479952141606\n\\item[647] 0.0922917098520698\n\\item[514] 0.948846584505203\n\\item[116] 0.132800431178935\n\\item[824] 0.502616616894621\n\\item[731] 0.0461105856099859\n\\item[598] 0.920497621517512\n\\item[439] 0.0209748704402437\n\\item[197] 0.145769769941518\n\\item[220] 0.0897838994908746\n\\item[462] 0.0230559340598589\n\\item[847] 0.0784448822297416\n\\item[235] 0.104970485129355\n\\item[513] 0.030140258795934\n\\item[644] 0.106298424558266\n\\item[173] 0.380827975237944\n\\item[83] 0.226058968673445\n\\item[574] 0.294340122737595\n\\item[407] 0.53777415686366\n\\item[324] 0.0289696808303419\n\\item[185] 0.193442094994035\n\\item[180] 0.167631085254932\n\\item[464] 0.242974182666727\n\\item[493] 0.111333616278197\n\\item[444] 0.280040809286812\n\\item[167] 0.481189471774392\n\\item[721] 0.201816365658916\n\\item[848] 0.248566187861905\n\\item[291] 0.0234041057005819\n\\item[746] 0.046623240503217\n\\item[838] 0.0811894949038253\n\\item[719] 0.110239541907546\n\\item[738] 0.783615221772096\n\\item[819] 0.0757334973549476\n\\item[56] 0.126416329450291\n\\item[25] 0.0178460615159449\n\\item[81] 0.201524011735966\n\\item[472] 0.216861646025038\n\\item[768] 0.34496539683724\n\\item[841] 0.0011291043695952\n\\item[550] 0.382024481514779\n\\item[480] 0.000851323495776198\n\\item[793] 0.214946008758115\n\\item[3] 0.636898898316597\n\\item[179] 0.0205154902738956\n\\item[161] 0.11472473229675\n\\item[384] 0.231574938690089\n\\item[436] 0.00297027152840507\n\\item[788] 0.486007441671288\n\\item[260] 0.0477347611795145\n\\item[60] 0.053259578482787\n\\item[448] 0.315672328744823\n\\item[488] 0.0423637469261827\n\\item[181] 0.0214154822194079\n\\item[510] 0.0259689271842083\n\\item[133] 0.0313316233855584\n\\item[428] 0.598078985050931\n\\item[711] 0.0349926118534543\n\\item[279] 0.500149643720649\n\\item[560] 0.602819198053532\n\\item[812] 0.899262501501532\n\\item[789] 0.00238345428203295\n\\item[150] 0.135067093264837\n\\item[685] 0.513607440700185\n\\item[169] 0.0201234068372438\n\\item[707] 0.0364419069500159\n\\item[599] 0.385372669481399\n\\item[851] 0.204563938157323\n\\item[91] 0.0574815737983968\n\\item[164] 0.0955786931420389\n\\item[479] 0.433895396433435\n\\item[709] 0.209843607813297\n\\item[119] 0.134111012316402\n\\item[787] 0.267159679504924\n\\item[680] 0.175073912161548\n\\item[517] 0.695878199567766\n\\item[559] 0.0573936019405161\n\\item[624] 0.136737998431696\n\\item[541] 0.215020823156019\n\\item[89] 0.441376538217836\n\\item[665] 0.290641976768078\n\\item[405] 0.274055662904898\n\\item[21] 0.272412298156034\n\\item[79] 0.17809873866095\n\\item[795] 0.0584830968298651\n\\item[588] 0.941793288160378\n\\item[192] 0.447767322585685\n\\item[551] 0.169282280068291\n\\item[612] 0.00191827432945564\n\\item[71] 0.242712829093855\n\\item[542] 0.724517032235028\n\\item[315] 0.653702169742585\n\\item[715] 0.44913575828253\n\\item[555] 0.603844437736103\n\\item[414] 0.0151657809283923\n\\item[593] 0.17608134145837\n\\item[58] 0.155264662084033\n\\item[817] 0.0125166428523877\n\\item[114] 0.109055767162955\n\\item[320] 0.202635149330463\n\\item[626] 0.105139117387456\n\\item[34] 0.474197690226611\n\\item[842] 0.125127884053575\n\\item[735] 0.124678576914555\n\\item[695] 0.0605952718112528\n\\item[205] 0.0108346491975915\n\\item[617] 0.103910076781316\n\\item[602] 0.781838647161977\n\\item[301] 0.0398515282758721\n\\item[571] 0.229746679886652\n\\item[643] 0.196871511374574\n\\item[322] 0.0171173659993142\n\\item[772] 0.176405811685179\n\\item[786] 0.0684253804366138\n\\item[392] 0.0161461751666139\n\\item[811] 0.127412128225014\n\\item[281] 0.00883160372800132\n\\item[822] 0.0680857956585495\n\\item[238] 0.0251617720959206\n\\item[122] 0.408889939864604\n\\item[212] 0.689422097216381\n\\item[5] 0.650416588653277\n\\item[826] 0.433096618689021\n\\item[20] 0.131814932632618\n\\item[183] 0.220187507164944\n\\item[825] 0.0405358727334865\n\\item[505] 0.0103565988540609\n\\item[658] 0.0695359814129873\n\\item[2] 0.00880334259519267\n\\item[385] 0.0571113163289061\n\\item[773] 0.0748115351042109\n\\item[69] 0.00938202121486253\n\\item[790] 0.14981792905532\n\\item[586] 0.0357808483287607\n\\item[296] 0.143380006811346\n\\item[779] 0.291101922701211\n\\item[831] 0.176766703246663\n\\end{description*}\n",
            "text/plain": [
              "         836          679          129          509          471          299 \n",
              "0.1022839515 0.0588885433 0.2114713713 0.0456556728 0.2399697662 0.1555761246 \n",
              "         270          187          307          597          277          494 \n",
              "0.0035405235 0.0706025845 0.0726229159 0.0240579828 0.5489094477 0.9710070730 \n",
              "         330          775          591          725           37          105 \n",
              "0.1516278220 0.6059525178 0.1984787773 0.0002475054 0.2174673857 0.5360049092 \n",
              "         729          485          677          802          382          601 \n",
              "0.0394558966 0.0942399161 0.0009833368 0.3338997813 0.7517040311 0.9690192491 \n",
              "         801          326          840          554          422          111 \n",
              "0.4376445089 0.9066786474 0.0083798187 0.6215069752 0.4969926122 0.2149518342 \n",
              "         404          532          506          556          343          582 \n",
              "0.2497621011 0.2526930898 0.7029602214 0.0023769980 0.0067696367 0.2006913659 \n",
              "         121           40          684          537          375          248 \n",
              "0.0361289567 0.0023323414 0.1425411332 0.1901335367 0.0015669456 0.3905111978 \n",
              "         198          378           39          435          390          280 \n",
              "0.0172197896 0.3245481613 0.6492422223 0.5515011580 0.0265434618 0.0819025919 \n",
              "         672          526          642           45          402           22 \n",
              "0.2212235869 0.2435353078 0.1395395856 0.4149144014 0.4144673944 0.0045583109 \n",
              "         718          742          193          371          499          104 \n",
              "0.8699502245 0.5144440819 0.1278444288 0.0531481781 0.1072815762 0.0033885089 \n",
              "         827          767          492          616          615          465 \n",
              "0.4445924083 0.0382672652 0.0114279312 0.0793164335 0.0095293182 0.0769782505 \n",
              "         525          834          176          345          110           84 \n",
              "0.0049023881 0.0089199444 0.2368795682 0.1243411492 0.0847123407 0.1457633541 \n",
              "          29          141          252          733          620          304 \n",
              "0.2900840545 0.7066822879 0.3355914220 0.0091715445 0.4333688463 0.1031399334 \n",
              "         545          557          661          287          614          145 \n",
              "0.7932868902 0.0944118374 0.1671901298 0.0439088714 0.4780984414 0.0064614080 \n",
              "         329          487          630          498          619          576 \n",
              "0.2677161554 0.1352284561 0.6613494573 0.0880611600 0.0925082891 0.9111364422 \n",
              "         490          736          103          316           51          777 \n",
              "0.6127887658 0.0236958969 0.0759249131 0.3119402609 0.3416493937 0.2437188119 \n",
              "         290          650          850          282          143          442 \n",
              "0.0446473473 0.0107960435 0.2556037157 0.5232362762 0.0064620007 0.1051890824 \n",
              "         285          682           48          501          716          511 \n",
              "0.2212653891 0.6186936519 0.2509510916 0.8427275424 0.1822793958 0.0067825854 \n",
              "         295          536          693          214          737          339 \n",
              "0.1677758683 0.3000277814 0.0266861499 0.1483594294 0.1582309786 0.8555606484 \n",
              "         346          675           43            1          780          590 \n",
              "0.6106520489 0.5767292032 0.0393300086 0.6323288537 0.1620617093 0.0729028806 \n",
              "         628          233          293          573          369          451 \n",
              "0.1334995138 0.0190522054 0.0021143949 0.1979367963 0.1050493696 0.6933867452 \n",
              "          86          483          327          622          355           49 \n",
              "0.2191694867 0.3957919228 0.2590441192 0.3218507795 0.3021027148 0.5569792059 \n",
              "         361          759          242          440          247          219 \n",
              "0.0125396836 0.3659723951 0.1059985767 0.0844687537 0.0048477667 0.0634060325 \n",
              "         135          823          821          377          408          758 \n",
              "0.1123720894 0.1548899185 0.2276045459 0.0339637071 0.0673704916 0.4755876454 \n",
              "         565          467          356          130           65          359 \n",
              "0.0181164123 0.7285364111 0.2005617007 0.0125181648 0.1865011237 0.5075345054 \n",
              "         835          124           77          218          610          194 \n",
              "0.1424914659 0.4930375829 0.1431333755 0.0129967349 0.1374379822 0.1837756676 \n",
              "          19          273          418          543          419          686 \n",
              "0.0938925504 0.2184400589 0.2658988050 0.0425466294 0.1407870843 0.0130304020 \n",
              "         403          587           16          815          604          634 \n",
              "0.0710517149 0.0683170182 0.0893416195 0.2749524678 0.1217322329 0.6256127876 \n",
              "         664          138          500          804          229          423 \n",
              "0.0672256614 0.0370549345 0.7292508365 0.3569525544 0.3159391673 0.0073779216 \n",
              "         421          140          126          803          508          732 \n",
              "0.2697257367 0.2475143199 0.0634817456 0.7068339760 0.0019360946 0.1442756443 \n",
              "         688          271          705          577          512          727 \n",
              "0.3823365573 0.0087445645 0.0684079537 0.4970334207 0.7621241509 0.0575203307 \n",
              "         504          457          358          127          645           41 \n",
              "0.1732308458 0.4008979052 0.6390728180 0.2599515745 0.0898297669 0.1075315866 \n",
              "         548          305          413          763          754          309 \n",
              "0.1576430818 0.3146570827 0.0035313984 0.1776824828 0.0837178757 0.0972275522 \n",
              "         441          117          655          470          770          562 \n",
              "0.0077407738 0.1029359624 0.3538319617 0.4594480273 0.0529356209 0.0306549654 \n",
              "         336          349           72          757          474          168 \n",
              "0.0287198684 0.1093666047 0.7808314986 0.0178982888 0.0511455375 0.1920883182 \n",
              "         747          678          455          673          706          625 \n",
              "0.6083110006 0.1644236364 0.4086062959 0.5091208833 0.2796379629 0.0088283546 \n",
              "         234          484          816           73          539          553 \n",
              "0.1025586926 0.1927638995 0.0199661986 0.0089637007 0.4616281297 0.5005584012 \n",
              "          15          654          294           62          806           35 \n",
              "0.0130146870 0.0286472646 0.1168054907 0.0574307688 0.0936259010 0.0549453779 \n",
              "         381          700          702          724           31          549 \n",
              "0.0644888844 0.0084735570 0.0158529138 0.0766671432 0.0724032445 0.1261165287 \n",
              "          28          627          148          663          572          284 \n",
              "0.0033019022 0.0118035100 0.2608020173 0.1297377228 0.4979446605 0.3827936031 \n",
              "         334          776          268           93          648          300 \n",
              "0.2867602797 0.0001944126 0.3538756144 0.3068802565 0.0382153290 0.0040659607 \n",
              "         753          241           33          437          653          726 \n",
              "0.2215463009 0.4756356079 0.2404571133 0.3454949647 0.3615678673 0.3173831664 \n",
              "         217          108          671          846          209          338 \n",
              "0.0174868860 0.3893286212 0.1353720097 0.1334090336 0.0313678833 0.0055600802 \n",
              "         584          708          568          434          201          354 \n",
              "0.2020002635 0.3037786944 0.0191959336 0.0784839143 0.1401856400 0.1345034906 \n",
              "         357          647          514          116          824          731 \n",
              "0.7294124196 0.3803205578 0.0806370210 0.1518638199 0.5894149113 0.0806523973 \n",
              "         598          439          197          220          462          847 \n",
              "0.2009930550 0.0209429905 0.3128471931 0.3120218403 0.0711557620 0.0116225527 \n",
              "         235          513          644          173           83          574 \n",
              "0.0149822822 0.0527137003 0.3666018114 0.2929413291 0.6129109840 0.0083961468 \n",
              "         407          324          185          180          464          493 \n",
              "0.0256304853 0.3954795885 0.7260301453 0.7536925319 0.0415572528 0.2801306790 \n",
              "         444          167          721          848          291          746 \n",
              "0.0514243904 0.5556789708 0.0262163335 0.1077707633 0.1655682221 0.0418609598 \n",
              "         838          719          738          819           56           25 \n",
              "0.8608993473 0.0281470294 0.2727639757 0.1816743893 0.7033385641 0.6302402340 \n",
              "          81          472          768          841          550          480 \n",
              "0.4895017233 0.3987706372 0.1403658267 0.2817558283 0.4452731480 0.0010758786 \n",
              "         793            3          179          161          384          436 \n",
              "0.2795417018 0.0115658018 0.0379312427 0.3637978951 0.1624838005 0.5421558494 \n",
              "         788          260           60          448          488          181 \n",
              "0.0046043101 0.0878659786 0.1091546861 0.0916494491 0.0977024018 0.0228734295 \n",
              "         510          133          428          711          279          560 \n",
              "0.5477819276 0.0157949436 0.2441118254 0.0559285119 0.2119166710 0.1768097082 \n",
              "         812          789          150          685          169          707 \n",
              "0.9744486177 0.2039426080 0.1624905060 0.3017957752 0.0059851893 0.3824923466 \n",
              "         599          851           91          164          479          709 \n",
              "0.6122991500 0.0096792266 0.1389804479 0.0544033795 0.2159232153 0.8297602923 \n",
              "         119          787          680          517          559          624 \n",
              "0.6064395039 0.1624499773 0.0736863928 0.1326586399 0.1600325467 0.0020791515 \n",
              "         541           89          665          405           21           79 \n",
              "0.5606347170 0.0131743698 0.0470200875 0.9711709241 0.0038079441 0.0143763208 \n",
              "         795          588          192          551          612           71 \n",
              "0.3341301642 0.0831300510 0.4065254492 0.6869281034 0.4823155859 0.7114205649 \n",
              "         542          315          715          555          414          593 \n",
              "0.0204191262 0.2874729443 0.0026261155 0.0060894027 0.0202334124 0.4489652341 \n",
              "          58          817          114          320          626           34 \n",
              "0.0074699831 0.2770687073 0.2660425399 0.1388697851 0.1477425840 0.2292597007 \n",
              "         842          735          695          205          617          602 \n",
              "0.9882625374 0.0337508579 0.3058691589 0.1107237877 0.0038885456 0.1811809732 \n",
              "         301          571          643          322          772          786 \n",
              "0.9755246350 0.0089549935 0.0047264392 0.3045791546 0.4782410577 0.4892442290 \n",
              "         392          811          281          822          238          122 \n",
              "0.2303796773 0.0642813723 0.0310899486 0.2722220322 0.2175830416 0.2842050332 \n",
              "         212            5          826           20          183          825 \n",
              "0.3368291215 0.7410918390 0.2503676224 0.0956748399 0.0048855221 0.1355151439 \n",
              "         505          658            2          385          773           69 \n",
              "0.2805413689 0.0274372586 0.2195516693 0.1586702430 0.0084879587 0.1585206123 \n",
              "         790          586          296          779          831          132 \n",
              "0.0360678502 0.9534883630 0.0356094046 0.5247074015 0.0146394112 0.2590159166 \n",
              "          42          123          798          533          534          796 \n",
              "0.0273317419 0.8030636282 0.3657082760 0.6882174317 0.4141244445 0.0222156876 \n",
              "         639          651          397          264          177          755 \n",
              "0.8142877406 0.5802664754 0.2408084601 0.2062464210 0.6143545261 0.0116704913 \n",
              "         432          303           92          368          433          575 \n",
              "0.9052263336 0.0024990718 0.4016538859 0.0041378460 0.0407701652 0.2797447404 \n",
              "         302          230          139            8          215          189 \n",
              "0.0702203840 0.2664425917 0.0631781867 0.0151515500 0.1124977028 0.3751638681 \n",
              "         489          340          115          396          699          370 \n",
              "0.7291225175 0.3777911282 0.0118067346 0.5255474136 0.0222853948 0.0027893803 \n",
              "         749          333          159          516          473          286 \n",
              "0.0034337576 0.0893907129 0.2050875950 0.0473807129 0.2186417331 0.0450871231 \n",
              "         606          109          784            7          112           27 \n",
              "0.8690322536 0.0459021070 0.3176981484 0.2762624212 0.1756488312 0.0248970304 \n",
              "         605          669          255          393          136          829 \n",
              "0.0163915858 0.1337018334 0.1278606063 0.1236372026 0.0676241605 0.0127886746 \n",
              "         828          743          243          410          409          222 \n",
              "0.6812101118 0.0282555247 0.0589103362 0.0142399108 0.2803654382 0.2411994286 \n",
              "         266          158          656          262          458          837 \n",
              "0.1305279423 0.2626133559 0.6146583279 0.1357772256 0.0413797177 0.0144904600 \n",
              "         594          386          175          638          607          261 \n",
              "0.0908417212 0.6295192828 0.0894060964 0.6949937466 0.0033921464 0.2927190090 \n",
              "         166          424          425          446          832           99 \n",
              "0.5597067411 0.2248097437 0.0493583103 0.7784292541 0.0236051326 0.1556062755 \n",
              "           4          603          128          443          692          131 \n",
              "0.0195327422 0.0630402243 0.0345342025 0.0817024043 0.3177258017 0.0929496507 \n",
              "         491          125          765          240          585          502 \n",
              "0.0023350322 0.0704170743 0.8783518769 0.4478500704 0.8806075613 0.4275371373 \n",
              "          85          213          438          311          208          640 \n",
              "0.1618305137 0.1871788033 0.1906849694 0.7698339847 0.0544052116 0.1221712144 \n",
              "         216          486          259          495           87          659 \n",
              "0.0429704291 0.3807519867 0.0101677744 0.4316358560 0.5931726171 0.0232872966 \n",
              "         740          531          774          728          399          312 \n",
              "0.3962460584 0.7632673842 0.3271414619 0.0316371744 0.1444799521 0.0922917099 \n",
              "         809          519          456          308          445          713 \n",
              "0.9488465845 0.1328004312 0.5026166169 0.0461105856 0.9204976215 0.0209748704 \n",
              "         342          366          520          203          469           44 \n",
              "0.1457697699 0.0897838995 0.0230559341 0.0784448822 0.1049704851 0.0301402588 \n",
              "         807          267          748          100          313          134 \n",
              "0.1062984246 0.3808279752 0.2260589687 0.2943401227 0.5377741569 0.0289696808 \n",
              "         232          310           11          739          660          365 \n",
              "0.1934420950 0.1676310853 0.2429741827 0.1113336163 0.2800408093 0.4811894718 \n",
              "         341          552          256          265           54          146 \n",
              "0.2018163657 0.2485661879 0.0234041057 0.0466232405 0.0811894949 0.1102395419 \n",
              "         383          611          236          712            6          430 \n",
              "0.7836152218 0.0757334974 0.1264163295 0.0178460615 0.2015240117 0.2168616460 \n",
              "         250          452          258          744          689          288 \n",
              "0.3449653968 0.0011291044 0.3820244815 0.0008513235 0.2149460088 0.6368988983 \n",
              "         636          454          328          391          400          670 \n",
              "0.0205154903 0.1147247323 0.2315749387 0.0029702715 0.4860074417 0.0477347612 \n",
              "         810           55          182          476           61          538 \n",
              "0.0532595785 0.3156723287 0.0423637469 0.0214154822 0.0259689272 0.0313316234 \n",
              "         704          792          137          496           66          101 \n",
              "0.5980789851 0.0349926119 0.5001496437 0.6028191981 0.8992625015 0.0023834543 \n",
              "         771          245          206          849          325          497 \n",
              "0.1350670933 0.5136074407 0.0201234068 0.0364419070 0.3853726695 0.2045639382 \n",
              "         389          613          153           17          190          691 \n",
              "0.0574815738 0.0955786931 0.4338953964 0.2098436078 0.1341110123 0.2671596795 \n",
              "         595          596          527          367          350          717 \n",
              "0.1750739122 0.6958781996 0.0573936019 0.1367379984 0.2150208232 0.4413765382 \n",
              "         317          447          722          226          184           36 \n",
              "0.2906419768 0.2740556629 0.2724122982 0.1780987387 0.0584830968 0.9417932882 \n",
              "          52          162          781           67          507          783 \n",
              "0.4477673226 0.1692822801 0.0019182743 0.2427128291 0.7245170322 0.6537021697 \n",
              "         276          395          170          453          701          362 \n",
              "0.4491357583 0.6038444377 0.0151657809 0.1760813415 0.1552646621 0.0125166429 \n",
              "         107          347          272           30          818          609 \n",
              "0.1090557672 0.2026351493 0.1051391174 0.4741976902 0.1251278841 0.1246785769 \n",
              "         745           13          364          420          411           82 \n",
              "0.0605952718 0.0108346492 0.1039100768 0.7818386472 0.0398515283 0.2297466799 \n",
              "         698          833          196          674          278          782 \n",
              "0.1968715114 0.0171173660 0.1764058117 0.0684253804 0.0161461752 0.1274121282 \n",
              "         118          321           98          191           26          225 \n",
              "0.0088316037 0.0680857957 0.0251617721 0.4088899399 0.6894220972 0.6504165887 \n",
              "         696          275          318          406           50          563 \n",
              "0.4330966187 0.1318149326 0.2201875072 0.0405358727 0.0103565989 0.0695359814 \n",
              "         794          690          633           96          629           97 \n",
              "0.0088033426 0.0571113163 0.0748115351 0.0093820212 0.1498179291 0.0357808483 \n",
              "         372          156           12 \n",
              "0.1433800068 0.2911019227 0.1767667032 "
            ]
          },
          "metadata": {}
        }
      ]
    },
    {
      "cell_type": "code",
      "source": [
        "#crea el pronostico base de entrenamiento\n",
        "prontrain<-ifelse(steplogit$fitted.values > 0.5,1,0)\n",
        "#tabla de confusión y estadisticas, base de entrenamiento\n",
        "conftrain<-confusionMatrix(as.factor(prontrain),cartera.train$retrasos, positive = \"1\")\n",
        "conftrain"
      ],
      "metadata": {
        "id": "PF_G_Zw69Xjo",
        "colab": {
          "base_uri": "https://localhost:8080/",
          "height": 486
        },
        "outputId": "95f809b0-e77e-4b62-c367-5b8a5bd873c0"
      },
      "execution_count": 104,
      "outputs": [
        {
          "output_type": "display_data",
          "data": {
            "text/plain": [
              "Confusion Matrix and Statistics\n",
              "\n",
              "          Reference\n",
              "Prediction   0   1\n",
              "         0 455  83\n",
              "         1  32  69\n",
              "                                         \n",
              "               Accuracy : 0.82           \n",
              "                 95% CI : (0.788, 0.8491)\n",
              "    No Information Rate : 0.7621         \n",
              "    P-Value [Acc > NIR] : 0.0002424      \n",
              "                                         \n",
              "                  Kappa : 0.4389         \n",
              "                                         \n",
              " Mcnemar's Test P-Value : 3.124e-06      \n",
              "                                         \n",
              "            Sensitivity : 0.4539         \n",
              "            Specificity : 0.9343         \n",
              "         Pos Pred Value : 0.6832         \n",
              "         Neg Pred Value : 0.8457         \n",
              "             Prevalence : 0.2379         \n",
              "         Detection Rate : 0.1080         \n",
              "   Detection Prevalence : 0.1581         \n",
              "      Balanced Accuracy : 0.6941         \n",
              "                                         \n",
              "       'Positive' Class : 1              \n",
              "                                         "
            ]
          },
          "metadata": {}
        }
      ]
    },
    {
      "cell_type": "code",
      "source": [
        "#crea el pronóstico en validación\n",
        "probtest<-predict(steplogit,newdata = cartera.test,type='response')\n",
        "prontest<-ifelse(probtest > 0.5,1,0)\n",
        "conftest<-confusionMatrix(as.factor(prontest),cartera.test$retrasos, positive = \"1\")\n",
        "conftest"
      ],
      "metadata": {
        "id": "X8eZiLyb9aRZ",
        "colab": {
          "base_uri": "https://localhost:8080/",
          "height": 486
        },
        "outputId": "857d825d-a7d8-4b24-a4b7-6a1463f2ac34"
      },
      "execution_count": 105,
      "outputs": [
        {
          "output_type": "display_data",
          "data": {
            "text/plain": [
              "Confusion Matrix and Statistics\n",
              "\n",
              "          Reference\n",
              "Prediction   0   1\n",
              "         0 161  20\n",
              "         1  11  21\n",
              "                                          \n",
              "               Accuracy : 0.8545          \n",
              "                 95% CI : (0.7998, 0.8989)\n",
              "    No Information Rate : 0.8075          \n",
              "    P-Value [Acc > NIR] : 0.04585         \n",
              "                                          \n",
              "                  Kappa : 0.4891          \n",
              "                                          \n",
              " Mcnemar's Test P-Value : 0.15076         \n",
              "                                          \n",
              "            Sensitivity : 0.51220         \n",
              "            Specificity : 0.93605         \n",
              "         Pos Pred Value : 0.65625         \n",
              "         Neg Pred Value : 0.88950         \n",
              "             Prevalence : 0.19249         \n",
              "         Detection Rate : 0.09859         \n",
              "   Detection Prevalence : 0.15023         \n",
              "      Balanced Accuracy : 0.72412         \n",
              "                                          \n",
              "       'Positive' Class : 1               \n",
              "                                          "
            ]
          },
          "metadata": {}
        }
      ]
    },
    {
      "cell_type": "markdown",
      "source": [
        "En la base de datos de validación, la precisión es del 63.63% y la exhaustividad de 30.34%. La precisión es qué tanto acierta el modelo cuando dice que una empresa generará incumplimiento. La exhaustividad es cuántas de las empresas incumplidas son detectadas como tales.UNa combinación de los dos es el F1 score, que para nuestro caso es de 41.17%. Se puede aumentar la precisión disminuyendo la exhaustividad y viceversa, cambiando simplemente el punto de corte (disminuyéndolo para aumentar precisión o aumentándolo para aumentar exhaustividad)\n",
        "\n",
        "Para observar ese balance se utiliza la curva COR (o ROC por sus siglas en inglés). Al graficar la curva de todas las posibles combinaciones de falsos positivos (que hablan de la precisión) contra los verdaderos positivos (que hablan de la exhaustividad) podemos darnos una idea de cómo funcionaría el modelo en diferentes puntos de corte. El área bajo la curva dibujada es un indicador adicional de la calidad del modelo"
      ],
      "metadata": {
        "id": "yjIjcxLkJtFF"
      }
    },
    {
      "cell_type": "code",
      "source": [
        "##nuevo sobre precision\n",
        "cartllev<-cbind(cartera.test,probtest)"
      ],
      "metadata": {
        "id": "8BpP5BU29gxQ"
      },
      "execution_count": 19,
      "outputs": []
    },
    {
      "cell_type": "code",
      "source": [
        "cartllev"
      ],
      "metadata": {
        "colab": {
          "base_uri": "https://localhost:8080/",
          "height": 1000
        },
        "id": "yUWpJuriNFkE",
        "outputId": "44e6456f-d0a9-4be1-da92-c7e5c5a50148"
      },
      "execution_count": 20,
      "outputs": [
        {
          "output_type": "display_data",
          "data": {
            "text/html": [
              "<table class=\"dataframe\">\n",
              "<caption>A data.frame: 213 × 13</caption>\n",
              "<thead>\n",
              "\t<tr><th></th><th scope=col>MESES</th><th scope=col>IGUAL_DUENO</th><th scope=col>AGNOS_DIRECCION_ACTUAL</th><th scope=col>VENTAS_MENS_PROMEDIO</th><th scope=col>PORC_PASIVOS_VENTA_ANUAL</th><th scope=col>cartera_actual_insumos_A</th><th scope=col>cartera_actual_insumos_B</th><th scope=col>retrasos</th><th scope=col>TIPOips.1</th><th scope=col>TIPOips.2</th><th scope=col>TIPOips.3</th><th scope=col>TIPOips.4</th><th scope=col>probtest</th></tr>\n",
              "\t<tr><th></th><th scope=col>&lt;dbl&gt;</th><th scope=col>&lt;dbl&gt;</th><th scope=col>&lt;dbl&gt;</th><th scope=col>&lt;dbl&gt;</th><th scope=col>&lt;dbl&gt;</th><th scope=col>&lt;dbl&gt;</th><th scope=col>&lt;dbl&gt;</th><th scope=col>&lt;fct&gt;</th><th scope=col>&lt;dbl&gt;</th><th scope=col>&lt;dbl&gt;</th><th scope=col>&lt;dbl&gt;</th><th scope=col>&lt;dbl&gt;</th><th scope=col>&lt;dbl&gt;</th></tr>\n",
              "</thead>\n",
              "<tbody>\n",
              "\t<tr><th scope=row>9</th><td>24</td><td> 3</td><td> 4</td><td> 19</td><td>24.4</td><td>1.358348</td><td>3.277652</td><td>1</td><td>1</td><td>0</td><td>0</td><td>0</td><td>0.777194643</td></tr>\n",
              "\t<tr><th scope=row>10</th><td>36</td><td> 0</td><td>13</td><td> 25</td><td>19.7</td><td>2.777700</td><td>2.147300</td><td>0</td><td>1</td><td>0</td><td>0</td><td>0</td><td>0.824794255</td></tr>\n",
              "\t<tr><th scope=row>14</th><td>37</td><td> 6</td><td> 9</td><td> 29</td><td>16.3</td><td>1.715901</td><td>3.011099</td><td>0</td><td>1</td><td>0</td><td>0</td><td>0</td><td>0.381824775</td></tr>\n",
              "\t<tr><th scope=row>18</th><td>43</td><td>23</td><td>19</td><td> 72</td><td> 7.6</td><td>1.181952</td><td>4.290048</td><td>0</td><td>1</td><td>0</td><td>0</td><td>0</td><td>0.002198848</td></tr>\n",
              "\t<tr><th scope=row>23</th><td>28</td><td> 3</td><td> 6</td><td> 26</td><td>10.0</td><td>0.431600</td><td>2.168400</td><td>0</td><td>1</td><td>0</td><td>0</td><td>0</td><td>0.271781209</td></tr>\n",
              "\t<tr><th scope=row>24</th><td>29</td><td> 8</td><td> 6</td><td> 27</td><td> 9.8</td><td>0.402192</td><td>2.243808</td><td>0</td><td>1</td><td>0</td><td>0</td><td>0</td><td>0.104482614</td></tr>\n",
              "\t<tr><th scope=row>32</th><td>30</td><td> 1</td><td>10</td><td> 22</td><td>10.5</td><td>1.138830</td><td>1.171170</td><td>0</td><td>1</td><td>0</td><td>0</td><td>0</td><td>0.410549271</td></tr>\n",
              "\t<tr><th scope=row>38</th><td>32</td><td>12</td><td> 1</td><td> 54</td><td>14.4</td><td>3.195936</td><td>4.580064</td><td>0</td><td>0</td><td>1</td><td>0</td><td>0</td><td>0.280998752</td></tr>\n",
              "\t<tr><th scope=row>46</th><td>21</td><td> 0</td><td> 1</td><td> 16</td><td> 6.8</td><td>0.150144</td><td>0.937856</td><td>0</td><td>0</td><td>1</td><td>0</td><td>0</td><td>0.365739140</td></tr>\n",
              "\t<tr><th scope=row>47</th><td>35</td><td>13</td><td>15</td><td> 35</td><td> 4.5</td><td>0.431550</td><td>1.143450</td><td>0</td><td>1</td><td>0</td><td>0</td><td>0</td><td>0.012533864</td></tr>\n",
              "\t<tr><th scope=row>53</th><td>46</td><td>16</td><td>18</td><td> 52</td><td>12.9</td><td>3.032016</td><td>3.675984</td><td>1</td><td>1</td><td>0</td><td>0</td><td>0</td><td>0.047279515</td></tr>\n",
              "\t<tr><th scope=row>57</th><td>35</td><td> 9</td><td> 1</td><td> 34</td><td> 5.0</td><td>0.397800</td><td>1.302200</td><td>0</td><td>1</td><td>0</td><td>0</td><td>0</td><td>0.064561304</td></tr>\n",
              "\t<tr><th scope=row>59</th><td>40</td><td>18</td><td> 6</td><td>100</td><td> 2.5</td><td>1.485000</td><td>1.015000</td><td>0</td><td>0</td><td>0</td><td>1</td><td>0</td><td>0.008526888</td></tr>\n",
              "\t<tr><th scope=row>63</th><td>37</td><td> 4</td><td> 0</td><td> 23</td><td>12.4</td><td>0.869860</td><td>1.982140</td><td>0</td><td>1</td><td>0</td><td>0</td><td>0</td><td>0.400648378</td></tr>\n",
              "\t<tr><th scope=row>64</th><td>33</td><td> 4</td><td> 9</td><td> 55</td><td> 7.0</td><td>2.159850</td><td>1.690150</td><td>0</td><td>0</td><td>1</td><td>0</td><td>0</td><td>0.284762470</td></tr>\n",
              "\t<tr><th scope=row>68</th><td>39</td><td>19</td><td> 8</td><td> 46</td><td> 9.1</td><td>2.515786</td><td>1.670214</td><td>0</td><td>1</td><td>0</td><td>0</td><td>0</td><td>0.021227825</td></tr>\n",
              "\t<tr><th scope=row>70</th><td>29</td><td> 1</td><td> 2</td><td> 20</td><td>18.6</td><td>0.569160</td><td>3.150840</td><td>1</td><td>1</td><td>0</td><td>0</td><td>0</td><td>0.680520477</td></tr>\n",
              "\t<tr><th scope=row>74</th><td>43</td><td> 1</td><td> 5</td><td> 26</td><td>10.6</td><td>1.518556</td><td>1.237444</td><td>0</td><td>0</td><td>0</td><td>0</td><td>1</td><td>0.331299318</td></tr>\n",
              "\t<tr><th scope=row>75</th><td>41</td><td>13</td><td>10</td><td> 44</td><td> 1.7</td><td>0.071060</td><td>0.676940</td><td>0</td><td>1</td><td>0</td><td>0</td><td>0</td><td>0.009985445</td></tr>\n",
              "\t<tr><th scope=row>76</th><td>47</td><td>13</td><td>25</td><td> 51</td><td>23.8</td><td>3.738504</td><td>8.399496</td><td>0</td><td>1</td><td>0</td><td>0</td><td>0</td><td>0.251668470</td></tr>\n",
              "\t<tr><th scope=row>78</th><td>29</td><td> 1</td><td> 9</td><td> 17</td><td> 6.7</td><td>0.157182</td><td>0.981818</td><td>0</td><td>1</td><td>0</td><td>0</td><td>0</td><td>0.229252707</td></tr>\n",
              "\t<tr><th scope=row>80</th><td>36</td><td>15</td><td>10</td><td> 39</td><td> 3.2</td><td>0.686400</td><td>0.561600</td><td>0</td><td>1</td><td>0</td><td>0</td><td>0</td><td>0.010112445</td></tr>\n",
              "\t<tr><th scope=row>88</th><td>37</td><td> 5</td><td>17</td><td> 29</td><td>24.6</td><td>1.405398</td><td>5.728602</td><td>0</td><td>0</td><td>0</td><td>1</td><td>0</td><td>0.537060720</td></tr>\n",
              "\t<tr><th scope=row>90</th><td>23</td><td> 0</td><td> 1</td><td> 17</td><td>27.7</td><td>2.043706</td><td>2.665294</td><td>1</td><td>0</td><td>1</td><td>0</td><td>0</td><td>0.942296586</td></tr>\n",
              "\t<tr><th scope=row>94</th><td>32</td><td> 0</td><td> 6</td><td> 18</td><td> 5.8</td><td>0.296496</td><td>0.747504</td><td>1</td><td>0</td><td>1</td><td>0</td><td>0</td><td>0.295663047</td></tr>\n",
              "\t<tr><th scope=row>95</th><td>41</td><td> 2</td><td> 0</td><td> 15</td><td>26.3</td><td>1.960665</td><td>1.984335</td><td>1</td><td>0</td><td>0</td><td>1</td><td>0</td><td>0.899595970</td></tr>\n",
              "\t<tr><th scope=row>102</th><td>36</td><td> 6</td><td> 9</td><td> 26</td><td> 8.3</td><td>0.030212</td><td>2.127788</td><td>0</td><td>1</td><td>0</td><td>0</td><td>0</td><td>0.098981696</td></tr>\n",
              "\t<tr><th scope=row>106</th><td>40</td><td> 8</td><td>17</td><td> 28</td><td> 3.6</td><td>0.534240</td><td>0.473760</td><td>0</td><td>1</td><td>0</td><td>0</td><td>0</td><td>0.032091155</td></tr>\n",
              "\t<tr><th scope=row>113</th><td>21</td><td> 0</td><td> 2</td><td> 24</td><td> 7.7</td><td>0.833448</td><td>1.014552</td><td>0</td><td>0</td><td>0</td><td>1</td><td>0</td><td>0.455072490</td></tr>\n",
              "\t<tr><th scope=row>120</th><td>25</td><td> 1</td><td> 0</td><td> 20</td><td> 6.7</td><td>0.471680</td><td>0.868320</td><td>1</td><td>1</td><td>0</td><td>0</td><td>0</td><td>0.357939367</td></tr>\n",
              "\t<tr><th scope=row>⋮</th><td>⋮</td><td>⋮</td><td>⋮</td><td>⋮</td><td>⋮</td><td>⋮</td><td>⋮</td><td>⋮</td><td>⋮</td><td>⋮</td><td>⋮</td><td>⋮</td><td>⋮</td></tr>\n",
              "\t<tr><th scope=row>730</th><td>39</td><td>19</td><td>16</td><td> 53</td><td> 3.7</td><td> 0.190217</td><td> 1.770783</td><td>0</td><td>1</td><td>0</td><td>0</td><td>0</td><td>0.002528956</td></tr>\n",
              "\t<tr><th scope=row>734</th><td>30</td><td> 1</td><td> 1</td><td> 27</td><td>12.3</td><td> 1.275264</td><td> 2.045736</td><td>0</td><td>1</td><td>0</td><td>0</td><td>0</td><td>0.597677536</td></tr>\n",
              "\t<tr><th scope=row>741</th><td>24</td><td> 4</td><td> 1</td><td> 23</td><td> 4.9</td><td> 0.242305</td><td> 0.884695</td><td>0</td><td>1</td><td>0</td><td>0</td><td>0</td><td>0.163559025</td></tr>\n",
              "\t<tr><th scope=row>750</th><td>40</td><td> 5</td><td>18</td><td> 28</td><td>10.0</td><td> 1.262800</td><td> 1.537200</td><td>0</td><td>0</td><td>0</td><td>1</td><td>0</td><td>0.155545563</td></tr>\n",
              "\t<tr><th scope=row>751</th><td>48</td><td>21</td><td>14</td><td> 86</td><td> 1.2</td><td> 0.145512</td><td> 0.886488</td><td>0</td><td>0</td><td>1</td><td>0</td><td>0</td><td>0.001310656</td></tr>\n",
              "\t<tr><th scope=row>752</th><td>53</td><td>33</td><td>25</td><td>324</td><td> 7.0</td><td> 7.053480</td><td>15.626520</td><td>0</td><td>1</td><td>0</td><td>0</td><td>0</td><td>0.002400879</td></tr>\n",
              "\t<tr><th scope=row>756</th><td>29</td><td> 3</td><td> 9</td><td> 32</td><td> 9.0</td><td> 1.071360</td><td> 1.808640</td><td>0</td><td>0</td><td>1</td><td>0</td><td>0</td><td>0.275579444</td></tr>\n",
              "\t<tr><th scope=row>760</th><td>25</td><td> 3</td><td> 2</td><td> 54</td><td> 7.4</td><td> 1.162836</td><td> 2.833164</td><td>0</td><td>0</td><td>0</td><td>1</td><td>0</td><td>0.323518336</td></tr>\n",
              "\t<tr><th scope=row>761</th><td>27</td><td> 6</td><td> 2</td><td> 52</td><td>13.8</td><td> 1.901640</td><td> 5.274360</td><td>0</td><td>1</td><td>0</td><td>0</td><td>0</td><td>0.421853691</td></tr>\n",
              "\t<tr><th scope=row>762</th><td>36</td><td> 4</td><td>17</td><td> 25</td><td> 4.0</td><td> 0.144000</td><td> 0.856000</td><td>0</td><td>1</td><td>0</td><td>0</td><td>0</td><td>0.066575729</td></tr>\n",
              "\t<tr><th scope=row>764</th><td>33</td><td>11</td><td> 6</td><td> 35</td><td>15.9</td><td> 0.506415</td><td> 5.058585</td><td>0</td><td>1</td><td>0</td><td>0</td><td>0</td><td>0.113404611</td></tr>\n",
              "\t<tr><th scope=row>766</th><td>44</td><td>18</td><td> 0</td><td> 61</td><td>10.8</td><td> 2.806488</td><td> 3.781512</td><td>0</td><td>1</td><td>0</td><td>0</td><td>0</td><td>0.055098391</td></tr>\n",
              "\t<tr><th scope=row>769</th><td>37</td><td>11</td><td>11</td><td> 47</td><td> 9.6</td><td> 1.597248</td><td> 2.914752</td><td>0</td><td>0</td><td>1</td><td>0</td><td>0</td><td>0.071816082</td></tr>\n",
              "\t<tr><th scope=row>778</th><td>23</td><td> 2</td><td> 2</td><td> 48</td><td> 7.5</td><td> 0.511200</td><td> 3.088800</td><td>0</td><td>0</td><td>1</td><td>0</td><td>0</td><td>0.309198413</td></tr>\n",
              "\t<tr><th scope=row>785</th><td>30</td><td> 8</td><td>11</td><td> 27</td><td>20.3</td><td> 3.743523</td><td> 1.737477</td><td>1</td><td>1</td><td>0</td><td>0</td><td>0</td><td>0.592756894</td></tr>\n",
              "\t<tr><th scope=row>791</th><td>25</td><td> 5</td><td> 3</td><td> 42</td><td>15.5</td><td> 3.365670</td><td> 3.144330</td><td>0</td><td>0</td><td>1</td><td>0</td><td>0</td><td>0.676493914</td></tr>\n",
              "\t<tr><th scope=row>797</th><td>38</td><td>12</td><td>14</td><td> 40</td><td> 5.1</td><td> 0.897600</td><td> 1.142400</td><td>0</td><td>0</td><td>1</td><td>0</td><td>0</td><td>0.021869083</td></tr>\n",
              "\t<tr><th scope=row>799</th><td>29</td><td> 2</td><td> 4</td><td> 16</td><td>10.5</td><td> 0.433440</td><td> 1.246560</td><td>0</td><td>0</td><td>1</td><td>0</td><td>0</td><td>0.355802453</td></tr>\n",
              "\t<tr><th scope=row>800</th><td>40</td><td>23</td><td>16</td><td> 81</td><td>10.9</td><td> 0.997677</td><td> 7.831323</td><td>0</td><td>1</td><td>0</td><td>0</td><td>0</td><td>0.003491806</td></tr>\n",
              "\t<tr><th scope=row>805</th><td>48</td><td>10</td><td> 0</td><td> 70</td><td>28.2</td><td>10.679340</td><td> 9.060660</td><td>1</td><td>1</td><td>0</td><td>0</td><td>0</td><td>0.990726580</td></tr>\n",
              "\t<tr><th scope=row>808</th><td>47</td><td>16</td><td> 7</td><td>266</td><td> 2.0</td><td> 2.191840</td><td> 3.128160</td><td>0</td><td>0</td><td>0</td><td>1</td><td>0</td><td>0.016472839</td></tr>\n",
              "\t<tr><th scope=row>813</th><td>38</td><td>21</td><td>17</td><td> 65</td><td>16.8</td><td> 2.533440</td><td> 8.386560</td><td>0</td><td>1</td><td>0</td><td>0</td><td>0</td><td>0.020885678</td></tr>\n",
              "\t<tr><th scope=row>814</th><td>45</td><td> 7</td><td>17</td><td> 29</td><td> 6.1</td><td> 0.739442</td><td> 1.029558</td><td>0</td><td>1</td><td>0</td><td>0</td><td>0</td><td>0.057789917</td></tr>\n",
              "\t<tr><th scope=row>820</th><td>26</td><td> 0</td><td> 2</td><td> 15</td><td> 5.4</td><td> 0.385560</td><td> 0.424440</td><td>0</td><td>1</td><td>0</td><td>0</td><td>0</td><td>0.340840201</td></tr>\n",
              "\t<tr><th scope=row>830</th><td>46</td><td> 6</td><td>19</td><td> 30</td><td>17.6</td><td> 1.415040</td><td> 3.864960</td><td>0</td><td>1</td><td>0</td><td>0</td><td>0</td><td>0.268146787</td></tr>\n",
              "\t<tr><th scope=row>839</th><td>31</td><td>12</td><td> 8</td><td> 44</td><td> 9.6</td><td> 1.867008</td><td> 2.356992</td><td>0</td><td>0</td><td>1</td><td>0</td><td>0</td><td>0.075991072</td></tr>\n",
              "\t<tr><th scope=row>843</th><td>35</td><td>10</td><td>12</td><td> 45</td><td> 8.5</td><td> 1.040400</td><td> 2.784600</td><td>0</td><td>0</td><td>0</td><td>0</td><td>1</td><td>0.027305813</td></tr>\n",
              "\t<tr><th scope=row>844</th><td>51</td><td>15</td><td>30</td><td> 26</td><td>13.6</td><td> 2.011984</td><td> 1.524016</td><td>0</td><td>0</td><td>0</td><td>0</td><td>1</td><td>0.009858995</td></tr>\n",
              "\t<tr><th scope=row>845</th><td>36</td><td> 5</td><td> 2</td><td> 27</td><td> 7.0</td><td> 0.723870</td><td> 1.166130</td><td>0</td><td>1</td><td>0</td><td>0</td><td>0</td><td>0.191672129</td></tr>\n",
              "\t<tr><th scope=row>852</th><td>40</td><td>15</td><td>14</td><td> 55</td><td> 5.5</td><td> 0.856075</td><td> 2.168925</td><td>0</td><td>1</td><td>0</td><td>0</td><td>0</td><td>0.011565802</td></tr>\n",
              "</tbody>\n",
              "</table>\n"
            ],
            "text/markdown": "\nA data.frame: 213 × 13\n\n| <!--/--> | MESES &lt;dbl&gt; | IGUAL_DUENO &lt;dbl&gt; | AGNOS_DIRECCION_ACTUAL &lt;dbl&gt; | VENTAS_MENS_PROMEDIO &lt;dbl&gt; | PORC_PASIVOS_VENTA_ANUAL &lt;dbl&gt; | cartera_actual_insumos_A &lt;dbl&gt; | cartera_actual_insumos_B &lt;dbl&gt; | retrasos &lt;fct&gt; | TIPOips.1 &lt;dbl&gt; | TIPOips.2 &lt;dbl&gt; | TIPOips.3 &lt;dbl&gt; | TIPOips.4 &lt;dbl&gt; | probtest &lt;dbl&gt; |\n|---|---|---|---|---|---|---|---|---|---|---|---|---|---|\n| 9 | 24 |  3 |  4 |  19 | 24.4 | 1.358348 | 3.277652 | 1 | 1 | 0 | 0 | 0 | 0.777194643 |\n| 10 | 36 |  0 | 13 |  25 | 19.7 | 2.777700 | 2.147300 | 0 | 1 | 0 | 0 | 0 | 0.824794255 |\n| 14 | 37 |  6 |  9 |  29 | 16.3 | 1.715901 | 3.011099 | 0 | 1 | 0 | 0 | 0 | 0.381824775 |\n| 18 | 43 | 23 | 19 |  72 |  7.6 | 1.181952 | 4.290048 | 0 | 1 | 0 | 0 | 0 | 0.002198848 |\n| 23 | 28 |  3 |  6 |  26 | 10.0 | 0.431600 | 2.168400 | 0 | 1 | 0 | 0 | 0 | 0.271781209 |\n| 24 | 29 |  8 |  6 |  27 |  9.8 | 0.402192 | 2.243808 | 0 | 1 | 0 | 0 | 0 | 0.104482614 |\n| 32 | 30 |  1 | 10 |  22 | 10.5 | 1.138830 | 1.171170 | 0 | 1 | 0 | 0 | 0 | 0.410549271 |\n| 38 | 32 | 12 |  1 |  54 | 14.4 | 3.195936 | 4.580064 | 0 | 0 | 1 | 0 | 0 | 0.280998752 |\n| 46 | 21 |  0 |  1 |  16 |  6.8 | 0.150144 | 0.937856 | 0 | 0 | 1 | 0 | 0 | 0.365739140 |\n| 47 | 35 | 13 | 15 |  35 |  4.5 | 0.431550 | 1.143450 | 0 | 1 | 0 | 0 | 0 | 0.012533864 |\n| 53 | 46 | 16 | 18 |  52 | 12.9 | 3.032016 | 3.675984 | 1 | 1 | 0 | 0 | 0 | 0.047279515 |\n| 57 | 35 |  9 |  1 |  34 |  5.0 | 0.397800 | 1.302200 | 0 | 1 | 0 | 0 | 0 | 0.064561304 |\n| 59 | 40 | 18 |  6 | 100 |  2.5 | 1.485000 | 1.015000 | 0 | 0 | 0 | 1 | 0 | 0.008526888 |\n| 63 | 37 |  4 |  0 |  23 | 12.4 | 0.869860 | 1.982140 | 0 | 1 | 0 | 0 | 0 | 0.400648378 |\n| 64 | 33 |  4 |  9 |  55 |  7.0 | 2.159850 | 1.690150 | 0 | 0 | 1 | 0 | 0 | 0.284762470 |\n| 68 | 39 | 19 |  8 |  46 |  9.1 | 2.515786 | 1.670214 | 0 | 1 | 0 | 0 | 0 | 0.021227825 |\n| 70 | 29 |  1 |  2 |  20 | 18.6 | 0.569160 | 3.150840 | 1 | 1 | 0 | 0 | 0 | 0.680520477 |\n| 74 | 43 |  1 |  5 |  26 | 10.6 | 1.518556 | 1.237444 | 0 | 0 | 0 | 0 | 1 | 0.331299318 |\n| 75 | 41 | 13 | 10 |  44 |  1.7 | 0.071060 | 0.676940 | 0 | 1 | 0 | 0 | 0 | 0.009985445 |\n| 76 | 47 | 13 | 25 |  51 | 23.8 | 3.738504 | 8.399496 | 0 | 1 | 0 | 0 | 0 | 0.251668470 |\n| 78 | 29 |  1 |  9 |  17 |  6.7 | 0.157182 | 0.981818 | 0 | 1 | 0 | 0 | 0 | 0.229252707 |\n| 80 | 36 | 15 | 10 |  39 |  3.2 | 0.686400 | 0.561600 | 0 | 1 | 0 | 0 | 0 | 0.010112445 |\n| 88 | 37 |  5 | 17 |  29 | 24.6 | 1.405398 | 5.728602 | 0 | 0 | 0 | 1 | 0 | 0.537060720 |\n| 90 | 23 |  0 |  1 |  17 | 27.7 | 2.043706 | 2.665294 | 1 | 0 | 1 | 0 | 0 | 0.942296586 |\n| 94 | 32 |  0 |  6 |  18 |  5.8 | 0.296496 | 0.747504 | 1 | 0 | 1 | 0 | 0 | 0.295663047 |\n| 95 | 41 |  2 |  0 |  15 | 26.3 | 1.960665 | 1.984335 | 1 | 0 | 0 | 1 | 0 | 0.899595970 |\n| 102 | 36 |  6 |  9 |  26 |  8.3 | 0.030212 | 2.127788 | 0 | 1 | 0 | 0 | 0 | 0.098981696 |\n| 106 | 40 |  8 | 17 |  28 |  3.6 | 0.534240 | 0.473760 | 0 | 1 | 0 | 0 | 0 | 0.032091155 |\n| 113 | 21 |  0 |  2 |  24 |  7.7 | 0.833448 | 1.014552 | 0 | 0 | 0 | 1 | 0 | 0.455072490 |\n| 120 | 25 |  1 |  0 |  20 |  6.7 | 0.471680 | 0.868320 | 1 | 1 | 0 | 0 | 0 | 0.357939367 |\n| ⋮ | ⋮ | ⋮ | ⋮ | ⋮ | ⋮ | ⋮ | ⋮ | ⋮ | ⋮ | ⋮ | ⋮ | ⋮ | ⋮ |\n| 730 | 39 | 19 | 16 |  53 |  3.7 |  0.190217 |  1.770783 | 0 | 1 | 0 | 0 | 0 | 0.002528956 |\n| 734 | 30 |  1 |  1 |  27 | 12.3 |  1.275264 |  2.045736 | 0 | 1 | 0 | 0 | 0 | 0.597677536 |\n| 741 | 24 |  4 |  1 |  23 |  4.9 |  0.242305 |  0.884695 | 0 | 1 | 0 | 0 | 0 | 0.163559025 |\n| 750 | 40 |  5 | 18 |  28 | 10.0 |  1.262800 |  1.537200 | 0 | 0 | 0 | 1 | 0 | 0.155545563 |\n| 751 | 48 | 21 | 14 |  86 |  1.2 |  0.145512 |  0.886488 | 0 | 0 | 1 | 0 | 0 | 0.001310656 |\n| 752 | 53 | 33 | 25 | 324 |  7.0 |  7.053480 | 15.626520 | 0 | 1 | 0 | 0 | 0 | 0.002400879 |\n| 756 | 29 |  3 |  9 |  32 |  9.0 |  1.071360 |  1.808640 | 0 | 0 | 1 | 0 | 0 | 0.275579444 |\n| 760 | 25 |  3 |  2 |  54 |  7.4 |  1.162836 |  2.833164 | 0 | 0 | 0 | 1 | 0 | 0.323518336 |\n| 761 | 27 |  6 |  2 |  52 | 13.8 |  1.901640 |  5.274360 | 0 | 1 | 0 | 0 | 0 | 0.421853691 |\n| 762 | 36 |  4 | 17 |  25 |  4.0 |  0.144000 |  0.856000 | 0 | 1 | 0 | 0 | 0 | 0.066575729 |\n| 764 | 33 | 11 |  6 |  35 | 15.9 |  0.506415 |  5.058585 | 0 | 1 | 0 | 0 | 0 | 0.113404611 |\n| 766 | 44 | 18 |  0 |  61 | 10.8 |  2.806488 |  3.781512 | 0 | 1 | 0 | 0 | 0 | 0.055098391 |\n| 769 | 37 | 11 | 11 |  47 |  9.6 |  1.597248 |  2.914752 | 0 | 0 | 1 | 0 | 0 | 0.071816082 |\n| 778 | 23 |  2 |  2 |  48 |  7.5 |  0.511200 |  3.088800 | 0 | 0 | 1 | 0 | 0 | 0.309198413 |\n| 785 | 30 |  8 | 11 |  27 | 20.3 |  3.743523 |  1.737477 | 1 | 1 | 0 | 0 | 0 | 0.592756894 |\n| 791 | 25 |  5 |  3 |  42 | 15.5 |  3.365670 |  3.144330 | 0 | 0 | 1 | 0 | 0 | 0.676493914 |\n| 797 | 38 | 12 | 14 |  40 |  5.1 |  0.897600 |  1.142400 | 0 | 0 | 1 | 0 | 0 | 0.021869083 |\n| 799 | 29 |  2 |  4 |  16 | 10.5 |  0.433440 |  1.246560 | 0 | 0 | 1 | 0 | 0 | 0.355802453 |\n| 800 | 40 | 23 | 16 |  81 | 10.9 |  0.997677 |  7.831323 | 0 | 1 | 0 | 0 | 0 | 0.003491806 |\n| 805 | 48 | 10 |  0 |  70 | 28.2 | 10.679340 |  9.060660 | 1 | 1 | 0 | 0 | 0 | 0.990726580 |\n| 808 | 47 | 16 |  7 | 266 |  2.0 |  2.191840 |  3.128160 | 0 | 0 | 0 | 1 | 0 | 0.016472839 |\n| 813 | 38 | 21 | 17 |  65 | 16.8 |  2.533440 |  8.386560 | 0 | 1 | 0 | 0 | 0 | 0.020885678 |\n| 814 | 45 |  7 | 17 |  29 |  6.1 |  0.739442 |  1.029558 | 0 | 1 | 0 | 0 | 0 | 0.057789917 |\n| 820 | 26 |  0 |  2 |  15 |  5.4 |  0.385560 |  0.424440 | 0 | 1 | 0 | 0 | 0 | 0.340840201 |\n| 830 | 46 |  6 | 19 |  30 | 17.6 |  1.415040 |  3.864960 | 0 | 1 | 0 | 0 | 0 | 0.268146787 |\n| 839 | 31 | 12 |  8 |  44 |  9.6 |  1.867008 |  2.356992 | 0 | 0 | 1 | 0 | 0 | 0.075991072 |\n| 843 | 35 | 10 | 12 |  45 |  8.5 |  1.040400 |  2.784600 | 0 | 0 | 0 | 0 | 1 | 0.027305813 |\n| 844 | 51 | 15 | 30 |  26 | 13.6 |  2.011984 |  1.524016 | 0 | 0 | 0 | 0 | 1 | 0.009858995 |\n| 845 | 36 |  5 |  2 |  27 |  7.0 |  0.723870 |  1.166130 | 0 | 1 | 0 | 0 | 0 | 0.191672129 |\n| 852 | 40 | 15 | 14 |  55 |  5.5 |  0.856075 |  2.168925 | 0 | 1 | 0 | 0 | 0 | 0.011565802 |\n\n",
            "text/latex": "A data.frame: 213 × 13\n\\begin{tabular}{r|lllllllllllll}\n  & MESES & IGUAL\\_DUENO & AGNOS\\_DIRECCION\\_ACTUAL & VENTAS\\_MENS\\_PROMEDIO & PORC\\_PASIVOS\\_VENTA\\_ANUAL & cartera\\_actual\\_insumos\\_A & cartera\\_actual\\_insumos\\_B & retrasos & TIPOips.1 & TIPOips.2 & TIPOips.3 & TIPOips.4 & probtest\\\\\n  & <dbl> & <dbl> & <dbl> & <dbl> & <dbl> & <dbl> & <dbl> & <fct> & <dbl> & <dbl> & <dbl> & <dbl> & <dbl>\\\\\n\\hline\n\t9 & 24 &  3 &  4 &  19 & 24.4 & 1.358348 & 3.277652 & 1 & 1 & 0 & 0 & 0 & 0.777194643\\\\\n\t10 & 36 &  0 & 13 &  25 & 19.7 & 2.777700 & 2.147300 & 0 & 1 & 0 & 0 & 0 & 0.824794255\\\\\n\t14 & 37 &  6 &  9 &  29 & 16.3 & 1.715901 & 3.011099 & 0 & 1 & 0 & 0 & 0 & 0.381824775\\\\\n\t18 & 43 & 23 & 19 &  72 &  7.6 & 1.181952 & 4.290048 & 0 & 1 & 0 & 0 & 0 & 0.002198848\\\\\n\t23 & 28 &  3 &  6 &  26 & 10.0 & 0.431600 & 2.168400 & 0 & 1 & 0 & 0 & 0 & 0.271781209\\\\\n\t24 & 29 &  8 &  6 &  27 &  9.8 & 0.402192 & 2.243808 & 0 & 1 & 0 & 0 & 0 & 0.104482614\\\\\n\t32 & 30 &  1 & 10 &  22 & 10.5 & 1.138830 & 1.171170 & 0 & 1 & 0 & 0 & 0 & 0.410549271\\\\\n\t38 & 32 & 12 &  1 &  54 & 14.4 & 3.195936 & 4.580064 & 0 & 0 & 1 & 0 & 0 & 0.280998752\\\\\n\t46 & 21 &  0 &  1 &  16 &  6.8 & 0.150144 & 0.937856 & 0 & 0 & 1 & 0 & 0 & 0.365739140\\\\\n\t47 & 35 & 13 & 15 &  35 &  4.5 & 0.431550 & 1.143450 & 0 & 1 & 0 & 0 & 0 & 0.012533864\\\\\n\t53 & 46 & 16 & 18 &  52 & 12.9 & 3.032016 & 3.675984 & 1 & 1 & 0 & 0 & 0 & 0.047279515\\\\\n\t57 & 35 &  9 &  1 &  34 &  5.0 & 0.397800 & 1.302200 & 0 & 1 & 0 & 0 & 0 & 0.064561304\\\\\n\t59 & 40 & 18 &  6 & 100 &  2.5 & 1.485000 & 1.015000 & 0 & 0 & 0 & 1 & 0 & 0.008526888\\\\\n\t63 & 37 &  4 &  0 &  23 & 12.4 & 0.869860 & 1.982140 & 0 & 1 & 0 & 0 & 0 & 0.400648378\\\\\n\t64 & 33 &  4 &  9 &  55 &  7.0 & 2.159850 & 1.690150 & 0 & 0 & 1 & 0 & 0 & 0.284762470\\\\\n\t68 & 39 & 19 &  8 &  46 &  9.1 & 2.515786 & 1.670214 & 0 & 1 & 0 & 0 & 0 & 0.021227825\\\\\n\t70 & 29 &  1 &  2 &  20 & 18.6 & 0.569160 & 3.150840 & 1 & 1 & 0 & 0 & 0 & 0.680520477\\\\\n\t74 & 43 &  1 &  5 &  26 & 10.6 & 1.518556 & 1.237444 & 0 & 0 & 0 & 0 & 1 & 0.331299318\\\\\n\t75 & 41 & 13 & 10 &  44 &  1.7 & 0.071060 & 0.676940 & 0 & 1 & 0 & 0 & 0 & 0.009985445\\\\\n\t76 & 47 & 13 & 25 &  51 & 23.8 & 3.738504 & 8.399496 & 0 & 1 & 0 & 0 & 0 & 0.251668470\\\\\n\t78 & 29 &  1 &  9 &  17 &  6.7 & 0.157182 & 0.981818 & 0 & 1 & 0 & 0 & 0 & 0.229252707\\\\\n\t80 & 36 & 15 & 10 &  39 &  3.2 & 0.686400 & 0.561600 & 0 & 1 & 0 & 0 & 0 & 0.010112445\\\\\n\t88 & 37 &  5 & 17 &  29 & 24.6 & 1.405398 & 5.728602 & 0 & 0 & 0 & 1 & 0 & 0.537060720\\\\\n\t90 & 23 &  0 &  1 &  17 & 27.7 & 2.043706 & 2.665294 & 1 & 0 & 1 & 0 & 0 & 0.942296586\\\\\n\t94 & 32 &  0 &  6 &  18 &  5.8 & 0.296496 & 0.747504 & 1 & 0 & 1 & 0 & 0 & 0.295663047\\\\\n\t95 & 41 &  2 &  0 &  15 & 26.3 & 1.960665 & 1.984335 & 1 & 0 & 0 & 1 & 0 & 0.899595970\\\\\n\t102 & 36 &  6 &  9 &  26 &  8.3 & 0.030212 & 2.127788 & 0 & 1 & 0 & 0 & 0 & 0.098981696\\\\\n\t106 & 40 &  8 & 17 &  28 &  3.6 & 0.534240 & 0.473760 & 0 & 1 & 0 & 0 & 0 & 0.032091155\\\\\n\t113 & 21 &  0 &  2 &  24 &  7.7 & 0.833448 & 1.014552 & 0 & 0 & 0 & 1 & 0 & 0.455072490\\\\\n\t120 & 25 &  1 &  0 &  20 &  6.7 & 0.471680 & 0.868320 & 1 & 1 & 0 & 0 & 0 & 0.357939367\\\\\n\t⋮ & ⋮ & ⋮ & ⋮ & ⋮ & ⋮ & ⋮ & ⋮ & ⋮ & ⋮ & ⋮ & ⋮ & ⋮ & ⋮\\\\\n\t730 & 39 & 19 & 16 &  53 &  3.7 &  0.190217 &  1.770783 & 0 & 1 & 0 & 0 & 0 & 0.002528956\\\\\n\t734 & 30 &  1 &  1 &  27 & 12.3 &  1.275264 &  2.045736 & 0 & 1 & 0 & 0 & 0 & 0.597677536\\\\\n\t741 & 24 &  4 &  1 &  23 &  4.9 &  0.242305 &  0.884695 & 0 & 1 & 0 & 0 & 0 & 0.163559025\\\\\n\t750 & 40 &  5 & 18 &  28 & 10.0 &  1.262800 &  1.537200 & 0 & 0 & 0 & 1 & 0 & 0.155545563\\\\\n\t751 & 48 & 21 & 14 &  86 &  1.2 &  0.145512 &  0.886488 & 0 & 0 & 1 & 0 & 0 & 0.001310656\\\\\n\t752 & 53 & 33 & 25 & 324 &  7.0 &  7.053480 & 15.626520 & 0 & 1 & 0 & 0 & 0 & 0.002400879\\\\\n\t756 & 29 &  3 &  9 &  32 &  9.0 &  1.071360 &  1.808640 & 0 & 0 & 1 & 0 & 0 & 0.275579444\\\\\n\t760 & 25 &  3 &  2 &  54 &  7.4 &  1.162836 &  2.833164 & 0 & 0 & 0 & 1 & 0 & 0.323518336\\\\\n\t761 & 27 &  6 &  2 &  52 & 13.8 &  1.901640 &  5.274360 & 0 & 1 & 0 & 0 & 0 & 0.421853691\\\\\n\t762 & 36 &  4 & 17 &  25 &  4.0 &  0.144000 &  0.856000 & 0 & 1 & 0 & 0 & 0 & 0.066575729\\\\\n\t764 & 33 & 11 &  6 &  35 & 15.9 &  0.506415 &  5.058585 & 0 & 1 & 0 & 0 & 0 & 0.113404611\\\\\n\t766 & 44 & 18 &  0 &  61 & 10.8 &  2.806488 &  3.781512 & 0 & 1 & 0 & 0 & 0 & 0.055098391\\\\\n\t769 & 37 & 11 & 11 &  47 &  9.6 &  1.597248 &  2.914752 & 0 & 0 & 1 & 0 & 0 & 0.071816082\\\\\n\t778 & 23 &  2 &  2 &  48 &  7.5 &  0.511200 &  3.088800 & 0 & 0 & 1 & 0 & 0 & 0.309198413\\\\\n\t785 & 30 &  8 & 11 &  27 & 20.3 &  3.743523 &  1.737477 & 1 & 1 & 0 & 0 & 0 & 0.592756894\\\\\n\t791 & 25 &  5 &  3 &  42 & 15.5 &  3.365670 &  3.144330 & 0 & 0 & 1 & 0 & 0 & 0.676493914\\\\\n\t797 & 38 & 12 & 14 &  40 &  5.1 &  0.897600 &  1.142400 & 0 & 0 & 1 & 0 & 0 & 0.021869083\\\\\n\t799 & 29 &  2 &  4 &  16 & 10.5 &  0.433440 &  1.246560 & 0 & 0 & 1 & 0 & 0 & 0.355802453\\\\\n\t800 & 40 & 23 & 16 &  81 & 10.9 &  0.997677 &  7.831323 & 0 & 1 & 0 & 0 & 0 & 0.003491806\\\\\n\t805 & 48 & 10 &  0 &  70 & 28.2 & 10.679340 &  9.060660 & 1 & 1 & 0 & 0 & 0 & 0.990726580\\\\\n\t808 & 47 & 16 &  7 & 266 &  2.0 &  2.191840 &  3.128160 & 0 & 0 & 0 & 1 & 0 & 0.016472839\\\\\n\t813 & 38 & 21 & 17 &  65 & 16.8 &  2.533440 &  8.386560 & 0 & 1 & 0 & 0 & 0 & 0.020885678\\\\\n\t814 & 45 &  7 & 17 &  29 &  6.1 &  0.739442 &  1.029558 & 0 & 1 & 0 & 0 & 0 & 0.057789917\\\\\n\t820 & 26 &  0 &  2 &  15 &  5.4 &  0.385560 &  0.424440 & 0 & 1 & 0 & 0 & 0 & 0.340840201\\\\\n\t830 & 46 &  6 & 19 &  30 & 17.6 &  1.415040 &  3.864960 & 0 & 1 & 0 & 0 & 0 & 0.268146787\\\\\n\t839 & 31 & 12 &  8 &  44 &  9.6 &  1.867008 &  2.356992 & 0 & 0 & 1 & 0 & 0 & 0.075991072\\\\\n\t843 & 35 & 10 & 12 &  45 &  8.5 &  1.040400 &  2.784600 & 0 & 0 & 0 & 0 & 1 & 0.027305813\\\\\n\t844 & 51 & 15 & 30 &  26 & 13.6 &  2.011984 &  1.524016 & 0 & 0 & 0 & 0 & 1 & 0.009858995\\\\\n\t845 & 36 &  5 &  2 &  27 &  7.0 &  0.723870 &  1.166130 & 0 & 1 & 0 & 0 & 0 & 0.191672129\\\\\n\t852 & 40 & 15 & 14 &  55 &  5.5 &  0.856075 &  2.168925 & 0 & 1 & 0 & 0 & 0 & 0.011565802\\\\\n\\end{tabular}\n",
            "text/plain": [
              "    MESES IGUAL_DUENO AGNOS_DIRECCION_ACTUAL VENTAS_MENS_PROMEDIO\n",
              "9   24     3           4                      19                 \n",
              "10  36     0          13                      25                 \n",
              "14  37     6           9                      29                 \n",
              "18  43    23          19                      72                 \n",
              "23  28     3           6                      26                 \n",
              "24  29     8           6                      27                 \n",
              "32  30     1          10                      22                 \n",
              "38  32    12           1                      54                 \n",
              "46  21     0           1                      16                 \n",
              "47  35    13          15                      35                 \n",
              "53  46    16          18                      52                 \n",
              "57  35     9           1                      34                 \n",
              "59  40    18           6                     100                 \n",
              "63  37     4           0                      23                 \n",
              "64  33     4           9                      55                 \n",
              "68  39    19           8                      46                 \n",
              "70  29     1           2                      20                 \n",
              "74  43     1           5                      26                 \n",
              "75  41    13          10                      44                 \n",
              "76  47    13          25                      51                 \n",
              "78  29     1           9                      17                 \n",
              "80  36    15          10                      39                 \n",
              "88  37     5          17                      29                 \n",
              "90  23     0           1                      17                 \n",
              "94  32     0           6                      18                 \n",
              "95  41     2           0                      15                 \n",
              "102 36     6           9                      26                 \n",
              "106 40     8          17                      28                 \n",
              "113 21     0           2                      24                 \n",
              "120 25     1           0                      20                 \n",
              "⋮   ⋮     ⋮           ⋮                      ⋮                   \n",
              "730 39    19          16                      53                 \n",
              "734 30     1           1                      27                 \n",
              "741 24     4           1                      23                 \n",
              "750 40     5          18                      28                 \n",
              "751 48    21          14                      86                 \n",
              "752 53    33          25                     324                 \n",
              "756 29     3           9                      32                 \n",
              "760 25     3           2                      54                 \n",
              "761 27     6           2                      52                 \n",
              "762 36     4          17                      25                 \n",
              "764 33    11           6                      35                 \n",
              "766 44    18           0                      61                 \n",
              "769 37    11          11                      47                 \n",
              "778 23     2           2                      48                 \n",
              "785 30     8          11                      27                 \n",
              "791 25     5           3                      42                 \n",
              "797 38    12          14                      40                 \n",
              "799 29     2           4                      16                 \n",
              "800 40    23          16                      81                 \n",
              "805 48    10           0                      70                 \n",
              "808 47    16           7                     266                 \n",
              "813 38    21          17                      65                 \n",
              "814 45     7          17                      29                 \n",
              "820 26     0           2                      15                 \n",
              "830 46     6          19                      30                 \n",
              "839 31    12           8                      44                 \n",
              "843 35    10          12                      45                 \n",
              "844 51    15          30                      26                 \n",
              "845 36     5           2                      27                 \n",
              "852 40    15          14                      55                 \n",
              "    PORC_PASIVOS_VENTA_ANUAL cartera_actual_insumos_A cartera_actual_insumos_B\n",
              "9   24.4                     1.358348                 3.277652                \n",
              "10  19.7                     2.777700                 2.147300                \n",
              "14  16.3                     1.715901                 3.011099                \n",
              "18   7.6                     1.181952                 4.290048                \n",
              "23  10.0                     0.431600                 2.168400                \n",
              "24   9.8                     0.402192                 2.243808                \n",
              "32  10.5                     1.138830                 1.171170                \n",
              "38  14.4                     3.195936                 4.580064                \n",
              "46   6.8                     0.150144                 0.937856                \n",
              "47   4.5                     0.431550                 1.143450                \n",
              "53  12.9                     3.032016                 3.675984                \n",
              "57   5.0                     0.397800                 1.302200                \n",
              "59   2.5                     1.485000                 1.015000                \n",
              "63  12.4                     0.869860                 1.982140                \n",
              "64   7.0                     2.159850                 1.690150                \n",
              "68   9.1                     2.515786                 1.670214                \n",
              "70  18.6                     0.569160                 3.150840                \n",
              "74  10.6                     1.518556                 1.237444                \n",
              "75   1.7                     0.071060                 0.676940                \n",
              "76  23.8                     3.738504                 8.399496                \n",
              "78   6.7                     0.157182                 0.981818                \n",
              "80   3.2                     0.686400                 0.561600                \n",
              "88  24.6                     1.405398                 5.728602                \n",
              "90  27.7                     2.043706                 2.665294                \n",
              "94   5.8                     0.296496                 0.747504                \n",
              "95  26.3                     1.960665                 1.984335                \n",
              "102  8.3                     0.030212                 2.127788                \n",
              "106  3.6                     0.534240                 0.473760                \n",
              "113  7.7                     0.833448                 1.014552                \n",
              "120  6.7                     0.471680                 0.868320                \n",
              "⋮   ⋮                        ⋮                        ⋮                       \n",
              "730  3.7                      0.190217                 1.770783               \n",
              "734 12.3                      1.275264                 2.045736               \n",
              "741  4.9                      0.242305                 0.884695               \n",
              "750 10.0                      1.262800                 1.537200               \n",
              "751  1.2                      0.145512                 0.886488               \n",
              "752  7.0                      7.053480                15.626520               \n",
              "756  9.0                      1.071360                 1.808640               \n",
              "760  7.4                      1.162836                 2.833164               \n",
              "761 13.8                      1.901640                 5.274360               \n",
              "762  4.0                      0.144000                 0.856000               \n",
              "764 15.9                      0.506415                 5.058585               \n",
              "766 10.8                      2.806488                 3.781512               \n",
              "769  9.6                      1.597248                 2.914752               \n",
              "778  7.5                      0.511200                 3.088800               \n",
              "785 20.3                      3.743523                 1.737477               \n",
              "791 15.5                      3.365670                 3.144330               \n",
              "797  5.1                      0.897600                 1.142400               \n",
              "799 10.5                      0.433440                 1.246560               \n",
              "800 10.9                      0.997677                 7.831323               \n",
              "805 28.2                     10.679340                 9.060660               \n",
              "808  2.0                      2.191840                 3.128160               \n",
              "813 16.8                      2.533440                 8.386560               \n",
              "814  6.1                      0.739442                 1.029558               \n",
              "820  5.4                      0.385560                 0.424440               \n",
              "830 17.6                      1.415040                 3.864960               \n",
              "839  9.6                      1.867008                 2.356992               \n",
              "843  8.5                      1.040400                 2.784600               \n",
              "844 13.6                      2.011984                 1.524016               \n",
              "845  7.0                      0.723870                 1.166130               \n",
              "852  5.5                      0.856075                 2.168925               \n",
              "    retrasos TIPOips.1 TIPOips.2 TIPOips.3 TIPOips.4 probtest   \n",
              "9   1        1         0         0         0         0.777194643\n",
              "10  0        1         0         0         0         0.824794255\n",
              "14  0        1         0         0         0         0.381824775\n",
              "18  0        1         0         0         0         0.002198848\n",
              "23  0        1         0         0         0         0.271781209\n",
              "24  0        1         0         0         0         0.104482614\n",
              "32  0        1         0         0         0         0.410549271\n",
              "38  0        0         1         0         0         0.280998752\n",
              "46  0        0         1         0         0         0.365739140\n",
              "47  0        1         0         0         0         0.012533864\n",
              "53  1        1         0         0         0         0.047279515\n",
              "57  0        1         0         0         0         0.064561304\n",
              "59  0        0         0         1         0         0.008526888\n",
              "63  0        1         0         0         0         0.400648378\n",
              "64  0        0         1         0         0         0.284762470\n",
              "68  0        1         0         0         0         0.021227825\n",
              "70  1        1         0         0         0         0.680520477\n",
              "74  0        0         0         0         1         0.331299318\n",
              "75  0        1         0         0         0         0.009985445\n",
              "76  0        1         0         0         0         0.251668470\n",
              "78  0        1         0         0         0         0.229252707\n",
              "80  0        1         0         0         0         0.010112445\n",
              "88  0        0         0         1         0         0.537060720\n",
              "90  1        0         1         0         0         0.942296586\n",
              "94  1        0         1         0         0         0.295663047\n",
              "95  1        0         0         1         0         0.899595970\n",
              "102 0        1         0         0         0         0.098981696\n",
              "106 0        1         0         0         0         0.032091155\n",
              "113 0        0         0         1         0         0.455072490\n",
              "120 1        1         0         0         0         0.357939367\n",
              "⋮   ⋮        ⋮         ⋮         ⋮         ⋮         ⋮          \n",
              "730 0        1         0         0         0         0.002528956\n",
              "734 0        1         0         0         0         0.597677536\n",
              "741 0        1         0         0         0         0.163559025\n",
              "750 0        0         0         1         0         0.155545563\n",
              "751 0        0         1         0         0         0.001310656\n",
              "752 0        1         0         0         0         0.002400879\n",
              "756 0        0         1         0         0         0.275579444\n",
              "760 0        0         0         1         0         0.323518336\n",
              "761 0        1         0         0         0         0.421853691\n",
              "762 0        1         0         0         0         0.066575729\n",
              "764 0        1         0         0         0         0.113404611\n",
              "766 0        1         0         0         0         0.055098391\n",
              "769 0        0         1         0         0         0.071816082\n",
              "778 0        0         1         0         0         0.309198413\n",
              "785 1        1         0         0         0         0.592756894\n",
              "791 0        0         1         0         0         0.676493914\n",
              "797 0        0         1         0         0         0.021869083\n",
              "799 0        0         1         0         0         0.355802453\n",
              "800 0        1         0         0         0         0.003491806\n",
              "805 1        1         0         0         0         0.990726580\n",
              "808 0        0         0         1         0         0.016472839\n",
              "813 0        1         0         0         0         0.020885678\n",
              "814 0        1         0         0         0         0.057789917\n",
              "820 0        1         0         0         0         0.340840201\n",
              "830 0        1         0         0         0         0.268146787\n",
              "839 0        0         1         0         0         0.075991072\n",
              "843 0        0         0         0         1         0.027305813\n",
              "844 0        0         0         0         1         0.009858995\n",
              "845 0        1         0         0         0         0.191672129\n",
              "852 0        1         0         0         0         0.011565802"
            ]
          },
          "metadata": {}
        }
      ]
    },
    {
      "cell_type": "code",
      "source": [
        "corte<-0.05\n",
        "cartllev$pronostico<-as.factor(ifelse(cartllev$probtest>corte,1,0))\n",
        "cartllev$error<-as.factor(as.numeric(cartllev$retrasos)-as.numeric(cartllev$pronostico))\n",
        "ggplot(cartllev,aes(probtest,retrasos, color=error))+geom_point()+geom_vline(xintercept=corte)"
      ],
      "metadata": {
        "id": "R_O7_MIS9lOQ",
        "colab": {
          "base_uri": "https://localhost:8080/",
          "height": 437
        },
        "outputId": "7710ff65-da78-41e4-932b-e207b52f4304"
      },
      "execution_count": 21,
      "outputs": [
        {
          "output_type": "display_data",
          "data": {
            "text/plain": [
              "plot without title"
            ],
            "image/png": "[encoded data removed]"
          },
          "metadata": {
            "image/png": {
              "width": 420,
              "height": 420
            }
          }
        }
      ]
    },
    {
      "cell_type": "code",
      "source": [
        "corte<-0.5\n",
        "cartllev$pronostico<-as.factor(ifelse(cartllev$probtest>corte,1,0))\n",
        "cartllev$error<-as.factor(as.numeric(cartllev$retrasos)-as.numeric(cartllev$pronostico))\n",
        "ggplot(cartllev,aes(probtest,retrasos, color=error))+geom_point()+geom_vline(xintercept=corte)"
      ],
      "metadata": {
        "id": "-ys5dLf-9xh3",
        "colab": {
          "base_uri": "https://localhost:8080/",
          "height": 437
        },
        "outputId": "09cc7750-b15f-4a0b-c29d-d37c58350dc3"
      },
      "execution_count": 22,
      "outputs": [
        {
          "output_type": "display_data",
          "data": {
            "text/plain": [
              "plot without title"
            ],
            "image/png": "[encoded data removed]"
          },
          "metadata": {
            "image/png": {
              "width": 420,
              "height": 420
            }
          }
        }
      ]
    },
    {
      "cell_type": "code",
      "source": [
        "corte<-0.8\n",
        "cartllev$pronostico<-as.factor(ifelse(cartllev$probtest>corte,1,0))\n",
        "cartllev$error<-as.factor(as.numeric(cartllev$retrasos)-as.numeric(cartllev$pronostico))\n",
        "ggplot(cartllev,aes(probtest,retrasos, color=error))+geom_point()+geom_vline(xintercept=corte)"
      ],
      "metadata": {
        "id": "gpqgwOFH92Lg",
        "colab": {
          "base_uri": "https://localhost:8080/",
          "height": 437
        },
        "outputId": "75866f24-8183-4f7b-cbb7-5e9cb2faed35"
      },
      "execution_count": 23,
      "outputs": [
        {
          "output_type": "display_data",
          "data": {
            "text/plain": [
              "plot without title"
            ],
            "image/png": "[encoded data removed]"
          },
          "metadata": {
            "image/png": {
              "width": 420,
              "height": 420
            }
          }
        }
      ]
    },
    {
      "cell_type": "code",
      "source": [
        "corte<-0.25\n",
        "cartllev$pronostico<-as.factor(ifelse(cartllev$probtest>corte,1,0))\n",
        "cartllev$error<-as.factor(as.numeric(cartllev$retrasos)-as.numeric(cartllev$pronostico))\n",
        "ggplot(cartllev,aes(probtest,retrasos, color=error))+geom_point()+geom_vline(xintercept=corte)"
      ],
      "metadata": {
        "id": "tGGeI1jD-Jd_",
        "colab": {
          "base_uri": "https://localhost:8080/",
          "height": 437
        },
        "outputId": "bb067783-7462-4a6d-827c-79ee889aa3db"
      },
      "execution_count": 24,
      "outputs": [
        {
          "output_type": "display_data",
          "data": {
            "text/plain": [
              "plot without title"
            ],
            "image/png": "[encoded data removed]"
          },
          "metadata": {
            "image/png": {
              "width": 420,
              "height": 420
            }
          }
        }
      ]
    },
    {
      "cell_type": "code",
      "source": [
        "#crear objeto de predicciones\n",
        "pr<-prediction(probtest,cartera.test$retrasos)\n",
        "#creacion del objeto de la curva\n",
        "curvaROC<-performance(pr,measure=\"tpr\",x.measure=\"fpr\")"
      ],
      "metadata": {
        "id": "HqHRCZlE_XRl"
      },
      "execution_count": 25,
      "outputs": []
    },
    {
      "cell_type": "code",
      "source": [
        "#grafico de la curva\n",
        "plot(curvaROC)\n",
        "#calcular el AUC\n",
        "auc<-performance(pr,measure = \"auc\")\n",
        "auc <- auc@y.values[[1]]\n",
        "#ver el AUC\n",
        "auc"
      ],
      "metadata": {
        "id": "1jmCLgO3_X6G",
        "colab": {
          "base_uri": "https://localhost:8080/",
          "height": 454
        },
        "outputId": "54e04172-0521-4c8f-f82b-b770a36918b1"
      },
      "execution_count": 75,
      "outputs": [
        {
          "output_type": "display_data",
          "data": {
            "text/html": [
              "0.841888825865003"
            ],
            "text/markdown": "0.841888825865003",
            "text/latex": "0.841888825865003",
            "text/plain": [
              "[1] 0.8418888"
            ]
          },
          "metadata": {}
        },
        {
          "output_type": "display_data",
          "data": {
            "text/plain": [
              "plot without title"
            ],
            "image/png": "[encoded data removed]"
          },
          "metadata": {
            "image/png": {
              "width": 420,
              "height": 420
            }
          }
        }
      ]
    },
    {
      "cell_type": "markdown",
      "source": [
        "El area bajo la curva es de 84.18%, lo cual está bien por encima del 50% de una predicción al azar.\n",
        "\n",
        "•\tLa curva ROC ranquea todos las empresas desde el que tiene la probabilidad más alta de rechazo hasta la más baja (equivale a variar el umbral desde alto hasta bajo). Comenzando en el origen, mapea todos las empresas en orden descendiente de probabilidad (desde el “mejor” hasta el “peor”). Un clasificador perfecto, con exactitud 100%, primero predeciría correctamente todos los positivos, y luego predeciría correctamente todos los negativos; es decir, la curva iría recto hasta el punto (0,1), y luego cambiaría y sería horizontal hasta el punto (1,1). Esto, por supuesto, no es posible en la práctica, y los “pasos” en la curva reflejan los errores ocasionales que el modelo comete. Un buen modelo cometería pocos errores positivos para los mejores clientes y pocos eroreres negativos para los peores.\n",
        "\n",
        "•\tEs importante observar que un modelo que simplemente adivina al azar, tendrá como curva ROC una línea de 45 grados. Tal modelo tendría la misma probabilidad de hacer una predicción correcta que una incorrecta, sin importar si el cliente tiene una alta o baja probabilidad predecida.\n",
        "\n",
        "•\tEn este caso el AUC es 84.18% el cual es un buen resultado. El AUC indica la proporción de parejas concordantes en los datos; en este caso el porcentaje de parejas concordantes es aproximadamente 84.18%. Las parejas concordantes son aquellas parejas de casos positivo y negativo en el dataset para las cuales el modelo de Regresión logística puede clasificarlos correctamente.\n",
        "\n",
        "•\tEn el dataset de prueba, tenemos 41 positivos (empresas rechazadas) y 172 negativos (empresas sin rechazo); el número total de parejas (positivos y negativos) es 41 x 172 = 7052, de los cuales 84.18% (== 5945) tienen unos parámetros del modelo de Regresión Logística que pueden clasificarlos correctamente.\n"
      ],
      "metadata": {
        "id": "uU1-JmmmLscl"
      }
    },
    {
      "cell_type": "markdown",
      "source": [
        "La curva COR muestra que para lograr un 80% de exhaustividad (tomar acciones sobre el 80% de los incumplidos), tendríamos que aceptar casi un 30% de falsos positivos (en lenguaje de negocios, tendríamos que “tocar o incomodar” al 30% de clientes que van a ser cumplidos)\n",
        "\n",
        "La tabla completa puede obtenerse de la siguiente manera:"
      ],
      "metadata": {
        "id": "znGuF1-JRoO9"
      }
    },
    {
      "cell_type": "code",
      "source": [
        "fprs<-unlist(curvaROC@x.values)\n",
        "tprs<-unlist(curvaROC@y.values)\n",
        "tablaCOR<-as.data.frame(cbind(fprs,tprs))\n",
        "tablaCOR[70:90,]"
      ],
      "metadata": {
        "id": "TsjpXqz7_boF",
        "colab": {
          "base_uri": "https://localhost:8080/",
          "height": 756
        },
        "outputId": "a8c57d5b-9698-41a2-add0-024a40c128b0"
      },
      "execution_count": 77,
      "outputs": [
        {
          "output_type": "display_data",
          "data": {
            "text/html": [
              "<table class=\"dataframe\">\n",
              "<caption>A data.frame: 21 × 2</caption>\n",
              "<thead>\n",
              "\t<tr><th></th><th scope=col>fprs</th><th scope=col>tprs</th></tr>\n",
              "\t<tr><th></th><th scope=col>&lt;dbl&gt;</th><th scope=col>&lt;dbl&gt;</th></tr>\n",
              "</thead>\n",
              "<tbody>\n",
              "\t<tr><th scope=row>70</th><td>0.2209302</td><td>0.7560976</td></tr>\n",
              "\t<tr><th scope=row>71</th><td>0.2267442</td><td>0.7560976</td></tr>\n",
              "\t<tr><th scope=row>72</th><td>0.2325581</td><td>0.7560976</td></tr>\n",
              "\t<tr><th scope=row>73</th><td>0.2325581</td><td>0.7804878</td></tr>\n",
              "\t<tr><th scope=row>74</th><td>0.2383721</td><td>0.7804878</td></tr>\n",
              "\t<tr><th scope=row>75</th><td>0.2441860</td><td>0.7804878</td></tr>\n",
              "\t<tr><th scope=row>76</th><td>0.2500000</td><td>0.7804878</td></tr>\n",
              "\t<tr><th scope=row>77</th><td>0.2558140</td><td>0.7804878</td></tr>\n",
              "\t<tr><th scope=row>78</th><td>0.2616279</td><td>0.7804878</td></tr>\n",
              "\t<tr><th scope=row>79</th><td>0.2674419</td><td>0.7804878</td></tr>\n",
              "\t<tr><th scope=row>80</th><td>0.2732558</td><td>0.7804878</td></tr>\n",
              "\t<tr><th scope=row>81</th><td>0.2790698</td><td>0.7804878</td></tr>\n",
              "\t<tr><th scope=row>82</th><td>0.2848837</td><td>0.7804878</td></tr>\n",
              "\t<tr><th scope=row>83</th><td>0.2906977</td><td>0.7804878</td></tr>\n",
              "\t<tr><th scope=row>84</th><td>0.2906977</td><td>0.8048780</td></tr>\n",
              "\t<tr><th scope=row>85</th><td>0.2965116</td><td>0.8048780</td></tr>\n",
              "\t<tr><th scope=row>86</th><td>0.3023256</td><td>0.8048780</td></tr>\n",
              "\t<tr><th scope=row>87</th><td>0.3081395</td><td>0.8048780</td></tr>\n",
              "\t<tr><th scope=row>88</th><td>0.3139535</td><td>0.8048780</td></tr>\n",
              "\t<tr><th scope=row>89</th><td>0.3197674</td><td>0.8048780</td></tr>\n",
              "\t<tr><th scope=row>90</th><td>0.3255814</td><td>0.8048780</td></tr>\n",
              "</tbody>\n",
              "</table>\n"
            ],
            "text/markdown": "\nA data.frame: 21 × 2\n\n| <!--/--> | fprs &lt;dbl&gt; | tprs &lt;dbl&gt; |\n|---|---|---|\n| 70 | 0.2209302 | 0.7560976 |\n| 71 | 0.2267442 | 0.7560976 |\n| 72 | 0.2325581 | 0.7560976 |\n| 73 | 0.2325581 | 0.7804878 |\n| 74 | 0.2383721 | 0.7804878 |\n| 75 | 0.2441860 | 0.7804878 |\n| 76 | 0.2500000 | 0.7804878 |\n| 77 | 0.2558140 | 0.7804878 |\n| 78 | 0.2616279 | 0.7804878 |\n| 79 | 0.2674419 | 0.7804878 |\n| 80 | 0.2732558 | 0.7804878 |\n| 81 | 0.2790698 | 0.7804878 |\n| 82 | 0.2848837 | 0.7804878 |\n| 83 | 0.2906977 | 0.7804878 |\n| 84 | 0.2906977 | 0.8048780 |\n| 85 | 0.2965116 | 0.8048780 |\n| 86 | 0.3023256 | 0.8048780 |\n| 87 | 0.3081395 | 0.8048780 |\n| 88 | 0.3139535 | 0.8048780 |\n| 89 | 0.3197674 | 0.8048780 |\n| 90 | 0.3255814 | 0.8048780 |\n\n",
            "text/latex": "A data.frame: 21 × 2\n\\begin{tabular}{r|ll}\n  & fprs & tprs\\\\\n  & <dbl> & <dbl>\\\\\n\\hline\n\t70 & 0.2209302 & 0.7560976\\\\\n\t71 & 0.2267442 & 0.7560976\\\\\n\t72 & 0.2325581 & 0.7560976\\\\\n\t73 & 0.2325581 & 0.7804878\\\\\n\t74 & 0.2383721 & 0.7804878\\\\\n\t75 & 0.2441860 & 0.7804878\\\\\n\t76 & 0.2500000 & 0.7804878\\\\\n\t77 & 0.2558140 & 0.7804878\\\\\n\t78 & 0.2616279 & 0.7804878\\\\\n\t79 & 0.2674419 & 0.7804878\\\\\n\t80 & 0.2732558 & 0.7804878\\\\\n\t81 & 0.2790698 & 0.7804878\\\\\n\t82 & 0.2848837 & 0.7804878\\\\\n\t83 & 0.2906977 & 0.7804878\\\\\n\t84 & 0.2906977 & 0.8048780\\\\\n\t85 & 0.2965116 & 0.8048780\\\\\n\t86 & 0.3023256 & 0.8048780\\\\\n\t87 & 0.3081395 & 0.8048780\\\\\n\t88 & 0.3139535 & 0.8048780\\\\\n\t89 & 0.3197674 & 0.8048780\\\\\n\t90 & 0.3255814 & 0.8048780\\\\\n\\end{tabular}\n",
            "text/plain": [
              "   fprs      tprs     \n",
              "70 0.2209302 0.7560976\n",
              "71 0.2267442 0.7560976\n",
              "72 0.2325581 0.7560976\n",
              "73 0.2325581 0.7804878\n",
              "74 0.2383721 0.7804878\n",
              "75 0.2441860 0.7804878\n",
              "76 0.2500000 0.7804878\n",
              "77 0.2558140 0.7804878\n",
              "78 0.2616279 0.7804878\n",
              "79 0.2674419 0.7804878\n",
              "80 0.2732558 0.7804878\n",
              "81 0.2790698 0.7804878\n",
              "82 0.2848837 0.7804878\n",
              "83 0.2906977 0.7804878\n",
              "84 0.2906977 0.8048780\n",
              "85 0.2965116 0.8048780\n",
              "86 0.3023256 0.8048780\n",
              "87 0.3081395 0.8048780\n",
              "88 0.3139535 0.8048780\n",
              "89 0.3197674 0.8048780\n",
              "90 0.3255814 0.8048780"
            ]
          },
          "metadata": {}
        }
      ]
    },
    {
      "cell_type": "markdown",
      "source": [
        "## Evaluación financiera"
      ],
      "metadata": {
        "id": "PYb05MgsMeAW"
      }
    },
    {
      "cell_type": "markdown",
      "source": [
        "Los valores de capacidad predictiva (y de error) deben ser vistos a la luz del negocio. Eso significa, usualmente, traducirlos en términos de costo/beneficio.\n",
        "\n",
        "Ahi suele ser clave trabajar para maximizar la ganancia.\n",
        "\n",
        "Para ello es importante definir los beneficios que nos trae un acierto y las pérdidas que nos genera un error.\n",
        "\n",
        "Supongamos que un acierto nos permite ahorros de 500 (mil pesos) y en cambio un fracaso nos hace dejar de ganar aproximadamente 100 (mil pesos). Vamos a suponer que el porcentaje de éxitos posibles es similar al de la base de datos completa.\n",
        "\n",
        "Podemos crear una base de precisiones y exhaustividades que, basadas en la ecuación vista en clase, nos permitan calcular ganancias para diferentes puntos de corte:"
      ],
      "metadata": {
        "id": "qNB-hJ9jMgZI"
      }
    },
    {
      "cell_type": "code",
      "source": [
        "#guardar las exhaustividades y puntos de corte\n",
        "tablafinan<-performance(pr,measure=\"rec\")\n",
        "cutoffs<-unlist(tablafinan@x.values)\n",
        "recalls<-unlist(tablafinan@y.values)"
      ],
      "metadata": {
        "id": "FL6ofxqdBbhJ"
      },
      "execution_count": 78,
      "outputs": []
    },
    {
      "cell_type": "code",
      "source": [
        "#guardar las precisiones\n",
        "tablafina2<-performance(pr,measure=\"prec\")\n",
        "precisions<-unlist(tablafina2@y.values)"
      ],
      "metadata": {
        "id": "1lF_qDuPBmLh"
      },
      "execution_count": 79,
      "outputs": []
    },
    {
      "cell_type": "code",
      "source": [
        "#guardar f scores\n",
        "tablafina3<-performance(pr,measure=\"f\")\n",
        "fscores<-unlist(tablafina3@y.values)"
      ],
      "metadata": {
        "id": "-yP9GGaEBmz4"
      },
      "execution_count": 80,
      "outputs": []
    },
    {
      "cell_type": "code",
      "source": [
        "#crear la tabla conjunta\n",
        "tablacruce<-as.data.frame(cbind(cutoffs,precisions,recalls,fscores))\n",
        "tablacruce"
      ],
      "metadata": {
        "id": "K1YL39gVBo5x",
        "colab": {
          "base_uri": "https://localhost:8080/",
          "height": 1000
        },
        "outputId": "bbfe06bb-e727-4785-f93b-c581dd10a537"
      },
      "execution_count": 81,
      "outputs": [
        {
          "output_type": "display_data",
          "data": {
            "text/html": [
              "<table class=\"dataframe\">\n",
              "<caption>A data.frame: 214 × 4</caption>\n",
              "<thead>\n",
              "\t<tr><th></th><th scope=col>cutoffs</th><th scope=col>precisions</th><th scope=col>recalls</th><th scope=col>fscores</th></tr>\n",
              "\t<tr><th></th><th scope=col>&lt;dbl&gt;</th><th scope=col>&lt;dbl&gt;</th><th scope=col>&lt;dbl&gt;</th><th scope=col>&lt;dbl&gt;</th></tr>\n",
              "</thead>\n",
              "<tbody>\n",
              "\t<tr><th scope=row></th><td>      Inf</td><td>      NaN</td><td>0.00000000</td><td>       NaN</td></tr>\n",
              "\t<tr><th scope=row>374</th><td>0.9989969</td><td>1.0000000</td><td>0.02439024</td><td>0.04761905</td></tr>\n",
              "\t<tr><th scope=row>805</th><td>0.9907266</td><td>1.0000000</td><td>0.04878049</td><td>0.09302326</td></tr>\n",
              "\t<tr><th scope=row>468</th><td>0.9551019</td><td>1.0000000</td><td>0.07317073</td><td>0.13636364</td></tr>\n",
              "\t<tr><th scope=row>344</th><td>0.9538976</td><td>1.0000000</td><td>0.09756098</td><td>0.17777778</td></tr>\n",
              "\t<tr><th scope=row>90</th><td>0.9422966</td><td>1.0000000</td><td>0.12195122</td><td>0.21739130</td></tr>\n",
              "\t<tr><th scope=row>95</th><td>0.8995960</td><td>1.0000000</td><td>0.14634146</td><td>0.25531915</td></tr>\n",
              "\t<tr><th scope=row>608</th><td>0.8988386</td><td>1.0000000</td><td>0.17073171</td><td>0.29166667</td></tr>\n",
              "\t<tr><th scope=row>694</th><td>0.8728423</td><td>1.0000000</td><td>0.19512195</td><td>0.32653061</td></tr>\n",
              "\t<tr><th scope=row>566</th><td>0.8540234</td><td>1.0000000</td><td>0.21951220</td><td>0.36000000</td></tr>\n",
              "\t<tr><th scope=row>416</th><td>0.8339519</td><td>1.0000000</td><td>0.24390244</td><td>0.39215686</td></tr>\n",
              "\t<tr><th scope=row>10</th><td>0.8247943</td><td>0.9090909</td><td>0.24390244</td><td>0.38461538</td></tr>\n",
              "\t<tr><th scope=row>466</th><td>0.7801498</td><td>0.8333333</td><td>0.24390244</td><td>0.37735849</td></tr>\n",
              "\t<tr><th scope=row>9</th><td>0.7771946</td><td>0.8461538</td><td>0.26829268</td><td>0.40740741</td></tr>\n",
              "\t<tr><th scope=row>200</th><td>0.7748867</td><td>0.8571429</td><td>0.29268293</td><td>0.43636364</td></tr>\n",
              "\t<tr><th scope=row>298</th><td>0.7435101</td><td>0.8000000</td><td>0.29268293</td><td>0.42857143</td></tr>\n",
              "\t<tr><th scope=row>224</th><td>0.7324973</td><td>0.8125000</td><td>0.31707317</td><td>0.45614035</td></tr>\n",
              "\t<tr><th scope=row>570</th><td>0.7102733</td><td>0.8235294</td><td>0.34146341</td><td>0.48275862</td></tr>\n",
              "\t<tr><th scope=row>352</th><td>0.6927331</td><td>0.7777778</td><td>0.34146341</td><td>0.47457627</td></tr>\n",
              "\t<tr><th scope=row>70</th><td>0.6805205</td><td>0.7894737</td><td>0.36585366</td><td>0.50000000</td></tr>\n",
              "\t<tr><th scope=row>791</th><td>0.6764939</td><td>0.7500000</td><td>0.36585366</td><td>0.49180328</td></tr>\n",
              "\t<tr><th scope=row>734</th><td>0.5976775</td><td>0.7142857</td><td>0.36585366</td><td>0.48387097</td></tr>\n",
              "\t<tr><th scope=row>631</th><td>0.5968616</td><td>0.6818182</td><td>0.36585366</td><td>0.47619048</td></tr>\n",
              "\t<tr><th scope=row>785</th><td>0.5927569</td><td>0.6956522</td><td>0.39024390</td><td>0.50000000</td></tr>\n",
              "\t<tr><th scope=row>503</th><td>0.5579322</td><td>0.7083333</td><td>0.41463415</td><td>0.52307692</td></tr>\n",
              "\t<tr><th scope=row>450</th><td>0.5575003</td><td>0.7200000</td><td>0.43902439</td><td>0.54545455</td></tr>\n",
              "\t<tr><th scope=row>463</th><td>0.5559750</td><td>0.7307692</td><td>0.46341463</td><td>0.56716418</td></tr>\n",
              "\t<tr><th scope=row>360</th><td>0.5491245</td><td>0.7037037</td><td>0.46341463</td><td>0.55882353</td></tr>\n",
              "\t<tr><th scope=row>592</th><td>0.5473253</td><td>0.7142857</td><td>0.48780488</td><td>0.57971014</td></tr>\n",
              "\t<tr><th scope=row>426</th><td>0.5423453</td><td>0.7241379</td><td>0.51219512</td><td>0.60000000</td></tr>\n",
              "\t<tr><th scope=row>⋮</th><td>⋮</td><td>⋮</td><td>⋮</td><td>⋮</td></tr>\n",
              "\t<tr><th scope=row>388</th><td>0.015401732</td><td>0.2228261</td><td>1</td><td>0.3644444</td></tr>\n",
              "\t<tr><th scope=row>351</th><td>0.015201121</td><td>0.2216216</td><td>1</td><td>0.3628319</td></tr>\n",
              "\t<tr><th scope=row>569</th><td>0.013752205</td><td>0.2204301</td><td>1</td><td>0.3612335</td></tr>\n",
              "\t<tr><th scope=row>47</th><td>0.012533864</td><td>0.2192513</td><td>1</td><td>0.3596491</td></tr>\n",
              "\t<tr><th scope=row>251</th><td>0.012415612</td><td>0.2180851</td><td>1</td><td>0.3580786</td></tr>\n",
              "\t<tr><th scope=row>546</th><td>0.011809863</td><td>0.2169312</td><td>1</td><td>0.3565217</td></tr>\n",
              "\t<tr><th scope=row>852</th><td>0.011565802</td><td>0.2157895</td><td>1</td><td>0.3549784</td></tr>\n",
              "\t<tr><th scope=row>80</th><td>0.010112445</td><td>0.2146597</td><td>1</td><td>0.3534483</td></tr>\n",
              "\t<tr><th scope=row>75</th><td>0.009985445</td><td>0.2135417</td><td>1</td><td>0.3519313</td></tr>\n",
              "\t<tr><th scope=row>844</th><td>0.009858995</td><td>0.2124352</td><td>1</td><td>0.3504274</td></tr>\n",
              "\t<tr><th scope=row>657</th><td>0.009799923</td><td>0.2113402</td><td>1</td><td>0.3489362</td></tr>\n",
              "\t<tr><th scope=row>59</th><td>0.008526888</td><td>0.2102564</td><td>1</td><td>0.3474576</td></tr>\n",
              "\t<tr><th scope=row>540</th><td>0.008517558</td><td>0.2091837</td><td>1</td><td>0.3459916</td></tr>\n",
              "\t<tr><th scope=row>681</th><td>0.006612045</td><td>0.2081218</td><td>1</td><td>0.3445378</td></tr>\n",
              "\t<tr><th scope=row>429</th><td>0.005360516</td><td>0.2070707</td><td>1</td><td>0.3430962</td></tr>\n",
              "\t<tr><th scope=row>667</th><td>0.005196752</td><td>0.2060302</td><td>1</td><td>0.3416667</td></tr>\n",
              "\t<tr><th scope=row>289</th><td>0.005020180</td><td>0.2050000</td><td>1</td><td>0.3402490</td></tr>\n",
              "\t<tr><th scope=row>579</th><td>0.003909951</td><td>0.2039801</td><td>1</td><td>0.3388430</td></tr>\n",
              "\t<tr><th scope=row>646</th><td>0.003759901</td><td>0.2029703</td><td>1</td><td>0.3374486</td></tr>\n",
              "\t<tr><th scope=row>257</th><td>0.003592390</td><td>0.2019704</td><td>1</td><td>0.3360656</td></tr>\n",
              "\t<tr><th scope=row>800</th><td>0.003491806</td><td>0.2009804</td><td>1</td><td>0.3346939</td></tr>\n",
              "\t<tr><th scope=row>323</th><td>0.003145152</td><td>0.2000000</td><td>1</td><td>0.3333333</td></tr>\n",
              "\t<tr><th scope=row>412</th><td>0.002614314</td><td>0.1990291</td><td>1</td><td>0.3319838</td></tr>\n",
              "\t<tr><th scope=row>730</th><td>0.002528956</td><td>0.1980676</td><td>1</td><td>0.3306452</td></tr>\n",
              "\t<tr><th scope=row>752</th><td>0.002400879</td><td>0.1971154</td><td>1</td><td>0.3293173</td></tr>\n",
              "\t<tr><th scope=row>18</th><td>0.002198848</td><td>0.1961722</td><td>1</td><td>0.3280000</td></tr>\n",
              "\t<tr><th scope=row>530</th><td>0.002046791</td><td>0.1952381</td><td>1</td><td>0.3266932</td></tr>\n",
              "\t<tr><th scope=row>714</th><td>0.001761253</td><td>0.1943128</td><td>1</td><td>0.3253968</td></tr>\n",
              "\t<tr><th scope=row>564</th><td>0.001727422</td><td>0.1933962</td><td>1</td><td>0.3241107</td></tr>\n",
              "\t<tr><th scope=row>751</th><td>0.001310656</td><td>0.1924883</td><td>1</td><td>0.3228346</td></tr>\n",
              "</tbody>\n",
              "</table>\n"
            ],
            "text/markdown": "\nA data.frame: 214 × 4\n\n| <!--/--> | cutoffs &lt;dbl&gt; | precisions &lt;dbl&gt; | recalls &lt;dbl&gt; | fscores &lt;dbl&gt; |\n|---|---|---|---|---|\n| <!----> |       Inf |       NaN | 0.00000000 |        NaN |\n| 374 | 0.9989969 | 1.0000000 | 0.02439024 | 0.04761905 |\n| 805 | 0.9907266 | 1.0000000 | 0.04878049 | 0.09302326 |\n| 468 | 0.9551019 | 1.0000000 | 0.07317073 | 0.13636364 |\n| 344 | 0.9538976 | 1.0000000 | 0.09756098 | 0.17777778 |\n| 90 | 0.9422966 | 1.0000000 | 0.12195122 | 0.21739130 |\n| 95 | 0.8995960 | 1.0000000 | 0.14634146 | 0.25531915 |\n| 608 | 0.8988386 | 1.0000000 | 0.17073171 | 0.29166667 |\n| 694 | 0.8728423 | 1.0000000 | 0.19512195 | 0.32653061 |\n| 566 | 0.8540234 | 1.0000000 | 0.21951220 | 0.36000000 |\n| 416 | 0.8339519 | 1.0000000 | 0.24390244 | 0.39215686 |\n| 10 | 0.8247943 | 0.9090909 | 0.24390244 | 0.38461538 |\n| 466 | 0.7801498 | 0.8333333 | 0.24390244 | 0.37735849 |\n| 9 | 0.7771946 | 0.8461538 | 0.26829268 | 0.40740741 |\n| 200 | 0.7748867 | 0.8571429 | 0.29268293 | 0.43636364 |\n| 298 | 0.7435101 | 0.8000000 | 0.29268293 | 0.42857143 |\n| 224 | 0.7324973 | 0.8125000 | 0.31707317 | 0.45614035 |\n| 570 | 0.7102733 | 0.8235294 | 0.34146341 | 0.48275862 |\n| 352 | 0.6927331 | 0.7777778 | 0.34146341 | 0.47457627 |\n| 70 | 0.6805205 | 0.7894737 | 0.36585366 | 0.50000000 |\n| 791 | 0.6764939 | 0.7500000 | 0.36585366 | 0.49180328 |\n| 734 | 0.5976775 | 0.7142857 | 0.36585366 | 0.48387097 |\n| 631 | 0.5968616 | 0.6818182 | 0.36585366 | 0.47619048 |\n| 785 | 0.5927569 | 0.6956522 | 0.39024390 | 0.50000000 |\n| 503 | 0.5579322 | 0.7083333 | 0.41463415 | 0.52307692 |\n| 450 | 0.5575003 | 0.7200000 | 0.43902439 | 0.54545455 |\n| 463 | 0.5559750 | 0.7307692 | 0.46341463 | 0.56716418 |\n| 360 | 0.5491245 | 0.7037037 | 0.46341463 | 0.55882353 |\n| 592 | 0.5473253 | 0.7142857 | 0.48780488 | 0.57971014 |\n| 426 | 0.5423453 | 0.7241379 | 0.51219512 | 0.60000000 |\n| ⋮ | ⋮ | ⋮ | ⋮ | ⋮ |\n| 388 | 0.015401732 | 0.2228261 | 1 | 0.3644444 |\n| 351 | 0.015201121 | 0.2216216 | 1 | 0.3628319 |\n| 569 | 0.013752205 | 0.2204301 | 1 | 0.3612335 |\n| 47 | 0.012533864 | 0.2192513 | 1 | 0.3596491 |\n| 251 | 0.012415612 | 0.2180851 | 1 | 0.3580786 |\n| 546 | 0.011809863 | 0.2169312 | 1 | 0.3565217 |\n| 852 | 0.011565802 | 0.2157895 | 1 | 0.3549784 |\n| 80 | 0.010112445 | 0.2146597 | 1 | 0.3534483 |\n| 75 | 0.009985445 | 0.2135417 | 1 | 0.3519313 |\n| 844 | 0.009858995 | 0.2124352 | 1 | 0.3504274 |\n| 657 | 0.009799923 | 0.2113402 | 1 | 0.3489362 |\n| 59 | 0.008526888 | 0.2102564 | 1 | 0.3474576 |\n| 540 | 0.008517558 | 0.2091837 | 1 | 0.3459916 |\n| 681 | 0.006612045 | 0.2081218 | 1 | 0.3445378 |\n| 429 | 0.005360516 | 0.2070707 | 1 | 0.3430962 |\n| 667 | 0.005196752 | 0.2060302 | 1 | 0.3416667 |\n| 289 | 0.005020180 | 0.2050000 | 1 | 0.3402490 |\n| 579 | 0.003909951 | 0.2039801 | 1 | 0.3388430 |\n| 646 | 0.003759901 | 0.2029703 | 1 | 0.3374486 |\n| 257 | 0.003592390 | 0.2019704 | 1 | 0.3360656 |\n| 800 | 0.003491806 | 0.2009804 | 1 | 0.3346939 |\n| 323 | 0.003145152 | 0.2000000 | 1 | 0.3333333 |\n| 412 | 0.002614314 | 0.1990291 | 1 | 0.3319838 |\n| 730 | 0.002528956 | 0.1980676 | 1 | 0.3306452 |\n| 752 | 0.002400879 | 0.1971154 | 1 | 0.3293173 |\n| 18 | 0.002198848 | 0.1961722 | 1 | 0.3280000 |\n| 530 | 0.002046791 | 0.1952381 | 1 | 0.3266932 |\n| 714 | 0.001761253 | 0.1943128 | 1 | 0.3253968 |\n| 564 | 0.001727422 | 0.1933962 | 1 | 0.3241107 |\n| 751 | 0.001310656 | 0.1924883 | 1 | 0.3228346 |\n\n",
            "text/latex": "A data.frame: 214 × 4\n\\begin{tabular}{r|llll}\n  & cutoffs & precisions & recalls & fscores\\\\\n  & <dbl> & <dbl> & <dbl> & <dbl>\\\\\n\\hline\n\t &       Inf &       NaN & 0.00000000 &        NaN\\\\\n\t374 & 0.9989969 & 1.0000000 & 0.02439024 & 0.04761905\\\\\n\t805 & 0.9907266 & 1.0000000 & 0.04878049 & 0.09302326\\\\\n\t468 & 0.9551019 & 1.0000000 & 0.07317073 & 0.13636364\\\\\n\t344 & 0.9538976 & 1.0000000 & 0.09756098 & 0.17777778\\\\\n\t90 & 0.9422966 & 1.0000000 & 0.12195122 & 0.21739130\\\\\n\t95 & 0.8995960 & 1.0000000 & 0.14634146 & 0.25531915\\\\\n\t608 & 0.8988386 & 1.0000000 & 0.17073171 & 0.29166667\\\\\n\t694 & 0.8728423 & 1.0000000 & 0.19512195 & 0.32653061\\\\\n\t566 & 0.8540234 & 1.0000000 & 0.21951220 & 0.36000000\\\\\n\t416 & 0.8339519 & 1.0000000 & 0.24390244 & 0.39215686\\\\\n\t10 & 0.8247943 & 0.9090909 & 0.24390244 & 0.38461538\\\\\n\t466 & 0.7801498 & 0.8333333 & 0.24390244 & 0.37735849\\\\\n\t9 & 0.7771946 & 0.8461538 & 0.26829268 & 0.40740741\\\\\n\t200 & 0.7748867 & 0.8571429 & 0.29268293 & 0.43636364\\\\\n\t298 & 0.7435101 & 0.8000000 & 0.29268293 & 0.42857143\\\\\n\t224 & 0.7324973 & 0.8125000 & 0.31707317 & 0.45614035\\\\\n\t570 & 0.7102733 & 0.8235294 & 0.34146341 & 0.48275862\\\\\n\t352 & 0.6927331 & 0.7777778 & 0.34146341 & 0.47457627\\\\\n\t70 & 0.6805205 & 0.7894737 & 0.36585366 & 0.50000000\\\\\n\t791 & 0.6764939 & 0.7500000 & 0.36585366 & 0.49180328\\\\\n\t734 & 0.5976775 & 0.7142857 & 0.36585366 & 0.48387097\\\\\n\t631 & 0.5968616 & 0.6818182 & 0.36585366 & 0.47619048\\\\\n\t785 & 0.5927569 & 0.6956522 & 0.39024390 & 0.50000000\\\\\n\t503 & 0.5579322 & 0.7083333 & 0.41463415 & 0.52307692\\\\\n\t450 & 0.5575003 & 0.7200000 & 0.43902439 & 0.54545455\\\\\n\t463 & 0.5559750 & 0.7307692 & 0.46341463 & 0.56716418\\\\\n\t360 & 0.5491245 & 0.7037037 & 0.46341463 & 0.55882353\\\\\n\t592 & 0.5473253 & 0.7142857 & 0.48780488 & 0.57971014\\\\\n\t426 & 0.5423453 & 0.7241379 & 0.51219512 & 0.60000000\\\\\n\t⋮ & ⋮ & ⋮ & ⋮ & ⋮\\\\\n\t388 & 0.015401732 & 0.2228261 & 1 & 0.3644444\\\\\n\t351 & 0.015201121 & 0.2216216 & 1 & 0.3628319\\\\\n\t569 & 0.013752205 & 0.2204301 & 1 & 0.3612335\\\\\n\t47 & 0.012533864 & 0.2192513 & 1 & 0.3596491\\\\\n\t251 & 0.012415612 & 0.2180851 & 1 & 0.3580786\\\\\n\t546 & 0.011809863 & 0.2169312 & 1 & 0.3565217\\\\\n\t852 & 0.011565802 & 0.2157895 & 1 & 0.3549784\\\\\n\t80 & 0.010112445 & 0.2146597 & 1 & 0.3534483\\\\\n\t75 & 0.009985445 & 0.2135417 & 1 & 0.3519313\\\\\n\t844 & 0.009858995 & 0.2124352 & 1 & 0.3504274\\\\\n\t657 & 0.009799923 & 0.2113402 & 1 & 0.3489362\\\\\n\t59 & 0.008526888 & 0.2102564 & 1 & 0.3474576\\\\\n\t540 & 0.008517558 & 0.2091837 & 1 & 0.3459916\\\\\n\t681 & 0.006612045 & 0.2081218 & 1 & 0.3445378\\\\\n\t429 & 0.005360516 & 0.2070707 & 1 & 0.3430962\\\\\n\t667 & 0.005196752 & 0.2060302 & 1 & 0.3416667\\\\\n\t289 & 0.005020180 & 0.2050000 & 1 & 0.3402490\\\\\n\t579 & 0.003909951 & 0.2039801 & 1 & 0.3388430\\\\\n\t646 & 0.003759901 & 0.2029703 & 1 & 0.3374486\\\\\n\t257 & 0.003592390 & 0.2019704 & 1 & 0.3360656\\\\\n\t800 & 0.003491806 & 0.2009804 & 1 & 0.3346939\\\\\n\t323 & 0.003145152 & 0.2000000 & 1 & 0.3333333\\\\\n\t412 & 0.002614314 & 0.1990291 & 1 & 0.3319838\\\\\n\t730 & 0.002528956 & 0.1980676 & 1 & 0.3306452\\\\\n\t752 & 0.002400879 & 0.1971154 & 1 & 0.3293173\\\\\n\t18 & 0.002198848 & 0.1961722 & 1 & 0.3280000\\\\\n\t530 & 0.002046791 & 0.1952381 & 1 & 0.3266932\\\\\n\t714 & 0.001761253 & 0.1943128 & 1 & 0.3253968\\\\\n\t564 & 0.001727422 & 0.1933962 & 1 & 0.3241107\\\\\n\t751 & 0.001310656 & 0.1924883 & 1 & 0.3228346\\\\\n\\end{tabular}\n",
            "text/plain": [
              "    cutoffs     precisions recalls    fscores   \n",
              "          Inf         NaN  0.00000000        NaN\n",
              "374 0.9989969   1.0000000  0.02439024 0.04761905\n",
              "805 0.9907266   1.0000000  0.04878049 0.09302326\n",
              "468 0.9551019   1.0000000  0.07317073 0.13636364\n",
              "344 0.9538976   1.0000000  0.09756098 0.17777778\n",
              "90  0.9422966   1.0000000  0.12195122 0.21739130\n",
              "95  0.8995960   1.0000000  0.14634146 0.25531915\n",
              "608 0.8988386   1.0000000  0.17073171 0.29166667\n",
              "694 0.8728423   1.0000000  0.19512195 0.32653061\n",
              "566 0.8540234   1.0000000  0.21951220 0.36000000\n",
              "416 0.8339519   1.0000000  0.24390244 0.39215686\n",
              "10  0.8247943   0.9090909  0.24390244 0.38461538\n",
              "466 0.7801498   0.8333333  0.24390244 0.37735849\n",
              "9   0.7771946   0.8461538  0.26829268 0.40740741\n",
              "200 0.7748867   0.8571429  0.29268293 0.43636364\n",
              "298 0.7435101   0.8000000  0.29268293 0.42857143\n",
              "224 0.7324973   0.8125000  0.31707317 0.45614035\n",
              "570 0.7102733   0.8235294  0.34146341 0.48275862\n",
              "352 0.6927331   0.7777778  0.34146341 0.47457627\n",
              "70  0.6805205   0.7894737  0.36585366 0.50000000\n",
              "791 0.6764939   0.7500000  0.36585366 0.49180328\n",
              "734 0.5976775   0.7142857  0.36585366 0.48387097\n",
              "631 0.5968616   0.6818182  0.36585366 0.47619048\n",
              "785 0.5927569   0.6956522  0.39024390 0.50000000\n",
              "503 0.5579322   0.7083333  0.41463415 0.52307692\n",
              "450 0.5575003   0.7200000  0.43902439 0.54545455\n",
              "463 0.5559750   0.7307692  0.46341463 0.56716418\n",
              "360 0.5491245   0.7037037  0.46341463 0.55882353\n",
              "592 0.5473253   0.7142857  0.48780488 0.57971014\n",
              "426 0.5423453   0.7241379  0.51219512 0.60000000\n",
              "⋮   ⋮           ⋮          ⋮          ⋮         \n",
              "388 0.015401732 0.2228261  1          0.3644444 \n",
              "351 0.015201121 0.2216216  1          0.3628319 \n",
              "569 0.013752205 0.2204301  1          0.3612335 \n",
              "47  0.012533864 0.2192513  1          0.3596491 \n",
              "251 0.012415612 0.2180851  1          0.3580786 \n",
              "546 0.011809863 0.2169312  1          0.3565217 \n",
              "852 0.011565802 0.2157895  1          0.3549784 \n",
              "80  0.010112445 0.2146597  1          0.3534483 \n",
              "75  0.009985445 0.2135417  1          0.3519313 \n",
              "844 0.009858995 0.2124352  1          0.3504274 \n",
              "657 0.009799923 0.2113402  1          0.3489362 \n",
              "59  0.008526888 0.2102564  1          0.3474576 \n",
              "540 0.008517558 0.2091837  1          0.3459916 \n",
              "681 0.006612045 0.2081218  1          0.3445378 \n",
              "429 0.005360516 0.2070707  1          0.3430962 \n",
              "667 0.005196752 0.2060302  1          0.3416667 \n",
              "289 0.005020180 0.2050000  1          0.3402490 \n",
              "579 0.003909951 0.2039801  1          0.3388430 \n",
              "646 0.003759901 0.2029703  1          0.3374486 \n",
              "257 0.003592390 0.2019704  1          0.3360656 \n",
              "800 0.003491806 0.2009804  1          0.3346939 \n",
              "323 0.003145152 0.2000000  1          0.3333333 \n",
              "412 0.002614314 0.1990291  1          0.3319838 \n",
              "730 0.002528956 0.1980676  1          0.3306452 \n",
              "752 0.002400879 0.1971154  1          0.3293173 \n",
              "18  0.002198848 0.1961722  1          0.3280000 \n",
              "530 0.002046791 0.1952381  1          0.3266932 \n",
              "714 0.001761253 0.1943128  1          0.3253968 \n",
              "564 0.001727422 0.1933962  1          0.3241107 \n",
              "751 0.001310656 0.1924883  1          0.3228346 "
            ]
          },
          "metadata": {}
        }
      ]
    },
    {
      "cell_type": "code",
      "source": [
        "\n",
        "#ver precisiones versus exhaustividad\n",
        "plot(tablacruce$precisions,tablacruce$recalls)"
      ],
      "metadata": {
        "id": "FT9T1lolB1E_",
        "colab": {
          "base_uri": "https://localhost:8080/",
          "height": 437
        },
        "outputId": "e44bdfe1-600e-4e6e-889d-50b6ed37c591"
      },
      "execution_count": 82,
      "outputs": [
        {
          "output_type": "display_data",
          "data": {
            "text/plain": [
              "plot without title"
            ],
            "image/png": "[encoded data removed]"
          },
          "metadata": {
            "image/png": {
              "width": 420,
              "height": 420
            }
          }
        }
      ]
    },
    {
      "cell_type": "code",
      "source": [
        "#ver el cutoff que maximiza f score\n",
        "ggplot(tablacruce, aes(cutoffs,fscores))+geom_point()\n"
      ],
      "metadata": {
        "id": "EqAiZv7fB57A",
        "colab": {
          "base_uri": "https://localhost:8080/",
          "height": 489
        },
        "outputId": "cadfd44c-3407-43d8-8da7-e970f04db903"
      },
      "execution_count": 83,
      "outputs": [
        {
          "output_type": "stream",
          "name": "stderr",
          "text": [
            "Warning message:\n",
            "“\u001b[1m\u001b[22mRemoved 1 row containing missing values or values outside the scale range\n",
            "(`geom_point()`).”\n"
          ]
        },
        {
          "output_type": "display_data",
          "data": {
            "text/plain": [
              "plot without title"
            ],
            "image/png": "[encoded data removed]"
          },
          "metadata": {
            "image/png": {
              "width": 420,
              "height": 420
            }
          }
        }
      ]
    },
    {
      "cell_type": "code",
      "source": [
        "#calcular las ganancias\n",
        "tablacruce$ganancia<-prop.table(balance)[2]*recalls*(500-(100/precisions))"
      ],
      "metadata": {
        "id": "CqoeihdAEGTj"
      },
      "execution_count": 84,
      "outputs": []
    },
    {
      "cell_type": "code",
      "source": [
        "#pintar las ganancias versus los cutoffs\n",
        "plot(tablacruce$cutoffs,tablacruce$ganancia)"
      ],
      "metadata": {
        "id": "JWgP9E1LEIWL",
        "colab": {
          "base_uri": "https://localhost:8080/",
          "height": 437
        },
        "outputId": "c0a51832-c368-430e-e69f-f702be56c463"
      },
      "execution_count": 85,
      "outputs": [
        {
          "output_type": "display_data",
          "data": {
            "text/plain": [
              "plot without title"
            ],
            "image/png": "[encoded data removed]"
          },
          "metadata": {
            "image/png": {
              "width": 420,
              "height": 420
            }
          }
        }
      ]
    },
    {
      "cell_type": "code",
      "source": [
        "#ver las ganancias frente a la precisión\n",
        "plot(tablacruce$precisions,tablacruce$ganancia)"
      ],
      "metadata": {
        "id": "karZboK8EIbE",
        "colab": {
          "base_uri": "https://localhost:8080/",
          "height": 437
        },
        "outputId": "1b94669b-0f0b-4aa2-a43a-ae230041208e"
      },
      "execution_count": 86,
      "outputs": [
        {
          "output_type": "display_data",
          "data": {
            "text/plain": [
              "plot without title"
            ],
            "image/png": "[encoded data removed]"
          },
          "metadata": {
            "image/png": {
              "width": 420,
              "height": 420
            }
          }
        }
      ]
    },
    {
      "cell_type": "markdown",
      "source": [
        "La primera gráfica nos muestra la relación inversa entre precisiones y exhaustividades.\n",
        "\n",
        "La segunda gráfica nos presenta las ganancias (por cliente) contra los puntos de corte, de modo que podemos escoger un punto de corte ideal, el cual está cercano al 0.40, de hecho en la base de datos es 0.3965.\n",
        "\n",
        "La tercera gráfica nos muestra la relación de ganancias con precisones, donde es visible que no necesariamente la mayor precisión lleva a la mejor ganancia (por su baja exhaustividad)\n",
        "\n",
        "Por supuesto, estos resultados dependen de la definición de ganancias y pérdidas. Si el costo de un cliente que incumple, por ejemplo, es del 70% frente a la ganancia que puede traer un cliente cumplido, entonces la precisión actual no es suficiente y debemos cambiar el punto de corte o buscar un balanceo de la base de datos que permita realizar mejores predicciones de incumplidos."
      ],
      "metadata": {
        "id": "vot-VW5aM7Lw"
      }
    },
    {
      "cell_type": "code",
      "source": [
        "tablaver<-subset(tablacruce, tablacruce$cutoffs>0.2 & tablacruce$cutoffs<0.6)\n",
        "View(tablaver)"
      ],
      "metadata": {
        "colab": {
          "base_uri": "https://localhost:8080/",
          "height": 1000
        },
        "id": "NgAkHvk4TdiG",
        "outputId": "49e0e89e-4a5b-4001-d4b5-e82264cb0eaf"
      },
      "execution_count": 87,
      "outputs": [
        {
          "output_type": "display_data",
          "data": {
            "text/plain": [
              "    cutoffs   precisions recalls   fscores   ganancia\n",
              "734 0.5976775 0.7142857  0.3658537 0.4838710 29.83511\n",
              "631 0.5968616 0.6818182  0.3658537 0.4761905 29.28261\n",
              "785 0.5927569 0.6956522  0.3902439 0.5000000 31.49261\n",
              "503 0.5579322 0.7083333  0.4146341 0.5230769 33.70262\n",
              "450 0.5575003 0.7200000  0.4390244 0.5454545 35.91263\n",
              "463 0.5559750 0.7307692  0.4634146 0.5671642 38.12264\n",
              "360 0.5491245 0.7037037  0.4634146 0.5588235 37.57014\n",
              "592 0.5473253 0.7142857  0.4878049 0.5797101 39.78014\n",
              "426 0.5423453 0.7241379  0.5121951 0.6000000 41.99015\n",
              "88  0.5370607 0.7000000  0.5121951 0.5915493 41.43765\n",
              "621 0.5293824 0.6774194  0.5121951 0.5833333 40.88515\n",
              "155 0.5010202 0.6562500  0.5121951 0.5753425 40.33265\n",
              "635 0.4898712 0.6666667  0.5365854 0.5945946 42.54265\n",
              "478 0.4834953 0.6764706  0.5609756 0.6133333 44.75266\n",
              "269 0.4739807 0.6571429  0.5609756 0.6052632 44.20016\n",
              "188 0.4689971 0.6388889  0.5609756 0.5974026 43.64766\n",
              "113 0.4550725 0.6216216  0.5609756 0.5897436 43.09516\n",
              "227 0.4521070 0.6052632  0.5609756 0.5822785 42.54265\n",
              "459 0.4348180 0.5897436  0.5609756 0.5750000 41.99015\n",
              "165 0.4319856 0.6000000  0.5853659 0.5925926 44.20016\n",
              "142 0.4276416 0.6097561  0.6097561 0.6097561 46.41017\n",
              "761 0.4218537 0.5952381  0.6097561 0.6024096 45.85767\n",
              "415 0.4213042 0.6046512  0.6341463 0.6190476 48.06767\n",
              "720 0.4119315 0.5909091  0.6341463 0.6117647 47.51517\n",
              "32  0.4105493 0.5777778  0.6341463 0.6046512 46.96267\n",
              "63  0.4006484 0.5652174  0.6341463 0.5977011 46.41017\n",
              "401 0.3965604 0.5744681  0.6585366 0.6136364 48.62018\n",
              "460 0.3919429 0.5625000  0.6585366 0.6067416 48.06767\n",
              "363 0.3906696 0.5510204  0.6585366 0.6000000 47.51517\n",
              "14  0.3818248 0.5400000  0.6585366 0.5934066 46.96267\n",
              "⋮   ⋮         ⋮          ⋮         ⋮         ⋮       \n",
              "600 0.3234047 0.4754098  0.7073171 0.5686275 46.41017\n",
              "337 0.3199807 0.4677419  0.7073171 0.5631068 45.85767\n",
              "522 0.3123740 0.4603175  0.7073171 0.5576923 45.30516\n",
              "778 0.3091984 0.4531250  0.7073171 0.5523810 44.75266\n",
              "297 0.3061937 0.4461538  0.7073171 0.5471698 44.20016\n",
              "544 0.2985797 0.4393939  0.7073171 0.5420561 43.64766\n",
              "94  0.2956630 0.4477612  0.7317073 0.5555556 45.85767\n",
              "580 0.2880196 0.4411765  0.7317073 0.5504587 45.30516\n",
              "618 0.2876388 0.4492754  0.7560976 0.5636364 47.51517\n",
              "147 0.2861787 0.4428571  0.7560976 0.5585586 46.96267\n",
              "64  0.2847625 0.4366197  0.7560976 0.5535714 46.41017\n",
              "163 0.2811004 0.4444444  0.7804878 0.5663717 48.62018\n",
              "38  0.2809988 0.4383562  0.7804878 0.5614035 48.06767\n",
              "475 0.2790623 0.4324324  0.7804878 0.5565217 47.51517\n",
              "756 0.2755794 0.4266667  0.7804878 0.5517241 46.96267\n",
              "204 0.2724035 0.4210526  0.7804878 0.5470085 46.41017\n",
              "23  0.2717812 0.4155844  0.7804878 0.5423729 45.85767\n",
              "666 0.2708504 0.4102564  0.7804878 0.5378151 45.30516\n",
              "244 0.2681977 0.4050633  0.7804878 0.5333333 44.75266\n",
              "830 0.2681468 0.4000000  0.7804878 0.5289256 44.20016\n",
              "394 0.2677162 0.3950617  0.7804878 0.5245902 43.64766\n",
              "529 0.2650632 0.3902439  0.7804878 0.5203252 43.09516\n",
              "683 0.2626874 0.3975904  0.8048780 0.5322581 45.30516\n",
              "662 0.2580100 0.3928571  0.8048780 0.5280000 44.75266\n",
              "76  0.2516685 0.3882353  0.8048780 0.5238095 44.20016\n",
              "237 0.2306625 0.3837209  0.8048780 0.5196850 43.64766\n",
              "78  0.2292527 0.3793103  0.8048780 0.5156250 43.09516\n",
              "172 0.2079916 0.3750000  0.8048780 0.5116279 42.54265\n",
              "314 0.2047164 0.3707865  0.8048780 0.5076923 41.99015\n",
              "231 0.2011055 0.3666667  0.8048780 0.5038168 41.43765"
            ],
            "text/html": [
              "<table class=\"dataframe\">\n",
              "<caption>A data.frame: 70 × 5</caption>\n",
              "<thead>\n",
              "\t<tr><th></th><th scope=col>cutoffs</th><th scope=col>precisions</th><th scope=col>recalls</th><th scope=col>fscores</th><th scope=col>ganancia</th></tr>\n",
              "\t<tr><th></th><th scope=col>&lt;dbl&gt;</th><th scope=col>&lt;dbl&gt;</th><th scope=col>&lt;dbl&gt;</th><th scope=col>&lt;dbl&gt;</th><th scope=col>&lt;dbl&gt;</th></tr>\n",
              "</thead>\n",
              "<tbody>\n",
              "\t<tr><th scope=row>734</th><td>0.5976775</td><td>0.7142857</td><td>0.3658537</td><td>0.4838710</td><td>29.83511</td></tr>\n",
              "\t<tr><th scope=row>631</th><td>0.5968616</td><td>0.6818182</td><td>0.3658537</td><td>0.4761905</td><td>29.28261</td></tr>\n",
              "\t<tr><th scope=row>785</th><td>0.5927569</td><td>0.6956522</td><td>0.3902439</td><td>0.5000000</td><td>31.49261</td></tr>\n",
              "\t<tr><th scope=row>503</th><td>0.5579322</td><td>0.7083333</td><td>0.4146341</td><td>0.5230769</td><td>33.70262</td></tr>\n",
              "\t<tr><th scope=row>450</th><td>0.5575003</td><td>0.7200000</td><td>0.4390244</td><td>0.5454545</td><td>35.91263</td></tr>\n",
              "\t<tr><th scope=row>463</th><td>0.5559750</td><td>0.7307692</td><td>0.4634146</td><td>0.5671642</td><td>38.12264</td></tr>\n",
              "\t<tr><th scope=row>360</th><td>0.5491245</td><td>0.7037037</td><td>0.4634146</td><td>0.5588235</td><td>37.57014</td></tr>\n",
              "\t<tr><th scope=row>592</th><td>0.5473253</td><td>0.7142857</td><td>0.4878049</td><td>0.5797101</td><td>39.78014</td></tr>\n",
              "\t<tr><th scope=row>426</th><td>0.5423453</td><td>0.7241379</td><td>0.5121951</td><td>0.6000000</td><td>41.99015</td></tr>\n",
              "\t<tr><th scope=row>88</th><td>0.5370607</td><td>0.7000000</td><td>0.5121951</td><td>0.5915493</td><td>41.43765</td></tr>\n",
              "\t<tr><th scope=row>621</th><td>0.5293824</td><td>0.6774194</td><td>0.5121951</td><td>0.5833333</td><td>40.88515</td></tr>\n",
              "\t<tr><th scope=row>155</th><td>0.5010202</td><td>0.6562500</td><td>0.5121951</td><td>0.5753425</td><td>40.33265</td></tr>\n",
              "\t<tr><th scope=row>635</th><td>0.4898712</td><td>0.6666667</td><td>0.5365854</td><td>0.5945946</td><td>42.54265</td></tr>\n",
              "\t<tr><th scope=row>478</th><td>0.4834953</td><td>0.6764706</td><td>0.5609756</td><td>0.6133333</td><td>44.75266</td></tr>\n",
              "\t<tr><th scope=row>269</th><td>0.4739807</td><td>0.6571429</td><td>0.5609756</td><td>0.6052632</td><td>44.20016</td></tr>\n",
              "\t<tr><th scope=row>188</th><td>0.4689971</td><td>0.6388889</td><td>0.5609756</td><td>0.5974026</td><td>43.64766</td></tr>\n",
              "\t<tr><th scope=row>113</th><td>0.4550725</td><td>0.6216216</td><td>0.5609756</td><td>0.5897436</td><td>43.09516</td></tr>\n",
              "\t<tr><th scope=row>227</th><td>0.4521070</td><td>0.6052632</td><td>0.5609756</td><td>0.5822785</td><td>42.54265</td></tr>\n",
              "\t<tr><th scope=row>459</th><td>0.4348180</td><td>0.5897436</td><td>0.5609756</td><td>0.5750000</td><td>41.99015</td></tr>\n",
              "\t<tr><th scope=row>165</th><td>0.4319856</td><td>0.6000000</td><td>0.5853659</td><td>0.5925926</td><td>44.20016</td></tr>\n",
              "\t<tr><th scope=row>142</th><td>0.4276416</td><td>0.6097561</td><td>0.6097561</td><td>0.6097561</td><td>46.41017</td></tr>\n",
              "\t<tr><th scope=row>761</th><td>0.4218537</td><td>0.5952381</td><td>0.6097561</td><td>0.6024096</td><td>45.85767</td></tr>\n",
              "\t<tr><th scope=row>415</th><td>0.4213042</td><td>0.6046512</td><td>0.6341463</td><td>0.6190476</td><td>48.06767</td></tr>\n",
              "\t<tr><th scope=row>720</th><td>0.4119315</td><td>0.5909091</td><td>0.6341463</td><td>0.6117647</td><td>47.51517</td></tr>\n",
              "\t<tr><th scope=row>32</th><td>0.4105493</td><td>0.5777778</td><td>0.6341463</td><td>0.6046512</td><td>46.96267</td></tr>\n",
              "\t<tr><th scope=row>63</th><td>0.4006484</td><td>0.5652174</td><td>0.6341463</td><td>0.5977011</td><td>46.41017</td></tr>\n",
              "\t<tr><th scope=row>401</th><td>0.3965604</td><td>0.5744681</td><td>0.6585366</td><td>0.6136364</td><td>48.62018</td></tr>\n",
              "\t<tr><th scope=row>460</th><td>0.3919429</td><td>0.5625000</td><td>0.6585366</td><td>0.6067416</td><td>48.06767</td></tr>\n",
              "\t<tr><th scope=row>363</th><td>0.3906696</td><td>0.5510204</td><td>0.6585366</td><td>0.6000000</td><td>47.51517</td></tr>\n",
              "\t<tr><th scope=row>14</th><td>0.3818248</td><td>0.5400000</td><td>0.6585366</td><td>0.5934066</td><td>46.96267</td></tr>\n",
              "\t<tr><th scope=row>⋮</th><td>⋮</td><td>⋮</td><td>⋮</td><td>⋮</td><td>⋮</td></tr>\n",
              "\t<tr><th scope=row>600</th><td>0.3234047</td><td>0.4754098</td><td>0.7073171</td><td>0.5686275</td><td>46.41017</td></tr>\n",
              "\t<tr><th scope=row>337</th><td>0.3199807</td><td>0.4677419</td><td>0.7073171</td><td>0.5631068</td><td>45.85767</td></tr>\n",
              "\t<tr><th scope=row>522</th><td>0.3123740</td><td>0.4603175</td><td>0.7073171</td><td>0.5576923</td><td>45.30516</td></tr>\n",
              "\t<tr><th scope=row>778</th><td>0.3091984</td><td>0.4531250</td><td>0.7073171</td><td>0.5523810</td><td>44.75266</td></tr>\n",
              "\t<tr><th scope=row>297</th><td>0.3061937</td><td>0.4461538</td><td>0.7073171</td><td>0.5471698</td><td>44.20016</td></tr>\n",
              "\t<tr><th scope=row>544</th><td>0.2985797</td><td>0.4393939</td><td>0.7073171</td><td>0.5420561</td><td>43.64766</td></tr>\n",
              "\t<tr><th scope=row>94</th><td>0.2956630</td><td>0.4477612</td><td>0.7317073</td><td>0.5555556</td><td>45.85767</td></tr>\n",
              "\t<tr><th scope=row>580</th><td>0.2880196</td><td>0.4411765</td><td>0.7317073</td><td>0.5504587</td><td>45.30516</td></tr>\n",
              "\t<tr><th scope=row>618</th><td>0.2876388</td><td>0.4492754</td><td>0.7560976</td><td>0.5636364</td><td>47.51517</td></tr>\n",
              "\t<tr><th scope=row>147</th><td>0.2861787</td><td>0.4428571</td><td>0.7560976</td><td>0.5585586</td><td>46.96267</td></tr>\n",
              "\t<tr><th scope=row>64</th><td>0.2847625</td><td>0.4366197</td><td>0.7560976</td><td>0.5535714</td><td>46.41017</td></tr>\n",
              "\t<tr><th scope=row>163</th><td>0.2811004</td><td>0.4444444</td><td>0.7804878</td><td>0.5663717</td><td>48.62018</td></tr>\n",
              "\t<tr><th scope=row>38</th><td>0.2809988</td><td>0.4383562</td><td>0.7804878</td><td>0.5614035</td><td>48.06767</td></tr>\n",
              "\t<tr><th scope=row>475</th><td>0.2790623</td><td>0.4324324</td><td>0.7804878</td><td>0.5565217</td><td>47.51517</td></tr>\n",
              "\t<tr><th scope=row>756</th><td>0.2755794</td><td>0.4266667</td><td>0.7804878</td><td>0.5517241</td><td>46.96267</td></tr>\n",
              "\t<tr><th scope=row>204</th><td>0.2724035</td><td>0.4210526</td><td>0.7804878</td><td>0.5470085</td><td>46.41017</td></tr>\n",
              "\t<tr><th scope=row>23</th><td>0.2717812</td><td>0.4155844</td><td>0.7804878</td><td>0.5423729</td><td>45.85767</td></tr>\n",
              "\t<tr><th scope=row>666</th><td>0.2708504</td><td>0.4102564</td><td>0.7804878</td><td>0.5378151</td><td>45.30516</td></tr>\n",
              "\t<tr><th scope=row>244</th><td>0.2681977</td><td>0.4050633</td><td>0.7804878</td><td>0.5333333</td><td>44.75266</td></tr>\n",
              "\t<tr><th scope=row>830</th><td>0.2681468</td><td>0.4000000</td><td>0.7804878</td><td>0.5289256</td><td>44.20016</td></tr>\n",
              "\t<tr><th scope=row>394</th><td>0.2677162</td><td>0.3950617</td><td>0.7804878</td><td>0.5245902</td><td>43.64766</td></tr>\n",
              "\t<tr><th scope=row>529</th><td>0.2650632</td><td>0.3902439</td><td>0.7804878</td><td>0.5203252</td><td>43.09516</td></tr>\n",
              "\t<tr><th scope=row>683</th><td>0.2626874</td><td>0.3975904</td><td>0.8048780</td><td>0.5322581</td><td>45.30516</td></tr>\n",
              "\t<tr><th scope=row>662</th><td>0.2580100</td><td>0.3928571</td><td>0.8048780</td><td>0.5280000</td><td>44.75266</td></tr>\n",
              "\t<tr><th scope=row>76</th><td>0.2516685</td><td>0.3882353</td><td>0.8048780</td><td>0.5238095</td><td>44.20016</td></tr>\n",
              "\t<tr><th scope=row>237</th><td>0.2306625</td><td>0.3837209</td><td>0.8048780</td><td>0.5196850</td><td>43.64766</td></tr>\n",
              "\t<tr><th scope=row>78</th><td>0.2292527</td><td>0.3793103</td><td>0.8048780</td><td>0.5156250</td><td>43.09516</td></tr>\n",
              "\t<tr><th scope=row>172</th><td>0.2079916</td><td>0.3750000</td><td>0.8048780</td><td>0.5116279</td><td>42.54265</td></tr>\n",
              "\t<tr><th scope=row>314</th><td>0.2047164</td><td>0.3707865</td><td>0.8048780</td><td>0.5076923</td><td>41.99015</td></tr>\n",
              "\t<tr><th scope=row>231</th><td>0.2011055</td><td>0.3666667</td><td>0.8048780</td><td>0.5038168</td><td>41.43765</td></tr>\n",
              "</tbody>\n",
              "</table>\n"
            ],
            "text/markdown": "\nA data.frame: 70 × 5\n\n| <!--/--> | cutoffs &lt;dbl&gt; | precisions &lt;dbl&gt; | recalls &lt;dbl&gt; | fscores &lt;dbl&gt; | ganancia &lt;dbl&gt; |\n|---|---|---|---|---|---|\n| 734 | 0.5976775 | 0.7142857 | 0.3658537 | 0.4838710 | 29.83511 |\n| 631 | 0.5968616 | 0.6818182 | 0.3658537 | 0.4761905 | 29.28261 |\n| 785 | 0.5927569 | 0.6956522 | 0.3902439 | 0.5000000 | 31.49261 |\n| 503 | 0.5579322 | 0.7083333 | 0.4146341 | 0.5230769 | 33.70262 |\n| 450 | 0.5575003 | 0.7200000 | 0.4390244 | 0.5454545 | 35.91263 |\n| 463 | 0.5559750 | 0.7307692 | 0.4634146 | 0.5671642 | 38.12264 |\n| 360 | 0.5491245 | 0.7037037 | 0.4634146 | 0.5588235 | 37.57014 |\n| 592 | 0.5473253 | 0.7142857 | 0.4878049 | 0.5797101 | 39.78014 |\n| 426 | 0.5423453 | 0.7241379 | 0.5121951 | 0.6000000 | 41.99015 |\n| 88 | 0.5370607 | 0.7000000 | 0.5121951 | 0.5915493 | 41.43765 |\n| 621 | 0.5293824 | 0.6774194 | 0.5121951 | 0.5833333 | 40.88515 |\n| 155 | 0.5010202 | 0.6562500 | 0.5121951 | 0.5753425 | 40.33265 |\n| 635 | 0.4898712 | 0.6666667 | 0.5365854 | 0.5945946 | 42.54265 |\n| 478 | 0.4834953 | 0.6764706 | 0.5609756 | 0.6133333 | 44.75266 |\n| 269 | 0.4739807 | 0.6571429 | 0.5609756 | 0.6052632 | 44.20016 |\n| 188 | 0.4689971 | 0.6388889 | 0.5609756 | 0.5974026 | 43.64766 |\n| 113 | 0.4550725 | 0.6216216 | 0.5609756 | 0.5897436 | 43.09516 |\n| 227 | 0.4521070 | 0.6052632 | 0.5609756 | 0.5822785 | 42.54265 |\n| 459 | 0.4348180 | 0.5897436 | 0.5609756 | 0.5750000 | 41.99015 |\n| 165 | 0.4319856 | 0.6000000 | 0.5853659 | 0.5925926 | 44.20016 |\n| 142 | 0.4276416 | 0.6097561 | 0.6097561 | 0.6097561 | 46.41017 |\n| 761 | 0.4218537 | 0.5952381 | 0.6097561 | 0.6024096 | 45.85767 |\n| 415 | 0.4213042 | 0.6046512 | 0.6341463 | 0.6190476 | 48.06767 |\n| 720 | 0.4119315 | 0.5909091 | 0.6341463 | 0.6117647 | 47.51517 |\n| 32 | 0.4105493 | 0.5777778 | 0.6341463 | 0.6046512 | 46.96267 |\n| 63 | 0.4006484 | 0.5652174 | 0.6341463 | 0.5977011 | 46.41017 |\n| 401 | 0.3965604 | 0.5744681 | 0.6585366 | 0.6136364 | 48.62018 |\n| 460 | 0.3919429 | 0.5625000 | 0.6585366 | 0.6067416 | 48.06767 |\n| 363 | 0.3906696 | 0.5510204 | 0.6585366 | 0.6000000 | 47.51517 |\n| 14 | 0.3818248 | 0.5400000 | 0.6585366 | 0.5934066 | 46.96267 |\n| ⋮ | ⋮ | ⋮ | ⋮ | ⋮ | ⋮ |\n| 600 | 0.3234047 | 0.4754098 | 0.7073171 | 0.5686275 | 46.41017 |\n| 337 | 0.3199807 | 0.4677419 | 0.7073171 | 0.5631068 | 45.85767 |\n| 522 | 0.3123740 | 0.4603175 | 0.7073171 | 0.5576923 | 45.30516 |\n| 778 | 0.3091984 | 0.4531250 | 0.7073171 | 0.5523810 | 44.75266 |\n| 297 | 0.3061937 | 0.4461538 | 0.7073171 | 0.5471698 | 44.20016 |\n| 544 | 0.2985797 | 0.4393939 | 0.7073171 | 0.5420561 | 43.64766 |\n| 94 | 0.2956630 | 0.4477612 | 0.7317073 | 0.5555556 | 45.85767 |\n| 580 | 0.2880196 | 0.4411765 | 0.7317073 | 0.5504587 | 45.30516 |\n| 618 | 0.2876388 | 0.4492754 | 0.7560976 | 0.5636364 | 47.51517 |\n| 147 | 0.2861787 | 0.4428571 | 0.7560976 | 0.5585586 | 46.96267 |\n| 64 | 0.2847625 | 0.4366197 | 0.7560976 | 0.5535714 | 46.41017 |\n| 163 | 0.2811004 | 0.4444444 | 0.7804878 | 0.5663717 | 48.62018 |\n| 38 | 0.2809988 | 0.4383562 | 0.7804878 | 0.5614035 | 48.06767 |\n| 475 | 0.2790623 | 0.4324324 | 0.7804878 | 0.5565217 | 47.51517 |\n| 756 | 0.2755794 | 0.4266667 | 0.7804878 | 0.5517241 | 46.96267 |\n| 204 | 0.2724035 | 0.4210526 | 0.7804878 | 0.5470085 | 46.41017 |\n| 23 | 0.2717812 | 0.4155844 | 0.7804878 | 0.5423729 | 45.85767 |\n| 666 | 0.2708504 | 0.4102564 | 0.7804878 | 0.5378151 | 45.30516 |\n| 244 | 0.2681977 | 0.4050633 | 0.7804878 | 0.5333333 | 44.75266 |\n| 830 | 0.2681468 | 0.4000000 | 0.7804878 | 0.5289256 | 44.20016 |\n| 394 | 0.2677162 | 0.3950617 | 0.7804878 | 0.5245902 | 43.64766 |\n| 529 | 0.2650632 | 0.3902439 | 0.7804878 | 0.5203252 | 43.09516 |\n| 683 | 0.2626874 | 0.3975904 | 0.8048780 | 0.5322581 | 45.30516 |\n| 662 | 0.2580100 | 0.3928571 | 0.8048780 | 0.5280000 | 44.75266 |\n| 76 | 0.2516685 | 0.3882353 | 0.8048780 | 0.5238095 | 44.20016 |\n| 237 | 0.2306625 | 0.3837209 | 0.8048780 | 0.5196850 | 43.64766 |\n| 78 | 0.2292527 | 0.3793103 | 0.8048780 | 0.5156250 | 43.09516 |\n| 172 | 0.2079916 | 0.3750000 | 0.8048780 | 0.5116279 | 42.54265 |\n| 314 | 0.2047164 | 0.3707865 | 0.8048780 | 0.5076923 | 41.99015 |\n| 231 | 0.2011055 | 0.3666667 | 0.8048780 | 0.5038168 | 41.43765 |\n\n",
            "text/latex": "A data.frame: 70 × 5\n\\begin{tabular}{r|lllll}\n  & cutoffs & precisions & recalls & fscores & ganancia\\\\\n  & <dbl> & <dbl> & <dbl> & <dbl> & <dbl>\\\\\n\\hline\n\t734 & 0.5976775 & 0.7142857 & 0.3658537 & 0.4838710 & 29.83511\\\\\n\t631 & 0.5968616 & 0.6818182 & 0.3658537 & 0.4761905 & 29.28261\\\\\n\t785 & 0.5927569 & 0.6956522 & 0.3902439 & 0.5000000 & 31.49261\\\\\n\t503 & 0.5579322 & 0.7083333 & 0.4146341 & 0.5230769 & 33.70262\\\\\n\t450 & 0.5575003 & 0.7200000 & 0.4390244 & 0.5454545 & 35.91263\\\\\n\t463 & 0.5559750 & 0.7307692 & 0.4634146 & 0.5671642 & 38.12264\\\\\n\t360 & 0.5491245 & 0.7037037 & 0.4634146 & 0.5588235 & 37.57014\\\\\n\t592 & 0.5473253 & 0.7142857 & 0.4878049 & 0.5797101 & 39.78014\\\\\n\t426 & 0.5423453 & 0.7241379 & 0.5121951 & 0.6000000 & 41.99015\\\\\n\t88 & 0.5370607 & 0.7000000 & 0.5121951 & 0.5915493 & 41.43765\\\\\n\t621 & 0.5293824 & 0.6774194 & 0.5121951 & 0.5833333 & 40.88515\\\\\n\t155 & 0.5010202 & 0.6562500 & 0.5121951 & 0.5753425 & 40.33265\\\\\n\t635 & 0.4898712 & 0.6666667 & 0.5365854 & 0.5945946 & 42.54265\\\\\n\t478 & 0.4834953 & 0.6764706 & 0.5609756 & 0.6133333 & 44.75266\\\\\n\t269 & 0.4739807 & 0.6571429 & 0.5609756 & 0.6052632 & 44.20016\\\\\n\t188 & 0.4689971 & 0.6388889 & 0.5609756 & 0.5974026 & 43.64766\\\\\n\t113 & 0.4550725 & 0.6216216 & 0.5609756 & 0.5897436 & 43.09516\\\\\n\t227 & 0.4521070 & 0.6052632 & 0.5609756 & 0.5822785 & 42.54265\\\\\n\t459 & 0.4348180 & 0.5897436 & 0.5609756 & 0.5750000 & 41.99015\\\\\n\t165 & 0.4319856 & 0.6000000 & 0.5853659 & 0.5925926 & 44.20016\\\\\n\t142 & 0.4276416 & 0.6097561 & 0.6097561 & 0.6097561 & 46.41017\\\\\n\t761 & 0.4218537 & 0.5952381 & 0.6097561 & 0.6024096 & 45.85767\\\\\n\t415 & 0.4213042 & 0.6046512 & 0.6341463 & 0.6190476 & 48.06767\\\\\n\t720 & 0.4119315 & 0.5909091 & 0.6341463 & 0.6117647 & 47.51517\\\\\n\t32 & 0.4105493 & 0.5777778 & 0.6341463 & 0.6046512 & 46.96267\\\\\n\t63 & 0.4006484 & 0.5652174 & 0.6341463 & 0.5977011 & 46.41017\\\\\n\t401 & 0.3965604 & 0.5744681 & 0.6585366 & 0.6136364 & 48.62018\\\\\n\t460 & 0.3919429 & 0.5625000 & 0.6585366 & 0.6067416 & 48.06767\\\\\n\t363 & 0.3906696 & 0.5510204 & 0.6585366 & 0.6000000 & 47.51517\\\\\n\t14 & 0.3818248 & 0.5400000 & 0.6585366 & 0.5934066 & 46.96267\\\\\n\t⋮ & ⋮ & ⋮ & ⋮ & ⋮ & ⋮\\\\\n\t600 & 0.3234047 & 0.4754098 & 0.7073171 & 0.5686275 & 46.41017\\\\\n\t337 & 0.3199807 & 0.4677419 & 0.7073171 & 0.5631068 & 45.85767\\\\\n\t522 & 0.3123740 & 0.4603175 & 0.7073171 & 0.5576923 & 45.30516\\\\\n\t778 & 0.3091984 & 0.4531250 & 0.7073171 & 0.5523810 & 44.75266\\\\\n\t297 & 0.3061937 & 0.4461538 & 0.7073171 & 0.5471698 & 44.20016\\\\\n\t544 & 0.2985797 & 0.4393939 & 0.7073171 & 0.5420561 & 43.64766\\\\\n\t94 & 0.2956630 & 0.4477612 & 0.7317073 & 0.5555556 & 45.85767\\\\\n\t580 & 0.2880196 & 0.4411765 & 0.7317073 & 0.5504587 & 45.30516\\\\\n\t618 & 0.2876388 & 0.4492754 & 0.7560976 & 0.5636364 & 47.51517\\\\\n\t147 & 0.2861787 & 0.4428571 & 0.7560976 & 0.5585586 & 46.96267\\\\\n\t64 & 0.2847625 & 0.4366197 & 0.7560976 & 0.5535714 & 46.41017\\\\\n\t163 & 0.2811004 & 0.4444444 & 0.7804878 & 0.5663717 & 48.62018\\\\\n\t38 & 0.2809988 & 0.4383562 & 0.7804878 & 0.5614035 & 48.06767\\\\\n\t475 & 0.2790623 & 0.4324324 & 0.7804878 & 0.5565217 & 47.51517\\\\\n\t756 & 0.2755794 & 0.4266667 & 0.7804878 & 0.5517241 & 46.96267\\\\\n\t204 & 0.2724035 & 0.4210526 & 0.7804878 & 0.5470085 & 46.41017\\\\\n\t23 & 0.2717812 & 0.4155844 & 0.7804878 & 0.5423729 & 45.85767\\\\\n\t666 & 0.2708504 & 0.4102564 & 0.7804878 & 0.5378151 & 45.30516\\\\\n\t244 & 0.2681977 & 0.4050633 & 0.7804878 & 0.5333333 & 44.75266\\\\\n\t830 & 0.2681468 & 0.4000000 & 0.7804878 & 0.5289256 & 44.20016\\\\\n\t394 & 0.2677162 & 0.3950617 & 0.7804878 & 0.5245902 & 43.64766\\\\\n\t529 & 0.2650632 & 0.3902439 & 0.7804878 & 0.5203252 & 43.09516\\\\\n\t683 & 0.2626874 & 0.3975904 & 0.8048780 & 0.5322581 & 45.30516\\\\\n\t662 & 0.2580100 & 0.3928571 & 0.8048780 & 0.5280000 & 44.75266\\\\\n\t76 & 0.2516685 & 0.3882353 & 0.8048780 & 0.5238095 & 44.20016\\\\\n\t237 & 0.2306625 & 0.3837209 & 0.8048780 & 0.5196850 & 43.64766\\\\\n\t78 & 0.2292527 & 0.3793103 & 0.8048780 & 0.5156250 & 43.09516\\\\\n\t172 & 0.2079916 & 0.3750000 & 0.8048780 & 0.5116279 & 42.54265\\\\\n\t314 & 0.2047164 & 0.3707865 & 0.8048780 & 0.5076923 & 41.99015\\\\\n\t231 & 0.2011055 & 0.3666667 & 0.8048780 & 0.5038168 & 41.43765\\\\\n\\end{tabular}\n"
          },
          "metadata": {}
        }
      ]
    },
    {
      "cell_type": "code",
      "source": [
        "#crea el pronóstico en validación\n",
        "probtest<-predict(steplogit,newdata = cartera.test,type='response')\n",
        "prontest<-ifelse(probtest > 0.397,1,0)\n",
        "conftest<-confusionMatrix(as.factor(prontest),cartera.test$retrasos, positive = \"1\")\n",
        "conftest"
      ],
      "metadata": {
        "colab": {
          "base_uri": "https://localhost:8080/",
          "height": 486
        },
        "id": "QNHm7qBEg5ob",
        "outputId": "c9df2261-38eb-4e24-b9fd-b88413a6ce75"
      },
      "execution_count": 91,
      "outputs": [
        {
          "output_type": "display_data",
          "data": {
            "text/plain": [
              "Confusion Matrix and Statistics\n",
              "\n",
              "          Reference\n",
              "Prediction   0   1\n",
              "         0 122   7\n",
              "         1  50  34\n",
              "                                          \n",
              "               Accuracy : 0.7324          \n",
              "                 95% CI : (0.6676, 0.7906)\n",
              "    No Information Rate : 0.8075          \n",
              "    P-Value [Acc > NIR] : 0.9971          \n",
              "                                          \n",
              "                  Kappa : 0.3849          \n",
              "                                          \n",
              " Mcnemar's Test P-Value : 2.651e-08       \n",
              "                                          \n",
              "            Sensitivity : 0.8293          \n",
              "            Specificity : 0.7093          \n",
              "         Pos Pred Value : 0.4048          \n",
              "         Neg Pred Value : 0.9457          \n",
              "             Prevalence : 0.1925          \n",
              "         Detection Rate : 0.1596          \n",
              "   Detection Prevalence : 0.3944          \n",
              "      Balanced Accuracy : 0.7693          \n",
              "                                          \n",
              "       'Positive' Class : 1               \n",
              "                                          "
            ]
          },
          "metadata": {}
        }
      ]
    },
    {
      "cell_type": "code",
      "source": [],
      "metadata": {
        "id": "-g_S3V2Bg507"
      },
      "execution_count": null,
      "outputs": []
    }
  ]
}